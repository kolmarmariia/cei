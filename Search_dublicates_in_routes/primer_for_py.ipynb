import numpy as np
import pandas as pd
import geopandas as gpd

# all_routes - таблица с поостановочными трассами
# sites - таблица сайты, есть входящие туда stop_id
# mvns - таблица мвны, есть соответствие trip_id и мвн

matrix_com = pd.merge(all_routes, all_routes, how='inner', on=['mvn'])
matrix_com = matrix_com.sort_values(by = ['mvn','stop_sequence_x', 'stop_sequence_y'])
matrix_com = matrix_com.rename(columns={'stop_sequence_x':'start_stop_sequence', 'stop_id_x':'start_stop_id',
                                        'stop_sequence_y':'end_stop_sequence', 'stop_id_y':'end_stop_id'})
matrix_com = matrix_com.query('start_stop_sequence < end_stop_sequence')
# matrix_com = matrix_com[matrix_com.end_stop_sequence == (matrix_com.start_stop_sequence + 1)]
matrix_com = matrix_com[matrix_com.start_stop_id != matrix_com.end_stop_id]
matrix_com = matrix_com.drop_duplicates(subset=['mvn','start_stop_sequence','end_stop_sequence']).reset_index(drop=True)
matrix_com['one'] = 1
matrix_com

matrix_com = matrix_com\
.merge(sites, how = 'left', left_on = 'start_stop_id', right_on = 'stop_id')\
.merge(sites, how = 'left', left_on = 'end_stop_id', right_on = 'stop_id')\
.drop_duplicates(['mvn', 'site_id_x', 'site_id_y']).reset_index(drop=True)
matrix_com = matrix_com[['mvn', 'site_id_x', 'site_id_y']].merge(mvns, on ='mvn')[['trip_id', 'site_id_x', 'site_id_y']]
# matrix_com

all_persent_df = pd.DataFrame()
persent_df = pd.DataFrame()
for trip_id in tqdm(matrix_com.trip_id.unique()):
    one_trip_id = matrix_com.query('trip_id == @trip_id').reset_index(drop=True)
    for trip_id in matrix_com.trip_id.unique():
        second_trip_id = matrix_com.query('trip_id == @trip_id').reset_index(drop=True)
        connections_dupl = one_trip_id.merge(second_trip_id, how = 'inner', on = ['site_id_x','site_id_y'])
        persent = len(connections_dupl) / len(one_trip_id)
        persent_df = pd.DataFrame()
        persent_df['one_trip_id'] = one_trip_id.trip_id.unique()
        persent_df['second_trip_id'] = second_trip_id.trip_id.unique()
        persent_df['persent'] = persent
        all_persent_df = all_persent_df.append(persent_df).reset_index(drop=True)

all_persent_df = all_persent_df.query('one_trip_id != second_trip_id').sort_values(by = ['one_trip_id', 'persent'], ascending=False).reset_index(drop=True)   
all_persent_df = all_persent_df.merge(mvns[['mvn','trip_id']], how = 'left', left_on = ['one_trip_id'], right_on = ['trip_id'])
all_persent_df = all_persent_df.drop(['trip_id'], axis = 1)
all_persent_df = all_persent_df.merge(mvns[['mvn','trip_id']], how = 'left', left_on = ['second_trip_id'], right_on = ['trip_id'])
all_persent_df = all_persent_df.drop(['trip_id'], axis = 1)
# all_persent_df  