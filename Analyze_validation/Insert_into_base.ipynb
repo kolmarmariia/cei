{
 "cells": [
  {
   "cell_type": "code",
   "execution_count": 1,
   "metadata": {},
   "outputs": [],
   "source": [
    "import sqlalchemy\n",
    "import numpy as np\n",
    "import pandas as pd\n",
    "from sqlalchemy import create_engine, MetaData, Table, Column, Integer, String\n",
    "from datetime import datetime\n",
    "from sqlalchemy import Column, text, create_engine\n",
    "from sqlalchemy.types import TIMESTAMP\n",
    "from sqlalchemy.dialects.mysql import BIGINT\n",
    "from sqlalchemy.ext.declarative import declarative_base\n",
    "from sqlalchemy.orm import sessionmaker\n",
    "import glob"
   ]
  },
  {
   "cell_type": "code",
   "execution_count": 2,
   "metadata": {},
   "outputs": [],
   "source": [
    "path=\"C:\\\\Users\\\\makol\\\\Documents\\\\Python_Scripts\\\\Git\\\\user_scripts\\\\masha_k\\\\Analyze_validation\\\\ngpt\\\\\""
   ]
  },
  {
   "cell_type": "code",
   "execution_count": 3,
   "metadata": {},
   "outputs": [
    {
     "name": "stderr",
     "output_type": "stream",
     "text": [
      "C:\\Users\\makol\\Anaconda3\\lib\\site-packages\\IPython\\core\\interactiveshell.py:3058: DtypeWarning: Columns (7) have mixed types.Specify dtype option on import or set low_memory=False.\n",
      "  interactivity=interactivity, compiler=compiler, result=result)\n"
     ]
    }
   ],
   "source": [
    "df_prom=pd.read_csv(path+'2020.08.07.csv',encoding='windows-1251',sep=',')"
   ]
  },
  {
   "cell_type": "code",
   "execution_count": 4,
   "metadata": {},
   "outputs": [
    {
     "data": {
      "text/html": [
       "<div>\n",
       "<style scoped>\n",
       "    .dataframe tbody tr th:only-of-type {\n",
       "        vertical-align: middle;\n",
       "    }\n",
       "\n",
       "    .dataframe tbody tr th {\n",
       "        vertical-align: top;\n",
       "    }\n",
       "\n",
       "    .dataframe thead th {\n",
       "        text-align: right;\n",
       "    }\n",
       "</style>\n",
       "<table border=\"1\" class=\"dataframe\">\n",
       "  <thead>\n",
       "    <tr style=\"text-align: right;\">\n",
       "      <th></th>\n",
       "      <th>Дата и время поездки</th>\n",
       "      <th>Терминал</th>\n",
       "      <th>Номер билета</th>\n",
       "      <th>Номер кристалла</th>\n",
       "      <th>TCAT</th>\n",
       "      <th>NUM_TRIP</th>\n",
       "      <th>Код Маршрута</th>\n",
       "      <th>Табельный номер</th>\n",
       "      <th>Код предприятия</th>\n",
       "    </tr>\n",
       "  </thead>\n",
       "  <tbody>\n",
       "    <tr>\n",
       "      <th>0</th>\n",
       "      <td>2020-08-07 05:51:34</td>\n",
       "      <td>81129629</td>\n",
       "      <td>18</td>\n",
       "      <td>5D658236</td>\n",
       "      <td>ЕТК</td>\n",
       "      <td>0</td>\n",
       "      <td>11303456789</td>\n",
       "      <td>955</td>\n",
       "      <td>5</td>\n",
       "    </tr>\n",
       "    <tr>\n",
       "      <th>1</th>\n",
       "      <td>2020-08-07 05:52:49</td>\n",
       "      <td>81129629</td>\n",
       "      <td>23</td>\n",
       "      <td>B7C3090E</td>\n",
       "      <td>ЕТК</td>\n",
       "      <td>0</td>\n",
       "      <td>11303456789</td>\n",
       "      <td>955</td>\n",
       "      <td>5</td>\n",
       "    </tr>\n",
       "    <tr>\n",
       "      <th>2</th>\n",
       "      <td>2020-08-07 05:55:42</td>\n",
       "      <td>81129629</td>\n",
       "      <td>31</td>\n",
       "      <td>2DBE8DC1</td>\n",
       "      <td>ЕТК</td>\n",
       "      <td>0</td>\n",
       "      <td>11303456789</td>\n",
       "      <td>955</td>\n",
       "      <td>5</td>\n",
       "    </tr>\n",
       "    <tr>\n",
       "      <th>3</th>\n",
       "      <td>2020-08-07 05:59:20</td>\n",
       "      <td>81129629</td>\n",
       "      <td>38</td>\n",
       "      <td>C18EE623</td>\n",
       "      <td>ЕТК</td>\n",
       "      <td>0</td>\n",
       "      <td>11303456789</td>\n",
       "      <td>955</td>\n",
       "      <td>5</td>\n",
       "    </tr>\n",
       "    <tr>\n",
       "      <th>4</th>\n",
       "      <td>2020-08-07 06:06:34</td>\n",
       "      <td>81129629</td>\n",
       "      <td>48</td>\n",
       "      <td>910FDC23</td>\n",
       "      <td>ЕТК</td>\n",
       "      <td>0</td>\n",
       "      <td>11303456789</td>\n",
       "      <td>955</td>\n",
       "      <td>5</td>\n",
       "    </tr>\n",
       "  </tbody>\n",
       "</table>\n",
       "</div>"
      ],
      "text/plain": [
       "  Дата и время поездки  Терминал  Номер билета Номер кристалла TCAT  NUM_TRIP  \\\n",
       "0  2020-08-07 05:51:34  81129629            18        5D658236  ЕТК         0   \n",
       "1  2020-08-07 05:52:49  81129629            23        B7C3090E  ЕТК         0   \n",
       "2  2020-08-07 05:55:42  81129629            31        2DBE8DC1  ЕТК         0   \n",
       "3  2020-08-07 05:59:20  81129629            38        C18EE623  ЕТК         0   \n",
       "4  2020-08-07 06:06:34  81129629            48        910FDC23  ЕТК         0   \n",
       "\n",
       "   Код Маршрута Табельный номер  Код предприятия  \n",
       "0   11303456789             955                5  \n",
       "1   11303456789             955                5  \n",
       "2   11303456789             955                5  \n",
       "3   11303456789             955                5  \n",
       "4   11303456789             955                5  "
      ]
     },
     "execution_count": 4,
     "metadata": {},
     "output_type": "execute_result"
    }
   ],
   "source": [
    "df_prom.head()"
   ]
  },
  {
   "cell_type": "code",
   "execution_count": 5,
   "metadata": {},
   "outputs": [],
   "source": [
    "df_prom['count']=1"
   ]
  },
  {
   "cell_type": "code",
   "execution_count": 6,
   "metadata": {},
   "outputs": [],
   "source": [
    "df_prom2=pd.DataFrame(df_prom.groupby(['TCAT']).agg({'count': np.sum})).reset_index()"
   ]
  },
  {
   "cell_type": "code",
   "execution_count": 7,
   "metadata": {},
   "outputs": [
    {
     "data": {
      "text/html": [
       "<div>\n",
       "<style scoped>\n",
       "    .dataframe tbody tr th:only-of-type {\n",
       "        vertical-align: middle;\n",
       "    }\n",
       "\n",
       "    .dataframe tbody tr th {\n",
       "        vertical-align: top;\n",
       "    }\n",
       "\n",
       "    .dataframe thead th {\n",
       "        text-align: right;\n",
       "    }\n",
       "</style>\n",
       "<table border=\"1\" class=\"dataframe\">\n",
       "  <thead>\n",
       "    <tr style=\"text-align: right;\">\n",
       "      <th></th>\n",
       "      <th>TCAT</th>\n",
       "      <th>count</th>\n",
       "    </tr>\n",
       "  </thead>\n",
       "  <tbody>\n",
       "    <tr>\n",
       "      <th>0</th>\n",
       "      <td>БАНК</td>\n",
       "      <td>89235</td>\n",
       "    </tr>\n",
       "    <tr>\n",
       "      <th>1</th>\n",
       "      <td>БЕТК</td>\n",
       "      <td>6309</td>\n",
       "    </tr>\n",
       "    <tr>\n",
       "      <th>2</th>\n",
       "      <td>БЕТК ТЛТ</td>\n",
       "      <td>525</td>\n",
       "    </tr>\n",
       "    <tr>\n",
       "      <th>3</th>\n",
       "      <td>БКС</td>\n",
       "      <td>3791</td>\n",
       "    </tr>\n",
       "    <tr>\n",
       "      <th>4</th>\n",
       "      <td>БКШ</td>\n",
       "      <td>1484</td>\n",
       "    </tr>\n",
       "    <tr>\n",
       "      <th>5</th>\n",
       "      <td>БКШ НК</td>\n",
       "      <td>4</td>\n",
       "    </tr>\n",
       "    <tr>\n",
       "      <th>6</th>\n",
       "      <td>ЕТК</td>\n",
       "      <td>21078</td>\n",
       "    </tr>\n",
       "    <tr>\n",
       "      <th>7</th>\n",
       "      <td>КС</td>\n",
       "      <td>5666</td>\n",
       "    </tr>\n",
       "    <tr>\n",
       "      <th>8</th>\n",
       "      <td>КС(льг)</td>\n",
       "      <td>44</td>\n",
       "    </tr>\n",
       "    <tr>\n",
       "      <th>9</th>\n",
       "      <td>КШ</td>\n",
       "      <td>6629</td>\n",
       "    </tr>\n",
       "    <tr>\n",
       "      <th>10</th>\n",
       "      <td>СОЦ</td>\n",
       "      <td>197789</td>\n",
       "    </tr>\n",
       "    <tr>\n",
       "      <th>11</th>\n",
       "      <td>Соц10п</td>\n",
       "      <td>36</td>\n",
       "    </tr>\n",
       "    <tr>\n",
       "      <th>12</th>\n",
       "      <td>ТКС</td>\n",
       "      <td>42</td>\n",
       "    </tr>\n",
       "    <tr>\n",
       "      <th>13</th>\n",
       "      <td>ТКУ</td>\n",
       "      <td>431</td>\n",
       "    </tr>\n",
       "  </tbody>\n",
       "</table>\n",
       "</div>"
      ],
      "text/plain": [
       "        TCAT   count\n",
       "0       БАНК   89235\n",
       "1       БЕТК    6309\n",
       "2   БЕТК ТЛТ     525\n",
       "3        БКС    3791\n",
       "4        БКШ    1484\n",
       "5     БКШ НК       4\n",
       "6        ЕТК   21078\n",
       "7         КС    5666\n",
       "8    КС(льг)      44\n",
       "9         КШ    6629\n",
       "10       СОЦ  197789\n",
       "11    Соц10п      36\n",
       "12       ТКС      42\n",
       "13       ТКУ     431"
      ]
     },
     "execution_count": 7,
     "metadata": {},
     "output_type": "execute_result"
    }
   ],
   "source": [
    "df_prom2"
   ]
  },
  {
   "cell_type": "code",
   "execution_count": 8,
   "metadata": {},
   "outputs": [],
   "source": [
    "df=pd.DataFrame()"
   ]
  },
  {
   "cell_type": "code",
   "execution_count": 9,
   "metadata": {},
   "outputs": [],
   "source": [
    "from sqlalchemy import create_engine\n",
    "\n",
    "engine = create_engine('postgresql://makolesnikova@infraeconomy.com:zahceelaS4aewie7ouyohjoFuphah9Gu@84.201.144.84:54327/cei_samara')"
   ]
  },
  {
   "cell_type": "code",
   "execution_count": 10,
   "metadata": {},
   "outputs": [],
   "source": [
    "meta = MetaData()\n",
    "tableval = Table('validations_validationngptwithbank', meta, autoload=True, autoload_with=engine)\n",
    "conn = engine.connect()\n",
    "Session = sessionmaker(bind = engine)\n",
    "session = Session()"
   ]
  },
  {
   "cell_type": "code",
   "execution_count": 11,
   "metadata": {},
   "outputs": [
    {
     "name": "stderr",
     "output_type": "stream",
     "text": [
      "C:\\Users\\makol\\Anaconda3\\lib\\site-packages\\IPython\\core\\interactiveshell.py:3058: DtypeWarning: Columns (7) have mixed types.Specify dtype option on import or set low_memory=False.\n",
      "  interactivity=interactivity, compiler=compiler, result=result)\n",
      "C:\\Users\\makol\\Anaconda3\\lib\\site-packages\\IPython\\core\\interactiveshell.py:3058: DtypeWarning: Columns (3) have mixed types.Specify dtype option on import or set low_memory=False.\n",
      "  interactivity=interactivity, compiler=compiler, result=result)\n",
      "C:\\Users\\makol\\Anaconda3\\lib\\site-packages\\IPython\\core\\interactiveshell.py:3058: DtypeWarning: Columns (3,7) have mixed types.Specify dtype option on import or set low_memory=False.\n",
      "  interactivity=interactivity, compiler=compiler, result=result)\n"
     ]
    }
   ],
   "source": [
    "for i,f in enumerate(glob.iglob(path+'2020.08*.csv')):\n",
    "    df_prom=(pd.read_csv(f,encoding='windows-1251',sep=','))\n",
    "    #df_prom2=pd.DataFrame(df_prom.groupby(['Код Маршрута']).agg({'count': np.sum})).reset_index()\n",
    "    df=df.append(df_prom)"
   ]
  },
  {
   "cell_type": "code",
   "execution_count": 16,
   "metadata": {},
   "outputs": [
    {
     "data": {
      "text/plain": [
       "9855419"
      ]
     },
     "execution_count": 16,
     "metadata": {},
     "output_type": "execute_result"
    }
   ],
   "source": [
    "len(df)"
   ]
  },
  {
   "cell_type": "code",
   "execution_count": 13,
   "metadata": {},
   "outputs": [],
   "source": [
    "df.columns = ['trip_datetime', 'terminal_id', 'ticket_num', 'crystal_id', 'tcat', 'num_trip', 'val_marsh_id', 'table_num',' carrier_code']"
   ]
  },
  {
   "cell_type": "code",
   "execution_count": 14,
   "metadata": {},
   "outputs": [
    {
     "data": {
      "text/html": [
       "<div>\n",
       "<style scoped>\n",
       "    .dataframe tbody tr th:only-of-type {\n",
       "        vertical-align: middle;\n",
       "    }\n",
       "\n",
       "    .dataframe tbody tr th {\n",
       "        vertical-align: top;\n",
       "    }\n",
       "\n",
       "    .dataframe thead th {\n",
       "        text-align: right;\n",
       "    }\n",
       "</style>\n",
       "<table border=\"1\" class=\"dataframe\">\n",
       "  <thead>\n",
       "    <tr style=\"text-align: right;\">\n",
       "      <th></th>\n",
       "      <th>trip_datetime</th>\n",
       "      <th>terminal_id</th>\n",
       "      <th>ticket_num</th>\n",
       "      <th>crystal_id</th>\n",
       "      <th>tcat</th>\n",
       "      <th>num_trip</th>\n",
       "      <th>val_marsh_id</th>\n",
       "      <th>table_num</th>\n",
       "      <th>carrier_code</th>\n",
       "    </tr>\n",
       "  </thead>\n",
       "  <tbody>\n",
       "    <tr>\n",
       "      <th>0</th>\n",
       "      <td>2020-08-01 06:54:02</td>\n",
       "      <td>81129566</td>\n",
       "      <td>13</td>\n",
       "      <td>E4A5CB2D</td>\n",
       "      <td>ЕТК</td>\n",
       "      <td>0</td>\n",
       "      <td>10103456789</td>\n",
       "      <td>989</td>\n",
       "      <td>5</td>\n",
       "    </tr>\n",
       "    <tr>\n",
       "      <th>1</th>\n",
       "      <td>2020-08-01 07:32:25</td>\n",
       "      <td>81129566</td>\n",
       "      <td>19</td>\n",
       "      <td>A2F1FB36</td>\n",
       "      <td>КС</td>\n",
       "      <td>0</td>\n",
       "      <td>10103456789</td>\n",
       "      <td>989</td>\n",
       "      <td>5</td>\n",
       "    </tr>\n",
       "    <tr>\n",
       "      <th>2</th>\n",
       "      <td>2020-08-01 08:12:16</td>\n",
       "      <td>81129566</td>\n",
       "      <td>44</td>\n",
       "      <td>3E036E36</td>\n",
       "      <td>КС</td>\n",
       "      <td>0</td>\n",
       "      <td>10103456789</td>\n",
       "      <td>989</td>\n",
       "      <td>5</td>\n",
       "    </tr>\n",
       "    <tr>\n",
       "      <th>3</th>\n",
       "      <td>2020-08-01 09:03:03</td>\n",
       "      <td>81129566</td>\n",
       "      <td>76</td>\n",
       "      <td>7DF2E2C1</td>\n",
       "      <td>КС</td>\n",
       "      <td>0</td>\n",
       "      <td>10103456789</td>\n",
       "      <td>989</td>\n",
       "      <td>5</td>\n",
       "    </tr>\n",
       "    <tr>\n",
       "      <th>4</th>\n",
       "      <td>2020-08-01 09:05:33</td>\n",
       "      <td>81129566</td>\n",
       "      <td>77</td>\n",
       "      <td>7D129DD0</td>\n",
       "      <td>КС</td>\n",
       "      <td>0</td>\n",
       "      <td>10103456789</td>\n",
       "      <td>989</td>\n",
       "      <td>5</td>\n",
       "    </tr>\n",
       "  </tbody>\n",
       "</table>\n",
       "</div>"
      ],
      "text/plain": [
       "         trip_datetime  terminal_id  ticket_num crystal_id tcat  num_trip  \\\n",
       "0  2020-08-01 06:54:02     81129566          13   E4A5CB2D  ЕТК         0   \n",
       "1  2020-08-01 07:32:25     81129566          19   A2F1FB36   КС         0   \n",
       "2  2020-08-01 08:12:16     81129566          44   3E036E36   КС         0   \n",
       "3  2020-08-01 09:03:03     81129566          76   7DF2E2C1   КС         0   \n",
       "4  2020-08-01 09:05:33     81129566          77   7D129DD0   КС         0   \n",
       "\n",
       "   val_marsh_id table_num   carrier_code  \n",
       "0   10103456789       989              5  \n",
       "1   10103456789       989              5  \n",
       "2   10103456789       989              5  \n",
       "3   10103456789       989              5  \n",
       "4   10103456789       989              5  "
      ]
     },
     "execution_count": 14,
     "metadata": {},
     "output_type": "execute_result"
    }
   ],
   "source": [
    "df=df.tail(len(df)-)"
   ]
  },
  {
   "cell_type": "code",
   "execution_count": 15,
   "metadata": {},
   "outputs": [],
   "source": [
    "cols = \",\".join([str(i) for i in df.columns.tolist()])\n",
    "\n",
    "# Insert DataFrame recrds one by one.\n",
    "for i,row in df.iterrows():\n",
    "    sql = \"INSERT INTO \\\"validations_validationngptwithbank\\\" (\" +cols + \") VALUES (\" + \"%s,\"*(len(row)-1) + \"%s)\"\n",
    "    conn.execute(sql, tuple(row))\n",
    "\n",
    "    # the connection is not autocommitted by default, so we must commit to save our changes\n",
    "    session.commit()"
   ]
  },
  {
   "cell_type": "code",
   "execution_count": null,
   "metadata": {},
   "outputs": [],
   "source": []
  }
 ],
 "metadata": {
  "kernelspec": {
   "display_name": "Python 3",
   "language": "python",
   "name": "python3"
  },
  "language_info": {
   "codemirror_mode": {
    "name": "ipython",
    "version": 3
   },
   "file_extension": ".py",
   "mimetype": "text/x-python",
   "name": "python",
   "nbconvert_exporter": "python",
   "pygments_lexer": "ipython3",
   "version": "3.8.3"
  }
 },
 "nbformat": 4,
 "nbformat_minor": 2
}
