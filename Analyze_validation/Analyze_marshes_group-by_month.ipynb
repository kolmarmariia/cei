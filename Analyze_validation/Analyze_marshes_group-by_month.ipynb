{
 "cells": [
  {
   "cell_type": "code",
   "execution_count": 5,
   "metadata": {},
   "outputs": [],
   "source": [
    "import pandas as pd\n",
    "import numpy as np\n",
    "import datetime as dt\n",
    "import csv\n",
    "from dateutil import parser\n",
    "from datetime import datetime, timedelta\n",
    "import os"
   ]
  },
  {
   "cell_type": "code",
   "execution_count": 6,
   "metadata": {},
   "outputs": [
    {
     "data": {
      "text/plain": [
       "'C:\\\\Users\\\\makol\\\\Documents\\\\Python_Scripts\\\\Git\\\\user_scripts\\\\masha_k\\\\Analyze_validation'"
      ]
     },
     "execution_count": 6,
     "metadata": {},
     "output_type": "execute_result"
    }
   ],
   "source": [
    "pwd\n"
   ]
  },
  {
   "cell_type": "code",
   "execution_count": 7,
   "metadata": {},
   "outputs": [],
   "source": [
    "path_oct=\".\\\\data\\\\Октябрь\\\\\"\n",
    "path_nov=\".\\\\data\\\\Ноябрь\\\\\"\n",
    "path_aug=\".\\\\data\\\\Август\\\\\""
   ]
  },
  {
   "cell_type": "code",
   "execution_count": 8,
   "metadata": {},
   "outputs": [],
   "source": [
    "files_oct = [f for f in os.listdir(path_oct) if \"2019.10.\" in f]\n",
    "files_nov = [f for f in os.listdir(path_nov) if \"2019.11\" in f]\n",
    "files_aug = [f for f in os.listdir(path_aug) if \"2020.08\" in f]"
   ]
  },
  {
   "cell_type": "code",
   "execution_count": 9,
   "metadata": {
    "scrolled": true
   },
   "outputs": [
    {
     "data": {
      "text/plain": [
       "['2020.08.01.csv',\n",
       " '2020.08.02.csv',\n",
       " '2020.08.03.csv',\n",
       " '2020.08.04.csv',\n",
       " '2020.08.05.csv',\n",
       " '2020.08.06.csv',\n",
       " '2020.08.07.csv',\n",
       " '2020.08.08.csv',\n",
       " '2020.08.09.csv',\n",
       " '2020.08.10.csv',\n",
       " '2020.08.11.csv',\n",
       " '2020.08.12.csv',\n",
       " '2020.08.13.csv',\n",
       " '2020.08.14.csv',\n",
       " '2020.08.15.csv',\n",
       " '2020.08.16.csv',\n",
       " '2020.08.17.csv',\n",
       " '2020.08.18.csv',\n",
       " '2020.08.19.csv',\n",
       " '2020.08.20.csv',\n",
       " '2020.08.21.csv',\n",
       " '2020.08.22.csv',\n",
       " '2020.08.23.csv',\n",
       " '2020.08.24.csv',\n",
       " '2020.08.25.csv',\n",
       " '2020.08.26.csv',\n",
       " '2020.08.27.csv',\n",
       " '2020.08.28.csv',\n",
       " '2020.08.29.csv',\n",
       " '2020.08.30.csv',\n",
       " '2020.08.31.csv']"
      ]
     },
     "execution_count": 9,
     "metadata": {},
     "output_type": "execute_result"
    }
   ],
   "source": [
    "files_aug"
   ]
  },
  {
   "cell_type": "code",
   "execution_count": 18,
   "metadata": {},
   "outputs": [],
   "source": [
    "ngpt_oct = pd.DataFrame()\n",
    "for_month_oct= pd.DataFrame()\n",
    "ngpt_nov = pd.DataFrame()\n",
    "for_month_nov= pd.DataFrame()\n",
    "ngpt_aug = pd.DataFrame()\n",
    "for_month_aug= pd.DataFrame()"
   ]
  },
  {
   "cell_type": "code",
   "execution_count": 21,
   "metadata": {},
   "outputs": [
    {
     "name": "stdout",
     "output_type": "stream",
     "text": [
      "2020.08.01.csv\n",
      "2020.08.02.csv\n",
      "2020.08.03.csv\n",
      "2020.08.04.csv\n",
      "2020.08.05.csv\n",
      "2020.08.06.csv\n",
      "2020.08.07.csv\n",
      "2020.08.08.csv\n",
      "2020.08.09.csv\n",
      "2020.08.10.csv\n",
      "2020.08.11.csv\n",
      "2020.08.12.csv\n"
     ]
    },
    {
     "ename": "KeyError",
     "evalue": "'Дата и время поездки'",
     "output_type": "error",
     "traceback": [
      "\u001b[1;31m---------------------------------------------------------------------------\u001b[0m",
      "\u001b[1;31mKeyError\u001b[0m                                  Traceback (most recent call last)",
      "\u001b[1;32m~\\Anaconda3\\lib\\site-packages\\pandas\\core\\indexes\\base.py\u001b[0m in \u001b[0;36mget_loc\u001b[1;34m(self, key, method, tolerance)\u001b[0m\n\u001b[0;32m   2645\u001b[0m             \u001b[1;32mtry\u001b[0m\u001b[1;33m:\u001b[0m\u001b[1;33m\u001b[0m\u001b[1;33m\u001b[0m\u001b[0m\n\u001b[1;32m-> 2646\u001b[1;33m                 \u001b[1;32mreturn\u001b[0m \u001b[0mself\u001b[0m\u001b[1;33m.\u001b[0m\u001b[0m_engine\u001b[0m\u001b[1;33m.\u001b[0m\u001b[0mget_loc\u001b[0m\u001b[1;33m(\u001b[0m\u001b[0mkey\u001b[0m\u001b[1;33m)\u001b[0m\u001b[1;33m\u001b[0m\u001b[1;33m\u001b[0m\u001b[0m\n\u001b[0m\u001b[0;32m   2647\u001b[0m             \u001b[1;32mexcept\u001b[0m \u001b[0mKeyError\u001b[0m\u001b[1;33m:\u001b[0m\u001b[1;33m\u001b[0m\u001b[1;33m\u001b[0m\u001b[0m\n",
      "\u001b[1;32mpandas\\_libs\\index.pyx\u001b[0m in \u001b[0;36mpandas._libs.index.IndexEngine.get_loc\u001b[1;34m()\u001b[0m\n",
      "\u001b[1;32mpandas\\_libs\\index.pyx\u001b[0m in \u001b[0;36mpandas._libs.index.IndexEngine.get_loc\u001b[1;34m()\u001b[0m\n",
      "\u001b[1;32mpandas\\_libs\\hashtable_class_helper.pxi\u001b[0m in \u001b[0;36mpandas._libs.hashtable.PyObjectHashTable.get_item\u001b[1;34m()\u001b[0m\n",
      "\u001b[1;32mpandas\\_libs\\hashtable_class_helper.pxi\u001b[0m in \u001b[0;36mpandas._libs.hashtable.PyObjectHashTable.get_item\u001b[1;34m()\u001b[0m\n",
      "\u001b[1;31mKeyError\u001b[0m: 'Дата и время поездки'",
      "\nDuring handling of the above exception, another exception occurred:\n",
      "\u001b[1;31mKeyError\u001b[0m                                  Traceback (most recent call last)",
      "\u001b[1;32m<ipython-input-21-c48bb6206da5>\u001b[0m in \u001b[0;36m<module>\u001b[1;34m\u001b[0m\n\u001b[0;32m      3\u001b[0m         \u001b[0mm\u001b[0m \u001b[1;33m=\u001b[0m \u001b[0mpd\u001b[0m\u001b[1;33m.\u001b[0m\u001b[0mread_csv\u001b[0m\u001b[1;33m(\u001b[0m\u001b[0mpath_aug\u001b[0m\u001b[1;33m+\u001b[0m\u001b[1;34m'/'\u001b[0m\u001b[1;33m+\u001b[0m\u001b[0mfile\u001b[0m\u001b[1;33m,\u001b[0m \u001b[0msep\u001b[0m \u001b[1;33m=\u001b[0m \u001b[1;34m','\u001b[0m\u001b[1;33m,\u001b[0m \u001b[0mencoding\u001b[0m\u001b[1;33m=\u001b[0m\u001b[1;34m'windows-1251'\u001b[0m\u001b[1;33m)\u001b[0m\u001b[1;33m\u001b[0m\u001b[1;33m\u001b[0m\u001b[0m\n\u001b[0;32m      4\u001b[0m         \u001b[0mm\u001b[0m\u001b[1;33m[\u001b[0m\u001b[1;34m'count'\u001b[0m\u001b[1;33m]\u001b[0m\u001b[1;33m=\u001b[0m\u001b[1;36m1\u001b[0m\u001b[1;33m\u001b[0m\u001b[1;33m\u001b[0m\u001b[0m\n\u001b[1;32m----> 5\u001b[1;33m         \u001b[0mm\u001b[0m\u001b[1;33m[\u001b[0m\u001b[1;34m'data'\u001b[0m\u001b[1;33m]\u001b[0m\u001b[1;33m=\u001b[0m\u001b[0mpd\u001b[0m\u001b[1;33m.\u001b[0m\u001b[0mto_datetime\u001b[0m\u001b[1;33m(\u001b[0m\u001b[0mm\u001b[0m\u001b[1;33m[\u001b[0m\u001b[1;34m'Дата и время поездки'\u001b[0m\u001b[1;33m]\u001b[0m\u001b[1;33m)\u001b[0m\u001b[1;33m\u001b[0m\u001b[1;33m\u001b[0m\u001b[0m\n\u001b[0m\u001b[0;32m      6\u001b[0m         \u001b[0mm\u001b[0m\u001b[1;33m[\u001b[0m\u001b[1;34m'date'\u001b[0m\u001b[1;33m]\u001b[0m\u001b[1;33m=\u001b[0m\u001b[0mm\u001b[0m\u001b[1;33m[\u001b[0m\u001b[1;34m'data'\u001b[0m\u001b[1;33m]\u001b[0m\u001b[1;33m.\u001b[0m\u001b[0mdt\u001b[0m\u001b[1;33m.\u001b[0m\u001b[0mdate\u001b[0m\u001b[1;33m\u001b[0m\u001b[1;33m\u001b[0m\u001b[0m\n\u001b[0;32m      7\u001b[0m         \u001b[0mm\u001b[0m\u001b[1;33m[\u001b[0m\u001b[1;34m'hour'\u001b[0m\u001b[1;33m]\u001b[0m\u001b[1;33m=\u001b[0m\u001b[0mm\u001b[0m\u001b[1;33m[\u001b[0m\u001b[1;34m'data'\u001b[0m\u001b[1;33m]\u001b[0m\u001b[1;33m.\u001b[0m\u001b[0mdt\u001b[0m\u001b[1;33m.\u001b[0m\u001b[0mhour\u001b[0m\u001b[1;33m\u001b[0m\u001b[1;33m\u001b[0m\u001b[0m\n",
      "\u001b[1;32m~\\Anaconda3\\lib\\site-packages\\pandas\\core\\frame.py\u001b[0m in \u001b[0;36m__getitem__\u001b[1;34m(self, key)\u001b[0m\n\u001b[0;32m   2798\u001b[0m             \u001b[1;32mif\u001b[0m \u001b[0mself\u001b[0m\u001b[1;33m.\u001b[0m\u001b[0mcolumns\u001b[0m\u001b[1;33m.\u001b[0m\u001b[0mnlevels\u001b[0m \u001b[1;33m>\u001b[0m \u001b[1;36m1\u001b[0m\u001b[1;33m:\u001b[0m\u001b[1;33m\u001b[0m\u001b[1;33m\u001b[0m\u001b[0m\n\u001b[0;32m   2799\u001b[0m                 \u001b[1;32mreturn\u001b[0m \u001b[0mself\u001b[0m\u001b[1;33m.\u001b[0m\u001b[0m_getitem_multilevel\u001b[0m\u001b[1;33m(\u001b[0m\u001b[0mkey\u001b[0m\u001b[1;33m)\u001b[0m\u001b[1;33m\u001b[0m\u001b[1;33m\u001b[0m\u001b[0m\n\u001b[1;32m-> 2800\u001b[1;33m             \u001b[0mindexer\u001b[0m \u001b[1;33m=\u001b[0m \u001b[0mself\u001b[0m\u001b[1;33m.\u001b[0m\u001b[0mcolumns\u001b[0m\u001b[1;33m.\u001b[0m\u001b[0mget_loc\u001b[0m\u001b[1;33m(\u001b[0m\u001b[0mkey\u001b[0m\u001b[1;33m)\u001b[0m\u001b[1;33m\u001b[0m\u001b[1;33m\u001b[0m\u001b[0m\n\u001b[0m\u001b[0;32m   2801\u001b[0m             \u001b[1;32mif\u001b[0m \u001b[0mis_integer\u001b[0m\u001b[1;33m(\u001b[0m\u001b[0mindexer\u001b[0m\u001b[1;33m)\u001b[0m\u001b[1;33m:\u001b[0m\u001b[1;33m\u001b[0m\u001b[1;33m\u001b[0m\u001b[0m\n\u001b[0;32m   2802\u001b[0m                 \u001b[0mindexer\u001b[0m \u001b[1;33m=\u001b[0m \u001b[1;33m[\u001b[0m\u001b[0mindexer\u001b[0m\u001b[1;33m]\u001b[0m\u001b[1;33m\u001b[0m\u001b[1;33m\u001b[0m\u001b[0m\n",
      "\u001b[1;32m~\\Anaconda3\\lib\\site-packages\\pandas\\core\\indexes\\base.py\u001b[0m in \u001b[0;36mget_loc\u001b[1;34m(self, key, method, tolerance)\u001b[0m\n\u001b[0;32m   2646\u001b[0m                 \u001b[1;32mreturn\u001b[0m \u001b[0mself\u001b[0m\u001b[1;33m.\u001b[0m\u001b[0m_engine\u001b[0m\u001b[1;33m.\u001b[0m\u001b[0mget_loc\u001b[0m\u001b[1;33m(\u001b[0m\u001b[0mkey\u001b[0m\u001b[1;33m)\u001b[0m\u001b[1;33m\u001b[0m\u001b[1;33m\u001b[0m\u001b[0m\n\u001b[0;32m   2647\u001b[0m             \u001b[1;32mexcept\u001b[0m \u001b[0mKeyError\u001b[0m\u001b[1;33m:\u001b[0m\u001b[1;33m\u001b[0m\u001b[1;33m\u001b[0m\u001b[0m\n\u001b[1;32m-> 2648\u001b[1;33m                 \u001b[1;32mreturn\u001b[0m \u001b[0mself\u001b[0m\u001b[1;33m.\u001b[0m\u001b[0m_engine\u001b[0m\u001b[1;33m.\u001b[0m\u001b[0mget_loc\u001b[0m\u001b[1;33m(\u001b[0m\u001b[0mself\u001b[0m\u001b[1;33m.\u001b[0m\u001b[0m_maybe_cast_indexer\u001b[0m\u001b[1;33m(\u001b[0m\u001b[0mkey\u001b[0m\u001b[1;33m)\u001b[0m\u001b[1;33m)\u001b[0m\u001b[1;33m\u001b[0m\u001b[1;33m\u001b[0m\u001b[0m\n\u001b[0m\u001b[0;32m   2649\u001b[0m         \u001b[0mindexer\u001b[0m \u001b[1;33m=\u001b[0m \u001b[0mself\u001b[0m\u001b[1;33m.\u001b[0m\u001b[0mget_indexer\u001b[0m\u001b[1;33m(\u001b[0m\u001b[1;33m[\u001b[0m\u001b[0mkey\u001b[0m\u001b[1;33m]\u001b[0m\u001b[1;33m,\u001b[0m \u001b[0mmethod\u001b[0m\u001b[1;33m=\u001b[0m\u001b[0mmethod\u001b[0m\u001b[1;33m,\u001b[0m \u001b[0mtolerance\u001b[0m\u001b[1;33m=\u001b[0m\u001b[0mtolerance\u001b[0m\u001b[1;33m)\u001b[0m\u001b[1;33m\u001b[0m\u001b[1;33m\u001b[0m\u001b[0m\n\u001b[0;32m   2650\u001b[0m         \u001b[1;32mif\u001b[0m \u001b[0mindexer\u001b[0m\u001b[1;33m.\u001b[0m\u001b[0mndim\u001b[0m \u001b[1;33m>\u001b[0m \u001b[1;36m1\u001b[0m \u001b[1;32mor\u001b[0m \u001b[0mindexer\u001b[0m\u001b[1;33m.\u001b[0m\u001b[0msize\u001b[0m \u001b[1;33m>\u001b[0m \u001b[1;36m1\u001b[0m\u001b[1;33m:\u001b[0m\u001b[1;33m\u001b[0m\u001b[1;33m\u001b[0m\u001b[0m\n",
      "\u001b[1;32mpandas\\_libs\\index.pyx\u001b[0m in \u001b[0;36mpandas._libs.index.IndexEngine.get_loc\u001b[1;34m()\u001b[0m\n",
      "\u001b[1;32mpandas\\_libs\\index.pyx\u001b[0m in \u001b[0;36mpandas._libs.index.IndexEngine.get_loc\u001b[1;34m()\u001b[0m\n",
      "\u001b[1;32mpandas\\_libs\\hashtable_class_helper.pxi\u001b[0m in \u001b[0;36mpandas._libs.hashtable.PyObjectHashTable.get_item\u001b[1;34m()\u001b[0m\n",
      "\u001b[1;32mpandas\\_libs\\hashtable_class_helper.pxi\u001b[0m in \u001b[0;36mpandas._libs.hashtable.PyObjectHashTable.get_item\u001b[1;34m()\u001b[0m\n",
      "\u001b[1;31mKeyError\u001b[0m: 'Дата и время поездки'"
     ]
    }
   ],
   "source": [
    "for file in files_aug:\n",
    "        print(file)\n",
    "        m = pd.read_csv(path_aug+'/'+file, sep = ',', encoding='windows-1251')\n",
    "        m['count']=1\n",
    "        m['data']=pd.to_datetime(m['Дата и время поездки'])\n",
    "        m['date']=m['data'].dt.date\n",
    "        m['hour']=m['data'].dt.hour\n",
    "        m['dayofweek']=pd.to_datetime(m['date']).dt.dayofweek\n",
    "        for_month=pd.DataFrame(m.groupby(['date','hour','dayofweek','Код Маршрута','Код предприятия']).agg({'count': np.sum})).reset_index()\n",
    "        #for_month=pd.DataFrame(m.groupby(['Код Маршрута','Код предприятия','Дата и время поездки']).agg({'count': np.sum})).reset_index()\n",
    "        ngpt_aug=ngpt_aug.append(for_month,ignore_index=True)\n",
    "        #print(ngpt['date'].unique())"
   ]
  },
  {
   "cell_type": "code",
   "execution_count": 24,
   "metadata": {
    "scrolled": true
   },
   "outputs": [],
   "source": [
    "def read_file(files,path,ngpt,for_month):\n",
    "    for file in files:\n",
    "        #print(path+file)\n",
    "        m = pd.read_csv(path+'/'+file, sep = ',', encoding='windows-1251')\n",
    "        m['count']=1\n",
    "        m['data']=pd.to_datetime(m['Дата и время поездки'])\n",
    "        m['date']=m['data'].dt.date\n",
    "        m['hour']=m['data'].dt.hour\n",
    "        m['dayofweek']=pd.to_datetime(m['date']).dt.dayofweek\n",
    "        for_month=pd.DataFrame(m.groupby(['date','hour','dayofweek','Код Маршрута','Код предприятия']).agg({'count': np.sum})).reset_index()\n",
    "        #for_month=pd.DataFrame(m.groupby(['Код Маршрута','Код предприятия','Дата и время поездки']).agg({'count': np.sum})).reset_index()\n",
    "        ngpt=ngpt.append(for_month,ignore_index=True)\n",
    "        #print(ngpt['date'].unique())\n",
    "        del m\n",
    "    return ngpt\n",
    "        #m.head()"
   ]
  },
  {
   "cell_type": "code",
   "execution_count": 25,
   "metadata": {},
   "outputs": [],
   "source": [
    "ngpt_oct=read_file(files_oct,path_oct,ngpt_oct,for_month_oct)"
   ]
  },
  {
   "cell_type": "code",
   "execution_count": 26,
   "metadata": {},
   "outputs": [],
   "source": [
    "ngpt_nov=read_file(files_nov,path_nov,ngpt_nov,for_month_nov)"
   ]
  },
  {
   "cell_type": "code",
   "execution_count": 27,
   "metadata": {},
   "outputs": [
    {
     "name": "stderr",
     "output_type": "stream",
     "text": [
      "C:\\Users\\makol\\Anaconda3\\lib\\site-packages\\IPython\\core\\interactiveshell.py:3249: DtypeWarning: Columns (3) have mixed types.Specify dtype option on import or set low_memory=False.\n",
      "  if (await self.run_code(code, result,  async_=asy)):\n",
      "C:\\Users\\makol\\Anaconda3\\lib\\site-packages\\IPython\\core\\interactiveshell.py:3249: DtypeWarning: Columns (3,7) have mixed types.Specify dtype option on import or set low_memory=False.\n",
      "  if (await self.run_code(code, result,  async_=asy)):\n"
     ]
    }
   ],
   "source": [
    "ngpt_aug=read_file(files_aug,path_aug,ngpt_aug,for_month_aug)"
   ]
  },
  {
   "cell_type": "code",
   "execution_count": null,
   "metadata": {},
   "outputs": [],
   "source": []
  },
  {
   "cell_type": "code",
   "execution_count": 46,
   "metadata": {},
   "outputs": [],
   "source": [
    "marsh = pd.read_csv('Val_Marshes.csv', sep = ';', encoding='utf-8')"
   ]
  },
  {
   "cell_type": "code",
   "execution_count": 47,
   "metadata": {},
   "outputs": [
    {
     "name": "stdout",
     "output_type": "stream",
     "text": [
      "<class 'pandas.core.frame.DataFrame'>\n",
      "RangeIndex: 708 entries, 0 to 707\n",
      "Data columns (total 3 columns):\n",
      " #   Column             Non-Null Count  Dtype \n",
      "---  ------             --------------  ----- \n",
      " 0   Код Маршрута       708 non-null    int64 \n",
      " 1   Название маршрута  708 non-null    object\n",
      " 2   Вид транспорта     708 non-null    object\n",
      "dtypes: int64(1), object(2)\n",
      "memory usage: 16.7+ KB\n"
     ]
    }
   ],
   "source": [
    "marsh.info()"
   ]
  },
  {
   "cell_type": "code",
   "execution_count": 60,
   "metadata": {},
   "outputs": [
    {
     "data": {
      "text/html": [
       "<div>\n",
       "<style scoped>\n",
       "    .dataframe tbody tr th:only-of-type {\n",
       "        vertical-align: middle;\n",
       "    }\n",
       "\n",
       "    .dataframe tbody tr th {\n",
       "        vertical-align: top;\n",
       "    }\n",
       "\n",
       "    .dataframe thead th {\n",
       "        text-align: right;\n",
       "    }\n",
       "</style>\n",
       "<table border=\"1\" class=\"dataframe\">\n",
       "  <thead>\n",
       "    <tr style=\"text-align: right;\">\n",
       "      <th></th>\n",
       "      <th>date</th>\n",
       "      <th>hour</th>\n",
       "      <th>dayofweek</th>\n",
       "      <th>Код Маршрута</th>\n",
       "      <th>Код предприятия</th>\n",
       "      <th>count</th>\n",
       "    </tr>\n",
       "  </thead>\n",
       "  <tbody>\n",
       "    <tr>\n",
       "      <th>0</th>\n",
       "      <td>2019-10-01</td>\n",
       "      <td>0</td>\n",
       "      <td>1</td>\n",
       "      <td>17303456789</td>\n",
       "      <td>1</td>\n",
       "      <td>1</td>\n",
       "    </tr>\n",
       "    <tr>\n",
       "      <th>1</th>\n",
       "      <td>2019-10-01</td>\n",
       "      <td>0</td>\n",
       "      <td>1</td>\n",
       "      <td>18203456789</td>\n",
       "      <td>1</td>\n",
       "      <td>1</td>\n",
       "    </tr>\n",
       "    <tr>\n",
       "      <th>2</th>\n",
       "      <td>2019-10-01</td>\n",
       "      <td>0</td>\n",
       "      <td>1</td>\n",
       "      <td>50203456789</td>\n",
       "      <td>25</td>\n",
       "      <td>40</td>\n",
       "    </tr>\n",
       "    <tr>\n",
       "      <th>3</th>\n",
       "      <td>2019-10-01</td>\n",
       "      <td>0</td>\n",
       "      <td>1</td>\n",
       "      <td>50403456789</td>\n",
       "      <td>25</td>\n",
       "      <td>33</td>\n",
       "    </tr>\n",
       "    <tr>\n",
       "      <th>4</th>\n",
       "      <td>2019-10-01</td>\n",
       "      <td>0</td>\n",
       "      <td>1</td>\n",
       "      <td>51003456789</td>\n",
       "      <td>25</td>\n",
       "      <td>43</td>\n",
       "    </tr>\n",
       "  </tbody>\n",
       "</table>\n",
       "</div>"
      ],
      "text/plain": [
       "         date  hour  dayofweek  Код Маршрута  Код предприятия  count\n",
       "0  2019-10-01     0          1   17303456789                1      1\n",
       "1  2019-10-01     0          1   18203456789                1      1\n",
       "2  2019-10-01     0          1   50203456789               25     40\n",
       "3  2019-10-01     0          1   50403456789               25     33\n",
       "4  2019-10-01     0          1   51003456789               25     43"
      ]
     },
     "execution_count": 60,
     "metadata": {},
     "output_type": "execute_result"
    }
   ],
   "source": [
    "ngpt_oct.head()"
   ]
  },
  {
   "cell_type": "code",
   "execution_count": null,
   "metadata": {},
   "outputs": [],
   "source": []
  },
  {
   "cell_type": "code",
   "execution_count": 83,
   "metadata": {},
   "outputs": [],
   "source": [
    "def group_for_csv(ngpt):\n",
    "    ngpt=ngpt.merge(marsh,on='Код Маршрута')\n",
    "    ngpt_sat=ngpt[ngpt['dayofweek'] > 4] \n",
    "    ngpt_budny=ngpt[ngpt['dayofweek'] < 5]\n",
    "    ngpt_sum_budny=pd.DataFrame(ngpt_budny\\\n",
    "                                .groupby(['Название маршрута','Вид транспорта','Код предприятия','date'])\\\n",
    "                                .agg({'count': np.sum}))\\\n",
    "                                .reset_index()\n",
    "    ngpt_avg_budny=pd.DataFrame(ngpt_sum_budny\\\n",
    "                                .groupby(['Название маршрута','Вид транспорта','Код предприятия'])\\\n",
    "                                .agg({'count': np.nanmean}))\\\n",
    "                                .reset_index().rename(columns={'count':'avg_budny'})\n",
    "    ngpt_sum_sat=pd.DataFrame(ngpt_sat.groupby(['Название маршрута','Вид транспорта','Код предприятия','date'])\\\n",
    "                                .agg({'count': np.sum})).reset_index() \n",
    "    ngpt_avg_sat=pd.DataFrame(ngpt_sum_sat.groupby(['Название маршрута','Вид транспорта','Код предприятия'])\\\n",
    "                                .agg({'count': np.nanmean})).reset_index()\\\n",
    "                                .rename(columns={'count':'avg_sat'})\n",
    "    ngpt_month=pd.DataFrame(ngpt.groupby(['Название маршрута','Вид транспорта','Код предприятия'])\\\n",
    "                            .agg({'count': np.sum})).reset_index().rename(columns={'count':'summ'})\n",
    "    ngpt_month_day_sum=pd.DataFrame(ngpt.groupby(['Название маршрута','Вид транспорта','Код предприятия','date'])\\\n",
    "                                .agg({'count': np.sum})).reset_index()\n",
    "    ngpt_month_max=pd.DataFrame(ngpt_month_day_sum.groupby(['Название маршрута','Вид транспорта','Код предприятия'])\\\n",
    "                                .agg({'count': np.max})).reset_index().rename(columns={'count':'ngpt_month_max'})\n",
    "    ngpt_hour=pd.DataFrame(ngpt_budny.groupby(['Название маршрута','Вид транспорта','Код предприятия','hour'])\\\n",
    "                           .agg({'count': np.nanmean})).reset_index()\n",
    "    ngpt_month=ngpt_month.merge(ngpt_avg_budny,on=['Название маршрута','Вид транспорта','Код предприятия'],how='outer')\\\n",
    "        .merge(ngpt_avg_sat,on=['Название маршрута','Вид транспорта','Код предприятия'],how='outer')\\\n",
    "        .merge(ngpt_month_max,on=['Название маршрута','Вид транспорта','Код предприятия'],how='outer')\n",
    "    return ngpt_month,ngpt_hour"
   ]
  },
  {
   "cell_type": "code",
   "execution_count": 84,
   "metadata": {},
   "outputs": [],
   "source": [
    "ngpt_month_oct,ngpt_hour_oct= group_for_csv(ngpt_oct)\n",
    "ngpt_month_nov,ngpt_hour_nov= group_for_csv(ngpt_nov)\n",
    "ngpt_month_aug,ngpt_hour_aug= group_for_csv(ngpt_aug)"
   ]
  },
  {
   "cell_type": "code",
   "execution_count": 85,
   "metadata": {},
   "outputs": [],
   "source": [
    "ngpt_month=ngpt_month_oct.rename(columns={'summ':'summ_oct','avg_budny':'avg_budny_oct','avg_sat':'avg_sat_oct','ngpt_month_max':'month_max_oct'})\\\n",
    "                         .merge(ngpt_month_nov, on=['Название маршрута','Вид транспорта','Код предприятия'], how='outer')\\\n",
    "                         .rename(columns={'summ':'summ_nov','avg_budny':'avg_budny_nov','avg_sat':'avg_sat_nov','ngpt_month_max':'month_max_nov'})\\\n",
    "                         .merge(ngpt_month_aug, on=['Название маршрута','Вид транспорта','Код предприятия'], how='outer')"
   ]
  },
  {
   "cell_type": "code",
   "execution_count": null,
   "metadata": {},
   "outputs": [],
   "source": []
  },
  {
   "cell_type": "code",
   "execution_count": 86,
   "metadata": {},
   "outputs": [],
   "source": [
    "ngpt_month.to_csv('marshes_month.csv', na_rep='0')"
   ]
  },
  {
   "cell_type": "code",
   "execution_count": 190,
   "metadata": {},
   "outputs": [],
   "source": [
    "ngpt_hour=ngpt_hour_oct.rename(columns={'count':'oct'})\\\n",
    "                         .merge(ngpt_hour_nov, on=['Название маршрута','Вид транспорта','Код предприятия','hour'], how='outer')\\\n",
    "                         .rename(columns={'count':'nov'})\\\n",
    "                         .merge(ngpt_hour_aug, on=['Название маршрута','Вид транспорта','Код предприятия','hour'], how='outer')\\\n",
    "                         .rename(columns={'count':'aug'})"
   ]
  },
  {
   "cell_type": "code",
   "execution_count": 185,
   "metadata": {},
   "outputs": [
    {
     "data": {
      "text/plain": [
       "4515"
      ]
     },
     "execution_count": 185,
     "metadata": {},
     "output_type": "execute_result"
    }
   ],
   "source": [
    "len(ngpt_hour)"
   ]
  },
  {
   "cell_type": "code",
   "execution_count": 186,
   "metadata": {},
   "outputs": [],
   "source": [
    "ngpt_hour.to_csv('marshes_hour.csv')"
   ]
  },
  {
   "cell_type": "code",
   "execution_count": null,
   "metadata": {},
   "outputs": [],
   "source": []
  },
  {
   "cell_type": "code",
   "execution_count": 118,
   "metadata": {},
   "outputs": [],
   "source": [
    "Samara_treki=gpd.read_file('Samara.json')\n",
    "len(Samara_treki)\n",
    "marsh_from_Transnavi = pd.read_csv('Sootv_ie.csv', sep = ';', encoding='utf-8')\n",
    "marsh_from_Transnavi.head()\n",
    "ngpt_group3=ngpt_group2.merge(marsh_from_Transnavi,on='Код Маршрута',how='outer')\n",
    "ngpt_group3.head()\n",
    "mv_mr = pd.read_csv('mv_mr.csv', sep = ',', encoding='utf-8')\n",
    "mv_mr.head()\n",
    "ngpt_group3=ngpt_group3.merge(mv_mr,on='mr_id',how='outer')\n",
    "ngpt_group3['mv_id']=ngpt_group3['mv_id'].astype('Int64')\n",
    "Samara_treki2=pd.DataFrame(Samara_treki)\n",
    "Samara_treki2['mv_id']=Samara_treki2['mv_id'].astype('float').astype('Int64')\n",
    "Samara_treki2=Samara_treki2.merge(ngpt_group3,on='mv_id')\n",
    "Samara_treki2['val_marsh_ID']=Samara_treki2['Код Маршрута']\n",
    "Samara_treki2['pk_id']=Samara_treki2['Код предприятия']\n",
    "Samara_treki2=Samara_treki2.drop(['Код Маршрута'], axis=1).drop(['Код предприятия'], axis=1)\n",
    "Samara_treki2.to_csv('Passpotok.csv')\n",
    "total1 = gpd.GeoDataFrame(Samara_treki2, geometry='geometry')\n",
    "total1.crs='epsg:4326'\n",
    "total1.head()\n",
    "total1 = total1.groupby(\"mr_id\").apply(lambda x: x.to_file(fr\"C:\\\\Users\\\\makol\\\\Documents\\\\Python_Scripts\\\\Git\\\\user_scripts\\\\masha_k\\\\Analyze_validation\\\\by_marshes\\\\{x.name}.json\", driver='GeoJSON',index=False))\n",
    "total1 = gpd.GeoDataFrame(Samara_treki2, geometry='geometry')\n",
    "total1.crs='epsg:4326'\n",
    "total1.to_file('Samara_treki_with_passpotok.shp', driver='ESRI Shapefile', encoding=\"utf-8\")\n",
    "del Samara_treki\n",
    "del ngpt_group2\n",
    "del ngpt_group3\n",
    "del ngpt_group\n",
    "del ngpt"
   ]
  }
 ],
 "metadata": {
  "kernelspec": {
   "display_name": "Python 3",
   "language": "python",
   "name": "python3"
  },
  "language_info": {
   "codemirror_mode": {
    "name": "ipython",
    "version": 3
   },
   "file_extension": ".py",
   "mimetype": "text/x-python",
   "name": "python",
   "nbconvert_exporter": "python",
   "pygments_lexer": "ipython3",
   "version": "3.7.4"
  }
 },
 "nbformat": 4,
 "nbformat_minor": 2
}
