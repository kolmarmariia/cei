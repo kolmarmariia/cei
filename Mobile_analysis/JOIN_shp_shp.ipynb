{
 "cells": [
  {
   "cell_type": "code",
   "execution_count": 64,
   "metadata": {},
   "outputs": [],
   "source": [
    "import geopandas as gpd\n",
    "import pandas as pd\n",
    "import numpy as np\n",
    "import json  as js\n",
    "from geopandas import GeoDataFrame\n",
    "from shapely.geometry import Point\n",
    "import csv"
   ]
  },
  {
   "cell_type": "code",
   "execution_count": 65,
   "metadata": {},
   "outputs": [],
   "source": [
    "a = gpd.read_file('pop.SHP')\n",
    "b = gpd.read_file('2019-02-07.SHP')\n",
    "b2 = gpd.read_file('2019-02-08.SHP')\n",
    "b3 = gpd.read_file('2019-02-09.SHP')\n",
    "b4 = gpd.read_file('2019-04-11.SHP')\n",
    "b5 = gpd.read_file('2019-04-12.SHP')\n",
    "b6 = gpd.read_file('2019-04-13.SHP')\n",
    "b7 = gpd.read_file('2019-07-11.SHP')\n",
    "b8 = gpd.read_file('2019-07-12.SHP')\n",
    "b9 = gpd.read_file('2019-07-13.SHP')\n",
    "b10 = gpd.read_file('2019-10-17.SHP')\n",
    "b11 = gpd.read_file('2019-10-18.SHP')\n",
    "b12 = gpd.read_file('2019-10-19.SHP')"
   ]
  },
  {
   "cell_type": "code",
   "execution_count": 66,
   "metadata": {},
   "outputs": [],
   "source": [
    "a['zid_from']=a['NO'] #задали значение для поля, по которому будем объединять"
   ]
  },
  {
   "cell_type": "code",
   "execution_count": 68,
   "metadata": {},
   "outputs": [],
   "source": [
    "t1=a.merge(b.drop(['geometry'], axis=1), on='zid_from').drop(['NO'], axis=1).drop(['ppl_flats'], axis=1).drop(['ATD'], axis=1).drop(['Servis_lab'], axis=1).drop(['Industry_l'], axis=1)\n",
    "t2=a.merge(b2.drop(['geometry'], axis=1), on='zid_from').drop(['NO'], axis=1).drop(['ppl_flats'], axis=1).drop(['ATD'], axis=1).drop(['Servis_lab'], axis=1).drop(['Industry_l'], axis=1)\n",
    "t3=a.merge(b3.drop(['geometry'], axis=1), on='zid_from').drop(['NO'], axis=1).drop(['ppl_flats'], axis=1).drop(['ATD'], axis=1).drop(['Servis_lab'], axis=1).drop(['Industry_l'], axis=1)\n",
    "t4=a.merge(b4.drop(['geometry'], axis=1), on='zid_from').drop(['NO'], axis=1).drop(['ppl_flats'], axis=1).drop(['ATD'], axis=1).drop(['Servis_lab'], axis=1).drop(['Industry_l'], axis=1)\n",
    "t5=a.merge(b5.drop(['geometry'], axis=1), on='zid_from').drop(['NO'], axis=1).drop(['ppl_flats'], axis=1).drop(['ATD'], axis=1).drop(['Servis_lab'], axis=1).drop(['Industry_l'], axis=1)\n",
    "t6=a.merge(b6.drop(['geometry'], axis=1), on='zid_from').drop(['NO'], axis=1).drop(['ppl_flats'], axis=1).drop(['ATD'], axis=1).drop(['Servis_lab'], axis=1).drop(['Industry_l'], axis=1)\n",
    "t7=a.merge(b7.drop(['geometry'], axis=1), on='zid_from').drop(['NO'], axis=1).drop(['ppl_flats'], axis=1).drop(['ATD'], axis=1).drop(['Servis_lab'], axis=1).drop(['Industry_l'], axis=1)\n",
    "t8=a.merge(b8.drop(['geometry'], axis=1), on='zid_from').drop(['NO'], axis=1).drop(['ppl_flats'], axis=1).drop(['ATD'], axis=1).drop(['Servis_lab'], axis=1).drop(['Industry_l'], axis=1)\n",
    "t9=a.merge(b9.drop(['geometry'], axis=1), on='zid_from').drop(['NO'], axis=1).drop(['ppl_flats'], axis=1).drop(['ATD'], axis=1).drop(['Servis_lab'], axis=1).drop(['Industry_l'], axis=1)\n",
    "t10=a.merge(b10.drop(['geometry'], axis=1), on='zid_from').drop(['NO'], axis=1).drop(['ppl_flats'], axis=1).drop(['ATD'], axis=1).drop(['Servis_lab'], axis=1).drop(['Industry_l'], axis=1)\n",
    "t11=a.merge(b11.drop(['geometry'], axis=1), on='zid_from').drop(['NO'], axis=1).drop(['ppl_flats'], axis=1).drop(['ATD'], axis=1).drop(['Servis_lab'], axis=1).drop(['Industry_l'], axis=1)\n",
    "t12=a.merge(b12.drop(['geometry'], axis=1), on='zid_from').drop(['NO'], axis=1).drop(['ppl_flats'], axis=1).drop(['ATD'], axis=1).drop(['Servis_lab'], axis=1).drop(['Industry_l'], axis=1)"
   ]
  },
  {
   "cell_type": "code",
   "execution_count": 69,
   "metadata": {},
   "outputs": [],
   "source": [
    "t1['title']='p:'+t1['ppl'].astype(str)+\"|m:\"+t1['count_ctn'].astype(str)\n",
    "t2['title']='p:'+t2['ppl'].astype(str)+\"|m:\"+t2['count_ctn'].astype(str)\n",
    "t3['title']='p:'+t3['ppl'].astype(str)+\"|m:\"+t3['count_ctn'].astype(str)\n",
    "t4['title']='p:'+t4['ppl'].astype(str)+\"|m:\"+t4['count_ctn'].astype(str)\n",
    "t5['title']='p:'+t5['ppl'].astype(str)+\"|m:\"+t5['count_ctn'].astype(str)\n",
    "t6['title']='p:'+t6['ppl'].astype(str)+\"|m:\"+t6['count_ctn'].astype(str)\n",
    "t7['title']='p:'+t7['ppl'].astype(str)+\"|m:\"+t7['count_ctn'].astype(str)\n",
    "t8['title']='p:'+t8['ppl'].astype(str)+\"|m:\"+t8['count_ctn'].astype(str)\n",
    "t9['title']='p:'+t9['ppl'].astype(str)+\"|m:\"+t9['count_ctn'].astype(str)\n",
    "t10['title']='p:'+t10['ppl'].astype(str)+\"|m:\"+t10['count_ctn'].astype(str)\n",
    "t11['title']='p:'+t11['ppl'].astype(str)+\"|m:\"+t11['count_ctn'].astype(str)\n",
    "t12['title']='p:'+t12['ppl'].astype(str)+\"|m:\"+t12['count_ctn'].astype(str)"
   ]
  },
  {
   "cell_type": "code",
   "execution_count": 70,
   "metadata": {},
   "outputs": [],
   "source": [
    "t1 = gpd.GeoDataFrame(t1, geometry='geometry')\n",
    "t1.crs='epsg:4326'\n",
    "t1.to_file('2019-02-07_sum_from.shp', driver='ESRI Shapefile')\n",
    "t2 = gpd.GeoDataFrame(t2, geometry='geometry')\n",
    "t2.crs='epsg:4326'\n",
    "t2.to_file('2019-02-08_sum_from.shp', driver='ESRI Shapefile')\n",
    "t3 = gpd.GeoDataFrame(t3, geometry='geometry')\n",
    "t3.crs='epsg:4326'\n",
    "t3.to_file('2019-02-09_sum_from.shp', driver='ESRI Shapefile')\n",
    "t4 = gpd.GeoDataFrame(t4, geometry='geometry')\n",
    "t4.crs='epsg:4326'\n",
    "t4.to_file('2019-04-11_sum_from.shp', driver='ESRI Shapefile')\n",
    "t5 = gpd.GeoDataFrame(t5, geometry='geometry')\n",
    "t5.crs='epsg:4326'\n",
    "t5.to_file('2019-04-12_sum_from.shp', driver='ESRI Shapefile')\n",
    "t6 = gpd.GeoDataFrame(t6, geometry='geometry')\n",
    "t6.crs='epsg:4326'\n",
    "t6.to_file('2019-04-13_sum_from.shp', driver='ESRI Shapefile')\n",
    "t7 = gpd.GeoDataFrame(t7, geometry='geometry')\n",
    "t7.crs='epsg:4326'\n",
    "t7.to_file('2019-07-11_sum_from.shp', driver='ESRI Shapefile')\n",
    "t8 = gpd.GeoDataFrame(t8, geometry='geometry')\n",
    "t8.crs='epsg:4326'\n",
    "t8.to_file('2019-07-12_sum_from.shp', driver='ESRI Shapefile')\n",
    "t9 = gpd.GeoDataFrame(t9, geometry='geometry')\n",
    "t9.crs='epsg:4326'\n",
    "t9.to_file('2019-07-13_sum_from.shp', driver='ESRI Shapefile')\n",
    "t10 = gpd.GeoDataFrame(t10, geometry='geometry')\n",
    "t10.crs='epsg:4326'\n",
    "t10.to_file('2019-10-17_sum_from.shp', driver='ESRI Shapefile')\n",
    "t11 = gpd.GeoDataFrame(t11, geometry='geometry')\n",
    "t11.crs='epsg:4326'\n",
    "t11.to_file('2019-10-18_sum_from.shp', driver='ESRI Shapefile')\n",
    "t12 = gpd.GeoDataFrame(t12, geometry='geometry')\n",
    "t12.crs='epsg:4326'\n",
    "t12.to_file('2019-10-19_sum_from.shp', driver='ESRI Shapefile')"
   ]
  },
  {
   "cell_type": "code",
   "execution_count": null,
   "metadata": {},
   "outputs": [],
   "source": []
  }
 ],
 "metadata": {
  "kernelspec": {
   "display_name": "Python 3",
   "language": "python",
   "name": "python3"
  },
  "language_info": {
   "codemirror_mode": {
    "name": "ipython",
    "version": 3
   },
   "file_extension": ".py",
   "mimetype": "text/x-python",
   "name": "python",
   "nbconvert_exporter": "python",
   "pygments_lexer": "ipython3",
   "version": "3.7.4"
  }
 },
 "nbformat": 4,
 "nbformat_minor": 2
}
