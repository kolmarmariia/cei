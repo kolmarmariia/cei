import geopandas as gpd
import pandas as pd
import numpy as np
import json  as js
from geopandas import GeoDataFrame
from shapely.geometry import Point
import csv

b = pd.read_csv('CEI_report_v_1_20200813.csv', sep = ';', encoding='utf8')
a = gpd.read_file('Самарская область транспортные районы 557_zone.SHP')
a = a.to_crs('epsg:4326')
b['time_key'].unique()
zid_from=b.drop(['zid_to'], axis=1)
zid_from_prom=zid_from.drop(['ts'], axis=1)
zid_from2=pd.DataFrame(zid_from_prom.groupby(['time_key','zid_from']).agg({'count_ctn': np.sum})).reset_index()
t=zid_from2.merge(a, on='zid_from')
total = gpd.GeoDataFrame(t, geometry='geometry')
total.to_file('All_Date.shp', driver='ESRI Shapefile')

zid_from_1=zid_from2[zid_from2['time_key'] == '2019-02-07']
total1 = gpd.GeoDataFrame(t1, geometry='geometry')
total1.crs='epsg:4326'
total1.to_file('2019-02-07.shp', driver='ESRI Shapefile')
