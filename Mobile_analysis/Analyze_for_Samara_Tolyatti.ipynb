{
 "cells": [
  {
   "cell_type": "code",
   "execution_count": 2,
   "metadata": {},
   "outputs": [],
   "source": [
    "import geopandas as gpd\n",
    "import pandas as pd\n",
    "import numpy as np\n",
    "import json  as js\n",
    "from geopandas import GeoDataFrame\n",
    "from shapely.geometry import Point\n",
    "import datetime as dt\n",
    "import glob\n",
    "import csv\n",
    "from dateutil import parser\n",
    "import os"
   ]
  },
  {
   "cell_type": "code",
   "execution_count": 3,
   "metadata": {},
   "outputs": [],
   "source": [
    "b = pd.read_csv('report_f_all.csv', sep = ';', encoding='utf8')\n",
    "a = gpd.read_file('557_zone.SHP')"
   ]
  },
  {
   "cell_type": "code",
   "execution_count": 4,
   "metadata": {},
   "outputs": [],
   "source": [
    "a = gpd.read_file('557_zone.SHP')\n",
    "a['zid_from']=a['NO']\n",
    "a['zid_to']=a['NO']"
   ]
  },
  {
   "cell_type": "code",
   "execution_count": 5,
   "metadata": {},
   "outputs": [],
   "source": [
    "b2=b[b['buffer_out_ind']==1]\n",
    "b2=b2[b2['30_min_ind']==1]\n",
    "b2=b2[['time_key','ts','zid_from','zid_to','count_ctn']]"
   ]
  },
  {
   "cell_type": "code",
   "execution_count": 6,
   "metadata": {},
   "outputs": [],
   "source": [
    "prop = pd.read_csv('prop2.csv',sep = ';', encoding='utf-8')\n",
    "prop['zid_from']=prop['Номер транспортного района']\n",
    "prop['zid_to']=prop['Номер транспортного района']\n",
    "prop=prop.drop(['Номер транспортного района'],axis=1)\n",
    "prop=prop.drop(['Муниципалитет (нижний уровень)'],axis=1)\n",
    "prop=prop.drop(['Город/ Муниципалитет'],axis=1)"
   ]
  },
  {
   "cell_type": "code",
   "execution_count": 7,
   "metadata": {},
   "outputs": [],
   "source": [
    "b3=b2[b2['time_key']=='2019-04-11']"
   ]
  },
  {
   "cell_type": "code",
   "execution_count": 32,
   "metadata": {},
   "outputs": [],
   "source": [
    "l=b3.merge(prop, on='zid_from')"
   ]
  },
  {
   "cell_type": "code",
   "execution_count": 33,
   "metadata": {},
   "outputs": [],
   "source": [
    "l=l.drop(['zid_to_y'],axis=1)\n",
    "l['FROM']=l['Пригород чего']\n",
    "l['Км от 156 района_FROM']=l['Км от 156 района']\n",
    "l=l.drop(['Пригород чего'],axis=1).drop(['Км от 156 района'],axis=1)\n",
    "l['zid_to']=l['zid_to_x']\n",
    "l=l.drop(['zid_to_x'],axis=1)"
   ]
  },
  {
   "cell_type": "code",
   "execution_count": 57,
   "metadata": {},
   "outputs": [],
   "source": [
    "l2=l.merge(prop, on='zid_to')\n",
    "l2['TO']=l2['Пригород чего']\n",
    "l2=l2.drop(['Км от 156 района'],axis=1)\n",
    "l2=l2.drop(['Пригород чего'],axis=1)\n",
    "l2['zid_from']=l2['zid_from_x']"
   ]
  },
  {
   "cell_type": "code",
   "execution_count": 58,
   "metadata": {},
   "outputs": [],
   "source": [
    "Samara_Tol=l2[(l2['TO']=='городской округ Самара') | (l2['TO']=='городской округ Тольятти')]"
   ]
  },
  {
   "cell_type": "code",
   "execution_count": 59,
   "metadata": {},
   "outputs": [
    {
     "data": {
      "text/plain": [
       "array([  1,   2,   4,   6,   7,   8,   9,  10,  11,  12,  13,  14,  15,\n",
       "        16,  17,  18,  19,  20,  21,  22,  23,  24,  25,  26,  27,  28,\n",
       "        30,  31,  32,  33,  34,  35,  36,  37,  38,  39,  40,  41,  42,\n",
       "        43,  44,  45,  46,  47,  48,  49,  50,  51,  53,  54,  56,  57,\n",
       "        58,  59,  61,  62,  65,  66,  67,  68,  69,  71,  72,  73,  74,\n",
       "        75,  76,  78,  81,  82,  85,  86,  87,  88,  89,  90,  91,  95,\n",
       "        96,  97, 100, 101, 106, 107, 115, 116, 119, 120, 121, 122, 123,\n",
       "       125, 126, 127, 128, 130, 131, 132, 134, 135, 138, 140, 142, 143,\n",
       "       144, 145, 146, 147, 148, 149, 150, 151, 152, 153, 154, 155, 156,\n",
       "       157, 158, 159, 160, 161, 162, 163, 164, 165, 166, 167, 168, 170,\n",
       "       171, 172, 173, 174, 178, 179, 181, 182, 183, 184, 185, 187, 189,\n",
       "       190, 191, 193, 196, 199, 210, 212, 216, 217, 220, 223, 224, 225,\n",
       "       226, 227, 228, 229, 230, 231, 233, 238, 242, 246, 248, 249, 251,\n",
       "       257, 258, 259, 260, 261, 264, 265, 266, 269, 270, 272, 274, 275,\n",
       "       276, 277, 278, 287, 290, 294, 295, 296, 297, 298, 299, 300, 301,\n",
       "       302, 303, 304, 305, 306, 308, 309, 310, 311, 320, 321, 323, 325,\n",
       "       328, 330, 331, 333, 335, 336, 337, 338, 339, 340, 341, 342, 343,\n",
       "       344, 345, 347, 349, 350, 351, 354, 355, 365, 367, 376, 383, 386,\n",
       "       389, 399, 401, 404, 407, 412, 415, 422, 423, 426, 429, 438, 449,\n",
       "       450, 458, 466, 468, 470, 474, 475, 477, 478, 479, 480, 482, 485,\n",
       "       486, 493, 494, 495, 496, 498, 499, 500, 502, 503, 504, 505, 507,\n",
       "       509, 511, 512, 515, 516, 517, 518, 519, 520, 521, 522, 524, 525,\n",
       "       527, 528, 529, 530, 531, 532, 534, 535, 536, 537, 538, 539, 540,\n",
       "       541, 542, 543, 544, 545, 546, 547, 548, 549, 550, 551, 552, 553,\n",
       "       554, 555, 556,  63, 108, 124, 137, 188, 195, 222, 307, 329, 377,\n",
       "       420, 432, 434, 557,  99, 289, 366, 378, 379, 501, 204, 280, 442,\n",
       "       481, 279, 283, 268, 136, 441,   3,   5,  52,  60,  64,  70,  79,\n",
       "        83,  93, 109, 112, 118, 129, 186, 202, 203, 208, 234, 252, 282,\n",
       "       414, 436, 440, 510, 514,  29, 103, 256, 317, 388, 105, 326, 139,\n",
       "       110, 245, 409, 400,  80,  94, 176, 192, 197, 218, 243, 332, 371,\n",
       "       417, 454, 462, 483, 490, 513,  98, 410, 431, 533, 316, 402, 359,\n",
       "       291, 113, 322, 508, 358, 286, 393, 369, 200, 240, 324, 523, 177,\n",
       "       221, 348, 133, 334, 497, 214, 346, 352, 489, 327, 273, 362, 461,\n",
       "       473, 175, 205, 318, 267, 319, 448, 526, 232, 427, 253, 141,  77,\n",
       "       111, 169, 465, 453, 421, 452, 293, 451, 271, 443, 211, 114, 314,\n",
       "       444, 263, 405, 255, 209, 455, 180, 237, 201, 476, 104, 491, 361,\n",
       "       102, 262, 446, 406, 254,  55, 353, 394, 416, 439, 463,  84, 418,\n",
       "       285, 194, 424, 250, 413, 430, 488, 198, 419, 313, 372, 117, 381,\n",
       "       312, 403, 447, 215, 247, 315], dtype=int64)"
      ]
     },
     "execution_count": 59,
     "metadata": {},
     "output_type": "execute_result"
    }
   ],
   "source": [
    "Samara_Tol['zid_from'].unique()"
   ]
  },
  {
   "cell_type": "code",
   "execution_count": 60,
   "metadata": {},
   "outputs": [],
   "source": [
    "Samara_Tol=pd.DataFrame(Samara_Tol.groupby(['zid_from','FROM','TO']).agg({'count_ctn': np.sum})).reset_index()"
   ]
  },
  {
   "cell_type": "code",
   "execution_count": 61,
   "metadata": {},
   "outputs": [],
   "source": [
    "Samara_Tol.to_csv('res.csv')"
   ]
  },
  {
   "cell_type": "code",
   "execution_count": 53,
   "metadata": {},
   "outputs": [
    {
     "name": "stderr",
     "output_type": "stream",
     "text": [
      "C:\\Users\\makol\\Anaconda3\\lib\\site-packages\\ipykernel_launcher.py:1: UserWarning: Pandas doesn't allow columns to be created via a new attribute name - see https://pandas.pydata.org/pandas-docs/stable/indexing.html#attribute-access\n",
      "  \"\"\"Entry point for launching an IPython kernel.\n"
     ]
    }
   ],
   "source": [
    "Samara_Tol.сolumns=['zid_from','zid_to','FROM','TO','count_ctn']"
   ]
  },
  {
   "cell_type": "code",
   "execution_count": 54,
   "metadata": {},
   "outputs": [],
   "source": [
    "Samara_Tol2=Samara_Tol.merge(a, on='zid_from').drop(['NO'], axis=1)\n"
   ]
  },
  {
   "cell_type": "code",
   "execution_count": 55,
   "metadata": {},
   "outputs": [],
   "source": [
    "total1 = gpd.GeoDataFrame(Samara_Tol2, geometry='geometry')\n",
    "total1.crs='epsg:4326'\n",
    "total1.to_file('Samara_to_Tolyat.shp', driver='ESRI Shapefile',encoding=\"utf-8\")"
   ]
  },
  {
   "cell_type": "code",
   "execution_count": null,
   "metadata": {},
   "outputs": [],
   "source": []
  }
 ],
 "metadata": {
  "kernelspec": {
   "display_name": "Python 3",
   "language": "python",
   "name": "python3"
  },
  "language_info": {
   "codemirror_mode": {
    "name": "ipython",
    "version": 3
   },
   "file_extension": ".py",
   "mimetype": "text/x-python",
   "name": "python",
   "nbconvert_exporter": "python",
   "pygments_lexer": "ipython3",
   "version": "3.8.3"
  }
 },
 "nbformat": 4,
 "nbformat_minor": 2
}
