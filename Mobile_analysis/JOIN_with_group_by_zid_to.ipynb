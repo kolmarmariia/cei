{
 "cells": [
  {
   "cell_type": "code",
   "execution_count": 1,
   "metadata": {},
   "outputs": [],
   "source": [
    "import geopandas as gpd\n",
    "import pandas as pd\n",
    "import numpy as np\n",
    "import json  as js\n",
    "from geopandas import GeoDataFrame\n",
    "from shapely.geometry import Point\n",
    "import csv"
   ]
  },
  {
   "cell_type": "code",
   "execution_count": 2,
   "metadata": {},
   "outputs": [],
   "source": [
    "#a = gpd.read_file('\\JOIN\\work_Moscow_MA_municip.shp', encoding='cp1251')\n",
    "b = pd.read_csv('CEI_report_v_1_20200813.csv', sep = ';', encoding='utf8')\n",
    "a = gpd.read_file('Самарская область транспортные районы 557_zone.SHP')\n",
    "a = a.to_crs('epsg:4326')"
   ]
  },
  {
   "cell_type": "code",
   "execution_count": 5,
   "metadata": {},
   "outputs": [],
   "source": [
    "zid_from=b.drop(['zid_from'], axis=1)"
   ]
  },
  {
   "cell_type": "code",
   "execution_count": 6,
   "metadata": {},
   "outputs": [],
   "source": [
    "zid_from_prom=zid_from.drop(['ts'], axis=1)"
   ]
  },
  {
   "cell_type": "code",
   "execution_count": 7,
   "metadata": {},
   "outputs": [],
   "source": [
    "zid_from2=pd.DataFrame(zid_from_prom.groupby(['time_key','zid_to']).agg({'count_ctn': np.sum})).reset_index()"
   ]
  },
  {
   "cell_type": "code",
   "execution_count": 8,
   "metadata": {},
   "outputs": [],
   "source": [
    "t=zid_from2.merge(a, on='zid_to')"
   ]
  },
  {
   "cell_type": "code",
   "execution_count": 10,
   "metadata": {},
   "outputs": [],
   "source": [
    "zid_from_1=zid_from2[zid_from2['time_key'] == '2019-02-07']\n",
    "zid_from_2=zid_from2[zid_from2['time_key'] == '2019-02-08']\n",
    "zid_from_3=zid_from2[zid_from2['time_key'] == '2019-02-09']\n",
    "zid_from_4=zid_from2[zid_from2['time_key'] == '2019-04-11']\n",
    "zid_from_5=zid_from2[zid_from2['time_key'] == '2019-04-12']\n",
    "zid_from_6=zid_from2[zid_from2['time_key'] == '2019-04-13']\n",
    "zid_from_7=zid_from2[zid_from2['time_key'] == '2019-07-11']\n",
    "zid_from_8=zid_from2[zid_from2['time_key'] == '2019-07-12']\n",
    "zid_from_9=zid_from2[zid_from2['time_key'] == '2019-07-13']\n",
    "zid_from_10=zid_from2[zid_from2['time_key'] == '2019-10-17']\n",
    "zid_from_11=zid_from2[zid_from2['time_key'] == '2019-10-18']\n",
    "zid_from_12=zid_from2[zid_from2['time_key'] == '2019-10-19']"
   ]
  },
  {
   "cell_type": "code",
   "execution_count": 11,
   "metadata": {},
   "outputs": [],
   "source": [
    "t1=zid_from_1.merge(a, on='zid_to').drop(['zid_from'], axis=1).drop(['NO'], axis=1)\n",
    "t2=zid_from_2.merge(a, on='zid_to').drop(['zid_from'], axis=1).drop(['NO'], axis=1)\n",
    "t3=zid_from_3.merge(a, on='zid_to').drop(['zid_from'], axis=1).drop(['NO'], axis=1)\n",
    "t4=zid_from_4.merge(a, on='zid_to').drop(['zid_from'], axis=1).drop(['NO'], axis=1)\n",
    "t5=zid_from_5.merge(a, on='zid_to').drop(['zid_from'], axis=1).drop(['NO'], axis=1)\n",
    "t6=zid_from_6.merge(a, on='zid_to').drop(['zid_from'], axis=1).drop(['NO'], axis=1)\n",
    "t7=zid_from_7.merge(a, on='zid_to').drop(['zid_from'], axis=1).drop(['NO'], axis=1)\n",
    "t8=zid_from_8.merge(a, on='zid_to').drop(['zid_from'], axis=1).drop(['NO'], axis=1)\n",
    "t9=zid_from_9.merge(a, on='zid_to').drop(['zid_from'], axis=1).drop(['NO'], axis=1)\n",
    "t10=zid_from_10.merge(a, on='zid_to').drop(['zid_from'], axis=1).drop(['NO'], axis=1)\n",
    "t11=zid_from_11.merge(a, on='zid_to').drop(['zid_from'], axis=1).drop(['NO'], axis=1)\n",
    "t12=zid_from_12.merge(a, on='zid_to').drop(['zid_from'], axis=1).drop(['NO'], axis=1)"
   ]
  },
  {
   "cell_type": "code",
   "execution_count": 12,
   "metadata": {},
   "outputs": [],
   "source": [
    "total1 = gpd.GeoDataFrame(t1, geometry='geometry')\n",
    "total1.crs='epsg:4326'\n",
    "total1.to_file('2019-02-07.shp', driver='ESRI Shapefile')\n",
    "total2 = gpd.GeoDataFrame(t2, geometry='geometry')\n",
    "total2.crs='epsg:4326'\n",
    "total2.to_file('2019-02-08.shp', driver='ESRI Shapefile')\n",
    "total3 = gpd.GeoDataFrame(t3, geometry='geometry')\n",
    "total3.crs='epsg:4326'\n",
    "total3.to_file('2019-02-09.shp', driver='ESRI Shapefile')\n",
    "total4 = gpd.GeoDataFrame(t4, geometry='geometry')\n",
    "total4.crs='epsg:4326'\n",
    "total4.to_file('2019-04-11.shp', driver='ESRI Shapefile')\n",
    "total5 = gpd.GeoDataFrame(t5, geometry='geometry')\n",
    "total5.crs='epsg:4326'\n",
    "total5.to_file('2019-04-12.shp', driver='ESRI Shapefile')\n",
    "total6 = gpd.GeoDataFrame(t6, geometry='geometry')\n",
    "total6.crs='epsg:4326'\n",
    "total6.to_file('2019-04-13.shp', driver='ESRI Shapefile')\n",
    "total7 = gpd.GeoDataFrame(t7, geometry='geometry')\n",
    "total7.crs='epsg:4326'\n",
    "total7.to_file('2019-07-11.shp', driver='ESRI Shapefile')\n",
    "total8 = gpd.GeoDataFrame(t8, geometry='geometry')\n",
    "total8.crs='epsg:4326'\n",
    "total8.to_file('2019-07-12.shp', driver='ESRI Shapefile')\n",
    "total9 = gpd.GeoDataFrame(t9, geometry='geometry')\n",
    "total9.crs='epsg:4326'\n",
    "total9.to_file('2019-07-13.shp', driver='ESRI Shapefile')\n",
    "total10 = gpd.GeoDataFrame(t10, geometry='geometry')\n",
    "total10.crs='epsg:4326'\n",
    "total10.to_file('2019-10-17.shp', driver='ESRI Shapefile')\n",
    "total11 = gpd.GeoDataFrame(t11, geometry='geometry')\n",
    "total11.crs='epsg:4326'\n",
    "total11.to_file('2019-10-18.shp', driver='ESRI Shapefile')\n",
    "total12 = gpd.GeoDataFrame(t12, geometry='geometry')\n",
    "total12.crs='epsg:4326'\n",
    "total12.to_file('2019-10-19.shp', driver='ESRI Shapefile')"
   ]
  },
  {
   "cell_type": "code",
   "execution_count": null,
   "metadata": {},
   "outputs": [],
   "source": []
  }
 ],
 "metadata": {
  "kernelspec": {
   "display_name": "Python 3",
   "language": "python",
   "name": "python3"
  },
  "language_info": {
   "codemirror_mode": {
    "name": "ipython",
    "version": 3
   },
   "file_extension": ".py",
   "mimetype": "text/x-python",
   "name": "python",
   "nbconvert_exporter": "python",
   "pygments_lexer": "ipython3",
   "version": "3.7.4"
  }
 },
 "nbformat": 4,
 "nbformat_minor": 2
}
