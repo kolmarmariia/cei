{
 "cells": [
  {
   "cell_type": "code",
   "execution_count": 1,
   "metadata": {},
   "outputs": [],
   "source": [
    "#import geopandas as gpd\n",
    "import pandas as pd\n",
    "import numpy as np\n",
    "import json  as js\n",
    "#from geopandas import GeoDataFrame\n",
    "#from shapely.geometry import Point\n",
    "#import shapely\n",
    "from datetime import datetime as dt\n",
    "import csv"
   ]
  },
  {
   "cell_type": "code",
   "execution_count": 2,
   "metadata": {},
   "outputs": [],
   "source": [
    "#path='C:\\\\Users\\\\makol\\\\Documents\\\\Python_Scripts\\\\Samara_mobile\\\\CEI_report_v_3_20200915\\\\with_2G\\\\'"
   ]
  },
  {
   "cell_type": "code",
   "execution_count": 3,
   "metadata": {},
   "outputs": [],
   "source": [
    "aglom = pd.read_csv('STA.csv', sep = ';', encoding='utf8')"
   ]
  },
  {
   "cell_type": "code",
   "execution_count": 2,
   "metadata": {},
   "outputs": [],
   "source": [
    "b = pd.read_csv('report_f_all_v3.csv', sep = ';', encoding='utf8')"
   ]
  },
  {
   "cell_type": "code",
   "execution_count": 5,
   "metadata": {},
   "outputs": [
    {
     "data": {
      "text/plain": [
       "13832242"
      ]
     },
     "execution_count": 5,
     "metadata": {},
     "output_type": "execute_result"
    }
   ],
   "source": [
    "len(b)"
   ]
  },
  {
   "cell_type": "code",
   "execution_count": 11,
   "metadata": {},
   "outputs": [
    {
     "data": {
      "text/html": [
       "<div>\n",
       "<style scoped>\n",
       "    .dataframe tbody tr th:only-of-type {\n",
       "        vertical-align: middle;\n",
       "    }\n",
       "\n",
       "    .dataframe tbody tr th {\n",
       "        vertical-align: top;\n",
       "    }\n",
       "\n",
       "    .dataframe thead th {\n",
       "        text-align: right;\n",
       "    }\n",
       "</style>\n",
       "<table border=\"1\" class=\"dataframe\">\n",
       "  <thead>\n",
       "    <tr style=\"text-align: right;\">\n",
       "      <th></th>\n",
       "      <th>time_key</th>\n",
       "      <th>ts</th>\n",
       "      <th>zid_from</th>\n",
       "      <th>zid_to</th>\n",
       "      <th>15_min_ind</th>\n",
       "      <th>30_min_ind</th>\n",
       "      <th>60_min_ind</th>\n",
       "      <th>90_min_ind</th>\n",
       "      <th>buffer_out_ind</th>\n",
       "      <th>3_cells_ind</th>\n",
       "      <th>count_ctn</th>\n",
       "    </tr>\n",
       "  </thead>\n",
       "  <tbody>\n",
       "    <tr>\n",
       "      <th>0</th>\n",
       "      <td>2019-02-07</td>\n",
       "      <td>2019-02-07 03:00:00</td>\n",
       "      <td>1</td>\n",
       "      <td>6</td>\n",
       "      <td>1</td>\n",
       "      <td>1</td>\n",
       "      <td>1</td>\n",
       "      <td>1</td>\n",
       "      <td>1</td>\n",
       "      <td>0</td>\n",
       "      <td>2</td>\n",
       "    </tr>\n",
       "    <tr>\n",
       "      <th>1</th>\n",
       "      <td>2019-02-07</td>\n",
       "      <td>2019-02-07 03:00:00</td>\n",
       "      <td>1</td>\n",
       "      <td>23</td>\n",
       "      <td>1</td>\n",
       "      <td>1</td>\n",
       "      <td>1</td>\n",
       "      <td>0</td>\n",
       "      <td>1</td>\n",
       "      <td>0</td>\n",
       "      <td>1</td>\n",
       "    </tr>\n",
       "    <tr>\n",
       "      <th>2</th>\n",
       "      <td>2019-02-07</td>\n",
       "      <td>2019-02-07 03:00:00</td>\n",
       "      <td>1</td>\n",
       "      <td>25</td>\n",
       "      <td>1</td>\n",
       "      <td>1</td>\n",
       "      <td>1</td>\n",
       "      <td>1</td>\n",
       "      <td>1</td>\n",
       "      <td>0</td>\n",
       "      <td>1</td>\n",
       "    </tr>\n",
       "    <tr>\n",
       "      <th>3</th>\n",
       "      <td>2019-02-07</td>\n",
       "      <td>2019-02-07 03:00:00</td>\n",
       "      <td>1</td>\n",
       "      <td>31</td>\n",
       "      <td>1</td>\n",
       "      <td>1</td>\n",
       "      <td>1</td>\n",
       "      <td>1</td>\n",
       "      <td>1</td>\n",
       "      <td>0</td>\n",
       "      <td>1</td>\n",
       "    </tr>\n",
       "    <tr>\n",
       "      <th>4</th>\n",
       "      <td>2019-02-07</td>\n",
       "      <td>2019-02-07 03:00:00</td>\n",
       "      <td>1</td>\n",
       "      <td>62</td>\n",
       "      <td>1</td>\n",
       "      <td>0</td>\n",
       "      <td>0</td>\n",
       "      <td>0</td>\n",
       "      <td>1</td>\n",
       "      <td>0</td>\n",
       "      <td>1</td>\n",
       "    </tr>\n",
       "  </tbody>\n",
       "</table>\n",
       "</div>"
      ],
      "text/plain": [
       "     time_key                   ts  zid_from  zid_to  15_min_ind  30_min_ind  \\\n",
       "0  2019-02-07  2019-02-07 03:00:00         1       6           1           1   \n",
       "1  2019-02-07  2019-02-07 03:00:00         1      23           1           1   \n",
       "2  2019-02-07  2019-02-07 03:00:00         1      25           1           1   \n",
       "3  2019-02-07  2019-02-07 03:00:00         1      31           1           1   \n",
       "4  2019-02-07  2019-02-07 03:00:00         1      62           1           0   \n",
       "\n",
       "   60_min_ind  90_min_ind  buffer_out_ind  3_cells_ind  count_ctn  \n",
       "0           1           1               1            0          2  \n",
       "1           1           0               1            0          1  \n",
       "2           1           1               1            0          1  \n",
       "3           1           1               1            0          1  \n",
       "4           0           0               1            0          1  "
      ]
     },
     "execution_count": 11,
     "metadata": {},
     "output_type": "execute_result"
    }
   ],
   "source": [
    "b.head()"
   ]
  },
  {
   "cell_type": "code",
   "execution_count": null,
   "metadata": {},
   "outputs": [],
   "source": []
  },
  {
   "cell_type": "code",
   "execution_count": 6,
   "metadata": {},
   "outputs": [],
   "source": [
    "set_id=aglom['zid_from'].unique()"
   ]
  },
  {
   "cell_type": "code",
   "execution_count": 3,
   "metadata": {},
   "outputs": [],
   "source": [
    "b2=b[b['60_min_ind']==1]\n",
    "b2=b2[b2['buffer_out_ind']==1]\n",
    "#b2=b2[b2['zid_from'].isin(set_id)]\n",
    "#b2=b2[b2['zid_to'].isin(set_id)]"
   ]
  },
  {
   "cell_type": "code",
   "execution_count": 14,
   "metadata": {},
   "outputs": [
    {
     "data": {
      "text/plain": [
       "6453674"
      ]
     },
     "execution_count": 14,
     "metadata": {},
     "output_type": "execute_result"
    }
   ],
   "source": [
    "len(b2)"
   ]
  },
  {
   "cell_type": "code",
   "execution_count": 15,
   "metadata": {},
   "outputs": [
    {
     "data": {
      "text/plain": [
       "array(['2019-02-07', '2019-02-08', '2019-02-09', '2019-04-11',\n",
       "       '2019-04-12', '2019-04-13', '2019-07-11', '2019-07-12',\n",
       "       '2019-07-13', '2019-10-17', '2019-10-18', '2019-10-19'],\n",
       "      dtype=object)"
      ]
     },
     "execution_count": 15,
     "metadata": {},
     "output_type": "execute_result"
    }
   ],
   "source": [
    "b2['time_key'].unique()"
   ]
  },
  {
   "cell_type": "code",
   "execution_count": 4,
   "metadata": {},
   "outputs": [],
   "source": [
    "friday=b2[b2['time_key'].isin(['2019-02-08','2019-04-12','2019-07-13','2019-10-18'])]\n",
    "thuesday=b2[b2['time_key'].isin(['2019-02-07','2019-04-11','2019-07-11','2019-10-17'])]\n",
    "sat=b2[b2['time_key'].isin(['2019-02-09','2019-04-13','2019-07-13','2019-10-19'])]"
   ]
  },
  {
   "cell_type": "code",
   "execution_count": 5,
   "metadata": {},
   "outputs": [],
   "source": [
    "thuesday_morn=thuesday[thuesday['ts'].str.contains(' 07:30')]\\\n",
    "        .append(thuesday[thuesday['ts'].str.contains(' 08:')])\\\n",
    "        .append(thuesday[thuesday['ts'].str.contains(' 09:')])\\\n",
    "        .append(thuesday[thuesday['ts'].str.contains(' 10:00')])"
   ]
  },
  {
   "cell_type": "code",
   "execution_count": 6,
   "metadata": {},
   "outputs": [
    {
     "data": {
      "text/plain": [
       "array(['2019-02-07 07:30:00', '2019-04-11 07:30:00',\n",
       "       '2019-07-11 07:30:00', '2019-10-17 07:30:00',\n",
       "       '2019-02-07 08:00:00', '2019-02-07 08:30:00',\n",
       "       '2019-04-11 08:00:00', '2019-04-11 08:30:00',\n",
       "       '2019-07-11 08:00:00', '2019-07-11 08:30:00',\n",
       "       '2019-10-17 08:00:00', '2019-10-17 08:30:00',\n",
       "       '2019-02-07 09:00:00', '2019-02-07 09:30:00',\n",
       "       '2019-04-11 09:00:00', '2019-04-11 09:30:00',\n",
       "       '2019-07-11 09:00:00', '2019-07-11 09:30:00',\n",
       "       '2019-10-17 09:00:00', '2019-10-17 09:30:00',\n",
       "       '2019-02-07 10:00:00', '2019-04-11 10:00:00',\n",
       "       '2019-07-11 10:00:00', '2019-10-17 10:00:00'], dtype=object)"
      ]
     },
     "execution_count": 6,
     "metadata": {},
     "output_type": "execute_result"
    }
   ],
   "source": [
    "thuesday_morn['ts'].unique()"
   ]
  },
  {
   "cell_type": "code",
   "execution_count": 7,
   "metadata": {},
   "outputs": [],
   "source": [
    "zid_total_morn=pd.DataFrame(thuesday_morn.groupby(['time_key','zid_from','zid_to']).agg({'count_ctn': np.sum})).reset_index()"
   ]
  },
  {
   "cell_type": "code",
   "execution_count": 8,
   "metadata": {},
   "outputs": [],
   "source": [
    "total_morn=pd.DataFrame(zid_total_morn.groupby(['zid_from','zid_to']).agg({'count_ctn': np.mean})).reset_index()"
   ]
  },
  {
   "cell_type": "code",
   "execution_count": 9,
   "metadata": {},
   "outputs": [],
   "source": [
    "total_morn['morn_count_ctn']=total_morn['count_ctn'].apply(np.ceil)\n",
    "total_morn=total_morn.drop(['count_ctn'], axis=1)"
   ]
  },
  {
   "cell_type": "code",
   "execution_count": 19,
   "metadata": {},
   "outputs": [],
   "source": [
    "zid_total=pd.DataFrame(thuesday.groupby(['time_key','zid_from','zid_to']).agg({'count_ctn': np.sum})).reset_index()\n",
    "total=pd.DataFrame(zid_total.groupby(['zid_from','zid_to']).agg({'count_ctn': np.mean})).reset_index()\n",
    "total['all_day_count_ctn']=total['count_ctn'].apply(np.ceil)\n",
    "total=total.drop(['count_ctn'], axis=1)"
   ]
  },
  {
   "cell_type": "code",
   "execution_count": 20,
   "metadata": {},
   "outputs": [],
   "source": [
    "prop = pd.read_csv('prop2.csv',sep = ';', encoding='utf-8')\n",
    "prop['zid_from']=prop['Номер транспортного района']\n",
    "prop['zid_to']=prop['Номер транспортного района']\n",
    "prop=prop.drop(['Номер транспортного района'],axis=1)\n",
    "prop=prop.drop(['Муниципалитет (нижний уровень)'],axis=1)\n",
    "prop=prop.drop(['Город/ Муниципалитет'],axis=1)\n",
    "prop=prop.drop(['Км от 156 района'],axis=1)"
   ]
  },
  {
   "cell_type": "code",
   "execution_count": 21,
   "metadata": {},
   "outputs": [],
   "source": [
    "total=total.merge(total_morn,on = ['zid_from','zid_to'],how='outer')"
   ]
  },
  {
   "cell_type": "code",
   "execution_count": 22,
   "metadata": {},
   "outputs": [],
   "source": [
    "total=total.fillna(0)"
   ]
  },
  {
   "cell_type": "code",
   "execution_count": 23,
   "metadata": {},
   "outputs": [],
   "source": [
    "total=total.merge(prop.drop('zid_to',axis=1),on='zid_from',how='left')"
   ]
  },
  {
   "cell_type": "code",
   "execution_count": 24,
   "metadata": {},
   "outputs": [
    {
     "data": {
      "text/html": [
       "<div>\n",
       "<style scoped>\n",
       "    .dataframe tbody tr th:only-of-type {\n",
       "        vertical-align: middle;\n",
       "    }\n",
       "\n",
       "    .dataframe tbody tr th {\n",
       "        vertical-align: top;\n",
       "    }\n",
       "\n",
       "    .dataframe thead th {\n",
       "        text-align: right;\n",
       "    }\n",
       "</style>\n",
       "<table border=\"1\" class=\"dataframe\">\n",
       "  <thead>\n",
       "    <tr style=\"text-align: right;\">\n",
       "      <th></th>\n",
       "      <th>zid_from</th>\n",
       "      <th>zid_to</th>\n",
       "      <th>all_day_count_ctn</th>\n",
       "      <th>morn_count_ctn</th>\n",
       "      <th>Пригород чего</th>\n",
       "    </tr>\n",
       "  </thead>\n",
       "  <tbody>\n",
       "    <tr>\n",
       "      <th>0</th>\n",
       "      <td>1</td>\n",
       "      <td>2</td>\n",
       "      <td>15.0</td>\n",
       "      <td>3.0</td>\n",
       "      <td>городской округ Самара</td>\n",
       "    </tr>\n",
       "    <tr>\n",
       "      <th>1</th>\n",
       "      <td>1</td>\n",
       "      <td>3</td>\n",
       "      <td>53.0</td>\n",
       "      <td>9.0</td>\n",
       "      <td>городской округ Самара</td>\n",
       "    </tr>\n",
       "    <tr>\n",
       "      <th>2</th>\n",
       "      <td>1</td>\n",
       "      <td>4</td>\n",
       "      <td>61.0</td>\n",
       "      <td>11.0</td>\n",
       "      <td>городской округ Самара</td>\n",
       "    </tr>\n",
       "    <tr>\n",
       "      <th>3</th>\n",
       "      <td>1</td>\n",
       "      <td>5</td>\n",
       "      <td>3.0</td>\n",
       "      <td>1.0</td>\n",
       "      <td>городской округ Самара</td>\n",
       "    </tr>\n",
       "    <tr>\n",
       "      <th>4</th>\n",
       "      <td>1</td>\n",
       "      <td>6</td>\n",
       "      <td>385.0</td>\n",
       "      <td>60.0</td>\n",
       "      <td>городской округ Самара</td>\n",
       "    </tr>\n",
       "    <tr>\n",
       "      <th>...</th>\n",
       "      <td>...</td>\n",
       "      <td>...</td>\n",
       "      <td>...</td>\n",
       "      <td>...</td>\n",
       "      <td>...</td>\n",
       "    </tr>\n",
       "    <tr>\n",
       "      <th>99504</th>\n",
       "      <td>557</td>\n",
       "      <td>549</td>\n",
       "      <td>1.0</td>\n",
       "      <td>0.0</td>\n",
       "      <td>пригород Самары</td>\n",
       "    </tr>\n",
       "    <tr>\n",
       "      <th>99505</th>\n",
       "      <td>557</td>\n",
       "      <td>550</td>\n",
       "      <td>1.0</td>\n",
       "      <td>0.0</td>\n",
       "      <td>пригород Самары</td>\n",
       "    </tr>\n",
       "    <tr>\n",
       "      <th>99506</th>\n",
       "      <td>557</td>\n",
       "      <td>551</td>\n",
       "      <td>1.0</td>\n",
       "      <td>0.0</td>\n",
       "      <td>пригород Самары</td>\n",
       "    </tr>\n",
       "    <tr>\n",
       "      <th>99507</th>\n",
       "      <td>557</td>\n",
       "      <td>553</td>\n",
       "      <td>1.0</td>\n",
       "      <td>0.0</td>\n",
       "      <td>пригород Самары</td>\n",
       "    </tr>\n",
       "    <tr>\n",
       "      <th>99508</th>\n",
       "      <td>557</td>\n",
       "      <td>555</td>\n",
       "      <td>2.0</td>\n",
       "      <td>0.0</td>\n",
       "      <td>пригород Самары</td>\n",
       "    </tr>\n",
       "  </tbody>\n",
       "</table>\n",
       "<p>99509 rows × 5 columns</p>\n",
       "</div>"
      ],
      "text/plain": [
       "       zid_from  zid_to  all_day_count_ctn  morn_count_ctn  \\\n",
       "0             1       2               15.0             3.0   \n",
       "1             1       3               53.0             9.0   \n",
       "2             1       4               61.0            11.0   \n",
       "3             1       5                3.0             1.0   \n",
       "4             1       6              385.0            60.0   \n",
       "...         ...     ...                ...             ...   \n",
       "99504       557     549                1.0             0.0   \n",
       "99505       557     550                1.0             0.0   \n",
       "99506       557     551                1.0             0.0   \n",
       "99507       557     553                1.0             0.0   \n",
       "99508       557     555                2.0             0.0   \n",
       "\n",
       "                Пригород чего  \n",
       "0      городской округ Самара  \n",
       "1      городской округ Самара  \n",
       "2      городской округ Самара  \n",
       "3      городской округ Самара  \n",
       "4      городской округ Самара  \n",
       "...                       ...  \n",
       "99504         пригород Самары  \n",
       "99505         пригород Самары  \n",
       "99506         пригород Самары  \n",
       "99507         пригород Самары  \n",
       "99508         пригород Самары  \n",
       "\n",
       "[99509 rows x 5 columns]"
      ]
     },
     "execution_count": 24,
     "metadata": {},
     "output_type": "execute_result"
    }
   ],
   "source": [
    "total"
   ]
  },
  {
   "cell_type": "code",
   "execution_count": 25,
   "metadata": {},
   "outputs": [],
   "source": [
    "total=total.merge(prop.drop('zid_from',axis=1),on='zid_to',how='left')"
   ]
  },
  {
   "cell_type": "code",
   "execution_count": 28,
   "metadata": {},
   "outputs": [],
   "source": [
    "total.to_csv('Beeline_area.csv',sep=';',index=False,encoding='windows-1251')"
   ]
  },
  {
   "cell_type": "code",
   "execution_count": 25,
   "metadata": {},
   "outputs": [],
   "source": [
    "stz=pd.read_csv('STZ.csv',sep = ';', encoding='windows-1251')"
   ]
  },
  {
   "cell_type": "code",
   "execution_count": 26,
   "metadata": {},
   "outputs": [
    {
     "data": {
      "text/html": [
       "<div>\n",
       "<style scoped>\n",
       "    .dataframe tbody tr th:only-of-type {\n",
       "        vertical-align: middle;\n",
       "    }\n",
       "\n",
       "    .dataframe tbody tr th {\n",
       "        vertical-align: top;\n",
       "    }\n",
       "\n",
       "    .dataframe thead th {\n",
       "        text-align: right;\n",
       "    }\n",
       "</style>\n",
       "<table border=\"1\" class=\"dataframe\">\n",
       "  <thead>\n",
       "    <tr style=\"text-align: right;\">\n",
       "      <th></th>\n",
       "      <th>zid_from</th>\n",
       "      <th>zid_to</th>\n",
       "      <th>id_2</th>\n",
       "      <th>TR_type</th>\n",
       "      <th>POP_FROM</th>\n",
       "      <th>POP_TO</th>\n",
       "      <th>WORK_TO</th>\n",
       "      <th>STUD_TO</th>\n",
       "      <th>STZ_1</th>\n",
       "      <th>STZ_2</th>\n",
       "      <th>STZ_3</th>\n",
       "      <th>STZ_4</th>\n",
       "      <th>STZ_5</th>\n",
       "      <th>TC_from</th>\n",
       "      <th>TC_to</th>\n",
       "      <th>TC-TC</th>\n",
       "      <th>TC_GR</th>\n",
       "    </tr>\n",
       "  </thead>\n",
       "  <tbody>\n",
       "    <tr>\n",
       "      <th>0</th>\n",
       "      <td>1</td>\n",
       "      <td>3</td>\n",
       "      <td>1_3</td>\n",
       "      <td>8</td>\n",
       "      <td>8 131</td>\n",
       "      <td>20 729</td>\n",
       "      <td>17 411</td>\n",
       "      <td>954</td>\n",
       "      <td>469</td>\n",
       "      <td>442</td>\n",
       "      <td>399</td>\n",
       "      <td>397</td>\n",
       "      <td>439</td>\n",
       "      <td>0</td>\n",
       "      <td>4 708</td>\n",
       "      <td>4 708</td>\n",
       "      <td>1,02</td>\n",
       "    </tr>\n",
       "    <tr>\n",
       "      <th>1</th>\n",
       "      <td>1</td>\n",
       "      <td>4</td>\n",
       "      <td>1_4</td>\n",
       "      <td>3</td>\n",
       "      <td>8 131</td>\n",
       "      <td>1 030</td>\n",
       "      <td>1 628</td>\n",
       "      <td>0</td>\n",
       "      <td>367</td>\n",
       "      <td>407</td>\n",
       "      <td>470</td>\n",
       "      <td>473</td>\n",
       "      <td>411</td>\n",
       "      <td>0</td>\n",
       "      <td>0</td>\n",
       "      <td>0</td>\n",
       "      <td>1,00</td>\n",
       "    </tr>\n",
       "    <tr>\n",
       "      <th>2</th>\n",
       "      <td>1</td>\n",
       "      <td>6</td>\n",
       "      <td>1_6</td>\n",
       "      <td>3</td>\n",
       "      <td>8 131</td>\n",
       "      <td>69 971</td>\n",
       "      <td>11 292</td>\n",
       "      <td>988</td>\n",
       "      <td>340</td>\n",
       "      <td>370</td>\n",
       "      <td>418</td>\n",
       "      <td>421</td>\n",
       "      <td>374</td>\n",
       "      <td>0</td>\n",
       "      <td>5 498</td>\n",
       "      <td>5 498</td>\n",
       "      <td>1,02</td>\n",
       "    </tr>\n",
       "    <tr>\n",
       "      <th>3</th>\n",
       "      <td>1</td>\n",
       "      <td>7</td>\n",
       "      <td>1_7</td>\n",
       "      <td>3</td>\n",
       "      <td>8 131</td>\n",
       "      <td>895</td>\n",
       "      <td>179</td>\n",
       "      <td>0</td>\n",
       "      <td>317</td>\n",
       "      <td>402</td>\n",
       "      <td>539</td>\n",
       "      <td>545</td>\n",
       "      <td>413</td>\n",
       "      <td>0</td>\n",
       "      <td>939</td>\n",
       "      <td>939</td>\n",
       "      <td>1,00</td>\n",
       "    </tr>\n",
       "    <tr>\n",
       "      <th>4</th>\n",
       "      <td>1</td>\n",
       "      <td>8</td>\n",
       "      <td>1_8</td>\n",
       "      <td>3</td>\n",
       "      <td>8 131</td>\n",
       "      <td>3 506</td>\n",
       "      <td>928</td>\n",
       "      <td>0</td>\n",
       "      <td>294</td>\n",
       "      <td>332</td>\n",
       "      <td>393</td>\n",
       "      <td>396</td>\n",
       "      <td>337</td>\n",
       "      <td>0</td>\n",
       "      <td>0</td>\n",
       "      <td>0</td>\n",
       "      <td>1,00</td>\n",
       "    </tr>\n",
       "  </tbody>\n",
       "</table>\n",
       "</div>"
      ],
      "text/plain": [
       "   zid_from  zid_to id_2  TR_type POP_FROM  POP_TO WORK_TO STUD_TO  STZ_1  \\\n",
       "0         1       3  1_3        8    8 131  20 729  17 411     954    469   \n",
       "1         1       4  1_4        3    8 131   1 030   1 628       0    367   \n",
       "2         1       6  1_6        3    8 131  69 971  11 292     988    340   \n",
       "3         1       7  1_7        3    8 131     895     179       0    317   \n",
       "4         1       8  1_8        3    8 131   3 506     928       0    294   \n",
       "\n",
       "   STZ_2  STZ_3  STZ_4  STZ_5 TC_from  TC_to  TC-TC TC_GR  \n",
       "0    442    399    397    439       0  4 708  4 708  1,02  \n",
       "1    407    470    473    411       0      0      0  1,00  \n",
       "2    370    418    421    374       0  5 498  5 498  1,02  \n",
       "3    402    539    545    413       0    939    939  1,00  \n",
       "4    332    393    396    337       0      0      0  1,00  "
      ]
     },
     "execution_count": 26,
     "metadata": {},
     "output_type": "execute_result"
    }
   ],
   "source": [
    "stz.head()"
   ]
  },
  {
   "cell_type": "code",
   "execution_count": 52,
   "metadata": {},
   "outputs": [],
   "source": [
    "total_all=total.merge(stz,on = ['zid_from','zid_to'])"
   ]
  },
  {
   "cell_type": "code",
   "execution_count": 53,
   "metadata": {},
   "outputs": [
    {
     "data": {
      "text/plain": [
       "4956"
      ]
     },
     "execution_count": 53,
     "metadata": {},
     "output_type": "execute_result"
    }
   ],
   "source": [
    "len(total_all)"
   ]
  },
  {
   "cell_type": "code",
   "execution_count": 54,
   "metadata": {},
   "outputs": [],
   "source": [
    "Sosedi=pd.read_csv('Sosedi.csv',sep = ';', encoding='windows-1251')"
   ]
  },
  {
   "cell_type": "code",
   "execution_count": 55,
   "metadata": {},
   "outputs": [],
   "source": [
    "pares=Sosedi['pares'].unique()"
   ]
  },
  {
   "cell_type": "code",
   "execution_count": 56,
   "metadata": {},
   "outputs": [],
   "source": [
    "#total_all['pares']=total_all['zid_from'].astype(str)+'_'+total_all['zid_to'].astype(str)"
   ]
  },
  {
   "cell_type": "code",
   "execution_count": 57,
   "metadata": {},
   "outputs": [],
   "source": [
    "#total_all=total_all[~total_all['pares'].isin(pares)]"
   ]
  },
  {
   "cell_type": "code",
   "execution_count": 58,
   "metadata": {},
   "outputs": [
    {
     "data": {
      "text/plain": [
       "4956"
      ]
     },
     "execution_count": 58,
     "metadata": {},
     "output_type": "execute_result"
    }
   ],
   "source": [
    "len(total_all)"
   ]
  },
  {
   "cell_type": "code",
   "execution_count": 59,
   "metadata": {},
   "outputs": [],
   "source": [
    "ID=pd.read_csv('ID_NEW.csv',sep = ';', encoding='windows-1251')"
   ]
  },
  {
   "cell_type": "code",
   "execution_count": 60,
   "metadata": {},
   "outputs": [],
   "source": [
    "ID['zid_from']=ID['zid_from'].astype(int)"
   ]
  },
  {
   "cell_type": "code",
   "execution_count": 61,
   "metadata": {},
   "outputs": [],
   "source": [
    "total_new_id=total_all.merge(ID,on = 'zid_from').rename(columns={\"ID\": \"zid_from_new\", \"zid_to_x\": \"zid_to\"})"
   ]
  },
  {
   "cell_type": "code",
   "execution_count": 62,
   "metadata": {},
   "outputs": [],
   "source": [
    "total_new_id=total_new_id.drop(['zid_from','zid_to_y'],axis=1)"
   ]
  },
  {
   "cell_type": "code",
   "execution_count": 63,
   "metadata": {},
   "outputs": [],
   "source": [
    "total_new_id=total_new_id.merge(ID,on = 'zid_to')\n",
    "total_new_id['zid_to_new']=total_new_id['ID']"
   ]
  },
  {
   "cell_type": "code",
   "execution_count": 64,
   "metadata": {},
   "outputs": [
    {
     "data": {
      "text/plain": [
       "array([  3,   4,   6,   7,   8,   9,  10,  12,  13,  14,  16,  22,  23,\n",
       "        24,  25,  31,  34,  36,  37,  45,  49,  51,  71,  72,  75,  76,\n",
       "        81, 120, 130, 145, 146, 156, 161, 162, 163, 166, 228, 278, 296,\n",
       "       301, 302, 303, 305, 310, 336, 479, 485, 532, 535, 537, 538, 546,\n",
       "       550, 143, 147, 148, 153, 154, 155, 160, 186, 229, 276, 519, 543,\n",
       "       544, 547, 553,   1,   2, 144, 157, 158, 164, 165, 181, 227, 277,\n",
       "       539, 541, 542, 545, 549, 551, 552, 555, 556,  18,  19,  20,  21,\n",
       "        26,  27,  11,  15,  17,  28,  32,  33,  38,  40,  42,  43,  44,\n",
       "        46, 125, 293, 127, 131,  30,  41, 494,   5,  39, 128, 129, 493,\n",
       "       495,  35, 496, 140, 119, 126, 132, 274, 299, 540, 554, 509, 188,\n",
       "       124, 150, 223, 259, 478, 517, 151, 159, 224, 230, 515, 518, 522,\n",
       "       516, 149, 226, 524, 511, 512, 513, 514, 510, 548, 523, 123, 204,\n",
       "       225, 152, 231, 275, 525, 258, 477, 520, 521, 295, 300, 475])"
      ]
     },
     "execution_count": 64,
     "metadata": {},
     "output_type": "execute_result"
    }
   ],
   "source": [
    "total_new_id['zid_from'].unique()"
   ]
  },
  {
   "cell_type": "code",
   "execution_count": null,
   "metadata": {},
   "outputs": [],
   "source": []
  },
  {
   "cell_type": "code",
   "execution_count": null,
   "metadata": {},
   "outputs": [],
   "source": []
  },
  {
   "cell_type": "code",
   "execution_count": 65,
   "metadata": {},
   "outputs": [],
   "source": [
    "total_new_id_sum=pd.DataFrame(total_new_id.groupby(['zid_from_new','zid_to_new'])\\\n",
    "                              .agg({'all_day_count_ctn': np.sum,'morn_count_ctn': np.sum,\\\n",
    "                                    'STZ_1': np.mean,'STZ_2': np.mean,'STZ_3': np.mean,'STZ_4': np.mean,'STZ_5': np.mean})).reset_index()"
   ]
  },
  {
   "cell_type": "code",
   "execution_count": 66,
   "metadata": {},
   "outputs": [],
   "source": [
    "total_new_id_sum=total_new_id_sum[total_new_id_sum['all_day_count_ctn']>49]"
   ]
  },
  {
   "cell_type": "code",
   "execution_count": 70,
   "metadata": {},
   "outputs": [],
   "source": [
    "pares2=pd.read_csv('without_pares.csv',sep = ';', encoding='windows-1251')\n",
    "pares=pares2['pare'].unique()"
   ]
  },
  {
   "cell_type": "code",
   "execution_count": 71,
   "metadata": {},
   "outputs": [],
   "source": [
    "total_new_id_sum['pares']=total_new_id_sum['zid_from_new'].astype(str)+'_'+total_new_id_sum['zid_to_new'].astype(str)"
   ]
  },
  {
   "cell_type": "code",
   "execution_count": 72,
   "metadata": {},
   "outputs": [],
   "source": [
    "total_new_id_sum2=total_new_id_sum[~total_new_id_sum['pares'].isin(pares)]"
   ]
  },
  {
   "cell_type": "code",
   "execution_count": 73,
   "metadata": {},
   "outputs": [],
   "source": [
    "total_new_id_sum2.to_csv('Mobile_for_Model.csv')"
   ]
  },
  {
   "cell_type": "code",
   "execution_count": null,
   "metadata": {},
   "outputs": [],
   "source": []
  },
  {
   "cell_type": "code",
   "execution_count": 176,
   "metadata": {},
   "outputs": [],
   "source": [
    "proverka = thuesday[(thuesday['zid_from'].isin(Samara))&(thuesday['zid_to'].isin(Samara))]"
   ]
  },
  {
   "cell_type": "code",
   "execution_count": 177,
   "metadata": {},
   "outputs": [],
   "source": [
    "proverka.to_csv('Tol_Samara.csv')"
   ]
  },
  {
   "cell_type": "code",
   "execution_count": 34,
   "metadata": {},
   "outputs": [],
   "source": [
    "stz=pd.read_csv('STZ.csv',sep = ';', encoding='windows-1251')"
   ]
  },
  {
   "cell_type": "code",
   "execution_count": 35,
   "metadata": {},
   "outputs": [
    {
     "data": {
      "text/html": [
       "<div>\n",
       "<style scoped>\n",
       "    .dataframe tbody tr th:only-of-type {\n",
       "        vertical-align: middle;\n",
       "    }\n",
       "\n",
       "    .dataframe tbody tr th {\n",
       "        vertical-align: top;\n",
       "    }\n",
       "\n",
       "    .dataframe thead th {\n",
       "        text-align: right;\n",
       "    }\n",
       "</style>\n",
       "<table border=\"1\" class=\"dataframe\">\n",
       "  <thead>\n",
       "    <tr style=\"text-align: right;\">\n",
       "      <th></th>\n",
       "      <th>zid_from</th>\n",
       "      <th>zid_to</th>\n",
       "      <th>STZ_1</th>\n",
       "      <th>STZ_2</th>\n",
       "      <th>STZ_3</th>\n",
       "      <th>STZ_4</th>\n",
       "      <th>STZ_5</th>\n",
       "      <th>Unnamed: 7</th>\n",
       "      <th>Unnamed: 8</th>\n",
       "      <th>Unnamed: 9</th>\n",
       "      <th>Unnamed: 10</th>\n",
       "      <th>Unnamed: 11</th>\n",
       "      <th>Unnamed: 12</th>\n",
       "      <th>Unnamed: 13</th>\n",
       "      <th>Unnamed: 14</th>\n",
       "      <th>Unnamed: 15</th>\n",
       "    </tr>\n",
       "  </thead>\n",
       "  <tbody>\n",
       "    <tr>\n",
       "      <th>0</th>\n",
       "      <td>1</td>\n",
       "      <td>2</td>\n",
       "      <td>484</td>\n",
       "      <td>469</td>\n",
       "      <td>445</td>\n",
       "      <td>444</td>\n",
       "      <td>467</td>\n",
       "      <td>NaN</td>\n",
       "      <td>NaN</td>\n",
       "      <td>NaN</td>\n",
       "      <td>NaN</td>\n",
       "      <td>NaN</td>\n",
       "      <td>NaN</td>\n",
       "      <td>NaN</td>\n",
       "      <td>NaN</td>\n",
       "      <td>NaN</td>\n",
       "    </tr>\n",
       "    <tr>\n",
       "      <th>1</th>\n",
       "      <td>1</td>\n",
       "      <td>3</td>\n",
       "      <td>469</td>\n",
       "      <td>442</td>\n",
       "      <td>399</td>\n",
       "      <td>397</td>\n",
       "      <td>439</td>\n",
       "      <td>NaN</td>\n",
       "      <td>NaN</td>\n",
       "      <td>NaN</td>\n",
       "      <td>NaN</td>\n",
       "      <td>NaN</td>\n",
       "      <td>NaN</td>\n",
       "      <td>NaN</td>\n",
       "      <td>NaN</td>\n",
       "      <td>NaN</td>\n",
       "    </tr>\n",
       "    <tr>\n",
       "      <th>2</th>\n",
       "      <td>1</td>\n",
       "      <td>4</td>\n",
       "      <td>367</td>\n",
       "      <td>407</td>\n",
       "      <td>470</td>\n",
       "      <td>473</td>\n",
       "      <td>411</td>\n",
       "      <td>NaN</td>\n",
       "      <td>NaN</td>\n",
       "      <td>NaN</td>\n",
       "      <td>NaN</td>\n",
       "      <td>NaN</td>\n",
       "      <td>NaN</td>\n",
       "      <td>NaN</td>\n",
       "      <td>NaN</td>\n",
       "      <td>NaN</td>\n",
       "    </tr>\n",
       "    <tr>\n",
       "      <th>3</th>\n",
       "      <td>1</td>\n",
       "      <td>7</td>\n",
       "      <td>317</td>\n",
       "      <td>402</td>\n",
       "      <td>539</td>\n",
       "      <td>545</td>\n",
       "      <td>413</td>\n",
       "      <td>NaN</td>\n",
       "      <td>NaN</td>\n",
       "      <td>NaN</td>\n",
       "      <td>NaN</td>\n",
       "      <td>NaN</td>\n",
       "      <td>NaN</td>\n",
       "      <td>NaN</td>\n",
       "      <td>NaN</td>\n",
       "      <td>NaN</td>\n",
       "    </tr>\n",
       "    <tr>\n",
       "      <th>4</th>\n",
       "      <td>1</td>\n",
       "      <td>8</td>\n",
       "      <td>294</td>\n",
       "      <td>332</td>\n",
       "      <td>393</td>\n",
       "      <td>396</td>\n",
       "      <td>337</td>\n",
       "      <td>NaN</td>\n",
       "      <td>NaN</td>\n",
       "      <td>NaN</td>\n",
       "      <td>NaN</td>\n",
       "      <td>NaN</td>\n",
       "      <td>NaN</td>\n",
       "      <td>NaN</td>\n",
       "      <td>NaN</td>\n",
       "      <td>NaN</td>\n",
       "    </tr>\n",
       "    <tr>\n",
       "      <th>...</th>\n",
       "      <td>...</td>\n",
       "      <td>...</td>\n",
       "      <td>...</td>\n",
       "      <td>...</td>\n",
       "      <td>...</td>\n",
       "      <td>...</td>\n",
       "      <td>...</td>\n",
       "      <td>...</td>\n",
       "      <td>...</td>\n",
       "      <td>...</td>\n",
       "      <td>...</td>\n",
       "      <td>...</td>\n",
       "      <td>...</td>\n",
       "      <td>...</td>\n",
       "      <td>...</td>\n",
       "      <td>...</td>\n",
       "    </tr>\n",
       "    <tr>\n",
       "      <th>68901</th>\n",
       "      <td>218</td>\n",
       "      <td>349</td>\n",
       "      <td>1005</td>\n",
       "      <td>1034</td>\n",
       "      <td>1081</td>\n",
       "      <td>1083</td>\n",
       "      <td>1038</td>\n",
       "      <td>NaN</td>\n",
       "      <td>NaN</td>\n",
       "      <td>NaN</td>\n",
       "      <td>NaN</td>\n",
       "      <td>NaN</td>\n",
       "      <td>NaN</td>\n",
       "      <td>NaN</td>\n",
       "      <td>NaN</td>\n",
       "      <td>NaN</td>\n",
       "    </tr>\n",
       "    <tr>\n",
       "      <th>68902</th>\n",
       "      <td>218</td>\n",
       "      <td>475</td>\n",
       "      <td>821</td>\n",
       "      <td>845</td>\n",
       "      <td>883</td>\n",
       "      <td>885</td>\n",
       "      <td>848</td>\n",
       "      <td>NaN</td>\n",
       "      <td>NaN</td>\n",
       "      <td>NaN</td>\n",
       "      <td>NaN</td>\n",
       "      <td>NaN</td>\n",
       "      <td>NaN</td>\n",
       "      <td>NaN</td>\n",
       "      <td>NaN</td>\n",
       "      <td>NaN</td>\n",
       "    </tr>\n",
       "    <tr>\n",
       "      <th>68903</th>\n",
       "      <td>218</td>\n",
       "      <td>521</td>\n",
       "      <td>755</td>\n",
       "      <td>777</td>\n",
       "      <td>812</td>\n",
       "      <td>813</td>\n",
       "      <td>779</td>\n",
       "      <td>NaN</td>\n",
       "      <td>NaN</td>\n",
       "      <td>NaN</td>\n",
       "      <td>NaN</td>\n",
       "      <td>NaN</td>\n",
       "      <td>NaN</td>\n",
       "      <td>NaN</td>\n",
       "      <td>NaN</td>\n",
       "      <td>NaN</td>\n",
       "    </tr>\n",
       "    <tr>\n",
       "      <th>68904</th>\n",
       "      <td>218</td>\n",
       "      <td>213</td>\n",
       "      <td>384</td>\n",
       "      <td>395</td>\n",
       "      <td>413</td>\n",
       "      <td>414</td>\n",
       "      <td>397</td>\n",
       "      <td>NaN</td>\n",
       "      <td>NaN</td>\n",
       "      <td>NaN</td>\n",
       "      <td>NaN</td>\n",
       "      <td>NaN</td>\n",
       "      <td>NaN</td>\n",
       "      <td>NaN</td>\n",
       "      <td>NaN</td>\n",
       "      <td>NaN</td>\n",
       "    </tr>\n",
       "    <tr>\n",
       "      <th>68905</th>\n",
       "      <td>218</td>\n",
       "      <td>214</td>\n",
       "      <td>210</td>\n",
       "      <td>217</td>\n",
       "      <td>226</td>\n",
       "      <td>227</td>\n",
       "      <td>217</td>\n",
       "      <td>NaN</td>\n",
       "      <td>NaN</td>\n",
       "      <td>NaN</td>\n",
       "      <td>NaN</td>\n",
       "      <td>NaN</td>\n",
       "      <td>NaN</td>\n",
       "      <td>NaN</td>\n",
       "      <td>NaN</td>\n",
       "      <td>NaN</td>\n",
       "    </tr>\n",
       "  </tbody>\n",
       "</table>\n",
       "<p>68906 rows × 16 columns</p>\n",
       "</div>"
      ],
      "text/plain": [
       "       zid_from  zid_to  STZ_1  STZ_2  STZ_3  STZ_4  STZ_5  Unnamed: 7  \\\n",
       "0             1       2    484    469    445    444    467         NaN   \n",
       "1             1       3    469    442    399    397    439         NaN   \n",
       "2             1       4    367    407    470    473    411         NaN   \n",
       "3             1       7    317    402    539    545    413         NaN   \n",
       "4             1       8    294    332    393    396    337         NaN   \n",
       "...         ...     ...    ...    ...    ...    ...    ...         ...   \n",
       "68901       218     349   1005   1034   1081   1083   1038         NaN   \n",
       "68902       218     475    821    845    883    885    848         NaN   \n",
       "68903       218     521    755    777    812    813    779         NaN   \n",
       "68904       218     213    384    395    413    414    397         NaN   \n",
       "68905       218     214    210    217    226    227    217         NaN   \n",
       "\n",
       "       Unnamed: 8  Unnamed: 9  Unnamed: 10  Unnamed: 11  Unnamed: 12  \\\n",
       "0             NaN         NaN          NaN          NaN          NaN   \n",
       "1             NaN         NaN          NaN          NaN          NaN   \n",
       "2             NaN         NaN          NaN          NaN          NaN   \n",
       "3             NaN         NaN          NaN          NaN          NaN   \n",
       "4             NaN         NaN          NaN          NaN          NaN   \n",
       "...           ...         ...          ...          ...          ...   \n",
       "68901         NaN         NaN          NaN          NaN          NaN   \n",
       "68902         NaN         NaN          NaN          NaN          NaN   \n",
       "68903         NaN         NaN          NaN          NaN          NaN   \n",
       "68904         NaN         NaN          NaN          NaN          NaN   \n",
       "68905         NaN         NaN          NaN          NaN          NaN   \n",
       "\n",
       "       Unnamed: 13  Unnamed: 14  Unnamed: 15  \n",
       "0              NaN          NaN          NaN  \n",
       "1              NaN          NaN          NaN  \n",
       "2              NaN          NaN          NaN  \n",
       "3              NaN          NaN          NaN  \n",
       "4              NaN          NaN          NaN  \n",
       "...            ...          ...          ...  \n",
       "68901          NaN          NaN          NaN  \n",
       "68902          NaN          NaN          NaN  \n",
       "68903          NaN          NaN          NaN  \n",
       "68904          NaN          NaN          NaN  \n",
       "68905          NaN          NaN          NaN  \n",
       "\n",
       "[68906 rows x 16 columns]"
      ]
     },
     "execution_count": 35,
     "metadata": {},
     "output_type": "execute_result"
    }
   ],
   "source": [
    "stz"
   ]
  },
  {
   "cell_type": "code",
   "execution_count": 36,
   "metadata": {},
   "outputs": [],
   "source": [
    "ID=pd.read_csv('ID_NEW.csv',sep = ';', encoding='windows-1251')"
   ]
  },
  {
   "cell_type": "code",
   "execution_count": 37,
   "metadata": {},
   "outputs": [],
   "source": [
    "stz=stz.merge(ID,on='zid_from')"
   ]
  },
  {
   "cell_type": "code",
   "execution_count": 38,
   "metadata": {},
   "outputs": [],
   "source": [
    "stz=stz.merge(ID,left_on='zid_to_x',right_on='zid_to')"
   ]
  },
  {
   "cell_type": "code",
   "execution_count": 39,
   "metadata": {},
   "outputs": [],
   "source": [
    "stz=stz.groupby(['ID_x','ID_y']).agg({'STZ_1': np.mean,'STZ_2': np.mean,'STZ_3': np.mean,'STZ_4': np.mean,'STZ_5': np.mean,}).reset_index()"
   ]
  },
  {
   "cell_type": "code",
   "execution_count": 40,
   "metadata": {},
   "outputs": [],
   "source": [
    "stz.to_csv('res.csv')"
   ]
  },
  {
   "cell_type": "code",
   "execution_count": null,
   "metadata": {},
   "outputs": [],
   "source": []
  },
  {
   "cell_type": "code",
   "execution_count": null,
   "metadata": {},
   "outputs": [],
   "source": []
  },
  {
   "cell_type": "code",
   "execution_count": null,
   "metadata": {},
   "outputs": [],
   "source": []
  },
  {
   "cell_type": "code",
   "execution_count": null,
   "metadata": {},
   "outputs": [],
   "source": []
  }
 ],
 "metadata": {
  "kernelspec": {
   "display_name": "Python 3",
   "language": "python",
   "name": "python3"
  },
  "language_info": {
   "codemirror_mode": {
    "name": "ipython",
    "version": 3
   },
   "file_extension": ".py",
   "mimetype": "text/x-python",
   "name": "python",
   "nbconvert_exporter": "python",
   "pygments_lexer": "ipython3",
   "version": "3.8.3"
  }
 },
 "nbformat": 4,
 "nbformat_minor": 2
}
