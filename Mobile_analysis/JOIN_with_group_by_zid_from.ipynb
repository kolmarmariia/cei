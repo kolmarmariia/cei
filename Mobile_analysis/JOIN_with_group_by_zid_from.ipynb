{
 "cells": [
  {
   "cell_type": "code",
   "execution_count": 1,
   "metadata": {},
   "outputs": [
    {
     "ename": "ModuleNotFoundError",
     "evalue": "No module named 'geopandas'",
     "output_type": "error",
     "traceback": [
      "\u001b[1;31m---------------------------------------------------------------------------\u001b[0m",
      "\u001b[1;31mModuleNotFoundError\u001b[0m                       Traceback (most recent call last)",
      "\u001b[1;32m<ipython-input-1-04af00650a5f>\u001b[0m in \u001b[0;36m<module>\u001b[1;34m\u001b[0m\n\u001b[1;32m----> 1\u001b[1;33m \u001b[1;32mimport\u001b[0m \u001b[0mgeopandas\u001b[0m \u001b[1;32mas\u001b[0m \u001b[0mgpd\u001b[0m\u001b[1;33m\u001b[0m\u001b[1;33m\u001b[0m\u001b[0m\n\u001b[0m\u001b[0;32m      2\u001b[0m \u001b[1;32mimport\u001b[0m \u001b[0mpandas\u001b[0m \u001b[1;32mas\u001b[0m \u001b[0mpd\u001b[0m\u001b[1;33m\u001b[0m\u001b[1;33m\u001b[0m\u001b[0m\n\u001b[0;32m      3\u001b[0m \u001b[1;32mimport\u001b[0m \u001b[0mnumpy\u001b[0m \u001b[1;32mas\u001b[0m \u001b[0mnp\u001b[0m\u001b[1;33m\u001b[0m\u001b[1;33m\u001b[0m\u001b[0m\n\u001b[0;32m      4\u001b[0m \u001b[1;32mimport\u001b[0m \u001b[0mjson\u001b[0m  \u001b[1;32mas\u001b[0m \u001b[0mjs\u001b[0m\u001b[1;33m\u001b[0m\u001b[1;33m\u001b[0m\u001b[0m\n\u001b[0;32m      5\u001b[0m \u001b[1;32mfrom\u001b[0m \u001b[0mgeopandas\u001b[0m \u001b[1;32mimport\u001b[0m \u001b[0mGeoDataFrame\u001b[0m\u001b[1;33m\u001b[0m\u001b[1;33m\u001b[0m\u001b[0m\n",
      "\u001b[1;31mModuleNotFoundError\u001b[0m: No module named 'geopandas'"
     ]
    }
   ],
   "source": [
    "import geopandas as gpd\n",
    "import pandas as pd\n",
    "import numpy as np\n",
    "import json  as js\n",
    "from geopandas import GeoDataFrame\n",
    "from shapely.geometry import Point\n",
    "import shapely\n",
    "import csv"
   ]
  },
  {
   "cell_type": "code",
   "execution_count": 3,
   "metadata": {},
   "outputs": [
    {
     "ename": "NameError",
     "evalue": "name 'pd' is not defined",
     "output_type": "error",
     "traceback": [
      "\u001b[1;31m---------------------------------------------------------------------------\u001b[0m",
      "\u001b[1;31mNameError\u001b[0m                                 Traceback (most recent call last)",
      "\u001b[1;32m<ipython-input-3-dd33ee72bd78>\u001b[0m in \u001b[0;36m<module>\u001b[1;34m\u001b[0m\n\u001b[0;32m      1\u001b[0m \u001b[1;31m#a = gpd.read_file('\\JOIN\\work_Moscow_MA_municip.shp', encoding='cp1251')\u001b[0m\u001b[1;33m\u001b[0m\u001b[1;33m\u001b[0m\u001b[1;33m\u001b[0m\u001b[0m\n\u001b[1;32m----> 2\u001b[1;33m \u001b[0mb\u001b[0m \u001b[1;33m=\u001b[0m \u001b[0mpd\u001b[0m\u001b[1;33m.\u001b[0m\u001b[0mread_csv\u001b[0m\u001b[1;33m(\u001b[0m\u001b[1;34m'report_f_all.csv'\u001b[0m\u001b[1;33m,\u001b[0m \u001b[0msep\u001b[0m \u001b[1;33m=\u001b[0m \u001b[1;34m';'\u001b[0m\u001b[1;33m,\u001b[0m \u001b[0mencoding\u001b[0m\u001b[1;33m=\u001b[0m\u001b[1;34m'utf8'\u001b[0m\u001b[1;33m)\u001b[0m\u001b[1;33m\u001b[0m\u001b[1;33m\u001b[0m\u001b[0m\n\u001b[0m\u001b[0;32m      3\u001b[0m \u001b[0ma\u001b[0m \u001b[1;33m=\u001b[0m \u001b[0mgpd\u001b[0m\u001b[1;33m.\u001b[0m\u001b[0mread_file\u001b[0m\u001b[1;33m(\u001b[0m\u001b[1;34m'Самарская область транспортные районы 557_zone.SHP'\u001b[0m\u001b[1;33m)\u001b[0m\u001b[1;33m\u001b[0m\u001b[1;33m\u001b[0m\u001b[0m\n",
      "\u001b[1;31mNameError\u001b[0m: name 'pd' is not defined"
     ]
    }
   ],
   "source": [
    "#a = gpd.read_file('\\JOIN\\work_Moscow_MA_municip.shp', encoding='cp1251')\n",
    "b = pd.read_csv('report_f_all.csv', sep = ';', encoding='utf8')\n",
    "a = gpd.read_file('Самарская область транспортные районы 557_zone.SHP')"
   ]
  },
  {
   "cell_type": "code",
   "execution_count": null,
   "metadata": {},
   "outputs": [],
   "source": [
    "b=b[b['buffer_out_ind'==1]]\n",
    "b=b[b['30_min_ind'==1]]"
   ]
  },
  {
   "cell_type": "code",
   "execution_count": 26,
   "metadata": {
    "scrolled": false
   },
   "outputs": [],
   "source": [
    "a = a.to_crs('epsg:4326')"
   ]
  },
  {
   "cell_type": "code",
   "execution_count": 27,
   "metadata": {},
   "outputs": [
    {
     "data": {
      "text/plain": [
       "array(['2019-02-07', '2019-02-08', '2019-02-09', '2019-04-11',\n",
       "       '2019-04-12', '2019-04-13', '2019-07-11', '2019-07-12',\n",
       "       '2019-07-13', '2019-10-17', '2019-10-18', '2019-10-19'],\n",
       "      dtype=object)"
      ]
     },
     "execution_count": 27,
     "metadata": {},
     "output_type": "execute_result"
    }
   ],
   "source": [
    "b['time_key'].unique()"
   ]
  },
  {
   "cell_type": "code",
   "execution_count": 28,
   "metadata": {},
   "outputs": [],
   "source": [
    "zid_from=b.drop(['zid_to'], axis=1)"
   ]
  },
  {
   "cell_type": "code",
   "execution_count": 29,
   "metadata": {},
   "outputs": [],
   "source": [
    "zid_from_prom=zid_from.drop(['ts'], axis=1)"
   ]
  },
  {
   "cell_type": "code",
   "execution_count": 30,
   "metadata": {},
   "outputs": [],
   "source": [
    "zid_from2=pd.DataFrame(zid_from_prom.groupby(['time_key','zid_from']).agg({'count_ctn': np.sum})).reset_index()"
   ]
  },
  {
   "cell_type": "code",
   "execution_count": 31,
   "metadata": {},
   "outputs": [],
   "source": [
    "t=zid_from2.merge(a, on='zid_from')"
   ]
  },
  {
   "cell_type": "code",
   "execution_count": 32,
   "metadata": {},
   "outputs": [],
   "source": [
    "total = gpd.GeoDataFrame(t, geometry='geometry')\n",
    "total.to_file('All_Date.shp', driver='ESRI Shapefile')"
   ]
  },
  {
   "cell_type": "code",
   "execution_count": 33,
   "metadata": {},
   "outputs": [],
   "source": [
    "zid_from_1=zid_from2[zid_from2['time_key'] == '2019-02-07']\n",
    "zid_from_2=zid_from2[zid_from2['time_key'] == '2019-02-08']\n",
    "zid_from_3=zid_from2[zid_from2['time_key'] == '2019-02-09']\n",
    "zid_from_4=zid_from2[zid_from2['time_key'] == '2019-04-11']\n",
    "zid_from_5=zid_from2[zid_from2['time_key'] == '2019-04-12']\n",
    "zid_from_6=zid_from2[zid_from2['time_key'] == '2019-04-13']\n",
    "zid_from_7=zid_from2[zid_from2['time_key'] == '2019-07-11']\n",
    "zid_from_8=zid_from2[zid_from2['time_key'] == '2019-07-12']\n",
    "zid_from_9=zid_from2[zid_from2['time_key'] == '2019-07-13']\n",
    "zid_from_10=zid_from2[zid_from2['time_key'] == '2019-10-17']\n",
    "zid_from_11=zid_from2[zid_from2['time_key'] == '2019-10-18']\n",
    "zid_from_12=zid_from2[zid_from2['time_key'] == '2019-10-19']"
   ]
  },
  {
   "cell_type": "code",
   "execution_count": 34,
   "metadata": {},
   "outputs": [],
   "source": [
    "t1=zid_from_1.merge(a, on='zid_from')\n",
    "t2=zid_from_2.merge(a, on='zid_from')\n",
    "t3=zid_from_3.merge(a, on='zid_from')\n",
    "t4=zid_from_4.merge(a, on='zid_from')\n",
    "t5=zid_from_5.merge(a, on='zid_from')\n",
    "t6=zid_from_6.merge(a, on='zid_from')\n",
    "t7=zid_from_7.merge(a, on='zid_from')\n",
    "t8=zid_from_8.merge(a, on='zid_from')\n",
    "t9=zid_from_9.merge(a, on='zid_from')\n",
    "t10=zid_from_10.merge(a, on='zid_from')\n",
    "t11=zid_from_11.merge(a, on='zid_from')\n",
    "t12=zid_from_12.merge(a, on='zid_from')"
   ]
  },
  {
   "cell_type": "code",
   "execution_count": 39,
   "metadata": {},
   "outputs": [],
   "source": [
    "total1 = gpd.GeoDataFrame(t1, geometry='geometry')\n",
    "total1.crs='epsg:4326'\n",
    "total1.to_file('2019-02-07.shp', driver='ESRI Shapefile')\n",
    "total2 = gpd.GeoDataFrame(t2, geometry='geometry')\n",
    "total2.crs='epsg:4326'\n",
    "total2.to_file('2019-02-08.shp', driver='ESRI Shapefile')\n",
    "total3 = gpd.GeoDataFrame(t3, geometry='geometry')\n",
    "total3.crs='epsg:4326'\n",
    "total3.to_file('2019-02-09.shp', driver='ESRI Shapefile')\n",
    "total4 = gpd.GeoDataFrame(t4, geometry='geometry')\n",
    "total4.crs='epsg:4326'\n",
    "total4.to_file('2019-04-11.shp', driver='ESRI Shapefile')\n",
    "total5 = gpd.GeoDataFrame(t5, geometry='geometry')\n",
    "total5.crs='epsg:4326'\n",
    "total5.to_file('2019-04-12.shp', driver='ESRI Shapefile')\n",
    "total6 = gpd.GeoDataFrame(t6, geometry='geometry')\n",
    "total6.crs='epsg:4326'\n",
    "total6.to_file('2019-04-13.shp', driver='ESRI Shapefile')\n",
    "total7 = gpd.GeoDataFrame(t7, geometry='geometry')\n",
    "total7.crs='epsg:4326'\n",
    "total7.to_file('2019-07-11.shp', driver='ESRI Shapefile')\n",
    "total8 = gpd.GeoDataFrame(t8, geometry='geometry')\n",
    "total8.crs='epsg:4326'\n",
    "total8.to_file('2019-07-12.shp', driver='ESRI Shapefile')\n",
    "total9 = gpd.GeoDataFrame(t9, geometry='geometry')\n",
    "total9.crs='epsg:4326'\n",
    "total9.to_file('2019-07-13.shp', driver='ESRI Shapefile')\n",
    "total10 = gpd.GeoDataFrame(t10, geometry='geometry')\n",
    "total10.crs='epsg:4326'\n",
    "total10.to_file('2019-10-17.shp', driver='ESRI Shapefile')\n",
    "total11 = gpd.GeoDataFrame(t11, geometry='geometry')\n",
    "total11.crs='epsg:4326'\n",
    "total11.to_file('2019-10-18.shp', driver='ESRI Shapefile')\n",
    "total12 = gpd.GeoDataFrame(t12, geometry='geometry')\n",
    "total12.crs='epsg:4326'\n",
    "total12.to_file('2019-10-19.shp', driver='ESRI Shapefile')"
   ]
  },
  {
   "cell_type": "code",
   "execution_count": null,
   "metadata": {},
   "outputs": [],
   "source": []
  }
 ],
 "metadata": {
  "kernelspec": {
   "display_name": "Python 3",
   "language": "python",
   "name": "python3"
  },
  "language_info": {
   "codemirror_mode": {
    "name": "ipython",
    "version": 3
   },
   "file_extension": ".py",
   "mimetype": "text/x-python",
   "name": "python",
   "nbconvert_exporter": "python",
   "pygments_lexer": "ipython3",
   "version": "3.7.4"
  }
 },
 "nbformat": 4,
 "nbformat_minor": 2
}
