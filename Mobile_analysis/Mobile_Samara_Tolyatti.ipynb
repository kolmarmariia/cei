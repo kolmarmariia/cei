{
 "cells": [
  {
   "cell_type": "code",
   "execution_count": 42,
   "metadata": {},
   "outputs": [],
   "source": [
    "import geopandas as gpd\n",
    "import pandas as pd\n",
    "import numpy as np\n",
    "import json  as js\n",
    "from geopandas import GeoDataFrame\n",
    "from shapely.geometry import Point\n",
    "import csv"
   ]
  },
  {
   "cell_type": "code",
   "execution_count": 46,
   "metadata": {},
   "outputs": [],
   "source": [
    "b = pd.read_csv('CEI_report_v_1_20200813.csv', sep = ';', encoding='utf8')\n",
    "a = gpd.read_file('Самарская область транспортные районы 557_zone.SHP')"
   ]
  },
  {
   "cell_type": "code",
   "execution_count": 128,
   "metadata": {},
   "outputs": [],
   "source": [
    "a = a.to_crs('epsg:4326')"
   ]
  },
  {
   "cell_type": "code",
   "execution_count": 129,
   "metadata": {},
   "outputs": [],
   "source": [
    "a.to_file('Samara_557_zone.SHP.shp', driver='ESRI Shapefile')"
   ]
  },
  {
   "cell_type": "code",
   "execution_count": 78,
   "metadata": {},
   "outputs": [],
   "source": [
    "b2=b[b['ts'].str.contains(' 07:', ' 08:')]"
   ]
  },
  {
   "cell_type": "code",
   "execution_count": 79,
   "metadata": {},
   "outputs": [
    {
     "data": {
      "text/html": [
       "<div>\n",
       "<style scoped>\n",
       "    .dataframe tbody tr th:only-of-type {\n",
       "        vertical-align: middle;\n",
       "    }\n",
       "\n",
       "    .dataframe tbody tr th {\n",
       "        vertical-align: top;\n",
       "    }\n",
       "\n",
       "    .dataframe thead th {\n",
       "        text-align: right;\n",
       "    }\n",
       "</style>\n",
       "<table border=\"1\" class=\"dataframe\">\n",
       "  <thead>\n",
       "    <tr style=\"text-align: right;\">\n",
       "      <th></th>\n",
       "      <th>time_key</th>\n",
       "      <th>ts</th>\n",
       "      <th>zid_from</th>\n",
       "      <th>zid_to</th>\n",
       "      <th>count_ctn</th>\n",
       "    </tr>\n",
       "  </thead>\n",
       "  <tbody>\n",
       "    <tr>\n",
       "      <th>51</th>\n",
       "      <td>2019-02-07</td>\n",
       "      <td>2019-01-15 07:00:00</td>\n",
       "      <td>121</td>\n",
       "      <td>122</td>\n",
       "      <td>1</td>\n",
       "    </tr>\n",
       "    <tr>\n",
       "      <th>52</th>\n",
       "      <td>2019-02-07</td>\n",
       "      <td>2019-01-15 07:30:00</td>\n",
       "      <td>121</td>\n",
       "      <td>122</td>\n",
       "      <td>1</td>\n",
       "    </tr>\n",
       "    <tr>\n",
       "      <th>53</th>\n",
       "      <td>2019-02-07</td>\n",
       "      <td>2019-01-15 07:30:00</td>\n",
       "      <td>122</td>\n",
       "      <td>121</td>\n",
       "      <td>1</td>\n",
       "    </tr>\n",
       "    <tr>\n",
       "      <th>125</th>\n",
       "      <td>2019-02-07</td>\n",
       "      <td>2019-01-16 07:00:00</td>\n",
       "      <td>121</td>\n",
       "      <td>122</td>\n",
       "      <td>1</td>\n",
       "    </tr>\n",
       "    <tr>\n",
       "      <th>126</th>\n",
       "      <td>2019-02-07</td>\n",
       "      <td>2019-01-16 07:00:00</td>\n",
       "      <td>122</td>\n",
       "      <td>121</td>\n",
       "      <td>1</td>\n",
       "    </tr>\n",
       "  </tbody>\n",
       "</table>\n",
       "</div>"
      ],
      "text/plain": [
       "       time_key                   ts  zid_from  zid_to  count_ctn\n",
       "51   2019-02-07  2019-01-15 07:00:00       121     122          1\n",
       "52   2019-02-07  2019-01-15 07:30:00       121     122          1\n",
       "53   2019-02-07  2019-01-15 07:30:00       122     121          1\n",
       "125  2019-02-07  2019-01-16 07:00:00       121     122          1\n",
       "126  2019-02-07  2019-01-16 07:00:00       122     121          1"
      ]
     },
     "execution_count": 79,
     "metadata": {},
     "output_type": "execute_result"
    }
   ],
   "source": [
    "b2.head()"
   ]
  },
  {
   "cell_type": "code",
   "execution_count": 119,
   "metadata": {},
   "outputs": [
    {
     "data": {
      "text/plain": [
       "array([ 16,  21,  22,  23,  25,  26,  36, 146, 162,  14,  37, 145, 156,\n",
       "       161, 154,   3,  27,  19], dtype=int64)"
      ]
     },
     "execution_count": 119,
     "metadata": {},
     "output_type": "execute_result"
    }
   ],
   "source": [
    "l=b2[b2['count_ctn']>(b['count_ctn'].max()-1900)]\n",
    "l['zid_from'].unique()"
   ]
  },
  {
   "cell_type": "code",
   "execution_count": 120,
   "metadata": {},
   "outputs": [],
   "source": [
    "zid16_from=pd.DataFrame(b[b['zid_from']==146].groupby(['time_key','zid_to','zid_from']).agg({'count_ctn': np.sum})).reset_index()\n",
    "zid16_to=pd.DataFrame(b[b['zid_to']==146].groupby(['time_key','zid_from','zid_to']).agg({'count_ctn': np.sum})).reset_index()\n",
    "\n",
    "zid22_from=pd.DataFrame(b[b['zid_from']==162].groupby(['time_key','zid_to','zid_from']).agg({'count_ctn': np.sum})).reset_index()\n",
    "zid22_to=pd.DataFrame(b[b['zid_to']==162].groupby(['time_key','zid_from','zid_to']).agg({'count_ctn': np.sum})).reset_index()\n"
   ]
  },
  {
   "cell_type": "code",
   "execution_count": 121,
   "metadata": {},
   "outputs": [
    {
     "data": {
      "text/html": [
       "<div>\n",
       "<style scoped>\n",
       "    .dataframe tbody tr th:only-of-type {\n",
       "        vertical-align: middle;\n",
       "    }\n",
       "\n",
       "    .dataframe tbody tr th {\n",
       "        vertical-align: top;\n",
       "    }\n",
       "\n",
       "    .dataframe thead th {\n",
       "        text-align: right;\n",
       "    }\n",
       "</style>\n",
       "<table border=\"1\" class=\"dataframe\">\n",
       "  <thead>\n",
       "    <tr style=\"text-align: right;\">\n",
       "      <th></th>\n",
       "      <th>time_key</th>\n",
       "      <th>zid_to</th>\n",
       "      <th>zid_from</th>\n",
       "      <th>count_ctn</th>\n",
       "    </tr>\n",
       "  </thead>\n",
       "  <tbody>\n",
       "    <tr>\n",
       "      <th>0</th>\n",
       "      <td>2019-02-07</td>\n",
       "      <td>1</td>\n",
       "      <td>146</td>\n",
       "      <td>96</td>\n",
       "    </tr>\n",
       "    <tr>\n",
       "      <th>1</th>\n",
       "      <td>2019-02-07</td>\n",
       "      <td>2</td>\n",
       "      <td>146</td>\n",
       "      <td>260</td>\n",
       "    </tr>\n",
       "    <tr>\n",
       "      <th>2</th>\n",
       "      <td>2019-02-07</td>\n",
       "      <td>3</td>\n",
       "      <td>146</td>\n",
       "      <td>1160</td>\n",
       "    </tr>\n",
       "    <tr>\n",
       "      <th>3</th>\n",
       "      <td>2019-02-07</td>\n",
       "      <td>4</td>\n",
       "      <td>146</td>\n",
       "      <td>106</td>\n",
       "    </tr>\n",
       "    <tr>\n",
       "      <th>4</th>\n",
       "      <td>2019-02-07</td>\n",
       "      <td>6</td>\n",
       "      <td>146</td>\n",
       "      <td>46</td>\n",
       "    </tr>\n",
       "  </tbody>\n",
       "</table>\n",
       "</div>"
      ],
      "text/plain": [
       "     time_key  zid_to  zid_from  count_ctn\n",
       "0  2019-02-07       1       146         96\n",
       "1  2019-02-07       2       146        260\n",
       "2  2019-02-07       3       146       1160\n",
       "3  2019-02-07       4       146        106\n",
       "4  2019-02-07       6       146         46"
      ]
     },
     "execution_count": 121,
     "metadata": {},
     "output_type": "execute_result"
    }
   ],
   "source": [
    "zid16_from.head()"
   ]
  },
  {
   "cell_type": "code",
   "execution_count": 122,
   "metadata": {},
   "outputs": [],
   "source": [
    "zid_16f=zid16_from.merge(a, on='zid_to').drop(['NO'], axis=1).drop(['zid_from_y'], axis=1)\n",
    "zid_16t=zid16_to.merge(a, on='zid_from').drop(['NO'], axis=1).drop(['zid_to_y'], axis=1)\n",
    "zid_22f=zid22_from.merge(a, on='zid_to').drop(['NO'], axis=1).drop(['zid_from_y'], axis=1)\n",
    "zid_22t=zid22_to.merge(a, on='zid_from').drop(['NO'], axis=1).drop(['zid_to_y'], axis=1)"
   ]
  },
  {
   "cell_type": "code",
   "execution_count": 123,
   "metadata": {},
   "outputs": [
    {
     "data": {
      "text/html": [
       "<div>\n",
       "<style scoped>\n",
       "    .dataframe tbody tr th:only-of-type {\n",
       "        vertical-align: middle;\n",
       "    }\n",
       "\n",
       "    .dataframe tbody tr th {\n",
       "        vertical-align: top;\n",
       "    }\n",
       "\n",
       "    .dataframe thead th {\n",
       "        text-align: right;\n",
       "    }\n",
       "</style>\n",
       "<table border=\"1\" class=\"dataframe\">\n",
       "  <thead>\n",
       "    <tr style=\"text-align: right;\">\n",
       "      <th></th>\n",
       "      <th>time_key</th>\n",
       "      <th>zid_to</th>\n",
       "      <th>zid_from_x</th>\n",
       "      <th>count_ctn</th>\n",
       "      <th>geometry</th>\n",
       "    </tr>\n",
       "  </thead>\n",
       "  <tbody>\n",
       "    <tr>\n",
       "      <th>0</th>\n",
       "      <td>2019-02-07</td>\n",
       "      <td>1</td>\n",
       "      <td>146</td>\n",
       "      <td>96</td>\n",
       "      <td>POLYGON ((49.74624 53.47745, 49.74695 53.48435...</td>\n",
       "    </tr>\n",
       "    <tr>\n",
       "      <th>1</th>\n",
       "      <td>2019-02-08</td>\n",
       "      <td>1</td>\n",
       "      <td>146</td>\n",
       "      <td>116</td>\n",
       "      <td>POLYGON ((49.74624 53.47745, 49.74695 53.48435...</td>\n",
       "    </tr>\n",
       "    <tr>\n",
       "      <th>2</th>\n",
       "      <td>2019-02-09</td>\n",
       "      <td>1</td>\n",
       "      <td>146</td>\n",
       "      <td>101</td>\n",
       "      <td>POLYGON ((49.74624 53.47745, 49.74695 53.48435...</td>\n",
       "    </tr>\n",
       "    <tr>\n",
       "      <th>3</th>\n",
       "      <td>2019-04-11</td>\n",
       "      <td>1</td>\n",
       "      <td>146</td>\n",
       "      <td>109</td>\n",
       "      <td>POLYGON ((49.74624 53.47745, 49.74695 53.48435...</td>\n",
       "    </tr>\n",
       "    <tr>\n",
       "      <th>4</th>\n",
       "      <td>2019-04-12</td>\n",
       "      <td>1</td>\n",
       "      <td>146</td>\n",
       "      <td>163</td>\n",
       "      <td>POLYGON ((49.74624 53.47745, 49.74695 53.48435...</td>\n",
       "    </tr>\n",
       "  </tbody>\n",
       "</table>\n",
       "</div>"
      ],
      "text/plain": [
       "     time_key  zid_to  zid_from_x  count_ctn  \\\n",
       "0  2019-02-07       1         146         96   \n",
       "1  2019-02-08       1         146        116   \n",
       "2  2019-02-09       1         146        101   \n",
       "3  2019-04-11       1         146        109   \n",
       "4  2019-04-12       1         146        163   \n",
       "\n",
       "                                            geometry  \n",
       "0  POLYGON ((49.74624 53.47745, 49.74695 53.48435...  \n",
       "1  POLYGON ((49.74624 53.47745, 49.74695 53.48435...  \n",
       "2  POLYGON ((49.74624 53.47745, 49.74695 53.48435...  \n",
       "3  POLYGON ((49.74624 53.47745, 49.74695 53.48435...  \n",
       "4  POLYGON ((49.74624 53.47745, 49.74695 53.48435...  "
      ]
     },
     "execution_count": 123,
     "metadata": {},
     "output_type": "execute_result"
    }
   ],
   "source": [
    "zid_16f.head()"
   ]
  },
  {
   "cell_type": "code",
   "execution_count": 124,
   "metadata": {},
   "outputs": [],
   "source": [
    "zid_16f = gpd.GeoDataFrame(zid_16f[zid_16f['time_key'] == '2019-02-07'], geometry='geometry')\n",
    "zid_16f.crs='epsg:4326'\n",
    "zid_16f.to_file('from_146.shp', driver='ESRI Shapefile')"
   ]
  },
  {
   "cell_type": "code",
   "execution_count": 125,
   "metadata": {},
   "outputs": [],
   "source": [
    "zid_16t = gpd.GeoDataFrame(zid_16t[zid_16t['time_key'] == '2019-02-07'], geometry='geometry')\n",
    "zid_16t.crs='epsg:4326'\n",
    "zid_16t.to_file('to_146.shp', driver='ESRI Shapefile')"
   ]
  },
  {
   "cell_type": "code",
   "execution_count": 126,
   "metadata": {},
   "outputs": [],
   "source": [
    "zid_22f = gpd.GeoDataFrame(zid_22f[zid_22f['time_key'] == '2019-02-07'], geometry='geometry')\n",
    "zid_22f.crs='epsg:4326'\n",
    "zid_22f.to_file('from_162.shp', driver='ESRI Shapefile')"
   ]
  },
  {
   "cell_type": "code",
   "execution_count": 127,
   "metadata": {},
   "outputs": [],
   "source": [
    "zid_22t = gpd.GeoDataFrame(zid_22t[zid_22t['time_key'] == '2019-02-07'], geometry='geometry')\n",
    "zid_22t.crs='epsg:4326'\n",
    "zid_22t.to_file('to_162.shp', driver='ESRI Shapefile')"
   ]
  },
  {
   "cell_type": "code",
   "execution_count": 139,
   "metadata": {},
   "outputs": [],
   "source": [
    "b_from=b[b['zid_from'].isin([9,10,11,12,13,14,16,17,22,23,24,25,26,27,30,31,32,33,34,35,36,37,38,39,40,41,42,43,44,45,46,49,51,\n",
    "])]"
   ]
  },
  {
   "cell_type": "code",
   "execution_count": 140,
   "metadata": {},
   "outputs": [],
   "source": [
    "b_Samara=b_from[b_from['zid_to'].isin([9,10,11,12,13,14,16,17,22,23,24,25,26,27,30,31,32,33,34,35,36,37,38,39,40,41,42,43,44,45,46,49,51,\n",
    "])]"
   ]
  },
  {
   "cell_type": "code",
   "execution_count": 141,
   "metadata": {},
   "outputs": [],
   "source": [
    "b_Samara_group=pd.DataFrame(b_Samara.groupby(['time_key','ts']).agg({'count_ctn': np.sum})).reset_index()"
   ]
  },
  {
   "cell_type": "code",
   "execution_count": 142,
   "metadata": {},
   "outputs": [],
   "source": [
    "b_Samara_group.to_csv('Tolyatti.csv')"
   ]
  },
  {
   "cell_type": "code",
   "execution_count": null,
   "metadata": {},
   "outputs": [],
   "source": []
  }
 ],
 "metadata": {
  "kernelspec": {
   "display_name": "Python 3",
   "language": "python",
   "name": "python3"
  },
  "language_info": {
   "codemirror_mode": {
    "name": "ipython",
    "version": 3
   },
   "file_extension": ".py",
   "mimetype": "text/x-python",
   "name": "python",
   "nbconvert_exporter": "python",
   "pygments_lexer": "ipython3",
   "version": "3.7.6"
  }
 },
 "nbformat": 4,
 "nbformat_minor": 2
}
