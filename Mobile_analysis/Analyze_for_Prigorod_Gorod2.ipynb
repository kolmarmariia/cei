{
 "cells": [
  {
   "cell_type": "code",
   "execution_count": 3,
   "metadata": {},
   "outputs": [],
   "source": [
    "import geopandas as gpd\n",
    "import pandas as pd\n",
    "import numpy as np\n",
    "import json  as js\n",
    "from geopandas import GeoDataFrame\n",
    "from shapely.geometry import Point\n",
    "from shapely.ops import cascaded_union, unary_union\n",
    "from shapely.geometry import Polygon, mapping\n",
    "import datetime as dt\n",
    "import glob\n",
    "import csv\n",
    "from dateutil import parser\n",
    "import os\n",
    "import itertools"
   ]
  },
  {
   "cell_type": "code",
   "execution_count": 146,
   "metadata": {},
   "outputs": [],
   "source": [
    "b = pd.read_csv('report_f_all_v3.csv', sep = ';', encoding='utf8')\n",
    "b2=b[b['buffer_out_ind']==1]\n",
    "b2=b2[b2['60_min_ind']==1]\n",
    "b2=b2[['time_key','ts','zid_from','zid_to','count_ctn']]"
   ]
  },
  {
   "cell_type": "code",
   "execution_count": 14,
   "metadata": {},
   "outputs": [],
   "source": [
    "a = gpd.read_file('557_zone.SHP')\n",
    "a['zid_from']=a['NO']\n",
    "a['zid_to']=a['NO']"
   ]
  },
  {
   "cell_type": "code",
   "execution_count": 199,
   "metadata": {},
   "outputs": [],
   "source": [
    "all_=b2[b2['time_key']=='2019-02-07']"
   ]
  },
  {
   "cell_type": "code",
   "execution_count": 216,
   "metadata": {},
   "outputs": [
    {
     "data": {
      "text/plain": [
       "array(['2019-02-07 03:00:00', '2019-02-07 03:30:00',\n",
       "       '2019-02-07 04:00:00', '2019-02-07 04:30:00',\n",
       "       '2019-02-07 05:00:00', '2019-02-07 05:30:00',\n",
       "       '2019-02-07 06:00:00', '2019-02-07 06:30:00',\n",
       "       '2019-02-07 07:00:00', '2019-02-07 07:30:00',\n",
       "       '2019-02-07 08:00:00', '2019-02-07 08:30:00',\n",
       "       '2019-02-07 09:00:00', '2019-02-07 09:30:00',\n",
       "       '2019-02-07 10:00:00', '2019-02-07 10:30:00',\n",
       "       '2019-02-07 11:00:00', '2019-02-07 11:30:00',\n",
       "       '2019-02-07 12:00:00', '2019-02-07 12:30:00',\n",
       "       '2019-02-07 13:00:00', '2019-02-07 13:30:00',\n",
       "       '2019-02-07 14:00:00', '2019-02-07 14:30:00',\n",
       "       '2019-02-07 15:00:00', '2019-02-07 15:30:00',\n",
       "       '2019-02-07 16:00:00', '2019-02-07 16:30:00',\n",
       "       '2019-02-07 17:00:00', '2019-02-07 17:30:00',\n",
       "       '2019-02-07 18:00:00', '2019-02-07 18:30:00',\n",
       "       '2019-02-07 19:00:00', '2019-02-07 19:30:00',\n",
       "       '2019-02-07 20:00:00', '2019-02-07 20:30:00',\n",
       "       '2019-02-07 21:00:00', '2019-02-07 21:30:00',\n",
       "       '2019-02-07 22:00:00', '2019-02-07 22:30:00',\n",
       "       '2019-02-07 23:00:00', '2019-02-07 23:30:00',\n",
       "       '2019-02-08 00:00:00', '2019-02-08 00:30:00',\n",
       "       '2019-02-08 01:00:00', '2019-02-08 01:30:00',\n",
       "       '2019-02-08 02:00:00', '2019-02-08 02:30:00'], dtype=object)"
      ]
     },
     "execution_count": 216,
     "metadata": {},
     "output_type": "execute_result"
    }
   ],
   "source": [
    "all_['ts'].unique()"
   ]
  },
  {
   "cell_type": "code",
   "execution_count": 217,
   "metadata": {},
   "outputs": [],
   "source": [
    "all_=all_[all_['ts']=='2019-02-07 19:30:00']"
   ]
  },
  {
   "cell_type": "code",
   "execution_count": 218,
   "metadata": {},
   "outputs": [],
   "source": [
    "all_['ll']=all_['zid_from'].astype(str)+'_'+all_['zid_to'].astype(str)"
   ]
  },
  {
   "cell_type": "code",
   "execution_count": 219,
   "metadata": {},
   "outputs": [
    {
     "data": {
      "text/plain": [
       "10679"
      ]
     },
     "execution_count": 219,
     "metadata": {},
     "output_type": "execute_result"
    }
   ],
   "source": [
    "len(all_['ll'].unique())"
   ]
  },
  {
   "cell_type": "code",
   "execution_count": null,
   "metadata": {},
   "outputs": [],
   "source": []
  },
  {
   "cell_type": "code",
   "execution_count": null,
   "metadata": {},
   "outputs": [],
   "source": []
  },
  {
   "cell_type": "code",
   "execution_count": null,
   "metadata": {},
   "outputs": [],
   "source": []
  },
  {
   "cell_type": "code",
   "execution_count": null,
   "metadata": {},
   "outputs": [],
   "source": []
  },
  {
   "cell_type": "code",
   "execution_count": null,
   "metadata": {},
   "outputs": [],
   "source": []
  },
  {
   "cell_type": "code",
   "execution_count": null,
   "metadata": {},
   "outputs": [],
   "source": []
  },
  {
   "cell_type": "code",
   "execution_count": 258,
   "metadata": {},
   "outputs": [],
   "source": [
    "#Перемещения между двумя ТР\n",
    "def two_region:\n",
    "    b3=b2[b2['time_key'] == '2019-04-11']\n",
    "    from_156=b3[b3['zid_from']==150]\n",
    "    to_156=b3[b3['zid_to']==150]\n",
    "    to_156.head()\n",
    "    from_156.to_csv('150.csv')\n",
    "    from_156_morn=from_156[from_156['ts'].str.contains( ' 08:')]\\\n",
    "    .append(from_156[from_156['ts'].str.contains( ' 09:')])\\\n",
    "    .append(from_156[from_156['ts'].str.contains( ' 10:')])\n",
    "    to_156_morn=to_156[to_156['ts'].str.contains( ' 08:')]\\\n",
    "    .append(to_156[to_156['ts'].str.contains( ' 09:')])\\\n",
    "    .append(to_156[to_156['ts'].str.contains( ' 10:')])\\\n",
    "    to_156_morn['ts'].unique()\n",
    "    from_156_morn=pd.DataFrame(from_156_morn.groupby(['zid_to']).agg({'count_ctn': np.sum})).reset_index()\n",
    "    to_156_morn=pd.DataFrame(to_156_morn.groupby(['zid_from']).agg({'count_ctn': np.sum})).reset_index()\n",
    "    from_156_morn['count_ctn'].sum()\n",
    "    from_156_morn=from_156_morn.merge(a, on='zid_to').drop(['NO'], axis=1)\n",
    "    total1 = gpd.GeoDataFrame(from_156_morn, geometry='geometry')\n",
    "    total1.crs='epsg:4326'\n",
    "    total1.to_file('2019-10-17_from_150_morn_3hour.shp', driver='ESRI Shapefile')\n",
    "    to_156_morn=to_156_morn.merge(a, on='zid_from').drop(['NO'], axis=1)\n",
    "    total1 = gpd.GeoDataFrame(to_156_morn, geometry='geometry')\n",
    "    total1.crs='epsg:4326'\n",
    "    total1.to_file('2019-10-17_to_150_morn_3hour.shp', driver='ESRI Shapefile')"
   ]
  },
  {
   "cell_type": "code",
   "execution_count": 268,
   "metadata": {},
   "outputs": [],
   "source": []
  },
  {
   "cell_type": "markdown",
   "metadata": {},
   "source": [
    "Генерим полигон без внутренних границ"
   ]
  },
  {
   "cell_type": "code",
   "execution_count": null,
   "metadata": {},
   "outputs": [],
   "source": [
    "aaa = gpd.read_file('Samara2.shp', encoding=\"utf-8\")\n",
    "from shapely.ops import cascaded_union\n",
    "polygons = aaa['geometry'].unique()\n",
    "boundary = gpd.GeoSeries(cascaded_union(polygons))\n",
    "from shapely.geometry import JOIN_STYLE\n",
    "eps = 0.0005\n",
    "boundary2 = boundary.buffer(eps, 1, join_style=JOIN_STYLE.mitre).buffer(-eps, 1, join_style=JOIN_STYLE.mitre)\n",
    "boundary2.to_file('Sam.shp')\n",
    "ss = gpd.GeoDataFrame(s2)\n",
    "ss.crs='epsg:4326'\n",
    "ss.to_file('Samara2.shp', driver='ESRI Shapefile', encoding='utf-8')"
   ]
  },
  {
   "cell_type": "code",
   "execution_count": null,
   "metadata": {},
   "outputs": [],
   "source": []
  },
  {
   "cell_type": "code",
   "execution_count": 147,
   "metadata": {},
   "outputs": [],
   "source": [
    "prop = pd.read_csv('prop2.csv',sep = ';', encoding='utf-8')"
   ]
  },
  {
   "cell_type": "code",
   "execution_count": 148,
   "metadata": {},
   "outputs": [
    {
     "data": {
      "text/html": [
       "<div>\n",
       "<style scoped>\n",
       "    .dataframe tbody tr th:only-of-type {\n",
       "        vertical-align: middle;\n",
       "    }\n",
       "\n",
       "    .dataframe tbody tr th {\n",
       "        vertical-align: top;\n",
       "    }\n",
       "\n",
       "    .dataframe thead th {\n",
       "        text-align: right;\n",
       "    }\n",
       "</style>\n",
       "<table border=\"1\" class=\"dataframe\">\n",
       "  <thead>\n",
       "    <tr style=\"text-align: right;\">\n",
       "      <th></th>\n",
       "      <th>Номер транспортного района</th>\n",
       "      <th>Муниципалитет (нижний уровень)</th>\n",
       "      <th>Город/ Муниципалитет</th>\n",
       "      <th>Пригород чего</th>\n",
       "      <th>Км от 156 района</th>\n",
       "    </tr>\n",
       "  </thead>\n",
       "  <tbody>\n",
       "    <tr>\n",
       "      <th>0</th>\n",
       "      <td>1</td>\n",
       "      <td>Красноглинский район</td>\n",
       "      <td>городской округ Самара</td>\n",
       "      <td>городской округ Самара</td>\n",
       "      <td>66.93</td>\n",
       "    </tr>\n",
       "    <tr>\n",
       "      <th>1</th>\n",
       "      <td>2</td>\n",
       "      <td>Советский район</td>\n",
       "      <td>городской округ Самара</td>\n",
       "      <td>городской округ Самара</td>\n",
       "      <td>6.16</td>\n",
       "    </tr>\n",
       "    <tr>\n",
       "      <th>2</th>\n",
       "      <td>3</td>\n",
       "      <td>Кировский район</td>\n",
       "      <td>городской округ Самара</td>\n",
       "      <td>городской округ Самара</td>\n",
       "      <td>9.05</td>\n",
       "    </tr>\n",
       "    <tr>\n",
       "      <th>3</th>\n",
       "      <td>4</td>\n",
       "      <td>городское поселение Смышляевка</td>\n",
       "      <td>Волжский район</td>\n",
       "      <td>пригород Самары</td>\n",
       "      <td>24.31</td>\n",
       "    </tr>\n",
       "    <tr>\n",
       "      <th>4</th>\n",
       "      <td>5</td>\n",
       "      <td>сельское поселение Подстёпки</td>\n",
       "      <td>Ставропольский район</td>\n",
       "      <td>пригород Тольятти</td>\n",
       "      <td>NaN</td>\n",
       "    </tr>\n",
       "  </tbody>\n",
       "</table>\n",
       "</div>"
      ],
      "text/plain": [
       "   Номер транспортного района  Муниципалитет (нижний уровень)  \\\n",
       "0                           1            Красноглинский район   \n",
       "1                           2                 Советский район   \n",
       "2                           3                 Кировский район   \n",
       "3                           4  городское поселение Смышляевка   \n",
       "4                           5    сельское поселение Подстёпки   \n",
       "\n",
       "     Город/ Муниципалитет           Пригород чего  Км от 156 района  \n",
       "0  городской округ Самара  городской округ Самара             66.93  \n",
       "1  городской округ Самара  городской округ Самара              6.16  \n",
       "2  городской округ Самара  городской округ Самара              9.05  \n",
       "3          Волжский район         пригород Самары             24.31  \n",
       "4    Ставропольский район       пригород Тольятти               NaN  "
      ]
     },
     "execution_count": 148,
     "metadata": {},
     "output_type": "execute_result"
    }
   ],
   "source": [
    "prop.head()"
   ]
  },
  {
   "cell_type": "code",
   "execution_count": 149,
   "metadata": {},
   "outputs": [],
   "source": [
    "prop['zid_from']=prop['Номер транспортного района']\n",
    "prop['zid_to']=prop['Номер транспортного района']\n",
    "prop=prop.drop(['Номер транспортного района'],axis=1)"
   ]
  },
  {
   "cell_type": "code",
   "execution_count": 150,
   "metadata": {},
   "outputs": [],
   "source": [
    "prop=prop.drop(['Муниципалитет (нижний уровень)'],axis=1)\n",
    "prop=prop.drop(['Город/ Муниципалитет'],axis=1)"
   ]
  },
  {
   "cell_type": "code",
   "execution_count": 151,
   "metadata": {},
   "outputs": [
    {
     "data": {
      "text/plain": [
       "8237020"
      ]
     },
     "execution_count": 151,
     "metadata": {},
     "output_type": "execute_result"
    }
   ],
   "source": [
    "len(b2)"
   ]
  },
  {
   "cell_type": "code",
   "execution_count": 152,
   "metadata": {},
   "outputs": [],
   "source": [
    "l=b2.merge(prop, on='zid_from')"
   ]
  },
  {
   "cell_type": "code",
   "execution_count": 153,
   "metadata": {},
   "outputs": [
    {
     "data": {
      "text/plain": [
       "8237020"
      ]
     },
     "execution_count": 153,
     "metadata": {},
     "output_type": "execute_result"
    }
   ],
   "source": [
    "len(l)"
   ]
  },
  {
   "cell_type": "code",
   "execution_count": 154,
   "metadata": {},
   "outputs": [],
   "source": [
    "l=l.drop(['zid_to_y'],axis=1)"
   ]
  },
  {
   "cell_type": "code",
   "execution_count": 155,
   "metadata": {},
   "outputs": [],
   "source": [
    "l['Пригород_FROM']=l['Пригород чего']\n",
    "l['Км от 156 района_FROM']=l['Км от 156 района']\n",
    "l=l.drop(['Пригород чего'],axis=1).drop(['Км от 156 района'],axis=1)\n",
    "l['zid_to']=l['zid_to_x']\n",
    "l=l.drop(['zid_to_x'],axis=1)"
   ]
  },
  {
   "cell_type": "code",
   "execution_count": 156,
   "metadata": {},
   "outputs": [
    {
     "data": {
      "text/html": [
       "<div>\n",
       "<style scoped>\n",
       "    .dataframe tbody tr th:only-of-type {\n",
       "        vertical-align: middle;\n",
       "    }\n",
       "\n",
       "    .dataframe tbody tr th {\n",
       "        vertical-align: top;\n",
       "    }\n",
       "\n",
       "    .dataframe thead th {\n",
       "        text-align: right;\n",
       "    }\n",
       "</style>\n",
       "<table border=\"1\" class=\"dataframe\">\n",
       "  <thead>\n",
       "    <tr style=\"text-align: right;\">\n",
       "      <th></th>\n",
       "      <th>time_key</th>\n",
       "      <th>ts</th>\n",
       "      <th>zid_from</th>\n",
       "      <th>count_ctn</th>\n",
       "      <th>Пригород_FROM</th>\n",
       "      <th>Км от 156 района_FROM</th>\n",
       "      <th>zid_to</th>\n",
       "    </tr>\n",
       "  </thead>\n",
       "  <tbody>\n",
       "    <tr>\n",
       "      <th>0</th>\n",
       "      <td>2019-02-07</td>\n",
       "      <td>2019-02-07 03:00:00</td>\n",
       "      <td>1</td>\n",
       "      <td>2</td>\n",
       "      <td>городской округ Самара</td>\n",
       "      <td>66.93</td>\n",
       "      <td>6</td>\n",
       "    </tr>\n",
       "    <tr>\n",
       "      <th>1</th>\n",
       "      <td>2019-02-07</td>\n",
       "      <td>2019-02-07 03:00:00</td>\n",
       "      <td>1</td>\n",
       "      <td>1</td>\n",
       "      <td>городской округ Самара</td>\n",
       "      <td>66.93</td>\n",
       "      <td>23</td>\n",
       "    </tr>\n",
       "    <tr>\n",
       "      <th>2</th>\n",
       "      <td>2019-02-07</td>\n",
       "      <td>2019-02-07 03:00:00</td>\n",
       "      <td>1</td>\n",
       "      <td>1</td>\n",
       "      <td>городской округ Самара</td>\n",
       "      <td>66.93</td>\n",
       "      <td>25</td>\n",
       "    </tr>\n",
       "    <tr>\n",
       "      <th>3</th>\n",
       "      <td>2019-02-07</td>\n",
       "      <td>2019-02-07 03:00:00</td>\n",
       "      <td>1</td>\n",
       "      <td>1</td>\n",
       "      <td>городской округ Самара</td>\n",
       "      <td>66.93</td>\n",
       "      <td>31</td>\n",
       "    </tr>\n",
       "    <tr>\n",
       "      <th>4</th>\n",
       "      <td>2019-02-07</td>\n",
       "      <td>2019-02-07 03:00:00</td>\n",
       "      <td>1</td>\n",
       "      <td>1</td>\n",
       "      <td>городской округ Самара</td>\n",
       "      <td>66.93</td>\n",
       "      <td>121</td>\n",
       "    </tr>\n",
       "  </tbody>\n",
       "</table>\n",
       "</div>"
      ],
      "text/plain": [
       "     time_key                   ts  zid_from  count_ctn  \\\n",
       "0  2019-02-07  2019-02-07 03:00:00         1          2   \n",
       "1  2019-02-07  2019-02-07 03:00:00         1          1   \n",
       "2  2019-02-07  2019-02-07 03:00:00         1          1   \n",
       "3  2019-02-07  2019-02-07 03:00:00         1          1   \n",
       "4  2019-02-07  2019-02-07 03:00:00         1          1   \n",
       "\n",
       "            Пригород_FROM  Км от 156 района_FROM  zid_to  \n",
       "0  городской округ Самара                  66.93       6  \n",
       "1  городской округ Самара                  66.93      23  \n",
       "2  городской округ Самара                  66.93      25  \n",
       "3  городской округ Самара                  66.93      31  \n",
       "4  городской округ Самара                  66.93     121  "
      ]
     },
     "execution_count": 156,
     "metadata": {},
     "output_type": "execute_result"
    }
   ],
   "source": [
    "l.head()"
   ]
  },
  {
   "cell_type": "code",
   "execution_count": 157,
   "metadata": {},
   "outputs": [],
   "source": [
    "l2=l.merge(prop, on='zid_to')"
   ]
  },
  {
   "cell_type": "code",
   "execution_count": 158,
   "metadata": {},
   "outputs": [
    {
     "data": {
      "text/html": [
       "<div>\n",
       "<style scoped>\n",
       "    .dataframe tbody tr th:only-of-type {\n",
       "        vertical-align: middle;\n",
       "    }\n",
       "\n",
       "    .dataframe tbody tr th {\n",
       "        vertical-align: top;\n",
       "    }\n",
       "\n",
       "    .dataframe thead th {\n",
       "        text-align: right;\n",
       "    }\n",
       "</style>\n",
       "<table border=\"1\" class=\"dataframe\">\n",
       "  <thead>\n",
       "    <tr style=\"text-align: right;\">\n",
       "      <th></th>\n",
       "      <th>time_key</th>\n",
       "      <th>ts</th>\n",
       "      <th>zid_from_x</th>\n",
       "      <th>count_ctn</th>\n",
       "      <th>Пригород_FROM</th>\n",
       "      <th>Км от 156 района_FROM</th>\n",
       "      <th>zid_to</th>\n",
       "      <th>Пригород чего</th>\n",
       "      <th>Км от 156 района</th>\n",
       "      <th>zid_from_y</th>\n",
       "    </tr>\n",
       "  </thead>\n",
       "  <tbody>\n",
       "    <tr>\n",
       "      <th>0</th>\n",
       "      <td>2019-02-07</td>\n",
       "      <td>2019-02-07 03:00:00</td>\n",
       "      <td>1</td>\n",
       "      <td>2</td>\n",
       "      <td>городской округ Самара</td>\n",
       "      <td>66.93</td>\n",
       "      <td>6</td>\n",
       "      <td>городской округ Жигулёвск</td>\n",
       "      <td>NaN</td>\n",
       "      <td>6</td>\n",
       "    </tr>\n",
       "    <tr>\n",
       "      <th>1</th>\n",
       "      <td>2019-02-07</td>\n",
       "      <td>2019-02-07 04:00:00</td>\n",
       "      <td>1</td>\n",
       "      <td>1</td>\n",
       "      <td>городской округ Самара</td>\n",
       "      <td>66.93</td>\n",
       "      <td>6</td>\n",
       "      <td>городской округ Жигулёвск</td>\n",
       "      <td>NaN</td>\n",
       "      <td>6</td>\n",
       "    </tr>\n",
       "    <tr>\n",
       "      <th>2</th>\n",
       "      <td>2019-02-07</td>\n",
       "      <td>2019-02-07 05:30:00</td>\n",
       "      <td>1</td>\n",
       "      <td>1</td>\n",
       "      <td>городской округ Самара</td>\n",
       "      <td>66.93</td>\n",
       "      <td>6</td>\n",
       "      <td>городской округ Жигулёвск</td>\n",
       "      <td>NaN</td>\n",
       "      <td>6</td>\n",
       "    </tr>\n",
       "    <tr>\n",
       "      <th>3</th>\n",
       "      <td>2019-02-07</td>\n",
       "      <td>2019-02-07 05:30:00</td>\n",
       "      <td>1</td>\n",
       "      <td>1</td>\n",
       "      <td>городской округ Самара</td>\n",
       "      <td>66.93</td>\n",
       "      <td>6</td>\n",
       "      <td>городской округ Жигулёвск</td>\n",
       "      <td>NaN</td>\n",
       "      <td>6</td>\n",
       "    </tr>\n",
       "    <tr>\n",
       "      <th>4</th>\n",
       "      <td>2019-02-07</td>\n",
       "      <td>2019-02-07 06:00:00</td>\n",
       "      <td>1</td>\n",
       "      <td>4</td>\n",
       "      <td>городской округ Самара</td>\n",
       "      <td>66.93</td>\n",
       "      <td>6</td>\n",
       "      <td>городской округ Жигулёвск</td>\n",
       "      <td>NaN</td>\n",
       "      <td>6</td>\n",
       "    </tr>\n",
       "  </tbody>\n",
       "</table>\n",
       "</div>"
      ],
      "text/plain": [
       "     time_key                   ts  zid_from_x  count_ctn  \\\n",
       "0  2019-02-07  2019-02-07 03:00:00           1          2   \n",
       "1  2019-02-07  2019-02-07 04:00:00           1          1   \n",
       "2  2019-02-07  2019-02-07 05:30:00           1          1   \n",
       "3  2019-02-07  2019-02-07 05:30:00           1          1   \n",
       "4  2019-02-07  2019-02-07 06:00:00           1          4   \n",
       "\n",
       "            Пригород_FROM  Км от 156 района_FROM  zid_to  \\\n",
       "0  городской округ Самара                  66.93       6   \n",
       "1  городской округ Самара                  66.93       6   \n",
       "2  городской округ Самара                  66.93       6   \n",
       "3  городской округ Самара                  66.93       6   \n",
       "4  городской округ Самара                  66.93       6   \n",
       "\n",
       "               Пригород чего  Км от 156 района  zid_from_y  \n",
       "0  городской округ Жигулёвск               NaN           6  \n",
       "1  городской округ Жигулёвск               NaN           6  \n",
       "2  городской округ Жигулёвск               NaN           6  \n",
       "3  городской округ Жигулёвск               NaN           6  \n",
       "4  городской округ Жигулёвск               NaN           6  "
      ]
     },
     "execution_count": 158,
     "metadata": {},
     "output_type": "execute_result"
    }
   ],
   "source": [
    "l2.head()"
   ]
  },
  {
   "cell_type": "code",
   "execution_count": 159,
   "metadata": {},
   "outputs": [],
   "source": [
    "l2['Пригород_TO']=l2['Пригород чего']"
   ]
  },
  {
   "cell_type": "code",
   "execution_count": 160,
   "metadata": {},
   "outputs": [
    {
     "data": {
      "text/html": [
       "<div>\n",
       "<style scoped>\n",
       "    .dataframe tbody tr th:only-of-type {\n",
       "        vertical-align: middle;\n",
       "    }\n",
       "\n",
       "    .dataframe tbody tr th {\n",
       "        vertical-align: top;\n",
       "    }\n",
       "\n",
       "    .dataframe thead th {\n",
       "        text-align: right;\n",
       "    }\n",
       "</style>\n",
       "<table border=\"1\" class=\"dataframe\">\n",
       "  <thead>\n",
       "    <tr style=\"text-align: right;\">\n",
       "      <th></th>\n",
       "      <th>time_key</th>\n",
       "      <th>ts</th>\n",
       "      <th>zid_from_x</th>\n",
       "      <th>count_ctn</th>\n",
       "      <th>Пригород_FROM</th>\n",
       "      <th>Км от 156 района_FROM</th>\n",
       "      <th>zid_to</th>\n",
       "      <th>Пригород чего</th>\n",
       "      <th>Км от 156 района</th>\n",
       "      <th>zid_from_y</th>\n",
       "      <th>Пригород_TO</th>\n",
       "    </tr>\n",
       "  </thead>\n",
       "  <tbody>\n",
       "    <tr>\n",
       "      <th>0</th>\n",
       "      <td>2019-02-07</td>\n",
       "      <td>2019-02-07 03:00:00</td>\n",
       "      <td>1</td>\n",
       "      <td>2</td>\n",
       "      <td>городской округ Самара</td>\n",
       "      <td>66.93</td>\n",
       "      <td>6</td>\n",
       "      <td>городской округ Жигулёвск</td>\n",
       "      <td>NaN</td>\n",
       "      <td>6</td>\n",
       "      <td>городской округ Жигулёвск</td>\n",
       "    </tr>\n",
       "    <tr>\n",
       "      <th>1</th>\n",
       "      <td>2019-02-07</td>\n",
       "      <td>2019-02-07 04:00:00</td>\n",
       "      <td>1</td>\n",
       "      <td>1</td>\n",
       "      <td>городской округ Самара</td>\n",
       "      <td>66.93</td>\n",
       "      <td>6</td>\n",
       "      <td>городской округ Жигулёвск</td>\n",
       "      <td>NaN</td>\n",
       "      <td>6</td>\n",
       "      <td>городской округ Жигулёвск</td>\n",
       "    </tr>\n",
       "    <tr>\n",
       "      <th>2</th>\n",
       "      <td>2019-02-07</td>\n",
       "      <td>2019-02-07 05:30:00</td>\n",
       "      <td>1</td>\n",
       "      <td>1</td>\n",
       "      <td>городской округ Самара</td>\n",
       "      <td>66.93</td>\n",
       "      <td>6</td>\n",
       "      <td>городской округ Жигулёвск</td>\n",
       "      <td>NaN</td>\n",
       "      <td>6</td>\n",
       "      <td>городской округ Жигулёвск</td>\n",
       "    </tr>\n",
       "    <tr>\n",
       "      <th>3</th>\n",
       "      <td>2019-02-07</td>\n",
       "      <td>2019-02-07 05:30:00</td>\n",
       "      <td>1</td>\n",
       "      <td>1</td>\n",
       "      <td>городской округ Самара</td>\n",
       "      <td>66.93</td>\n",
       "      <td>6</td>\n",
       "      <td>городской округ Жигулёвск</td>\n",
       "      <td>NaN</td>\n",
       "      <td>6</td>\n",
       "      <td>городской округ Жигулёвск</td>\n",
       "    </tr>\n",
       "    <tr>\n",
       "      <th>4</th>\n",
       "      <td>2019-02-07</td>\n",
       "      <td>2019-02-07 06:00:00</td>\n",
       "      <td>1</td>\n",
       "      <td>4</td>\n",
       "      <td>городской округ Самара</td>\n",
       "      <td>66.93</td>\n",
       "      <td>6</td>\n",
       "      <td>городской округ Жигулёвск</td>\n",
       "      <td>NaN</td>\n",
       "      <td>6</td>\n",
       "      <td>городской округ Жигулёвск</td>\n",
       "    </tr>\n",
       "  </tbody>\n",
       "</table>\n",
       "</div>"
      ],
      "text/plain": [
       "     time_key                   ts  zid_from_x  count_ctn  \\\n",
       "0  2019-02-07  2019-02-07 03:00:00           1          2   \n",
       "1  2019-02-07  2019-02-07 04:00:00           1          1   \n",
       "2  2019-02-07  2019-02-07 05:30:00           1          1   \n",
       "3  2019-02-07  2019-02-07 05:30:00           1          1   \n",
       "4  2019-02-07  2019-02-07 06:00:00           1          4   \n",
       "\n",
       "            Пригород_FROM  Км от 156 района_FROM  zid_to  \\\n",
       "0  городской округ Самара                  66.93       6   \n",
       "1  городской округ Самара                  66.93       6   \n",
       "2  городской округ Самара                  66.93       6   \n",
       "3  городской округ Самара                  66.93       6   \n",
       "4  городской округ Самара                  66.93       6   \n",
       "\n",
       "               Пригород чего  Км от 156 района  zid_from_y  \\\n",
       "0  городской округ Жигулёвск               NaN           6   \n",
       "1  городской округ Жигулёвск               NaN           6   \n",
       "2  городской округ Жигулёвск               NaN           6   \n",
       "3  городской округ Жигулёвск               NaN           6   \n",
       "4  городской округ Жигулёвск               NaN           6   \n",
       "\n",
       "                 Пригород_TO  \n",
       "0  городской округ Жигулёвск  \n",
       "1  городской округ Жигулёвск  \n",
       "2  городской округ Жигулёвск  \n",
       "3  городской округ Жигулёвск  \n",
       "4  городской округ Жигулёвск  "
      ]
     },
     "execution_count": 160,
     "metadata": {},
     "output_type": "execute_result"
    }
   ],
   "source": [
    "l2.head()"
   ]
  },
  {
   "cell_type": "code",
   "execution_count": 161,
   "metadata": {},
   "outputs": [],
   "source": [
    "l2=l2.drop(['Км от 156 района'],axis=1)"
   ]
  },
  {
   "cell_type": "code",
   "execution_count": 162,
   "metadata": {},
   "outputs": [],
   "source": [
    "l2=l2.drop(['Пригород чего'],axis=1)"
   ]
  },
  {
   "cell_type": "code",
   "execution_count": 163,
   "metadata": {},
   "outputs": [],
   "source": [
    "l2['zid_from']=l2['zid_from_x']"
   ]
  },
  {
   "cell_type": "code",
   "execution_count": 164,
   "metadata": {},
   "outputs": [],
   "source": [
    "l2=l2.drop(['zid_from_x'],axis=1).drop(['zid_from_y'],axis=1)"
   ]
  },
  {
   "cell_type": "code",
   "execution_count": 165,
   "metadata": {},
   "outputs": [
    {
     "data": {
      "text/html": [
       "<div>\n",
       "<style scoped>\n",
       "    .dataframe tbody tr th:only-of-type {\n",
       "        vertical-align: middle;\n",
       "    }\n",
       "\n",
       "    .dataframe tbody tr th {\n",
       "        vertical-align: top;\n",
       "    }\n",
       "\n",
       "    .dataframe thead th {\n",
       "        text-align: right;\n",
       "    }\n",
       "</style>\n",
       "<table border=\"1\" class=\"dataframe\">\n",
       "  <thead>\n",
       "    <tr style=\"text-align: right;\">\n",
       "      <th></th>\n",
       "      <th>time_key</th>\n",
       "      <th>ts</th>\n",
       "      <th>count_ctn</th>\n",
       "      <th>Пригород_FROM</th>\n",
       "      <th>Км от 156 района_FROM</th>\n",
       "      <th>zid_to</th>\n",
       "      <th>Пригород_TO</th>\n",
       "      <th>zid_from</th>\n",
       "    </tr>\n",
       "  </thead>\n",
       "  <tbody>\n",
       "    <tr>\n",
       "      <th>0</th>\n",
       "      <td>2019-02-07</td>\n",
       "      <td>2019-02-07 03:00:00</td>\n",
       "      <td>2</td>\n",
       "      <td>городской округ Самара</td>\n",
       "      <td>66.93</td>\n",
       "      <td>6</td>\n",
       "      <td>городской округ Жигулёвск</td>\n",
       "      <td>1</td>\n",
       "    </tr>\n",
       "    <tr>\n",
       "      <th>1</th>\n",
       "      <td>2019-02-07</td>\n",
       "      <td>2019-02-07 04:00:00</td>\n",
       "      <td>1</td>\n",
       "      <td>городской округ Самара</td>\n",
       "      <td>66.93</td>\n",
       "      <td>6</td>\n",
       "      <td>городской округ Жигулёвск</td>\n",
       "      <td>1</td>\n",
       "    </tr>\n",
       "    <tr>\n",
       "      <th>2</th>\n",
       "      <td>2019-02-07</td>\n",
       "      <td>2019-02-07 05:30:00</td>\n",
       "      <td>1</td>\n",
       "      <td>городской округ Самара</td>\n",
       "      <td>66.93</td>\n",
       "      <td>6</td>\n",
       "      <td>городской округ Жигулёвск</td>\n",
       "      <td>1</td>\n",
       "    </tr>\n",
       "    <tr>\n",
       "      <th>3</th>\n",
       "      <td>2019-02-07</td>\n",
       "      <td>2019-02-07 05:30:00</td>\n",
       "      <td>1</td>\n",
       "      <td>городской округ Самара</td>\n",
       "      <td>66.93</td>\n",
       "      <td>6</td>\n",
       "      <td>городской округ Жигулёвск</td>\n",
       "      <td>1</td>\n",
       "    </tr>\n",
       "    <tr>\n",
       "      <th>4</th>\n",
       "      <td>2019-02-07</td>\n",
       "      <td>2019-02-07 06:00:00</td>\n",
       "      <td>4</td>\n",
       "      <td>городской округ Самара</td>\n",
       "      <td>66.93</td>\n",
       "      <td>6</td>\n",
       "      <td>городской округ Жигулёвск</td>\n",
       "      <td>1</td>\n",
       "    </tr>\n",
       "  </tbody>\n",
       "</table>\n",
       "</div>"
      ],
      "text/plain": [
       "     time_key                   ts  count_ctn           Пригород_FROM  \\\n",
       "0  2019-02-07  2019-02-07 03:00:00          2  городской округ Самара   \n",
       "1  2019-02-07  2019-02-07 04:00:00          1  городской округ Самара   \n",
       "2  2019-02-07  2019-02-07 05:30:00          1  городской округ Самара   \n",
       "3  2019-02-07  2019-02-07 05:30:00          1  городской округ Самара   \n",
       "4  2019-02-07  2019-02-07 06:00:00          4  городской округ Самара   \n",
       "\n",
       "   Км от 156 района_FROM  zid_to                Пригород_TO  zid_from  \n",
       "0                  66.93       6  городской округ Жигулёвск         1  \n",
       "1                  66.93       6  городской округ Жигулёвск         1  \n",
       "2                  66.93       6  городской округ Жигулёвск         1  \n",
       "3                  66.93       6  городской округ Жигулёвск         1  \n",
       "4                  66.93       6  городской округ Жигулёвск         1  "
      ]
     },
     "execution_count": 165,
     "metadata": {},
     "output_type": "execute_result"
    }
   ],
   "source": [
    "l2.head()"
   ]
  },
  {
   "cell_type": "code",
   "execution_count": 166,
   "metadata": {},
   "outputs": [],
   "source": [
    "po_dnyam_all=pd.DataFrame(l2.groupby(['time_key']).agg({'count_ctn': np.sum})).reset_index().rename(columns={'count_ctn':'all'})"
   ]
  },
  {
   "cell_type": "code",
   "execution_count": 167,
   "metadata": {},
   "outputs": [],
   "source": [
    "aglom=pd.read_csv('STA.csv', sep = ';', encoding='windows-1251')"
   ]
  },
  {
   "cell_type": "code",
   "execution_count": 168,
   "metadata": {},
   "outputs": [],
   "source": [
    "sta=aglom['zid_from'].unique()"
   ]
  },
  {
   "cell_type": "code",
   "execution_count": 169,
   "metadata": {},
   "outputs": [],
   "source": [
    "t_sta=l2[l2['zid_from'].isin(sta)]\n",
    "t_sta=t_sta[t_sta['zid_to'].isin(sta)]"
   ]
  },
  {
   "cell_type": "code",
   "execution_count": 170,
   "metadata": {},
   "outputs": [],
   "source": [
    "po_dnyam_sta=pd.DataFrame(t_sta.groupby(['time_key']).agg({'count_ctn': np.sum})).reset_index().rename(columns={'count_ctn':'sta'})"
   ]
  },
  {
   "cell_type": "code",
   "execution_count": 171,
   "metadata": {},
   "outputs": [],
   "source": [
    "Samara_Samara=l2[(l2['Пригород_TO']=='городской округ Самара') & (l2['Пригород_FROM']=='городской округ Самара')]"
   ]
  },
  {
   "cell_type": "code",
   "execution_count": 172,
   "metadata": {},
   "outputs": [],
   "source": [
    "po_dnyam_Samara=pd.DataFrame(Samara_Samara.groupby(['time_key']).agg({'count_ctn': np.sum})).reset_index().rename(columns={'count_ctn':'Samara'})"
   ]
  },
  {
   "cell_type": "code",
   "execution_count": 173,
   "metadata": {},
   "outputs": [],
   "source": [
    "Tol_Tol=l2[(l2['Пригород_TO']=='городской округ Тольятти') & (l2['Пригород_FROM']=='городской округ Тольятти')]"
   ]
  },
  {
   "cell_type": "code",
   "execution_count": 174,
   "metadata": {},
   "outputs": [],
   "source": [
    "po_dnyam_Tol=pd.DataFrame(Tol_Tol.groupby(['time_key']).agg({'count_ctn': np.sum})).reset_index().rename(columns={'count_ctn':'Tol'})"
   ]
  },
  {
   "cell_type": "code",
   "execution_count": 175,
   "metadata": {},
   "outputs": [],
   "source": [
    "po_dnyam_all=po_dnyam_all.merge(po_dnyam_sta, on='time_key').merge(po_dnyam_Samara, on='time_key').merge(po_dnyam_Tol, on='time_key')"
   ]
  },
  {
   "cell_type": "code",
   "execution_count": 176,
   "metadata": {},
   "outputs": [
    {
     "data": {
      "text/html": [
       "<div>\n",
       "<style scoped>\n",
       "    .dataframe tbody tr th:only-of-type {\n",
       "        vertical-align: middle;\n",
       "    }\n",
       "\n",
       "    .dataframe tbody tr th {\n",
       "        vertical-align: top;\n",
       "    }\n",
       "\n",
       "    .dataframe thead th {\n",
       "        text-align: right;\n",
       "    }\n",
       "</style>\n",
       "<table border=\"1\" class=\"dataframe\">\n",
       "  <thead>\n",
       "    <tr style=\"text-align: right;\">\n",
       "      <th></th>\n",
       "      <th>time_key</th>\n",
       "      <th>all</th>\n",
       "      <th>sta</th>\n",
       "      <th>Samara</th>\n",
       "      <th>Tol</th>\n",
       "    </tr>\n",
       "  </thead>\n",
       "  <tbody>\n",
       "    <tr>\n",
       "      <th>0</th>\n",
       "      <td>2019-02-07</td>\n",
       "      <td>1381152</td>\n",
       "      <td>1233143</td>\n",
       "      <td>457582</td>\n",
       "      <td>275995</td>\n",
       "    </tr>\n",
       "    <tr>\n",
       "      <th>1</th>\n",
       "      <td>2019-02-08</td>\n",
       "      <td>1646253</td>\n",
       "      <td>1467416</td>\n",
       "      <td>545406</td>\n",
       "      <td>333924</td>\n",
       "    </tr>\n",
       "    <tr>\n",
       "      <th>2</th>\n",
       "      <td>2019-02-09</td>\n",
       "      <td>1401156</td>\n",
       "      <td>1233279</td>\n",
       "      <td>448056</td>\n",
       "      <td>265784</td>\n",
       "    </tr>\n",
       "    <tr>\n",
       "      <th>3</th>\n",
       "      <td>2019-04-11</td>\n",
       "      <td>1717111</td>\n",
       "      <td>1537450</td>\n",
       "      <td>560408</td>\n",
       "      <td>342408</td>\n",
       "    </tr>\n",
       "    <tr>\n",
       "      <th>4</th>\n",
       "      <td>2019-04-12</td>\n",
       "      <td>1874988</td>\n",
       "      <td>1670334</td>\n",
       "      <td>596752</td>\n",
       "      <td>365128</td>\n",
       "    </tr>\n",
       "  </tbody>\n",
       "</table>\n",
       "</div>"
      ],
      "text/plain": [
       "     time_key      all      sta  Samara     Tol\n",
       "0  2019-02-07  1381152  1233143  457582  275995\n",
       "1  2019-02-08  1646253  1467416  545406  333924\n",
       "2  2019-02-09  1401156  1233279  448056  265784\n",
       "3  2019-04-11  1717111  1537450  560408  342408\n",
       "4  2019-04-12  1874988  1670334  596752  365128"
      ]
     },
     "execution_count": 176,
     "metadata": {},
     "output_type": "execute_result"
    }
   ],
   "source": [
    "po_dnyam_all.head()"
   ]
  },
  {
   "cell_type": "code",
   "execution_count": 177,
   "metadata": {},
   "outputs": [],
   "source": [
    "po_dnyam_all.to_csv('po_dnyam.csv')"
   ]
  },
  {
   "cell_type": "code",
   "execution_count": 178,
   "metadata": {},
   "outputs": [
    {
     "data": {
      "text/plain": [
       "17996821"
      ]
     },
     "execution_count": 178,
     "metadata": {},
     "output_type": "execute_result"
    }
   ],
   "source": [
    "t_sta['count_ctn'].sum()"
   ]
  },
  {
   "cell_type": "code",
   "execution_count": 179,
   "metadata": {},
   "outputs": [
    {
     "data": {
      "text/plain": [
       "210338"
      ]
     },
     "execution_count": 179,
     "metadata": {},
     "output_type": "execute_result"
    }
   ],
   "source": [
    "Samara_Tol=l2[(l2['Пригород_FROM']=='городской округ Самара') & (l2['Пригород_TO']=='городской округ Тольятти')]\n",
    "Samara_Tol['count_ctn'].sum()"
   ]
  },
  {
   "cell_type": "code",
   "execution_count": 180,
   "metadata": {},
   "outputs": [
    {
     "data": {
      "text/plain": [
       "array(['2019-02-07', '2019-02-08', '2019-02-09', '2019-04-11',\n",
       "       '2019-04-12', '2019-04-13', '2019-07-11', '2019-07-12',\n",
       "       '2019-07-13', '2019-10-17', '2019-10-18', '2019-10-19'],\n",
       "      dtype=object)"
      ]
     },
     "execution_count": 180,
     "metadata": {},
     "output_type": "execute_result"
    }
   ],
   "source": [
    "Samara_Tol['time_key'].unique()"
   ]
  },
  {
   "cell_type": "code",
   "execution_count": 181,
   "metadata": {},
   "outputs": [],
   "source": [
    "po_dnyam_Sam_Tol=pd.DataFrame(Samara_Tol.groupby(['time_key']).agg({'count_ctn': np.sum})).reset_index()"
   ]
  },
  {
   "cell_type": "code",
   "execution_count": 182,
   "metadata": {},
   "outputs": [
    {
     "data": {
      "text/plain": [
       "212672"
      ]
     },
     "execution_count": 182,
     "metadata": {},
     "output_type": "execute_result"
    }
   ],
   "source": [
    "Tol_Samara=l2[(l2['Пригород_TO']=='городской округ Самара') & (l2['Пригород_FROM']=='городской округ Тольятти')]\n",
    "Tol_Samara['count_ctn'].sum()"
   ]
  },
  {
   "cell_type": "code",
   "execution_count": 183,
   "metadata": {},
   "outputs": [],
   "source": [
    "po_dnyam_Tol_Sam=pd.DataFrame(Tol_Samara.groupby(['time_key']).agg({'count_ctn': np.sum})).reset_index()"
   ]
  },
  {
   "cell_type": "code",
   "execution_count": 184,
   "metadata": {},
   "outputs": [],
   "source": [
    "po_dnyam_Sam_Tol=po_dnyam_Sam_Tol.merge(po_dnyam_Tol_Sam, on='time_key')"
   ]
  },
  {
   "cell_type": "code",
   "execution_count": 185,
   "metadata": {},
   "outputs": [],
   "source": [
    "po_dnyam_Sam_Tol.to_csv('poezdki_Sam_Tol.csv')"
   ]
  },
  {
   "cell_type": "code",
   "execution_count": 186,
   "metadata": {},
   "outputs": [
    {
     "data": {
      "text/plain": [
       "778451"
      ]
     },
     "execution_count": 186,
     "metadata": {},
     "output_type": "execute_result"
    }
   ],
   "source": [
    "Samara_prigorod=l2[(l2['Пригород_FROM']=='городской округ Самара') & (l2['Пригород_TO']=='пригород Самары')]\n",
    "Samara_prigorod['count_ctn'].sum()"
   ]
  },
  {
   "cell_type": "code",
   "execution_count": 187,
   "metadata": {},
   "outputs": [
    {
     "data": {
      "text/plain": [
       "755826"
      ]
     },
     "execution_count": 187,
     "metadata": {},
     "output_type": "execute_result"
    }
   ],
   "source": [
    "prigorod_Samara=l2[(l2['Пригород_TO']=='городской округ Самара') & (l2['Пригород_FROM']=='пригород Самары')]\n",
    "prigorod_Samara['count_ctn'].sum()"
   ]
  },
  {
   "cell_type": "code",
   "execution_count": 188,
   "metadata": {},
   "outputs": [
    {
     "data": {
      "text/plain": [
       "6087029"
      ]
     },
     "execution_count": 188,
     "metadata": {},
     "output_type": "execute_result"
    }
   ],
   "source": [
    "Samara_Samara=l2[(l2['Пригород_TO']=='городской округ Самара') & (l2['Пригород_FROM']=='городской округ Самара')]\n",
    "Samara_Samara['count_ctn'].sum()"
   ]
  },
  {
   "cell_type": "code",
   "execution_count": 189,
   "metadata": {},
   "outputs": [
    {
     "data": {
      "text/plain": [
       "3681276"
      ]
     },
     "execution_count": 189,
     "metadata": {},
     "output_type": "execute_result"
    }
   ],
   "source": [
    "Tol_Tol=l2[(l2['Пригород_TO']=='городской округ Тольятти') & (l2['Пригород_FROM']=='городской округ Тольятти')]\n",
    "Tol_Tol['count_ctn'].sum()"
   ]
  },
  {
   "cell_type": "code",
   "execution_count": 190,
   "metadata": {},
   "outputs": [
    {
     "data": {
      "text/plain": [
       "1057725"
      ]
     },
     "execution_count": 190,
     "metadata": {},
     "output_type": "execute_result"
    }
   ],
   "source": [
    "Tol_prigorod=l2[(l2['Пригород_FROM']=='городской округ Тольятти') & (l2['Пригород_TO']=='пригород Тольятти')]\n",
    "Tol_prigorod['count_ctn'].sum()"
   ]
  },
  {
   "cell_type": "code",
   "execution_count": 191,
   "metadata": {},
   "outputs": [
    {
     "data": {
      "text/plain": [
       "1009217"
      ]
     },
     "execution_count": 191,
     "metadata": {},
     "output_type": "execute_result"
    }
   ],
   "source": [
    "prigorod_Tol=l2[(l2['Пригород_TO']=='городской округ Тольятти') & (l2['Пригород_FROM']=='пригород Тольятти')]\n",
    "prigorod_Tol['count_ctn'].sum()"
   ]
  },
  {
   "cell_type": "code",
   "execution_count": null,
   "metadata": {},
   "outputs": [],
   "source": []
  },
  {
   "cell_type": "code",
   "execution_count": 192,
   "metadata": {},
   "outputs": [],
   "source": [
    "for_clustrt = pd.read_csv('For_Cluster.csv',sep = ';', encoding='utf-8')"
   ]
  },
  {
   "cell_type": "code",
   "execution_count": 193,
   "metadata": {},
   "outputs": [],
   "source": [
    "clustr = pd.read_csv('cluster.csv',sep = ';', encoding='utf-8')"
   ]
  },
  {
   "cell_type": "code",
   "execution_count": 194,
   "metadata": {},
   "outputs": [
    {
     "data": {
      "text/html": [
       "<div>\n",
       "<style scoped>\n",
       "    .dataframe tbody tr th:only-of-type {\n",
       "        vertical-align: middle;\n",
       "    }\n",
       "\n",
       "    .dataframe tbody tr th {\n",
       "        vertical-align: top;\n",
       "    }\n",
       "\n",
       "    .dataframe thead th {\n",
       "        text-align: right;\n",
       "    }\n",
       "</style>\n",
       "<table border=\"1\" class=\"dataframe\">\n",
       "  <thead>\n",
       "    <tr style=\"text-align: right;\">\n",
       "      <th></th>\n",
       "      <th>До</th>\n",
       "      <th>Тип района</th>\n",
       "    </tr>\n",
       "  </thead>\n",
       "  <tbody>\n",
       "    <tr>\n",
       "      <th>0</th>\n",
       "      <td>1</td>\n",
       "      <td>Пригород Тольятти</td>\n",
       "    </tr>\n",
       "    <tr>\n",
       "      <th>1</th>\n",
       "      <td>2</td>\n",
       "      <td>Самара</td>\n",
       "    </tr>\n",
       "    <tr>\n",
       "      <th>2</th>\n",
       "      <td>3</td>\n",
       "      <td>Самара</td>\n",
       "    </tr>\n",
       "    <tr>\n",
       "      <th>3</th>\n",
       "      <td>4</td>\n",
       "      <td>Пригород Самары</td>\n",
       "    </tr>\n",
       "    <tr>\n",
       "      <th>4</th>\n",
       "      <td>5</td>\n",
       "      <td>Пригород Тольятти</td>\n",
       "    </tr>\n",
       "  </tbody>\n",
       "</table>\n",
       "</div>"
      ],
      "text/plain": [
       "   До         Тип района\n",
       "0   1  Пригород Тольятти\n",
       "1   2             Самара\n",
       "2   3             Самара\n",
       "3   4    Пригород Самары\n",
       "4   5  Пригород Тольятти"
      ]
     },
     "execution_count": 194,
     "metadata": {},
     "output_type": "execute_result"
    }
   ],
   "source": [
    "clustr.head()"
   ]
  },
  {
   "cell_type": "code",
   "execution_count": 195,
   "metadata": {},
   "outputs": [
    {
     "data": {
      "text/plain": [
       "array(['Пригород Тольятти', 'Самара', 'Пригород Самары', 'Тольятти',\n",
       "       'Периферия', 'Новокуйбышевск + Чапаевск'], dtype=object)"
      ]
     },
     "execution_count": 195,
     "metadata": {},
     "output_type": "execute_result"
    }
   ],
   "source": [
    "clustr['Тип района'].unique()"
   ]
  },
  {
   "cell_type": "code",
   "execution_count": 196,
   "metadata": {},
   "outputs": [],
   "source": [
    "for_clustrt=for_clustrt.merge(clustr, on='До')"
   ]
  },
  {
   "cell_type": "code",
   "execution_count": 50,
   "metadata": {},
   "outputs": [
    {
     "data": {
      "text/html": [
       "<div>\n",
       "<style scoped>\n",
       "    .dataframe tbody tr th:only-of-type {\n",
       "        vertical-align: middle;\n",
       "    }\n",
       "\n",
       "    .dataframe tbody tr th {\n",
       "        vertical-align: top;\n",
       "    }\n",
       "\n",
       "    .dataframe thead th {\n",
       "        text-align: right;\n",
       "    }\n",
       "</style>\n",
       "<table border=\"1\" class=\"dataframe\">\n",
       "  <thead>\n",
       "    <tr style=\"text-align: right;\">\n",
       "      <th></th>\n",
       "      <th>От</th>\n",
       "      <th>До</th>\n",
       "      <th>id_2</th>\n",
       "      <th>TR_type</th>\n",
       "      <th>POP_FROM</th>\n",
       "      <th>POP_TO</th>\n",
       "      <th>WORK_TO</th>\n",
       "      <th>STUD_TO</th>\n",
       "      <th>RUSH</th>\n",
       "      <th>DAY</th>\n",
       "      <th>...</th>\n",
       "      <th>СТЗ_2</th>\n",
       "      <th>СТЗ_3</th>\n",
       "      <th>СТЗ_4</th>\n",
       "      <th>СТЗ_5</th>\n",
       "      <th>ТЦ_from</th>\n",
       "      <th>ТЦ_to</th>\n",
       "      <th>ТЦ-ТЦ</th>\n",
       "      <th>ТЦ_GR</th>\n",
       "      <th>Тип района_x</th>\n",
       "      <th>Тип района_y</th>\n",
       "    </tr>\n",
       "  </thead>\n",
       "  <tbody>\n",
       "    <tr>\n",
       "      <th>0</th>\n",
       "      <td>1</td>\n",
       "      <td>3</td>\n",
       "      <td>1_3</td>\n",
       "      <td>3</td>\n",
       "      <td>8 131</td>\n",
       "      <td>20 729</td>\n",
       "      <td>17 411</td>\n",
       "      <td>954</td>\n",
       "      <td>10</td>\n",
       "      <td>54</td>\n",
       "      <td>...</td>\n",
       "      <td>442</td>\n",
       "      <td>399</td>\n",
       "      <td>397</td>\n",
       "      <td>439</td>\n",
       "      <td>0</td>\n",
       "      <td>4 708</td>\n",
       "      <td>4 708</td>\n",
       "      <td>1,02</td>\n",
       "      <td>Пригород Тольятти</td>\n",
       "      <td>Самара</td>\n",
       "    </tr>\n",
       "    <tr>\n",
       "      <th>1</th>\n",
       "      <td>2</td>\n",
       "      <td>3</td>\n",
       "      <td>2_3</td>\n",
       "      <td>5</td>\n",
       "      <td>6 135</td>\n",
       "      <td>20 729</td>\n",
       "      <td>17 411</td>\n",
       "      <td>954</td>\n",
       "      <td>120</td>\n",
       "      <td>638</td>\n",
       "      <td>...</td>\n",
       "      <td>114</td>\n",
       "      <td>168</td>\n",
       "      <td>171</td>\n",
       "      <td>118</td>\n",
       "      <td>236</td>\n",
       "      <td>4 708</td>\n",
       "      <td>4 472</td>\n",
       "      <td>1,02</td>\n",
       "      <td>Самара</td>\n",
       "      <td>Самара</td>\n",
       "    </tr>\n",
       "    <tr>\n",
       "      <th>2</th>\n",
       "      <td>4</td>\n",
       "      <td>3</td>\n",
       "      <td>4_3</td>\n",
       "      <td>5</td>\n",
       "      <td>1 030</td>\n",
       "      <td>20 729</td>\n",
       "      <td>17 411</td>\n",
       "      <td>954</td>\n",
       "      <td>14</td>\n",
       "      <td>53</td>\n",
       "      <td>...</td>\n",
       "      <td>299</td>\n",
       "      <td>369</td>\n",
       "      <td>373</td>\n",
       "      <td>304</td>\n",
       "      <td>0</td>\n",
       "      <td>4 708</td>\n",
       "      <td>4 708</td>\n",
       "      <td>1,02</td>\n",
       "      <td>Пригород Самары</td>\n",
       "      <td>Самара</td>\n",
       "    </tr>\n",
       "    <tr>\n",
       "      <th>3</th>\n",
       "      <td>6</td>\n",
       "      <td>3</td>\n",
       "      <td>6_3</td>\n",
       "      <td>1</td>\n",
       "      <td>69 971</td>\n",
       "      <td>20 729</td>\n",
       "      <td>17 411</td>\n",
       "      <td>954</td>\n",
       "      <td>8</td>\n",
       "      <td>67</td>\n",
       "      <td>...</td>\n",
       "      <td>606</td>\n",
       "      <td>553</td>\n",
       "      <td>551</td>\n",
       "      <td>602</td>\n",
       "      <td>5 498</td>\n",
       "      <td>4 708</td>\n",
       "      <td>-790</td>\n",
       "      <td>1</td>\n",
       "      <td>Тольятти</td>\n",
       "      <td>Самара</td>\n",
       "    </tr>\n",
       "    <tr>\n",
       "      <th>4</th>\n",
       "      <td>16</td>\n",
       "      <td>3</td>\n",
       "      <td>16_3</td>\n",
       "      <td>1</td>\n",
       "      <td>101 142</td>\n",
       "      <td>20 729</td>\n",
       "      <td>17 411</td>\n",
       "      <td>954</td>\n",
       "      <td>7</td>\n",
       "      <td>86</td>\n",
       "      <td>...</td>\n",
       "      <td>693</td>\n",
       "      <td>690</td>\n",
       "      <td>690</td>\n",
       "      <td>693</td>\n",
       "      <td>131 427</td>\n",
       "      <td>4 708</td>\n",
       "      <td>-126 719</td>\n",
       "      <td>0,52</td>\n",
       "      <td>Тольятти</td>\n",
       "      <td>Самара</td>\n",
       "    </tr>\n",
       "  </tbody>\n",
       "</table>\n",
       "<p>5 rows × 21 columns</p>\n",
       "</div>"
      ],
      "text/plain": [
       "   От  До  id_2  TR_type POP_FROM  POP_TO WORK_TO STUD_TO  RUSH  DAY  ...  \\\n",
       "0   1   3   1_3        3    8 131  20 729  17 411     954    10   54  ...   \n",
       "1   2   3   2_3        5    6 135  20 729  17 411     954   120  638  ...   \n",
       "2   4   3   4_3        5    1 030  20 729  17 411     954    14   53  ...   \n",
       "3   6   3   6_3        1   69 971  20 729  17 411     954     8   67  ...   \n",
       "4  16   3  16_3        1  101 142  20 729  17 411     954     7   86  ...   \n",
       "\n",
       "   СТЗ_2  СТЗ_3  СТЗ_4  СТЗ_5  ТЦ_from  ТЦ_to     ТЦ-ТЦ ТЦ_GR  \\\n",
       "0    442    399    397    439        0  4 708     4 708  1,02   \n",
       "1    114    168    171    118      236  4 708     4 472  1,02   \n",
       "2    299    369    373    304        0  4 708     4 708  1,02   \n",
       "3    606    553    551    602    5 498  4 708      -790     1   \n",
       "4    693    690    690    693  131 427  4 708  -126 719  0,52   \n",
       "\n",
       "        Тип района_x Тип района_y  \n",
       "0  Пригород Тольятти       Самара  \n",
       "1             Самара       Самара  \n",
       "2    Пригород Самары       Самара  \n",
       "3           Тольятти       Самара  \n",
       "4           Тольятти       Самара  \n",
       "\n",
       "[5 rows x 21 columns]"
      ]
     },
     "execution_count": 50,
     "metadata": {},
     "output_type": "execute_result"
    }
   ],
   "source": [
    "for_clustrt.head()"
   ]
  },
  {
   "cell_type": "code",
   "execution_count": 55,
   "metadata": {},
   "outputs": [],
   "source": [
    "clast1=for_clustrt[(for_clustrt['Тип района_x'].isin(['Пригород Тольятти','Тольятти'])) & (for_clustrt['Тип района_y'].isin(['Пригород Тольятти','Тольятти']))]"
   ]
  },
  {
   "cell_type": "code",
   "execution_count": 56,
   "metadata": {},
   "outputs": [],
   "source": [
    "clast1.to_csv('clast1.csv')"
   ]
  },
  {
   "cell_type": "code",
   "execution_count": 59,
   "metadata": {},
   "outputs": [],
   "source": [
    "clast2=for_clustrt[(for_clustrt['Тип района_x'].isin(['Пригород Самары','Самара'])) & (for_clustrt['Тип района_y'].isin(['Пригород Самары','Самара']))]\n",
    "clast2.to_csv('clast2.csv')     "
   ]
  },
  {
   "cell_type": "code",
   "execution_count": 60,
   "metadata": {},
   "outputs": [],
   "source": [
    "clast3=for_clustrt[~((for_clustrt['Тип района_x'].isin(['Пригород Самары','Самара'])) & (for_clustrt['Тип района_y'].isin(['Пригород Самары','Самара'])))]"
   ]
  },
  {
   "cell_type": "code",
   "execution_count": 61,
   "metadata": {},
   "outputs": [
    {
     "name": "stderr",
     "output_type": "stream",
     "text": [
      "C:\\Users\\mary_\\Anaconda3\\envs\\Masha\\lib\\site-packages\\ipykernel_launcher.py:1: UserWarning: Boolean Series key will be reindexed to match DataFrame index.\n",
      "  \"\"\"Entry point for launching an IPython kernel.\n"
     ]
    }
   ],
   "source": [
    "clast3=clast3[~((for_clustrt['Тип района_x'].isin(['Пригород Тольятти','Тольятти'])) & (for_clustrt['Тип района_y'].isin(['Пригород Тольятти','Тольятти'])))]"
   ]
  },
  {
   "cell_type": "code",
   "execution_count": 71,
   "metadata": {},
   "outputs": [],
   "source": [
    "clast5.to_csv('clast5.csv')   "
   ]
  },
  {
   "cell_type": "code",
   "execution_count": 67,
   "metadata": {},
   "outputs": [
    {
     "name": "stderr",
     "output_type": "stream",
     "text": [
      "C:\\Users\\mary_\\Anaconda3\\envs\\Masha\\lib\\site-packages\\ipykernel_launcher.py:1: UserWarning: Boolean Series key will be reindexed to match DataFrame index.\n",
      "  \"\"\"Entry point for launching an IPython kernel.\n"
     ]
    }
   ],
   "source": [
    "clast4=clast3[~((for_clustrt['Тип района_x'].isin(['Пригород Тольятти','Тольятти','Пригород Самары','Самара'])) & (for_clustrt['Тип района_y'].isin(['Пригород Самары','Самара','Пригород Тольятти','Тольятти'])))]"
   ]
  },
  {
   "cell_type": "code",
   "execution_count": 70,
   "metadata": {},
   "outputs": [
    {
     "name": "stderr",
     "output_type": "stream",
     "text": [
      "C:\\Users\\mary_\\Anaconda3\\envs\\Masha\\lib\\site-packages\\ipykernel_launcher.py:1: UserWarning: Boolean Series key will be reindexed to match DataFrame index.\n",
      "  \"\"\"Entry point for launching an IPython kernel.\n"
     ]
    }
   ],
   "source": [
    "clast5=clast3[((for_clustrt['Тип района_x'].isin(['Пригород Тольятти','Тольятти','Пригород Самары','Самара'])) & (for_clustrt['Тип района_y'].isin(['Пригород Самары','Самара','Пригород Тольятти','Тольятти'])))]"
   ]
  },
  {
   "cell_type": "code",
   "execution_count": 65,
   "metadata": {},
   "outputs": [
    {
     "data": {
      "text/plain": [
       "1008"
      ]
     },
     "execution_count": 65,
     "metadata": {},
     "output_type": "execute_result"
    }
   ],
   "source": [
    "len(for_clustrt)-len(clast1)-len(clast2)"
   ]
  },
  {
   "cell_type": "code",
   "execution_count": null,
   "metadata": {},
   "outputs": [],
   "source": [
    "hour_Tol=pd.DataFrame(Tol_Tol_sut.groupby(['ts']).agg({'count_ctn': np.sum})).reset_index()\n",
    "hour_Tol.to_csv('TOL.csv')\n",
    "Samara=l2[l2['Пригород_FROM']=='городской округ Самара']\n",
    "Samara_sut=Samara[Samara['time_key']=='2019-04-11']\n",
    "hour_SAM=pd.DataFrame(Samara_sut.groupby(['ts']).agg({'count_ctn': np.sum})).reset_index()\n",
    "hour_SAM.to_csv('Sam.csv')"
   ]
  },
  {
   "cell_type": "code",
   "execution_count": null,
   "metadata": {},
   "outputs": [],
   "source": []
  },
  {
   "cell_type": "markdown",
   "metadata": {},
   "source": [
    "Расчёт соседей по новым ID"
   ]
  },
  {
   "cell_type": "code",
   "execution_count": 5,
   "metadata": {},
   "outputs": [],
   "source": [
    "ID=pd.read_csv('ID_NEW.csv',sep = ';', encoding='windows-1251')"
   ]
  },
  {
   "cell_type": "code",
   "execution_count": 6,
   "metadata": {},
   "outputs": [
    {
     "data": {
      "text/html": [
       "<div>\n",
       "<style scoped>\n",
       "    .dataframe tbody tr th:only-of-type {\n",
       "        vertical-align: middle;\n",
       "    }\n",
       "\n",
       "    .dataframe tbody tr th {\n",
       "        vertical-align: top;\n",
       "    }\n",
       "\n",
       "    .dataframe thead th {\n",
       "        text-align: right;\n",
       "    }\n",
       "</style>\n",
       "<table border=\"1\" class=\"dataframe\">\n",
       "  <thead>\n",
       "    <tr style=\"text-align: right;\">\n",
       "      <th></th>\n",
       "      <th>zid_from</th>\n",
       "      <th>zid_to</th>\n",
       "      <th>ID</th>\n",
       "    </tr>\n",
       "  </thead>\n",
       "  <tbody>\n",
       "    <tr>\n",
       "      <th>0</th>\n",
       "      <td>1</td>\n",
       "      <td>1</td>\n",
       "      <td>1</td>\n",
       "    </tr>\n",
       "    <tr>\n",
       "      <th>1</th>\n",
       "      <td>2</td>\n",
       "      <td>2</td>\n",
       "      <td>2</td>\n",
       "    </tr>\n",
       "    <tr>\n",
       "      <th>2</th>\n",
       "      <td>3</td>\n",
       "      <td>3</td>\n",
       "      <td>3</td>\n",
       "    </tr>\n",
       "    <tr>\n",
       "      <th>3</th>\n",
       "      <td>4</td>\n",
       "      <td>4</td>\n",
       "      <td>4</td>\n",
       "    </tr>\n",
       "    <tr>\n",
       "      <th>4</th>\n",
       "      <td>5</td>\n",
       "      <td>5</td>\n",
       "      <td>5</td>\n",
       "    </tr>\n",
       "    <tr>\n",
       "      <th>...</th>\n",
       "      <td>...</td>\n",
       "      <td>...</td>\n",
       "      <td>...</td>\n",
       "    </tr>\n",
       "    <tr>\n",
       "      <th>258</th>\n",
       "      <td>553</td>\n",
       "      <td>553</td>\n",
       "      <td>553</td>\n",
       "    </tr>\n",
       "    <tr>\n",
       "      <th>259</th>\n",
       "      <td>554</td>\n",
       "      <td>554</td>\n",
       "      <td>554</td>\n",
       "    </tr>\n",
       "    <tr>\n",
       "      <th>260</th>\n",
       "      <td>555</td>\n",
       "      <td>555</td>\n",
       "      <td>555</td>\n",
       "    </tr>\n",
       "    <tr>\n",
       "      <th>261</th>\n",
       "      <td>556</td>\n",
       "      <td>556</td>\n",
       "      <td>556</td>\n",
       "    </tr>\n",
       "    <tr>\n",
       "      <th>262</th>\n",
       "      <td>484</td>\n",
       "      <td>484</td>\n",
       "      <td>72</td>\n",
       "    </tr>\n",
       "  </tbody>\n",
       "</table>\n",
       "<p>263 rows × 3 columns</p>\n",
       "</div>"
      ],
      "text/plain": [
       "     zid_from  zid_to   ID\n",
       "0           1       1    1\n",
       "1           2       2    2\n",
       "2           3       3    3\n",
       "3           4       4    4\n",
       "4           5       5    5\n",
       "..        ...     ...  ...\n",
       "258       553     553  553\n",
       "259       554     554  554\n",
       "260       555     555  555\n",
       "261       556     556  556\n",
       "262       484     484   72\n",
       "\n",
       "[263 rows x 3 columns]"
      ]
     },
     "execution_count": 6,
     "metadata": {},
     "output_type": "execute_result"
    }
   ],
   "source": [
    "ID"
   ]
  },
  {
   "cell_type": "code",
   "execution_count": 15,
   "metadata": {},
   "outputs": [],
   "source": [
    "a=a.merge(ID, on ='zid_from')"
   ]
  },
  {
   "cell_type": "code",
   "execution_count": 16,
   "metadata": {},
   "outputs": [],
   "source": [
    "a=a[['ID','geometry']]"
   ]
  },
  {
   "cell_type": "code",
   "execution_count": 17,
   "metadata": {},
   "outputs": [
    {
     "data": {
      "text/html": [
       "<div>\n",
       "<style scoped>\n",
       "    .dataframe tbody tr th:only-of-type {\n",
       "        vertical-align: middle;\n",
       "    }\n",
       "\n",
       "    .dataframe tbody tr th {\n",
       "        vertical-align: top;\n",
       "    }\n",
       "\n",
       "    .dataframe thead th {\n",
       "        text-align: right;\n",
       "    }\n",
       "</style>\n",
       "<table border=\"1\" class=\"dataframe\">\n",
       "  <thead>\n",
       "    <tr style=\"text-align: right;\">\n",
       "      <th></th>\n",
       "      <th>ID</th>\n",
       "      <th>geometry</th>\n",
       "    </tr>\n",
       "  </thead>\n",
       "  <tbody>\n",
       "    <tr>\n",
       "      <th>0</th>\n",
       "      <td>1</td>\n",
       "      <td>POLYGON ((49.74624 53.47745, 49.74695 53.48435...</td>\n",
       "    </tr>\n",
       "    <tr>\n",
       "      <th>1</th>\n",
       "      <td>2</td>\n",
       "      <td>POLYGON ((50.26787 53.17875, 50.24173 53.20126...</td>\n",
       "    </tr>\n",
       "    <tr>\n",
       "      <th>2</th>\n",
       "      <td>3</td>\n",
       "      <td>POLYGON ((50.34918 53.23681, 50.35777 53.22709...</td>\n",
       "    </tr>\n",
       "    <tr>\n",
       "      <th>3</th>\n",
       "      <td>4</td>\n",
       "      <td>POLYGON ((50.34862 53.32653, 50.33540 53.32700...</td>\n",
       "    </tr>\n",
       "    <tr>\n",
       "      <th>4</th>\n",
       "      <td>5</td>\n",
       "      <td>POLYGON ((49.22210 53.59736, 49.21382 53.55950...</td>\n",
       "    </tr>\n",
       "  </tbody>\n",
       "</table>\n",
       "</div>"
      ],
      "text/plain": [
       "   ID                                           geometry\n",
       "0   1  POLYGON ((49.74624 53.47745, 49.74695 53.48435...\n",
       "1   2  POLYGON ((50.26787 53.17875, 50.24173 53.20126...\n",
       "2   3  POLYGON ((50.34918 53.23681, 50.35777 53.22709...\n",
       "3   4  POLYGON ((50.34862 53.32653, 50.33540 53.32700...\n",
       "4   5  POLYGON ((49.22210 53.59736, 49.21382 53.55950..."
      ]
     },
     "execution_count": 17,
     "metadata": {},
     "output_type": "execute_result"
    }
   ],
   "source": [
    "a.head()"
   ]
  },
  {
   "cell_type": "code",
   "execution_count": 18,
   "metadata": {},
   "outputs": [
    {
     "data": {
      "text/plain": [
       "<Geographic 2D CRS: EPSG:4326>\n",
       "Name: WGS 84\n",
       "Axis Info [ellipsoidal]:\n",
       "- Lat[north]: Geodetic latitude (degree)\n",
       "- Lon[east]: Geodetic longitude (degree)\n",
       "Area of Use:\n",
       "- name: World\n",
       "- bounds: (-180.0, -90.0, 180.0, 90.0)\n",
       "Datum: World Geodetic System 1984\n",
       "- Ellipsoid: WGS 84\n",
       "- Prime Meridian: Greenwich"
      ]
     },
     "execution_count": 18,
     "metadata": {},
     "output_type": "execute_result"
    }
   ],
   "source": [
    "a.crs"
   ]
  },
  {
   "cell_type": "code",
   "execution_count": 19,
   "metadata": {},
   "outputs": [],
   "source": [
    "a.to_file('POLIGONES_NEW.shp', driver='ESRI Shapefile', encoding='utf-8')"
   ]
  },
  {
   "cell_type": "code",
   "execution_count": 20,
   "metadata": {},
   "outputs": [],
   "source": [
    "a_new = a.dissolve(by='ID')"
   ]
  },
  {
   "cell_type": "code",
   "execution_count": 22,
   "metadata": {},
   "outputs": [],
   "source": [
    "a_new.to_file('POLIGONES_NEW2.shp', driver='ESRI Shapefile', encoding='utf-8')"
   ]
  },
  {
   "cell_type": "code",
   "execution_count": 23,
   "metadata": {},
   "outputs": [],
   "source": [
    "a_new[\"NEIGHBORS\"] = None  # add NEIGHBORS column"
   ]
  },
  {
   "cell_type": "code",
   "execution_count": 30,
   "metadata": {},
   "outputs": [],
   "source": [
    "b = gpd.read_file('POLIGONES_NEW2.shp')"
   ]
  },
  {
   "cell_type": "code",
   "execution_count": 31,
   "metadata": {},
   "outputs": [
    {
     "data": {
      "text/html": [
       "<div>\n",
       "<style scoped>\n",
       "    .dataframe tbody tr th:only-of-type {\n",
       "        vertical-align: middle;\n",
       "    }\n",
       "\n",
       "    .dataframe tbody tr th {\n",
       "        vertical-align: top;\n",
       "    }\n",
       "\n",
       "    .dataframe thead th {\n",
       "        text-align: right;\n",
       "    }\n",
       "</style>\n",
       "<table border=\"1\" class=\"dataframe\">\n",
       "  <thead>\n",
       "    <tr style=\"text-align: right;\">\n",
       "      <th></th>\n",
       "      <th>ID</th>\n",
       "      <th>geometry</th>\n",
       "    </tr>\n",
       "  </thead>\n",
       "  <tbody>\n",
       "    <tr>\n",
       "      <th>0</th>\n",
       "      <td>1</td>\n",
       "      <td>POLYGON ((49.74624 53.47745, 49.74695 53.48435...</td>\n",
       "    </tr>\n",
       "    <tr>\n",
       "      <th>1</th>\n",
       "      <td>2</td>\n",
       "      <td>POLYGON ((50.26787 53.17875, 50.24173 53.20126...</td>\n",
       "    </tr>\n",
       "    <tr>\n",
       "      <th>2</th>\n",
       "      <td>3</td>\n",
       "      <td>POLYGON ((50.34918 53.23681, 50.35777 53.22709...</td>\n",
       "    </tr>\n",
       "    <tr>\n",
       "      <th>3</th>\n",
       "      <td>4</td>\n",
       "      <td>POLYGON ((50.34862 53.32653, 50.33540 53.32700...</td>\n",
       "    </tr>\n",
       "    <tr>\n",
       "      <th>4</th>\n",
       "      <td>5</td>\n",
       "      <td>POLYGON ((49.22210 53.59736, 49.21382 53.55950...</td>\n",
       "    </tr>\n",
       "  </tbody>\n",
       "</table>\n",
       "</div>"
      ],
      "text/plain": [
       "   ID                                           geometry\n",
       "0   1  POLYGON ((49.74624 53.47745, 49.74695 53.48435...\n",
       "1   2  POLYGON ((50.26787 53.17875, 50.24173 53.20126...\n",
       "2   3  POLYGON ((50.34918 53.23681, 50.35777 53.22709...\n",
       "3   4  POLYGON ((50.34862 53.32653, 50.33540 53.32700...\n",
       "4   5  POLYGON ((49.22210 53.59736, 49.21382 53.55950..."
      ]
     },
     "execution_count": 31,
     "metadata": {},
     "output_type": "execute_result"
    }
   ],
   "source": [
    "b.head()"
   ]
  },
  {
   "cell_type": "code",
   "execution_count": null,
   "metadata": {},
   "outputs": [],
   "source": []
  },
  {
   "cell_type": "code",
   "execution_count": null,
   "metadata": {},
   "outputs": [],
   "source": []
  },
  {
   "cell_type": "code",
   "execution_count": 28,
   "metadata": {},
   "outputs": [
    {
     "ename": "AttributeError",
     "evalue": "'GeoDataFrame' object has no attribute 'ID'",
     "output_type": "error",
     "traceback": [
      "\u001b[1;31m---------------------------------------------------------------------------\u001b[0m",
      "\u001b[1;31mAttributeError\u001b[0m                            Traceback (most recent call last)",
      "\u001b[1;32m<ipython-input-28-481b309431c5>\u001b[0m in \u001b[0;36m<module>\u001b[1;34m\u001b[0m\n\u001b[0;32m      1\u001b[0m \u001b[1;32mfor\u001b[0m \u001b[0mindex\u001b[0m\u001b[1;33m,\u001b[0m \u001b[0mrow\u001b[0m \u001b[1;32min\u001b[0m \u001b[0ma_new\u001b[0m\u001b[1;33m.\u001b[0m\u001b[0miterrows\u001b[0m\u001b[1;33m(\u001b[0m\u001b[1;33m)\u001b[0m\u001b[1;33m:\u001b[0m\u001b[1;33m\u001b[0m\u001b[1;33m\u001b[0m\u001b[0m\n\u001b[1;32m----> 2\u001b[1;33m     \u001b[0mneighbors\u001b[0m \u001b[1;33m=\u001b[0m \u001b[0ma_new\u001b[0m\u001b[1;33m[\u001b[0m\u001b[0ma_new\u001b[0m\u001b[1;33m.\u001b[0m\u001b[0mgeometry\u001b[0m\u001b[1;33m.\u001b[0m\u001b[0mtouches\u001b[0m\u001b[1;33m(\u001b[0m\u001b[0mrow\u001b[0m\u001b[1;33m[\u001b[0m\u001b[1;34m'geometry'\u001b[0m\u001b[1;33m]\u001b[0m\u001b[1;33m)\u001b[0m\u001b[1;33m]\u001b[0m\u001b[1;33m.\u001b[0m\u001b[0mID\u001b[0m\u001b[1;33m.\u001b[0m\u001b[0mtolist\u001b[0m\u001b[1;33m(\u001b[0m\u001b[1;33m)\u001b[0m\u001b[1;33m\u001b[0m\u001b[1;33m\u001b[0m\u001b[0m\n\u001b[0m\u001b[0;32m      3\u001b[0m     \u001b[0mneighbors\u001b[0m \u001b[1;33m=\u001b[0m \u001b[0mneighbors\u001b[0m\u001b[1;33m.\u001b[0m\u001b[0mremove\u001b[0m\u001b[1;33m(\u001b[0m\u001b[0mrow\u001b[0m\u001b[1;33m.\u001b[0m\u001b[0mname\u001b[0m\u001b[1;33m)\u001b[0m\u001b[1;33m\u001b[0m\u001b[1;33m\u001b[0m\u001b[0m\n\u001b[0;32m      4\u001b[0m     \u001b[0mdf\u001b[0m\u001b[1;33m.\u001b[0m\u001b[0mat\u001b[0m\u001b[1;33m[\u001b[0m\u001b[0mindex\u001b[0m\u001b[1;33m,\u001b[0m \u001b[1;34m\"my_neighbors\"\u001b[0m\u001b[1;33m]\u001b[0m \u001b[1;33m=\u001b[0m \u001b[1;34m\", \"\u001b[0m\u001b[1;33m.\u001b[0m\u001b[0mjoin\u001b[0m\u001b[1;33m(\u001b[0m\u001b[0mneighbors\u001b[0m\u001b[1;33m)\u001b[0m\u001b[1;33m\u001b[0m\u001b[1;33m\u001b[0m\u001b[0m\n",
      "\u001b[1;32m~\\anaconda3\\lib\\site-packages\\pandas\\core\\generic.py\u001b[0m in \u001b[0;36m__getattr__\u001b[1;34m(self, name)\u001b[0m\n\u001b[0;32m   5272\u001b[0m             \u001b[1;32mif\u001b[0m \u001b[0mself\u001b[0m\u001b[1;33m.\u001b[0m\u001b[0m_info_axis\u001b[0m\u001b[1;33m.\u001b[0m\u001b[0m_can_hold_identifiers_and_holds_name\u001b[0m\u001b[1;33m(\u001b[0m\u001b[0mname\u001b[0m\u001b[1;33m)\u001b[0m\u001b[1;33m:\u001b[0m\u001b[1;33m\u001b[0m\u001b[1;33m\u001b[0m\u001b[0m\n\u001b[0;32m   5273\u001b[0m                 \u001b[1;32mreturn\u001b[0m \u001b[0mself\u001b[0m\u001b[1;33m[\u001b[0m\u001b[0mname\u001b[0m\u001b[1;33m]\u001b[0m\u001b[1;33m\u001b[0m\u001b[1;33m\u001b[0m\u001b[0m\n\u001b[1;32m-> 5274\u001b[1;33m             \u001b[1;32mreturn\u001b[0m \u001b[0mobject\u001b[0m\u001b[1;33m.\u001b[0m\u001b[0m__getattribute__\u001b[0m\u001b[1;33m(\u001b[0m\u001b[0mself\u001b[0m\u001b[1;33m,\u001b[0m \u001b[0mname\u001b[0m\u001b[1;33m)\u001b[0m\u001b[1;33m\u001b[0m\u001b[1;33m\u001b[0m\u001b[0m\n\u001b[0m\u001b[0;32m   5275\u001b[0m \u001b[1;33m\u001b[0m\u001b[0m\n\u001b[0;32m   5276\u001b[0m     \u001b[1;32mdef\u001b[0m \u001b[0m__setattr__\u001b[0m\u001b[1;33m(\u001b[0m\u001b[0mself\u001b[0m\u001b[1;33m,\u001b[0m \u001b[0mname\u001b[0m\u001b[1;33m:\u001b[0m \u001b[0mstr\u001b[0m\u001b[1;33m,\u001b[0m \u001b[0mvalue\u001b[0m\u001b[1;33m)\u001b[0m \u001b[1;33m->\u001b[0m \u001b[1;32mNone\u001b[0m\u001b[1;33m:\u001b[0m\u001b[1;33m\u001b[0m\u001b[1;33m\u001b[0m\u001b[0m\n",
      "\u001b[1;31mAttributeError\u001b[0m: 'GeoDataFrame' object has no attribute 'ID'"
     ]
    }
   ],
   "source": [
    "for index, row in a_new.iterrows():  \n",
    "    neighbors = a_new[a_new.geometry.touches(row['geometry'])].ID.tolist() \n",
    "    neighbors = neighbors.remove(row.name)\n",
    "    df.at[index, \"my_neighbors\"] = \", \".join(neighbors)"
   ]
  },
  {
   "cell_type": "code",
   "execution_count": null,
   "metadata": {},
   "outputs": [],
   "source": []
  },
  {
   "cell_type": "code",
   "execution_count": null,
   "metadata": {},
   "outputs": [],
   "source": []
  },
  {
   "cell_type": "code",
   "execution_count": null,
   "metadata": {},
   "outputs": [],
   "source": []
  },
  {
   "cell_type": "code",
   "execution_count": null,
   "metadata": {},
   "outputs": [],
   "source": []
  },
  {
   "cell_type": "code",
   "execution_count": null,
   "metadata": {},
   "outputs": [],
   "source": []
  },
  {
   "cell_type": "code",
   "execution_count": null,
   "metadata": {},
   "outputs": [],
   "source": []
  }
 ],
 "metadata": {
  "kernelspec": {
   "display_name": "Python 3",
   "language": "python",
   "name": "python3"
  },
  "language_info": {
   "codemirror_mode": {
    "name": "ipython",
    "version": 3
   },
   "file_extension": ".py",
   "mimetype": "text/x-python",
   "name": "python",
   "nbconvert_exporter": "python",
   "pygments_lexer": "ipython3",
   "version": "3.8.3"
  }
 },
 "nbformat": 4,
 "nbformat_minor": 2
}
