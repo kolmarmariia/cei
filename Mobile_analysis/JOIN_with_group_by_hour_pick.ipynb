{
 "cells": [
  {
   "cell_type": "code",
   "execution_count": 1,
   "metadata": {},
   "outputs": [],
   "source": [
    "import geopandas as gpd\n",
    "import pandas as pd\n",
    "import numpy as np\n",
    "import json  as js\n",
    "from geopandas import GeoDataFrame\n",
    "from shapely.geometry import Point\n",
    "import csv"
   ]
  },
  {
   "cell_type": "code",
   "execution_count": 2,
   "metadata": {},
   "outputs": [],
   "source": [
    "b = pd.read_csv('report_f_all.csv', sep = ';', encoding='utf8')"
   ]
  },
  {
   "cell_type": "code",
   "execution_count": 3,
   "metadata": {},
   "outputs": [],
   "source": [
    "a = gpd.read_file('557_zone.SHP')"
   ]
  },
  {
   "cell_type": "code",
   "execution_count": 4,
   "metadata": {},
   "outputs": [],
   "source": [
    "a['zid_from']=a['NO']"
   ]
  },
  {
   "cell_type": "code",
   "execution_count": 5,
   "metadata": {},
   "outputs": [],
   "source": [
    "a['zid_to']=a['NO']"
   ]
  },
  {
   "cell_type": "code",
   "execution_count": 6,
   "metadata": {},
   "outputs": [
    {
     "data": {
      "text/html": [
       "<div>\n",
       "<style scoped>\n",
       "    .dataframe tbody tr th:only-of-type {\n",
       "        vertical-align: middle;\n",
       "    }\n",
       "\n",
       "    .dataframe tbody tr th {\n",
       "        vertical-align: top;\n",
       "    }\n",
       "\n",
       "    .dataframe thead th {\n",
       "        text-align: right;\n",
       "    }\n",
       "</style>\n",
       "<table border=\"1\" class=\"dataframe\">\n",
       "  <thead>\n",
       "    <tr style=\"text-align: right;\">\n",
       "      <th></th>\n",
       "      <th>time_key</th>\n",
       "      <th>ts</th>\n",
       "      <th>zid_from</th>\n",
       "      <th>zid_to</th>\n",
       "      <th>15_min_ind</th>\n",
       "      <th>30_min_ind</th>\n",
       "      <th>buffer_out_ind</th>\n",
       "      <th>3_cells_ind</th>\n",
       "      <th>count_ctn</th>\n",
       "    </tr>\n",
       "  </thead>\n",
       "  <tbody>\n",
       "    <tr>\n",
       "      <th>0</th>\n",
       "      <td>2019-02-07</td>\n",
       "      <td>2019-02-07 03:00:00</td>\n",
       "      <td>1</td>\n",
       "      <td>6</td>\n",
       "      <td>1</td>\n",
       "      <td>1</td>\n",
       "      <td>1</td>\n",
       "      <td>0</td>\n",
       "      <td>2</td>\n",
       "    </tr>\n",
       "    <tr>\n",
       "      <th>1</th>\n",
       "      <td>2019-02-07</td>\n",
       "      <td>2019-02-07 03:00:00</td>\n",
       "      <td>1</td>\n",
       "      <td>22</td>\n",
       "      <td>1</td>\n",
       "      <td>1</td>\n",
       "      <td>1</td>\n",
       "      <td>0</td>\n",
       "      <td>1</td>\n",
       "    </tr>\n",
       "    <tr>\n",
       "      <th>2</th>\n",
       "      <td>2019-02-07</td>\n",
       "      <td>2019-02-07 03:00:00</td>\n",
       "      <td>1</td>\n",
       "      <td>37</td>\n",
       "      <td>1</td>\n",
       "      <td>1</td>\n",
       "      <td>1</td>\n",
       "      <td>0</td>\n",
       "      <td>1</td>\n",
       "    </tr>\n",
       "    <tr>\n",
       "      <th>3</th>\n",
       "      <td>2019-02-07</td>\n",
       "      <td>2019-02-07 03:00:00</td>\n",
       "      <td>1</td>\n",
       "      <td>49</td>\n",
       "      <td>1</td>\n",
       "      <td>1</td>\n",
       "      <td>1</td>\n",
       "      <td>0</td>\n",
       "      <td>1</td>\n",
       "    </tr>\n",
       "    <tr>\n",
       "      <th>4</th>\n",
       "      <td>2019-02-07</td>\n",
       "      <td>2019-02-07 03:00:00</td>\n",
       "      <td>1</td>\n",
       "      <td>71</td>\n",
       "      <td>1</td>\n",
       "      <td>0</td>\n",
       "      <td>1</td>\n",
       "      <td>0</td>\n",
       "      <td>1</td>\n",
       "    </tr>\n",
       "  </tbody>\n",
       "</table>\n",
       "</div>"
      ],
      "text/plain": [
       "     time_key                   ts  zid_from  zid_to  15_min_ind  30_min_ind  \\\n",
       "0  2019-02-07  2019-02-07 03:00:00         1       6           1           1   \n",
       "1  2019-02-07  2019-02-07 03:00:00         1      22           1           1   \n",
       "2  2019-02-07  2019-02-07 03:00:00         1      37           1           1   \n",
       "3  2019-02-07  2019-02-07 03:00:00         1      49           1           1   \n",
       "4  2019-02-07  2019-02-07 03:00:00         1      71           1           0   \n",
       "\n",
       "   buffer_out_ind  3_cells_ind  count_ctn  \n",
       "0               1            0          2  \n",
       "1               1            0          1  \n",
       "2               1            0          1  \n",
       "3               1            0          1  \n",
       "4               1            0          1  "
      ]
     },
     "execution_count": 6,
     "metadata": {},
     "output_type": "execute_result"
    }
   ],
   "source": [
    "b.head()"
   ]
  },
  {
   "cell_type": "code",
   "execution_count": 7,
   "metadata": {},
   "outputs": [],
   "source": [
    "b=b[b['buffer_out_ind']==1]\n",
    "b=b[b['30_min_ind']==1]"
   ]
  },
  {
   "cell_type": "code",
   "execution_count": 8,
   "metadata": {},
   "outputs": [],
   "source": [
    "b=b[['time_key','ts','zid_from','zid_to','count_ctn']]"
   ]
  },
  {
   "cell_type": "code",
   "execution_count": 9,
   "metadata": {},
   "outputs": [
    {
     "data": {
      "text/html": [
       "<div>\n",
       "<style scoped>\n",
       "    .dataframe tbody tr th:only-of-type {\n",
       "        vertical-align: middle;\n",
       "    }\n",
       "\n",
       "    .dataframe tbody tr th {\n",
       "        vertical-align: top;\n",
       "    }\n",
       "\n",
       "    .dataframe thead th {\n",
       "        text-align: right;\n",
       "    }\n",
       "</style>\n",
       "<table border=\"1\" class=\"dataframe\">\n",
       "  <thead>\n",
       "    <tr style=\"text-align: right;\">\n",
       "      <th></th>\n",
       "      <th>NO</th>\n",
       "      <th>geometry</th>\n",
       "      <th>zid_from</th>\n",
       "      <th>zid_to</th>\n",
       "    </tr>\n",
       "  </thead>\n",
       "  <tbody>\n",
       "    <tr>\n",
       "      <th>0</th>\n",
       "      <td>1</td>\n",
       "      <td>POLYGON ((49.74624 53.47745, 49.74695 53.48435...</td>\n",
       "      <td>1</td>\n",
       "      <td>1</td>\n",
       "    </tr>\n",
       "    <tr>\n",
       "      <th>1</th>\n",
       "      <td>2</td>\n",
       "      <td>POLYGON ((50.26787 53.17875, 50.24173 53.20126...</td>\n",
       "      <td>2</td>\n",
       "      <td>2</td>\n",
       "    </tr>\n",
       "    <tr>\n",
       "      <th>2</th>\n",
       "      <td>3</td>\n",
       "      <td>POLYGON ((50.34918 53.23681, 50.35777 53.22709...</td>\n",
       "      <td>3</td>\n",
       "      <td>3</td>\n",
       "    </tr>\n",
       "    <tr>\n",
       "      <th>3</th>\n",
       "      <td>4</td>\n",
       "      <td>POLYGON ((50.34862 53.32653, 50.33540 53.32700...</td>\n",
       "      <td>4</td>\n",
       "      <td>4</td>\n",
       "    </tr>\n",
       "    <tr>\n",
       "      <th>4</th>\n",
       "      <td>5</td>\n",
       "      <td>POLYGON ((49.22210 53.59736, 49.21382 53.55950...</td>\n",
       "      <td>5</td>\n",
       "      <td>5</td>\n",
       "    </tr>\n",
       "  </tbody>\n",
       "</table>\n",
       "</div>"
      ],
      "text/plain": [
       "   NO                                           geometry  zid_from  zid_to\n",
       "0   1  POLYGON ((49.74624 53.47745, 49.74695 53.48435...         1       1\n",
       "1   2  POLYGON ((50.26787 53.17875, 50.24173 53.20126...         2       2\n",
       "2   3  POLYGON ((50.34918 53.23681, 50.35777 53.22709...         3       3\n",
       "3   4  POLYGON ((50.34862 53.32653, 50.33540 53.32700...         4       4\n",
       "4   5  POLYGON ((49.22210 53.59736, 49.21382 53.55950...         5       5"
      ]
     },
     "execution_count": 9,
     "metadata": {},
     "output_type": "execute_result"
    }
   ],
   "source": [
    "a.head()"
   ]
  },
  {
   "cell_type": "code",
   "execution_count": 10,
   "metadata": {
    "scrolled": false
   },
   "outputs": [
    {
     "data": {
      "text/plain": [
       "<Geographic 2D CRS: EPSG:4326>\n",
       "Name: WGS 84\n",
       "Axis Info [ellipsoidal]:\n",
       "- Lat[north]: Geodetic latitude (degree)\n",
       "- Lon[east]: Geodetic longitude (degree)\n",
       "Area of Use:\n",
       "- name: World\n",
       "- bounds: (-180.0, -90.0, 180.0, 90.0)\n",
       "Datum: World Geodetic System 1984\n",
       "- Ellipsoid: WGS 84\n",
       "- Prime Meridian: Greenwich"
      ]
     },
     "execution_count": 10,
     "metadata": {},
     "output_type": "execute_result"
    }
   ],
   "source": [
    "a.crs"
   ]
  },
  {
   "cell_type": "code",
   "execution_count": 11,
   "metadata": {},
   "outputs": [
    {
     "data": {
      "text/plain": [
       "8021065"
      ]
     },
     "execution_count": 11,
     "metadata": {},
     "output_type": "execute_result"
    }
   ],
   "source": [
    "len(b)"
   ]
  },
  {
   "cell_type": "code",
   "execution_count": 12,
   "metadata": {},
   "outputs": [
    {
     "data": {
      "text/html": [
       "<div>\n",
       "<style scoped>\n",
       "    .dataframe tbody tr th:only-of-type {\n",
       "        vertical-align: middle;\n",
       "    }\n",
       "\n",
       "    .dataframe tbody tr th {\n",
       "        vertical-align: top;\n",
       "    }\n",
       "\n",
       "    .dataframe thead th {\n",
       "        text-align: right;\n",
       "    }\n",
       "</style>\n",
       "<table border=\"1\" class=\"dataframe\">\n",
       "  <thead>\n",
       "    <tr style=\"text-align: right;\">\n",
       "      <th></th>\n",
       "      <th>time_key</th>\n",
       "      <th>ts</th>\n",
       "      <th>zid_from</th>\n",
       "      <th>zid_to</th>\n",
       "      <th>count_ctn</th>\n",
       "    </tr>\n",
       "  </thead>\n",
       "  <tbody>\n",
       "    <tr>\n",
       "      <th>0</th>\n",
       "      <td>2019-02-07</td>\n",
       "      <td>2019-02-07 03:00:00</td>\n",
       "      <td>1</td>\n",
       "      <td>6</td>\n",
       "      <td>2</td>\n",
       "    </tr>\n",
       "    <tr>\n",
       "      <th>1</th>\n",
       "      <td>2019-02-07</td>\n",
       "      <td>2019-02-07 03:00:00</td>\n",
       "      <td>1</td>\n",
       "      <td>22</td>\n",
       "      <td>1</td>\n",
       "    </tr>\n",
       "    <tr>\n",
       "      <th>2</th>\n",
       "      <td>2019-02-07</td>\n",
       "      <td>2019-02-07 03:00:00</td>\n",
       "      <td>1</td>\n",
       "      <td>37</td>\n",
       "      <td>1</td>\n",
       "    </tr>\n",
       "    <tr>\n",
       "      <th>3</th>\n",
       "      <td>2019-02-07</td>\n",
       "      <td>2019-02-07 03:00:00</td>\n",
       "      <td>1</td>\n",
       "      <td>49</td>\n",
       "      <td>1</td>\n",
       "    </tr>\n",
       "    <tr>\n",
       "      <th>5</th>\n",
       "      <td>2019-02-07</td>\n",
       "      <td>2019-02-07 03:00:00</td>\n",
       "      <td>1</td>\n",
       "      <td>71</td>\n",
       "      <td>1</td>\n",
       "    </tr>\n",
       "  </tbody>\n",
       "</table>\n",
       "</div>"
      ],
      "text/plain": [
       "     time_key                   ts  zid_from  zid_to  count_ctn\n",
       "0  2019-02-07  2019-02-07 03:00:00         1       6          2\n",
       "1  2019-02-07  2019-02-07 03:00:00         1      22          1\n",
       "2  2019-02-07  2019-02-07 03:00:00         1      37          1\n",
       "3  2019-02-07  2019-02-07 03:00:00         1      49          1\n",
       "5  2019-02-07  2019-02-07 03:00:00         1      71          1"
      ]
     },
     "execution_count": 12,
     "metadata": {},
     "output_type": "execute_result"
    }
   ],
   "source": [
    "b.head()"
   ]
  },
  {
   "cell_type": "code",
   "execution_count": 13,
   "metadata": {},
   "outputs": [],
   "source": [
    "#zid_from=b.drop(['zid_to'], axis=1)"
   ]
  },
  {
   "cell_type": "code",
   "execution_count": 70,
   "metadata": {},
   "outputs": [],
   "source": [
    "#zid_from=b.drop(['zid_from'], axis=1)"
   ]
  },
  {
   "cell_type": "code",
   "execution_count": 13,
   "metadata": {},
   "outputs": [
    {
     "ename": "NameError",
     "evalue": "name 'zid_from' is not defined",
     "output_type": "error",
     "traceback": [
      "\u001b[1;31m---------------------------------------------------------------------------\u001b[0m",
      "\u001b[1;31mNameError\u001b[0m                                 Traceback (most recent call last)",
      "\u001b[1;32m<ipython-input-13-5576257ffaba>\u001b[0m in \u001b[0;36m<module>\u001b[1;34m\u001b[0m\n\u001b[1;32m----> 1\u001b[1;33m \u001b[0mzid_from_morn\u001b[0m\u001b[1;33m=\u001b[0m\u001b[0mzid_from\u001b[0m\u001b[1;33m[\u001b[0m\u001b[0mzid_from\u001b[0m\u001b[1;33m[\u001b[0m\u001b[1;34m'ts'\u001b[0m\u001b[1;33m]\u001b[0m\u001b[1;33m.\u001b[0m\u001b[0mstr\u001b[0m\u001b[1;33m.\u001b[0m\u001b[0mcontains\u001b[0m\u001b[1;33m(\u001b[0m\u001b[1;34m' 08:'\u001b[0m\u001b[1;33m)\u001b[0m\u001b[1;33m]\u001b[0m\u001b[1;33m\u001b[0m\u001b[1;33m\u001b[0m\u001b[0m\n\u001b[0m\u001b[0;32m      2\u001b[0m \u001b[1;31m#.append(zid_from[zid_from['ts'].str.contains(' 19:')])\u001b[0m\u001b[1;33m\u001b[0m\u001b[1;33m\u001b[0m\u001b[1;33m\u001b[0m\u001b[0m\n\u001b[0;32m      3\u001b[0m \u001b[1;31m#zid_from_morn=zid_from[zid_from['ts'].str.contains(' 07:', ' 08:')]\u001b[0m\u001b[1;33m\u001b[0m\u001b[1;33m\u001b[0m\u001b[1;33m\u001b[0m\u001b[0m\n\u001b[0;32m      4\u001b[0m \u001b[1;31m#\u001b[0m\u001b[1;33m\u001b[0m\u001b[1;33m\u001b[0m\u001b[1;33m\u001b[0m\u001b[0m\n",
      "\u001b[1;31mNameError\u001b[0m: name 'zid_from' is not defined"
     ]
    }
   ],
   "source": [
    "zid_from_morn=zid_from[zid_from['ts'].str.contains(' 08:')]\n",
    "#.append(zid_from[zid_from['ts'].str.contains(' 19:')])\n",
    "#zid_from_morn=zid_from[zid_from['ts'].str.contains(' 07:', ' 08:')]\n",
    "#"
   ]
  },
  {
   "cell_type": "code",
   "execution_count": 72,
   "metadata": {},
   "outputs": [
    {
     "data": {
      "text/plain": [
       "array(['2019-02-07 15:00:00', '2019-02-07 15:30:00',\n",
       "       '2019-02-08 15:00:00', '2019-02-08 15:30:00',\n",
       "       '2019-02-09 15:00:00', '2019-02-09 15:30:00',\n",
       "       '2019-04-11 15:00:00', '2019-04-11 15:30:00',\n",
       "       '2019-04-12 15:00:00', '2019-04-12 15:30:00',\n",
       "       '2019-04-13 15:00:00', '2019-04-13 15:30:00',\n",
       "       '2019-07-11 15:00:00', '2019-07-11 15:30:00',\n",
       "       '2019-07-12 15:00:00', '2019-07-12 15:30:00',\n",
       "       '2019-07-13 15:00:00', '2019-07-13 15:30:00',\n",
       "       '2019-10-17 15:00:00', '2019-10-17 15:30:00',\n",
       "       '2019-10-18 15:00:00', '2019-10-18 15:30:00',\n",
       "       '2019-10-19 15:00:00', '2019-10-19 15:30:00',\n",
       "       '2019-02-07 17:00:00', '2019-02-07 17:30:00',\n",
       "       '2019-02-08 17:00:00', '2019-02-08 17:30:00',\n",
       "       '2019-02-09 17:00:00', '2019-02-09 17:30:00',\n",
       "       '2019-04-11 17:00:00', '2019-04-11 17:30:00',\n",
       "       '2019-04-12 17:00:00', '2019-04-12 17:30:00',\n",
       "       '2019-04-13 17:00:00', '2019-04-13 17:30:00',\n",
       "       '2019-07-11 17:00:00', '2019-07-11 17:30:00',\n",
       "       '2019-07-12 17:00:00', '2019-07-12 17:30:00',\n",
       "       '2019-07-13 17:00:00', '2019-07-13 17:30:00',\n",
       "       '2019-10-17 17:00:00', '2019-10-17 17:30:00',\n",
       "       '2019-10-18 17:00:00', '2019-10-18 17:30:00',\n",
       "       '2019-10-19 17:00:00', '2019-10-19 17:30:00'], dtype=object)"
      ]
     },
     "execution_count": 72,
     "metadata": {},
     "output_type": "execute_result"
    }
   ],
   "source": [
    "zid_from_morn['ts'].unique()"
   ]
  },
  {
   "cell_type": "code",
   "execution_count": 84,
   "metadata": {},
   "outputs": [],
   "source": [
    "zid_from_morn2=zid_from_morn.drop(['ts'], axis=1)"
   ]
  },
  {
   "cell_type": "code",
   "execution_count": 47,
   "metadata": {},
   "outputs": [],
   "source": [
    "zid_from_m=pd.DataFrame(zid_from_morn2.groupby(['time_key','zid_from']).agg({'count_ctn': np.sum})).reset_index()"
   ]
  },
  {
   "cell_type": "code",
   "execution_count": 85,
   "metadata": {},
   "outputs": [],
   "source": [
    "zid_from_m=pd.DataFrame(zid_from_morn2.groupby(['time_key','zid_to']).agg({'count_ctn': np.sum})).reset_index()"
   ]
  },
  {
   "cell_type": "code",
   "execution_count": 86,
   "metadata": {},
   "outputs": [],
   "source": [
    "zid_from_1=zid_from_m[zid_from_m['time_key'] == '2019-02-07']\n",
    "zid_from_2=zid_from_m[zid_from_m['time_key'] == '2019-02-08']\n",
    "zid_from_3=zid_from_m[zid_from_m['time_key'] == '2019-02-09']\n",
    "zid_from_4=zid_from_m[zid_from_m['time_key'] == '2019-04-11']\n",
    "zid_from_5=zid_from_m[zid_from_m['time_key'] == '2019-04-12']\n",
    "zid_from_6=zid_from_m[zid_from_m['time_key'] == '2019-04-13']\n",
    "zid_from_7=zid_from_m[zid_from_m['time_key'] == '2019-07-11']\n",
    "zid_from_8=zid_from_m[zid_from_m['time_key'] == '2019-07-12']\n",
    "zid_from_9=zid_from_m[zid_from_m['time_key'] == '2019-07-13']\n",
    "zid_from_10=zid_from_m[zid_from_m['time_key'] == '2019-10-17']\n",
    "zid_from_11=zid_from_m[zid_from_m['time_key'] == '2019-10-18']\n",
    "zid_from_12=zid_from_m[zid_from_m['time_key'] == '2019-10-19']"
   ]
  },
  {
   "cell_type": "code",
   "execution_count": 90,
   "metadata": {},
   "outputs": [],
   "source": [
    "def merge_by_zid_from():\n",
    "    t1=zid_from_1.merge(a, on='zid_from').drop(['zid_to'], axis=1).drop(['NO'], axis=1)\n",
    "    t2=zid_from_2.merge(a, on='zid_from').drop(['zid_to'], axis=1).drop(['NO'], axis=1)\n",
    "    t3=zid_from_3.merge(a, on='zid_from').drop(['zid_to'], axis=1).drop(['NO'], axis=1)\n",
    "    t4=zid_from_4.merge(a, on='zid_from').drop(['zid_to'], axis=1).drop(['NO'], axis=1)\n",
    "    t5=zid_from_5.merge(a, on='zid_from').drop(['zid_to'], axis=1).drop(['NO'], axis=1)\n",
    "    t6=zid_from_6.merge(a, on='zid_from').drop(['zid_to'], axis=1).drop(['NO'], axis=1)\n",
    "    t7=zid_from_7.merge(a, on='zid_from').drop(['zid_to'], axis=1).drop(['NO'], axis=1)\n",
    "    t8=zid_from_8.merge(a, on='zid_from').drop(['zid_to'], axis=1).drop(['NO'], axis=1)\n",
    "    t9=zid_from_9.merge(a, on='zid_from').drop(['zid_to'], axis=1).drop(['NO'], axis=1)\n",
    "    t10=zid_from_10.merge(a, on='zid_from').drop(['zid_to'], axis=1).drop(['NO'], axis=1)\n",
    "    t11=zid_from_11.merge(a, on='zid_from').drop(['zid_to'], axis=1).drop(['NO'], axis=1)\n",
    "    t12=zid_from_12.merge(a, on='zid_from').drop(['zid_to'], axis=1).drop(['NO'], axis=1)"
   ]
  },
  {
   "cell_type": "code",
   "execution_count": 89,
   "metadata": {},
   "outputs": [],
   "source": [
    "def merge_by_zid_to():\n",
    "    t1=zid_from_1.merge(a, on='zid_to').drop(['zid_from'], axis=1).drop(['NO'], axis=1)\n",
    "    t2=zid_from_2.merge(a, on='zid_to').drop(['zid_from'], axis=1).drop(['NO'], axis=1)\n",
    "    t3=zid_from_3.merge(a, on='zid_to').drop(['zid_from'], axis=1).drop(['NO'], axis=1)\n",
    "    t4=zid_from_4.merge(a, on='zid_to').drop(['zid_from'], axis=1).drop(['NO'], axis=1)\n",
    "    t5=zid_from_5.merge(a, on='zid_to').drop(['zid_from'], axis=1).drop(['NO'], axis=1)\n",
    "    t6=zid_from_6.merge(a, on='zid_to').drop(['zid_from'], axis=1).drop(['NO'], axis=1)\n",
    "    t7=zid_from_7.merge(a, on='zid_to').drop(['zid_from'], axis=1).drop(['NO'], axis=1)\n",
    "    t8=zid_from_8.merge(a, on='zid_to').drop(['zid_from'], axis=1).drop(['NO'], axis=1)\n",
    "    t9=zid_from_9.merge(a, on='zid_to').drop(['zid_from'], axis=1).drop(['NO'], axis=1)\n",
    "    t10=zid_from_10.merge(a, on='zid_to').drop(['zid_from'], axis=1).drop(['NO'], axis=1)\n",
    "    t11=zid_from_11.merge(a, on='zid_to').drop(['zid_from'], axis=1).drop(['NO'], axis=1)\n",
    "    t12=zid_from_12.merge(a, on='zid_to').drop(['zid_from'], axis=1).drop(['NO'], axis=1)"
   ]
  },
  {
   "cell_type": "code",
   "execution_count": 44,
   "metadata": {},
   "outputs": [],
   "source": [
    "def save_morn_pick():\n",
    "    total1 = gpd.GeoDataFrame(t1, geometry='geometry')\n",
    "    total1.crs='epsg:4326'\n",
    "    total1.to_file('2019-02-07_morn_pick.shp', driver='ESRI Shapefile')\n",
    "    total2 = gpd.GeoDataFrame(t2, geometry='geometry')\n",
    "    total2.crs='epsg:4326'\n",
    "    total2.to_file('2019-02-08_morn_pick.shp', driver='ESRI Shapefile')\n",
    "    total3 = gpd.GeoDataFrame(t3, geometry='geometry')\n",
    "    total3.crs='epsg:4326'\n",
    "    total3.to_file('2019-02-09_morn_pick.shp', driver='ESRI Shapefile')\n",
    "    total4 = gpd.GeoDataFrame(t4, geometry='geometry')\n",
    "    total4.crs='epsg:4326'\n",
    "    total4.to_file('2019-04-11_morn_pick.shp', driver='ESRI Shapefile')\n",
    "    total5 = gpd.GeoDataFrame(t5, geometry='geometry')\n",
    "    total5.crs='epsg:4326'\n",
    "    total5.to_file('2019-04-12_morn_pick.shp', driver='ESRI Shapefile')\n",
    "    total6 = gpd.GeoDataFrame(t6, geometry='geometry')\n",
    "    total6.crs='epsg:4326'\n",
    "    total6.to_file('2019-04-13_morn_pick.shp', driver='ESRI Shapefile')\n",
    "    total7 = gpd.GeoDataFrame(t7, geometry='geometry')\n",
    "    total7.crs='epsg:4326'\n",
    "    total7.to_file('2019-07-11_morn_pick.shp', driver='ESRI Shapefile')\n",
    "    total8 = gpd.GeoDataFrame(t8, geometry='geometry')\n",
    "    total8.crs='epsg:4326'\n",
    "    total8.to_file('2019-07-12_morn_pick.shp', driver='ESRI Shapefile')\n",
    "    total9 = gpd.GeoDataFrame(t9, geometry='geometry')\n",
    "    total9.crs='epsg:4326'\n",
    "    total9.to_file('2019-07-13_morn_pick.shp', driver='ESRI Shapefile')\n",
    "    total10 = gpd.GeoDataFrame(t10, geometry='geometry')\n",
    "    total10.crs='epsg:4326'\n",
    "    total10.to_file('2019-10-17_morn_pick.shp', driver='ESRI Shapefile')\n",
    "    total11 = gpd.GeoDataFrame(t11, geometry='geometry')\n",
    "    total11.crs='epsg:4326'\n",
    "    total11.to_file('2019-10-18_morn_pick.shp', driver='ESRI Shapefile')\n",
    "    total12 = gpd.GeoDataFrame(t12, geometry='geometry')\n",
    "    total12.crs='epsg:4326'\n",
    "    total12.to_file('2019-10-19_morn_pick.shp', driver='ESRI Shapefile')"
   ]
  },
  {
   "cell_type": "code",
   "execution_count": 50,
   "metadata": {},
   "outputs": [],
   "source": [
    "def save_evn_pick():\n",
    "    total1 = gpd.GeoDataFrame(t1, geometry='geometry')\n",
    "total1.crs='epsg:4326'\n",
    "total1.to_file('2019-02-07_evn_pick.shp', driver='ESRI Shapefile')\n",
    "total2 = gpd.GeoDataFrame(t2, geometry='geometry')\n",
    "total2.crs='epsg:4326'\n",
    "total2.to_file('2019-02-08_evn_pick.shp', driver='ESRI Shapefile')\n",
    "total3 = gpd.GeoDataFrame(t3, geometry='geometry')\n",
    "total3.crs='epsg:4326'\n",
    "total3.to_file('2019-02-09_evn_pick.shp', driver='ESRI Shapefile')\n",
    "total4 = gpd.GeoDataFrame(t4, geometry='geometry')\n",
    "total4.crs='epsg:4326'\n",
    "total4.to_file('2019-04-11_evn_pick.shp', driver='ESRI Shapefile')\n",
    "total5 = gpd.GeoDataFrame(t5, geometry='geometry')\n",
    "total5.crs='epsg:4326'\n",
    "total5.to_file('2019-04-12_evn_pick.shp', driver='ESRI Shapefile')\n",
    "total6 = gpd.GeoDataFrame(t6, geometry='geometry')\n",
    "total6.crs='epsg:4326'\n",
    "total6.to_file('2019-04-13_evn_pick.shp', driver='ESRI Shapefile')\n",
    "total7 = gpd.GeoDataFrame(t7, geometry='geometry')\n",
    "total7.crs='epsg:4326'\n",
    "total7.to_file('2019-07-11_evn_pick.shp', driver='ESRI Shapefile')\n",
    "total8 = gpd.GeoDataFrame(t8, geometry='geometry')\n",
    "total8.crs='epsg:4326'\n",
    "total8.to_file('2019-07-12_evn_pick.shp', driver='ESRI Shapefile')\n",
    "total9 = gpd.GeoDataFrame(t9, geometry='geometry')\n",
    "total9.crs='epsg:4326'\n",
    "total9.to_file('2019-07-13_evn_pick.shp', driver='ESRI Shapefile')\n",
    "total10 = gpd.GeoDataFrame(t10, geometry='geometry')\n",
    "total10.crs='epsg:4326'\n",
    "total10.to_file('2019-10-17_evn_pick.shp', driver='ESRI Shapefile')\n",
    "total11 = gpd.GeoDataFrame(t11, geometry='geometry')\n",
    "total11.crs='epsg:4326'\n",
    "total11.to_file('2019-10-18_evn_pick.shp', driver='ESRI Shapefile')\n",
    "total12 = gpd.GeoDataFrame(t12, geometry='geometry')\n",
    "total12.crs='epsg:4326'\n",
    "total12.to_file('2019-10-19_evn_pick.shp', driver='ESRI Shapefile')"
   ]
  },
  {
   "cell_type": "code",
   "execution_count": 88,
   "metadata": {},
   "outputs": [],
   "source": [
    "def save_evn_pick_to():\n",
    "    total1 = gpd.GeoDataFrame(t1, geometry='geometry')\n",
    "    total1.crs='epsg:4326'\n",
    "total1.to_file('2019-02-07_evn_pick_zid_to.shp', driver='ESRI Shapefile')\n",
    "total2 = gpd.GeoDataFrame(t2, geometry='geometry')\n",
    "total2.crs='epsg:4326'\n",
    "total2.to_file('2019-02-08_evn_pick_zid_to.shp', driver='ESRI Shapefile')\n",
    "total3 = gpd.GeoDataFrame(t3, geometry='geometry')\n",
    "total3.crs='epsg:4326'\n",
    "total3.to_file('2019-02-09_evn_pick_zid_to.shp', driver='ESRI Shapefile')\n",
    "total4 = gpd.GeoDataFrame(t4, geometry='geometry')\n",
    "total4.crs='epsg:4326'\n",
    "total4.to_file('2019-04-11_evn_pick_zid_to.shp', driver='ESRI Shapefile')\n",
    "total5 = gpd.GeoDataFrame(t5, geometry='geometry')\n",
    "total5.crs='epsg:4326'\n",
    "total5.to_file('2019-04-12_evn_pick_zid_to.shp', driver='ESRI Shapefile')\n",
    "total6 = gpd.GeoDataFrame(t6, geometry='geometry')\n",
    "total6.crs='epsg:4326'\n",
    "total6.to_file('2019-04-13_evn_pick_zid_to.shp', driver='ESRI Shapefile')\n",
    "total7 = gpd.GeoDataFrame(t7, geometry='geometry')\n",
    "total7.crs='epsg:4326'\n",
    "total7.to_file('2019-07-11_evn_pick_zid_to.shp', driver='ESRI Shapefile')\n",
    "total8 = gpd.GeoDataFrame(t8, geometry='geometry')\n",
    "total8.crs='epsg:4326'\n",
    "total8.to_file('2019-07-12_evn_pick_zid_to.shp', driver='ESRI Shapefile')\n",
    "total9 = gpd.GeoDataFrame(t9, geometry='geometry')\n",
    "total9.crs='epsg:4326'\n",
    "total9.to_file('2019-07-13_evn_pick_zid_to.shp', driver='ESRI Shapefile')\n",
    "total10 = gpd.GeoDataFrame(t10, geometry='geometry')\n",
    "total10.crs='epsg:4326'\n",
    "total10.to_file('2019-10-17_evn_pick_zid_to.shp', driver='ESRI Shapefile')\n",
    "total11 = gpd.GeoDataFrame(t11, geometry='geometry')\n",
    "total11.crs='epsg:4326'\n",
    "total11.to_file('2019-10-18_evn_pick_zid_to.shp', driver='ESRI Shapefile')\n",
    "total12 = gpd.GeoDataFrame(t12, geometry='geometry')\n",
    "total12.crs='epsg:4326'\n",
    "total12.to_file('2019-10-19_evn_pick_zid_to.shp', driver='ESRI Shapefile')"
   ]
  },
  {
   "cell_type": "code",
   "execution_count": 66,
   "metadata": {},
   "outputs": [],
   "source": [
    "def save_morn_pick_to():\n",
    "    total1 = gpd.GeoDataFrame(t1, geometry='geometry')\n",
    "    total1.crs='epsg:4326'\n",
    "    total1.to_file('2019-02-07_morn_pick_zid_to.shp', driver='ESRI Shapefile')\n",
    "    total2 = gpd.GeoDataFrame(t2, geometry='geometry')\n",
    "    total2.crs='epsg:4326'\n",
    "    total2.to_file('2019-02-08_morn_pick_zid_to.shp', driver='ESRI Shapefile')\n",
    "    total3 = gpd.GeoDataFrame(t3, geometry='geometry')\n",
    "    total3.crs='epsg:4326'\n",
    "    total3.to_file('2019-02-09_morn_pick_zid_to.shp', driver='ESRI Shapefile')\n",
    "    total4 = gpd.GeoDataFrame(t4, geometry='geometry')\n",
    "    total4.crs='epsg:4326'\n",
    "    total4.to_file('2019-04-11_morn_pick_zid_to.shp', driver='ESRI Shapefile')\n",
    "    total5 = gpd.GeoDataFrame(t5, geometry='geometry')\n",
    "    total5.crs='epsg:4326'\n",
    "    total5.to_file('2019-04-12_morn_pick_zid_to.shp', driver='ESRI Shapefile')\n",
    "    total6 = gpd.GeoDataFrame(t6, geometry='geometry')\n",
    "    total6.crs='epsg:4326'\n",
    "    total6.to_file('2019-04-13_morn_pick_zid_to.shp', driver='ESRI Shapefile')\n",
    "    total7 = gpd.GeoDataFrame(t7, geometry='geometry')\n",
    "    total7.crs='epsg:4326'\n",
    "    total7.to_file('2019-07-11_morn_pick_zid_to.shp', driver='ESRI Shapefile')\n",
    "    total8 = gpd.GeoDataFrame(t8, geometry='geometry')\n",
    "    total8.crs='epsg:4326'\n",
    "    total8.to_file('2019-07-12_morn_pick_zid_to.shp', driver='ESRI Shapefile')\n",
    "    total9 = gpd.GeoDataFrame(t9, geometry='geometry')\n",
    "    total9.crs='epsg:4326'\n",
    "    total9.to_file('2019-07-13_morn_pick_zid_to.shp', driver='ESRI Shapefile')\n",
    "    total10 = gpd.GeoDataFrame(t10, geometry='geometry')\n",
    "    total10.crs='epsg:4326'\n",
    "    total10.to_file('2019-10-17_morn_pick_zid_to.shp', driver='ESRI Shapefile')\n",
    "    total11 = gpd.GeoDataFrame(t11, geometry='geometry')\n",
    "    total11.crs='epsg:4326'\n",
    "    total11.to_file('2019-10-18_morn_pick_zid_to.shp', driver='ESRI Shapefile')\n",
    "    total12 = gpd.GeoDataFrame(t12, geometry='geometry')\n",
    "    total12.crs='epsg:4326'\n",
    "    total12.to_file('2019-10-19_morn_pick_zid_to.shp', driver='ESRI Shapefile')"
   ]
  },
  {
   "cell_type": "code",
   "execution_count": null,
   "metadata": {},
   "outputs": [],
   "source": [
    "merge_by_zid_from()"
   ]
  }
 ],
 "metadata": {
  "kernelspec": {
   "display_name": "Python 3",
   "language": "python",
   "name": "python3"
  },
  "language_info": {
   "codemirror_mode": {
    "name": "ipython",
    "version": 3
   },
   "file_extension": ".py",
   "mimetype": "text/x-python",
   "name": "python",
   "nbconvert_exporter": "python",
   "pygments_lexer": "ipython3",
   "version": "3.7.4"
  }
 },
 "nbformat": 4,
 "nbformat_minor": 2
}
