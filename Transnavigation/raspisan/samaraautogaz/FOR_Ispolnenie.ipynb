{
 "cells": [
  {
   "cell_type": "code",
   "execution_count": null,
   "metadata": {},
   "outputs": [],
   "source": [
    "import pandas as pd\n",
    "import geopandas as gpd\n",
    "import numpy as np\n",
    "import matplotlib.pyplot as plt\n",
    "from datetime import datetime\n",
    "import os\n",
    "import math\n",
    "from tqdm import tqdm_notebook as tqdm\n",
    "import warnings\n",
    "warnings.filterwarnings('ignore')\n",
    "from shapely.geometry import *\n",
    "from shapely.ops import *"
   ]
  },
  {
   "cell_type": "code",
   "execution_count": null,
   "metadata": {},
   "outputs": [],
   "source": [
    "#Считали данные с GTFS"
   ]
  },
  {
   "cell_type": "code",
   "execution_count": null,
   "metadata": {},
   "outputs": [],
   "source": [
    "FROM_GTFS=pd.read_csv('FROM_GTFS3.csv',sep=';',encoding='utf-8')"
   ]
  },
  {
   "cell_type": "code",
   "execution_count": null,
   "metadata": {},
   "outputs": [],
   "source": [
    "FROM_GTFS=FROM_GTFS[FROM_GTFS['is_last']==1]"
   ]
  },
  {
   "cell_type": "code",
   "execution_count": null,
   "metadata": {},
   "outputs": [],
   "source": [
    "FROM_GTFS[0:1]"
   ]
  },
  {
   "cell_type": "code",
   "execution_count": null,
   "metadata": {},
   "outputs": [],
   "source": [
    "FROM_GTFS=FROM_GTFS[['trip_id','route_id','service_id','arrival_time','trip_headsign','monday','tuesday','wednesday','thursday','friday','saturday','sunday','stop_sequence']]"
   ]
  },
  {
   "cell_type": "code",
   "execution_count": null,
   "metadata": {},
   "outputs": [],
   "source": [
    "FROM_GTFS['time']=pd.to_datetime(FROM_GTFS['arrival_time'])"
   ]
  },
  {
   "cell_type": "code",
   "execution_count": null,
   "metadata": {},
   "outputs": [],
   "source": [
    "FROM_GTFS['hour']=FROM_GTFS['time'].dt.hour\n",
    "FROM_GTFS['min']=FROM_GTFS['time'].dt.minute\n",
    "FROM_GTFS['sec']=FROM_GTFS['time'].dt.second"
   ]
  },
  {
   "cell_type": "code",
   "execution_count": null,
   "metadata": {},
   "outputs": [],
   "source": [
    "FROM_GTFS.loc[FROM_GTFS.hour == 0, 'hour'] = 24"
   ]
  },
  {
   "cell_type": "code",
   "execution_count": null,
   "metadata": {},
   "outputs": [],
   "source": [
    "FROM_GTFS['hour'].unique()"
   ]
  },
  {
   "cell_type": "code",
   "execution_count": null,
   "metadata": {},
   "outputs": [],
   "source": [
    "FROM_GTFS['time']=(FROM_GTFS['hour'].astype(int))*3600+(FROM_GTFS['min'].astype(int))*60+(FROM_GTFS['sec'].astype(int))"
   ]
  },
  {
   "cell_type": "code",
   "execution_count": null,
   "metadata": {},
   "outputs": [],
   "source": [
    "path = './data/'\n",
    "# Cчитываем файлы, содержащие треки за какое-то одно число\n",
    "files = [f for f in os.listdir(path) if '_4.csv' in f]"
   ]
  },
  {
   "cell_type": "code",
   "execution_count": null,
   "metadata": {},
   "outputs": [],
   "source": [
    "FROM_GTFS['route_id']=FROM_GTFS['route_id'].astype('int64')"
   ]
  },
  {
   "cell_type": "code",
   "execution_count": null,
   "metadata": {},
   "outputs": [],
   "source": [
    "df_4 = pd.DataFrame()\n",
    "for file in files:\n",
    "    #print(file)\n",
    "    m = pd.read_csv(path + file, sep = '\\t', encoding='windows-1251')\n",
    "    m = m[m['mr_id'].isin(FROM_GTFS['route_id'].unique())]\n",
    "    df_4 = df_4.append(m, ignore_index = True)\n",
    "    del m"
   ]
  },
  {
   "cell_type": "code",
   "execution_count": null,
   "metadata": {},
   "outputs": [],
   "source": [
    "FROM_GTFS=FROM_GTFS[FROM_GTFS['route_id'].isin(df_4['mr_id'].unique())]"
   ]
  },
  {
   "cell_type": "code",
   "execution_count": null,
   "metadata": {},
   "outputs": [],
   "source": [
    "df_4['time']=pd.to_datetime(df_4['timenav'])"
   ]
  },
  {
   "cell_type": "code",
   "execution_count": null,
   "metadata": {},
   "outputs": [],
   "source": [
    "df_4['hour']=df_4['time'].dt.hour\n",
    "df_4['min']=df_4['time'].dt.minute\n",
    "df_4['sec']=df_4['time'].dt.second"
   ]
  },
  {
   "cell_type": "code",
   "execution_count": null,
   "metadata": {},
   "outputs": [],
   "source": [
    "df_4['hour'].unique()"
   ]
  },
  {
   "cell_type": "code",
   "execution_count": null,
   "metadata": {},
   "outputs": [],
   "source": [
    "df_4.loc[df_4.hour == 0, 'hour'] = 24\n",
    "df_4.loc[df_4.hour == 1, 'hour'] = 25"
   ]
  },
  {
   "cell_type": "code",
   "execution_count": null,
   "metadata": {},
   "outputs": [],
   "source": [
    "df_4['hour'].unique()"
   ]
  },
  {
   "cell_type": "code",
   "execution_count": null,
   "metadata": {},
   "outputs": [],
   "source": [
    "df_4=df_4[df_4['hour']>14]"
   ]
  },
  {
   "cell_type": "code",
   "execution_count": null,
   "metadata": {},
   "outputs": [],
   "source": [
    "df_4['time']=(df_4['hour'].astype(int))*3600+(df_4['min'].astype(int))*60+df_4['sec'].astype(int)"
   ]
  },
  {
   "cell_type": "code",
   "execution_count": null,
   "metadata": {},
   "outputs": [],
   "source": [
    "df_4_save=df_4"
   ]
  },
  {
   "cell_type": "code",
   "execution_count": null,
   "metadata": {},
   "outputs": [],
   "source": [
    "df_4[0:1]"
   ]
  },
  {
   "cell_type": "code",
   "execution_count": null,
   "metadata": {},
   "outputs": [],
   "source": [
    "df_4['monday']=0\n",
    "df_4['tuesday']=0\n",
    "df_4['wednesday']=0\n",
    "df_4['thursday']=0\n",
    "df_4['friday']=0\n",
    "df_4['saturday']=0\n",
    "df_4['sunday']=0"
   ]
  },
  {
   "cell_type": "code",
   "execution_count": null,
   "metadata": {},
   "outputs": [],
   "source": [
    "df_4.loc[df_4.timenav.str.contains('2020-10-12'),'monday']=1"
   ]
  },
  {
   "cell_type": "code",
   "execution_count": null,
   "metadata": {},
   "outputs": [],
   "source": [
    "df_4.loc[df_4.timenav.str.contains('2020-10-13'),'tuesday']=1\n",
    "df_4.loc[df_4.timenav.str.contains('2020-10-14'),'wednesday']=1\n",
    "df_4.loc[df_4.timenav.str.contains('2020-10-15'),'thursday']=1\n",
    "df_4.loc[df_4.timenav.str.contains('2020-10-16'),'friday']=1\n",
    "df_4.loc[df_4.timenav.str.contains('2020-10-17'),'saturday']=1\n",
    "df_4.loc[df_4.timenav.str.contains('2020-10-18'),'sunday']=1"
   ]
  },
  {
   "cell_type": "code",
   "execution_count": null,
   "metadata": {},
   "outputs": [],
   "source": [
    "df_4.loc[df_4.hour == 1, 'hour'] = 25"
   ]
  },
  {
   "cell_type": "code",
   "execution_count": null,
   "metadata": {},
   "outputs": [],
   "source": [
    "FROM_GTFS[0:1]"
   ]
  },
  {
   "cell_type": "code",
   "execution_count": null,
   "metadata": {},
   "outputs": [],
   "source": [
    "FROM_GTFS=FROM_GTFS[['trip_id','route_id','service_id','trip_headsign','monday','tuesday','wednesday','thursday','friday','saturday','sunday','time','arrival_time']]"
   ]
  },
  {
   "cell_type": "code",
   "execution_count": null,
   "metadata": {},
   "outputs": [],
   "source": [
    "df_4_mon=df_4[df_4['monday']==1]\n",
    "df_4_tues=df_4[df_4['tuesday']==1]\n",
    "df_4_wed=df_4[df_4['wednesday']==1]\n",
    "df_4_thu=df_4[df_4['thursday']==1]\n",
    "df_4_fri=df_4[df_4['friday']==1]\n",
    "df_4_sat=df_4[df_4['saturday']==1]\n",
    "df_4_sun=df_4[df_4['sunday']==1]"
   ]
  },
  {
   "cell_type": "code",
   "execution_count": null,
   "metadata": {},
   "outputs": [],
   "source": [
    "del df_4"
   ]
  },
  {
   "cell_type": "code",
   "execution_count": null,
   "metadata": {},
   "outputs": [],
   "source": [
    "FROM_GTFS_mon=FROM_GTFS[FROM_GTFS['monday']==1]\n",
    "FROM_GTFS_tues=FROM_GTFS[FROM_GTFS['tuesday']==1]\n",
    "FROM_GTFS_wed=FROM_GTFS[FROM_GTFS['wednesday']==1]\n",
    "FROM_GTFS_thu=FROM_GTFS[FROM_GTFS['thursday']==1]\n",
    "FROM_GTFS_fri=FROM_GTFS[FROM_GTFS['friday']==1]\n",
    "FROM_GTFS_sat=FROM_GTFS[FROM_GTFS['saturday']==1]\n",
    "FROM_GTFS_sun=FROM_GTFS[FROM_GTFS['sunday']==1]"
   ]
  },
  {
   "cell_type": "code",
   "execution_count": null,
   "metadata": {},
   "outputs": [],
   "source": [
    "FROM_GTFS_mon=FROM_GTFS_mon[['trip_id','route_id','service_id','trip_headsign','time','arrival_time']]"
   ]
  },
  {
   "cell_type": "code",
   "execution_count": null,
   "metadata": {},
   "outputs": [],
   "source": [
    "FROM_GTFS_mon=FROM_GTFS_mon[['trip_id','route_id','service_id','trip_headsign','time','arrival_time']]\n",
    "FROM_GTFS_tues=FROM_GTFS_tues[['trip_id','route_id','service_id','trip_headsign','time','arrival_time']]\n",
    "FROM_GTFS_wed=FROM_GTFS_wed[['trip_id','route_id','service_id','trip_headsign','time','arrival_time']]\n",
    "FROM_GTFS_thu=FROM_GTFS_thu[['trip_id','route_id','service_id','trip_headsign','time','arrival_time']]\n",
    "FROM_GTFS_fri=FROM_GTFS_fri[['trip_id','route_id','service_id','trip_headsign','time','arrival_time']]\n",
    "FROM_GTFS_sat=FROM_GTFS_sat[['trip_id','route_id','service_id','trip_headsign','time','arrival_time']]\n",
    "FROM_GTFS_sun=FROM_GTFS_sun[['trip_id','route_id','service_id','trip_headsign','time','arrival_time']]"
   ]
  },
  {
   "cell_type": "code",
   "execution_count": null,
   "metadata": {},
   "outputs": [],
   "source": [
    "df_4_sun.info()"
   ]
  },
  {
   "cell_type": "code",
   "execution_count": null,
   "metadata": {},
   "outputs": [],
   "source": [
    "def agregate(df_4):\n",
    "    df_4=df_4.sort_values(['mr_id','tr_id', 'time_y'])\\\n",
    "    .reset_index(drop=True)\n",
    "    list_1 = list(df_4['lat'][1:])\n",
    "    list_1.append(df_4['lat'][1])\n",
    "    df_4['lat_to'] = list_1\n",
    "\n",
    "    list_2 = list(df_4['long'][1:])\n",
    "    list_2.append(df_4['long'][1])\n",
    "    df_4['long_to'] = list_2\n",
    "\n",
    "    df = gpd.GeoDataFrame(df_4, geometry = [LineString(xy) for xy in \n",
    "                                                                zip([Point(xy) for xy in zip(df_4['long'], df_4['lat'])], \n",
    "                                                                   [Point(xy) for xy in zip(df_4['long_to'], df_4['lat_to'])])])\n",
    "    df.crs='epsg:4326'\n",
    "    df_result=gpd.GeoDataFrame()\n",
    "    all_trace=gpd.read_file('Samara_current.shp')\n",
    "    for k in df['mr_id'].unique():\n",
    "        df_part=df[df['mr_id']==k]\n",
    "        all_trace_part=all_trace[all_trace['mr_id']==k]\n",
    "        df_part = df_part.to_crs('epsg:32640')\n",
    "        df_part.geometry = df_part.geometry.buffer(10)\n",
    "        df_part = df_part.to_crs('epsg:4326')\n",
    "\n",
    "        all_trace_part = all_trace_part.to_crs('epsg:32640')\n",
    "        all_trace_part.geometry = all_trace_part.geometry.buffer(100)\n",
    "        all_trace_part = all_trace_part.to_crs('epsg:4326')\n",
    "        df_result_part = gpd.sjoin(df_part, all_trace_part, how='left', op='intersects')\n",
    "        df_result_part = df_result_part[df_result_part['index_right'].notna()]\n",
    "        group=pd.DataFrame(df_result_part.groupby(['trip_id','tabelnum']).agg({'lat':'count'}).rename(columns={'lat':'count'}).reset_index())\n",
    "        df_result_part=df_result_part.merge(group, on=['trip_id','tabelnum'], how='left')\n",
    "        df_result_part=df_result_part[df_result_part['count_y']>50]\n",
    "        df_result=df_result.append(df_result_part)\n",
    "        del df_result_part\n",
    "    df_result['time']=df_result['time_x']\n",
    "    res=pd.DataFrame(df_result.groupby(['trip_id','mr_id_left','tabelnum']).agg({'time':np.min,'time_x':np.max}).reset_index())\n",
    "    del df_result\n",
    "    return(res)"
   ]
  },
  {
   "cell_type": "code",
   "execution_count": null,
   "metadata": {},
   "outputs": [],
   "source": [
    "def raspisan(df1,df2):\n",
    "    df=df1.merge(df2, left_on='mr_id',right_on='route_id', how='outer')\n",
    "    df=df[df['time_x']>df['time_y']]\n",
    "    df=df[['trip_id','mr_id','mr_name','tr_id','tabelnum','service_id','trip_headsign','time_x','time_y','arrival_time','lat','long']]\n",
    "    group=pd.DataFrame(df.groupby(['trip_id','tabelnum']).agg({'lat':'count'}).rename(columns={'lat':'count'}).reset_index())\n",
    "    df=df.merge(group, on=['trip_id','tabelnum'], how='left')\n",
    "    df=df[df['count']>70]\n",
    "    return df    "
   ]
  },
  {
   "cell_type": "code",
   "execution_count": null,
   "metadata": {},
   "outputs": [],
   "source": [
    "mon=agregate(raspisan(df_4_mon,FROM_GTFS_mon))"
   ]
  },
  {
   "cell_type": "code",
   "execution_count": null,
   "metadata": {},
   "outputs": [],
   "source": [
    "tues=agregate(raspisan(df_4_tues,FROM_GTFS_tues))\n",
    "wed=agregate(raspisan(df_4_wed,FROM_GTFS_wed))\n",
    "thu=agregate(raspisan(df_4_thu,FROM_GTFS_thu))\n",
    "fri=agregate(raspisan(df_4_fri,FROM_GTFS_fri))\n",
    "\n",
    "del df_4_mon\n",
    "del df_4_tues\n",
    "del df_4_wed\n",
    "del df_4_thu\n",
    "del df_4_fri\n",
    "del df_4_sat\n",
    "del df_4_sun"
   ]
  },
  {
   "cell_type": "code",
   "execution_count": null,
   "metadata": {},
   "outputs": [],
   "source": [
    "sat=agregate(raspisan(df_4_sat,FROM_GTFS_sat))\n",
    "sun=agregate(raspisan(df_4_sun,FROM_GTFS_sun))"
   ]
  },
  {
   "cell_type": "code",
   "execution_count": null,
   "metadata": {},
   "outputs": [],
   "source": [
    "fri=raspisan(df_4_fri,FROM_GTFS_fri)"
   ]
  },
  {
   "cell_type": "code",
   "execution_count": null,
   "metadata": {},
   "outputs": [],
   "source": [
    "    df_4=fri\n",
    "    df_4=df_4.sort_values(['mr_id','tr_id', 'time_y'])\\\n",
    "    .reset_index(drop=True)\n",
    "    list_1 = list(df_4['lat'][1:])\n",
    "    list_1.append(df_4['lat'][1])\n",
    "    df_4['lat_to'] = list_1\n",
    "\n",
    "    list_2 = list(df_4['long'][1:])\n",
    "    list_2.append(df_4['long'][1])\n",
    "    df_4['long_to'] = list_2\n",
    "\n",
    "    df = gpd.GeoDataFrame(df_4, geometry = [LineString(xy) for xy in \n",
    "                                                                zip([Point(xy) for xy in zip(df_4['long'], df_4['lat'])], \n",
    "                                                                   [Point(xy) for xy in zip(df_4['long_to'], df_4['lat_to'])])])\n",
    "    df.crs='epsg:4326'\n",
    "    df_result=gpd.GeoDataFrame()\n",
    "    all_trace=gpd.read_file('Samara_current.shp')\n",
    "    for k in df['mr_id'].unique():\n",
    "        df_part=df[df['mr_id']==k]\n",
    "        all_trace_part=all_trace[all_trace['mr_id']==k]\n",
    "        df_part = df_part.to_crs('epsg:32640')\n",
    "        df_part.geometry = df_part.geometry.buffer(10)\n",
    "        df_part = df_part.to_crs('epsg:4326')\n",
    "\n",
    "        all_trace_part = all_trace_part.to_crs('epsg:32640')\n",
    "        all_trace_part.geometry = all_trace_part.geometry.buffer(100)\n",
    "        all_trace_part = all_trace_part.to_crs('epsg:4326')\n",
    "        df_result_part = gpd.sjoin(df_part, all_trace_part, how='left', op='intersects')\n",
    "        df_result_part = df_result_part[df_result_part['index_right'].notna()]\n",
    "        group=pd.DataFrame(df_result_part.groupby(['trip_id','tabelnum']).agg({'lat':'count'}).rename(columns={'lat':'count'}).reset_index())\n",
    "        group['trip_id']=group['trip_id'].astype('float64')\n",
    "        group['tabelnum']=group['tabelnum'].astype('float64')\n",
    "        df_result_part['trip_id']=df_result_part['trip_id'].astype('float64')\n",
    "        df_result_part['tabelnum']=df_result_part['tabelnum'].astype('float64')\n",
    "        df_result_part=df_result_part.merge(group, on=['trip_id','tabelnum'], how='left')\n",
    "        df_result_part=df_result_part[df_result_part['count_y']>50]\n",
    "        df_result=df_result.append(df_result_part)\n",
    "        del df_result_part\n",
    "    df_result['time']=df_result['time_x']\n",
    "    res=pd.DataFrame(df_result.groupby(['trip_id','mr_id_left','tabelnum']).agg({'time':np.min,'time_x':np.max}).reset_index())\n",
    "    del df_result"
   ]
  },
  {
   "cell_type": "code",
   "execution_count": null,
   "metadata": {},
   "outputs": [],
   "source": [
    "fri=res"
   ]
  },
  {
   "cell_type": "code",
   "execution_count": null,
   "metadata": {},
   "outputs": [],
   "source": [
    "def result (FROM_GTFS,day,k):\n",
    "    FROM_GTFS['trip_id']=FROM_GTFS['trip_id'].astype('float64')\n",
    "    day['trip_id']=day['trip_id'].astype('float64')\n",
    "    FROM_GTFS=FROM_GTFS.merge(day, on='trip_id', how='left')\n",
    "    FROM_GTFS=FROM_GTFS.groupby(['trip_id']).first()\n",
    "    FROM_GTFS=FROM_GTFS.sort_values(by=['route_id','trip_id'])\n",
    "    FROM_GTFS.to_csv(k+'resk.csv')\n",
    "    return "
   ]
  },
  {
   "cell_type": "code",
   "execution_count": null,
   "metadata": {},
   "outputs": [],
   "source": [
    "result(FROM_GTFS_mon,mon,'monday')\n",
    "result(FROM_GTFS_tues,tues,'tuesday')\n",
    "result(FROM_GTFS_wed,wed,'wednesday')\n",
    "result(FROM_GTFS_thu,thu,'thuesday')\n",
    "result(FROM_GTFS_sat,sat,'saturday')\n",
    "result(FROM_GTFS_sun,sun,'sunday')"
   ]
  },
  {
   "cell_type": "code",
   "execution_count": null,
   "metadata": {},
   "outputs": [],
   "source": [
    "result(FROM_GTFS_fri,fri,'friday')"
   ]
  },
  {
   "cell_type": "code",
   "execution_count": null,
   "metadata": {},
   "outputs": [],
   "source": []
  },
  {
   "cell_type": "code",
   "execution_count": null,
   "metadata": {},
   "outputs": [],
   "source": []
  },
  {
   "cell_type": "code",
   "execution_count": null,
   "metadata": {},
   "outputs": [],
   "source": []
  },
  {
   "cell_type": "code",
   "execution_count": null,
   "metadata": {},
   "outputs": [],
   "source": []
  }
 ],
 "metadata": {
  "kernelspec": {
   "display_name": "Python 3",
   "language": "python",
   "name": "python3"
  },
  "language_info": {
   "codemirror_mode": {
    "name": "ipython",
    "version": 3
   },
   "file_extension": ".py",
   "mimetype": "text/x-python",
   "name": "python",
   "nbconvert_exporter": "python",
   "pygments_lexer": "ipython3",
   "version": "3.8.3"
  }
 },
 "nbformat": 4,
 "nbformat_minor": 4
}
