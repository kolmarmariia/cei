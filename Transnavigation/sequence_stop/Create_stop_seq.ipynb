{
 "cells": [
  {
   "cell_type": "code",
   "execution_count": 36,
   "metadata": {},
   "outputs": [],
   "source": [
    "import pandas as pd\n",
    "import geopandas as gpd\n",
    "import numpy as np\n",
    "import matplotlib.pyplot as plt\n",
    "from datetime import datetime\n",
    "import os\n",
    "import math\n",
    "import numpy as np\n",
    "from sklearn.metrics.pairwise import haversine_distances\n",
    "from tqdm import tqdm_notebook as tqdm\n",
    "import geopandas as gpd\n",
    "from shapely.geometry import *\n",
    "from shapely.ops import *"
   ]
  },
  {
   "cell_type": "markdown",
   "metadata": {},
   "source": [
    "# Считали файл с трассами маршрутов в геоформате"
   ]
  },
  {
   "cell_type": "code",
   "execution_count": 37,
   "metadata": {},
   "outputs": [],
   "source": [
    "routes=gpd.read_file('routes.geojson')"
   ]
  },
  {
   "cell_type": "markdown",
   "metadata": {},
   "source": [
    "# Считали последовательность остановок в CSV"
   ]
  },
  {
   "cell_type": "code",
   "execution_count": 10,
   "metadata": {},
   "outputs": [],
   "source": [
    "stop_seq=pd.read_csv('stop_seq_Tol.csv',sep=';', encoding='windows-1251')"
   ]
  },
  {
   "cell_type": "code",
   "execution_count": 11,
   "metadata": {},
   "outputs": [
    {
     "data": {
      "text/html": [
       "<div>\n",
       "<style scoped>\n",
       "    .dataframe tbody tr th:only-of-type {\n",
       "        vertical-align: middle;\n",
       "    }\n",
       "\n",
       "    .dataframe tbody tr th {\n",
       "        vertical-align: top;\n",
       "    }\n",
       "\n",
       "    .dataframe thead th {\n",
       "        text-align: right;\n",
       "    }\n",
       "</style>\n",
       "<table border=\"1\" class=\"dataframe\">\n",
       "  <thead>\n",
       "    <tr style=\"text-align: right;\">\n",
       "      <th></th>\n",
       "      <th>trip_id</th>\n",
       "      <th>stop_id</th>\n",
       "      <th>stop_name</th>\n",
       "      <th>latitude</th>\n",
       "      <th>longitude</th>\n",
       "      <th>route_number</th>\n",
       "      <th>type_ts</th>\n",
       "      <th>nmae_marsh</th>\n",
       "    </tr>\n",
       "  </thead>\n",
       "  <tbody>\n",
       "    <tr>\n",
       "      <th>0</th>\n",
       "      <td>2227622900</td>\n",
       "      <td>stop__9854548</td>\n",
       "      <td>ТРК Вега</td>\n",
       "      <td>53.50019</td>\n",
       "      <td>49.270765</td>\n",
       "      <td>108</td>\n",
       "      <td>minibus</td>\n",
       "      <td>minibus 108</td>\n",
       "    </tr>\n",
       "  </tbody>\n",
       "</table>\n",
       "</div>"
      ],
      "text/plain": [
       "      trip_id        stop_id stop_name  latitude  longitude route_number  \\\n",
       "0  2227622900  stop__9854548  ТРК Вега  53.50019  49.270765          108   \n",
       "\n",
       "   type_ts   nmae_marsh  \n",
       "0  minibus  minibus 108  "
      ]
     },
     "execution_count": 11,
     "metadata": {},
     "output_type": "execute_result"
    }
   ],
   "source": [
    "stop_seq[0:1]"
   ]
  },
  {
   "cell_type": "markdown",
   "metadata": {},
   "source": [
    "# Сформировали из остановок слой в геоформате"
   ]
  },
  {
   "cell_type": "code",
   "execution_count": 12,
   "metadata": {},
   "outputs": [],
   "source": [
    "stop_seq_gpd = gpd.GeoDataFrame(stop_seq,  geometry = [Point(xy) for xy in zip(stop_seq['longitude'], stop_seq['latitude'])])\n",
    "stop_seq_gpd.crs='epsg:4326'"
   ]
  },
  {
   "cell_type": "code",
   "execution_count": 13,
   "metadata": {},
   "outputs": [
    {
     "data": {
      "text/plain": [
       "<matplotlib.axes._subplots.AxesSubplot at 0x15b32e50820>"
      ]
     },
     "execution_count": 13,
     "metadata": {},
     "output_type": "execute_result"
    },
    {
     "data": {
      "image/png": "[encoded data removed]",
      "text/plain": [
       "<Figure size 432x288 with 1 Axes>"
      ]
     },
     "metadata": {
      "needs_background": "light"
     },
     "output_type": "display_data"
    }
   ],
   "source": [
    "stop_seq_gpd.plot()"
   ]
  },
  {
   "cell_type": "markdown",
   "metadata": {},
   "source": [
    "## пересекаем те, что не пересекаются со своими же трассами:"
   ]
  },
  {
   "cell_type": "code",
   "execution_count": 14,
   "metadata": {},
   "outputs": [
    {
     "data": {
      "text/html": [
       "<div>\n",
       "<style scoped>\n",
       "    .dataframe tbody tr th:only-of-type {\n",
       "        vertical-align: middle;\n",
       "    }\n",
       "\n",
       "    .dataframe tbody tr th {\n",
       "        vertical-align: top;\n",
       "    }\n",
       "\n",
       "    .dataframe thead th {\n",
       "        text-align: right;\n",
       "    }\n",
       "</style>\n",
       "<table border=\"1\" class=\"dataframe\">\n",
       "  <thead>\n",
       "    <tr style=\"text-align: right;\">\n",
       "      <th></th>\n",
       "      <th>trip_id</th>\n",
       "      <th>stop_id</th>\n",
       "      <th>stop_name</th>\n",
       "      <th>latitude</th>\n",
       "      <th>longitude</th>\n",
       "      <th>route_number</th>\n",
       "      <th>type_ts</th>\n",
       "      <th>nmae_marsh</th>\n",
       "      <th>geometry</th>\n",
       "    </tr>\n",
       "  </thead>\n",
       "  <tbody>\n",
       "    <tr>\n",
       "      <th>0</th>\n",
       "      <td>2227622900</td>\n",
       "      <td>stop__9854548</td>\n",
       "      <td>ТРК Вега</td>\n",
       "      <td>53.50019</td>\n",
       "      <td>49.270765</td>\n",
       "      <td>108</td>\n",
       "      <td>minibus</td>\n",
       "      <td>minibus 108</td>\n",
       "      <td>POINT (49.27077 53.50019)</td>\n",
       "    </tr>\n",
       "  </tbody>\n",
       "</table>\n",
       "</div>"
      ],
      "text/plain": [
       "      trip_id        stop_id stop_name  latitude  longitude route_number  \\\n",
       "0  2227622900  stop__9854548  ТРК Вега  53.50019  49.270765          108   \n",
       "\n",
       "   type_ts   nmae_marsh                   geometry  \n",
       "0  minibus  minibus 108  POINT (49.27077 53.50019)  "
      ]
     },
     "execution_count": 14,
     "metadata": {},
     "output_type": "execute_result"
    }
   ],
   "source": [
    "stop_seq_gpd[0:1]"
   ]
  },
  {
   "cell_type": "code",
   "execution_count": 15,
   "metadata": {},
   "outputs": [],
   "source": [
    "stop_seq_gpd=stop_seq_gpd[['stop_id','latitude','longitude','geometry']].drop_duplicates()"
   ]
  },
  {
   "cell_type": "code",
   "execution_count": 16,
   "metadata": {},
   "outputs": [
    {
     "data": {
      "text/plain": [
       "<matplotlib.axes._subplots.AxesSubplot at 0x15b3390c940>"
      ]
     },
     "execution_count": 16,
     "metadata": {},
     "output_type": "execute_result"
    },
    {
     "data": {
      "image/png": "[encoded data removed]",
      "text/plain": [
       "<Figure size 432x288 with 1 Axes>"
      ]
     },
     "metadata": {
      "needs_background": "light"
     },
     "output_type": "display_data"
    }
   ],
   "source": [
    "stop_seq_gpd.plot()"
   ]
  },
  {
   "cell_type": "code",
   "execution_count": 44,
   "metadata": {},
   "outputs": [],
   "source": [
    "routes_dop=routes"
   ]
  },
  {
   "cell_type": "code",
   "execution_count": 45,
   "metadata": {},
   "outputs": [
    {
     "data": {
      "text/plain": [
       "<matplotlib.axes._subplots.AxesSubplot at 0x15b338f2400>"
      ]
     },
     "execution_count": 45,
     "metadata": {},
     "output_type": "execute_result"
    },
    {
     "data": {
      "image/png": "[encoded data removed]",
      "text/plain": [
       "<Figure size 432x288 with 1 Axes>"
      ]
     },
     "metadata": {
      "needs_background": "light"
     },
     "output_type": "display_data"
    }
   ],
   "source": [
    "routes_dop.plot()"
   ]
  },
  {
   "cell_type": "markdown",
   "metadata": {},
   "source": [
    "# пересекли треки с остановками с буфером 50 метров"
   ]
  },
  {
   "cell_type": "code",
   "execution_count": 46,
   "metadata": {},
   "outputs": [],
   "source": [
    "routes_dop2_buff = routes_dop.to_crs('epsg:32640')\n",
    "routes_dop2_buff.geometry = routes_dop2_buff.geometry.buffer(100)\n",
    "routes_dop2_buff = routes_dop2_buff.to_crs('epsg:4326')\n",
    "\n",
    "stops_with_buff = stop_seq_gpd.to_crs('epsg:32640')\n",
    "stops_with_buff.geometry = stops_with_buff.geometry.buffer(50)\n",
    "stops_with_buff = stops_with_buff.to_crs('epsg:4326')\n",
    "\n",
    "\n",
    "stops_seq_new=gpd.sjoin(routes_dop2_buff,stops_with_buff, how='left', op='intersects', lsuffix='left', rsuffix='right')"
   ]
  },
  {
   "cell_type": "code",
   "execution_count": 47,
   "metadata": {},
   "outputs": [
    {
     "data": {
      "text/html": [
       "<div>\n",
       "<style scoped>\n",
       "    .dataframe tbody tr th:only-of-type {\n",
       "        vertical-align: middle;\n",
       "    }\n",
       "\n",
       "    .dataframe tbody tr th {\n",
       "        vertical-align: top;\n",
       "    }\n",
       "\n",
       "    .dataframe thead th {\n",
       "        text-align: right;\n",
       "    }\n",
       "</style>\n",
       "<table border=\"1\" class=\"dataframe\">\n",
       "  <thead>\n",
       "    <tr style=\"text-align: right;\">\n",
       "      <th></th>\n",
       "      <th>trip_id</th>\n",
       "      <th>route_number</th>\n",
       "      <th>direction</th>\n",
       "      <th>type_ts</th>\n",
       "      <th>name_marsh</th>\n",
       "      <th>status</th>\n",
       "      <th>length_km</th>\n",
       "      <th>geometry</th>\n",
       "      <th>index_right</th>\n",
       "      <th>stop_id</th>\n",
       "      <th>latitude</th>\n",
       "      <th>longitude</th>\n",
       "    </tr>\n",
       "  </thead>\n",
       "  <tbody>\n",
       "    <tr>\n",
       "      <th>0</th>\n",
       "      <td>3285447517</td>\n",
       "      <td>6</td>\n",
       "      <td>1</td>\n",
       "      <td>bus</td>\n",
       "      <td>bus 6</td>\n",
       "      <td>changed</td>\n",
       "      <td>2.58283</td>\n",
       "      <td>POLYGON ((49.45321 53.51166, 49.45320 53.51165...</td>\n",
       "      <td>921</td>\n",
       "      <td>stop__9854795</td>\n",
       "      <td>53.509963</td>\n",
       "      <td>49.459113</td>\n",
       "    </tr>\n",
       "  </tbody>\n",
       "</table>\n",
       "</div>"
      ],
      "text/plain": [
       "      trip_id route_number  direction type_ts name_marsh   status  length_km  \\\n",
       "0  3285447517            6          1     bus      bus 6  changed    2.58283   \n",
       "\n",
       "                                            geometry  index_right  \\\n",
       "0  POLYGON ((49.45321 53.51166, 49.45320 53.51165...          921   \n",
       "\n",
       "         stop_id   latitude  longitude  \n",
       "0  stop__9854795  53.509963  49.459113  "
      ]
     },
     "execution_count": 47,
     "metadata": {},
     "output_type": "execute_result"
    }
   ],
   "source": [
    "stops_seq_new[0:1]"
   ]
  },
  {
   "cell_type": "markdown",
   "metadata": {},
   "source": [
    "# Записали результат"
   ]
  },
  {
   "cell_type": "code",
   "execution_count": 48,
   "metadata": {},
   "outputs": [],
   "source": [
    "stops_seq_new[['trip_id','route_number','stop_id','latitude','longitude']].to_csv('Res.csv')"
   ]
  }
 ],
 "metadata": {
  "kernelspec": {
   "display_name": "Python 3",
   "language": "python",
   "name": "python3"
  },
  "language_info": {
   "codemirror_mode": {
    "name": "ipython",
    "version": 3
   },
   "file_extension": ".py",
   "mimetype": "text/x-python",
   "name": "python",
   "nbconvert_exporter": "python",
   "pygments_lexer": "ipython3",
   "version": "3.8.3"
  }
 },
 "nbformat": 4,
 "nbformat_minor": 4
}
