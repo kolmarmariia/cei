{
 "cells": [
  {
   "cell_type": "code",
   "execution_count": 121,
   "metadata": {},
   "outputs": [],
   "source": [
    "import pandas as pd\n",
    "import geopandas as gpd\n",
    "import numpy as np\n",
    "import matplotlib.pyplot as plt\n",
    "from datetime import datetime\n",
    "import os\n",
    "from tqdm import tqdm_notebook as tqdm\n",
    "from shapely.geometry import LineString\n",
    "from shapely.geometry import Point\n",
    "from math import radians, cos, sin, asin, sqrt"
   ]
  },
  {
   "cell_type": "code",
   "execution_count": 122,
   "metadata": {},
   "outputs": [],
   "source": [
    "path='./data/'"
   ]
  },
  {
   "cell_type": "code",
   "execution_count": 123,
   "metadata": {},
   "outputs": [],
   "source": [
    "TB=pd.read_csv(path+'TB_2019-10-09.csv')"
   ]
  },
  {
   "cell_type": "code",
   "execution_count": 165,
   "metadata": {},
   "outputs": [
    {
     "data": {
      "text/html": [
       "<div>\n",
       "<style scoped>\n",
       "    .dataframe tbody tr th:only-of-type {\n",
       "        vertical-align: middle;\n",
       "    }\n",
       "\n",
       "    .dataframe tbody tr th {\n",
       "        vertical-align: top;\n",
       "    }\n",
       "\n",
       "    .dataframe thead th {\n",
       "        text-align: right;\n",
       "    }\n",
       "</style>\n",
       "<table border=\"1\" class=\"dataframe\">\n",
       "  <thead>\n",
       "    <tr style=\"text-align: right;\">\n",
       "      <th></th>\n",
       "      <th>MODULEID</th>\n",
       "      <th>lat</th>\n",
       "      <th>long</th>\n",
       "      <th>mr_name</th>\n",
       "      <th>time</th>\n",
       "    </tr>\n",
       "  </thead>\n",
       "  <tbody>\n",
       "    <tr>\n",
       "      <th>0</th>\n",
       "      <td>2738</td>\n",
       "      <td>53.504964</td>\n",
       "      <td>49.295360</td>\n",
       "      <td>Маршрут 14</td>\n",
       "      <td>2019-10-09T03:12:46Z</td>\n",
       "    </tr>\n",
       "    <tr>\n",
       "      <th>1</th>\n",
       "      <td>2738</td>\n",
       "      <td>53.504816</td>\n",
       "      <td>49.296884</td>\n",
       "      <td>Маршрут 14</td>\n",
       "      <td>2019-10-09T03:12:59Z</td>\n",
       "    </tr>\n",
       "  </tbody>\n",
       "</table>\n",
       "</div>"
      ],
      "text/plain": [
       "   MODULEID        lat       long     mr_name                  time\n",
       "0      2738  53.504964  49.295360  Маршрут 14  2019-10-09T03:12:46Z\n",
       "1      2738  53.504816  49.296884  Маршрут 14  2019-10-09T03:12:59Z"
      ]
     },
     "execution_count": 165,
     "metadata": {},
     "output_type": "execute_result"
    }
   ],
   "source": [
    "TB[0:2]"
   ]
  },
  {
   "cell_type": "code",
   "execution_count": 125,
   "metadata": {},
   "outputs": [],
   "source": [
    "#TB=TB.rename(columns={0: 'MODULEID' , 6:'long' , 7:'lat', 1:'mr_name', 5:'time'})"
   ]
  },
  {
   "cell_type": "code",
   "execution_count": 126,
   "metadata": {},
   "outputs": [],
   "source": [
    "TB=TB[['MODULEID' ,'lat', 'long' ,'mr_name', 'time']]"
   ]
  },
  {
   "cell_type": "code",
   "execution_count": 127,
   "metadata": {},
   "outputs": [],
   "source": [
    "#perexod=pd.read_csv(path+'tol_marsh_TB.csv', sep=';',encoding='windows-1251')\n",
    "#perexod=perexod[['mr_id','mr_name']]\n",
    "#TB1=TB1.merge(perexod,on='mr_name')"
   ]
  },
  {
   "cell_type": "markdown",
   "metadata": {},
   "source": [
    "## Вырезаем точки трека,близкие к остановкам для автобусов ПАТП:"
   ]
  },
  {
   "cell_type": "code",
   "execution_count": 128,
   "metadata": {},
   "outputs": [],
   "source": [
    "# Cчитываем файлы, содержащие треки за 28 сентября 2020 года\n",
    "df_4 = TB\n",
    "\n",
    "# Считываем файл с последовательным списком остановок на маршрутах ('stop_seq.csv')\n",
    "stop_seq = pd.read_csv(path + 'stop_seq_TB.csv', sep = ';', encoding = 'utf8')"
   ]
  },
  {
   "cell_type": "code",
   "execution_count": 129,
   "metadata": {},
   "outputs": [
    {
     "data": {
      "text/html": [
       "<div>\n",
       "<style scoped>\n",
       "    .dataframe tbody tr th:only-of-type {\n",
       "        vertical-align: middle;\n",
       "    }\n",
       "\n",
       "    .dataframe tbody tr th {\n",
       "        vertical-align: top;\n",
       "    }\n",
       "\n",
       "    .dataframe thead th {\n",
       "        text-align: right;\n",
       "    }\n",
       "</style>\n",
       "<table border=\"1\" class=\"dataframe\">\n",
       "  <thead>\n",
       "    <tr style=\"text-align: right;\">\n",
       "      <th></th>\n",
       "      <th>rc_orderby</th>\n",
       "      <th>ssId</th>\n",
       "      <th>ss_lat</th>\n",
       "      <th>ss_long</th>\n",
       "      <th>rl_id</th>\n",
       "      <th>mr_id</th>\n",
       "      <th>route_number</th>\n",
       "    </tr>\n",
       "  </thead>\n",
       "  <tbody>\n",
       "    <tr>\n",
       "      <th>0</th>\n",
       "      <td>1</td>\n",
       "      <td>stop__9854762</td>\n",
       "      <td>53.476261</td>\n",
       "      <td>49.349212</td>\n",
       "      <td>3473582645</td>\n",
       "      <td>3473581925</td>\n",
       "      <td>1</td>\n",
       "    </tr>\n",
       "    <tr>\n",
       "      <th>1</th>\n",
       "      <td>2</td>\n",
       "      <td>stop__9854369</td>\n",
       "      <td>53.478978</td>\n",
       "      <td>49.352483</td>\n",
       "      <td>3473582645</td>\n",
       "      <td>3473581925</td>\n",
       "      <td>1</td>\n",
       "    </tr>\n",
       "  </tbody>\n",
       "</table>\n",
       "</div>"
      ],
      "text/plain": [
       "   rc_orderby           ssId     ss_lat    ss_long       rl_id       mr_id  \\\n",
       "0           1  stop__9854762  53.476261  49.349212  3473582645  3473581925   \n",
       "1           2  stop__9854369  53.478978  49.352483  3473582645  3473581925   \n",
       "\n",
       "   route_number  \n",
       "0             1  \n",
       "1             1  "
      ]
     },
     "execution_count": 129,
     "metadata": {},
     "output_type": "execute_result"
    }
   ],
   "source": [
    "stop_seq[0:2]"
   ]
  },
  {
   "cell_type": "code",
   "execution_count": 130,
   "metadata": {},
   "outputs": [
    {
     "data": {
      "text/html": [
       "<div>\n",
       "<style scoped>\n",
       "    .dataframe tbody tr th:only-of-type {\n",
       "        vertical-align: middle;\n",
       "    }\n",
       "\n",
       "    .dataframe tbody tr th {\n",
       "        vertical-align: top;\n",
       "    }\n",
       "\n",
       "    .dataframe thead th {\n",
       "        text-align: right;\n",
       "    }\n",
       "</style>\n",
       "<table border=\"1\" class=\"dataframe\">\n",
       "  <thead>\n",
       "    <tr style=\"text-align: right;\">\n",
       "      <th></th>\n",
       "      <th>MODULEID</th>\n",
       "      <th>lat</th>\n",
       "      <th>long</th>\n",
       "      <th>mr_name</th>\n",
       "      <th>time</th>\n",
       "    </tr>\n",
       "  </thead>\n",
       "  <tbody>\n",
       "    <tr>\n",
       "      <th>0</th>\n",
       "      <td>2738</td>\n",
       "      <td>53.504964</td>\n",
       "      <td>49.295360</td>\n",
       "      <td>Маршрут 14</td>\n",
       "      <td>2019-10-09T03:12:46Z</td>\n",
       "    </tr>\n",
       "    <tr>\n",
       "      <th>1</th>\n",
       "      <td>2738</td>\n",
       "      <td>53.504816</td>\n",
       "      <td>49.296884</td>\n",
       "      <td>Маршрут 14</td>\n",
       "      <td>2019-10-09T03:12:59Z</td>\n",
       "    </tr>\n",
       "  </tbody>\n",
       "</table>\n",
       "</div>"
      ],
      "text/plain": [
       "   MODULEID        lat       long     mr_name                  time\n",
       "0      2738  53.504964  49.295360  Маршрут 14  2019-10-09T03:12:46Z\n",
       "1      2738  53.504816  49.296884  Маршрут 14  2019-10-09T03:12:59Z"
      ]
     },
     "execution_count": 130,
     "metadata": {},
     "output_type": "execute_result"
    }
   ],
   "source": [
    "df_4[0:2]"
   ]
  },
  {
   "cell_type": "code",
   "execution_count": 131,
   "metadata": {},
   "outputs": [
    {
     "name": "stdout",
     "output_type": "stream",
     "text": [
      "<class 'pandas.core.frame.DataFrame'>\n",
      "RangeIndex: 457 entries, 0 to 456\n",
      "Data columns (total 7 columns):\n",
      " #   Column        Non-Null Count  Dtype  \n",
      "---  ------        --------------  -----  \n",
      " 0   rc_orderby    457 non-null    int64  \n",
      " 1   ssId          457 non-null    object \n",
      " 2   ss_lat        457 non-null    float64\n",
      " 3   ss_long       457 non-null    float64\n",
      " 4   rl_id         457 non-null    int64  \n",
      " 5   mr_id         457 non-null    int64  \n",
      " 6   route_number  457 non-null    int64  \n",
      "dtypes: float64(2), int64(4), object(1)\n",
      "memory usage: 25.1+ KB\n"
     ]
    }
   ],
   "source": [
    "stop_seq.info()"
   ]
  },
  {
   "cell_type": "code",
   "execution_count": 132,
   "metadata": {},
   "outputs": [
    {
     "name": "stderr",
     "output_type": "stream",
     "text": [
      "<ipython-input-132-dc031a474cf7>:2: SettingWithCopyWarning: \n",
      "A value is trying to be set on a copy of a slice from a DataFrame.\n",
      "Try using .loc[row_indexer,col_indexer] = value instead\n",
      "\n",
      "See the caveats in the documentation: https://pandas.pydata.org/pandas-docs/stable/user_guide/indexing.html#returning-a-view-versus-a-copy\n",
      "  df_4['route_number']=df_4['mr_name'].str.replace('Маршрут ','').astype('int64')\n"
     ]
    }
   ],
   "source": [
    "df_4=df_4[['MODULEID','lat','long','time','mr_name']]\n",
    "df_4['route_number']=df_4['mr_name'].str.replace('Маршрут ','').astype('int64')\n",
    "#df_4['lat']=df_4['lat'].astyostr.replace(',','.').astype(float)\n",
    "#df_4['long']=df_4['long'].str.replace(',','.').astype(float)"
   ]
  },
  {
   "cell_type": "code",
   "execution_count": 133,
   "metadata": {},
   "outputs": [],
   "source": [
    "df_4=df_4[['MODULEID','lat','long','time','route_number']]"
   ]
  },
  {
   "cell_type": "code",
   "execution_count": 134,
   "metadata": {},
   "outputs": [],
   "source": [
    "df_4_gpd = gpd.GeoDataFrame(df_4,  geometry = [Point(xy) for xy in zip(df_4['long'], df_4['lat'])])\n",
    "df_4_gpd.crs='epsg:4326'"
   ]
  },
  {
   "cell_type": "code",
   "execution_count": 135,
   "metadata": {},
   "outputs": [],
   "source": [
    "stop_seq_gpd = gpd.GeoDataFrame(stop_seq,  geometry = [Point(xy) for xy in zip(stop_seq['ss_long'], stop_seq['ss_lat'])])\n",
    "stop_seq_gpd.crs='epsg:4326'"
   ]
  },
  {
   "cell_type": "code",
   "execution_count": 136,
   "metadata": {},
   "outputs": [
    {
     "data": {
      "text/plain": [
       "<matplotlib.axes._subplots.AxesSubplot at 0x181a9b34df0>"
      ]
     },
     "execution_count": 136,
     "metadata": {},
     "output_type": "execute_result"
    },
    {
     "data": {
      "image/png": "[encoded data removed]",
      "text/plain": [
       "<Figure size 432x288 with 1 Axes>"
      ]
     },
     "metadata": {
      "needs_background": "light"
     },
     "output_type": "display_data"
    }
   ],
   "source": [
    "df_4_gpd.plot()"
   ]
  },
  {
   "cell_type": "code",
   "execution_count": 137,
   "metadata": {},
   "outputs": [
    {
     "data": {
      "text/plain": [
       "<matplotlib.axes._subplots.AxesSubplot at 0x181b21d2f40>"
      ]
     },
     "execution_count": 137,
     "metadata": {},
     "output_type": "execute_result"
    },
    {
     "data": {
      "image/png": "[encoded data removed]",
      "text/plain": [
       "<Figure size 432x288 with 1 Axes>"
      ]
     },
     "metadata": {
      "needs_background": "light"
     },
     "output_type": "display_data"
    }
   ],
   "source": [
    "stop_seq_gpd.plot()"
   ]
  },
  {
   "cell_type": "code",
   "execution_count": 138,
   "metadata": {},
   "outputs": [],
   "source": [
    "#пересекли треки с остановками с буфером 100 метров\n",
    "stops_with_buff = stop_seq_gpd.to_crs('epsg:32640')\n",
    "stops_with_buff.geometry = stops_with_buff.geometry.buffer(100)\n",
    "stops_with_buff = stops_with_buff.to_crs('epsg:4326')\n",
    "df_4_small=gpd.sjoin(df_4_gpd, stops_with_buff, how='left', op='within', lsuffix='left', rsuffix='right')"
   ]
  },
  {
   "cell_type": "code",
   "execution_count": 139,
   "metadata": {},
   "outputs": [],
   "source": [
    "df_4_small=df_4_small[df_4_small['ssId'].notna()]"
   ]
  },
  {
   "cell_type": "code",
   "execution_count": 140,
   "metadata": {},
   "outputs": [
    {
     "data": {
      "text/plain": [
       "107369"
      ]
     },
     "execution_count": 140,
     "metadata": {},
     "output_type": "execute_result"
    }
   ],
   "source": [
    "len(df_4_gpd)"
   ]
  },
  {
   "cell_type": "code",
   "execution_count": 141,
   "metadata": {},
   "outputs": [
    {
     "data": {
      "text/plain": [
       "206381"
      ]
     },
     "execution_count": 141,
     "metadata": {},
     "output_type": "execute_result"
    }
   ],
   "source": [
    "len(df_4_small)"
   ]
  },
  {
   "cell_type": "markdown",
   "metadata": {},
   "source": [
    "Выбираем только остановки внутри одного маршрута"
   ]
  },
  {
   "cell_type": "code",
   "execution_count": 142,
   "metadata": {},
   "outputs": [],
   "source": [
    "df_4_small=df_4_small[df_4_small['route_number_left']==df_4_small['route_number_right']]"
   ]
  },
  {
   "cell_type": "code",
   "execution_count": 143,
   "metadata": {},
   "outputs": [
    {
     "data": {
      "text/plain": [
       "67864"
      ]
     },
     "execution_count": 143,
     "metadata": {},
     "output_type": "execute_result"
    }
   ],
   "source": [
    "len(df_4_small)"
   ]
  },
  {
   "cell_type": "code",
   "execution_count": 144,
   "metadata": {},
   "outputs": [],
   "source": [
    "# Расчёт растояния между координатами\n",
    "def haversine(lon1, lat1, lon2, lat2):\n",
    "    \"\"\"\n",
    "    Calculate the great circle distance between two points on the earth (specified in decimal degrees)\n",
    "    \"\"\"\n",
    "    # convert decimal degrees to radians\n",
    "    lon1, lat1, lon2, lat2 = map(radians, [lon1, lat1, lon2, lat2])\n",
    "    \n",
    "    # haversine formula \n",
    "    dlon = lon2 - lon1\n",
    "    dlat = lat2 - lat1\n",
    "    a = sin(dlat/2)**2 + cos(lat1) * cos(lat2) * sin(dlon/2)**2\n",
    "    c = 2 * asin(sqrt(a))\n",
    "    r = 6371 * 1000 # Radius of earth in kilometers. Use 3956 for miles\n",
    "    return c * r"
   ]
  },
  {
   "cell_type": "code",
   "execution_count": 145,
   "metadata": {},
   "outputs": [],
   "source": [
    "df_4_small['len'] = 0\n",
    "df_4_small['len'] = df_4_small.apply(lambda row: haversine(row.long, row.lat, row.ss_long, row.ss_lat), axis = 1)"
   ]
  },
  {
   "cell_type": "code",
   "execution_count": 146,
   "metadata": {},
   "outputs": [],
   "source": [
    "df_4_small['time2']=pd.to_datetime(df_4_small['time'])"
   ]
  },
  {
   "cell_type": "code",
   "execution_count": 147,
   "metadata": {},
   "outputs": [],
   "source": [
    "\n",
    "df_4_small['hour']=df_4_small['time2'].dt.hour\n",
    "df_4_small['min']=df_4_small['time2'].dt.minute\n",
    "df_4_small['sec']=df_4_small['time2'].dt.second\n",
    "df_4_small['time']=(df_4_small['hour'].astype(int))*3600+(df_4_small['min'].astype(int))*60+df_4_small['sec'].astype(int)"
   ]
  },
  {
   "cell_type": "code",
   "execution_count": 148,
   "metadata": {},
   "outputs": [
    {
     "data": {
      "text/html": [
       "<div>\n",
       "<style scoped>\n",
       "    .dataframe tbody tr th:only-of-type {\n",
       "        vertical-align: middle;\n",
       "    }\n",
       "\n",
       "    .dataframe tbody tr th {\n",
       "        vertical-align: top;\n",
       "    }\n",
       "\n",
       "    .dataframe thead th {\n",
       "        text-align: right;\n",
       "    }\n",
       "</style>\n",
       "<table border=\"1\" class=\"dataframe\">\n",
       "  <thead>\n",
       "    <tr style=\"text-align: right;\">\n",
       "      <th></th>\n",
       "      <th>MODULEID</th>\n",
       "      <th>lat</th>\n",
       "      <th>long</th>\n",
       "      <th>time</th>\n",
       "      <th>route_number_left</th>\n",
       "      <th>geometry</th>\n",
       "      <th>index_right</th>\n",
       "      <th>rc_orderby</th>\n",
       "      <th>ssId</th>\n",
       "      <th>ss_lat</th>\n",
       "      <th>ss_long</th>\n",
       "      <th>rl_id</th>\n",
       "      <th>mr_id</th>\n",
       "      <th>route_number_right</th>\n",
       "      <th>len</th>\n",
       "      <th>time2</th>\n",
       "      <th>hour</th>\n",
       "      <th>min</th>\n",
       "      <th>sec</th>\n",
       "    </tr>\n",
       "  </thead>\n",
       "  <tbody>\n",
       "    <tr>\n",
       "      <th>0</th>\n",
       "      <td>2738</td>\n",
       "      <td>53.504964</td>\n",
       "      <td>49.295360</td>\n",
       "      <td>11566</td>\n",
       "      <td>14</td>\n",
       "      <td>POINT (49.29536 53.50496)</td>\n",
       "      <td>331.0</td>\n",
       "      <td>1.0</td>\n",
       "      <td>stop__9854170</td>\n",
       "      <td>53.504967</td>\n",
       "      <td>49.294216</td>\n",
       "      <td>2.227623e+09</td>\n",
       "      <td>2.227623e+09</td>\n",
       "      <td>14.0</td>\n",
       "      <td>75.68572</td>\n",
       "      <td>2019-10-09 03:12:46+00:00</td>\n",
       "      <td>3</td>\n",
       "      <td>12</td>\n",
       "      <td>46</td>\n",
       "    </tr>\n",
       "    <tr>\n",
       "      <th>1</th>\n",
       "      <td>2738</td>\n",
       "      <td>53.504816</td>\n",
       "      <td>49.296884</td>\n",
       "      <td>11579</td>\n",
       "      <td>14</td>\n",
       "      <td>POINT (49.29688 53.50482)</td>\n",
       "      <td>332.0</td>\n",
       "      <td>2.0</td>\n",
       "      <td>stop__9854169</td>\n",
       "      <td>53.504627</td>\n",
       "      <td>49.298312</td>\n",
       "      <td>2.227623e+09</td>\n",
       "      <td>2.227623e+09</td>\n",
       "      <td>14.0</td>\n",
       "      <td>96.71938</td>\n",
       "      <td>2019-10-09 03:12:59+00:00</td>\n",
       "      <td>3</td>\n",
       "      <td>12</td>\n",
       "      <td>59</td>\n",
       "    </tr>\n",
       "  </tbody>\n",
       "</table>\n",
       "</div>"
      ],
      "text/plain": [
       "   MODULEID        lat       long   time  route_number_left  \\\n",
       "0      2738  53.504964  49.295360  11566                 14   \n",
       "1      2738  53.504816  49.296884  11579                 14   \n",
       "\n",
       "                    geometry  index_right  rc_orderby           ssId  \\\n",
       "0  POINT (49.29536 53.50496)        331.0         1.0  stop__9854170   \n",
       "1  POINT (49.29688 53.50482)        332.0         2.0  stop__9854169   \n",
       "\n",
       "      ss_lat    ss_long         rl_id         mr_id  route_number_right  \\\n",
       "0  53.504967  49.294216  2.227623e+09  2.227623e+09                14.0   \n",
       "1  53.504627  49.298312  2.227623e+09  2.227623e+09                14.0   \n",
       "\n",
       "        len                     time2  hour  min  sec  \n",
       "0  75.68572 2019-10-09 03:12:46+00:00     3   12   46  \n",
       "1  96.71938 2019-10-09 03:12:59+00:00     3   12   59  "
      ]
     },
     "execution_count": 148,
     "metadata": {},
     "output_type": "execute_result"
    }
   ],
   "source": [
    "df_4_small[0:2]"
   ]
  },
  {
   "cell_type": "code",
   "execution_count": 149,
   "metadata": {},
   "outputs": [],
   "source": [
    "df_4_small2=df_4_small[['mr_id','rl_id','rc_orderby','ssId','MODULEID','time','len','geometry','ss_lat','ss_long','route_number_left']]"
   ]
  },
  {
   "cell_type": "code",
   "execution_count": 150,
   "metadata": {},
   "outputs": [],
   "source": [
    "df_4_small2.to_csv('for_perl_TB_2019-10-09.csv',index=False,sep=';')"
   ]
  },
  {
   "cell_type": "markdown",
   "metadata": {},
   "source": [
    "## Формируем выгрузку для привязки валидаций!"
   ]
  },
  {
   "cell_type": "code",
   "execution_count": 151,
   "metadata": {},
   "outputs": [],
   "source": [
    "df_4_small3=df_4_small2"
   ]
  },
  {
   "cell_type": "code",
   "execution_count": 152,
   "metadata": {},
   "outputs": [
    {
     "name": "stderr",
     "output_type": "stream",
     "text": [
      "C:\\Users\\user\\anaconda3\\lib\\site-packages\\geopandas\\geodataframe.py:853: SettingWithCopyWarning: \n",
      "A value is trying to be set on a copy of a slice from a DataFrame.\n",
      "Try using .loc[row_indexer,col_indexer] = value instead\n",
      "\n",
      "See the caveats in the documentation: https://pandas.pydata.org/pandas-docs/stable/user_guide/indexing.html#returning-a-view-versus-a-copy\n",
      "  super(GeoDataFrame, self).__setitem__(key, value)\n"
     ]
    }
   ],
   "source": [
    "df_4_small3['time_in_sec']=df_4_small3['time']"
   ]
  },
  {
   "cell_type": "code",
   "execution_count": 153,
   "metadata": {},
   "outputs": [],
   "source": [
    "df_4_small3=df_4_small3.sort_values(by=['mr_id','rl_id','MODULEID','time_in_sec','rc_orderby'])"
   ]
  },
  {
   "cell_type": "code",
   "execution_count": 154,
   "metadata": {},
   "outputs": [],
   "source": [
    "df_4_small3['time_in_sec2']=df_4_small3.groupby(['mr_id','rl_id','MODULEID'])['time_in_sec'].shift(-1).astype('Int64')"
   ]
  },
  {
   "cell_type": "markdown",
   "metadata": {},
   "source": [
    "Убираем строки, которые идут друг за дружкой с одной и той же остановкой"
   ]
  },
  {
   "cell_type": "code",
   "execution_count": 155,
   "metadata": {},
   "outputs": [
    {
     "name": "stderr",
     "output_type": "stream",
     "text": [
      "C:\\Users\\user\\anaconda3\\lib\\site-packages\\geopandas\\geodataframe.py:853: SettingWithCopyWarning: \n",
      "A value is trying to be set on a copy of a slice from a DataFrame.\n",
      "Try using .loc[row_indexer,col_indexer] = value instead\n",
      "\n",
      "See the caveats in the documentation: https://pandas.pydata.org/pandas-docs/stable/user_guide/indexing.html#returning-a-view-versus-a-copy\n",
      "  super(GeoDataFrame, self).__setitem__(key, value)\n"
     ]
    }
   ],
   "source": [
    "df_4_small3['rc_orderby2'] = df_4_small3.groupby(['mr_id','rl_id','MODULEID'])['rc_orderby'].shift(-1).astype('Int64')\n",
    "df_4_part=df_4_small3[~(df_4_small3['rc_orderby2']==df_4_small3['rc_orderby'])]\n",
    "df_4_part['time_start']=df_4_part['time_in_sec']"
   ]
  },
  {
   "cell_type": "code",
   "execution_count": 156,
   "metadata": {},
   "outputs": [],
   "source": [
    "df_4_part['time_finish'] = df_4_part.groupby(['mr_id','rl_id','MODULEID'])['time_start'].shift(-1).astype('Int64')"
   ]
  },
  {
   "cell_type": "code",
   "execution_count": 157,
   "metadata": {},
   "outputs": [],
   "source": [
    "df_4_part=df_4_part[['mr_id','rl_id','MODULEID','rc_orderby','len','ssId','time','len','time_start','time_finish','ss_lat','ss_long','geometry']]"
   ]
  },
  {
   "cell_type": "markdown",
   "metadata": {},
   "source": [
    "## Выбираем только те последовательности, где между двумя посл. отметками прошло не больше 40 минут"
   ]
  },
  {
   "cell_type": "code",
   "execution_count": 158,
   "metadata": {},
   "outputs": [],
   "source": [
    "df_4_part['delta']=df_4_part['time_finish']-df_4_part['time_start']\n",
    "df_4_part['delta2']=df_4_part.groupby(['mr_id','rl_id','MODULEID'])['delta'].shift(1).astype('Int64')\n",
    "df_4_part=df_4_part[((df_4_part['delta']<60*40)&(df_4_part['delta']>0))|(df_4_part['delta'].isna())].\\\n",
    "append(df_4_part[(df_4_part['delta2']<60*40)&(df_4_part['delta2']>0)]).\\\n",
    "append(df_4_part[df_4_part['rc_orderby']==1]) #добавили конечные (там отстои могут быть очень долго)\n",
    "\n",
    "df_4_part=df_4_part.sort_values(by=['mr_id','rl_id','MODULEID','time_start','rc_orderby'])\n",
    "\n",
    "df_4_part=df_4_part[['mr_id','rl_id','MODULEID','rc_orderby','len','ssId','time','time_start','time_finish','ss_lat','ss_long','geometry']].drop_duplicates()"
   ]
  },
  {
   "cell_type": "code",
   "execution_count": 159,
   "metadata": {},
   "outputs": [
    {
     "data": {
      "text/html": [
       "<div>\n",
       "<style scoped>\n",
       "    .dataframe tbody tr th:only-of-type {\n",
       "        vertical-align: middle;\n",
       "    }\n",
       "\n",
       "    .dataframe tbody tr th {\n",
       "        vertical-align: top;\n",
       "    }\n",
       "\n",
       "    .dataframe thead th {\n",
       "        text-align: right;\n",
       "    }\n",
       "</style>\n",
       "<table border=\"1\" class=\"dataframe\">\n",
       "  <thead>\n",
       "    <tr style=\"text-align: right;\">\n",
       "      <th></th>\n",
       "      <th>mr_id</th>\n",
       "      <th>rl_id</th>\n",
       "      <th>MODULEID</th>\n",
       "      <th>rc_orderby</th>\n",
       "      <th>len</th>\n",
       "      <th>len</th>\n",
       "      <th>ssId</th>\n",
       "      <th>time</th>\n",
       "      <th>time_start</th>\n",
       "      <th>time_finish</th>\n",
       "      <th>ss_lat</th>\n",
       "      <th>ss_long</th>\n",
       "      <th>geometry</th>\n",
       "    </tr>\n",
       "  </thead>\n",
       "  <tbody>\n",
       "    <tr>\n",
       "      <th>39675</th>\n",
       "      <td>2.227623e+09</td>\n",
       "      <td>2.278607e+09</td>\n",
       "      <td>2958</td>\n",
       "      <td>2.0</td>\n",
       "      <td>85.140601</td>\n",
       "      <td>85.140601</td>\n",
       "      <td>stop__9854705</td>\n",
       "      <td>39633</td>\n",
       "      <td>39633</td>\n",
       "      <td>39691</td>\n",
       "      <td>53.477451</td>\n",
       "      <td>49.474193</td>\n",
       "      <td>POINT (49.47416 53.47822)</td>\n",
       "    </tr>\n",
       "    <tr>\n",
       "      <th>39679</th>\n",
       "      <td>2.227623e+09</td>\n",
       "      <td>2.278607e+09</td>\n",
       "      <td>2958</td>\n",
       "      <td>3.0</td>\n",
       "      <td>13.259377</td>\n",
       "      <td>13.259377</td>\n",
       "      <td>stop__9854703</td>\n",
       "      <td>39691</td>\n",
       "      <td>39691</td>\n",
       "      <td>39773</td>\n",
       "      <td>53.480778</td>\n",
       "      <td>49.474305</td>\n",
       "      <td>POINT (49.47419 53.48088)</td>\n",
       "    </tr>\n",
       "    <tr>\n",
       "      <th>39685</th>\n",
       "      <td>2.227623e+09</td>\n",
       "      <td>2.278607e+09</td>\n",
       "      <td>2958</td>\n",
       "      <td>4.0</td>\n",
       "      <td>48.488333</td>\n",
       "      <td>48.488333</td>\n",
       "      <td>stop__9854681</td>\n",
       "      <td>39773</td>\n",
       "      <td>39773</td>\n",
       "      <td>39894</td>\n",
       "      <td>53.484178</td>\n",
       "      <td>49.474376</td>\n",
       "      <td>POINT (49.47431 53.48461)</td>\n",
       "    </tr>\n",
       "    <tr>\n",
       "      <th>39706</th>\n",
       "      <td>2.227623e+09</td>\n",
       "      <td>2.278607e+09</td>\n",
       "      <td>2958</td>\n",
       "      <td>5.0</td>\n",
       "      <td>16.785850</td>\n",
       "      <td>16.785850</td>\n",
       "      <td>stop__9854335</td>\n",
       "      <td>39894</td>\n",
       "      <td>39894</td>\n",
       "      <td>39934</td>\n",
       "      <td>53.487297</td>\n",
       "      <td>49.469209</td>\n",
       "      <td>POINT (49.46898 53.48723)</td>\n",
       "    </tr>\n",
       "    <tr>\n",
       "      <th>39712</th>\n",
       "      <td>2.227623e+09</td>\n",
       "      <td>2.278607e+09</td>\n",
       "      <td>2958</td>\n",
       "      <td>6.0</td>\n",
       "      <td>21.439911</td>\n",
       "      <td>21.439911</td>\n",
       "      <td>stop__9854337</td>\n",
       "      <td>39934</td>\n",
       "      <td>39934</td>\n",
       "      <td>40208</td>\n",
       "      <td>53.487696</td>\n",
       "      <td>49.465350</td>\n",
       "      <td>POINT (49.46505 53.48762)</td>\n",
       "    </tr>\n",
       "  </tbody>\n",
       "</table>\n",
       "</div>"
      ],
      "text/plain": [
       "              mr_id         rl_id  MODULEID  rc_orderby        len        len  \\\n",
       "39675  2.227623e+09  2.278607e+09      2958         2.0  85.140601  85.140601   \n",
       "39679  2.227623e+09  2.278607e+09      2958         3.0  13.259377  13.259377   \n",
       "39685  2.227623e+09  2.278607e+09      2958         4.0  48.488333  48.488333   \n",
       "39706  2.227623e+09  2.278607e+09      2958         5.0  16.785850  16.785850   \n",
       "39712  2.227623e+09  2.278607e+09      2958         6.0  21.439911  21.439911   \n",
       "\n",
       "                ssId   time  time_start  time_finish     ss_lat    ss_long  \\\n",
       "39675  stop__9854705  39633       39633        39691  53.477451  49.474193   \n",
       "39679  stop__9854703  39691       39691        39773  53.480778  49.474305   \n",
       "39685  stop__9854681  39773       39773        39894  53.484178  49.474376   \n",
       "39706  stop__9854335  39894       39894        39934  53.487297  49.469209   \n",
       "39712  stop__9854337  39934       39934        40208  53.487696  49.465350   \n",
       "\n",
       "                        geometry  \n",
       "39675  POINT (49.47416 53.47822)  \n",
       "39679  POINT (49.47419 53.48088)  \n",
       "39685  POINT (49.47431 53.48461)  \n",
       "39706  POINT (49.46898 53.48723)  \n",
       "39712  POINT (49.46505 53.48762)  "
      ]
     },
     "execution_count": 159,
     "metadata": {},
     "output_type": "execute_result"
    }
   ],
   "source": [
    "df_4_part[0:5]"
   ]
  },
  {
   "cell_type": "markdown",
   "metadata": {},
   "source": [
    "## Выбираем только те последовательности, где номера остановок растут "
   ]
  },
  {
   "cell_type": "code",
   "execution_count": 160,
   "metadata": {},
   "outputs": [
    {
     "data": {
      "text/plain": [
       "20449"
      ]
     },
     "execution_count": 160,
     "metadata": {},
     "output_type": "execute_result"
    }
   ],
   "source": [
    "len(df_4_part)"
   ]
  },
  {
   "cell_type": "code",
   "execution_count": 161,
   "metadata": {},
   "outputs": [],
   "source": [
    "df_4_part['rc_orderby2'] = df_4_part.groupby(['mr_id','rl_id','MODULEID'])['rc_orderby'].shift(-1).astype('Int64')\n",
    "df_4_part=df_4_part[(df_4_part['rc_orderby2']>df_4_part['rc_orderby'])|(df_4_part['rc_orderby2'].isna())]"
   ]
  },
  {
   "cell_type": "code",
   "execution_count": 162,
   "metadata": {},
   "outputs": [],
   "source": [
    "df_4_part=df_4_part[['mr_id','rl_id','MODULEID','rc_orderby','len','ssId','time','time_start','time_finish','ss_lat','ss_long','geometry']].drop_duplicates()"
   ]
  },
  {
   "cell_type": "code",
   "execution_count": 163,
   "metadata": {},
   "outputs": [],
   "source": [
    "df_4_part.to_csv('res_TB_2019-10-09.csv', index=False)"
   ]
  },
  {
   "cell_type": "code",
   "execution_count": null,
   "metadata": {},
   "outputs": [],
   "source": []
  },
  {
   "cell_type": "code",
   "execution_count": null,
   "metadata": {},
   "outputs": [],
   "source": []
  },
  {
   "cell_type": "code",
   "execution_count": null,
   "metadata": {},
   "outputs": [],
   "source": []
  },
  {
   "cell_type": "code",
   "execution_count": null,
   "metadata": {},
   "outputs": [],
   "source": []
  },
  {
   "cell_type": "code",
   "execution_count": null,
   "metadata": {},
   "outputs": [],
   "source": []
  }
 ],
 "metadata": {
  "kernelspec": {
   "display_name": "Python 3",
   "language": "python",
   "name": "python3"
  },
  "language_info": {
   "codemirror_mode": {
    "name": "ipython",
    "version": 3
   },
   "file_extension": ".py",
   "mimetype": "text/x-python",
   "name": "python",
   "nbconvert_exporter": "python",
   "pygments_lexer": "ipython3",
   "version": "3.8.3"
  }
 },
 "nbformat": 4,
 "nbformat_minor": 4
}
