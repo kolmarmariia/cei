{
 "cells": [
  {
   "cell_type": "code",
   "execution_count": 283,
   "metadata": {},
   "outputs": [],
   "source": [
    "import pandas as pd\n",
    "import geopandas as gpd\n",
    "import numpy as np\n",
    "import matplotlib.pyplot as plt\n",
    "from datetime import datetime\n",
    "import os\n",
    "import math\n",
    "import numpy as np\n",
    "from sklearn.metrics.pairwise import haversine_distances"
   ]
  },
  {
   "cell_type": "code",
   "execution_count": 284,
   "metadata": {},
   "outputs": [],
   "source": [
    "path='./data/'"
   ]
  },
  {
   "cell_type": "code",
   "execution_count": 310,
   "metadata": {},
   "outputs": [],
   "source": [
    "# Считываем файл с последовательным списком остановок на маршрутах ('stop_seq.csv')\n",
    "stop_seq = pd.read_csv(path + 'stop_seq_patp_for_28.csv', sep = ';', encoding = 'utf8')\n",
    "stop_seq2 = pd.read_csv(path + 'stop_seq_TB.csv', sep = ';', encoding = 'utf8')"
   ]
  },
  {
   "cell_type": "code",
   "execution_count": 311,
   "metadata": {},
   "outputs": [],
   "source": [
    "#stop_seq=stop_seq.append(stop_seq2)"
   ]
  },
  {
   "cell_type": "code",
   "execution_count": 314,
   "metadata": {},
   "outputs": [
    {
     "data": {
      "text/html": [
       "<div>\n",
       "<style scoped>\n",
       "    .dataframe tbody tr th:only-of-type {\n",
       "        vertical-align: middle;\n",
       "    }\n",
       "\n",
       "    .dataframe tbody tr th {\n",
       "        vertical-align: top;\n",
       "    }\n",
       "\n",
       "    .dataframe thead th {\n",
       "        text-align: right;\n",
       "    }\n",
       "</style>\n",
       "<table border=\"1\" class=\"dataframe\">\n",
       "  <thead>\n",
       "    <tr style=\"text-align: right;\">\n",
       "      <th></th>\n",
       "      <th>stop_sequence</th>\n",
       "      <th>ssId</th>\n",
       "      <th>ss_lat</th>\n",
       "      <th>ss_long</th>\n",
       "      <th>tt.trip_id</th>\n",
       "      <th>mr_id</th>\n",
       "    </tr>\n",
       "  </thead>\n",
       "  <tbody>\n",
       "    <tr>\n",
       "      <th>0</th>\n",
       "      <td>13</td>\n",
       "      <td>stop__9854819</td>\n",
       "      <td>53.492223</td>\n",
       "      <td>49.301302</td>\n",
       "      <td>2227622945</td>\n",
       "      <td>2227622966</td>\n",
       "    </tr>\n",
       "    <tr>\n",
       "      <th>1</th>\n",
       "      <td>14</td>\n",
       "      <td>stop__9854363</td>\n",
       "      <td>53.476237</td>\n",
       "      <td>49.327122</td>\n",
       "      <td>2227622945</td>\n",
       "      <td>2227622966</td>\n",
       "    </tr>\n",
       "    <tr>\n",
       "      <th>2</th>\n",
       "      <td>15</td>\n",
       "      <td>stop__9854366</td>\n",
       "      <td>53.475968</td>\n",
       "      <td>49.332976</td>\n",
       "      <td>2227622945</td>\n",
       "      <td>2227622966</td>\n",
       "    </tr>\n",
       "    <tr>\n",
       "      <th>3</th>\n",
       "      <td>16</td>\n",
       "      <td>stop__9854368</td>\n",
       "      <td>53.475478</td>\n",
       "      <td>49.344863</td>\n",
       "      <td>2227622945</td>\n",
       "      <td>2227622966</td>\n",
       "    </tr>\n",
       "    <tr>\n",
       "      <th>4</th>\n",
       "      <td>21</td>\n",
       "      <td>stop__9854256</td>\n",
       "      <td>53.501115</td>\n",
       "      <td>49.390624</td>\n",
       "      <td>2227622945</td>\n",
       "      <td>2227622966</td>\n",
       "    </tr>\n",
       "    <tr>\n",
       "      <th>...</th>\n",
       "      <td>...</td>\n",
       "      <td>...</td>\n",
       "      <td>...</td>\n",
       "      <td>...</td>\n",
       "      <td>...</td>\n",
       "      <td>...</td>\n",
       "    </tr>\n",
       "    <tr>\n",
       "      <th>65</th>\n",
       "      <td>37</td>\n",
       "      <td>stop__9854610</td>\n",
       "      <td>53.525948</td>\n",
       "      <td>49.328930</td>\n",
       "      <td>2227622929</td>\n",
       "      <td>2227623008</td>\n",
       "    </tr>\n",
       "    <tr>\n",
       "      <th>66</th>\n",
       "      <td>1</td>\n",
       "      <td>3460817685</td>\n",
       "      <td>53.501696</td>\n",
       "      <td>49.273943</td>\n",
       "      <td>2227622962</td>\n",
       "      <td>2227623063</td>\n",
       "    </tr>\n",
       "    <tr>\n",
       "      <th>67</th>\n",
       "      <td>33</td>\n",
       "      <td>3453030055</td>\n",
       "      <td>53.542545</td>\n",
       "      <td>49.387210</td>\n",
       "      <td>2227622962</td>\n",
       "      <td>2227623063</td>\n",
       "    </tr>\n",
       "    <tr>\n",
       "      <th>68</th>\n",
       "      <td>1</td>\n",
       "      <td>stop__9854562</td>\n",
       "      <td>53.542865</td>\n",
       "      <td>49.387136</td>\n",
       "      <td>2227622965</td>\n",
       "      <td>2227623063</td>\n",
       "    </tr>\n",
       "    <tr>\n",
       "      <th>69</th>\n",
       "      <td>35</td>\n",
       "      <td>3460817865</td>\n",
       "      <td>53.501648</td>\n",
       "      <td>49.274131</td>\n",
       "      <td>2227622965</td>\n",
       "      <td>2227623063</td>\n",
       "    </tr>\n",
       "  </tbody>\n",
       "</table>\n",
       "<p>70 rows × 6 columns</p>\n",
       "</div>"
      ],
      "text/plain": [
       "    stop_sequence           ssId     ss_lat    ss_long   tt.trip_id  \\\n",
       "0              13  stop__9854819  53.492223  49.301302   2227622945   \n",
       "1              14  stop__9854363  53.476237  49.327122   2227622945   \n",
       "2              15  stop__9854366  53.475968  49.332976   2227622945   \n",
       "3              16  stop__9854368  53.475478  49.344863   2227622945   \n",
       "4              21  stop__9854256  53.501115  49.390624   2227622945   \n",
       "..            ...            ...        ...        ...          ...   \n",
       "65             37  stop__9854610  53.525948  49.328930   2227622929   \n",
       "66              1     3460817685  53.501696  49.273943   2227622962   \n",
       "67             33     3453030055  53.542545  49.387210   2227622962   \n",
       "68              1  stop__9854562  53.542865  49.387136   2227622965   \n",
       "69             35     3460817865  53.501648  49.274131   2227622965   \n",
       "\n",
       "         mr_id  \n",
       "0   2227622966  \n",
       "1   2227622966  \n",
       "2   2227622966  \n",
       "3   2227622966  \n",
       "4   2227622966  \n",
       "..         ...  \n",
       "65  2227623008  \n",
       "66  2227623063  \n",
       "67  2227623063  \n",
       "68  2227623063  \n",
       "69  2227623063  \n",
       "\n",
       "[70 rows x 6 columns]"
      ]
     },
     "execution_count": 314,
     "metadata": {},
     "output_type": "execute_result"
    }
   ],
   "source": [
    "stop_seq"
   ]
  },
  {
   "cell_type": "code",
   "execution_count": 315,
   "metadata": {},
   "outputs": [],
   "source": [
    "stop_seq_gpd = gpd.GeoDataFrame(stop_seq,  geometry = [Point(xy) for xy in zip(stop_seq['ss_long'], stop_seq['ss_lat'])])\n",
    "stop_seq_gpd.crs='epsg:4326'"
   ]
  },
  {
   "cell_type": "code",
   "execution_count": 316,
   "metadata": {},
   "outputs": [],
   "source": [
    "#пересекли все остановки с остановками с буфером 300 метров\n",
    "stops_with_buff = stop_seq_gpd.to_crs('epsg:32640')\n",
    "stops_with_buff.geometry = stops_with_buff.geometry.buffer(100)\n",
    "stops_with_buff = stops_with_buff.to_crs('epsg:4326')\n",
    "stops_new=gpd.sjoin(stop_seq_gpd, stops_with_buff, how='left', op='within', lsuffix='left', rsuffix='right')"
   ]
  },
  {
   "cell_type": "code",
   "execution_count": 317,
   "metadata": {},
   "outputs": [],
   "source": [
    "stops_pares=stops_new[stops_new['mr_id_left']==stops_new['mr_id_right']].reset_index()"
   ]
  },
  {
   "cell_type": "code",
   "execution_count": 318,
   "metadata": {},
   "outputs": [],
   "source": [
    "stops_pares=stops_pares[['ssId_left','ss_lat_left','ss_long_left','ssId_right','ss_lat_right','ss_long_right']].drop_duplicates()"
   ]
  },
  {
   "cell_type": "code",
   "execution_count": 205,
   "metadata": {},
   "outputs": [],
   "source": [
    "#stops_pares=stops_pares[stops_pares['ssId_left']!=stops_pares['ssId_right']]"
   ]
  },
  {
   "cell_type": "code",
   "execution_count": 319,
   "metadata": {},
   "outputs": [],
   "source": [
    "stops_pares['geometry']=Point(zip(stops_pares['ss_long_right'], stops_pares['ss_lat_right']))"
   ]
  },
  {
   "cell_type": "code",
   "execution_count": 320,
   "metadata": {},
   "outputs": [],
   "source": [
    "stops_pares_gpd = gpd.GeoDataFrame(stops_pares,  geometry = 'geometry')\n",
    "stops_pares_gpd.crs='epsg:4326'"
   ]
  },
  {
   "cell_type": "code",
   "execution_count": 321,
   "metadata": {},
   "outputs": [],
   "source": [
    "stops_pares_gpd_group=stops_pares_gpd.dissolve(by='ssId_left')"
   ]
  },
  {
   "cell_type": "code",
   "execution_count": 322,
   "metadata": {},
   "outputs": [
    {
     "data": {
      "text/html": [
       "<div>\n",
       "<style scoped>\n",
       "    .dataframe tbody tr th:only-of-type {\n",
       "        vertical-align: middle;\n",
       "    }\n",
       "\n",
       "    .dataframe tbody tr th {\n",
       "        vertical-align: top;\n",
       "    }\n",
       "\n",
       "    .dataframe thead th {\n",
       "        text-align: right;\n",
       "    }\n",
       "</style>\n",
       "<table border=\"1\" class=\"dataframe\">\n",
       "  <thead>\n",
       "    <tr style=\"text-align: right;\">\n",
       "      <th></th>\n",
       "      <th>ssId_left</th>\n",
       "      <th>ss_lat_left</th>\n",
       "      <th>ss_long_left</th>\n",
       "      <th>ssId_right</th>\n",
       "      <th>ss_lat_right</th>\n",
       "      <th>ss_long_right</th>\n",
       "      <th>geometry</th>\n",
       "    </tr>\n",
       "  </thead>\n",
       "  <tbody>\n",
       "    <tr>\n",
       "      <th>0</th>\n",
       "      <td>stop__9854819</td>\n",
       "      <td>53.492223</td>\n",
       "      <td>49.301302</td>\n",
       "      <td>stop__9854819</td>\n",
       "      <td>53.492223</td>\n",
       "      <td>49.301302</td>\n",
       "      <td>POINT (49.30130 53.49222)</td>\n",
       "    </tr>\n",
       "    <tr>\n",
       "      <th>1</th>\n",
       "      <td>stop__9854819</td>\n",
       "      <td>53.492223</td>\n",
       "      <td>49.301302</td>\n",
       "      <td>stop__9854818</td>\n",
       "      <td>53.492541</td>\n",
       "      <td>49.300683</td>\n",
       "      <td>POINT (49.30130 53.49222)</td>\n",
       "    </tr>\n",
       "    <tr>\n",
       "      <th>2</th>\n",
       "      <td>stop__9854363</td>\n",
       "      <td>53.476237</td>\n",
       "      <td>49.327122</td>\n",
       "      <td>stop__9854363</td>\n",
       "      <td>53.476237</td>\n",
       "      <td>49.327122</td>\n",
       "      <td>POINT (49.30130 53.49222)</td>\n",
       "    </tr>\n",
       "    <tr>\n",
       "      <th>3</th>\n",
       "      <td>stop__9854363</td>\n",
       "      <td>53.476237</td>\n",
       "      <td>49.327122</td>\n",
       "      <td>stop__9854820</td>\n",
       "      <td>53.476369</td>\n",
       "      <td>49.326853</td>\n",
       "      <td>POINT (49.30130 53.49222)</td>\n",
       "    </tr>\n",
       "    <tr>\n",
       "      <th>4</th>\n",
       "      <td>stop__9854366</td>\n",
       "      <td>53.475968</td>\n",
       "      <td>49.332976</td>\n",
       "      <td>stop__9854366</td>\n",
       "      <td>53.475968</td>\n",
       "      <td>49.332976</td>\n",
       "      <td>POINT (49.30130 53.49222)</td>\n",
       "    </tr>\n",
       "    <tr>\n",
       "      <th>...</th>\n",
       "      <td>...</td>\n",
       "      <td>...</td>\n",
       "      <td>...</td>\n",
       "      <td>...</td>\n",
       "      <td>...</td>\n",
       "      <td>...</td>\n",
       "      <td>...</td>\n",
       "    </tr>\n",
       "    <tr>\n",
       "      <th>161</th>\n",
       "      <td>3453030055</td>\n",
       "      <td>53.542545</td>\n",
       "      <td>49.387210</td>\n",
       "      <td>stop__9854562</td>\n",
       "      <td>53.542865</td>\n",
       "      <td>49.387136</td>\n",
       "      <td>POINT (49.30130 53.49222)</td>\n",
       "    </tr>\n",
       "    <tr>\n",
       "      <th>162</th>\n",
       "      <td>stop__9854562</td>\n",
       "      <td>53.542865</td>\n",
       "      <td>49.387136</td>\n",
       "      <td>3453030055</td>\n",
       "      <td>53.542545</td>\n",
       "      <td>49.387210</td>\n",
       "      <td>POINT (49.30130 53.49222)</td>\n",
       "    </tr>\n",
       "    <tr>\n",
       "      <th>163</th>\n",
       "      <td>stop__9854562</td>\n",
       "      <td>53.542865</td>\n",
       "      <td>49.387136</td>\n",
       "      <td>stop__9854562</td>\n",
       "      <td>53.542865</td>\n",
       "      <td>49.387136</td>\n",
       "      <td>POINT (49.30130 53.49222)</td>\n",
       "    </tr>\n",
       "    <tr>\n",
       "      <th>164</th>\n",
       "      <td>3460817865</td>\n",
       "      <td>53.501648</td>\n",
       "      <td>49.274131</td>\n",
       "      <td>3460817685</td>\n",
       "      <td>53.501696</td>\n",
       "      <td>49.273943</td>\n",
       "      <td>POINT (49.30130 53.49222)</td>\n",
       "    </tr>\n",
       "    <tr>\n",
       "      <th>165</th>\n",
       "      <td>3460817865</td>\n",
       "      <td>53.501648</td>\n",
       "      <td>49.274131</td>\n",
       "      <td>3460817865</td>\n",
       "      <td>53.501648</td>\n",
       "      <td>49.274131</td>\n",
       "      <td>POINT (49.30130 53.49222)</td>\n",
       "    </tr>\n",
       "  </tbody>\n",
       "</table>\n",
       "<p>107 rows × 7 columns</p>\n",
       "</div>"
      ],
      "text/plain": [
       "         ssId_left  ss_lat_left  ss_long_left     ssId_right  ss_lat_right  \\\n",
       "0    stop__9854819    53.492223     49.301302  stop__9854819     53.492223   \n",
       "1    stop__9854819    53.492223     49.301302  stop__9854818     53.492541   \n",
       "2    stop__9854363    53.476237     49.327122  stop__9854363     53.476237   \n",
       "3    stop__9854363    53.476237     49.327122  stop__9854820     53.476369   \n",
       "4    stop__9854366    53.475968     49.332976  stop__9854366     53.475968   \n",
       "..             ...          ...           ...            ...           ...   \n",
       "161     3453030055    53.542545     49.387210  stop__9854562     53.542865   \n",
       "162  stop__9854562    53.542865     49.387136     3453030055     53.542545   \n",
       "163  stop__9854562    53.542865     49.387136  stop__9854562     53.542865   \n",
       "164     3460817865    53.501648     49.274131     3460817685     53.501696   \n",
       "165     3460817865    53.501648     49.274131     3460817865     53.501648   \n",
       "\n",
       "     ss_long_right                   geometry  \n",
       "0        49.301302  POINT (49.30130 53.49222)  \n",
       "1        49.300683  POINT (49.30130 53.49222)  \n",
       "2        49.327122  POINT (49.30130 53.49222)  \n",
       "3        49.326853  POINT (49.30130 53.49222)  \n",
       "4        49.332976  POINT (49.30130 53.49222)  \n",
       "..             ...                        ...  \n",
       "161      49.387136  POINT (49.30130 53.49222)  \n",
       "162      49.387210  POINT (49.30130 53.49222)  \n",
       "163      49.387136  POINT (49.30130 53.49222)  \n",
       "164      49.273943  POINT (49.30130 53.49222)  \n",
       "165      49.274131  POINT (49.30130 53.49222)  \n",
       "\n",
       "[107 rows x 7 columns]"
      ]
     },
     "execution_count": 322,
     "metadata": {},
     "output_type": "execute_result"
    }
   ],
   "source": [
    "stops_pares"
   ]
  },
  {
   "cell_type": "code",
   "execution_count": null,
   "metadata": {},
   "outputs": [],
   "source": []
  },
  {
   "cell_type": "code",
   "execution_count": 323,
   "metadata": {},
   "outputs": [],
   "source": [
    "stops_pares_group=stops_pares.groupby(['ssId_left','ss_lat_left','ss_long_left'])['ssId_right'].apply(list).reset_index()\n",
    "stops_pares_group2=stops_pares.groupby(['ssId_left','ss_lat_left','ss_long_left'])['ss_lat_right'].apply(list).reset_index()\n",
    "stops_pares_group3=stops_pares.groupby(['ssId_left','ss_lat_left','ss_long_left'])['ss_long_right'].apply(list).reset_index()"
   ]
  },
  {
   "cell_type": "code",
   "execution_count": 324,
   "metadata": {},
   "outputs": [],
   "source": [
    "stops_pares_group4=stops_pares.groupby(['ssId_left','ss_lat_left','ss_long_left']).agg({'ss_lat_right': np.mean}).reset_index().rename(columns={'ss_lat_right':'ss_lat'})\n",
    "stops_pares_group5=stops_pares.groupby(['ssId_left','ss_lat_left','ss_long_left']).agg({'ss_long_right': np.mean}).reset_index().rename(columns={'ss_long_right':'ss_long'})"
   ]
  },
  {
   "cell_type": "code",
   "execution_count": 325,
   "metadata": {},
   "outputs": [],
   "source": [
    "stops_pares_group=stops_pares_group.merge(stops_pares_group2,on=['ssId_left','ss_lat_left','ss_long_left'],how='left')\\\n",
    ".merge(stops_pares_group3,on=['ssId_left','ss_lat_left','ss_long_left'],how='left')\\\n",
    ".merge(stops_pares_group4,on=['ssId_left','ss_lat_left','ss_long_left'],how='left')\\\n",
    ".merge(stops_pares_group5,on=['ssId_left','ss_lat_left','ss_long_left'],how='left')"
   ]
  },
  {
   "cell_type": "code",
   "execution_count": 326,
   "metadata": {},
   "outputs": [],
   "source": [
    "sites=pd.DataFrame(stops_pares_group[['ss_lat','ss_long']].drop_duplicates().reset_index())"
   ]
  },
  {
   "cell_type": "code",
   "execution_count": 327,
   "metadata": {},
   "outputs": [],
   "source": [
    "sites=sites.rename(columns={'index':'site_id'})"
   ]
  },
  {
   "cell_type": "code",
   "execution_count": 328,
   "metadata": {},
   "outputs": [],
   "source": [
    "stops_pares_group=stops_pares_group.merge(sites,on=['ss_lat','ss_long'],how='left')"
   ]
  },
  {
   "cell_type": "code",
   "execution_count": 329,
   "metadata": {},
   "outputs": [],
   "source": [
    "stops_pares_group.to_csv('stops_sites_DOP.csv')"
   ]
  },
  {
   "cell_type": "code",
   "execution_count": 219,
   "metadata": {},
   "outputs": [
    {
     "data": {
      "text/plain": [
       "583"
      ]
     },
     "execution_count": 219,
     "metadata": {},
     "output_type": "execute_result"
    }
   ],
   "source": [
    "len(stops_pares_group)"
   ]
  },
  {
   "cell_type": "code",
   "execution_count": 242,
   "metadata": {},
   "outputs": [],
   "source": [
    "stops_pares_group=pd.read_csv('stops_sites_coordinates.csv')"
   ]
  },
  {
   "cell_type": "code",
   "execution_count": 243,
   "metadata": {},
   "outputs": [],
   "source": [
    "stops_pares_group=stops_pares_group[['ssId_left','ss_lat_left','ss_long_left','site_id']]"
   ]
  },
  {
   "cell_type": "code",
   "execution_count": 244,
   "metadata": {},
   "outputs": [],
   "source": [
    "site_group=stops_pares_group.groupby(['site_id']).agg({'ss_lat_left': np.mean,'ss_long_left': np.mean}).reset_index().rename(columns={'ss_lat_left':'ss_lat','ss_long_left':'ss_long'})"
   ]
  },
  {
   "cell_type": "code",
   "execution_count": 245,
   "metadata": {},
   "outputs": [],
   "source": [
    "site_group['site_id_old']=site_group['site_id']"
   ]
  },
  {
   "cell_type": "code",
   "execution_count": 246,
   "metadata": {},
   "outputs": [],
   "source": [
    "site_group['site_id']=site_group.index"
   ]
  },
  {
   "cell_type": "code",
   "execution_count": 279,
   "metadata": {},
   "outputs": [],
   "source": [
    "site_group.to_csv('sites_coordinate.csv', index=False)"
   ]
  },
  {
   "cell_type": "code",
   "execution_count": 248,
   "metadata": {},
   "outputs": [],
   "source": [
    "stops_pares_group=stops_pares_group.merge(site_group, left_on='site_id', right_on='site_id_old')"
   ]
  },
  {
   "cell_type": "code",
   "execution_count": 250,
   "metadata": {},
   "outputs": [],
   "source": [
    "stops_pares_group=stops_pares_group[['ssId_left','ss_lat','ss_long','site_id_y']]"
   ]
  },
  {
   "cell_type": "code",
   "execution_count": 260,
   "metadata": {},
   "outputs": [
    {
     "data": {
      "text/html": [
       "<div>\n",
       "<style scoped>\n",
       "    .dataframe tbody tr th:only-of-type {\n",
       "        vertical-align: middle;\n",
       "    }\n",
       "\n",
       "    .dataframe tbody tr th {\n",
       "        vertical-align: top;\n",
       "    }\n",
       "\n",
       "    .dataframe thead th {\n",
       "        text-align: right;\n",
       "    }\n",
       "</style>\n",
       "<table border=\"1\" class=\"dataframe\">\n",
       "  <thead>\n",
       "    <tr style=\"text-align: right;\">\n",
       "      <th></th>\n",
       "      <th>ssId_left</th>\n",
       "      <th>ss_lat</th>\n",
       "      <th>ss_long</th>\n",
       "      <th>site_id_y</th>\n",
       "    </tr>\n",
       "  </thead>\n",
       "  <tbody>\n",
       "    <tr>\n",
       "      <th>0</th>\n",
       "      <td>1543173613</td>\n",
       "      <td>53.473269</td>\n",
       "      <td>49.478080</td>\n",
       "      <td>0</td>\n",
       "    </tr>\n",
       "    <tr>\n",
       "      <th>1</th>\n",
       "      <td>stop__9854694</td>\n",
       "      <td>53.473269</td>\n",
       "      <td>49.478080</td>\n",
       "      <td>0</td>\n",
       "    </tr>\n",
       "    <tr>\n",
       "      <th>2</th>\n",
       "      <td>1543173820</td>\n",
       "      <td>53.577073</td>\n",
       "      <td>49.425409</td>\n",
       "      <td>1</td>\n",
       "    </tr>\n",
       "    <tr>\n",
       "      <th>3</th>\n",
       "      <td>1543173824</td>\n",
       "      <td>53.577073</td>\n",
       "      <td>49.425409</td>\n",
       "      <td>1</td>\n",
       "    </tr>\n",
       "    <tr>\n",
       "      <th>4</th>\n",
       "      <td>1543174318</td>\n",
       "      <td>53.553636</td>\n",
       "      <td>49.287731</td>\n",
       "      <td>2</td>\n",
       "    </tr>\n",
       "    <tr>\n",
       "      <th>...</th>\n",
       "      <td>...</td>\n",
       "      <td>...</td>\n",
       "      <td>...</td>\n",
       "      <td>...</td>\n",
       "    </tr>\n",
       "    <tr>\n",
       "      <th>578</th>\n",
       "      <td>stop__9854794</td>\n",
       "      <td>53.539574</td>\n",
       "      <td>49.567475</td>\n",
       "      <td>204</td>\n",
       "    </tr>\n",
       "    <tr>\n",
       "      <th>579</th>\n",
       "      <td>stop__9854815</td>\n",
       "      <td>53.498960</td>\n",
       "      <td>49.404614</td>\n",
       "      <td>205</td>\n",
       "    </tr>\n",
       "    <tr>\n",
       "      <th>580</th>\n",
       "      <td>stop__9854816</td>\n",
       "      <td>53.498960</td>\n",
       "      <td>49.404614</td>\n",
       "      <td>205</td>\n",
       "    </tr>\n",
       "    <tr>\n",
       "      <th>581</th>\n",
       "      <td>stop__9854838</td>\n",
       "      <td>53.479345</td>\n",
       "      <td>49.515677</td>\n",
       "      <td>206</td>\n",
       "    </tr>\n",
       "    <tr>\n",
       "      <th>582</th>\n",
       "      <td>stop__9854840</td>\n",
       "      <td>53.476459</td>\n",
       "      <td>49.522565</td>\n",
       "      <td>207</td>\n",
       "    </tr>\n",
       "  </tbody>\n",
       "</table>\n",
       "<p>583 rows × 4 columns</p>\n",
       "</div>"
      ],
      "text/plain": [
       "         ssId_left     ss_lat    ss_long  site_id_y\n",
       "0       1543173613  53.473269  49.478080          0\n",
       "1    stop__9854694  53.473269  49.478080          0\n",
       "2       1543173820  53.577073  49.425409          1\n",
       "3       1543173824  53.577073  49.425409          1\n",
       "4       1543174318  53.553636  49.287731          2\n",
       "..             ...        ...        ...        ...\n",
       "578  stop__9854794  53.539574  49.567475        204\n",
       "579  stop__9854815  53.498960  49.404614        205\n",
       "580  stop__9854816  53.498960  49.404614        205\n",
       "581  stop__9854838  53.479345  49.515677        206\n",
       "582  stop__9854840  53.476459  49.522565        207\n",
       "\n",
       "[583 rows x 4 columns]"
      ]
     },
     "execution_count": 260,
     "metadata": {},
     "output_type": "execute_result"
    }
   ],
   "source": [
    "stops_pares_group"
   ]
  },
  {
   "cell_type": "code",
   "execution_count": 273,
   "metadata": {},
   "outputs": [],
   "source": [
    "stop_seq=stop_seq.merge(stops_pares_group[['ssId_left','site_id_y']], left_on='ssId',right_on='ssId_left')"
   ]
  },
  {
   "cell_type": "code",
   "execution_count": 274,
   "metadata": {},
   "outputs": [],
   "source": [
    "stop_seq=stop_seq[['ssId','rc_orderby','ss_lat','ss_long','rl_id','mr_id','site_id_y']]"
   ]
  },
  {
   "cell_type": "code",
   "execution_count": 275,
   "metadata": {},
   "outputs": [],
   "source": [
    "stop_seq=stop_seq.rename(columns={'site_id_y':'site_id'})"
   ]
  },
  {
   "cell_type": "code",
   "execution_count": 281,
   "metadata": {},
   "outputs": [],
   "source": [
    "stop_seq=stop_seq.sort_values(by=['mr_id','rl_id','rc_orderby'])"
   ]
  },
  {
   "cell_type": "code",
   "execution_count": 282,
   "metadata": {},
   "outputs": [],
   "source": [
    "stop_seq.to_csv('stop_seq.csv',index=False)"
   ]
  },
  {
   "cell_type": "code",
   "execution_count": null,
   "metadata": {},
   "outputs": [],
   "source": []
  }
 ],
 "metadata": {
  "kernelspec": {
   "display_name": "Python 3",
   "language": "python",
   "name": "python3"
  },
  "language_info": {
   "codemirror_mode": {
    "name": "ipython",
    "version": 3
   },
   "file_extension": ".py",
   "mimetype": "text/x-python",
   "name": "python",
   "nbconvert_exporter": "python",
   "pygments_lexer": "ipython3",
   "version": "3.8.3"
  }
 },
 "nbformat": 4,
 "nbformat_minor": 4
}
