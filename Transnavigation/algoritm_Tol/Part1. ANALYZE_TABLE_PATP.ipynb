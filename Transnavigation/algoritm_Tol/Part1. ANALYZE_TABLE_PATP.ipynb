{
 "cells": [
  {
   "cell_type": "code",
   "execution_count": 43,
   "metadata": {},
   "outputs": [],
   "source": [
    "import pandas as pd\n",
    "import geopandas as gpd\n",
    "import numpy as np\n",
    "import matplotlib.pyplot as plt\n",
    "from datetime import datetime\n",
    "import os\n",
    "from tqdm import tqdm_notebook as tqdm\n",
    "from shapely.geometry import LineString\n",
    "from shapely.geometry import Point\n",
    "from math import radians, cos, sin, asin, sqrt"
   ]
  },
  {
   "cell_type": "code",
   "execution_count": 2,
   "metadata": {},
   "outputs": [],
   "source": [
    "path='./data/'"
   ]
  },
  {
   "cell_type": "code",
   "execution_count": null,
   "metadata": {},
   "outputs": [],
   "source": [
    "#patp2=pd.read_csv(path+'21-09-2020-30-09-2020.csv',sep='\\s+', error_bad_lines=False, skiprows=100001, nrows=1000000, header=None)"
   ]
  },
  {
   "cell_type": "code",
   "execution_count": 4,
   "metadata": {},
   "outputs": [],
   "source": [
    "patp=pd.read_csv(path+'2020-09-28.csv',sep=',',header=None,skiprows=1)\n",
    "patp=patp.rename(columns={0: 'MODULEID' , 1:'lat' , 2:'long', 3:'SPEED', 4:'SATCOUNT' , 5:'LOCALEVENTTIME', 6:'data', 7:'time'})\n",
    "id_gosnomer=pd.read_csv(path+'id-gosnomer.csv', sep='\\s+')\n",
    "patp['lat']=patp['lat'].str.replace(',','.').astype(float)\n",
    "patp['long']=patp['long'].str.replace(',','.').astype(float)\n",
    "patp.to_csv(path+'2020-09-28.csv',index=False)"
   ]
  },
  {
   "cell_type": "code",
   "execution_count": 11,
   "metadata": {},
   "outputs": [],
   "source": [
    "patp_gpd = gpd.GeoDataFrame(patp,  geometry = [Point(xy) for xy in zip(patp['long'], patp['lat'])])\n",
    "patp_gpd=patp_gpd[['MODULEID','geometry','time']]\n",
    "patp_gpd.crs='epsg:4326'\n",
    "patp_gpd.to_file(path+\"2020_09_28.json\", driver=\"GeoJSON\")"
   ]
  },
  {
   "cell_type": "markdown",
   "metadata": {},
   "source": [
    "## Вырезаем точки трека,близкие к остановкам для автобусов ПАТП:"
   ]
  },
  {
   "cell_type": "code",
   "execution_count": 97,
   "metadata": {},
   "outputs": [],
   "source": [
    "# Cчитываем файлы, содержащие треки за 28 сентября 2020 года\n",
    "df_4 = pd.read_csv(path + '2020-09-30.csv')\n",
    "\n",
    "# Считываем файл с последовательным списком остановок на маршрутах ('stop_seq.csv')\n",
    "stop_seq = pd.read_csv(path + 'stop_seq_patp_for_28.csv', sep = ';', encoding = 'utf8')"
   ]
  },
  {
   "cell_type": "code",
   "execution_count": 98,
   "metadata": {},
   "outputs": [],
   "source": [
    "df_4=df_4.rename(columns={'0': 'MODULEID' , '1':'lat' , '2':'long', '3':'SPEED', '4':'SATCOUNT' , '5':'LOCALEVENTTIME', '6':'data', '7':'time'})"
   ]
  },
  {
   "cell_type": "code",
   "execution_count": 99,
   "metadata": {},
   "outputs": [],
   "source": [
    "df_4=df_4[['MODULEID','lat','long','data','time']]\n",
    "df_4['lat']=df_4['lat'].str.replace(',','.').astype(float)\n",
    "df_4['long']=df_4['long'].str.replace(',','.').astype(float)"
   ]
  },
  {
   "cell_type": "code",
   "execution_count": 100,
   "metadata": {},
   "outputs": [],
   "source": [
    "df_4_gpd = gpd.GeoDataFrame(df_4,  geometry = [Point(xy) for xy in zip(df_4['long'], df_4['lat'])])\n",
    "df_4_gpd.crs='epsg:4326'"
   ]
  },
  {
   "cell_type": "code",
   "execution_count": 101,
   "metadata": {},
   "outputs": [],
   "source": [
    "stop_seq_gpd = gpd.GeoDataFrame(stop_seq,  geometry = [Point(xy) for xy in zip(stop_seq['ss_long'], stop_seq['ss_lat'])])\n",
    "stop_seq_gpd.crs='epsg:4326'"
   ]
  },
  {
   "cell_type": "code",
   "execution_count": 102,
   "metadata": {},
   "outputs": [
    {
     "data": {
      "text/plain": [
       "<matplotlib.axes._subplots.AxesSubplot at 0x1f5cc56a7f0>"
      ]
     },
     "execution_count": 102,
     "metadata": {},
     "output_type": "execute_result"
    },
    {
     "data": {
      "image/png": "[encoded data removed]",
      "text/plain": [
       "<Figure size 432x288 with 1 Axes>"
      ]
     },
     "metadata": {
      "needs_background": "light"
     },
     "output_type": "display_data"
    }
   ],
   "source": [
    "df_4_gpd.plot()"
   ]
  },
  {
   "cell_type": "code",
   "execution_count": 103,
   "metadata": {},
   "outputs": [
    {
     "data": {
      "text/plain": [
       "<matplotlib.axes._subplots.AxesSubplot at 0x1f5c805e070>"
      ]
     },
     "execution_count": 103,
     "metadata": {},
     "output_type": "execute_result"
    },
    {
     "data": {
      "image/png": "[encoded data removed]",
      "text/plain": [
       "<Figure size 432x288 with 1 Axes>"
      ]
     },
     "metadata": {
      "needs_background": "light"
     },
     "output_type": "display_data"
    }
   ],
   "source": [
    "stop_seq_gpd.plot()"
   ]
  },
  {
   "cell_type": "code",
   "execution_count": 104,
   "metadata": {},
   "outputs": [],
   "source": [
    "#пересекли треки с остановками с буфером 100 метров\n",
    "stops_with_buff = stop_seq_gpd.to_crs('epsg:32640')\n",
    "stops_with_buff.geometry = stops_with_buff.geometry.buffer(100)\n",
    "stops_with_buff = stops_with_buff.to_crs('epsg:4326')\n",
    "df_4_small=gpd.sjoin(df_4_gpd, stops_with_buff, how='left', op='within', lsuffix='left', rsuffix='right')"
   ]
  },
  {
   "cell_type": "code",
   "execution_count": 105,
   "metadata": {},
   "outputs": [],
   "source": [
    "df_4_small=df_4_small[df_4_small['ssId'].notna()]"
   ]
  },
  {
   "cell_type": "code",
   "execution_count": 106,
   "metadata": {},
   "outputs": [
    {
     "data": {
      "text/plain": [
       "475428"
      ]
     },
     "execution_count": 106,
     "metadata": {},
     "output_type": "execute_result"
    }
   ],
   "source": [
    "len(df_4_small)"
   ]
  },
  {
   "cell_type": "code",
   "execution_count": 107,
   "metadata": {},
   "outputs": [],
   "source": [
    "# Расчёт растояния между координатами\n",
    "def haversine(lon1, lat1, lon2, lat2):\n",
    "    \"\"\"\n",
    "    Calculate the great circle distance between two points on the earth (specified in decimal degrees)\n",
    "    \"\"\"\n",
    "    # convert decimal degrees to radians\n",
    "    lon1, lat1, lon2, lat2 = map(radians, [lon1, lat1, lon2, lat2])\n",
    "    \n",
    "    # haversine formula \n",
    "    dlon = lon2 - lon1\n",
    "    dlat = lat2 - lat1\n",
    "    a = sin(dlat/2)**2 + cos(lat1) * cos(lat2) * sin(dlon/2)**2\n",
    "    c = 2 * asin(sqrt(a))\n",
    "    r = 6371 * 1000 # Radius of earth in kilometers. Use 3956 for miles\n",
    "    return c * r"
   ]
  },
  {
   "cell_type": "code",
   "execution_count": 108,
   "metadata": {},
   "outputs": [],
   "source": [
    "df_4_small['len'] = 0\n",
    "df_4_small['len'] = df_4_small.apply(lambda row: haversine(row.long, row.lat, row.ss_long, row.ss_lat), axis = 1)"
   ]
  },
  {
   "cell_type": "code",
   "execution_count": 130,
   "metadata": {},
   "outputs": [],
   "source": [
    "df_4_small['time2']=pd.to_datetime(df_4_small['time'])\n",
    "df_4_small['hour']=df_4_small['time2'].dt.hour\n",
    "df_4_small['min']=df_4_small['time2'].dt.minute\n",
    "df_4_small['sec']=df_4_small['time2'].dt.second\n",
    "df_4_small['time']=(df_4_small['hour'].astype(int))*3600+(df_4_small['min'].astype(int))*60+df_4_small['sec'].astype(int)"
   ]
  },
  {
   "cell_type": "code",
   "execution_count": 110,
   "metadata": {},
   "outputs": [],
   "source": [
    "df_4_small2=df_4_small[['mr_id','rl_id','rc_orderby','ssId','MODULEID','time','len','geometry','ss_lat','ss_long','route_number']]"
   ]
  },
  {
   "cell_type": "code",
   "execution_count": 111,
   "metadata": {},
   "outputs": [],
   "source": [
    "df_4_small2.to_csv('for_perl_patp_2020_09_30.csv',index=False,sep=';')"
   ]
  },
  {
   "cell_type": "markdown",
   "metadata": {},
   "source": [
    "## Формируем выгрузку для привязки валидаций!"
   ]
  },
  {
   "cell_type": "code",
   "execution_count": 284,
   "metadata": {},
   "outputs": [],
   "source": [
    "df_4_small3=pd.read_csv('for_perl_patp_2020_09_30.csv',sep=';')"
   ]
  },
  {
   "cell_type": "code",
   "execution_count": 285,
   "metadata": {},
   "outputs": [],
   "source": [
    "df_4_small3['time2']=pd.to_datetime(df_4_small3['time'])\n",
    "df_4_small3['hour']=df_4_small3['time2'].dt.hour\n",
    "df_4_small3['min']=df_4_small3['time2'].dt.minute\n",
    "df_4_small3['sec']=df_4_small3['time2'].dt.second"
   ]
  },
  {
   "cell_type": "code",
   "execution_count": 286,
   "metadata": {},
   "outputs": [],
   "source": [
    "df_4_small3['time_in_sec']=(df_4_small3['hour'].astype(int))*3600+(df_4_small3['min'].astype(int))*60+(df_4_small3['sec'].astype(int))"
   ]
  },
  {
   "cell_type": "code",
   "execution_count": 287,
   "metadata": {},
   "outputs": [],
   "source": [
    "df_4_small3=df_4_small3.sort_values(by=['mr_id','rl_id','MODULEID','time_in_sec','rc_orderby'])"
   ]
  },
  {
   "cell_type": "code",
   "execution_count": 288,
   "metadata": {},
   "outputs": [],
   "source": [
    "df_4_small3['time_in_sec2']=df_4_small3.groupby(['mr_id','rl_id','MODULEID'])['time_in_sec'].shift(-1).astype('Int64')"
   ]
  },
  {
   "cell_type": "markdown",
   "metadata": {},
   "source": [
    "Убираем строки, которые идут друг за дружкой с одной и той же остановкой"
   ]
  },
  {
   "cell_type": "code",
   "execution_count": 289,
   "metadata": {},
   "outputs": [
    {
     "name": "stderr",
     "output_type": "stream",
     "text": [
      "<ipython-input-289-aa9a0b545165>:3: SettingWithCopyWarning: \n",
      "A value is trying to be set on a copy of a slice from a DataFrame.\n",
      "Try using .loc[row_indexer,col_indexer] = value instead\n",
      "\n",
      "See the caveats in the documentation: https://pandas.pydata.org/pandas-docs/stable/user_guide/indexing.html#returning-a-view-versus-a-copy\n",
      "  df_4_part['time_start']=df_4_part['time_in_sec']\n"
     ]
    }
   ],
   "source": [
    "df_4_small3['rc_orderby2'] = df_4_small3.groupby(['mr_id','rl_id','MODULEID'])['rc_orderby'].shift(-1).astype('Int64')\n",
    "df_4_part=df_4_small3[~(df_4_small3['rc_orderby2']==df_4_small3['rc_orderby'])]\n",
    "df_4_part['time_start']=df_4_part['time_in_sec']"
   ]
  },
  {
   "cell_type": "code",
   "execution_count": 290,
   "metadata": {},
   "outputs": [
    {
     "name": "stderr",
     "output_type": "stream",
     "text": [
      "<ipython-input-290-eb3b01c8adde>:1: SettingWithCopyWarning: \n",
      "A value is trying to be set on a copy of a slice from a DataFrame.\n",
      "Try using .loc[row_indexer,col_indexer] = value instead\n",
      "\n",
      "See the caveats in the documentation: https://pandas.pydata.org/pandas-docs/stable/user_guide/indexing.html#returning-a-view-versus-a-copy\n",
      "  df_4_part['time_finish'] = df_4_part.groupby(['mr_id','rl_id','MODULEID'])['time_start'].shift(-1).astype('Int64')\n"
     ]
    }
   ],
   "source": [
    "df_4_part['time_finish'] = df_4_part.groupby(['mr_id','rl_id','MODULEID'])['time_start'].shift(-1).astype('Int64')"
   ]
  },
  {
   "cell_type": "code",
   "execution_count": 291,
   "metadata": {},
   "outputs": [],
   "source": [
    "df_4_part=df_4_part[['mr_id','rl_id','MODULEID','rc_orderby','len','ssId','time','len','time_start','time_finish','ss_lat','ss_long','geometry']]"
   ]
  },
  {
   "cell_type": "markdown",
   "metadata": {},
   "source": [
    "## Выбираем только те последовательности, где между двумя посл. отметками прошло не больше 40 минут"
   ]
  },
  {
   "cell_type": "code",
   "execution_count": 292,
   "metadata": {},
   "outputs": [],
   "source": [
    "df_4_part['delta']=df_4_part['time_finish']-df_4_part['time_start']\n",
    "df_4_part['delta2']=df_4_part.groupby(['mr_id','rl_id','MODULEID'])['delta'].shift(1).astype('Int64')\n",
    "df_4_part=df_4_part[((df_4_part['delta']<60*40)&(df_4_part['delta']>0))|(df_4_part['delta'].isna())].\\\n",
    "append(df_4_part[(df_4_part['delta2']<60*40)&(df_4_part['delta2']>0)]).\\\n",
    "append(df_4_part[df_4_part['rc_orderby']==1]) #добавили конечные (там отстои могут быть очень долго)\n",
    "\n",
    "df_4_part=df_4_part.sort_values(by=['mr_id','rl_id','MODULEID','time_start','rc_orderby'])\n",
    "\n",
    "df_4_part=df_4_part[['mr_id','rl_id','MODULEID','rc_orderby','len','ssId','time','len','time_start','time_finish','ss_lat','ss_long','geometry']].drop_duplicates()"
   ]
  },
  {
   "cell_type": "code",
   "execution_count": 293,
   "metadata": {},
   "outputs": [
    {
     "data": {
      "text/html": [
       "<div>\n",
       "<style scoped>\n",
       "    .dataframe tbody tr th:only-of-type {\n",
       "        vertical-align: middle;\n",
       "    }\n",
       "\n",
       "    .dataframe tbody tr th {\n",
       "        vertical-align: top;\n",
       "    }\n",
       "\n",
       "    .dataframe thead th {\n",
       "        text-align: right;\n",
       "    }\n",
       "</style>\n",
       "<table border=\"1\" class=\"dataframe\">\n",
       "  <thead>\n",
       "    <tr style=\"text-align: right;\">\n",
       "      <th></th>\n",
       "      <th>mr_id</th>\n",
       "      <th>rl_id</th>\n",
       "      <th>MODULEID</th>\n",
       "      <th>rc_orderby</th>\n",
       "      <th>len</th>\n",
       "      <th>len</th>\n",
       "      <th>ssId</th>\n",
       "      <th>time</th>\n",
       "      <th>len</th>\n",
       "      <th>len</th>\n",
       "      <th>time_start</th>\n",
       "      <th>time_finish</th>\n",
       "      <th>ss_lat</th>\n",
       "      <th>ss_long</th>\n",
       "      <th>geometry</th>\n",
       "    </tr>\n",
       "  </thead>\n",
       "  <tbody>\n",
       "  </tbody>\n",
       "</table>\n",
       "</div>"
      ],
      "text/plain": [
       "Empty DataFrame\n",
       "Columns: [mr_id, rl_id, MODULEID, rc_orderby, len, len, ssId, time, len, len, time_start, time_finish, ss_lat, ss_long, geometry]\n",
       "Index: []"
      ]
     },
     "execution_count": 293,
     "metadata": {},
     "output_type": "execute_result"
    }
   ],
   "source": [
    "df_4_part[(df_4_part['rl_id']==2227623156) & (df_4_part['MODULEID']==8560)]"
   ]
  },
  {
   "cell_type": "markdown",
   "metadata": {},
   "source": [
    "## Выбираем только те последовательности, где номера остановок растут "
   ]
  },
  {
   "cell_type": "code",
   "execution_count": 294,
   "metadata": {},
   "outputs": [
    {
     "data": {
      "text/plain": [
       "2816"
      ]
     },
     "execution_count": 294,
     "metadata": {},
     "output_type": "execute_result"
    }
   ],
   "source": [
    "len(df_4_part)"
   ]
  },
  {
   "cell_type": "code",
   "execution_count": 295,
   "metadata": {},
   "outputs": [],
   "source": [
    "df_4_part['rc_orderby2'] = df_4_part.groupby(['mr_id','rl_id','MODULEID'])['rc_orderby'].shift(-1).astype('Int64')\n",
    "df_4_part=df_4_part[(df_4_part['rc_orderby2']>df_4_part['rc_orderby'])|(df_4_part['rc_orderby2'].isna())]"
   ]
  },
  {
   "cell_type": "markdown",
   "metadata": {},
   "source": [
    "## Выбираем только те последовательности, где остановок как минимум 50% из последовательности встретилось"
   ]
  },
  {
   "cell_type": "code",
   "execution_count": 296,
   "metadata": {},
   "outputs": [],
   "source": [
    "df_4_count=pd.DataFrame(df_4_part.groupby(['mr_id','rl_id','MODULEID']).agg({'ssId': pd.Series.nunique}).reset_index())"
   ]
  },
  {
   "cell_type": "code",
   "execution_count": 297,
   "metadata": {},
   "outputs": [
    {
     "data": {
      "text/html": [
       "<div>\n",
       "<style scoped>\n",
       "    .dataframe tbody tr th:only-of-type {\n",
       "        vertical-align: middle;\n",
       "    }\n",
       "\n",
       "    .dataframe tbody tr th {\n",
       "        vertical-align: top;\n",
       "    }\n",
       "\n",
       "    .dataframe thead th {\n",
       "        text-align: right;\n",
       "    }\n",
       "</style>\n",
       "<table border=\"1\" class=\"dataframe\">\n",
       "  <thead>\n",
       "    <tr style=\"text-align: right;\">\n",
       "      <th></th>\n",
       "      <th>rc_orderby</th>\n",
       "      <th>ssId</th>\n",
       "      <th>ss_lat</th>\n",
       "      <th>ss_long</th>\n",
       "      <th>rl_id</th>\n",
       "      <th>mr_id</th>\n",
       "      <th>route_number</th>\n",
       "      <th>geometry</th>\n",
       "    </tr>\n",
       "  </thead>\n",
       "  <tbody>\n",
       "    <tr>\n",
       "      <th>0</th>\n",
       "      <td>1</td>\n",
       "      <td>stop__9854427</td>\n",
       "      <td>53.557965</td>\n",
       "      <td>49.228861</td>\n",
       "      <td>2227623047</td>\n",
       "      <td>2227622934</td>\n",
       "      <td>12</td>\n",
       "      <td>POINT (49.22886 53.55796)</td>\n",
       "    </tr>\n",
       "    <tr>\n",
       "      <th>1</th>\n",
       "      <td>2</td>\n",
       "      <td>stop__9854425</td>\n",
       "      <td>53.557324</td>\n",
       "      <td>49.236213</td>\n",
       "      <td>2227623047</td>\n",
       "      <td>2227622934</td>\n",
       "      <td>12</td>\n",
       "      <td>POINT (49.23621 53.55732)</td>\n",
       "    </tr>\n",
       "  </tbody>\n",
       "</table>\n",
       "</div>"
      ],
      "text/plain": [
       "   rc_orderby           ssId     ss_lat    ss_long       rl_id       mr_id  \\\n",
       "0           1  stop__9854427  53.557965  49.228861  2227623047  2227622934   \n",
       "1           2  stop__9854425  53.557324  49.236213  2227623047  2227622934   \n",
       "\n",
       "  route_number                   geometry  \n",
       "0           12  POINT (49.22886 53.55796)  \n",
       "1           12  POINT (49.23621 53.55732)  "
      ]
     },
     "execution_count": 297,
     "metadata": {},
     "output_type": "execute_result"
    }
   ],
   "source": [
    "stop_seq[0:2]"
   ]
  },
  {
   "cell_type": "code",
   "execution_count": 298,
   "metadata": {},
   "outputs": [],
   "source": [
    "stop_seq_count=pd.DataFrame(stop_seq.groupby(['mr_id','rl_id']).agg({'ssId': pd.Series.nunique}).reset_index())"
   ]
  },
  {
   "cell_type": "code",
   "execution_count": 299,
   "metadata": {},
   "outputs": [],
   "source": [
    "df_4_count=df_4_count.merge(stop_seq_count,on=['mr_id','rl_id'],how='left')"
   ]
  },
  {
   "cell_type": "code",
   "execution_count": 300,
   "metadata": {},
   "outputs": [],
   "source": [
    "df_4_count=df_4_count.drop_duplicates()"
   ]
  },
  {
   "cell_type": "code",
   "execution_count": 301,
   "metadata": {},
   "outputs": [],
   "source": [
    "df_4_count['percent']=(df_4_count['ssId_y']-df_4_count['ssId_x'])/df_4_count['ssId_y']"
   ]
  },
  {
   "cell_type": "code",
   "execution_count": 302,
   "metadata": {},
   "outputs": [],
   "source": [
    "df_4_count=df_4_count[df_4_count['percent']>0.5]"
   ]
  },
  {
   "cell_type": "code",
   "execution_count": 303,
   "metadata": {},
   "outputs": [],
   "source": [
    "df_4_part=df_4_part.merge(df_4_count,on=['mr_id','rl_id','MODULEID'],how='left')"
   ]
  },
  {
   "cell_type": "code",
   "execution_count": 304,
   "metadata": {},
   "outputs": [],
   "source": [
    "df_4_part=df_4_part[df_4_part['percent'].notna()]"
   ]
  },
  {
   "cell_type": "code",
   "execution_count": 305,
   "metadata": {},
   "outputs": [],
   "source": [
    "df_4_part=df_4_part[['mr_id','rl_id','MODULEID','rc_orderby','ssId','time','time_start','time_finish','ss_lat','ss_long','geometry']]"
   ]
  },
  {
   "cell_type": "code",
   "execution_count": 306,
   "metadata": {},
   "outputs": [],
   "source": [
    "df_4_part.to_csv('res2020_09_30.csv', index=False)"
   ]
  }
 ],
 "metadata": {
  "kernelspec": {
   "display_name": "Python 3",
   "language": "python",
   "name": "python3"
  },
  "language_info": {
   "codemirror_mode": {
    "name": "ipython",
    "version": 3
   },
   "file_extension": ".py",
   "mimetype": "text/x-python",
   "name": "python",
   "nbconvert_exporter": "python",
   "pygments_lexer": "ipython3",
   "version": "3.8.3"
  }
 },
 "nbformat": 4,
 "nbformat_minor": 4
}
