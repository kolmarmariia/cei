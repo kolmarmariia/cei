{
 "cells": [
  {
   "cell_type": "code",
   "execution_count": 3,
   "metadata": {},
   "outputs": [],
   "source": [
    "import pandas as pd\n",
    "import sys; sys.path\n",
    "import descartes\n",
    "import geopandas as gpd\n",
    "import matplotlib.pyplot as plt \n",
    "import numpy as np\n",
    "import datetime as dt\n",
    "import sys\n",
    "from tqdm import tqdm_notebook as tqdm\n",
    "import geopandas as gpd\n",
    "from shapely.geometry import *\n",
    "from shapely.ops import *\n",
    "from geopandas import GeoDataFrame\n",
    "from geopandas.tools import sjoin, overlay\n",
    "from datetime import datetime, date, time\n",
    "import os\n",
    "import sqlalchemy\n",
    "import numpy as np\n",
    "import pandas as pd\n",
    "import geopandas as gpd\n",
    "from sqlalchemy import create_engine, MetaData, Table, Column, Integer, String\n",
    "from datetime import datetime\n",
    "from sqlalchemy import Column, text, create_engine\n",
    "from sqlalchemy.types import TIMESTAMP\n",
    "from sqlalchemy.dialects.mysql import BIGINT\n",
    "from sqlalchemy.ext.declarative import declarative_base\n",
    "from sqlalchemy.orm import sessionmaker\n",
    "import glob"
   ]
  },
  {
   "cell_type": "markdown",
   "metadata": {},
   "source": [
    "грузим остановки из базы"
   ]
  },
  {
   "cell_type": "code",
   "execution_count": 2,
   "metadata": {},
   "outputs": [],
   "source": [
    "engine = create_engine('postgresql://makolesnikova@infraeconomy.com:zahceelaS4aewie7ouyohjoFuphah9Gu@84.201.144.84:54327/cei_samara')\n",
    "meta = MetaData()\n",
    "sti_val = Table('routes_vehicletrackpoint', meta, autoload=True, autoload_with=engine)\n",
    "conn = engine.connect()\n",
    "Session = sessionmaker(bind = engine)\n",
    "session = Session()\n",
    "first_stop=pd.read_sql('select distinct t2.mr_id, tt.rl_id, tt.\"ssId\",tt.rc_orderby,t6.ss_name,t6.ss_lat,t6.ss_long \\\n",
    "  FROM public.\"transNavi_ReisStations\"  tt \\\n",
    "left join public.\"transNavi_Reis_segments\" t1 on tt.rl_id=t1.rl_id \\\n",
    "left join public.\"transNavi_MarshVariants\" t2 on t1.mv_id=t2.mv_id \\\n",
    "left join public.\"transNavi_Marshes\" t3 on t2.mr_id=t3.mr_id \\\n",
    "left join \"transNavi_StopStation\" t6 on tt.\"ssId\"=t6.\"ssId\" \\\n",
    "where rc_orderby=1', conn)"
   ]
  },
  {
   "cell_type": "code",
   "execution_count": null,
   "metadata": {},
   "outputs": [],
   "source": [
    "tracks=pd.read_sql('select * from public.\"routes_vehicletrackpoint\" where  mr_id=1 and date(timenav) =\\'2019-10-01\\'' ,conn)"
   ]
  },
  {
   "cell_type": "code",
   "execution_count": 161,
   "metadata": {},
   "outputs": [],
   "source": [
    "path =\".\\\\for_time\\\\bud\\\\\""
   ]
  },
  {
   "cell_type": "code",
   "execution_count": 164,
   "metadata": {},
   "outputs": [],
   "source": [
    "files = [f for f in os.listdir(path) if \"_3.csv\" in f]"
   ]
  },
  {
   "cell_type": "code",
   "execution_count": 165,
   "metadata": {},
   "outputs": [
    {
     "data": {
      "text/plain": [
       "['2020-10-02_s2_3.csv',\n",
       " '2020-10-02_s3_3.csv',\n",
       " '2020-10-02_s5_3.csv',\n",
       " '2020-10-02_s6_3.csv',\n",
       " '2020-10-02_s7_3.csv']"
      ]
     },
     "execution_count": 165,
     "metadata": {},
     "output_type": "execute_result"
    }
   ],
   "source": [
    "files"
   ]
  },
  {
   "cell_type": "code",
   "execution_count": 166,
   "metadata": {},
   "outputs": [],
   "source": [
    "df_4=pd.DataFrame()"
   ]
  },
  {
   "cell_type": "code",
   "execution_count": 167,
   "metadata": {},
   "outputs": [],
   "source": [
    "for file in files:\n",
    "    m = pd.read_csv(path+file, sep = '\\t', encoding='windows-1251')\n",
    "    df_4=df_4.append(m,ignore_index=True)\n",
    "    del m"
   ]
  },
  {
   "cell_type": "code",
   "execution_count": 168,
   "metadata": {},
   "outputs": [
    {
     "data": {
      "text/plain": [
       "1401"
      ]
     },
     "execution_count": 168,
     "metadata": {},
     "output_type": "execute_result"
    }
   ],
   "source": [
    "len(df_4)"
   ]
  },
  {
   "cell_type": "markdown",
   "metadata": {},
   "source": [
    "Анализ количества рейсов по маршуртам"
   ]
  },
  {
   "cell_type": "code",
   "execution_count": 38,
   "metadata": {},
   "outputs": [],
   "source": [
    "df_4['time']=pd.to_datetime(df_4['timenav'])\n",
    "df_4['hour']=df_4['time'].dt.hour\n",
    "df_4['min']=df_4['time'].dt.minute\n",
    "df_4_small_pd=df_4[['mr_id','tr_id','mr_name','hour','min','long','lat']].drop_duplicates()"
   ]
  },
  {
   "cell_type": "code",
   "execution_count": 39,
   "metadata": {},
   "outputs": [],
   "source": [
    "first_stop=first_stop[['mr_id','rc_orderby','ssId','ss_lat','ss_long']].drop_duplicates()"
   ]
  },
  {
   "cell_type": "code",
   "execution_count": 40,
   "metadata": {},
   "outputs": [
    {
     "data": {
      "text/html": [
       "<div>\n",
       "<style scoped>\n",
       "    .dataframe tbody tr th:only-of-type {\n",
       "        vertical-align: middle;\n",
       "    }\n",
       "\n",
       "    .dataframe tbody tr th {\n",
       "        vertical-align: top;\n",
       "    }\n",
       "\n",
       "    .dataframe thead th {\n",
       "        text-align: right;\n",
       "    }\n",
       "</style>\n",
       "<table border=\"1\" class=\"dataframe\">\n",
       "  <thead>\n",
       "    <tr style=\"text-align: right;\">\n",
       "      <th></th>\n",
       "      <th>mr_id</th>\n",
       "      <th>rc_orderby</th>\n",
       "      <th>ssId</th>\n",
       "      <th>ss_lat</th>\n",
       "      <th>ss_long</th>\n",
       "    </tr>\n",
       "  </thead>\n",
       "  <tbody>\n",
       "    <tr>\n",
       "      <th>0</th>\n",
       "      <td>1</td>\n",
       "      <td>1</td>\n",
       "      <td>80</td>\n",
       "      <td>53.384613</td>\n",
       "      <td>50.169362</td>\n",
       "    </tr>\n",
       "    <tr>\n",
       "      <th>1</th>\n",
       "      <td>1</td>\n",
       "      <td>1</td>\n",
       "      <td>552</td>\n",
       "      <td>53.187009</td>\n",
       "      <td>50.118634</td>\n",
       "    </tr>\n",
       "    <tr>\n",
       "      <th>2</th>\n",
       "      <td>1</td>\n",
       "      <td>1</td>\n",
       "      <td>13</td>\n",
       "      <td>53.303375</td>\n",
       "      <td>50.282002</td>\n",
       "    </tr>\n",
       "    <tr>\n",
       "      <th>5</th>\n",
       "      <td>1</td>\n",
       "      <td>1</td>\n",
       "      <td>66</td>\n",
       "      <td>53.303772</td>\n",
       "      <td>50.282262</td>\n",
       "    </tr>\n",
       "    <tr>\n",
       "      <th>7</th>\n",
       "      <td>1</td>\n",
       "      <td>1</td>\n",
       "      <td>1818</td>\n",
       "      <td>53.275044</td>\n",
       "      <td>50.266083</td>\n",
       "    </tr>\n",
       "  </tbody>\n",
       "</table>\n",
       "</div>"
      ],
      "text/plain": [
       "   mr_id  rc_orderby  ssId     ss_lat    ss_long\n",
       "0      1           1    80  53.384613  50.169362\n",
       "1      1           1   552  53.187009  50.118634\n",
       "2      1           1    13  53.303375  50.282002\n",
       "5      1           1    66  53.303772  50.282262\n",
       "7      1           1  1818  53.275044  50.266083"
      ]
     },
     "execution_count": 40,
     "metadata": {},
     "output_type": "execute_result"
    }
   ],
   "source": [
    "first_stop.head()"
   ]
  },
  {
   "cell_type": "code",
   "execution_count": 41,
   "metadata": {},
   "outputs": [],
   "source": [
    "first_stop['ss_lat']=first_stop['ss_lat'].astype(float)\n",
    "first_stop['ss_long']=first_stop['ss_long'].astype(float)"
   ]
  },
  {
   "cell_type": "code",
   "execution_count": null,
   "metadata": {},
   "outputs": [],
   "source": []
  },
  {
   "cell_type": "code",
   "execution_count": 42,
   "metadata": {},
   "outputs": [],
   "source": [
    "df_4_small_pd_merge=df_4_small_pd.merge(first_stop, on ='mr_id', how ='outer')"
   ]
  },
  {
   "cell_type": "code",
   "execution_count": 43,
   "metadata": {},
   "outputs": [
    {
     "data": {
      "text/html": [
       "<div>\n",
       "<style scoped>\n",
       "    .dataframe tbody tr th:only-of-type {\n",
       "        vertical-align: middle;\n",
       "    }\n",
       "\n",
       "    .dataframe tbody tr th {\n",
       "        vertical-align: top;\n",
       "    }\n",
       "\n",
       "    .dataframe thead th {\n",
       "        text-align: right;\n",
       "    }\n",
       "</style>\n",
       "<table border=\"1\" class=\"dataframe\">\n",
       "  <thead>\n",
       "    <tr style=\"text-align: right;\">\n",
       "      <th></th>\n",
       "      <th>mr_id</th>\n",
       "      <th>tr_id</th>\n",
       "      <th>mr_name</th>\n",
       "      <th>hour</th>\n",
       "      <th>min</th>\n",
       "      <th>long</th>\n",
       "      <th>lat</th>\n",
       "      <th>rc_orderby</th>\n",
       "      <th>ssId</th>\n",
       "      <th>ss_lat</th>\n",
       "      <th>ss_long</th>\n",
       "    </tr>\n",
       "  </thead>\n",
       "  <tbody>\n",
       "    <tr>\n",
       "      <th>0</th>\n",
       "      <td>105</td>\n",
       "      <td>200000006.0</td>\n",
       "      <td>48д</td>\n",
       "      <td>6.0</td>\n",
       "      <td>4.0</td>\n",
       "      <td>50.089637</td>\n",
       "      <td>53.126245</td>\n",
       "      <td>1</td>\n",
       "      <td>249</td>\n",
       "      <td>53.115204</td>\n",
       "      <td>50.063887</td>\n",
       "    </tr>\n",
       "    <tr>\n",
       "      <th>1</th>\n",
       "      <td>105</td>\n",
       "      <td>200000006.0</td>\n",
       "      <td>48д</td>\n",
       "      <td>6.0</td>\n",
       "      <td>4.0</td>\n",
       "      <td>50.089637</td>\n",
       "      <td>53.126245</td>\n",
       "      <td>1</td>\n",
       "      <td>38</td>\n",
       "      <td>53.192697</td>\n",
       "      <td>50.122152</td>\n",
       "    </tr>\n",
       "    <tr>\n",
       "      <th>2</th>\n",
       "      <td>105</td>\n",
       "      <td>200000006.0</td>\n",
       "      <td>48д</td>\n",
       "      <td>6.0</td>\n",
       "      <td>5.0</td>\n",
       "      <td>50.089548</td>\n",
       "      <td>53.126178</td>\n",
       "      <td>1</td>\n",
       "      <td>249</td>\n",
       "      <td>53.115204</td>\n",
       "      <td>50.063887</td>\n",
       "    </tr>\n",
       "    <tr>\n",
       "      <th>3</th>\n",
       "      <td>105</td>\n",
       "      <td>200000006.0</td>\n",
       "      <td>48д</td>\n",
       "      <td>6.0</td>\n",
       "      <td>5.0</td>\n",
       "      <td>50.089548</td>\n",
       "      <td>53.126178</td>\n",
       "      <td>1</td>\n",
       "      <td>38</td>\n",
       "      <td>53.192697</td>\n",
       "      <td>50.122152</td>\n",
       "    </tr>\n",
       "    <tr>\n",
       "      <th>4</th>\n",
       "      <td>105</td>\n",
       "      <td>200000006.0</td>\n",
       "      <td>48д</td>\n",
       "      <td>6.0</td>\n",
       "      <td>6.0</td>\n",
       "      <td>50.089800</td>\n",
       "      <td>53.126047</td>\n",
       "      <td>1</td>\n",
       "      <td>249</td>\n",
       "      <td>53.115204</td>\n",
       "      <td>50.063887</td>\n",
       "    </tr>\n",
       "  </tbody>\n",
       "</table>\n",
       "</div>"
      ],
      "text/plain": [
       "   mr_id        tr_id mr_name  hour  min       long        lat  rc_orderby  \\\n",
       "0    105  200000006.0     48д   6.0  4.0  50.089637  53.126245           1   \n",
       "1    105  200000006.0     48д   6.0  4.0  50.089637  53.126245           1   \n",
       "2    105  200000006.0     48д   6.0  5.0  50.089548  53.126178           1   \n",
       "3    105  200000006.0     48д   6.0  5.0  50.089548  53.126178           1   \n",
       "4    105  200000006.0     48д   6.0  6.0  50.089800  53.126047           1   \n",
       "\n",
       "   ssId     ss_lat    ss_long  \n",
       "0   249  53.115204  50.063887  \n",
       "1    38  53.192697  50.122152  \n",
       "2   249  53.115204  50.063887  \n",
       "3    38  53.192697  50.122152  \n",
       "4   249  53.115204  50.063887  "
      ]
     },
     "execution_count": 43,
     "metadata": {},
     "output_type": "execute_result"
    }
   ],
   "source": [
    "df_4_small_pd_merge.head()"
   ]
  },
  {
   "cell_type": "code",
   "execution_count": 44,
   "metadata": {},
   "outputs": [],
   "source": [
    "df_4_small_pd_merge=df_4_small_pd_merge[~pd.isna(df_4_small_pd_merge['long'])==True]"
   ]
  },
  {
   "cell_type": "code",
   "execution_count": 45,
   "metadata": {},
   "outputs": [
    {
     "name": "stdout",
     "output_type": "stream",
     "text": [
      "<class 'pandas.core.frame.DataFrame'>\n",
      "Int64Index: 9520113 entries, 0 to 9520112\n",
      "Data columns (total 11 columns):\n",
      " #   Column      Dtype  \n",
      "---  ------      -----  \n",
      " 0   mr_id       int64  \n",
      " 1   tr_id       float64\n",
      " 2   mr_name     object \n",
      " 3   hour        float64\n",
      " 4   min         float64\n",
      " 5   long        float64\n",
      " 6   lat         float64\n",
      " 7   rc_orderby  int64  \n",
      " 8   ssId        int64  \n",
      " 9   ss_lat      float64\n",
      " 10  ss_long     float64\n",
      "dtypes: float64(7), int64(3), object(1)\n",
      "memory usage: 871.6+ MB\n"
     ]
    }
   ],
   "source": [
    "df_4_small_pd_merge.info()"
   ]
  },
  {
   "cell_type": "code",
   "execution_count": 46,
   "metadata": {},
   "outputs": [],
   "source": [
    "from math import radians, cos, sin, asin, sqrt\n",
    "\n",
    "def haversine(lon1, lat1, lon2, lat2):\n",
    "    \"\"\"\n",
    "    Calculate the great circle distance between two points \n",
    "    on the earth (specified in decimal degrees)\n",
    "    \"\"\"\n",
    "    # convert decimal degrees to radians \n",
    "    lon1, lat1, lon2, lat2 = map(radians, [lon1, lat1, lon2, lat2])\n",
    "\n",
    "    # haversine formula \n",
    "    dlon = lon2 - lon1 \n",
    "    dlat = lat2 - lat1 \n",
    "    a = sin(dlat/2)**2 + cos(lat1) * cos(lat2) * sin(dlon/2)**2\n",
    "    c = 2 * asin(sqrt(a)) \n",
    "    r = 6371 * 1000 # Radius of earth in kilometers. Use 3956 for miles\n",
    "    return c * r"
   ]
  },
  {
   "cell_type": "code",
   "execution_count": 47,
   "metadata": {},
   "outputs": [
    {
     "name": "stderr",
     "output_type": "stream",
     "text": [
      "C:\\Users\\makol\\Anaconda3\\lib\\site-packages\\tqdm\\std.py:648: FutureWarning: The Panel class is removed from pandas. Accessing it from the top-level namespace will also be removed in the next version\n",
      "  from pandas import Panel\n",
      "100%|█████████████████████████████████████████████████████████████████████| 9520113/9520113 [11:32<00:00, 13740.39it/s]\n"
     ]
    },
    {
     "data": {
      "text/html": [
       "<div>\n",
       "<style scoped>\n",
       "    .dataframe tbody tr th:only-of-type {\n",
       "        vertical-align: middle;\n",
       "    }\n",
       "\n",
       "    .dataframe tbody tr th {\n",
       "        vertical-align: top;\n",
       "    }\n",
       "\n",
       "    .dataframe thead th {\n",
       "        text-align: right;\n",
       "    }\n",
       "</style>\n",
       "<table border=\"1\" class=\"dataframe\">\n",
       "  <thead>\n",
       "    <tr style=\"text-align: right;\">\n",
       "      <th></th>\n",
       "      <th>mr_id</th>\n",
       "      <th>tr_id</th>\n",
       "      <th>mr_name</th>\n",
       "      <th>hour</th>\n",
       "      <th>min</th>\n",
       "      <th>long</th>\n",
       "      <th>lat</th>\n",
       "      <th>rc_orderby</th>\n",
       "      <th>ssId</th>\n",
       "      <th>ss_lat</th>\n",
       "      <th>ss_long</th>\n",
       "      <th>len</th>\n",
       "    </tr>\n",
       "  </thead>\n",
       "  <tbody>\n",
       "    <tr>\n",
       "      <th>0</th>\n",
       "      <td>105</td>\n",
       "      <td>200000006.0</td>\n",
       "      <td>48д</td>\n",
       "      <td>6.0</td>\n",
       "      <td>4.0</td>\n",
       "      <td>50.089637</td>\n",
       "      <td>53.126245</td>\n",
       "      <td>1</td>\n",
       "      <td>249</td>\n",
       "      <td>53.115204</td>\n",
       "      <td>50.063887</td>\n",
       "      <td>2111.855909</td>\n",
       "    </tr>\n",
       "    <tr>\n",
       "      <th>1</th>\n",
       "      <td>105</td>\n",
       "      <td>200000006.0</td>\n",
       "      <td>48д</td>\n",
       "      <td>6.0</td>\n",
       "      <td>4.0</td>\n",
       "      <td>50.089637</td>\n",
       "      <td>53.126245</td>\n",
       "      <td>1</td>\n",
       "      <td>38</td>\n",
       "      <td>53.192697</td>\n",
       "      <td>50.122152</td>\n",
       "      <td>7700.558926</td>\n",
       "    </tr>\n",
       "    <tr>\n",
       "      <th>2</th>\n",
       "      <td>105</td>\n",
       "      <td>200000006.0</td>\n",
       "      <td>48д</td>\n",
       "      <td>6.0</td>\n",
       "      <td>5.0</td>\n",
       "      <td>50.089548</td>\n",
       "      <td>53.126178</td>\n",
       "      <td>1</td>\n",
       "      <td>249</td>\n",
       "      <td>53.115204</td>\n",
       "      <td>50.063887</td>\n",
       "      <td>2102.695185</td>\n",
       "    </tr>\n",
       "    <tr>\n",
       "      <th>3</th>\n",
       "      <td>105</td>\n",
       "      <td>200000006.0</td>\n",
       "      <td>48д</td>\n",
       "      <td>6.0</td>\n",
       "      <td>5.0</td>\n",
       "      <td>50.089548</td>\n",
       "      <td>53.126178</td>\n",
       "      <td>1</td>\n",
       "      <td>38</td>\n",
       "      <td>53.192697</td>\n",
       "      <td>50.122152</td>\n",
       "      <td>7709.379436</td>\n",
       "    </tr>\n",
       "    <tr>\n",
       "      <th>4</th>\n",
       "      <td>105</td>\n",
       "      <td>200000006.0</td>\n",
       "      <td>48д</td>\n",
       "      <td>6.0</td>\n",
       "      <td>6.0</td>\n",
       "      <td>50.089800</td>\n",
       "      <td>53.126047</td>\n",
       "      <td>1</td>\n",
       "      <td>249</td>\n",
       "      <td>53.115204</td>\n",
       "      <td>50.063887</td>\n",
       "      <td>2108.049813</td>\n",
       "    </tr>\n",
       "    <tr>\n",
       "      <th>...</th>\n",
       "      <td>...</td>\n",
       "      <td>...</td>\n",
       "      <td>...</td>\n",
       "      <td>...</td>\n",
       "      <td>...</td>\n",
       "      <td>...</td>\n",
       "      <td>...</td>\n",
       "      <td>...</td>\n",
       "      <td>...</td>\n",
       "      <td>...</td>\n",
       "      <td>...</td>\n",
       "      <td>...</td>\n",
       "    </tr>\n",
       "    <tr>\n",
       "      <th>9520108</th>\n",
       "      <td>118</td>\n",
       "      <td>704952059.0</td>\n",
       "      <td>18</td>\n",
       "      <td>19.0</td>\n",
       "      <td>13.0</td>\n",
       "      <td>50.204375</td>\n",
       "      <td>53.231027</td>\n",
       "      <td>1</td>\n",
       "      <td>185</td>\n",
       "      <td>53.230264</td>\n",
       "      <td>50.210125</td>\n",
       "      <td>392.015344</td>\n",
       "    </tr>\n",
       "    <tr>\n",
       "      <th>9520109</th>\n",
       "      <td>118</td>\n",
       "      <td>704952059.0</td>\n",
       "      <td>18</td>\n",
       "      <td>19.0</td>\n",
       "      <td>13.0</td>\n",
       "      <td>50.203232</td>\n",
       "      <td>53.231412</td>\n",
       "      <td>1</td>\n",
       "      <td>863</td>\n",
       "      <td>53.249921</td>\n",
       "      <td>50.264871</td>\n",
       "      <td>4589.159405</td>\n",
       "    </tr>\n",
       "    <tr>\n",
       "      <th>9520110</th>\n",
       "      <td>118</td>\n",
       "      <td>704952059.0</td>\n",
       "      <td>18</td>\n",
       "      <td>19.0</td>\n",
       "      <td>13.0</td>\n",
       "      <td>50.203232</td>\n",
       "      <td>53.231412</td>\n",
       "      <td>1</td>\n",
       "      <td>466</td>\n",
       "      <td>53.195719</td>\n",
       "      <td>50.290667</td>\n",
       "      <td>7046.161599</td>\n",
       "    </tr>\n",
       "    <tr>\n",
       "      <th>9520111</th>\n",
       "      <td>118</td>\n",
       "      <td>704952059.0</td>\n",
       "      <td>18</td>\n",
       "      <td>19.0</td>\n",
       "      <td>13.0</td>\n",
       "      <td>50.203232</td>\n",
       "      <td>53.231412</td>\n",
       "      <td>1</td>\n",
       "      <td>184</td>\n",
       "      <td>53.229654</td>\n",
       "      <td>50.208955</td>\n",
       "      <td>428.157659</td>\n",
       "    </tr>\n",
       "    <tr>\n",
       "      <th>9520112</th>\n",
       "      <td>118</td>\n",
       "      <td>704952059.0</td>\n",
       "      <td>18</td>\n",
       "      <td>19.0</td>\n",
       "      <td>13.0</td>\n",
       "      <td>50.203232</td>\n",
       "      <td>53.231412</td>\n",
       "      <td>1</td>\n",
       "      <td>185</td>\n",
       "      <td>53.230264</td>\n",
       "      <td>50.210125</td>\n",
       "      <td>476.228434</td>\n",
       "    </tr>\n",
       "  </tbody>\n",
       "</table>\n",
       "<p>9520113 rows × 12 columns</p>\n",
       "</div>"
      ],
      "text/plain": [
       "         mr_id        tr_id mr_name  hour   min       long        lat  \\\n",
       "0          105  200000006.0     48д   6.0   4.0  50.089637  53.126245   \n",
       "1          105  200000006.0     48д   6.0   4.0  50.089637  53.126245   \n",
       "2          105  200000006.0     48д   6.0   5.0  50.089548  53.126178   \n",
       "3          105  200000006.0     48д   6.0   5.0  50.089548  53.126178   \n",
       "4          105  200000006.0     48д   6.0   6.0  50.089800  53.126047   \n",
       "...        ...          ...     ...   ...   ...        ...        ...   \n",
       "9520108    118  704952059.0      18  19.0  13.0  50.204375  53.231027   \n",
       "9520109    118  704952059.0      18  19.0  13.0  50.203232  53.231412   \n",
       "9520110    118  704952059.0      18  19.0  13.0  50.203232  53.231412   \n",
       "9520111    118  704952059.0      18  19.0  13.0  50.203232  53.231412   \n",
       "9520112    118  704952059.0      18  19.0  13.0  50.203232  53.231412   \n",
       "\n",
       "         rc_orderby  ssId     ss_lat    ss_long          len  \n",
       "0                 1   249  53.115204  50.063887  2111.855909  \n",
       "1                 1    38  53.192697  50.122152  7700.558926  \n",
       "2                 1   249  53.115204  50.063887  2102.695185  \n",
       "3                 1    38  53.192697  50.122152  7709.379436  \n",
       "4                 1   249  53.115204  50.063887  2108.049813  \n",
       "...             ...   ...        ...        ...          ...  \n",
       "9520108           1   185  53.230264  50.210125   392.015344  \n",
       "9520109           1   863  53.249921  50.264871  4589.159405  \n",
       "9520110           1   466  53.195719  50.290667  7046.161599  \n",
       "9520111           1   184  53.229654  50.208955   428.157659  \n",
       "9520112           1   185  53.230264  50.210125   476.228434  \n",
       "\n",
       "[9520113 rows x 12 columns]"
      ]
     },
     "execution_count": 47,
     "metadata": {},
     "output_type": "execute_result"
    }
   ],
   "source": [
    "from tqdm import tqdm\n",
    "tqdm.pandas()\n",
    "# df['col_3'] = df.apply(lambda x: f(x.col_1, x.col_2), axis=1)\n",
    "df_4_small_pd_merge['len'] = df_4_small_pd_merge.progress_apply(lambda x: haversine(x.long, x.lat, x.ss_long, x.ss_lat), axis = 1)\n",
    "df_4_small_pd_merge"
   ]
  },
  {
   "cell_type": "code",
   "execution_count": 48,
   "metadata": {},
   "outputs": [],
   "source": [
    "df_4_small_pd_merge2=df_4_small_pd_merge[df_4_small_pd_merge['len']<100]"
   ]
  },
  {
   "cell_type": "code",
   "execution_count": 49,
   "metadata": {},
   "outputs": [
    {
     "data": {
      "text/plain": [
       "272963"
      ]
     },
     "execution_count": 49,
     "metadata": {},
     "output_type": "execute_result"
    }
   ],
   "source": [
    "len(df_4_small_pd_merge2)"
   ]
  },
  {
   "cell_type": "code",
   "execution_count": 50,
   "metadata": {},
   "outputs": [],
   "source": [
    "df_4_small_pd_merge3=df_4_small_pd_merge2[['mr_id','hour','min','ssId','tr_id']].drop_duplicates()"
   ]
  },
  {
   "cell_type": "code",
   "execution_count": 51,
   "metadata": {},
   "outputs": [
    {
     "data": {
      "text/plain": [
       "144811"
      ]
     },
     "execution_count": 51,
     "metadata": {},
     "output_type": "execute_result"
    }
   ],
   "source": [
    "len(df_4_small_pd_merge3)"
   ]
  },
  {
   "cell_type": "code",
   "execution_count": 52,
   "metadata": {},
   "outputs": [],
   "source": [
    "df_4_small_pd_merge3['time']=df_4_small_pd_merge3['hour']*60+df_4_small_pd_merge3['min']"
   ]
  },
  {
   "cell_type": "code",
   "execution_count": 53,
   "metadata": {},
   "outputs": [],
   "source": [
    "df_4_small_pd_merge3=df_4_small_pd_merge3.sort_values(['mr_id','ssId','time'])"
   ]
  },
  {
   "cell_type": "code",
   "execution_count": 54,
   "metadata": {},
   "outputs": [],
   "source": [
    "df_4_small_pd_merge3['tr_id2']=df_4_small_pd_merge3.groupby(['mr_id','ssId'])['tr_id'].shift(-1).astype('Int64')"
   ]
  },
  {
   "cell_type": "code",
   "execution_count": 55,
   "metadata": {},
   "outputs": [],
   "source": [
    "df_4_small_pd_merge3['time2']=df_4_small_pd_merge3.groupby(['mr_id','ssId'])['time'].shift(-1).astype('Int64')"
   ]
  },
  {
   "cell_type": "code",
   "execution_count": 56,
   "metadata": {},
   "outputs": [],
   "source": [
    "df_4_small_pd_merge3['delta']=df_4_small_pd_merge3['time2']-df_4_small_pd_merge3['time']"
   ]
  },
  {
   "cell_type": "code",
   "execution_count": 57,
   "metadata": {},
   "outputs": [
    {
     "data": {
      "text/html": [
       "<div>\n",
       "<style scoped>\n",
       "    .dataframe tbody tr th:only-of-type {\n",
       "        vertical-align: middle;\n",
       "    }\n",
       "\n",
       "    .dataframe tbody tr th {\n",
       "        vertical-align: top;\n",
       "    }\n",
       "\n",
       "    .dataframe thead th {\n",
       "        text-align: right;\n",
       "    }\n",
       "</style>\n",
       "<table border=\"1\" class=\"dataframe\">\n",
       "  <thead>\n",
       "    <tr style=\"text-align: right;\">\n",
       "      <th></th>\n",
       "      <th>mr_id</th>\n",
       "      <th>hour</th>\n",
       "      <th>min</th>\n",
       "      <th>ssId</th>\n",
       "      <th>tr_id</th>\n",
       "      <th>time</th>\n",
       "      <th>tr_id2</th>\n",
       "      <th>time2</th>\n",
       "      <th>delta</th>\n",
       "    </tr>\n",
       "  </thead>\n",
       "  <tbody>\n",
       "    <tr>\n",
       "      <th>1958450</th>\n",
       "      <td>1</td>\n",
       "      <td>5.0</td>\n",
       "      <td>10.0</td>\n",
       "      <td>13</td>\n",
       "      <td>500000037.0</td>\n",
       "      <td>310.0</td>\n",
       "      <td>500000037</td>\n",
       "      <td>311</td>\n",
       "      <td>1.0</td>\n",
       "    </tr>\n",
       "    <tr>\n",
       "      <th>1958460</th>\n",
       "      <td>1</td>\n",
       "      <td>5.0</td>\n",
       "      <td>11.0</td>\n",
       "      <td>13</td>\n",
       "      <td>500000037.0</td>\n",
       "      <td>311.0</td>\n",
       "      <td>500000037</td>\n",
       "      <td>312</td>\n",
       "      <td>1.0</td>\n",
       "    </tr>\n",
       "    <tr>\n",
       "      <th>1958465</th>\n",
       "      <td>1</td>\n",
       "      <td>5.0</td>\n",
       "      <td>12.0</td>\n",
       "      <td>13</td>\n",
       "      <td>500000037.0</td>\n",
       "      <td>312.0</td>\n",
       "      <td>500000037</td>\n",
       "      <td>313</td>\n",
       "      <td>1.0</td>\n",
       "    </tr>\n",
       "    <tr>\n",
       "      <th>1958470</th>\n",
       "      <td>1</td>\n",
       "      <td>5.0</td>\n",
       "      <td>13.0</td>\n",
       "      <td>13</td>\n",
       "      <td>500000037.0</td>\n",
       "      <td>313.0</td>\n",
       "      <td>500000037</td>\n",
       "      <td>314</td>\n",
       "      <td>1.0</td>\n",
       "    </tr>\n",
       "    <tr>\n",
       "      <th>1958475</th>\n",
       "      <td>1</td>\n",
       "      <td>5.0</td>\n",
       "      <td>14.0</td>\n",
       "      <td>13</td>\n",
       "      <td>500000037.0</td>\n",
       "      <td>314.0</td>\n",
       "      <td>500000037</td>\n",
       "      <td>315</td>\n",
       "      <td>1.0</td>\n",
       "    </tr>\n",
       "  </tbody>\n",
       "</table>\n",
       "</div>"
      ],
      "text/plain": [
       "         mr_id  hour   min  ssId        tr_id   time     tr_id2  time2  delta\n",
       "1958450      1   5.0  10.0    13  500000037.0  310.0  500000037    311    1.0\n",
       "1958460      1   5.0  11.0    13  500000037.0  311.0  500000037    312    1.0\n",
       "1958465      1   5.0  12.0    13  500000037.0  312.0  500000037    313    1.0\n",
       "1958470      1   5.0  13.0    13  500000037.0  313.0  500000037    314    1.0\n",
       "1958475      1   5.0  14.0    13  500000037.0  314.0  500000037    315    1.0"
      ]
     },
     "execution_count": 57,
     "metadata": {},
     "output_type": "execute_result"
    }
   ],
   "source": [
    "df_4_small_pd_merge3.head()"
   ]
  },
  {
   "cell_type": "code",
   "execution_count": 58,
   "metadata": {},
   "outputs": [],
   "source": [
    "df_4_small_pd_merge4=df_4_small_pd_merge3[~((df_4_small_pd_merge3['tr_id2']==df_4_small_pd_merge3['tr_id2'])&\n",
    "                                         (df_4_small_pd_merge3['delta']<20))]"
   ]
  },
  {
   "cell_type": "code",
   "execution_count": 59,
   "metadata": {},
   "outputs": [
    {
     "data": {
      "text/plain": [
       "4148"
      ]
     },
     "execution_count": 59,
     "metadata": {},
     "output_type": "execute_result"
    }
   ],
   "source": [
    "len(df_4_small_pd_merge4)"
   ]
  },
  {
   "cell_type": "code",
   "execution_count": 60,
   "metadata": {},
   "outputs": [],
   "source": [
    "df_4_small_pd_merge4.to_csv('reises.csv')"
   ]
  },
  {
   "cell_type": "code",
   "execution_count": null,
   "metadata": {},
   "outputs": [],
   "source": []
  },
  {
   "cell_type": "code",
   "execution_count": 61,
   "metadata": {},
   "outputs": [],
   "source": [
    "path =\".\\\\samaratransautogaz\\\\\""
   ]
  },
  {
   "cell_type": "code",
   "execution_count": 62,
   "metadata": {},
   "outputs": [
    {
     "ename": "NameError",
     "evalue": "name 'read_file' is not defined",
     "output_type": "error",
     "traceback": [
      "\u001b[1;31m---------------------------------------------------------------------------\u001b[0m",
      "\u001b[1;31mNameError\u001b[0m                                 Traceback (most recent call last)",
      "\u001b[1;32m<ipython-input-62-b39f9ddcd983>\u001b[0m in \u001b[0;36m<module>\u001b[1;34m\u001b[0m\n\u001b[1;32m----> 1\u001b[1;33m \u001b[0ma\u001b[0m\u001b[1;33m=\u001b[0m\u001b[0mread_file\u001b[0m\u001b[1;33m(\u001b[0m\u001b[1;34m'stop_times.txt'\u001b[0m\u001b[1;33m)\u001b[0m\u001b[1;33m\u001b[0m\u001b[1;33m\u001b[0m\u001b[0m\n\u001b[0m",
      "\u001b[1;31mNameError\u001b[0m: name 'read_file' is not defined"
     ]
    }
   ],
   "source": [
    "a=pd.read_file('stop_times.txt')"
   ]
  },
  {
   "cell_type": "code",
   "execution_count": null,
   "metadata": {},
   "outputs": [],
   "source": []
  },
  {
   "cell_type": "code",
   "execution_count": null,
   "metadata": {},
   "outputs": [],
   "source": []
  },
  {
   "cell_type": "code",
   "execution_count": null,
   "metadata": {},
   "outputs": [],
   "source": []
  },
  {
   "cell_type": "code",
   "execution_count": null,
   "metadata": {},
   "outputs": [],
   "source": []
  },
  {
   "cell_type": "code",
   "execution_count": null,
   "metadata": {},
   "outputs": [],
   "source": []
  },
  {
   "cell_type": "code",
   "execution_count": null,
   "metadata": {},
   "outputs": [],
   "source": []
  },
  {
   "cell_type": "code",
   "execution_count": null,
   "metadata": {},
   "outputs": [],
   "source": []
  },
  {
   "cell_type": "code",
   "execution_count": null,
   "metadata": {},
   "outputs": [],
   "source": []
  },
  {
   "cell_type": "code",
   "execution_count": null,
   "metadata": {},
   "outputs": [],
   "source": []
  },
  {
   "cell_type": "code",
   "execution_count": null,
   "metadata": {},
   "outputs": [],
   "source": []
  },
  {
   "cell_type": "code",
   "execution_count": null,
   "metadata": {},
   "outputs": [],
   "source": [
    "poezdki=df_4_small_pd_merge3[['mr_id','']]"
   ]
  },
  {
   "cell_type": "code",
   "execution_count": null,
   "metadata": {},
   "outputs": [],
   "source": [
    "poezdki_count_0=pd.DataFrame(poezdki_0.groupby(['mr_id']).agg(['count']))"
   ]
  },
  {
   "cell_type": "code",
   "execution_count": null,
   "metadata": {},
   "outputs": [],
   "source": []
  },
  {
   "cell_type": "code",
   "execution_count": null,
   "metadata": {},
   "outputs": [],
   "source": []
  },
  {
   "cell_type": "code",
   "execution_count": null,
   "metadata": {},
   "outputs": [],
   "source": []
  },
  {
   "cell_type": "code",
   "execution_count": null,
   "metadata": {},
   "outputs": [],
   "source": []
  },
  {
   "cell_type": "code",
   "execution_count": null,
   "metadata": {},
   "outputs": [],
   "source": []
  },
  {
   "cell_type": "code",
   "execution_count": null,
   "metadata": {},
   "outputs": [],
   "source": []
  },
  {
   "cell_type": "code",
   "execution_count": null,
   "metadata": {},
   "outputs": [],
   "source": []
  },
  {
   "cell_type": "markdown",
   "metadata": {},
   "source": [
    "Анализ пробега по маршрутам"
   ]
  },
  {
   "cell_type": "code",
   "execution_count": null,
   "metadata": {},
   "outputs": [],
   "source": [
    "df_4['time']=pd.to_datetime(df_4['timenav'])\n",
    "df_4['hour']=df_4['time'].dt.hour\n",
    "df_4['min']=df_4['time'].dt.minute\n",
    "\n",
    "df_4_small_pd=df_4[['mr_id','tr_id','mr_name','hour','min','long','lat']].drop_duplicates()"
   ]
  },
  {
   "cell_type": "code",
   "execution_count": null,
   "metadata": {},
   "outputs": [],
   "source": [
    "df_4_small_pd.head()"
   ]
  },
  {
   "cell_type": "code",
   "execution_count": null,
   "metadata": {},
   "outputs": [],
   "source": [
    "df_4_small_pd['rd_long_to'] = df_4_small_pd.groupby(['mr_id','tr_id'])['long'].shift(-1)"
   ]
  },
  {
   "cell_type": "code",
   "execution_count": null,
   "metadata": {},
   "outputs": [],
   "source": [
    "df_4_small_pd['rd_lat_to'] = df_4_small_pd.groupby(['mr_id','tr_id'])['lat'].shift(-1)"
   ]
  },
  {
   "cell_type": "code",
   "execution_count": null,
   "metadata": {},
   "outputs": [],
   "source": [
    "df_4_small_pd=df_4_small_pd[~pd.isna(df_4_small_pd['rd_long_to'])==True]"
   ]
  },
  {
   "cell_type": "code",
   "execution_count": null,
   "metadata": {},
   "outputs": [],
   "source": []
  },
  {
   "cell_type": "code",
   "execution_count": null,
   "metadata": {},
   "outputs": [],
   "source": [
    "from math import radians, cos, sin, asin, sqrt\n",
    "\n",
    "def haversine(lon1, lat1, lon2, lat2):\n",
    "    \"\"\"\n",
    "    Calculate the great circle distance between two points \n",
    "    on the earth (specified in decimal degrees)\n",
    "    \"\"\"\n",
    "    # convert decimal degrees to radians \n",
    "    lon1, lat1, lon2, lat2 = map(radians, [lon1, lat1, lon2, lat2])\n",
    "\n",
    "    # haversine formula \n",
    "    dlon = lon2 - lon1 \n",
    "    dlat = lat2 - lat1 \n",
    "    a = sin(dlat/2)**2 + cos(lat1) * cos(lat2) * sin(dlon/2)**2\n",
    "    c = 2 * asin(sqrt(a)) \n",
    "    r = 6371 * 1000 # Radius of earth in kilometers. Use 3956 for miles\n",
    "    return c * r"
   ]
  },
  {
   "cell_type": "code",
   "execution_count": null,
   "metadata": {},
   "outputs": [],
   "source": [
    "df_cartesian=df_4_small_pd"
   ]
  },
  {
   "cell_type": "code",
   "execution_count": null,
   "metadata": {},
   "outputs": [],
   "source": [
    "from tqdm import tqdm\n",
    "tqdm.pandas()\n",
    "# df['col_3'] = df.apply(lambda x: f(x.col_1, x.col_2), axis=1)\n",
    "df_cartesian['len'] = df_cartesian.progress_apply(lambda x: haversine(x.long, x.lat, x.rd_long_to, x.rd_lat_to), axis = 1)\n",
    "df_cartesian"
   ]
  },
  {
   "cell_type": "code",
   "execution_count": null,
   "metadata": {},
   "outputs": [],
   "source": [
    "probeg=pd.DataFrame(df_cartesian.groupby(['mr_id']).agg({'len': np.sum})).reset_index()"
   ]
  },
  {
   "cell_type": "code",
   "execution_count": null,
   "metadata": {},
   "outputs": [],
   "source": [
    "probeg.to_csv('probeg_bud.csv')"
   ]
  },
  {
   "cell_type": "markdown",
   "metadata": {},
   "source": [
    "Закончили анализ пробега"
   ]
  },
  {
   "cell_type": "code",
   "execution_count": null,
   "metadata": {},
   "outputs": [],
   "source": []
  },
  {
   "cell_type": "code",
   "execution_count": null,
   "metadata": {},
   "outputs": [],
   "source": []
  },
  {
   "cell_type": "markdown",
   "metadata": {},
   "source": [
    "Начали анализ скоростей"
   ]
  },
  {
   "cell_type": "code",
   "execution_count": 74,
   "metadata": {},
   "outputs": [],
   "source": [
    "df_4_pick=df_4[df_4['timenav'].str.contains( ' 07:')]\\\n",
    " .append(df_4[df_4['timenav'].str.contains( ' 08:')])\\\n",
    " .append(df_4[df_4['timenav'].str.contains( ' 09:')])"
   ]
  },
  {
   "cell_type": "code",
   "execution_count": 82,
   "metadata": {},
   "outputs": [],
   "source": [
    "df_4_day=df_4[df_4['timenav'].str.contains( ' 23:')]\\\n",
    " .append(df_4[df_4['timenav'].str.contains( ' 22:')])\\\n",
    " .append(df_4[df_4['timenav'].str.contains( ' 00:')])\\\n",
    ".append(df_4[df_4['timenav'].str.contains( ' 24:')])"
   ]
  },
  {
   "cell_type": "code",
   "execution_count": 83,
   "metadata": {},
   "outputs": [],
   "source": [
    "df_4_pick2=df_4_pick[df_4_pick['speed']>0]\n",
    "df_4_day=df_4_day[df_4_day['speed']>0]"
   ]
  },
  {
   "cell_type": "code",
   "execution_count": 77,
   "metadata": {},
   "outputs": [
    {
     "data": {
      "text/plain": [
       "array([105, 159, 194, 155, 166, 164, 156, 192, 150, 125, 202, 160, 185,\n",
       "       161, 196, 191, 184,  29, 268, 198, 183, 182, 154, 236, 162, 148,\n",
       "       234, 250, 290, 233, 230, 262, 231, 243, 228, 289, 232, 227, 247,\n",
       "       239, 241, 238, 245, 248, 244, 229, 259, 152,  48,  47,   1,  96,\n",
       "       102,  32,  28,  23,  26,  17,  49,  64, 114,  81,  70, 113,  43,\n",
       "        34,  38,  18,  20,  15,  30, 187,  68,  35,  36,  25, 100,  24,\n",
       "        61,  62,  45,  39,  27, 199,  99,  59,  98,  73, 112,  14,  31,\n",
       "        46,  60,  44, 136, 130, 142, 135, 144, 126, 141, 176, 134,  10,\n",
       "       145, 127, 137, 143, 138, 140, 139, 129, 132, 146, 133, 151, 294,\n",
       "       306, 122, 116, 121,  12, 117, 119,  97,  58,  71, 103, 115, 111,\n",
       "       118, 120, 305], dtype=int64)"
      ]
     },
     "execution_count": 77,
     "metadata": {},
     "output_type": "execute_result"
    }
   ],
   "source": [
    "df_4_pick['mr_id'].unique()"
   ]
  },
  {
   "cell_type": "code",
   "execution_count": 84,
   "metadata": {},
   "outputs": [],
   "source": [
    "speed_by_marsh_pick=pd.DataFrame(df_4_pick.groupby(['mr_id']).agg({'speed': np.nanmean})).reset_index()\n",
    "speed_by_marsh_day=pd.DataFrame(df_4_day.groupby(['mr_id']).agg({'speed': np.nanmean})).reset_index()"
   ]
  },
  {
   "cell_type": "code",
   "execution_count": 79,
   "metadata": {},
   "outputs": [],
   "source": [
    "speed_by_marsh=speed_by_marsh_pick.merge(speed_by_marsh_day,on='mr_id', how='outer')"
   ]
  },
  {
   "cell_type": "code",
   "execution_count": 80,
   "metadata": {},
   "outputs": [],
   "source": [
    "speed_by_marsh=speed_by_marsh.rename(columns={\"speed_x\": \"speed_pick\", \"speed_y\": \"speed_day\"})"
   ]
  },
  {
   "cell_type": "code",
   "execution_count": 85,
   "metadata": {},
   "outputs": [],
   "source": [
    "speed_by_marsh_day.to_csv('speed_nigth.csv')"
   ]
  },
  {
   "cell_type": "code",
   "execution_count": null,
   "metadata": {},
   "outputs": [],
   "source": [
    "poezdki = pd.read_csv('2020-08-03_all_4_first_stops_detected.csv',sep = ',', encoding='windows-1251')"
   ]
  },
  {
   "cell_type": "code",
   "execution_count": null,
   "metadata": {},
   "outputs": [],
   "source": [
    "poezdki=poezdki[poezdki['order_by']==1]\n",
    "poezdki=poezdki[['mr_id','time','Dir']]\n",
    "poezdki=poezdki.sort_values(by=['mr_id','Dir','time'])\n",
    "poezdki_0=poezdki[poezdki['Dir']==1]\n",
    "poezdki_1=poezdki[poezdki['Dir']==0]\n"
   ]
  },
  {
   "cell_type": "code",
   "execution_count": null,
   "metadata": {},
   "outputs": [],
   "source": [
    "poezdki_0=poezdki_0[['mr_id','Dir']]"
   ]
  },
  {
   "cell_type": "code",
   "execution_count": null,
   "metadata": {},
   "outputs": [],
   "source": [
    "poezdki_1=poezdki_1[['mr_id','Dir']]"
   ]
  },
  {
   "cell_type": "code",
   "execution_count": null,
   "metadata": {},
   "outputs": [],
   "source": [
    "poezdki['time2'] = poezdki.groupby(['mr_id','Dir'])['time'].shift(-1).astype('Int64')"
   ]
  },
  {
   "cell_type": "code",
   "execution_count": null,
   "metadata": {},
   "outputs": [],
   "source": [
    "poezdki.head()"
   ]
  },
  {
   "cell_type": "code",
   "execution_count": null,
   "metadata": {},
   "outputs": [],
   "source": [
    "poezdki_count_0=pd.DataFrame(poezdki_0.groupby(['mr_id']).agg(['count']))\n",
    "poezdki_count_1=pd.DataFrame(poezdki_1.groupby(['mr_id']).agg(['count']))"
   ]
  },
  {
   "cell_type": "code",
   "execution_count": null,
   "metadata": {},
   "outputs": [],
   "source": [
    "poezdki_count=poezdki_count_0.merge(poezdki_count_1,on='mr_id', how='outer')"
   ]
  },
  {
   "cell_type": "code",
   "execution_count": null,
   "metadata": {},
   "outputs": [],
   "source": [
    "poezdki_count.to_csv('count_reises.csv')"
   ]
  },
  {
   "cell_type": "code",
   "execution_count": null,
   "metadata": {},
   "outputs": [],
   "source": []
  },
  {
   "cell_type": "code",
   "execution_count": null,
   "metadata": {},
   "outputs": [],
   "source": [
    "path = '.\\\\algoritm\\\\data\\\\'\n",
    "p=pd.read_csv(path+'2020-08-03_s5_4.csv', sep = '\\t', encoding='windows-1251')"
   ]
  },
  {
   "cell_type": "code",
   "execution_count": null,
   "metadata": {},
   "outputs": [],
   "source": [
    "p2=p[p['mr_id']==32]"
   ]
  },
  {
   "cell_type": "code",
   "execution_count": null,
   "metadata": {},
   "outputs": [],
   "source": [
    "p2.to_csv('mr_id_32.csv')"
   ]
  },
  {
   "cell_type": "code",
   "execution_count": null,
   "metadata": {},
   "outputs": [],
   "source": []
  },
  {
   "cell_type": "code",
   "execution_count": null,
   "metadata": {},
   "outputs": [],
   "source": []
  },
  {
   "cell_type": "code",
   "execution_count": null,
   "metadata": {},
   "outputs": [],
   "source": []
  },
  {
   "cell_type": "markdown",
   "metadata": {},
   "source": [
    "Выделенки"
   ]
  },
  {
   "cell_type": "code",
   "execution_count": 87,
   "metadata": {},
   "outputs": [],
   "source": [
    "road=gpd.read_file('roads_39n_simp.shp')"
   ]
  },
  {
   "cell_type": "code",
   "execution_count": 89,
   "metadata": {},
   "outputs": [],
   "source": [
    "vydel=road[road['projects']==1]"
   ]
  },
  {
   "cell_type": "code",
   "execution_count": 92,
   "metadata": {},
   "outputs": [],
   "source": [
    "routes=gpd.read_file('Samara_201021.shp', encoding = 'utf-8')"
   ]
  },
  {
   "cell_type": "code",
   "execution_count": 93,
   "metadata": {},
   "outputs": [
    {
     "data": {
      "text/html": [
       "<div>\n",
       "<style scoped>\n",
       "    .dataframe tbody tr th:only-of-type {\n",
       "        vertical-align: middle;\n",
       "    }\n",
       "\n",
       "    .dataframe tbody tr th {\n",
       "        vertical-align: top;\n",
       "    }\n",
       "\n",
       "    .dataframe thead th {\n",
       "        text-align: right;\n",
       "    }\n",
       "</style>\n",
       "<table border=\"1\" class=\"dataframe\">\n",
       "  <thead>\n",
       "    <tr style=\"text-align: right;\">\n",
       "      <th></th>\n",
       "      <th>mr_name</th>\n",
       "      <th>tt_name</th>\n",
       "      <th>mv_id</th>\n",
       "      <th>rl_id</th>\n",
       "      <th>Status</th>\n",
       "      <th>route_name</th>\n",
       "      <th>route_type</th>\n",
       "      <th>LENGTH_GEO</th>\n",
       "      <th>geometry</th>\n",
       "    </tr>\n",
       "  </thead>\n",
       "  <tbody>\n",
       "    <tr>\n",
       "      <th>0</th>\n",
       "      <td>1</td>\n",
       "      <td>Автобус</td>\n",
       "      <td>683</td>\n",
       "      <td>68365</td>\n",
       "      <td>changed</td>\n",
       "      <td>1 ГОРОДСКОЙ МАРШРУТ</td>\n",
       "      <td>АВТОБУС ГОРОД</td>\n",
       "      <td>32.994318</td>\n",
       "      <td>LINESTRING (50.17210 53.39407, 50.17146 53.393...</td>\n",
       "    </tr>\n",
       "    <tr>\n",
       "      <th>1</th>\n",
       "      <td>1</td>\n",
       "      <td>Автобус</td>\n",
       "      <td>683</td>\n",
       "      <td>68366</td>\n",
       "      <td>changed</td>\n",
       "      <td>1 ГОРОДСКОЙ МАРШРУТ</td>\n",
       "      <td>АВТОБУС ГОРОД</td>\n",
       "      <td>33.655301</td>\n",
       "      <td>LINESTRING (50.11861 53.18702, 50.11867 53.186...</td>\n",
       "    </tr>\n",
       "    <tr>\n",
       "      <th>2</th>\n",
       "      <td>1</td>\n",
       "      <td>Трамвай</td>\n",
       "      <td>752</td>\n",
       "      <td>75265</td>\n",
       "      <td>changed</td>\n",
       "      <td>1 ГОРОДСКОЙ МАРШРУТ</td>\n",
       "      <td>ТРАМВАЙ</td>\n",
       "      <td>13.056409</td>\n",
       "      <td>LINESTRING (50.08176 53.17876, 50.08529 53.178...</td>\n",
       "    </tr>\n",
       "    <tr>\n",
       "      <th>3</th>\n",
       "      <td>1</td>\n",
       "      <td>Трамвай</td>\n",
       "      <td>752</td>\n",
       "      <td>75266</td>\n",
       "      <td>changed</td>\n",
       "      <td>1 ГОРОДСКОЙ МАРШРУТ</td>\n",
       "      <td>ТРАМВАЙ</td>\n",
       "      <td>13.052657</td>\n",
       "      <td>LINESTRING (50.23863 53.20343, 50.23548 53.202...</td>\n",
       "    </tr>\n",
       "    <tr>\n",
       "      <th>4</th>\n",
       "      <td>101А</td>\n",
       "      <td>Автобус</td>\n",
       "      <td>374</td>\n",
       "      <td>37465</td>\n",
       "      <td>saved</td>\n",
       "      <td>101А ДАЧНЫЙ МАРШРУТ</td>\n",
       "      <td>АВТОБУС ПРИГОРОД/МЕЖГОРОД</td>\n",
       "      <td>16.728925</td>\n",
       "      <td>LINESTRING (50.21728 53.07770, 50.21719 53.077...</td>\n",
       "    </tr>\n",
       "  </tbody>\n",
       "</table>\n",
       "</div>"
      ],
      "text/plain": [
       "  mr_name  tt_name mv_id  rl_id   Status           route_name  \\\n",
       "0       1  Автобус   683  68365  changed  1 ГОРОДСКОЙ МАРШРУТ   \n",
       "1       1  Автобус   683  68366  changed  1 ГОРОДСКОЙ МАРШРУТ   \n",
       "2       1  Трамвай   752  75265  changed  1 ГОРОДСКОЙ МАРШРУТ   \n",
       "3       1  Трамвай   752  75266  changed  1 ГОРОДСКОЙ МАРШРУТ   \n",
       "4    101А  Автобус   374  37465    saved  101А ДАЧНЫЙ МАРШРУТ   \n",
       "\n",
       "                  route_type  LENGTH_GEO  \\\n",
       "0              АВТОБУС ГОРОД   32.994318   \n",
       "1              АВТОБУС ГОРОД   33.655301   \n",
       "2                    ТРАМВАЙ   13.056409   \n",
       "3                    ТРАМВАЙ   13.052657   \n",
       "4  АВТОБУС ПРИГОРОД/МЕЖГОРОД   16.728925   \n",
       "\n",
       "                                            geometry  \n",
       "0  LINESTRING (50.17210 53.39407, 50.17146 53.393...  \n",
       "1  LINESTRING (50.11861 53.18702, 50.11867 53.186...  \n",
       "2  LINESTRING (50.08176 53.17876, 50.08529 53.178...  \n",
       "3  LINESTRING (50.23863 53.20343, 50.23548 53.202...  \n",
       "4  LINESTRING (50.21728 53.07770, 50.21719 53.077...  "
      ]
     },
     "execution_count": 93,
     "metadata": {},
     "output_type": "execute_result"
    }
   ],
   "source": [
    "routes.head()"
   ]
  },
  {
   "cell_type": "code",
   "execution_count": null,
   "metadata": {},
   "outputs": [],
   "source": [
    "vydel.byffer"
   ]
  },
  {
   "cell_type": "markdown",
   "metadata": {},
   "source": [
    "Анализ времени работы на маршрутах"
   ]
  },
  {
   "cell_type": "code",
   "execution_count": 169,
   "metadata": {},
   "outputs": [],
   "source": [
    "df_3=df_4"
   ]
  },
  {
   "cell_type": "code",
   "execution_count": 170,
   "metadata": {},
   "outputs": [
    {
     "data": {
      "text/html": [
       "<div>\n",
       "<style scoped>\n",
       "    .dataframe tbody tr th:only-of-type {\n",
       "        vertical-align: middle;\n",
       "    }\n",
       "\n",
       "    .dataframe tbody tr th {\n",
       "        vertical-align: top;\n",
       "    }\n",
       "\n",
       "    .dataframe thead th {\n",
       "        text-align: right;\n",
       "    }\n",
       "</style>\n",
       "<table border=\"1\" class=\"dataframe\">\n",
       "  <thead>\n",
       "    <tr style=\"text-align: right;\">\n",
       "      <th></th>\n",
       "      <th>tr_id</th>\n",
       "      <th>mr_id</th>\n",
       "      <th>mr_name</th>\n",
       "      <th>graph</th>\n",
       "      <th>tabelnum</th>\n",
       "      <th>condnum</th>\n",
       "      <th>date</th>\n",
       "      <th>startshift</th>\n",
       "      <th>endshift</th>\n",
       "    </tr>\n",
       "  </thead>\n",
       "  <tbody>\n",
       "    <tr>\n",
       "      <th>0</th>\n",
       "      <td>200000005</td>\n",
       "      <td>105</td>\n",
       "      <td>48д</td>\n",
       "      <td>17</td>\n",
       "      <td>0</td>\n",
       "      <td>0</td>\n",
       "      <td>2020-10-02</td>\n",
       "      <td>2020-10-02 05:00:00</td>\n",
       "      <td>2020-10-03 01:00:00</td>\n",
       "    </tr>\n",
       "    <tr>\n",
       "      <th>1</th>\n",
       "      <td>200000006</td>\n",
       "      <td>105</td>\n",
       "      <td>48д</td>\n",
       "      <td>21</td>\n",
       "      <td>0</td>\n",
       "      <td>0</td>\n",
       "      <td>2020-10-02</td>\n",
       "      <td>2020-10-02 05:00:00</td>\n",
       "      <td>2020-10-03 01:00:00</td>\n",
       "    </tr>\n",
       "    <tr>\n",
       "      <th>2</th>\n",
       "      <td>200000007</td>\n",
       "      <td>192</td>\n",
       "      <td>89</td>\n",
       "      <td>29</td>\n",
       "      <td>0</td>\n",
       "      <td>0</td>\n",
       "      <td>2020-10-02</td>\n",
       "      <td>2020-10-02 05:00:00</td>\n",
       "      <td>2020-10-03 01:00:00</td>\n",
       "    </tr>\n",
       "    <tr>\n",
       "      <th>3</th>\n",
       "      <td>200000010</td>\n",
       "      <td>159</td>\n",
       "      <td>96</td>\n",
       "      <td>10</td>\n",
       "      <td>0</td>\n",
       "      <td>0</td>\n",
       "      <td>2020-10-02</td>\n",
       "      <td>2020-10-02 05:00:00</td>\n",
       "      <td>2020-10-03 01:00:00</td>\n",
       "    </tr>\n",
       "    <tr>\n",
       "      <th>4</th>\n",
       "      <td>200000013</td>\n",
       "      <td>194</td>\n",
       "      <td>217</td>\n",
       "      <td>14</td>\n",
       "      <td>0</td>\n",
       "      <td>0</td>\n",
       "      <td>2020-10-02</td>\n",
       "      <td>2020-10-02 05:00:00</td>\n",
       "      <td>2020-10-03 01:00:00</td>\n",
       "    </tr>\n",
       "  </tbody>\n",
       "</table>\n",
       "</div>"
      ],
      "text/plain": [
       "       tr_id  mr_id mr_name  graph  tabelnum  condnum        date  \\\n",
       "0  200000005    105     48д     17         0        0  2020-10-02   \n",
       "1  200000006    105     48д     21         0        0  2020-10-02   \n",
       "2  200000007    192      89     29         0        0  2020-10-02   \n",
       "3  200000010    159      96     10         0        0  2020-10-02   \n",
       "4  200000013    194     217     14         0        0  2020-10-02   \n",
       "\n",
       "            startshift             endshift  \n",
       "0  2020-10-02 05:00:00  2020-10-03 01:00:00  \n",
       "1  2020-10-02 05:00:00  2020-10-03 01:00:00  \n",
       "2  2020-10-02 05:00:00  2020-10-03 01:00:00  \n",
       "3  2020-10-02 05:00:00  2020-10-03 01:00:00  \n",
       "4  2020-10-02 05:00:00  2020-10-03 01:00:00  "
      ]
     },
     "execution_count": 170,
     "metadata": {},
     "output_type": "execute_result"
    }
   ],
   "source": [
    "df_3.head()"
   ]
  },
  {
   "cell_type": "code",
   "execution_count": 171,
   "metadata": {},
   "outputs": [],
   "source": [
    "df_3['start']=pd.to_datetime(df_3['startshift'])"
   ]
  },
  {
   "cell_type": "code",
   "execution_count": 172,
   "metadata": {},
   "outputs": [],
   "source": [
    "df_3['start']=df_3['start'].dt.hour*60+df_3['start'].dt.minute"
   ]
  },
  {
   "cell_type": "code",
   "execution_count": 173,
   "metadata": {},
   "outputs": [],
   "source": [
    "df_3['end']=pd.to_datetime(df_3['endshift'])\n",
    "df_3['hour_']=df_3['end'].dt.hour\n",
    "df_3.loc[df_3.hour_ ==0, 'hour_'] = 24\n",
    "df_3.loc[df_3.hour_ ==1, 'hour_'] = 25\n",
    "df_3.loc[df_3.hour_ ==2, 'hour_'] = 26\n",
    "df_3['end']=df_3['hour_']*60+df_3['end'].dt.minute"
   ]
  },
  {
   "cell_type": "code",
   "execution_count": 174,
   "metadata": {},
   "outputs": [
    {
     "data": {
      "text/html": [
       "<div>\n",
       "<style scoped>\n",
       "    .dataframe tbody tr th:only-of-type {\n",
       "        vertical-align: middle;\n",
       "    }\n",
       "\n",
       "    .dataframe tbody tr th {\n",
       "        vertical-align: top;\n",
       "    }\n",
       "\n",
       "    .dataframe thead th {\n",
       "        text-align: right;\n",
       "    }\n",
       "</style>\n",
       "<table border=\"1\" class=\"dataframe\">\n",
       "  <thead>\n",
       "    <tr style=\"text-align: right;\">\n",
       "      <th></th>\n",
       "      <th>tr_id</th>\n",
       "      <th>mr_id</th>\n",
       "      <th>mr_name</th>\n",
       "      <th>graph</th>\n",
       "      <th>tabelnum</th>\n",
       "      <th>condnum</th>\n",
       "      <th>date</th>\n",
       "      <th>startshift</th>\n",
       "      <th>endshift</th>\n",
       "      <th>start</th>\n",
       "      <th>end</th>\n",
       "      <th>hour_</th>\n",
       "    </tr>\n",
       "  </thead>\n",
       "  <tbody>\n",
       "    <tr>\n",
       "      <th>0</th>\n",
       "      <td>200000005</td>\n",
       "      <td>105</td>\n",
       "      <td>48д</td>\n",
       "      <td>17</td>\n",
       "      <td>0</td>\n",
       "      <td>0</td>\n",
       "      <td>2020-10-02</td>\n",
       "      <td>2020-10-02 05:00:00</td>\n",
       "      <td>2020-10-03 01:00:00</td>\n",
       "      <td>300</td>\n",
       "      <td>1500</td>\n",
       "      <td>25</td>\n",
       "    </tr>\n",
       "    <tr>\n",
       "      <th>1</th>\n",
       "      <td>200000006</td>\n",
       "      <td>105</td>\n",
       "      <td>48д</td>\n",
       "      <td>21</td>\n",
       "      <td>0</td>\n",
       "      <td>0</td>\n",
       "      <td>2020-10-02</td>\n",
       "      <td>2020-10-02 05:00:00</td>\n",
       "      <td>2020-10-03 01:00:00</td>\n",
       "      <td>300</td>\n",
       "      <td>1500</td>\n",
       "      <td>25</td>\n",
       "    </tr>\n",
       "    <tr>\n",
       "      <th>2</th>\n",
       "      <td>200000007</td>\n",
       "      <td>192</td>\n",
       "      <td>89</td>\n",
       "      <td>29</td>\n",
       "      <td>0</td>\n",
       "      <td>0</td>\n",
       "      <td>2020-10-02</td>\n",
       "      <td>2020-10-02 05:00:00</td>\n",
       "      <td>2020-10-03 01:00:00</td>\n",
       "      <td>300</td>\n",
       "      <td>1500</td>\n",
       "      <td>25</td>\n",
       "    </tr>\n",
       "    <tr>\n",
       "      <th>3</th>\n",
       "      <td>200000010</td>\n",
       "      <td>159</td>\n",
       "      <td>96</td>\n",
       "      <td>10</td>\n",
       "      <td>0</td>\n",
       "      <td>0</td>\n",
       "      <td>2020-10-02</td>\n",
       "      <td>2020-10-02 05:00:00</td>\n",
       "      <td>2020-10-03 01:00:00</td>\n",
       "      <td>300</td>\n",
       "      <td>1500</td>\n",
       "      <td>25</td>\n",
       "    </tr>\n",
       "    <tr>\n",
       "      <th>4</th>\n",
       "      <td>200000013</td>\n",
       "      <td>194</td>\n",
       "      <td>217</td>\n",
       "      <td>14</td>\n",
       "      <td>0</td>\n",
       "      <td>0</td>\n",
       "      <td>2020-10-02</td>\n",
       "      <td>2020-10-02 05:00:00</td>\n",
       "      <td>2020-10-03 01:00:00</td>\n",
       "      <td>300</td>\n",
       "      <td>1500</td>\n",
       "      <td>25</td>\n",
       "    </tr>\n",
       "    <tr>\n",
       "      <th>...</th>\n",
       "      <td>...</td>\n",
       "      <td>...</td>\n",
       "      <td>...</td>\n",
       "      <td>...</td>\n",
       "      <td>...</td>\n",
       "      <td>...</td>\n",
       "      <td>...</td>\n",
       "      <td>...</td>\n",
       "      <td>...</td>\n",
       "      <td>...</td>\n",
       "      <td>...</td>\n",
       "      <td>...</td>\n",
       "    </tr>\n",
       "    <tr>\n",
       "      <th>1396</th>\n",
       "      <td>704953064</td>\n",
       "      <td>12</td>\n",
       "      <td>4</td>\n",
       "      <td>223</td>\n",
       "      <td>3473</td>\n",
       "      <td>0</td>\n",
       "      <td>2020-10-02</td>\n",
       "      <td>2020-10-02 14:09:00</td>\n",
       "      <td>2020-10-03 00:31:00</td>\n",
       "      <td>849</td>\n",
       "      <td>1471</td>\n",
       "      <td>24</td>\n",
       "    </tr>\n",
       "    <tr>\n",
       "      <th>1397</th>\n",
       "      <td>704953067</td>\n",
       "      <td>119</td>\n",
       "      <td>17</td>\n",
       "      <td>223</td>\n",
       "      <td>1569</td>\n",
       "      <td>0</td>\n",
       "      <td>2020-10-02</td>\n",
       "      <td>2020-10-02 14:35:00</td>\n",
       "      <td>2020-10-02 20:51:00</td>\n",
       "      <td>875</td>\n",
       "      <td>1251</td>\n",
       "      <td>20</td>\n",
       "    </tr>\n",
       "    <tr>\n",
       "      <th>1398</th>\n",
       "      <td>704953068</td>\n",
       "      <td>122</td>\n",
       "      <td>20</td>\n",
       "      <td>902</td>\n",
       "      <td>4157</td>\n",
       "      <td>0</td>\n",
       "      <td>2020-10-02</td>\n",
       "      <td>2020-10-02 06:53:00</td>\n",
       "      <td>2020-10-02 11:46:00</td>\n",
       "      <td>413</td>\n",
       "      <td>706</td>\n",
       "      <td>11</td>\n",
       "    </tr>\n",
       "    <tr>\n",
       "      <th>1399</th>\n",
       "      <td>704953071</td>\n",
       "      <td>121</td>\n",
       "      <td>15</td>\n",
       "      <td>910</td>\n",
       "      <td>546</td>\n",
       "      <td>0</td>\n",
       "      <td>2020-10-02</td>\n",
       "      <td>2020-10-02 05:37:00</td>\n",
       "      <td>2020-10-02 19:31:00</td>\n",
       "      <td>337</td>\n",
       "      <td>1171</td>\n",
       "      <td>19</td>\n",
       "    </tr>\n",
       "    <tr>\n",
       "      <th>1400</th>\n",
       "      <td>704953075</td>\n",
       "      <td>119</td>\n",
       "      <td>17</td>\n",
       "      <td>927</td>\n",
       "      <td>2513</td>\n",
       "      <td>0</td>\n",
       "      <td>2020-10-02</td>\n",
       "      <td>2020-10-02 05:18:00</td>\n",
       "      <td>2020-10-02 19:46:00</td>\n",
       "      <td>318</td>\n",
       "      <td>1186</td>\n",
       "      <td>19</td>\n",
       "    </tr>\n",
       "  </tbody>\n",
       "</table>\n",
       "<p>1401 rows × 12 columns</p>\n",
       "</div>"
      ],
      "text/plain": [
       "          tr_id  mr_id mr_name  graph  tabelnum  condnum        date  \\\n",
       "0     200000005    105     48д     17         0        0  2020-10-02   \n",
       "1     200000006    105     48д     21         0        0  2020-10-02   \n",
       "2     200000007    192      89     29         0        0  2020-10-02   \n",
       "3     200000010    159      96     10         0        0  2020-10-02   \n",
       "4     200000013    194     217     14         0        0  2020-10-02   \n",
       "...         ...    ...     ...    ...       ...      ...         ...   \n",
       "1396  704953064     12       4    223      3473        0  2020-10-02   \n",
       "1397  704953067    119      17    223      1569        0  2020-10-02   \n",
       "1398  704953068    122      20    902      4157        0  2020-10-02   \n",
       "1399  704953071    121      15    910       546        0  2020-10-02   \n",
       "1400  704953075    119      17    927      2513        0  2020-10-02   \n",
       "\n",
       "               startshift             endshift  start   end  hour_  \n",
       "0     2020-10-02 05:00:00  2020-10-03 01:00:00    300  1500     25  \n",
       "1     2020-10-02 05:00:00  2020-10-03 01:00:00    300  1500     25  \n",
       "2     2020-10-02 05:00:00  2020-10-03 01:00:00    300  1500     25  \n",
       "3     2020-10-02 05:00:00  2020-10-03 01:00:00    300  1500     25  \n",
       "4     2020-10-02 05:00:00  2020-10-03 01:00:00    300  1500     25  \n",
       "...                   ...                  ...    ...   ...    ...  \n",
       "1396  2020-10-02 14:09:00  2020-10-03 00:31:00    849  1471     24  \n",
       "1397  2020-10-02 14:35:00  2020-10-02 20:51:00    875  1251     20  \n",
       "1398  2020-10-02 06:53:00  2020-10-02 11:46:00    413   706     11  \n",
       "1399  2020-10-02 05:37:00  2020-10-02 19:31:00    337  1171     19  \n",
       "1400  2020-10-02 05:18:00  2020-10-02 19:46:00    318  1186     19  \n",
       "\n",
       "[1401 rows x 12 columns]"
      ]
     },
     "execution_count": 174,
     "metadata": {},
     "output_type": "execute_result"
    }
   ],
   "source": [
    "df_3"
   ]
  },
  {
   "cell_type": "code",
   "execution_count": 175,
   "metadata": {},
   "outputs": [],
   "source": [
    "df_3['delta']=df_3['end']-df_3['start']"
   ]
  },
  {
   "cell_type": "code",
   "execution_count": 176,
   "metadata": {},
   "outputs": [],
   "source": [
    "time_mr_id=pd.DataFrame(df_3.groupby(['mr_id']).agg({'delta': np.sum})).reset_index()"
   ]
  },
  {
   "cell_type": "code",
   "execution_count": 177,
   "metadata": {},
   "outputs": [],
   "source": [
    "time_mr_id['delta']=time_mr_id['delta']/60"
   ]
  },
  {
   "cell_type": "code",
   "execution_count": 160,
   "metadata": {},
   "outputs": [],
   "source": [
    "time_mr_id_bud=time_mr_id"
   ]
  },
  {
   "cell_type": "code",
   "execution_count": 178,
   "metadata": {},
   "outputs": [],
   "source": [
    "time_mr_id=time_mr_id_bud.merge(time_mr_id,on='mr_id',how='outer')"
   ]
  },
  {
   "cell_type": "code",
   "execution_count": 179,
   "metadata": {},
   "outputs": [],
   "source": [
    "time_mr_id.to_csv('time.csv')"
   ]
  },
  {
   "cell_type": "code",
   "execution_count": null,
   "metadata": {},
   "outputs": [],
   "source": []
  },
  {
   "cell_type": "code",
   "execution_count": null,
   "metadata": {},
   "outputs": [],
   "source": []
  },
  {
   "cell_type": "code",
   "execution_count": null,
   "metadata": {},
   "outputs": [],
   "source": []
  },
  {
   "cell_type": "code",
   "execution_count": null,
   "metadata": {},
   "outputs": [],
   "source": []
  }
 ],
 "metadata": {
  "kernelspec": {
   "display_name": "Python 3",
   "language": "python",
   "name": "python3"
  },
  "language_info": {
   "codemirror_mode": {
    "name": "ipython",
    "version": 3
   },
   "file_extension": ".py",
   "mimetype": "text/x-python",
   "name": "python",
   "nbconvert_exporter": "python",
   "pygments_lexer": "ipython3",
   "version": "3.8.3"
  }
 },
 "nbformat": 4,
 "nbformat_minor": 2
}
