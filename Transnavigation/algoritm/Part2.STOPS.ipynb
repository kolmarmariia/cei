{
 "cells": [
  {
   "cell_type": "code",
   "execution_count": 3,
   "metadata": {},
   "outputs": [],
   "source": [
    "import pandas as pd\n",
    "import geopandas as gpd\n",
    "import numpy as np\n",
    "import matplotlib.pyplot as plt\n",
    "from datetime import datetime\n",
    "import os\n",
    "from tqdm import tqdm_notebook as tqdm"
   ]
  },
  {
   "cell_type": "code",
   "execution_count": 4,
   "metadata": {},
   "outputs": [],
   "source": [
    "path = '.\\\\done\\\\'"
   ]
  },
  {
   "cell_type": "code",
   "execution_count": 60,
   "metadata": {},
   "outputs": [],
   "source": [
    "files = [f for f in os.listdir(path) if \"for_perl_\" in f]"
   ]
  },
  {
   "cell_type": "code",
   "execution_count": 61,
   "metadata": {},
   "outputs": [
    {
     "data": {
      "text/plain": [
       "['for_perl_mr_id_12.csv', 'for_perl_mr_id_17.csv']"
      ]
     },
     "execution_count": 61,
     "metadata": {},
     "output_type": "execute_result"
    }
   ],
   "source": [
    "files"
   ]
  },
  {
   "cell_type": "code",
   "execution_count": 77,
   "metadata": {},
   "outputs": [],
   "source": [
    "stop_seq = pd.read_csv('.\\\\data\\\\stop_seq.csv', sep = ';', encoding = 'cp1251')\n",
    "stop_count=pd.DataFrame(stop_seq.groupby(['mr_id','rl_id']).agg({'rc_orderby': np.max})).reset_index()"
   ]
  },
  {
   "cell_type": "code",
   "execution_count": 78,
   "metadata": {},
   "outputs": [],
   "source": [
    "res_stop=pd.DataFrame()\n",
    "for file in files:\n",
    "    m = pd.read_csv(path+file, sep = ';', encoding='utf-8')\n",
    "    m=m[m['len']<100]\n",
    "    res_stop=res_stop.append(m)\n",
    "    res_stop=res_stop.sort_values(by=['mr_id','tabelnum','timenav','len'])\n",
    "    "
   ]
  },
  {
   "cell_type": "code",
   "execution_count": 79,
   "metadata": {},
   "outputs": [],
   "source": [
    "res_stop=res_stop.reset_index()"
   ]
  },
  {
   "cell_type": "code",
   "execution_count": 80,
   "metadata": {},
   "outputs": [],
   "source": [
    "res_stop['time']=pd.to_datetime(res_stop['timenav'])\n",
    "res_stop['hour']=res_stop['time'].dt.hour\n",
    "res_stop['min']=res_stop['time'].dt.minute\n",
    "res_stop['sec']=res_stop['time'].dt.second\n",
    "res_stop['time']=(res_stop['hour'].astype(int))*3600+(res_stop['min'].astype(int))*60+(res_stop['sec'].astype(int))"
   ]
  },
  {
   "cell_type": "code",
   "execution_count": 81,
   "metadata": {},
   "outputs": [
    {
     "data": {
      "text/html": [
       "<div>\n",
       "<style scoped>\n",
       "    .dataframe tbody tr th:only-of-type {\n",
       "        vertical-align: middle;\n",
       "    }\n",
       "\n",
       "    .dataframe tbody tr th {\n",
       "        vertical-align: top;\n",
       "    }\n",
       "\n",
       "    .dataframe thead th {\n",
       "        text-align: right;\n",
       "    }\n",
       "</style>\n",
       "<table border=\"1\" class=\"dataframe\">\n",
       "  <thead>\n",
       "    <tr style=\"text-align: right;\">\n",
       "      <th></th>\n",
       "      <th>index</th>\n",
       "      <th>mr_id</th>\n",
       "      <th>rl_id</th>\n",
       "      <th>rc_orderby</th>\n",
       "      <th>ssId</th>\n",
       "      <th>tr_id</th>\n",
       "      <th>timenav</th>\n",
       "      <th>len</th>\n",
       "      <th>geometry</th>\n",
       "      <th>ss_lat</th>\n",
       "      <th>ss_long</th>\n",
       "      <th>tabelnum</th>\n",
       "      <th>number_circle</th>\n",
       "      <th>time</th>\n",
       "      <th>hour</th>\n",
       "      <th>min</th>\n",
       "      <th>sec</th>\n",
       "    </tr>\n",
       "  </thead>\n",
       "  <tbody>\n",
       "    <tr>\n",
       "      <th>0</th>\n",
       "      <td>0</td>\n",
       "      <td>12</td>\n",
       "      <td>47565</td>\n",
       "      <td>30</td>\n",
       "      <td>179</td>\n",
       "      <td>700101007</td>\n",
       "      <td>2020-08-03 05:46:03</td>\n",
       "      <td>95.316912</td>\n",
       "      <td>LINESTRING (50.125252 53.19819, 50.125252 53.1...</td>\n",
       "      <td>53.198462</td>\n",
       "      <td>50.126609</td>\n",
       "      <td>453</td>\n",
       "      <td>1</td>\n",
       "      <td>20763</td>\n",
       "      <td>5</td>\n",
       "      <td>46</td>\n",
       "      <td>3</td>\n",
       "    </tr>\n",
       "    <tr>\n",
       "      <th>1</th>\n",
       "      <td>1</td>\n",
       "      <td>12</td>\n",
       "      <td>47565</td>\n",
       "      <td>31</td>\n",
       "      <td>181</td>\n",
       "      <td>700101007</td>\n",
       "      <td>2020-08-03 05:50:03</td>\n",
       "      <td>80.297151</td>\n",
       "      <td>LINESTRING (50.123743 53.195042, 50.123743 53....</td>\n",
       "      <td>53.194369</td>\n",
       "      <td>50.123306</td>\n",
       "      <td>453</td>\n",
       "      <td>1</td>\n",
       "      <td>21003</td>\n",
       "      <td>5</td>\n",
       "      <td>50</td>\n",
       "      <td>3</td>\n",
       "    </tr>\n",
       "    <tr>\n",
       "      <th>2</th>\n",
       "      <td>2</td>\n",
       "      <td>12</td>\n",
       "      <td>47565</td>\n",
       "      <td>32</td>\n",
       "      <td>1404</td>\n",
       "      <td>700101007</td>\n",
       "      <td>2020-08-03 05:50:03</td>\n",
       "      <td>89.009492</td>\n",
       "      <td>LINESTRING (50.123743 53.195042, 50.123743 53....</td>\n",
       "      <td>53.194298</td>\n",
       "      <td>50.123250</td>\n",
       "      <td>453</td>\n",
       "      <td>1</td>\n",
       "      <td>21003</td>\n",
       "      <td>5</td>\n",
       "      <td>50</td>\n",
       "      <td>3</td>\n",
       "    </tr>\n",
       "    <tr>\n",
       "      <th>3</th>\n",
       "      <td>3</td>\n",
       "      <td>12</td>\n",
       "      <td>47565</td>\n",
       "      <td>31</td>\n",
       "      <td>181</td>\n",
       "      <td>700101007</td>\n",
       "      <td>2020-08-03 05:50:18</td>\n",
       "      <td>24.847958</td>\n",
       "      <td>LINESTRING (50.123282 53.19459200000001, 50.12...</td>\n",
       "      <td>53.194369</td>\n",
       "      <td>50.123306</td>\n",
       "      <td>453</td>\n",
       "      <td>1</td>\n",
       "      <td>21018</td>\n",
       "      <td>5</td>\n",
       "      <td>50</td>\n",
       "      <td>18</td>\n",
       "    </tr>\n",
       "    <tr>\n",
       "      <th>4</th>\n",
       "      <td>4</td>\n",
       "      <td>12</td>\n",
       "      <td>47565</td>\n",
       "      <td>32</td>\n",
       "      <td>1404</td>\n",
       "      <td>700101007</td>\n",
       "      <td>2020-08-03 05:50:18</td>\n",
       "      <td>32.760738</td>\n",
       "      <td>LINESTRING (50.123282 53.19459200000001, 50.12...</td>\n",
       "      <td>53.194298</td>\n",
       "      <td>50.123250</td>\n",
       "      <td>453</td>\n",
       "      <td>1</td>\n",
       "      <td>21018</td>\n",
       "      <td>5</td>\n",
       "      <td>50</td>\n",
       "      <td>18</td>\n",
       "    </tr>\n",
       "  </tbody>\n",
       "</table>\n",
       "</div>"
      ],
      "text/plain": [
       "   index  mr_id  rl_id  rc_orderby  ssId      tr_id              timenav  \\\n",
       "0      0     12  47565          30   179  700101007  2020-08-03 05:46:03   \n",
       "1      1     12  47565          31   181  700101007  2020-08-03 05:50:03   \n",
       "2      2     12  47565          32  1404  700101007  2020-08-03 05:50:03   \n",
       "3      3     12  47565          31   181  700101007  2020-08-03 05:50:18   \n",
       "4      4     12  47565          32  1404  700101007  2020-08-03 05:50:18   \n",
       "\n",
       "         len                                           geometry     ss_lat  \\\n",
       "0  95.316912  LINESTRING (50.125252 53.19819, 50.125252 53.1...  53.198462   \n",
       "1  80.297151  LINESTRING (50.123743 53.195042, 50.123743 53....  53.194369   \n",
       "2  89.009492  LINESTRING (50.123743 53.195042, 50.123743 53....  53.194298   \n",
       "3  24.847958  LINESTRING (50.123282 53.19459200000001, 50.12...  53.194369   \n",
       "4  32.760738  LINESTRING (50.123282 53.19459200000001, 50.12...  53.194298   \n",
       "\n",
       "     ss_long  tabelnum  number_circle   time  hour  min  sec  \n",
       "0  50.126609       453              1  20763     5   46    3  \n",
       "1  50.123306       453              1  21003     5   50    3  \n",
       "2  50.123250       453              1  21003     5   50    3  \n",
       "3  50.123306       453              1  21018     5   50   18  \n",
       "4  50.123250       453              1  21018     5   50   18  "
      ]
     },
     "execution_count": 81,
     "metadata": {},
     "output_type": "execute_result"
    }
   ],
   "source": [
    "res_stop.head()"
   ]
  },
  {
   "cell_type": "code",
   "execution_count": 82,
   "metadata": {},
   "outputs": [],
   "source": [
    "#res_stop=res_stop[0:1000]"
   ]
  },
  {
   "cell_type": "code",
   "execution_count": 83,
   "metadata": {},
   "outputs": [],
   "source": [
    "stop_now=0\n",
    "number_circle_now=1\n",
    "time_now=res_stop['time'].loc[0]\n",
    "rl_id_now=res_stop['rl_id'].loc[0]\n",
    "tabelnum_now=res_stop['tabelnum'].loc[0]\n",
    "rc_orderby_now=1\n",
    "df=pd.DataFrame()\n",
    "l=0\n",
    "len_max=res_stop['len'].loc[0]\n",
    "\n",
    "for index, row in res_stop.iterrows():\n",
    "    if(row['tabelnum']==tabelnum_now):\n",
    "        if (row['rc_orderby']==1)&(row['len']<len_max):\n",
    "            rl_id_now=row['rl_id']\n",
    "            rc_orderby_now=row['rc_orderby']\n",
    "            df=df.append(row)\n",
    "            row['number_circle']=number_circle_now  \n",
    "            if(row['len']>len_max):\n",
    "                len_max=row['len']                   \n",
    "        elif((row['rl_id']==rl_id_now)\n",
    "            &(row['rc_orderby']==rc_orderby_now+1)\n",
    "            &(row['len']<len_max)):\n",
    "            stop_now=row['ssId']\n",
    "            rc_orderby_now=row['rc_orderby']\n",
    "            row['number_circle']=number_circle_now\n",
    "            df=df.append(row)\n",
    "            stop_num=int(stop_count['rc_orderby'][(stop_count['mr_id']==row['mr_id']) & (stop_count['rl_id']==row['rl_id'])])\n",
    "            if(row['rc_orderby']==stop_num):\n",
    "                stop_now=0\n",
    "                l=0\n",
    "                number_circle_now=number_circle_now+1\n",
    "            elif((row['rl_id']==rl_id_now)&(row['rc_orderby']==rc_orderby_now+1)):\n",
    "                len_max=row['len']  \n",
    "    else:\n",
    "        stop_now=0\n",
    "        l=0\n",
    "        number_circle_now=1\n",
    "        tabelnum_now=row['tabelnum']\n",
    "        if(row['rc_orderby']==1):\n",
    "            df=df.append(row)"
   ]
  },
  {
   "cell_type": "code",
   "execution_count": null,
   "metadata": {},
   "outputs": [],
   "source": []
  },
  {
   "cell_type": "code",
   "execution_count": 74,
   "metadata": {},
   "outputs": [
    {
     "data": {
      "text/plain": [
       "array([143.,  42., 204., 144.,  36.,  45., 145., 146., 147., 174., 173.,\n",
       "       171., 169., 167., 165., 162., 161., 159., 157., 155., 153.,  79.,\n",
       "        48.,  49.])"
      ]
     },
     "execution_count": 74,
     "metadata": {},
     "output_type": "execute_result"
    }
   ],
   "source": [
    "df['ssId'].unique()"
   ]
  },
  {
   "cell_type": "code",
   "execution_count": null,
   "metadata": {},
   "outputs": [],
   "source": []
  },
  {
   "cell_type": "code",
   "execution_count": 75,
   "metadata": {},
   "outputs": [],
   "source": [
    "df2=df[['len','mr_id','number_circle','ssId','rc_orderby','timenav']]"
   ]
  },
  {
   "cell_type": "code",
   "execution_count": 76,
   "metadata": {},
   "outputs": [],
   "source": [
    "df2.to_csv('proverka.csv')"
   ]
  },
  {
   "cell_type": "code",
   "execution_count": null,
   "metadata": {},
   "outputs": [],
   "source": []
  },
  {
   "cell_type": "code",
   "execution_count": 28,
   "metadata": {},
   "outputs": [],
   "source": [
    "df.to_csv('Res2.csv')"
   ]
  },
  {
   "cell_type": "code",
   "execution_count": null,
   "metadata": {},
   "outputs": [],
   "source": []
  },
  {
   "cell_type": "code",
   "execution_count": null,
   "metadata": {},
   "outputs": [],
   "source": []
  }
 ],
 "metadata": {
  "kernelspec": {
   "display_name": "Python 3",
   "language": "python",
   "name": "python3"
  },
  "language_info": {
   "codemirror_mode": {
    "name": "ipython",
    "version": 3
   },
   "file_extension": ".py",
   "mimetype": "text/x-python",
   "name": "python",
   "nbconvert_exporter": "python",
   "pygments_lexer": "ipython3",
   "version": "3.7.4"
  }
 },
 "nbformat": 4,
 "nbformat_minor": 2
}
