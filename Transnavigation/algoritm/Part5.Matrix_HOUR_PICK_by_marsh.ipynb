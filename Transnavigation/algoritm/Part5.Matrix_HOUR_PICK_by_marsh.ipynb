{
 "cells": [
  {
   "cell_type": "code",
   "execution_count": 83,
   "metadata": {},
   "outputs": [],
   "source": [
    "import pandas as pd\n",
    "import geopandas as gpd\n",
    "import numpy as np\n",
    "import matplotlib.pyplot as plt\n",
    "from datetime import datetime\n",
    "import os\n",
    "import math\n",
    "from tqdm import tqdm_notebook as tqdm\n",
    "import warnings\n",
    "warnings.filterwarnings('ignore')\n",
    "from shapely.geometry import *\n",
    "from shapely.ops import *"
   ]
  },
  {
   "cell_type": "code",
   "execution_count": 84,
   "metadata": {},
   "outputs": [],
   "source": [
    "path=('./done_oct/')"
   ]
  },
  {
   "cell_type": "markdown",
   "metadata": {},
   "source": [
    "# 1. На вход подаются данные по валидациям, привязанным к остановкам за 3 дня"
   ]
  },
  {
   "cell_type": "code",
   "execution_count": 85,
   "metadata": {},
   "outputs": [],
   "source": [
    "DATA=pd.read_csv(path+'For_matrix_2019_10_16.csv', sep = ',', encoding='utf-8')\n",
    "DATA2=pd.read_csv(path+'For_matrix_2019_10_17.csv', sep = ',', encoding='utf-8')\n",
    "DATA2['time']=DATA2['time']+24*3600 #прибалвяем 24 часа в секундах\n",
    "DATA3=pd.read_csv(path+'For_matrix_2019_10_18.csv', sep = ',', encoding='utf-8')\n",
    "DATA3['time']=DATA3['time']+24*3600+24*3600 #прибалвяем 24*2  часа (2 дня) в секундах\n",
    "DATA=DATA.append(DATA2).append(DATA3)"
   ]
  },
  {
   "cell_type": "code",
   "execution_count": 86,
   "metadata": {},
   "outputs": [],
   "source": [
    "DATA=DATA[['Дата и время поездки','Номер кристалла','TCAT','Код Маршрута','Код предприятия','mr_id','time','ssId','rl_id','rc_orderby']]"
   ]
  },
  {
   "cell_type": "code",
   "execution_count": 87,
   "metadata": {},
   "outputs": [
    {
     "data": {
      "text/plain": [
       "1248518"
      ]
     },
     "execution_count": 87,
     "metadata": {},
     "output_type": "execute_result"
    }
   ],
   "source": [
    "len(DATA)"
   ]
  },
  {
   "cell_type": "code",
   "execution_count": 88,
   "metadata": {},
   "outputs": [
    {
     "data": {
      "text/plain": [
       "array([  1,  10,  12,  14,  15,  17,  18,  20,  23,  24,  25,  26,  27,\n",
       "        28,  30,  31,  32,  34,  35,  36,  37,  38,  39,  43,  44,  45,\n",
       "        47,  48,  49,  59,  60,  61,  62,  64,  68,  70,  71,  73,  81,\n",
       "        97,  98,  99, 100, 103, 111, 112, 113, 114, 115, 116, 117, 118,\n",
       "       119, 120, 121, 122, 126, 127, 129, 130, 132, 133, 134, 135, 136,\n",
       "       137, 138, 139, 140, 141, 142, 143, 144, 145, 146, 151, 152, 176,\n",
       "       187, 199,  19, 102], dtype=int64)"
      ]
     },
     "execution_count": 88,
     "metadata": {},
     "output_type": "execute_result"
    }
   ],
   "source": [
    "DATA['mr_id'].unique()"
   ]
  },
  {
   "cell_type": "code",
   "execution_count": 89,
   "metadata": {},
   "outputs": [],
   "source": [
    "subway=pd.read_csv(path+'stops_subway.csv', sep = ';', encoding='utf-8')"
   ]
  },
  {
   "cell_type": "code",
   "execution_count": 90,
   "metadata": {},
   "outputs": [
    {
     "data": {
      "text/html": [
       "<div>\n",
       "<style scoped>\n",
       "    .dataframe tbody tr th:only-of-type {\n",
       "        vertical-align: middle;\n",
       "    }\n",
       "\n",
       "    .dataframe tbody tr th {\n",
       "        vertical-align: top;\n",
       "    }\n",
       "\n",
       "    .dataframe thead th {\n",
       "        text-align: right;\n",
       "    }\n",
       "</style>\n",
       "<table border=\"1\" class=\"dataframe\">\n",
       "  <thead>\n",
       "    <tr style=\"text-align: right;\">\n",
       "      <th></th>\n",
       "      <th>ssId</th>\n",
       "      <th>Станция</th>\n",
       "      <th>ss_lat</th>\n",
       "      <th>ss_long</th>\n",
       "    </tr>\n",
       "  </thead>\n",
       "  <tbody>\n",
       "    <tr>\n",
       "      <th>0</th>\n",
       "      <td>2081</td>\n",
       "      <td>Алабинская</td>\n",
       "      <td>53.209188</td>\n",
       "      <td>50.133092</td>\n",
       "    </tr>\n",
       "    <tr>\n",
       "      <th>1</th>\n",
       "      <td>2082</td>\n",
       "      <td>Российская</td>\n",
       "      <td>53.211449</td>\n",
       "      <td>50.149668</td>\n",
       "    </tr>\n",
       "    <tr>\n",
       "      <th>2</th>\n",
       "      <td>2083</td>\n",
       "      <td>Московская</td>\n",
       "      <td>53.203067</td>\n",
       "      <td>50.160567</td>\n",
       "    </tr>\n",
       "    <tr>\n",
       "      <th>3</th>\n",
       "      <td>2084</td>\n",
       "      <td>Гагаринская</td>\n",
       "      <td>53.200304</td>\n",
       "      <td>50.176584</td>\n",
       "    </tr>\n",
       "    <tr>\n",
       "      <th>4</th>\n",
       "      <td>2085</td>\n",
       "      <td>Спортивная</td>\n",
       "      <td>53.200954</td>\n",
       "      <td>50.199017</td>\n",
       "    </tr>\n",
       "  </tbody>\n",
       "</table>\n",
       "</div>"
      ],
      "text/plain": [
       "   ssId      Станция     ss_lat    ss_long\n",
       "0  2081   Алабинская  53.209188  50.133092\n",
       "1  2082   Российская  53.211449  50.149668\n",
       "2  2083   Московская  53.203067  50.160567\n",
       "3  2084  Гагаринская  53.200304  50.176584\n",
       "4  2085   Спортивная  53.200954  50.199017"
      ]
     },
     "execution_count": 90,
     "metadata": {},
     "output_type": "execute_result"
    }
   ],
   "source": [
    "subway.head()"
   ]
  },
  {
   "cell_type": "markdown",
   "metadata": {},
   "source": [
    "# 2. Загружаем данные метрополитена (при наличии)"
   ]
  },
  {
   "cell_type": "code",
   "execution_count": 91,
   "metadata": {},
   "outputs": [],
   "source": [
    "METRO=pd.read_csv(path+'./metro/2019.10.16.csv', sep=',', encoding='windows-1251')\n",
    "METRO=METRO.merge(subway,on='Станция', how ='left')\n",
    "METRO['Код Маршрута']='subway'\n",
    "METRO['mr_id']=0\n",
    "METRO['rl_id']=0\n",
    "METRO['rc_orderby']=0\n",
    "METRO['time']=pd.to_datetime(METRO['Дата и время поездки'])\n",
    "METRO['hour']=METRO['time'].dt.hour\n",
    "METRO['min']=METRO['time'].dt.minute\n",
    "METRO['sec']=METRO['time'].dt.second\n",
    "METRO['time']=(METRO['hour'].astype(int))*3600+(METRO['min'].astype(int))*60+(METRO['sec'].astype(int))\n",
    "METRO=METRO.drop('hour',axis=1).drop('sec',axis=1).drop('min',axis=1).drop('Терминал',axis=1).drop('NUM_TRIP',axis=1)\n",
    "METRO=METRO[['Дата и время поездки','Номер кристалла','TCAT','Код Маршрута','Код предприятия','mr_id','time','ssId','rl_id','rc_orderby']]"
   ]
  },
  {
   "cell_type": "markdown",
   "metadata": {},
   "source": [
    "РАЗМАЗЫВАЕМ 43684 в течение дня"
   ]
  },
  {
   "cell_type": "code",
   "execution_count": 92,
   "metadata": {},
   "outputs": [],
   "source": [
    "METRO['c']=1+(43684/len(METRO))"
   ]
  },
  {
   "cell_type": "code",
   "execution_count": 93,
   "metadata": {},
   "outputs": [],
   "source": [
    "METRO2=pd.read_csv(path+'./metro/2019.10.17.csv', sep=',', encoding='windows-1251')\n",
    "METRO2=METRO2.merge(subway,on='Станция', how ='left')\n",
    "METRO2['Код Маршрута']='subway'\n",
    "METRO2['mr_id']=0\n",
    "METRO2['rl_id']=0\n",
    "METRO2['rc_orderby']=0\n",
    "METRO2['time']=pd.to_datetime(METRO2['Дата и время поездки'])\n",
    "METRO2['hour']=METRO2['time'].dt.hour\n",
    "METRO2['min']=METRO2['time'].dt.minute\n",
    "METRO2['sec']=METRO2['time'].dt.second\n",
    "METRO2['time']=(METRO2['hour'].astype(int))*3600+(METRO2['min'].astype(int))*60+(METRO2['sec'].astype(int))+24*3600\n",
    "METRO2=METRO2.drop('hour',axis=1).drop('sec',axis=1).drop('min',axis=1).drop('Терминал',axis=1).drop('NUM_TRIP',axis=1)\n",
    "METRO2=METRO2[['Дата и время поездки','Номер кристалла','TCAT','Код Маршрута','Код предприятия','mr_id','time','ssId','rl_id','rc_orderby']]\n",
    "METRO2['c']=1+(43684/len(METRO2))"
   ]
  },
  {
   "cell_type": "code",
   "execution_count": 94,
   "metadata": {},
   "outputs": [
    {
     "data": {
      "text/plain": [
       "33682"
      ]
     },
     "execution_count": 94,
     "metadata": {},
     "output_type": "execute_result"
    }
   ],
   "source": [
    "len(METRO2)"
   ]
  },
  {
   "cell_type": "code",
   "execution_count": 95,
   "metadata": {},
   "outputs": [
    {
     "data": {
      "text/plain": [
       "10002"
      ]
     },
     "execution_count": 95,
     "metadata": {},
     "output_type": "execute_result"
    }
   ],
   "source": [
    "43684-33682"
   ]
  },
  {
   "cell_type": "code",
   "execution_count": 96,
   "metadata": {},
   "outputs": [
    {
     "data": {
      "text/plain": [
       "0.22896254921710466"
      ]
     },
     "execution_count": 96,
     "metadata": {},
     "output_type": "execute_result"
    }
   ],
   "source": [
    "10002/43684"
   ]
  },
  {
   "cell_type": "code",
   "execution_count": 97,
   "metadata": {
    "scrolled": true
   },
   "outputs": [],
   "source": [
    "METRO3=pd.read_csv(path+'./metro/2019.10.18.csv', sep=',', encoding='windows-1251')\n",
    "METRO3=METRO3.merge(subway,on='Станция', how ='left')\n",
    "METRO3['Код Маршрута']='subway'\n",
    "METRO3['mr_id']=0\n",
    "METRO3['rl_id']=0\n",
    "METRO3['rc_orderby']=0\n",
    "METRO3['time']=pd.to_datetime(METRO3['Дата и время поездки'])\n",
    "METRO3['hour']=METRO3['time'].dt.hour\n",
    "METRO3['min']=METRO3['time'].dt.minute\n",
    "METRO3['sec']=METRO3['time'].dt.second\n",
    "METRO3['time']=(METRO3['hour'].astype(int))*3600+(METRO3['min'].astype(int))*60+(METRO3['sec'].astype(int))+24*3600+24*3600\n",
    "METRO3=METRO3.drop('hour',axis=1).drop('sec',axis=1).drop('min',axis=1).drop('Терминал',axis=1).drop('NUM_TRIP',axis=1)\n",
    "METRO3=METRO3[['Дата и время поездки','Номер кристалла','TCAT','Код Маршрута','Код предприятия','mr_id','time','ssId','rl_id','rc_orderby']]\n",
    "METRO3['c']=1+(43684/len(METRO3))"
   ]
  },
  {
   "cell_type": "code",
   "execution_count": 98,
   "metadata": {},
   "outputs": [],
   "source": [
    "DATA['c']=1"
   ]
  },
  {
   "cell_type": "code",
   "execution_count": 99,
   "metadata": {},
   "outputs": [],
   "source": [
    "DATA=DATA.append(METRO).append(METRO2).append(METRO3)"
   ]
  },
  {
   "cell_type": "code",
   "execution_count": 100,
   "metadata": {},
   "outputs": [],
   "source": [
    "del METRO\n",
    "del METRO2\n",
    "del METRO3\n",
    "del DATA2\n",
    "del DATA3"
   ]
  },
  {
   "cell_type": "code",
   "execution_count": 101,
   "metadata": {},
   "outputs": [
    {
     "data": {
      "text/plain": [
       "1349420"
      ]
     },
     "execution_count": 101,
     "metadata": {},
     "output_type": "execute_result"
    }
   ],
   "source": [
    "len(DATA)"
   ]
  },
  {
   "cell_type": "markdown",
   "metadata": {},
   "source": [
    "# 3. Привязываем все валидации к сайтам"
   ]
  },
  {
   "cell_type": "code",
   "execution_count": 102,
   "metadata": {},
   "outputs": [],
   "source": [
    "sites=pd.read_csv('./done_oct/res/stop_seq_v3.csv', sep = ';', encoding='utf-8')"
   ]
  },
  {
   "cell_type": "code",
   "execution_count": 103,
   "metadata": {},
   "outputs": [],
   "source": [
    "sites['ssId']=sites['ssId'].astype('str')"
   ]
  },
  {
   "cell_type": "code",
   "execution_count": 104,
   "metadata": {},
   "outputs": [],
   "source": [
    "DATA['ssId']=DATA['ssId'].astype('str')"
   ]
  },
  {
   "cell_type": "code",
   "execution_count": 105,
   "metadata": {},
   "outputs": [
    {
     "data": {
      "text/plain": [
       "0"
      ]
     },
     "execution_count": 105,
     "metadata": {},
     "output_type": "execute_result"
    }
   ],
   "source": [
    "sites=sites[['ssId','site_id']].drop_duplicates()\n",
    "DATA=DATA.merge(sites,on='ssId', how='left')\n",
    "len(DATA[DATA['ssId']==0])"
   ]
  },
  {
   "cell_type": "code",
   "execution_count": 106,
   "metadata": {},
   "outputs": [
    {
     "data": {
      "text/plain": [
       "1349420"
      ]
     },
     "execution_count": 106,
     "metadata": {},
     "output_type": "execute_result"
    }
   ],
   "source": [
    "len(DATA)"
   ]
  },
  {
   "cell_type": "code",
   "execution_count": 107,
   "metadata": {},
   "outputs": [
    {
     "data": {
      "text/html": [
       "<div>\n",
       "<style scoped>\n",
       "    .dataframe tbody tr th:only-of-type {\n",
       "        vertical-align: middle;\n",
       "    }\n",
       "\n",
       "    .dataframe tbody tr th {\n",
       "        vertical-align: top;\n",
       "    }\n",
       "\n",
       "    .dataframe thead th {\n",
       "        text-align: right;\n",
       "    }\n",
       "</style>\n",
       "<table border=\"1\" class=\"dataframe\">\n",
       "  <thead>\n",
       "    <tr style=\"text-align: right;\">\n",
       "      <th></th>\n",
       "      <th>Дата и время поездки</th>\n",
       "      <th>Номер кристалла</th>\n",
       "      <th>TCAT</th>\n",
       "      <th>Код Маршрута</th>\n",
       "      <th>Код предприятия</th>\n",
       "      <th>mr_id</th>\n",
       "      <th>time</th>\n",
       "      <th>ssId</th>\n",
       "      <th>rl_id</th>\n",
       "      <th>rc_orderby</th>\n",
       "      <th>c</th>\n",
       "      <th>site_id</th>\n",
       "    </tr>\n",
       "  </thead>\n",
       "  <tbody>\n",
       "    <tr>\n",
       "      <th>0</th>\n",
       "      <td>2019-10-16 10:35:51</td>\n",
       "      <td>C502D58F</td>\n",
       "      <td>СОЦ</td>\n",
       "      <td>10003456789</td>\n",
       "      <td>5</td>\n",
       "      <td>1</td>\n",
       "      <td>38151</td>\n",
       "      <td>0</td>\n",
       "      <td>0</td>\n",
       "      <td>NaN</td>\n",
       "      <td>1.0</td>\n",
       "      <td>NaN</td>\n",
       "    </tr>\n",
       "    <tr>\n",
       "      <th>1</th>\n",
       "      <td>2019-10-16 10:36:23</td>\n",
       "      <td>NaN</td>\n",
       "      <td>БАНК</td>\n",
       "      <td>10003456789</td>\n",
       "      <td>5</td>\n",
       "      <td>1</td>\n",
       "      <td>38183</td>\n",
       "      <td>0</td>\n",
       "      <td>0</td>\n",
       "      <td>NaN</td>\n",
       "      <td>1.0</td>\n",
       "      <td>NaN</td>\n",
       "    </tr>\n",
       "    <tr>\n",
       "      <th>2</th>\n",
       "      <td>2019-10-16 10:36:57</td>\n",
       "      <td>118F850F</td>\n",
       "      <td>КШ</td>\n",
       "      <td>10003456789</td>\n",
       "      <td>5</td>\n",
       "      <td>1</td>\n",
       "      <td>38217</td>\n",
       "      <td>0</td>\n",
       "      <td>0</td>\n",
       "      <td>NaN</td>\n",
       "      <td>1.0</td>\n",
       "      <td>NaN</td>\n",
       "    </tr>\n",
       "    <tr>\n",
       "      <th>3</th>\n",
       "      <td>2019-10-16 10:37:07</td>\n",
       "      <td>5D09C9AE</td>\n",
       "      <td>СОЦ</td>\n",
       "      <td>10003456789</td>\n",
       "      <td>5</td>\n",
       "      <td>1</td>\n",
       "      <td>38227</td>\n",
       "      <td>0</td>\n",
       "      <td>0</td>\n",
       "      <td>NaN</td>\n",
       "      <td>1.0</td>\n",
       "      <td>NaN</td>\n",
       "    </tr>\n",
       "    <tr>\n",
       "      <th>4</th>\n",
       "      <td>2019-10-16 10:37:12</td>\n",
       "      <td>551B6DF9</td>\n",
       "      <td>СОЦ</td>\n",
       "      <td>10003456789</td>\n",
       "      <td>5</td>\n",
       "      <td>1</td>\n",
       "      <td>38232</td>\n",
       "      <td>0</td>\n",
       "      <td>0</td>\n",
       "      <td>NaN</td>\n",
       "      <td>1.0</td>\n",
       "      <td>NaN</td>\n",
       "    </tr>\n",
       "  </tbody>\n",
       "</table>\n",
       "</div>"
      ],
      "text/plain": [
       "  Дата и время поездки Номер кристалла  TCAT Код Маршрута  Код предприятия  \\\n",
       "0  2019-10-16 10:35:51        C502D58F   СОЦ  10003456789                5   \n",
       "1  2019-10-16 10:36:23             NaN  БАНК  10003456789                5   \n",
       "2  2019-10-16 10:36:57        118F850F    КШ  10003456789                5   \n",
       "3  2019-10-16 10:37:07        5D09C9AE   СОЦ  10003456789                5   \n",
       "4  2019-10-16 10:37:12        551B6DF9   СОЦ  10003456789                5   \n",
       "\n",
       "   mr_id   time ssId  rl_id  rc_orderby    c  site_id  \n",
       "0      1  38151    0      0         NaN  1.0      NaN  \n",
       "1      1  38183    0      0         NaN  1.0      NaN  \n",
       "2      1  38217    0      0         NaN  1.0      NaN  \n",
       "3      1  38227    0      0         NaN  1.0      NaN  \n",
       "4      1  38232    0      0         NaN  1.0      NaN  "
      ]
     },
     "execution_count": 107,
     "metadata": {},
     "output_type": "execute_result"
    }
   ],
   "source": [
    "DATA.head()"
   ]
  },
  {
   "cell_type": "code",
   "execution_count": 108,
   "metadata": {},
   "outputs": [
    {
     "data": {
      "text/html": [
       "<div>\n",
       "<style scoped>\n",
       "    .dataframe tbody tr th:only-of-type {\n",
       "        vertical-align: middle;\n",
       "    }\n",
       "\n",
       "    .dataframe tbody tr th {\n",
       "        vertical-align: top;\n",
       "    }\n",
       "\n",
       "    .dataframe thead th {\n",
       "        text-align: right;\n",
       "    }\n",
       "</style>\n",
       "<table border=\"1\" class=\"dataframe\">\n",
       "  <thead>\n",
       "    <tr style=\"text-align: right;\">\n",
       "      <th></th>\n",
       "      <th>Дата и время поездки</th>\n",
       "      <th>Номер кристалла</th>\n",
       "      <th>TCAT</th>\n",
       "      <th>Код Маршрута</th>\n",
       "      <th>Код предприятия</th>\n",
       "      <th>mr_id</th>\n",
       "      <th>time</th>\n",
       "      <th>ssId</th>\n",
       "      <th>rl_id</th>\n",
       "      <th>rc_orderby</th>\n",
       "      <th>c</th>\n",
       "      <th>site_id</th>\n",
       "    </tr>\n",
       "  </thead>\n",
       "  <tbody>\n",
       "    <tr>\n",
       "      <th>0</th>\n",
       "      <td>2019-10-16 10:35:51</td>\n",
       "      <td>C502D58F</td>\n",
       "      <td>СОЦ</td>\n",
       "      <td>10003456789</td>\n",
       "      <td>5</td>\n",
       "      <td>1</td>\n",
       "      <td>38151</td>\n",
       "      <td>0</td>\n",
       "      <td>0</td>\n",
       "      <td>NaN</td>\n",
       "      <td>1.000000</td>\n",
       "      <td>NaN</td>\n",
       "    </tr>\n",
       "    <tr>\n",
       "      <th>1</th>\n",
       "      <td>2019-10-16 10:36:23</td>\n",
       "      <td>NaN</td>\n",
       "      <td>БАНК</td>\n",
       "      <td>10003456789</td>\n",
       "      <td>5</td>\n",
       "      <td>1</td>\n",
       "      <td>38183</td>\n",
       "      <td>0</td>\n",
       "      <td>0</td>\n",
       "      <td>NaN</td>\n",
       "      <td>1.000000</td>\n",
       "      <td>NaN</td>\n",
       "    </tr>\n",
       "    <tr>\n",
       "      <th>2</th>\n",
       "      <td>2019-10-16 10:36:57</td>\n",
       "      <td>118F850F</td>\n",
       "      <td>КШ</td>\n",
       "      <td>10003456789</td>\n",
       "      <td>5</td>\n",
       "      <td>1</td>\n",
       "      <td>38217</td>\n",
       "      <td>0</td>\n",
       "      <td>0</td>\n",
       "      <td>NaN</td>\n",
       "      <td>1.000000</td>\n",
       "      <td>NaN</td>\n",
       "    </tr>\n",
       "    <tr>\n",
       "      <th>3</th>\n",
       "      <td>2019-10-16 10:37:07</td>\n",
       "      <td>5D09C9AE</td>\n",
       "      <td>СОЦ</td>\n",
       "      <td>10003456789</td>\n",
       "      <td>5</td>\n",
       "      <td>1</td>\n",
       "      <td>38227</td>\n",
       "      <td>0</td>\n",
       "      <td>0</td>\n",
       "      <td>NaN</td>\n",
       "      <td>1.000000</td>\n",
       "      <td>NaN</td>\n",
       "    </tr>\n",
       "    <tr>\n",
       "      <th>4</th>\n",
       "      <td>2019-10-16 10:37:12</td>\n",
       "      <td>551B6DF9</td>\n",
       "      <td>СОЦ</td>\n",
       "      <td>10003456789</td>\n",
       "      <td>5</td>\n",
       "      <td>1</td>\n",
       "      <td>38232</td>\n",
       "      <td>0</td>\n",
       "      <td>0</td>\n",
       "      <td>NaN</td>\n",
       "      <td>1.000000</td>\n",
       "      <td>NaN</td>\n",
       "    </tr>\n",
       "    <tr>\n",
       "      <th>...</th>\n",
       "      <td>...</td>\n",
       "      <td>...</td>\n",
       "      <td>...</td>\n",
       "      <td>...</td>\n",
       "      <td>...</td>\n",
       "      <td>...</td>\n",
       "      <td>...</td>\n",
       "      <td>...</td>\n",
       "      <td>...</td>\n",
       "      <td>...</td>\n",
       "      <td>...</td>\n",
       "      <td>...</td>\n",
       "    </tr>\n",
       "    <tr>\n",
       "      <th>1282653</th>\n",
       "      <td>2019-10-16 06:13:48</td>\n",
       "      <td>3788C309</td>\n",
       "      <td>ЕТК</td>\n",
       "      <td>subway</td>\n",
       "      <td>2</td>\n",
       "      <td>0</td>\n",
       "      <td>22428</td>\n",
       "      <td>2082</td>\n",
       "      <td>0</td>\n",
       "      <td>0.0</td>\n",
       "      <td>2.279555</td>\n",
       "      <td>995.0</td>\n",
       "    </tr>\n",
       "    <tr>\n",
       "      <th>1282654</th>\n",
       "      <td>2019-10-16 06:12:19</td>\n",
       "      <td>7E81903E</td>\n",
       "      <td>ЕТК</td>\n",
       "      <td>subway</td>\n",
       "      <td>2</td>\n",
       "      <td>0</td>\n",
       "      <td>22339</td>\n",
       "      <td>2082</td>\n",
       "      <td>0</td>\n",
       "      <td>0.0</td>\n",
       "      <td>2.279555</td>\n",
       "      <td>995.0</td>\n",
       "    </tr>\n",
       "    <tr>\n",
       "      <th>1282655</th>\n",
       "      <td>2019-10-16 06:08:05</td>\n",
       "      <td>C17C0124</td>\n",
       "      <td>ЕТК</td>\n",
       "      <td>subway</td>\n",
       "      <td>2</td>\n",
       "      <td>0</td>\n",
       "      <td>22085</td>\n",
       "      <td>2082</td>\n",
       "      <td>0</td>\n",
       "      <td>0.0</td>\n",
       "      <td>2.279555</td>\n",
       "      <td>995.0</td>\n",
       "    </tr>\n",
       "    <tr>\n",
       "      <th>1282656</th>\n",
       "      <td>2019-10-16 06:04:06</td>\n",
       "      <td>2E944A11</td>\n",
       "      <td>ЕТК</td>\n",
       "      <td>subway</td>\n",
       "      <td>2</td>\n",
       "      <td>0</td>\n",
       "      <td>21846</td>\n",
       "      <td>2082</td>\n",
       "      <td>0</td>\n",
       "      <td>0.0</td>\n",
       "      <td>2.279555</td>\n",
       "      <td>995.0</td>\n",
       "    </tr>\n",
       "    <tr>\n",
       "      <th>1282657</th>\n",
       "      <td>2019-10-16 06:02:54</td>\n",
       "      <td>72DB2D90</td>\n",
       "      <td>ЕТК</td>\n",
       "      <td>subway</td>\n",
       "      <td>2</td>\n",
       "      <td>0</td>\n",
       "      <td>21774</td>\n",
       "      <td>2082</td>\n",
       "      <td>0</td>\n",
       "      <td>0.0</td>\n",
       "      <td>2.279555</td>\n",
       "      <td>995.0</td>\n",
       "    </tr>\n",
       "  </tbody>\n",
       "</table>\n",
       "<p>460567 rows × 12 columns</p>\n",
       "</div>"
      ],
      "text/plain": [
       "        Дата и время поездки Номер кристалла  TCAT Код Маршрута  \\\n",
       "0        2019-10-16 10:35:51        C502D58F   СОЦ  10003456789   \n",
       "1        2019-10-16 10:36:23             NaN  БАНК  10003456789   \n",
       "2        2019-10-16 10:36:57        118F850F    КШ  10003456789   \n",
       "3        2019-10-16 10:37:07        5D09C9AE   СОЦ  10003456789   \n",
       "4        2019-10-16 10:37:12        551B6DF9   СОЦ  10003456789   \n",
       "...                      ...             ...   ...          ...   \n",
       "1282653  2019-10-16 06:13:48        3788C309   ЕТК       subway   \n",
       "1282654  2019-10-16 06:12:19        7E81903E   ЕТК       subway   \n",
       "1282655  2019-10-16 06:08:05        C17C0124   ЕТК       subway   \n",
       "1282656  2019-10-16 06:04:06        2E944A11   ЕТК       subway   \n",
       "1282657  2019-10-16 06:02:54        72DB2D90   ЕТК       subway   \n",
       "\n",
       "         Код предприятия  mr_id   time  ssId  rl_id  rc_orderby         c  \\\n",
       "0                      5      1  38151     0      0         NaN  1.000000   \n",
       "1                      5      1  38183     0      0         NaN  1.000000   \n",
       "2                      5      1  38217     0      0         NaN  1.000000   \n",
       "3                      5      1  38227     0      0         NaN  1.000000   \n",
       "4                      5      1  38232     0      0         NaN  1.000000   \n",
       "...                  ...    ...    ...   ...    ...         ...       ...   \n",
       "1282653                2      0  22428  2082      0         0.0  2.279555   \n",
       "1282654                2      0  22339  2082      0         0.0  2.279555   \n",
       "1282655                2      0  22085  2082      0         0.0  2.279555   \n",
       "1282656                2      0  21846  2082      0         0.0  2.279555   \n",
       "1282657                2      0  21774  2082      0         0.0  2.279555   \n",
       "\n",
       "         site_id  \n",
       "0            NaN  \n",
       "1            NaN  \n",
       "2            NaN  \n",
       "3            NaN  \n",
       "4            NaN  \n",
       "...          ...  \n",
       "1282653    995.0  \n",
       "1282654    995.0  \n",
       "1282655    995.0  \n",
       "1282656    995.0  \n",
       "1282657    995.0  \n",
       "\n",
       "[460567 rows x 12 columns]"
      ]
     },
     "execution_count": 108,
     "metadata": {},
     "output_type": "execute_result"
    }
   ],
   "source": [
    "DATA[DATA['Дата и время поездки'].str.contains( '2019-10-16')] "
   ]
  },
  {
   "cell_type": "code",
   "execution_count": null,
   "metadata": {},
   "outputs": [],
   "source": []
  },
  {
   "cell_type": "markdown",
   "metadata": {},
   "source": [
    "# 4. ВЫБРАЛИ ДАННЫЕ ЗА ЧАС ПИК"
   ]
  },
  {
   "cell_type": "code",
   "execution_count": 109,
   "metadata": {},
   "outputs": [],
   "source": [
    "#выбрала час пик только из перовго дня\n",
    "DATA_pick=DATA[DATA['Дата и время поездки'].str.contains( '2019-10-16')] \n",
    "DATA_pick=DATA_pick[DATA_pick['Дата и время поездки'].str.contains( ' 07:')]\\\n",
    "    .append(DATA_pick[DATA_pick['Дата и время поездки'].str.contains( ' 08:')])\\\n",
    "    .append(DATA_pick[DATA_pick['Дата и время поездки'].str.contains( ' 09:')])\\\n",
    " # .append(DATA_pick[DATA_pick['Дата и время поездки'].str.contains( ' 13:')])\\\n",
    " #     .append(DATA_pick[DATA_pick['Дата и время поездки'].str.contains( ' 14:')])\\\n",
    " #         .append(DATA_pick[DATA_pick['Дата и время поездки'].str.contains( ' 15:')])"
   ]
  },
  {
   "cell_type": "code",
   "execution_count": 28,
   "metadata": {},
   "outputs": [],
   "source": [
    "#len(DATA_pick)"
   ]
  },
  {
   "cell_type": "code",
   "execution_count": 29,
   "metadata": {},
   "outputs": [],
   "source": [
    "#DATA_pick=DATA[DATA['Дата и время поездки'].str.contains( '2019-10-16')] "
   ]
  },
  {
   "cell_type": "markdown",
   "metadata": {},
   "source": [
    "# 5. Убираем и запоминаем из выборки тех, у кого нет номера кристалла (невозможно точно привязать точку выхода)"
   ]
  },
  {
   "cell_type": "code",
   "execution_count": 110,
   "metadata": {},
   "outputs": [],
   "source": [
    "DATA_bank_pick=DATA_pick[DATA_pick['Номер кристалла'].isna()]"
   ]
  },
  {
   "cell_type": "markdown",
   "metadata": {},
   "source": [
    "ОСТАВЛЯЕМ В ЧАСЕ ПИК ТОЛЬКО ТЕХ, у кого есть номер кристалла:"
   ]
  },
  {
   "cell_type": "code",
   "execution_count": 111,
   "metadata": {},
   "outputs": [],
   "source": [
    "DATA_pick=DATA_pick[~DATA_pick.index.isin(DATA_bank_pick.index)]"
   ]
  },
  {
   "cell_type": "code",
   "execution_count": 32,
   "metadata": {},
   "outputs": [
    {
     "data": {
      "text/plain": [
       "36000"
      ]
     },
     "execution_count": 32,
     "metadata": {},
     "output_type": "execute_result"
    }
   ],
   "source": [
    "DATA_pick['time'].min()"
   ]
  },
  {
   "cell_type": "code",
   "execution_count": 33,
   "metadata": {},
   "outputs": [
    {
     "data": {
      "text/plain": [
       "57599"
      ]
     },
     "execution_count": 33,
     "metadata": {},
     "output_type": "execute_result"
    }
   ],
   "source": [
    "DATA_pick['time'].max()"
   ]
  },
  {
   "cell_type": "markdown",
   "metadata": {},
   "source": [
    "Выбрала из общего массива только те данные, где встречаются валидации из пикового промежутка:"
   ]
  },
  {
   "cell_type": "code",
   "execution_count": 34,
   "metadata": {},
   "outputs": [],
   "source": [
    "DATA=DATA[DATA['Номер кристалла'].isin(DATA_pick['Номер кристалла'].unique())]"
   ]
  },
  {
   "cell_type": "code",
   "execution_count": 35,
   "metadata": {},
   "outputs": [
    {
     "data": {
      "text/plain": [
       "661701"
      ]
     },
     "execution_count": 35,
     "metadata": {},
     "output_type": "execute_result"
    }
   ],
   "source": [
    "len(DATA)"
   ]
  },
  {
   "cell_type": "markdown",
   "metadata": {},
   "source": [
    "Выбрала только те значения, которые встречаются спустя 3 часа после начала часа пик"
   ]
  },
  {
   "cell_type": "code",
   "execution_count": 36,
   "metadata": {},
   "outputs": [],
   "source": [
    "DATA=DATA[DATA['time']>DATA_pick['time'].min()+3*3600]"
   ]
  },
  {
   "cell_type": "code",
   "execution_count": 37,
   "metadata": {},
   "outputs": [],
   "source": [
    "DATA=DATA.sort_values(['Номер кристалла','time','site_id'])"
   ]
  },
  {
   "cell_type": "code",
   "execution_count": 38,
   "metadata": {},
   "outputs": [],
   "source": [
    "DATA_pick=DATA_pick.sort_values(['Номер кристалла','time','site_id'])"
   ]
  },
  {
   "cell_type": "code",
   "execution_count": 39,
   "metadata": {},
   "outputs": [
    {
     "data": {
      "text/plain": [
       "173088"
      ]
     },
     "execution_count": 39,
     "metadata": {},
     "output_type": "execute_result"
    }
   ],
   "source": [
    "len(DATA_pick)"
   ]
  },
  {
   "cell_type": "code",
   "execution_count": 40,
   "metadata": {},
   "outputs": [
    {
     "data": {
      "text/plain": [
       "525590"
      ]
     },
     "execution_count": 40,
     "metadata": {},
     "output_type": "execute_result"
    }
   ],
   "source": [
    "len(DATA)"
   ]
  },
  {
   "cell_type": "code",
   "execution_count": 41,
   "metadata": {},
   "outputs": [
    {
     "name": "stderr",
     "output_type": "stream",
     "text": [
      "100%|████████████████████████████████████████████████████████████████████████| 173088/173088 [3:36:54<00:00, 13.30it/s]\n"
     ]
    }
   ],
   "source": [
    "from tqdm import tqdm\n",
    "k=0\n",
    "res=DATA_pick\n",
    "result = []\n",
    "result2 = []\n",
    "result3 = []\n",
    "result4 = []\n",
    "stops=pd.DataFrame()\n",
    "with tqdm(total=DATA_pick.shape[0]) as pbar: \n",
    "    for index, row in DATA_pick.iterrows():\n",
    "        pbar.update(1)\n",
    "        stops=DATA[(DATA['Номер кристалла']==row['Номер кристалла'])\n",
    "                    &(DATA['time']>(row['time']+3600*3))\n",
    "                    &(DATA['site_id']!=row['site_id'])]\n",
    "        if stops.empty:\n",
    "            result.append(0)\n",
    "            result2.append(0)\n",
    "            result3.append(0)\n",
    "            result4.append(0)\n",
    "        else:\n",
    "            stop_unic=stops['site_id'].values\n",
    "            result.append(stop_unic[0])\n",
    "            time_2=stops['time'].values\n",
    "            result2.append(time_2[0])\n",
    "            rl_id=stops['rl_id'].values\n",
    "            result3.append(rl_id[0])\n",
    "            rc_orderby=stops['rc_orderby'].values\n",
    "            result4.append(rc_orderby[0])\n",
    "res['site_id_2']=result\n",
    "res['time_2']=result2\n",
    "res['rl_id_2']=result3\n",
    "res['rc_orderby_2']=result4"
   ]
  },
  {
   "cell_type": "code",
   "execution_count": 42,
   "metadata": {},
   "outputs": [],
   "source": [
    "res.to_csv(path+'res_DAY_matrix_2019_10_16.csv')"
   ]
  },
  {
   "cell_type": "code",
   "execution_count": 66,
   "metadata": {},
   "outputs": [],
   "source": [
    "res=pd.read_csv(path+'res_matrix_2019_10_16.csv')"
   ]
  },
  {
   "cell_type": "code",
   "execution_count": 67,
   "metadata": {},
   "outputs": [
    {
     "data": {
      "text/html": [
       "<div>\n",
       "<style scoped>\n",
       "    .dataframe tbody tr th:only-of-type {\n",
       "        vertical-align: middle;\n",
       "    }\n",
       "\n",
       "    .dataframe tbody tr th {\n",
       "        vertical-align: top;\n",
       "    }\n",
       "\n",
       "    .dataframe thead th {\n",
       "        text-align: right;\n",
       "    }\n",
       "</style>\n",
       "<table border=\"1\" class=\"dataframe\">\n",
       "  <thead>\n",
       "    <tr style=\"text-align: right;\">\n",
       "      <th></th>\n",
       "      <th>Unnamed: 0</th>\n",
       "      <th>Дата и время поездки</th>\n",
       "      <th>Номер кристалла</th>\n",
       "      <th>TCAT</th>\n",
       "      <th>Код Маршрута</th>\n",
       "      <th>Код предприятия</th>\n",
       "      <th>mr_id</th>\n",
       "      <th>time</th>\n",
       "      <th>ssId</th>\n",
       "      <th>rl_id</th>\n",
       "      <th>rc_orderby</th>\n",
       "      <th>c</th>\n",
       "      <th>site_id</th>\n",
       "      <th>site_id_2</th>\n",
       "      <th>time_2</th>\n",
       "      <th>rl_id_2</th>\n",
       "      <th>rc_orderby_2</th>\n",
       "    </tr>\n",
       "  </thead>\n",
       "  <tbody>\n",
       "    <tr>\n",
       "      <th>0</th>\n",
       "      <td>59875</td>\n",
       "      <td>2019-10-16 08:48:11</td>\n",
       "      <td>0000F128</td>\n",
       "      <td>КС</td>\n",
       "      <td>12703456789</td>\n",
       "      <td>5</td>\n",
       "      <td>26</td>\n",
       "      <td>31691</td>\n",
       "      <td>120</td>\n",
       "      <td>1665</td>\n",
       "      <td>1.0</td>\n",
       "      <td>1.0</td>\n",
       "      <td>61.0</td>\n",
       "      <td>192.0</td>\n",
       "      <td>63017</td>\n",
       "      <td>1666</td>\n",
       "      <td>4.0</td>\n",
       "    </tr>\n",
       "    <tr>\n",
       "      <th>1</th>\n",
       "      <td>412540</td>\n",
       "      <td>2019-10-16 09:10:20</td>\n",
       "      <td>0002FB28</td>\n",
       "      <td>КС</td>\n",
       "      <td>14003456789</td>\n",
       "      <td>5</td>\n",
       "      <td>152</td>\n",
       "      <td>33020</td>\n",
       "      <td>1823</td>\n",
       "      <td>44665</td>\n",
       "      <td>15.0</td>\n",
       "      <td>1.0</td>\n",
       "      <td>14.0</td>\n",
       "      <td>29.0</td>\n",
       "      <td>60251</td>\n",
       "      <td>44666</td>\n",
       "      <td>10.0</td>\n",
       "    </tr>\n",
       "    <tr>\n",
       "      <th>2</th>\n",
       "      <td>412539</td>\n",
       "      <td>2019-10-16 09:10:20</td>\n",
       "      <td>0002FB28</td>\n",
       "      <td>КС</td>\n",
       "      <td>14003456789</td>\n",
       "      <td>5</td>\n",
       "      <td>152</td>\n",
       "      <td>33020</td>\n",
       "      <td>701</td>\n",
       "      <td>44666</td>\n",
       "      <td>40.0</td>\n",
       "      <td>1.0</td>\n",
       "      <td>321.0</td>\n",
       "      <td>29.0</td>\n",
       "      <td>60251</td>\n",
       "      <td>44666</td>\n",
       "      <td>10.0</td>\n",
       "    </tr>\n",
       "    <tr>\n",
       "      <th>3</th>\n",
       "      <td>179239</td>\n",
       "      <td>2019-10-16 07:48:50</td>\n",
       "      <td>00041D79</td>\n",
       "      <td>КС</td>\n",
       "      <td>11503456789</td>\n",
       "      <td>5</td>\n",
       "      <td>113</td>\n",
       "      <td>28130</td>\n",
       "      <td>493</td>\n",
       "      <td>44965</td>\n",
       "      <td>9.0</td>\n",
       "      <td>1.0</td>\n",
       "      <td>230.0</td>\n",
       "      <td>855.0</td>\n",
       "      <td>58246</td>\n",
       "      <td>57565</td>\n",
       "      <td>39.0</td>\n",
       "    </tr>\n",
       "    <tr>\n",
       "      <th>4</th>\n",
       "      <td>165844</td>\n",
       "      <td>2019-10-16 07:21:06</td>\n",
       "      <td>0004FDA8</td>\n",
       "      <td>ЕТК</td>\n",
       "      <td>14303456789</td>\n",
       "      <td>5</td>\n",
       "      <td>112</td>\n",
       "      <td>26466</td>\n",
       "      <td>330</td>\n",
       "      <td>30465</td>\n",
       "      <td>24.0</td>\n",
       "      <td>1.0</td>\n",
       "      <td>157.0</td>\n",
       "      <td>211.0</td>\n",
       "      <td>147420</td>\n",
       "      <td>30465</td>\n",
       "      <td>13.0</td>\n",
       "    </tr>\n",
       "    <tr>\n",
       "      <th>...</th>\n",
       "      <td>...</td>\n",
       "      <td>...</td>\n",
       "      <td>...</td>\n",
       "      <td>...</td>\n",
       "      <td>...</td>\n",
       "      <td>...</td>\n",
       "      <td>...</td>\n",
       "      <td>...</td>\n",
       "      <td>...</td>\n",
       "      <td>...</td>\n",
       "      <td>...</td>\n",
       "      <td>...</td>\n",
       "      <td>...</td>\n",
       "      <td>...</td>\n",
       "      <td>...</td>\n",
       "      <td>...</td>\n",
       "      <td>...</td>\n",
       "    </tr>\n",
       "    <tr>\n",
       "      <th>92300</th>\n",
       "      <td>387707</td>\n",
       "      <td>2019-10-16 09:01:49</td>\n",
       "      <td>FEFD4E36</td>\n",
       "      <td>БКС</td>\n",
       "      <td>4003456789</td>\n",
       "      <td>1</td>\n",
       "      <td>145</td>\n",
       "      <td>32509</td>\n",
       "      <td>814</td>\n",
       "      <td>12265</td>\n",
       "      <td>8.0</td>\n",
       "      <td>1.0</td>\n",
       "      <td>370.0</td>\n",
       "      <td>785.0</td>\n",
       "      <td>55726</td>\n",
       "      <td>12266</td>\n",
       "      <td>11.0</td>\n",
       "    </tr>\n",
       "    <tr>\n",
       "      <th>92301</th>\n",
       "      <td>295394</td>\n",
       "      <td>2019-10-16 07:57:30</td>\n",
       "      <td>FEFE4E36</td>\n",
       "      <td>БЕТК</td>\n",
       "      <td>2303456789</td>\n",
       "      <td>1</td>\n",
       "      <td>135</td>\n",
       "      <td>28650</td>\n",
       "      <td>0</td>\n",
       "      <td>0</td>\n",
       "      <td>NaN</td>\n",
       "      <td>1.0</td>\n",
       "      <td>NaN</td>\n",
       "      <td>174.0</td>\n",
       "      <td>47132</td>\n",
       "      <td>27566</td>\n",
       "      <td>1.0</td>\n",
       "    </tr>\n",
       "    <tr>\n",
       "      <th>92302</th>\n",
       "      <td>56669</td>\n",
       "      <td>2019-10-16 07:55:53</td>\n",
       "      <td>FEFF05CD</td>\n",
       "      <td>СОЦ</td>\n",
       "      <td>8903456789</td>\n",
       "      <td>4</td>\n",
       "      <td>25</td>\n",
       "      <td>28553</td>\n",
       "      <td>514</td>\n",
       "      <td>53766</td>\n",
       "      <td>20.0</td>\n",
       "      <td>1.0</td>\n",
       "      <td>239.0</td>\n",
       "      <td>73.0</td>\n",
       "      <td>197863</td>\n",
       "      <td>44666</td>\n",
       "      <td>2.0</td>\n",
       "    </tr>\n",
       "    <tr>\n",
       "      <th>92303</th>\n",
       "      <td>156673</td>\n",
       "      <td>2019-10-16 08:15:47</td>\n",
       "      <td>FEFF1724</td>\n",
       "      <td>КШ</td>\n",
       "      <td>11703456789</td>\n",
       "      <td>5</td>\n",
       "      <td>99</td>\n",
       "      <td>29747</td>\n",
       "      <td>309</td>\n",
       "      <td>61766</td>\n",
       "      <td>5.0</td>\n",
       "      <td>1.0</td>\n",
       "      <td>151.0</td>\n",
       "      <td>147.0</td>\n",
       "      <td>58688</td>\n",
       "      <td>61765</td>\n",
       "      <td>33.0</td>\n",
       "    </tr>\n",
       "    <tr>\n",
       "      <th>92304</th>\n",
       "      <td>7611</td>\n",
       "      <td>2019-10-16 07:25:34</td>\n",
       "      <td>FEFFC135</td>\n",
       "      <td>КШ</td>\n",
       "      <td>10003456789</td>\n",
       "      <td>5</td>\n",
       "      <td>1</td>\n",
       "      <td>26734</td>\n",
       "      <td>26</td>\n",
       "      <td>68365</td>\n",
       "      <td>33.0</td>\n",
       "      <td>1.0</td>\n",
       "      <td>24.0</td>\n",
       "      <td>321.0</td>\n",
       "      <td>55824</td>\n",
       "      <td>44666</td>\n",
       "      <td>40.0</td>\n",
       "    </tr>\n",
       "  </tbody>\n",
       "</table>\n",
       "<p>92305 rows × 17 columns</p>\n",
       "</div>"
      ],
      "text/plain": [
       "       Unnamed: 0 Дата и время поездки Номер кристалла  TCAT Код Маршрута  \\\n",
       "0           59875  2019-10-16 08:48:11        0000F128    КС  12703456789   \n",
       "1          412540  2019-10-16 09:10:20        0002FB28    КС  14003456789   \n",
       "2          412539  2019-10-16 09:10:20        0002FB28    КС  14003456789   \n",
       "3          179239  2019-10-16 07:48:50        00041D79    КС  11503456789   \n",
       "4          165844  2019-10-16 07:21:06        0004FDA8   ЕТК  14303456789   \n",
       "...           ...                  ...             ...   ...          ...   \n",
       "92300      387707  2019-10-16 09:01:49        FEFD4E36   БКС   4003456789   \n",
       "92301      295394  2019-10-16 07:57:30        FEFE4E36  БЕТК   2303456789   \n",
       "92302       56669  2019-10-16 07:55:53        FEFF05CD   СОЦ   8903456789   \n",
       "92303      156673  2019-10-16 08:15:47        FEFF1724    КШ  11703456789   \n",
       "92304        7611  2019-10-16 07:25:34        FEFFC135    КШ  10003456789   \n",
       "\n",
       "       Код предприятия  mr_id   time  ssId  rl_id  rc_orderby    c  site_id  \\\n",
       "0                    5     26  31691   120   1665         1.0  1.0     61.0   \n",
       "1                    5    152  33020  1823  44665        15.0  1.0     14.0   \n",
       "2                    5    152  33020   701  44666        40.0  1.0    321.0   \n",
       "3                    5    113  28130   493  44965         9.0  1.0    230.0   \n",
       "4                    5    112  26466   330  30465        24.0  1.0    157.0   \n",
       "...                ...    ...    ...   ...    ...         ...  ...      ...   \n",
       "92300                1    145  32509   814  12265         8.0  1.0    370.0   \n",
       "92301                1    135  28650     0      0         NaN  1.0      NaN   \n",
       "92302                4     25  28553   514  53766        20.0  1.0    239.0   \n",
       "92303                5     99  29747   309  61766         5.0  1.0    151.0   \n",
       "92304                5      1  26734    26  68365        33.0  1.0     24.0   \n",
       "\n",
       "       site_id_2  time_2  rl_id_2  rc_orderby_2  \n",
       "0          192.0   63017     1666           4.0  \n",
       "1           29.0   60251    44666          10.0  \n",
       "2           29.0   60251    44666          10.0  \n",
       "3          855.0   58246    57565          39.0  \n",
       "4          211.0  147420    30465          13.0  \n",
       "...          ...     ...      ...           ...  \n",
       "92300      785.0   55726    12266          11.0  \n",
       "92301      174.0   47132    27566           1.0  \n",
       "92302       73.0  197863    44666           2.0  \n",
       "92303      147.0   58688    61765          33.0  \n",
       "92304      321.0   55824    44666          40.0  \n",
       "\n",
       "[92305 rows x 17 columns]"
      ]
     },
     "execution_count": 67,
     "metadata": {},
     "output_type": "execute_result"
    }
   ],
   "source": [
    "res"
   ]
  },
  {
   "cell_type": "code",
   "execution_count": 68,
   "metadata": {},
   "outputs": [
    {
     "data": {
      "text/plain": [
       "66733"
      ]
     },
     "execution_count": 68,
     "metadata": {},
     "output_type": "execute_result"
    }
   ],
   "source": [
    "len(res[(res['site_id_2']>0)&(res['site_id']>0)&(res['site_id_2']!=res['site_id'])])"
   ]
  },
  {
   "cell_type": "code",
   "execution_count": 69,
   "metadata": {},
   "outputs": [
    {
     "data": {
      "text/plain": [
       "0.7229619197226586"
      ]
     },
     "execution_count": 69,
     "metadata": {},
     "output_type": "execute_result"
    }
   ],
   "source": [
    "len(res[(res['site_id_2']>0)&(res['site_id']>0)&(res['site_id_2']!=res['site_id'])])/len(res)"
   ]
  },
  {
   "cell_type": "code",
   "execution_count": 70,
   "metadata": {},
   "outputs": [],
   "source": [
    "res=res.fillna(0)"
   ]
  },
  {
   "cell_type": "code",
   "execution_count": 71,
   "metadata": {},
   "outputs": [
    {
     "data": {
      "text/plain": [
       "102866.44510837729"
      ]
     },
     "execution_count": 71,
     "metadata": {},
     "output_type": "execute_result"
    }
   ],
   "source": [
    "res['c'].sum()"
   ]
  },
  {
   "cell_type": "code",
   "execution_count": 72,
   "metadata": {},
   "outputs": [],
   "source": [
    "res=res.groupby(['site_id','site_id_2','mr_id']).agg({'c':np.nansum}).reset_index() "
   ]
  },
  {
   "cell_type": "code",
   "execution_count": 73,
   "metadata": {},
   "outputs": [
    {
     "data": {
      "text/plain": [
       "102866.44510837727"
      ]
     },
     "execution_count": 73,
     "metadata": {},
     "output_type": "execute_result"
    }
   ],
   "source": [
    "res['c'].sum()"
   ]
  },
  {
   "cell_type": "markdown",
   "metadata": {},
   "source": [
    "Заполняем неприязавшиеся Site_ID наиболее подходящими ID сайтов на маршруте"
   ]
  },
  {
   "cell_type": "code",
   "execution_count": 74,
   "metadata": {},
   "outputs": [],
   "source": [
    "res_not_null=res[(res['site_id_2']>0)&(res['site_id']>0)] #выбрали из матрицы те строки, где все значения есть\n",
    "res_null_last_stops=res[((res['site_id_2']==0)|(res['site_id_2'].isna()))\n",
    "                        &(res['site_id']>0)].drop(['site_id_2'], axis=1) #выбрали только те строки, где есть остановка входа, но нет остановки выхода\n",
    "res_null_first_stops=res[((res['site_id']==0)|(res['site_id'].isna()))\n",
    "                        &(res['site_id_2']>0)].drop(['site_id'], axis=1) #выбрали только те строки, где есть остановка вЫхода, но нет остановки входа"
   ]
  },
  {
   "cell_type": "markdown",
   "metadata": {},
   "source": [
    "Записываем всё, что не записалось и не определилось в массив res_null_null"
   ]
  },
  {
   "cell_type": "code",
   "execution_count": 75,
   "metadata": {},
   "outputs": [],
   "source": [
    "res_null_null=res[~res.index.isin(res_not_null.index)]\n",
    "res_null_null2=res_null_null[~res_null_null.index.isin(res_null_last_stops.index)]\n",
    "del res_null_null\n",
    "res_null_null=res_null_null2[~res_null_null2.index.isin(res_null_first_stops.index)].drop(['site_id'], axis=1).drop(['site_id_2'], axis=1)\n",
    "del res_null_null2\n"
   ]
  },
  {
   "cell_type": "code",
   "execution_count": 76,
   "metadata": {},
   "outputs": [],
   "source": [
    "res_null_null=res_null_null.reset_index()\n",
    "res_null_last_stops=res_null_last_stops.reset_index()\n",
    "res_null_first_stops=res_null_first_stops.reset_index()"
   ]
  },
  {
   "cell_type": "markdown",
   "metadata": {},
   "source": [
    "Проверили, что все, что разделили между массивами входило в изначальный"
   ]
  },
  {
   "cell_type": "code",
   "execution_count": 77,
   "metadata": {},
   "outputs": [
    {
     "data": {
      "text/plain": [
       "0"
      ]
     },
     "execution_count": 77,
     "metadata": {},
     "output_type": "execute_result"
    }
   ],
   "source": [
    "len(res)-(len(res_not_null)+len(res_null_null)+len(res_null_last_stops)+len(res_null_first_stops))"
   ]
  },
  {
   "cell_type": "code",
   "execution_count": 78,
   "metadata": {},
   "outputs": [
    {
     "data": {
      "text/plain": [
       "102866.44510837727"
      ]
     },
     "execution_count": 78,
     "metadata": {},
     "output_type": "execute_result"
    }
   ],
   "source": [
    "res['c'].dropna().sum()"
   ]
  },
  {
   "cell_type": "code",
   "execution_count": 79,
   "metadata": {},
   "outputs": [
    {
     "data": {
      "text/plain": [
       "array([ 10.,  49.,  63.,  16.,   5.,   4.,   1.,  15.,   2.,  35.,   9.,\n",
       "        17.,  67.,  54.,  62.,  25.,  66., 533.,  68., 233.,  99., 104.,\n",
       "       354.,  21., 202., 405.,  29.,  18., 216.,   3.])"
      ]
     },
     "execution_count": 79,
     "metadata": {},
     "output_type": "execute_result"
    }
   ],
   "source": [
    "res_null_null['c'].unique()"
   ]
  },
  {
   "cell_type": "code",
   "execution_count": null,
   "metadata": {},
   "outputs": [],
   "source": []
  },
  {
   "cell_type": "markdown",
   "metadata": {},
   "source": [
    "Добавляем банк"
   ]
  },
  {
   "cell_type": "code",
   "execution_count": 112,
   "metadata": {},
   "outputs": [],
   "source": [
    "#добавили в выборку, где не привязались посл.остановки баноквские карты, где есть валидация начала\n",
    "DATA_bank_ssid=DATA_bank_pick[DATA_bank_pick['site_id']>0]\n",
    "DATA_bank_ssid['c']=1\n",
    "DATA_bank_ssid=DATA_bank_ssid.fillna(0)\n",
    "DATA_bank_ssid=DATA_bank_ssid[['mr_id','site_id','c']]\n",
    "res_null_last_stops=res_null_last_stops.append(DATA_bank_ssid).reset_index()"
   ]
  },
  {
   "cell_type": "code",
   "execution_count": 113,
   "metadata": {},
   "outputs": [],
   "source": [
    "#добавили в выборку, где ничего не привязалось баноквские карты, где нет валидаций начала\n",
    "DATA_bank_null=DATA_bank_pick[~DATA_bank_pick.index.isin(DATA_bank_ssid.index)]\n",
    "DATA_bank_null['c']=1\n",
    "DATA_bank_null=DATA_bank_null[['mr_id','site_id','c']]\n",
    "DATA_bank_null=DATA_bank_null.fillna(0)\n",
    "res_null_null=res_null_null.append(DATA_bank_null).reset_index()"
   ]
  },
  {
   "cell_type": "code",
   "execution_count": 114,
   "metadata": {},
   "outputs": [
    {
     "data": {
      "text/plain": [
       "0"
      ]
     },
     "execution_count": 114,
     "metadata": {},
     "output_type": "execute_result"
    }
   ],
   "source": [
    "len(res)+len(DATA_bank_pick)-(len(res_not_null)+len(res_null_null)+len(res_null_last_stops)+len(res_null_first_stops))"
   ]
  },
  {
   "cell_type": "markdown",
   "metadata": {},
   "source": [
    "Сгруппировали все выгрузки, чтобы меньше хранить в оперативной памяти:"
   ]
  },
  {
   "cell_type": "code",
   "execution_count": 115,
   "metadata": {},
   "outputs": [],
   "source": [
    "res_null_null=res_null_null.fillna(0)"
   ]
  },
  {
   "cell_type": "code",
   "execution_count": 116,
   "metadata": {},
   "outputs": [],
   "source": [
    "res_null_null=res_null_null.groupby(['mr_id']).agg({'c':np.sum}).reset_index() "
   ]
  },
  {
   "cell_type": "code",
   "execution_count": 117,
   "metadata": {},
   "outputs": [],
   "source": [
    "res_null_last_stops=res_null_last_stops.groupby(['mr_id','site_id']).agg({'c':np.sum}).reset_index() "
   ]
  },
  {
   "cell_type": "code",
   "execution_count": 118,
   "metadata": {},
   "outputs": [],
   "source": [
    "res_null_first_stops=res_null_first_stops.groupby(['mr_id','site_id_2']).agg({'c':np.sum}).reset_index() "
   ]
  },
  {
   "cell_type": "code",
   "execution_count": 119,
   "metadata": {},
   "outputs": [],
   "source": [
    "res_not_null=res_not_null.groupby(['mr_id','site_id','site_id_2']).agg({'c':np.sum}).reset_index() "
   ]
  },
  {
   "cell_type": "code",
   "execution_count": 120,
   "metadata": {},
   "outputs": [],
   "source": [
    "res_not_null=res_not_null.sort_values(by=['c'],ascending=False)"
   ]
  },
  {
   "cell_type": "code",
   "execution_count": 121,
   "metadata": {},
   "outputs": [
    {
     "data": {
      "text/plain": [
       "117861.44510837729"
      ]
     },
     "execution_count": 121,
     "metadata": {},
     "output_type": "execute_result"
    }
   ],
   "source": [
    "res_null_null['c'].sum()+res_null_last_stops['c'].sum()+res_null_first_stops['c'].sum()+res_not_null['c'].sum()"
   ]
  },
  {
   "cell_type": "markdown",
   "metadata": {},
   "source": [
    "Определяем наиболее подходящие остановки для высадки на маршруте:"
   ]
  },
  {
   "cell_type": "code",
   "execution_count": 122,
   "metadata": {},
   "outputs": [],
   "source": [
    "#Размазываем вход-выход для случая, когда мы знаем ВХОД\n",
    "def input_func(res_not_null):\n",
    "    input_=res_not_null.groupby(['site_id','site_id_2']).agg({'c':np.sum}).reset_index() \n",
    "    sum_mr_id=input_.groupby(['site_id']).agg({'c':np.sum}).reset_index() \n",
    "    input_=input_.merge(sum_mr_id, on =['site_id'])\n",
    "    input_['c_x']=input_['c_x']/input_['c_y']\n",
    "    input_=input_.drop(['c_y'], axis=1).rename(columns={'c_x':'c'})\n",
    "    return input_"
   ]
  },
  {
   "cell_type": "code",
   "execution_count": 123,
   "metadata": {},
   "outputs": [],
   "source": [
    "#Размазываем вход-выход для случая, когда мы знаем ВЫХОД\n",
    "def exit_func(res_not_null):\n",
    "    exit=res_not_null.groupby(['site_id','site_id_2']).agg({'c':np.sum}).reset_index() \n",
    "    sum_mr_id=exit.groupby(['site_id_2']).agg({'c':np.sum}).reset_index() \n",
    "    exit=exit.merge(sum_mr_id, on =['site_id_2'])\n",
    "    exit['c_x']=exit['c_x']/exit['c_y']\n",
    "    exit=exit.drop(['c_y'], axis=1).rename(columns={'c_x':'c'})\n",
    "    return exit"
   ]
  },
  {
   "cell_type": "code",
   "execution_count": 124,
   "metadata": {},
   "outputs": [],
   "source": [
    "#Там где не определился конец поездки, выбираем наиболее подходящую site для выхода (пропорционально выходу)\n",
    "input_=input_func(res_not_null)\n",
    "res_null_last_stops2=res_null_last_stops.merge(input_,on=['site_id'],how='left')\n",
    "res_null_last_stops2['c']=res_null_last_stops2['c_x']*res_null_last_stops2['c_y']\n",
    "res_null_last_stops2=res_null_last_stops2.groupby(['mr_id','site_id','site_id_2']).agg({'c':np.sum}).reset_index()"
   ]
  },
  {
   "cell_type": "code",
   "execution_count": 125,
   "metadata": {},
   "outputs": [],
   "source": [
    "#записываем результат\n",
    "res_null_last_stops2=res_null_last_stops2.fillna(0)\n",
    "res_not_null=res_not_null.append(res_null_last_stops2[res_null_last_stops2['site_id_2']>0])"
   ]
  },
  {
   "cell_type": "code",
   "execution_count": 126,
   "metadata": {},
   "outputs": [],
   "source": [
    "#записываем оставшиеся непривязавшиеся остановки\n",
    "res_null_last_stops3=res_null_last_stops2[res_null_last_stops2['site_id_2']==0]\n",
    "res_null_null=res_null_null.append(res_null_last_stops3.drop(['site_id_2'], axis=1).drop(['site_id'], axis=1))\n",
    "del res_null_last_stops2\n",
    "del res_null_last_stops"
   ]
  },
  {
   "cell_type": "code",
   "execution_count": 127,
   "metadata": {},
   "outputs": [],
   "source": [
    "#Там где не определился конец поездки, выбираем наиболее подходящую SsID для выхода (пропорционально входу)\n",
    "exit=exit_func(res_not_null)\n",
    "res_null_first_stops2=res_null_first_stops.merge(exit,on=['site_id_2'],how='left')\n",
    "res_null_first_stops2['c']=res_null_first_stops2['c_x']*res_null_first_stops2['c_y']\n",
    "res_null_first_stops2=res_null_first_stops2.groupby(['mr_id','site_id','site_id_2']).agg({'c':np.sum}).reset_index()\n",
    "res_null_first_stops2=res_null_first_stops2.fillna(0)\n",
    "#записываем результат\n",
    "res_not_null=res_not_null.append(res_null_first_stops2[res_null_first_stops2['site_id_2']>0])"
   ]
  },
  {
   "cell_type": "code",
   "execution_count": 128,
   "metadata": {},
   "outputs": [],
   "source": [
    "#записываем оставшиеся непривязавшиеся остановки\n",
    "res_null_first_stops3=res_null_first_stops2[res_null_first_stops2['site_id_2']==0]\n",
    "res_null_null=res_null_null.append(res_null_first_stops3.drop(['site_id_2'], axis=1).drop(['site_id'], axis=1))\n",
    "del res_null_first_stops2\n",
    "del res_null_first_stops\n",
    "del res_null_first_stops3"
   ]
  },
  {
   "cell_type": "markdown",
   "metadata": {},
   "source": [
    "Снова группируем"
   ]
  },
  {
   "cell_type": "code",
   "execution_count": 129,
   "metadata": {},
   "outputs": [],
   "source": [
    "res_not_null=res_not_null.groupby(['mr_id','site_id','site_id_2']).agg({'c':np.sum}).reset_index() "
   ]
  },
  {
   "cell_type": "code",
   "execution_count": 130,
   "metadata": {},
   "outputs": [
    {
     "data": {
      "text/plain": [
       "111754.44510837733"
      ]
     },
     "execution_count": 130,
     "metadata": {},
     "output_type": "execute_result"
    }
   ],
   "source": [
    "res_not_null['c'].sum()"
   ]
  },
  {
   "cell_type": "code",
   "execution_count": 131,
   "metadata": {},
   "outputs": [],
   "source": [
    "#Размазываем вход-выход для случая, когда мы НИЧЕГО НЕ ЗНАЕМ\n",
    "exit_input=res_not_null.groupby(['mr_id','site_id','site_id_2']).agg({'c':np.sum}).reset_index() \n",
    "sum_mr_id=exit_input.groupby(['mr_id']).agg({'c':np.sum}).reset_index() \n",
    "exit_input=exit_input.merge(sum_mr_id, on ='mr_id')\n",
    "exit_input['c_x']=exit_input['c_x']/exit_input['c_y']\n",
    "exit_input=exit_input.drop(['c_y'], axis=1).rename(columns={'c_x':'c'})"
   ]
  },
  {
   "cell_type": "code",
   "execution_count": 132,
   "metadata": {},
   "outputs": [
    {
     "data": {
      "text/html": [
       "<div>\n",
       "<style scoped>\n",
       "    .dataframe tbody tr th:only-of-type {\n",
       "        vertical-align: middle;\n",
       "    }\n",
       "\n",
       "    .dataframe tbody tr th {\n",
       "        vertical-align: top;\n",
       "    }\n",
       "\n",
       "    .dataframe thead th {\n",
       "        text-align: right;\n",
       "    }\n",
       "</style>\n",
       "<table border=\"1\" class=\"dataframe\">\n",
       "  <thead>\n",
       "    <tr style=\"text-align: right;\">\n",
       "      <th></th>\n",
       "      <th>mr_id</th>\n",
       "      <th>site_id</th>\n",
       "      <th>site_id_2</th>\n",
       "      <th>c</th>\n",
       "    </tr>\n",
       "  </thead>\n",
       "  <tbody>\n",
       "    <tr>\n",
       "      <th>0</th>\n",
       "      <td>0</td>\n",
       "      <td>31.0</td>\n",
       "      <td>1.0</td>\n",
       "      <td>0.000125</td>\n",
       "    </tr>\n",
       "    <tr>\n",
       "      <th>1</th>\n",
       "      <td>0</td>\n",
       "      <td>31.0</td>\n",
       "      <td>6.0</td>\n",
       "      <td>0.000004</td>\n",
       "    </tr>\n",
       "    <tr>\n",
       "      <th>2</th>\n",
       "      <td>0</td>\n",
       "      <td>31.0</td>\n",
       "      <td>11.0</td>\n",
       "      <td>0.000004</td>\n",
       "    </tr>\n",
       "    <tr>\n",
       "      <th>3</th>\n",
       "      <td>0</td>\n",
       "      <td>31.0</td>\n",
       "      <td>13.0</td>\n",
       "      <td>0.000013</td>\n",
       "    </tr>\n",
       "    <tr>\n",
       "      <th>4</th>\n",
       "      <td>0</td>\n",
       "      <td>31.0</td>\n",
       "      <td>16.0</td>\n",
       "      <td>0.000009</td>\n",
       "    </tr>\n",
       "    <tr>\n",
       "      <th>...</th>\n",
       "      <td>...</td>\n",
       "      <td>...</td>\n",
       "      <td>...</td>\n",
       "      <td>...</td>\n",
       "    </tr>\n",
       "    <tr>\n",
       "      <th>503711</th>\n",
       "      <td>199</td>\n",
       "      <td>995.0</td>\n",
       "      <td>256.0</td>\n",
       "      <td>0.000013</td>\n",
       "    </tr>\n",
       "    <tr>\n",
       "      <th>503712</th>\n",
       "      <td>199</td>\n",
       "      <td>995.0</td>\n",
       "      <td>350.0</td>\n",
       "      <td>0.000018</td>\n",
       "    </tr>\n",
       "    <tr>\n",
       "      <th>503713</th>\n",
       "      <td>199</td>\n",
       "      <td>995.0</td>\n",
       "      <td>479.0</td>\n",
       "      <td>0.000014</td>\n",
       "    </tr>\n",
       "    <tr>\n",
       "      <th>503714</th>\n",
       "      <td>199</td>\n",
       "      <td>1030.0</td>\n",
       "      <td>174.0</td>\n",
       "      <td>0.000005</td>\n",
       "    </tr>\n",
       "    <tr>\n",
       "      <th>503715</th>\n",
       "      <td>199</td>\n",
       "      <td>1030.0</td>\n",
       "      <td>175.0</td>\n",
       "      <td>0.000010</td>\n",
       "    </tr>\n",
       "  </tbody>\n",
       "</table>\n",
       "<p>503716 rows × 4 columns</p>\n",
       "</div>"
      ],
      "text/plain": [
       "        mr_id  site_id  site_id_2         c\n",
       "0           0     31.0        1.0  0.000125\n",
       "1           0     31.0        6.0  0.000004\n",
       "2           0     31.0       11.0  0.000004\n",
       "3           0     31.0       13.0  0.000013\n",
       "4           0     31.0       16.0  0.000009\n",
       "...       ...      ...        ...       ...\n",
       "503711    199    995.0      256.0  0.000013\n",
       "503712    199    995.0      350.0  0.000018\n",
       "503713    199    995.0      479.0  0.000014\n",
       "503714    199   1030.0      174.0  0.000005\n",
       "503715    199   1030.0      175.0  0.000010\n",
       "\n",
       "[503716 rows x 4 columns]"
      ]
     },
     "execution_count": 132,
     "metadata": {},
     "output_type": "execute_result"
    }
   ],
   "source": [
    "exit_input"
   ]
  },
  {
   "cell_type": "code",
   "execution_count": 133,
   "metadata": {},
   "outputs": [],
   "source": [
    "#Там где ничего не определилось, размазываем валидацию по всем парам вероятным :\n",
    "res_null_null2=res_null_null.merge(exit_input,on=['mr_id'],how='left')\n",
    "res_null_null2['c']=res_null_null2['c_x']*res_null_null2['c_y']\n",
    "res_null_null2=res_null_null2.drop('c_x',axis=1).drop('c_y',axis=1)"
   ]
  },
  {
   "cell_type": "code",
   "execution_count": 134,
   "metadata": {},
   "outputs": [],
   "source": [
    "#добавляем размазанные данные в то, где известно, что это за остановка\n",
    "res_not_null2=res_not_null.append(res_null_null2)"
   ]
  },
  {
   "cell_type": "code",
   "execution_count": 135,
   "metadata": {},
   "outputs": [],
   "source": [
    "res_null_null2=res_null_null2.fillna(0)"
   ]
  },
  {
   "cell_type": "code",
   "execution_count": null,
   "metadata": {},
   "outputs": [],
   "source": []
  },
  {
   "cell_type": "code",
   "execution_count": 136,
   "metadata": {},
   "outputs": [],
   "source": [
    "itog=res_not_null2['c'].sum()"
   ]
  },
  {
   "cell_type": "code",
   "execution_count": 137,
   "metadata": {},
   "outputs": [
    {
     "data": {
      "text/plain": [
       "117856.44510837733"
      ]
     },
     "execution_count": 137,
     "metadata": {},
     "output_type": "execute_result"
    }
   ],
   "source": [
    "itog"
   ]
  },
  {
   "cell_type": "code",
   "execution_count": 138,
   "metadata": {},
   "outputs": [],
   "source": [
    "DAY=pd.read_csv(path+'2019.10.16.csv', sep = ',', encoding='windows-1251')"
   ]
  },
  {
   "cell_type": "code",
   "execution_count": 139,
   "metadata": {},
   "outputs": [],
   "source": [
    "DAY=DAY[DAY['Код предприятия'].isin([1,4,5])]"
   ]
  },
  {
   "cell_type": "code",
   "execution_count": 140,
   "metadata": {},
   "outputs": [
    {
     "data": {
      "text/plain": [
       "419751"
      ]
     },
     "execution_count": 140,
     "metadata": {},
     "output_type": "execute_result"
    }
   ],
   "source": [
    "len(DAY)"
   ]
  },
  {
   "cell_type": "markdown",
   "metadata": {},
   "source": [
    "Кол-во валидаций на НГПТ за день составило:"
   ]
  },
  {
   "cell_type": "code",
   "execution_count": 141,
   "metadata": {},
   "outputs": [],
   "source": [
    "day=len(DAY)"
   ]
  },
  {
   "cell_type": "code",
   "execution_count": 142,
   "metadata": {},
   "outputs": [],
   "source": [
    "METRO=pd.read_csv(path+'./metro/2019.10.16.csv', sep=',', encoding='windows-1251')"
   ]
  },
  {
   "cell_type": "code",
   "execution_count": null,
   "metadata": {},
   "outputs": [],
   "source": []
  },
  {
   "cell_type": "code",
   "execution_count": 143,
   "metadata": {},
   "outputs": [
    {
     "data": {
      "text/plain": [
       "651420.8823529411"
      ]
     },
     "execution_count": 143,
     "metadata": {},
     "output_type": "execute_result"
    }
   ],
   "source": [
    "len(METRO)+day/0.68\n"
   ]
  },
  {
   "cell_type": "code",
   "execution_count": null,
   "metadata": {},
   "outputs": [],
   "source": []
  },
  {
   "cell_type": "code",
   "execution_count": null,
   "metadata": {},
   "outputs": [],
   "source": []
  },
  {
   "cell_type": "markdown",
   "metadata": {},
   "source": [
    "Кол-во валидаций на НГПТ за час пик день составило:"
   ]
  },
  {
   "cell_type": "code",
   "execution_count": 144,
   "metadata": {},
   "outputs": [],
   "source": [
    "DAY_pick=DAY[DAY['Дата и время поездки'].str.contains( ' 07:')]\\\n",
    "    .append(DAY[DAY['Дата и время поездки'].str.contains( ' 08:')])\\\n",
    "    .append(DAY[DAY['Дата и время поездки'].str.contains( ' 09:')])\n",
    "pick=len(DAY_pick)"
   ]
  },
  {
   "cell_type": "code",
   "execution_count": 145,
   "metadata": {},
   "outputs": [
    {
     "data": {
      "text/plain": [
       "96710"
      ]
     },
     "execution_count": 145,
     "metadata": {},
     "output_type": "execute_result"
    }
   ],
   "source": [
    "pick"
   ]
  },
  {
   "cell_type": "markdown",
   "metadata": {},
   "source": [
    "Годовой поток по пригородным маршрутам составил 15369619\n",
    "\n",
    "Переход к месяцу Октябрь от года - 10,73 (делим)\n",
    "\n",
    "Переход к одному дню октября = 396 889 (средний будний день в октябре 2019 года)/10 852 053 (суммарный месячный поток в октябре 2019 за год)\n",
    "\n",
    "Переход к часу - пик - делим кол-во валидаций за день к количеству валидаций за час пик \n",
    "\n",
    "\n",
    "В рабочий день в МЕТРО перемещается 43 684"
   ]
  },
  {
   "cell_type": "code",
   "execution_count": 91,
   "metadata": {},
   "outputs": [
    {
     "data": {
      "text/plain": [
       "15367389"
      ]
     },
     "execution_count": 91,
     "metadata": {},
     "output_type": "execute_result"
    }
   ],
   "source": [
    "15369619-2230"
   ]
  },
  {
   "cell_type": "code",
   "execution_count": 92,
   "metadata": {},
   "outputs": [
    {
     "data": {
      "text/plain": [
       "12069.80295021522"
      ]
     },
     "execution_count": 92,
     "metadata": {},
     "output_type": "execute_result"
    }
   ],
   "source": [
    "(15369619/10.73)*(396889/10852053)*(pick/day)"
   ]
  },
  {
   "cell_type": "code",
   "execution_count": 146,
   "metadata": {},
   "outputs": [],
   "source": [
    "res_not_null2['c']=res_not_null2['c']+((15369619-2230)/10.73)*(396889/10852053)*(pick/day)/itog"
   ]
  },
  {
   "cell_type": "code",
   "execution_count": 147,
   "metadata": {},
   "outputs": [
    {
     "data": {
      "text/html": [
       "<div>\n",
       "<style scoped>\n",
       "    .dataframe tbody tr th:only-of-type {\n",
       "        vertical-align: middle;\n",
       "    }\n",
       "\n",
       "    .dataframe tbody tr th {\n",
       "        vertical-align: top;\n",
       "    }\n",
       "\n",
       "    .dataframe thead th {\n",
       "        text-align: right;\n",
       "    }\n",
       "</style>\n",
       "<table border=\"1\" class=\"dataframe\">\n",
       "  <thead>\n",
       "    <tr style=\"text-align: right;\">\n",
       "      <th></th>\n",
       "      <th>mr_id</th>\n",
       "      <th>site_id</th>\n",
       "      <th>site_id_2</th>\n",
       "      <th>c</th>\n",
       "    </tr>\n",
       "  </thead>\n",
       "  <tbody>\n",
       "    <tr>\n",
       "      <th>0</th>\n",
       "      <td>0</td>\n",
       "      <td>31.0</td>\n",
       "      <td>1.0</td>\n",
       "      <td>2.582603</td>\n",
       "    </tr>\n",
       "  </tbody>\n",
       "</table>\n",
       "</div>"
      ],
      "text/plain": [
       "   mr_id  site_id  site_id_2         c\n",
       "0      0     31.0        1.0  2.582603"
      ]
     },
     "execution_count": 147,
     "metadata": {},
     "output_type": "execute_result"
    }
   ],
   "source": [
    "res_not_null2[0:1]"
   ]
  },
  {
   "cell_type": "code",
   "execution_count": 94,
   "metadata": {},
   "outputs": [],
   "source": [
    "res_null_null2.to_csv('MATRIX_with_MARSH.csv')"
   ]
  },
  {
   "cell_type": "code",
   "execution_count": 4,
   "metadata": {},
   "outputs": [],
   "source": [
    "res_null_null2=pd.read_csv('MATRIX_with_MARSH.csv')"
   ]
  },
  {
   "cell_type": "code",
   "execution_count": 5,
   "metadata": {},
   "outputs": [
    {
     "data": {
      "text/html": [
       "<div>\n",
       "<style scoped>\n",
       "    .dataframe tbody tr th:only-of-type {\n",
       "        vertical-align: middle;\n",
       "    }\n",
       "\n",
       "    .dataframe tbody tr th {\n",
       "        vertical-align: top;\n",
       "    }\n",
       "\n",
       "    .dataframe thead th {\n",
       "        text-align: right;\n",
       "    }\n",
       "</style>\n",
       "<table border=\"1\" class=\"dataframe\">\n",
       "  <thead>\n",
       "    <tr style=\"text-align: right;\">\n",
       "      <th></th>\n",
       "      <th>Unnamed: 0</th>\n",
       "      <th>mr_id</th>\n",
       "      <th>site_id</th>\n",
       "      <th>site_id_2</th>\n",
       "      <th>c</th>\n",
       "    </tr>\n",
       "  </thead>\n",
       "  <tbody>\n",
       "    <tr>\n",
       "      <th>0</th>\n",
       "      <td>0</td>\n",
       "      <td>1</td>\n",
       "      <td>1.0</td>\n",
       "      <td>2.0</td>\n",
       "      <td>0.0075</td>\n",
       "    </tr>\n",
       "  </tbody>\n",
       "</table>\n",
       "</div>"
      ],
      "text/plain": [
       "   Unnamed: 0  mr_id  site_id  site_id_2       c\n",
       "0           0      1      1.0        2.0  0.0075"
      ]
     },
     "execution_count": 5,
     "metadata": {},
     "output_type": "execute_result"
    }
   ],
   "source": [
    "res_null_null2[0:1]"
   ]
  },
  {
   "cell_type": "code",
   "execution_count": 148,
   "metadata": {},
   "outputs": [],
   "source": [
    "sites_unic=pd.read_csv(path+'sites_coordinate.csv', sep = ';', encoding='utf-8')"
   ]
  },
  {
   "cell_type": "code",
   "execution_count": 149,
   "metadata": {},
   "outputs": [
    {
     "data": {
      "text/html": [
       "<div>\n",
       "<style scoped>\n",
       "    .dataframe tbody tr th:only-of-type {\n",
       "        vertical-align: middle;\n",
       "    }\n",
       "\n",
       "    .dataframe tbody tr th {\n",
       "        vertical-align: top;\n",
       "    }\n",
       "\n",
       "    .dataframe thead th {\n",
       "        text-align: right;\n",
       "    }\n",
       "</style>\n",
       "<table border=\"1\" class=\"dataframe\">\n",
       "  <thead>\n",
       "    <tr style=\"text-align: right;\">\n",
       "      <th></th>\n",
       "      <th>site_id</th>\n",
       "      <th>ss_lat</th>\n",
       "      <th>ss_long</th>\n",
       "    </tr>\n",
       "  </thead>\n",
       "  <tbody>\n",
       "    <tr>\n",
       "      <th>0</th>\n",
       "      <td>1297</td>\n",
       "      <td>52.892374</td>\n",
       "      <td>50.226906</td>\n",
       "    </tr>\n",
       "  </tbody>\n",
       "</table>\n",
       "</div>"
      ],
      "text/plain": [
       "   site_id     ss_lat    ss_long\n",
       "0     1297  52.892374  50.226906"
      ]
     },
     "execution_count": 149,
     "metadata": {},
     "output_type": "execute_result"
    }
   ],
   "source": [
    "sites_unic[0:1]"
   ]
  },
  {
   "cell_type": "code",
   "execution_count": 150,
   "metadata": {},
   "outputs": [],
   "source": [
    "res_null_null2=res_null_null2.merge(sites_unic,on='site_id')\n",
    "res_null_null2=res_null_null2.merge(sites_unic,left_on='site_id_2',right_on='site_id')"
   ]
  },
  {
   "cell_type": "code",
   "execution_count": 151,
   "metadata": {},
   "outputs": [
    {
     "data": {
      "text/html": [
       "<div>\n",
       "<style scoped>\n",
       "    .dataframe tbody tr th:only-of-type {\n",
       "        vertical-align: middle;\n",
       "    }\n",
       "\n",
       "    .dataframe tbody tr th {\n",
       "        vertical-align: top;\n",
       "    }\n",
       "\n",
       "    .dataframe thead th {\n",
       "        text-align: right;\n",
       "    }\n",
       "</style>\n",
       "<table border=\"1\" class=\"dataframe\">\n",
       "  <thead>\n",
       "    <tr style=\"text-align: right;\">\n",
       "      <th></th>\n",
       "      <th>mr_id</th>\n",
       "      <th>site_id_x</th>\n",
       "      <th>site_id_2</th>\n",
       "      <th>c</th>\n",
       "      <th>ss_lat_x</th>\n",
       "      <th>ss_long_x</th>\n",
       "      <th>site_id_y</th>\n",
       "      <th>ss_lat_y</th>\n",
       "      <th>ss_long_y</th>\n",
       "    </tr>\n",
       "  </thead>\n",
       "  <tbody>\n",
       "    <tr>\n",
       "      <th>0</th>\n",
       "      <td>1</td>\n",
       "      <td>1.0</td>\n",
       "      <td>2.0</td>\n",
       "      <td>0.020945</td>\n",
       "      <td>53.372254</td>\n",
       "      <td>50.177387</td>\n",
       "      <td>2</td>\n",
       "      <td>53.370353</td>\n",
       "      <td>50.18843</td>\n",
       "    </tr>\n",
       "  </tbody>\n",
       "</table>\n",
       "</div>"
      ],
      "text/plain": [
       "   mr_id  site_id_x  site_id_2         c   ss_lat_x  ss_long_x  site_id_y  \\\n",
       "0      1        1.0        2.0  0.020945  53.372254  50.177387          2   \n",
       "\n",
       "    ss_lat_y  ss_long_y  \n",
       "0  53.370353   50.18843  "
      ]
     },
     "execution_count": 151,
     "metadata": {},
     "output_type": "execute_result"
    }
   ],
   "source": [
    "res_null_null2[0:1]"
   ]
  },
  {
   "cell_type": "code",
   "execution_count": 152,
   "metadata": {},
   "outputs": [],
   "source": [
    "matrix_all=res_null_null2[['mr_id','site_id_x','site_id_2','c','ss_lat_x','ss_long_x','ss_lat_y','ss_long_y']]"
   ]
  },
  {
   "cell_type": "code",
   "execution_count": 153,
   "metadata": {},
   "outputs": [
    {
     "data": {
      "text/html": [
       "<div>\n",
       "<style scoped>\n",
       "    .dataframe tbody tr th:only-of-type {\n",
       "        vertical-align: middle;\n",
       "    }\n",
       "\n",
       "    .dataframe tbody tr th {\n",
       "        vertical-align: top;\n",
       "    }\n",
       "\n",
       "    .dataframe thead th {\n",
       "        text-align: right;\n",
       "    }\n",
       "</style>\n",
       "<table border=\"1\" class=\"dataframe\">\n",
       "  <thead>\n",
       "    <tr style=\"text-align: right;\">\n",
       "      <th></th>\n",
       "      <th>mr_id</th>\n",
       "      <th>site_id_x</th>\n",
       "      <th>site_id_2</th>\n",
       "      <th>c</th>\n",
       "      <th>ss_lat_x</th>\n",
       "      <th>ss_long_x</th>\n",
       "      <th>ss_lat_y</th>\n",
       "      <th>ss_long_y</th>\n",
       "    </tr>\n",
       "  </thead>\n",
       "  <tbody>\n",
       "    <tr>\n",
       "      <th>0</th>\n",
       "      <td>1</td>\n",
       "      <td>1.0</td>\n",
       "      <td>2.0</td>\n",
       "      <td>0.020945</td>\n",
       "      <td>53.372254</td>\n",
       "      <td>50.177387</td>\n",
       "      <td>53.370353</td>\n",
       "      <td>50.18843</td>\n",
       "    </tr>\n",
       "  </tbody>\n",
       "</table>\n",
       "</div>"
      ],
      "text/plain": [
       "   mr_id  site_id_x  site_id_2         c   ss_lat_x  ss_long_x   ss_lat_y  \\\n",
       "0      1        1.0        2.0  0.020945  53.372254  50.177387  53.370353   \n",
       "\n",
       "   ss_long_y  \n",
       "0   50.18843  "
      ]
     },
     "execution_count": 153,
     "metadata": {},
     "output_type": "execute_result"
    }
   ],
   "source": [
    "matrix_all[0:1]"
   ]
  },
  {
   "cell_type": "code",
   "execution_count": 154,
   "metadata": {},
   "outputs": [],
   "source": [
    "stop_seq=pd.read_csv('./done_oct/res/stop_seq_v3.csv',sep=';')"
   ]
  },
  {
   "cell_type": "code",
   "execution_count": 155,
   "metadata": {},
   "outputs": [],
   "source": [
    "stop_seq=stop_seq[['mr_id','rl_id','rc_orderby','site_id']]"
   ]
  },
  {
   "cell_type": "code",
   "execution_count": 156,
   "metadata": {},
   "outputs": [
    {
     "data": {
      "text/html": [
       "<div>\n",
       "<style scoped>\n",
       "    .dataframe tbody tr th:only-of-type {\n",
       "        vertical-align: middle;\n",
       "    }\n",
       "\n",
       "    .dataframe tbody tr th {\n",
       "        vertical-align: top;\n",
       "    }\n",
       "\n",
       "    .dataframe thead th {\n",
       "        text-align: right;\n",
       "    }\n",
       "</style>\n",
       "<table border=\"1\" class=\"dataframe\">\n",
       "  <thead>\n",
       "    <tr style=\"text-align: right;\">\n",
       "      <th></th>\n",
       "      <th>mr_id</th>\n",
       "      <th>rl_id</th>\n",
       "      <th>rc_orderby</th>\n",
       "      <th>site_id</th>\n",
       "    </tr>\n",
       "  </thead>\n",
       "  <tbody>\n",
       "    <tr>\n",
       "      <th>0</th>\n",
       "      <td>0</td>\n",
       "      <td>0</td>\n",
       "      <td>1</td>\n",
       "      <td>579</td>\n",
       "    </tr>\n",
       "  </tbody>\n",
       "</table>\n",
       "</div>"
      ],
      "text/plain": [
       "   mr_id  rl_id  rc_orderby  site_id\n",
       "0      0      0           1      579"
      ]
     },
     "execution_count": 156,
     "metadata": {},
     "output_type": "execute_result"
    }
   ],
   "source": [
    "stop_seq[0:1]"
   ]
  },
  {
   "cell_type": "code",
   "execution_count": 157,
   "metadata": {},
   "outputs": [],
   "source": [
    "stop_seq['site_id_x']=stop_seq.groupby(['mr_id','rl_id'])['site_id'].shift(-1).astype('Int64')"
   ]
  },
  {
   "cell_type": "code",
   "execution_count": 158,
   "metadata": {},
   "outputs": [],
   "source": [
    "stop_seq['rc_orderby_x']=stop_seq.groupby(['mr_id','rl_id'])['rc_orderby'].shift(-1).astype('Int64')"
   ]
  },
  {
   "cell_type": "code",
   "execution_count": 159,
   "metadata": {},
   "outputs": [
    {
     "data": {
      "text/html": [
       "<div>\n",
       "<style scoped>\n",
       "    .dataframe tbody tr th:only-of-type {\n",
       "        vertical-align: middle;\n",
       "    }\n",
       "\n",
       "    .dataframe tbody tr th {\n",
       "        vertical-align: top;\n",
       "    }\n",
       "\n",
       "    .dataframe thead th {\n",
       "        text-align: right;\n",
       "    }\n",
       "</style>\n",
       "<table border=\"1\" class=\"dataframe\">\n",
       "  <thead>\n",
       "    <tr style=\"text-align: right;\">\n",
       "      <th></th>\n",
       "      <th>mr_id</th>\n",
       "      <th>rl_id</th>\n",
       "      <th>rc_orderby</th>\n",
       "      <th>site_id</th>\n",
       "      <th>site_id_x</th>\n",
       "      <th>rc_orderby_x</th>\n",
       "    </tr>\n",
       "  </thead>\n",
       "  <tbody>\n",
       "    <tr>\n",
       "      <th>0</th>\n",
       "      <td>0</td>\n",
       "      <td>0</td>\n",
       "      <td>1</td>\n",
       "      <td>579</td>\n",
       "      <td>995</td>\n",
       "      <td>2</td>\n",
       "    </tr>\n",
       "  </tbody>\n",
       "</table>\n",
       "</div>"
      ],
      "text/plain": [
       "   mr_id  rl_id  rc_orderby  site_id  site_id_x  rc_orderby_x\n",
       "0      0      0           1      579        995             2"
      ]
     },
     "execution_count": 159,
     "metadata": {},
     "output_type": "execute_result"
    }
   ],
   "source": [
    "stop_seq[0:1]"
   ]
  },
  {
   "cell_type": "code",
   "execution_count": 160,
   "metadata": {},
   "outputs": [],
   "source": [
    "stop_seq2=stop_seq[['mr_id','rc_orderby','site_id']].drop_duplicates()"
   ]
  },
  {
   "cell_type": "code",
   "execution_count": 161,
   "metadata": {},
   "outputs": [
    {
     "data": {
      "text/html": [
       "<div>\n",
       "<style scoped>\n",
       "    .dataframe tbody tr th:only-of-type {\n",
       "        vertical-align: middle;\n",
       "    }\n",
       "\n",
       "    .dataframe tbody tr th {\n",
       "        vertical-align: top;\n",
       "    }\n",
       "\n",
       "    .dataframe thead th {\n",
       "        text-align: right;\n",
       "    }\n",
       "</style>\n",
       "<table border=\"1\" class=\"dataframe\">\n",
       "  <thead>\n",
       "    <tr style=\"text-align: right;\">\n",
       "      <th></th>\n",
       "      <th>mr_id</th>\n",
       "      <th>rc_orderby</th>\n",
       "      <th>site_id</th>\n",
       "    </tr>\n",
       "  </thead>\n",
       "  <tbody>\n",
       "    <tr>\n",
       "      <th>0</th>\n",
       "      <td>0</td>\n",
       "      <td>1</td>\n",
       "      <td>579</td>\n",
       "    </tr>\n",
       "  </tbody>\n",
       "</table>\n",
       "</div>"
      ],
      "text/plain": [
       "   mr_id  rc_orderby  site_id\n",
       "0      0           1      579"
      ]
     },
     "execution_count": 161,
     "metadata": {},
     "output_type": "execute_result"
    }
   ],
   "source": [
    "stop_seq2[0:1]"
   ]
  },
  {
   "cell_type": "code",
   "execution_count": 162,
   "metadata": {},
   "outputs": [
    {
     "data": {
      "text/html": [
       "<div>\n",
       "<style scoped>\n",
       "    .dataframe tbody tr th:only-of-type {\n",
       "        vertical-align: middle;\n",
       "    }\n",
       "\n",
       "    .dataframe tbody tr th {\n",
       "        vertical-align: top;\n",
       "    }\n",
       "\n",
       "    .dataframe thead th {\n",
       "        text-align: right;\n",
       "    }\n",
       "</style>\n",
       "<table border=\"1\" class=\"dataframe\">\n",
       "  <thead>\n",
       "    <tr style=\"text-align: right;\">\n",
       "      <th></th>\n",
       "      <th>mr_id</th>\n",
       "      <th>site_id_x</th>\n",
       "      <th>site_id_2</th>\n",
       "      <th>c</th>\n",
       "      <th>ss_lat_x</th>\n",
       "      <th>ss_long_x</th>\n",
       "      <th>ss_lat_y</th>\n",
       "      <th>ss_long_y</th>\n",
       "    </tr>\n",
       "  </thead>\n",
       "  <tbody>\n",
       "    <tr>\n",
       "      <th>0</th>\n",
       "      <td>1</td>\n",
       "      <td>1.0</td>\n",
       "      <td>2.0</td>\n",
       "      <td>0.020945</td>\n",
       "      <td>53.372254</td>\n",
       "      <td>50.177387</td>\n",
       "      <td>53.370353</td>\n",
       "      <td>50.18843</td>\n",
       "    </tr>\n",
       "  </tbody>\n",
       "</table>\n",
       "</div>"
      ],
      "text/plain": [
       "   mr_id  site_id_x  site_id_2         c   ss_lat_x  ss_long_x   ss_lat_y  \\\n",
       "0      1        1.0        2.0  0.020945  53.372254  50.177387  53.370353   \n",
       "\n",
       "   ss_long_y  \n",
       "0   50.18843  "
      ]
     },
     "execution_count": 162,
     "metadata": {},
     "output_type": "execute_result"
    }
   ],
   "source": [
    "matrix_all[0:1]"
   ]
  },
  {
   "cell_type": "code",
   "execution_count": 163,
   "metadata": {},
   "outputs": [],
   "source": [
    "matrix_all=matrix_all.rename(columns={'site_id_x':'site_id'})"
   ]
  },
  {
   "cell_type": "code",
   "execution_count": 164,
   "metadata": {},
   "outputs": [
    {
     "data": {
      "text/html": [
       "<div>\n",
       "<style scoped>\n",
       "    .dataframe tbody tr th:only-of-type {\n",
       "        vertical-align: middle;\n",
       "    }\n",
       "\n",
       "    .dataframe tbody tr th {\n",
       "        vertical-align: top;\n",
       "    }\n",
       "\n",
       "    .dataframe thead th {\n",
       "        text-align: right;\n",
       "    }\n",
       "</style>\n",
       "<table border=\"1\" class=\"dataframe\">\n",
       "  <thead>\n",
       "    <tr style=\"text-align: right;\">\n",
       "      <th></th>\n",
       "      <th>mr_id</th>\n",
       "      <th>site_id</th>\n",
       "      <th>site_id_2</th>\n",
       "      <th>c</th>\n",
       "      <th>ss_lat_x</th>\n",
       "      <th>ss_long_x</th>\n",
       "      <th>ss_lat_y</th>\n",
       "      <th>ss_long_y</th>\n",
       "    </tr>\n",
       "  </thead>\n",
       "  <tbody>\n",
       "    <tr>\n",
       "      <th>0</th>\n",
       "      <td>1</td>\n",
       "      <td>1.0</td>\n",
       "      <td>2.0</td>\n",
       "      <td>0.020945</td>\n",
       "      <td>53.372254</td>\n",
       "      <td>50.177387</td>\n",
       "      <td>53.370353</td>\n",
       "      <td>50.18843</td>\n",
       "    </tr>\n",
       "  </tbody>\n",
       "</table>\n",
       "</div>"
      ],
      "text/plain": [
       "   mr_id  site_id  site_id_2         c   ss_lat_x  ss_long_x   ss_lat_y  \\\n",
       "0      1      1.0        2.0  0.020945  53.372254  50.177387  53.370353   \n",
       "\n",
       "   ss_long_y  \n",
       "0   50.18843  "
      ]
     },
     "execution_count": 164,
     "metadata": {},
     "output_type": "execute_result"
    }
   ],
   "source": [
    "matrix_all[0:1]"
   ]
  },
  {
   "cell_type": "code",
   "execution_count": 165,
   "metadata": {},
   "outputs": [],
   "source": [
    "matrix_all2=matrix_all.merge(stop_seq2,on=['mr_id','site_id'], how='left')"
   ]
  },
  {
   "cell_type": "code",
   "execution_count": 166,
   "metadata": {},
   "outputs": [
    {
     "data": {
      "text/html": [
       "<div>\n",
       "<style scoped>\n",
       "    .dataframe tbody tr th:only-of-type {\n",
       "        vertical-align: middle;\n",
       "    }\n",
       "\n",
       "    .dataframe tbody tr th {\n",
       "        vertical-align: top;\n",
       "    }\n",
       "\n",
       "    .dataframe thead th {\n",
       "        text-align: right;\n",
       "    }\n",
       "</style>\n",
       "<table border=\"1\" class=\"dataframe\">\n",
       "  <thead>\n",
       "    <tr style=\"text-align: right;\">\n",
       "      <th></th>\n",
       "      <th>mr_id</th>\n",
       "      <th>site_id</th>\n",
       "      <th>site_id_2</th>\n",
       "      <th>c</th>\n",
       "      <th>ss_lat_x</th>\n",
       "      <th>ss_long_x</th>\n",
       "      <th>ss_lat_y</th>\n",
       "      <th>ss_long_y</th>\n",
       "      <th>rc_orderby</th>\n",
       "    </tr>\n",
       "  </thead>\n",
       "  <tbody>\n",
       "    <tr>\n",
       "      <th>0</th>\n",
       "      <td>1</td>\n",
       "      <td>1.0</td>\n",
       "      <td>2.0</td>\n",
       "      <td>0.020945</td>\n",
       "      <td>53.372254</td>\n",
       "      <td>50.177387</td>\n",
       "      <td>53.370353</td>\n",
       "      <td>50.18843</td>\n",
       "      <td>4.0</td>\n",
       "    </tr>\n",
       "  </tbody>\n",
       "</table>\n",
       "</div>"
      ],
      "text/plain": [
       "   mr_id  site_id  site_id_2         c   ss_lat_x  ss_long_x   ss_lat_y  \\\n",
       "0      1      1.0        2.0  0.020945  53.372254  50.177387  53.370353   \n",
       "\n",
       "   ss_long_y  rc_orderby  \n",
       "0   50.18843         4.0  "
      ]
     },
     "execution_count": 166,
     "metadata": {},
     "output_type": "execute_result"
    }
   ],
   "source": [
    "matrix_all2[0:1]"
   ]
  },
  {
   "cell_type": "code",
   "execution_count": 167,
   "metadata": {},
   "outputs": [],
   "source": [
    "matrix_all2=matrix_all2[['mr_id','site_id','site_id_2','c','rc_orderby']]"
   ]
  },
  {
   "cell_type": "code",
   "execution_count": 168,
   "metadata": {},
   "outputs": [
    {
     "data": {
      "text/html": [
       "<div>\n",
       "<style scoped>\n",
       "    .dataframe tbody tr th:only-of-type {\n",
       "        vertical-align: middle;\n",
       "    }\n",
       "\n",
       "    .dataframe tbody tr th {\n",
       "        vertical-align: top;\n",
       "    }\n",
       "\n",
       "    .dataframe thead th {\n",
       "        text-align: right;\n",
       "    }\n",
       "</style>\n",
       "<table border=\"1\" class=\"dataframe\">\n",
       "  <thead>\n",
       "    <tr style=\"text-align: right;\">\n",
       "      <th></th>\n",
       "      <th>mr_id</th>\n",
       "      <th>site_id</th>\n",
       "      <th>site_id_2</th>\n",
       "      <th>c</th>\n",
       "      <th>rc_orderby</th>\n",
       "    </tr>\n",
       "  </thead>\n",
       "  <tbody>\n",
       "    <tr>\n",
       "      <th>0</th>\n",
       "      <td>1</td>\n",
       "      <td>1.0</td>\n",
       "      <td>2.0</td>\n",
       "      <td>0.020945</td>\n",
       "      <td>4.0</td>\n",
       "    </tr>\n",
       "  </tbody>\n",
       "</table>\n",
       "</div>"
      ],
      "text/plain": [
       "   mr_id  site_id  site_id_2         c  rc_orderby\n",
       "0      1      1.0        2.0  0.020945         4.0"
      ]
     },
     "execution_count": 168,
     "metadata": {},
     "output_type": "execute_result"
    }
   ],
   "source": [
    "matrix_all2[0:1]"
   ]
  },
  {
   "cell_type": "code",
   "execution_count": 169,
   "metadata": {},
   "outputs": [],
   "source": [
    "matrix_all3=matrix_all2.merge(stop_seq2,left_on=['mr_id','site_id_2'], right_on=['mr_id','site_id'], how='left')"
   ]
  },
  {
   "cell_type": "code",
   "execution_count": 170,
   "metadata": {},
   "outputs": [
    {
     "data": {
      "text/html": [
       "<div>\n",
       "<style scoped>\n",
       "    .dataframe tbody tr th:only-of-type {\n",
       "        vertical-align: middle;\n",
       "    }\n",
       "\n",
       "    .dataframe tbody tr th {\n",
       "        vertical-align: top;\n",
       "    }\n",
       "\n",
       "    .dataframe thead th {\n",
       "        text-align: right;\n",
       "    }\n",
       "</style>\n",
       "<table border=\"1\" class=\"dataframe\">\n",
       "  <thead>\n",
       "    <tr style=\"text-align: right;\">\n",
       "      <th></th>\n",
       "      <th>mr_id</th>\n",
       "      <th>site_id_x</th>\n",
       "      <th>site_id_2</th>\n",
       "      <th>c</th>\n",
       "      <th>rc_orderby_x</th>\n",
       "      <th>rc_orderby_y</th>\n",
       "      <th>site_id_y</th>\n",
       "    </tr>\n",
       "  </thead>\n",
       "  <tbody>\n",
       "    <tr>\n",
       "      <th>0</th>\n",
       "      <td>1</td>\n",
       "      <td>1.0</td>\n",
       "      <td>2.0</td>\n",
       "      <td>0.020945</td>\n",
       "      <td>4.0</td>\n",
       "      <td>5.0</td>\n",
       "      <td>2.0</td>\n",
       "    </tr>\n",
       "  </tbody>\n",
       "</table>\n",
       "</div>"
      ],
      "text/plain": [
       "   mr_id  site_id_x  site_id_2         c  rc_orderby_x  rc_orderby_y  \\\n",
       "0      1        1.0        2.0  0.020945           4.0           5.0   \n",
       "\n",
       "   site_id_y  \n",
       "0        2.0  "
      ]
     },
     "execution_count": 170,
     "metadata": {},
     "output_type": "execute_result"
    }
   ],
   "source": [
    "matrix_all3[0:1]"
   ]
  },
  {
   "cell_type": "code",
   "execution_count": 171,
   "metadata": {},
   "outputs": [],
   "source": [
    "matrix_all3=matrix_all3[['mr_id','site_id_x','site_id_2','rc_orderby_x','rc_orderby_y','c']]"
   ]
  },
  {
   "cell_type": "code",
   "execution_count": 172,
   "metadata": {},
   "outputs": [
    {
     "data": {
      "text/html": [
       "<div>\n",
       "<style scoped>\n",
       "    .dataframe tbody tr th:only-of-type {\n",
       "        vertical-align: middle;\n",
       "    }\n",
       "\n",
       "    .dataframe tbody tr th {\n",
       "        vertical-align: top;\n",
       "    }\n",
       "\n",
       "    .dataframe thead th {\n",
       "        text-align: right;\n",
       "    }\n",
       "</style>\n",
       "<table border=\"1\" class=\"dataframe\">\n",
       "  <thead>\n",
       "    <tr style=\"text-align: right;\">\n",
       "      <th></th>\n",
       "      <th>mr_id</th>\n",
       "      <th>site_id_x</th>\n",
       "      <th>site_id_2</th>\n",
       "      <th>rc_orderby_x</th>\n",
       "      <th>rc_orderby_y</th>\n",
       "      <th>c</th>\n",
       "    </tr>\n",
       "  </thead>\n",
       "  <tbody>\n",
       "    <tr>\n",
       "      <th>0</th>\n",
       "      <td>1</td>\n",
       "      <td>1.0</td>\n",
       "      <td>2.0</td>\n",
       "      <td>4.0</td>\n",
       "      <td>5.0</td>\n",
       "      <td>0.020945</td>\n",
       "    </tr>\n",
       "  </tbody>\n",
       "</table>\n",
       "</div>"
      ],
      "text/plain": [
       "   mr_id  site_id_x  site_id_2  rc_orderby_x  rc_orderby_y         c\n",
       "0      1        1.0        2.0           4.0           5.0  0.020945"
      ]
     },
     "execution_count": 172,
     "metadata": {},
     "output_type": "execute_result"
    }
   ],
   "source": [
    "matrix_all3[0:1]"
   ]
  },
  {
   "cell_type": "code",
   "execution_count": 173,
   "metadata": {},
   "outputs": [],
   "source": [
    "matrix_all3=matrix_all3.rename(columns={'site_id_x':'site_id_mat','site_id_2':'site_id_2_mat','rc_orderby_x':'rc_orderby_mat','rc_orderby_y':'rc_orderby_2_mat'})"
   ]
  },
  {
   "cell_type": "code",
   "execution_count": 174,
   "metadata": {},
   "outputs": [
    {
     "data": {
      "text/html": [
       "<div>\n",
       "<style scoped>\n",
       "    .dataframe tbody tr th:only-of-type {\n",
       "        vertical-align: middle;\n",
       "    }\n",
       "\n",
       "    .dataframe tbody tr th {\n",
       "        vertical-align: top;\n",
       "    }\n",
       "\n",
       "    .dataframe thead th {\n",
       "        text-align: right;\n",
       "    }\n",
       "</style>\n",
       "<table border=\"1\" class=\"dataframe\">\n",
       "  <thead>\n",
       "    <tr style=\"text-align: right;\">\n",
       "      <th></th>\n",
       "      <th>mr_id</th>\n",
       "      <th>rl_id</th>\n",
       "      <th>rc_orderby</th>\n",
       "      <th>site_id</th>\n",
       "      <th>site_id_x</th>\n",
       "      <th>rc_orderby_x</th>\n",
       "    </tr>\n",
       "  </thead>\n",
       "  <tbody>\n",
       "    <tr>\n",
       "      <th>0</th>\n",
       "      <td>0</td>\n",
       "      <td>0</td>\n",
       "      <td>1</td>\n",
       "      <td>579</td>\n",
       "      <td>995</td>\n",
       "      <td>2</td>\n",
       "    </tr>\n",
       "  </tbody>\n",
       "</table>\n",
       "</div>"
      ],
      "text/plain": [
       "   mr_id  rl_id  rc_orderby  site_id  site_id_x  rc_orderby_x\n",
       "0      0      0           1      579        995             2"
      ]
     },
     "execution_count": 174,
     "metadata": {},
     "output_type": "execute_result"
    }
   ],
   "source": [
    "stop_seq[0:1]"
   ]
  },
  {
   "cell_type": "code",
   "execution_count": 175,
   "metadata": {},
   "outputs": [
    {
     "name": "stdout",
     "output_type": "stream",
     "text": [
      "<class 'pandas.core.frame.DataFrame'>\n",
      "RangeIndex: 5175 entries, 0 to 5174\n",
      "Data columns (total 6 columns):\n",
      " #   Column        Non-Null Count  Dtype\n",
      "---  ------        --------------  -----\n",
      " 0   mr_id         5175 non-null   int64\n",
      " 1   rl_id         5175 non-null   int64\n",
      " 2   rc_orderby    5175 non-null   int64\n",
      " 3   site_id       5175 non-null   int64\n",
      " 4   site_id_x     4931 non-null   Int64\n",
      " 5   rc_orderby_x  4931 non-null   Int64\n",
      "dtypes: Int64(2), int64(4)\n",
      "memory usage: 252.8 KB\n"
     ]
    }
   ],
   "source": [
    "stop_seq.info()"
   ]
  },
  {
   "cell_type": "code",
   "execution_count": 176,
   "metadata": {},
   "outputs": [],
   "source": [
    "matrix_all3=matrix_all3.fillna(0)\n",
    "matrix_all3['site_id_mat']=matrix_all3['site_id_mat'].astype('int64')\n",
    "matrix_all3['site_id_2_mat']=matrix_all3['site_id_2_mat'].astype('int64')\n",
    "matrix_all3['rc_orderby_mat']=matrix_all3['rc_orderby_mat'].astype('int64')\n",
    "matrix_all3['rc_orderby_2_mat']=matrix_all3['rc_orderby_2_mat'].astype('int64')\n",
    "matrix_all3['mr_id']=matrix_all3['mr_id'].astype('int64')"
   ]
  },
  {
   "cell_type": "code",
   "execution_count": 177,
   "metadata": {},
   "outputs": [
    {
     "data": {
      "text/html": [
       "<div>\n",
       "<style scoped>\n",
       "    .dataframe tbody tr th:only-of-type {\n",
       "        vertical-align: middle;\n",
       "    }\n",
       "\n",
       "    .dataframe tbody tr th {\n",
       "        vertical-align: top;\n",
       "    }\n",
       "\n",
       "    .dataframe thead th {\n",
       "        text-align: right;\n",
       "    }\n",
       "</style>\n",
       "<table border=\"1\" class=\"dataframe\">\n",
       "  <thead>\n",
       "    <tr style=\"text-align: right;\">\n",
       "      <th></th>\n",
       "      <th>mr_id</th>\n",
       "      <th>site_id_mat</th>\n",
       "      <th>site_id_2_mat</th>\n",
       "      <th>rc_orderby_mat</th>\n",
       "      <th>rc_orderby_2_mat</th>\n",
       "      <th>c</th>\n",
       "    </tr>\n",
       "  </thead>\n",
       "  <tbody>\n",
       "    <tr>\n",
       "      <th>0</th>\n",
       "      <td>1</td>\n",
       "      <td>1</td>\n",
       "      <td>2</td>\n",
       "      <td>4</td>\n",
       "      <td>5</td>\n",
       "      <td>0.020945</td>\n",
       "    </tr>\n",
       "  </tbody>\n",
       "</table>\n",
       "</div>"
      ],
      "text/plain": [
       "   mr_id  site_id_mat  site_id_2_mat  rc_orderby_mat  rc_orderby_2_mat  \\\n",
       "0      1            1              2               4                 5   \n",
       "\n",
       "          c  \n",
       "0  0.020945  "
      ]
     },
     "execution_count": 177,
     "metadata": {},
     "output_type": "execute_result"
    }
   ],
   "source": [
    "matrix_all3[0:1]"
   ]
  },
  {
   "cell_type": "code",
   "execution_count": 178,
   "metadata": {},
   "outputs": [
    {
     "data": {
      "text/html": [
       "<div>\n",
       "<style scoped>\n",
       "    .dataframe tbody tr th:only-of-type {\n",
       "        vertical-align: middle;\n",
       "    }\n",
       "\n",
       "    .dataframe tbody tr th {\n",
       "        vertical-align: top;\n",
       "    }\n",
       "\n",
       "    .dataframe thead th {\n",
       "        text-align: right;\n",
       "    }\n",
       "</style>\n",
       "<table border=\"1\" class=\"dataframe\">\n",
       "  <thead>\n",
       "    <tr style=\"text-align: right;\">\n",
       "      <th></th>\n",
       "      <th>mr_id</th>\n",
       "      <th>rl_id</th>\n",
       "      <th>rc_orderby</th>\n",
       "      <th>site_id</th>\n",
       "      <th>site_id_x</th>\n",
       "      <th>rc_orderby_x</th>\n",
       "    </tr>\n",
       "  </thead>\n",
       "  <tbody>\n",
       "    <tr>\n",
       "      <th>0</th>\n",
       "      <td>0</td>\n",
       "      <td>0</td>\n",
       "      <td>1</td>\n",
       "      <td>579</td>\n",
       "      <td>995</td>\n",
       "      <td>2</td>\n",
       "    </tr>\n",
       "  </tbody>\n",
       "</table>\n",
       "</div>"
      ],
      "text/plain": [
       "   mr_id  rl_id  rc_orderby  site_id  site_id_x  rc_orderby_x\n",
       "0      0      0           1      579        995             2"
      ]
     },
     "execution_count": 178,
     "metadata": {},
     "output_type": "execute_result"
    }
   ],
   "source": [
    "stop_seq[0:1]"
   ]
  },
  {
   "cell_type": "code",
   "execution_count": 179,
   "metadata": {},
   "outputs": [],
   "source": [
    "stop_seq_with_marix=stop_seq.merge(matrix_all3, on='mr_id', how='outer')"
   ]
  },
  {
   "cell_type": "code",
   "execution_count": 180,
   "metadata": {},
   "outputs": [
    {
     "data": {
      "text/html": [
       "<div>\n",
       "<style scoped>\n",
       "    .dataframe tbody tr th:only-of-type {\n",
       "        vertical-align: middle;\n",
       "    }\n",
       "\n",
       "    .dataframe tbody tr th {\n",
       "        vertical-align: top;\n",
       "    }\n",
       "\n",
       "    .dataframe thead th {\n",
       "        text-align: right;\n",
       "    }\n",
       "</style>\n",
       "<table border=\"1\" class=\"dataframe\">\n",
       "  <thead>\n",
       "    <tr style=\"text-align: right;\">\n",
       "      <th></th>\n",
       "      <th>mr_id</th>\n",
       "      <th>rl_id</th>\n",
       "      <th>rc_orderby</th>\n",
       "      <th>site_id</th>\n",
       "      <th>site_id_x</th>\n",
       "      <th>rc_orderby_x</th>\n",
       "      <th>site_id_mat</th>\n",
       "      <th>site_id_2_mat</th>\n",
       "      <th>rc_orderby_mat</th>\n",
       "      <th>rc_orderby_2_mat</th>\n",
       "      <th>c</th>\n",
       "    </tr>\n",
       "  </thead>\n",
       "  <tbody>\n",
       "    <tr>\n",
       "      <th>0</th>\n",
       "      <td>0</td>\n",
       "      <td>0</td>\n",
       "      <td>1</td>\n",
       "      <td>579</td>\n",
       "      <td>995</td>\n",
       "      <td>2</td>\n",
       "      <td>NaN</td>\n",
       "      <td>NaN</td>\n",
       "      <td>NaN</td>\n",
       "      <td>NaN</td>\n",
       "      <td>NaN</td>\n",
       "    </tr>\n",
       "  </tbody>\n",
       "</table>\n",
       "</div>"
      ],
      "text/plain": [
       "   mr_id  rl_id  rc_orderby  site_id  site_id_x  rc_orderby_x  site_id_mat  \\\n",
       "0      0      0           1      579        995             2          NaN   \n",
       "\n",
       "   site_id_2_mat  rc_orderby_mat  rc_orderby_2_mat   c  \n",
       "0            NaN             NaN               NaN NaN  "
      ]
     },
     "execution_count": 180,
     "metadata": {},
     "output_type": "execute_result"
    }
   ],
   "source": [
    "stop_seq_with_marix[0:1]"
   ]
  },
  {
   "cell_type": "code",
   "execution_count": 181,
   "metadata": {},
   "outputs": [
    {
     "data": {
      "text/plain": [
       "37126383"
      ]
     },
     "execution_count": 181,
     "metadata": {},
     "output_type": "execute_result"
    }
   ],
   "source": [
    "len(stop_seq_with_marix)"
   ]
  },
  {
   "cell_type": "code",
   "execution_count": 182,
   "metadata": {},
   "outputs": [],
   "source": [
    "stop_seq_with_marix=stop_seq_with_marix[\n",
    "    (stop_seq_with_marix['rc_orderby_mat']<=stop_seq_with_marix['rc_orderby'])\n",
    "    &(stop_seq_with_marix['rc_orderby_2_mat']>=stop_seq_with_marix['rc_orderby_x']) ]"
   ]
  },
  {
   "cell_type": "code",
   "execution_count": 183,
   "metadata": {},
   "outputs": [],
   "source": [
    "stop_seq_with_marix_gr=pd.DataFrame(stop_seq_with_marix.groupby(['mr_id','rl_id','site_id','site_id_x']).agg({'c':np.sum}).reset_index())"
   ]
  },
  {
   "cell_type": "code",
   "execution_count": 184,
   "metadata": {},
   "outputs": [
    {
     "data": {
      "text/html": [
       "<div>\n",
       "<style scoped>\n",
       "    .dataframe tbody tr th:only-of-type {\n",
       "        vertical-align: middle;\n",
       "    }\n",
       "\n",
       "    .dataframe tbody tr th {\n",
       "        vertical-align: top;\n",
       "    }\n",
       "\n",
       "    .dataframe thead th {\n",
       "        text-align: right;\n",
       "    }\n",
       "</style>\n",
       "<table border=\"1\" class=\"dataframe\">\n",
       "  <thead>\n",
       "    <tr style=\"text-align: right;\">\n",
       "      <th></th>\n",
       "      <th>mr_id</th>\n",
       "      <th>rl_id</th>\n",
       "      <th>site_id</th>\n",
       "      <th>site_id_x</th>\n",
       "      <th>c</th>\n",
       "    </tr>\n",
       "  </thead>\n",
       "  <tbody>\n",
       "    <tr>\n",
       "      <th>0</th>\n",
       "      <td>1</td>\n",
       "      <td>68365</td>\n",
       "      <td>0</td>\n",
       "      <td>755</td>\n",
       "      <td>2.699257</td>\n",
       "    </tr>\n",
       "  </tbody>\n",
       "</table>\n",
       "</div>"
      ],
      "text/plain": [
       "   mr_id  rl_id  site_id  site_id_x         c\n",
       "0      1  68365        0        755  2.699257"
      ]
     },
     "execution_count": 184,
     "metadata": {},
     "output_type": "execute_result"
    }
   ],
   "source": [
    "stop_seq_with_marix_gr[0:1]"
   ]
  },
  {
   "cell_type": "code",
   "execution_count": 185,
   "metadata": {},
   "outputs": [],
   "source": [
    "stop_seq_with_marix_gr=stop_seq_with_marix_gr.merge(sites_unic,on='site_id')\n",
    "stop_seq_with_marix_gr=stop_seq_with_marix_gr.merge(sites_unic,left_on='site_id_x',right_on='site_id')"
   ]
  },
  {
   "cell_type": "code",
   "execution_count": 186,
   "metadata": {},
   "outputs": [],
   "source": [
    "stop_seq_with_marix_gpd= gpd.GeoDataFrame(stop_seq_with_marix_gr, \\\n",
    "                                 geometry  = [LineString(xy) for xy in \n",
    "                              zip([Point(xy) for xy in zip(stop_seq_with_marix_gr['ss_long_x'], stop_seq_with_marix_gr['ss_lat_x'])], \n",
    "                              [Point(xy) for xy in zip(stop_seq_with_marix_gr['ss_long_y'], stop_seq_with_marix_gr['ss_lat_y'])])])"
   ]
  },
  {
   "cell_type": "code",
   "execution_count": 187,
   "metadata": {},
   "outputs": [
    {
     "data": {
      "text/html": [
       "<div>\n",
       "<style scoped>\n",
       "    .dataframe tbody tr th:only-of-type {\n",
       "        vertical-align: middle;\n",
       "    }\n",
       "\n",
       "    .dataframe tbody tr th {\n",
       "        vertical-align: top;\n",
       "    }\n",
       "\n",
       "    .dataframe thead th {\n",
       "        text-align: right;\n",
       "    }\n",
       "</style>\n",
       "<table border=\"1\" class=\"dataframe\">\n",
       "  <thead>\n",
       "    <tr style=\"text-align: right;\">\n",
       "      <th></th>\n",
       "      <th>mr_id</th>\n",
       "      <th>rl_id</th>\n",
       "      <th>site_id_x</th>\n",
       "      <th>site_id_x</th>\n",
       "      <th>c</th>\n",
       "      <th>ss_lat_x</th>\n",
       "      <th>ss_long_x</th>\n",
       "      <th>site_id_y</th>\n",
       "      <th>ss_lat_y</th>\n",
       "      <th>ss_long_y</th>\n",
       "      <th>geometry</th>\n",
       "    </tr>\n",
       "  </thead>\n",
       "  <tbody>\n",
       "    <tr>\n",
       "      <th>584</th>\n",
       "      <td>130</td>\n",
       "      <td>72166</td>\n",
       "      <td>516</td>\n",
       "      <td>515</td>\n",
       "      <td>734.866026</td>\n",
       "      <td>53.261136</td>\n",
       "      <td>50.238859</td>\n",
       "      <td>515</td>\n",
       "      <td>53.264256</td>\n",
       "      <td>50.233095</td>\n",
       "      <td>LINESTRING (50.23886 53.26114, 50.23309 53.26426)</td>\n",
       "    </tr>\n",
       "    <tr>\n",
       "      <th>1286</th>\n",
       "      <td>130</td>\n",
       "      <td>72165</td>\n",
       "      <td>526</td>\n",
       "      <td>173</td>\n",
       "      <td>734.866026</td>\n",
       "      <td>53.184166</td>\n",
       "      <td>50.096894</td>\n",
       "      <td>173</td>\n",
       "      <td>53.186429</td>\n",
       "      <td>50.098429</td>\n",
       "      <td>LINESTRING (50.09689 53.18417, 50.09843 53.18643)</td>\n",
       "    </tr>\n",
       "  </tbody>\n",
       "</table>\n",
       "</div>"
      ],
      "text/plain": [
       "      mr_id  rl_id  site_id_x  site_id_x           c   ss_lat_x  ss_long_x  \\\n",
       "584     130  72166        516        515  734.866026  53.261136  50.238859   \n",
       "1286    130  72165        526        173  734.866026  53.184166  50.096894   \n",
       "\n",
       "      site_id_y   ss_lat_y  ss_long_y  \\\n",
       "584         515  53.264256  50.233095   \n",
       "1286        173  53.186429  50.098429   \n",
       "\n",
       "                                               geometry  \n",
       "584   LINESTRING (50.23886 53.26114, 50.23309 53.26426)  \n",
       "1286  LINESTRING (50.09689 53.18417, 50.09843 53.18643)  "
      ]
     },
     "execution_count": 187,
     "metadata": {},
     "output_type": "execute_result"
    }
   ],
   "source": [
    "stop_seq_with_marix_gpd[stop_seq_with_marix_gpd['c']==stop_seq_with_marix_gpd['c'].max()]"
   ]
  },
  {
   "cell_type": "code",
   "execution_count": 188,
   "metadata": {},
   "outputs": [],
   "source": [
    "marsh=pd.read_csv('mr_name_tt_name.csv')"
   ]
  },
  {
   "cell_type": "code",
   "execution_count": 189,
   "metadata": {},
   "outputs": [
    {
     "data": {
      "text/html": [
       "<div>\n",
       "<style scoped>\n",
       "    .dataframe tbody tr th:only-of-type {\n",
       "        vertical-align: middle;\n",
       "    }\n",
       "\n",
       "    .dataframe tbody tr th {\n",
       "        vertical-align: top;\n",
       "    }\n",
       "\n",
       "    .dataframe thead th {\n",
       "        text-align: right;\n",
       "    }\n",
       "</style>\n",
       "<table border=\"1\" class=\"dataframe\">\n",
       "  <thead>\n",
       "    <tr style=\"text-align: right;\">\n",
       "      <th></th>\n",
       "      <th>mr_name</th>\n",
       "      <th>mr_id</th>\n",
       "      <th>tt_name</th>\n",
       "    </tr>\n",
       "  </thead>\n",
       "  <tbody>\n",
       "    <tr>\n",
       "      <th>0</th>\n",
       "      <td>1</td>\n",
       "      <td>1</td>\n",
       "      <td>Автобус</td>\n",
       "    </tr>\n",
       "  </tbody>\n",
       "</table>\n",
       "</div>"
      ],
      "text/plain": [
       "  mr_name  mr_id  tt_name\n",
       "0       1      1  Автобус"
      ]
     },
     "execution_count": 189,
     "metadata": {},
     "output_type": "execute_result"
    }
   ],
   "source": [
    "marsh[0:1]"
   ]
  },
  {
   "cell_type": "code",
   "execution_count": 190,
   "metadata": {},
   "outputs": [],
   "source": [
    "stop_seq_with_marix_gpd=stop_seq_with_marix_gpd.merge(marsh, on='mr_id', how='left')"
   ]
  },
  {
   "cell_type": "code",
   "execution_count": 191,
   "metadata": {},
   "outputs": [
    {
     "data": {
      "text/plain": [
       "<matplotlib.axes._subplots.AxesSubplot at 0x1cdf50e9fd0>"
      ]
     },
     "execution_count": 191,
     "metadata": {},
     "output_type": "execute_result"
    },
    {
     "data": {
      "image/png": "[encoded data removed]",
      "text/plain": [
       "<Figure size 432x288 with 1 Axes>"
      ]
     },
     "metadata": {
      "needs_background": "light"
     },
     "output_type": "display_data"
    }
   ],
   "source": [
    "stop_seq_with_marix_gpd[stop_seq_with_marix_gpd['mr_id']==1].plot('c')"
   ]
  },
  {
   "cell_type": "code",
   "execution_count": 192,
   "metadata": {},
   "outputs": [
    {
     "data": {
      "text/plain": [
       "117669.89077670035"
      ]
     },
     "execution_count": 192,
     "metadata": {},
     "output_type": "execute_result"
    }
   ],
   "source": [
    "stop_seq_with_marix_gpd['c'].sum()"
   ]
  },
  {
   "cell_type": "code",
   "execution_count": 193,
   "metadata": {},
   "outputs": [
    {
     "data": {
      "text/html": [
       "<div>\n",
       "<style scoped>\n",
       "    .dataframe tbody tr th:only-of-type {\n",
       "        vertical-align: middle;\n",
       "    }\n",
       "\n",
       "    .dataframe tbody tr th {\n",
       "        vertical-align: top;\n",
       "    }\n",
       "\n",
       "    .dataframe thead th {\n",
       "        text-align: right;\n",
       "    }\n",
       "</style>\n",
       "<table border=\"1\" class=\"dataframe\">\n",
       "  <thead>\n",
       "    <tr style=\"text-align: right;\">\n",
       "      <th></th>\n",
       "    </tr>\n",
       "  </thead>\n",
       "  <tbody>\n",
       "  </tbody>\n",
       "</table>\n",
       "</div>"
      ],
      "text/plain": [
       "Empty DataFrame\n",
       "Columns: []\n",
       "Index: []"
      ]
     },
     "execution_count": 193,
     "metadata": {},
     "output_type": "execute_result"
    }
   ],
   "source": [
    "stop_seq_with_marix_gpd.crs ='epsg:4326'\n",
    "stop_seq_with_marix_gpd.groupby(['mr_name','tt_name']).apply(lambda x: x.to_file(fr\"./done_oct/res/{x.name}_pssptk.json\", index=False, driver=\"GeoJSON\", encoding='utf-8'))\n"
   ]
  },
  {
   "cell_type": "code",
   "execution_count": null,
   "metadata": {},
   "outputs": [],
   "source": [
    "matrix_all_s.crs='epsg:4326'\n",
    "matrix_all_s.groupby(['site_id_x']).apply(lambda x: x.to_file(fr\"./done_oct/res/{x.name}_video.json\", index=False, driver=\"GeoJSON\", encoding='utf-8'))\n"
   ]
  },
  {
   "cell_type": "markdown",
   "metadata": {},
   "source": [
    "## Анализируем сайты, которые не вошли в матрицу, смотрим, не вошли ли они в видеоаналитику"
   ]
  },
  {
   "cell_type": "code",
   "execution_count": 95,
   "metadata": {},
   "outputs": [],
   "source": [
    "sites_unic=pd.read_csv(path+'sites_coordinate.csv', sep = ';', encoding='utf-8')"
   ]
  },
  {
   "cell_type": "code",
   "execution_count": 96,
   "metadata": {},
   "outputs": [],
   "source": [
    "#считали остановки из Яндекса\n",
    "Yandex_stop=pd.read_csv(path+'videoanal/Yandex_STOPS.csv')"
   ]
  },
  {
   "cell_type": "code",
   "execution_count": 97,
   "metadata": {},
   "outputs": [],
   "source": [
    "#считали данные видеоаналитики\n",
    "video_data=pd.read_csv(path+'videoanal/videoanal_by_stops.csv',encoding='utf-8', sep=\";\")\n",
    "video_data=video_data[video_data['Широта'].notna()]\n",
    "video_data=video_data[video_data['Перевозчик']=='Рейс'] #выбрали только частника\n",
    "video_data=video_data.fillna(0)\n",
    "video_data['Открытие двери']=video_data['Открытие двери'].astype(str)"
   ]
  },
  {
   "cell_type": "code",
   "execution_count": 98,
   "metadata": {},
   "outputs": [],
   "source": [
    "video_data2=video_data[video_data['Открытие двери'].str.startswith('7:')]\\\n",
    "    .append(video_data[video_data['Открытие двери'].str.startswith('8:')])\\\n",
    "    .append(video_data[video_data['Открытие двери'].str.startswith('9:')])"
   ]
  },
  {
   "cell_type": "code",
   "execution_count": 99,
   "metadata": {},
   "outputs": [],
   "source": [
    "video_stops=video_data[['ID остановки (Яндекс)','Широта','Долгота']].drop_duplicates()\n",
    "video_stops=video_stops.merge(Yandex_stop, left_on='ID остановки (Яндекс)', right_on='stop_id', how='left')\n",
    "video_stops.loc[video_stops['stop_id'].notna(),'Широта']=video_stops.loc[video_stops['stop_id'].notna(),'latitude']\n",
    "video_stops.loc[video_stops['stop_id'].notna(),'Долгота']=video_stops.loc[video_stops['stop_id'].notna(),'longitude']\n",
    "video_stops=video_stops[['ID остановки (Яндекс)','Широта','Долгота']].drop_duplicates()"
   ]
  },
  {
   "cell_type": "code",
   "execution_count": 100,
   "metadata": {},
   "outputs": [],
   "source": [
    "#сформировали геослой из остановок\n",
    "video_stops_gpd=gpd.GeoDataFrame(video_stops, \\\n",
    "                              geometry = [Point(xy) for xy in zip(video_stops['Долгота'], video_stops['Широта'])])\n",
    "video_stops_gpd.crs='epsg:4326'"
   ]
  },
  {
   "cell_type": "code",
   "execution_count": 101,
   "metadata": {},
   "outputs": [],
   "source": [
    "#сформировали геослой из сайтов\n",
    "sites_gpd = gpd.GeoDataFrame(sites_unic, \\\n",
    "                              geometry = [Point(xy) for xy in zip(sites_unic['ss_long'], sites_unic['ss_lat'])])\n",
    "sites_gpd.crs='epsg:4326'"
   ]
  },
  {
   "cell_type": "code",
   "execution_count": 102,
   "metadata": {},
   "outputs": [],
   "source": [
    "#привязали остановки к сайтам с буфером 200 метров\n",
    "sites_with_buff = sites_gpd.to_crs('epsg:32640')\n",
    "sites_with_buff.geometry = sites_with_buff.geometry.buffer(200)\n",
    "sites_with_buff = sites_with_buff.to_crs('epsg:4326')\n",
    "video_stops_gpd=gpd.sjoin(video_stops_gpd, sites_with_buff, how='left', op='within', lsuffix='left', rsuffix='right')\n",
    "video_stops_gpd=video_stops_gpd.drop_duplicates(subset='ID остановки (Яндекс)')\n",
    "video_stops_gpd=video_stops_gpd[['ID остановки (Яндекс)','geometry','site_id']]"
   ]
  },
  {
   "cell_type": "code",
   "execution_count": 103,
   "metadata": {},
   "outputs": [
    {
     "data": {
      "text/html": [
       "<div>\n",
       "<style scoped>\n",
       "    .dataframe tbody tr th:only-of-type {\n",
       "        vertical-align: middle;\n",
       "    }\n",
       "\n",
       "    .dataframe tbody tr th {\n",
       "        vertical-align: top;\n",
       "    }\n",
       "\n",
       "    .dataframe thead th {\n",
       "        text-align: right;\n",
       "    }\n",
       "</style>\n",
       "<table border=\"1\" class=\"dataframe\">\n",
       "  <thead>\n",
       "    <tr style=\"text-align: right;\">\n",
       "      <th></th>\n",
       "      <th>ID остановки (Яндекс)</th>\n",
       "      <th>geometry</th>\n",
       "      <th>site_id_left</th>\n",
       "      <th>index_right</th>\n",
       "      <th>site_id_right</th>\n",
       "      <th>ss_lat</th>\n",
       "      <th>ss_long</th>\n",
       "    </tr>\n",
       "  </thead>\n",
       "  <tbody>\n",
       "    <tr>\n",
       "      <th>0</th>\n",
       "      <td>1543169958</td>\n",
       "      <td>POINT (50.30971 53.30964)</td>\n",
       "      <td>322.0</td>\n",
       "      <td>731.0</td>\n",
       "      <td>1331.0</td>\n",
       "      <td>53.305825</td>\n",
       "      <td>50.312362</td>\n",
       "    </tr>\n",
       "    <tr>\n",
       "      <th>48</th>\n",
       "      <td>2128066460</td>\n",
       "      <td>POINT (50.33756 53.30911)</td>\n",
       "      <td>1326.0</td>\n",
       "      <td>738.0</td>\n",
       "      <td>1326.0</td>\n",
       "      <td>53.309642</td>\n",
       "      <td>50.337857</td>\n",
       "    </tr>\n",
       "    <tr>\n",
       "      <th>49</th>\n",
       "      <td>2128211035</td>\n",
       "      <td>POINT (50.33813 53.31018)</td>\n",
       "      <td>1326.0</td>\n",
       "      <td>738.0</td>\n",
       "      <td>1326.0</td>\n",
       "      <td>53.309642</td>\n",
       "      <td>50.337857</td>\n",
       "    </tr>\n",
       "    <tr>\n",
       "      <th>50</th>\n",
       "      <td>2128213055</td>\n",
       "      <td>POINT (50.34065 53.31213)</td>\n",
       "      <td>1325.0</td>\n",
       "      <td>738.0</td>\n",
       "      <td>1326.0</td>\n",
       "      <td>53.309642</td>\n",
       "      <td>50.337857</td>\n",
       "    </tr>\n",
       "    <tr>\n",
       "      <th>51</th>\n",
       "      <td>2128213145</td>\n",
       "      <td>POINT (50.34142 53.31173)</td>\n",
       "      <td>1325.0</td>\n",
       "      <td>738.0</td>\n",
       "      <td>1326.0</td>\n",
       "      <td>53.309642</td>\n",
       "      <td>50.337857</td>\n",
       "    </tr>\n",
       "    <tr>\n",
       "      <th>...</th>\n",
       "      <td>...</td>\n",
       "      <td>...</td>\n",
       "      <td>...</td>\n",
       "      <td>...</td>\n",
       "      <td>...</td>\n",
       "      <td>...</td>\n",
       "      <td>...</td>\n",
       "    </tr>\n",
       "    <tr>\n",
       "      <th>11239</th>\n",
       "      <td>12035</td>\n",
       "      <td>POINT (50.38742 53.26467)</td>\n",
       "      <td>NaN</td>\n",
       "      <td>667.0</td>\n",
       "      <td>1069.0</td>\n",
       "      <td>53.263214</td>\n",
       "      <td>50.384248</td>\n",
       "    </tr>\n",
       "    <tr>\n",
       "      <th>11240</th>\n",
       "      <td>12036</td>\n",
       "      <td>POINT (50.38947 53.26581)</td>\n",
       "      <td>NaN</td>\n",
       "      <td>667.0</td>\n",
       "      <td>1069.0</td>\n",
       "      <td>53.263214</td>\n",
       "      <td>50.384248</td>\n",
       "    </tr>\n",
       "    <tr>\n",
       "      <th>11241</th>\n",
       "      <td>12037</td>\n",
       "      <td>POINT (50.38725 53.26785)</td>\n",
       "      <td>NaN</td>\n",
       "      <td>685.0</td>\n",
       "      <td>1250.0</td>\n",
       "      <td>53.269570</td>\n",
       "      <td>50.385970</td>\n",
       "    </tr>\n",
       "    <tr>\n",
       "      <th>11242</th>\n",
       "      <td>12046</td>\n",
       "      <td>POINT (50.26957 53.23019)</td>\n",
       "      <td>88.0</td>\n",
       "      <td>497.0</td>\n",
       "      <td>87.0</td>\n",
       "      <td>53.229054</td>\n",
       "      <td>50.267173</td>\n",
       "    </tr>\n",
       "    <tr>\n",
       "      <th>11243</th>\n",
       "      <td>12052</td>\n",
       "      <td>POINT (50.53244 53.26258)</td>\n",
       "      <td>1344.0</td>\n",
       "      <td>854.0</td>\n",
       "      <td>1344.0</td>\n",
       "      <td>53.262578</td>\n",
       "      <td>50.532436</td>\n",
       "    </tr>\n",
       "  </tbody>\n",
       "</table>\n",
       "<p>1572 rows × 7 columns</p>\n",
       "</div>"
      ],
      "text/plain": [
       "      ID остановки (Яндекс)                   geometry  site_id_left  \\\n",
       "0                1543169958  POINT (50.30971 53.30964)         322.0   \n",
       "48               2128066460  POINT (50.33756 53.30911)        1326.0   \n",
       "49               2128211035  POINT (50.33813 53.31018)        1326.0   \n",
       "50               2128213055  POINT (50.34065 53.31213)        1325.0   \n",
       "51               2128213145  POINT (50.34142 53.31173)        1325.0   \n",
       "...                     ...                        ...           ...   \n",
       "11239                 12035  POINT (50.38742 53.26467)           NaN   \n",
       "11240                 12036  POINT (50.38947 53.26581)           NaN   \n",
       "11241                 12037  POINT (50.38725 53.26785)           NaN   \n",
       "11242                 12046  POINT (50.26957 53.23019)          88.0   \n",
       "11243                 12052  POINT (50.53244 53.26258)        1344.0   \n",
       "\n",
       "       index_right  site_id_right     ss_lat    ss_long  \n",
       "0            731.0         1331.0  53.305825  50.312362  \n",
       "48           738.0         1326.0  53.309642  50.337857  \n",
       "49           738.0         1326.0  53.309642  50.337857  \n",
       "50           738.0         1326.0  53.309642  50.337857  \n",
       "51           738.0         1326.0  53.309642  50.337857  \n",
       "...            ...            ...        ...        ...  \n",
       "11239        667.0         1069.0  53.263214  50.384248  \n",
       "11240        667.0         1069.0  53.263214  50.384248  \n",
       "11241        685.0         1250.0  53.269570  50.385970  \n",
       "11242        497.0           87.0  53.229054  50.267173  \n",
       "11243        854.0         1344.0  53.262578  50.532436  \n",
       "\n",
       "[1572 rows x 7 columns]"
      ]
     },
     "execution_count": 103,
     "metadata": {},
     "output_type": "execute_result"
    }
   ],
   "source": [
    "#привязали остановки к сайтам с буфером 500 метров\n",
    "sites_with_buff = sites_gpd.to_crs('epsg:32640')\n",
    "sites_with_buff.geometry = sites_with_buff.geometry.buffer(500)\n",
    "sites_with_buff = sites_with_buff.to_crs('epsg:4326')\n",
    "video_stops_gpd=gpd.sjoin(video_stops_gpd, sites_with_buff, how='left', op='within', lsuffix='left', rsuffix='right')\n",
    "video_stops_gpd=video_stops_gpd.drop_duplicates(subset='ID остановки (Яндекс)')\n",
    "video_stops_gpd"
   ]
  },
  {
   "cell_type": "code",
   "execution_count": 104,
   "metadata": {},
   "outputs": [],
   "source": [
    "video_stops_gpd.loc[video_stops_gpd['site_id_left'].isna(),'site_id_left']=video_stops_gpd.loc[video_stops_gpd['site_id_left'].isna(),'site_id_right']"
   ]
  },
  {
   "cell_type": "code",
   "execution_count": 105,
   "metadata": {},
   "outputs": [],
   "source": [
    "video_stops_gpd=video_stops_gpd[video_stops_gpd['site_id_left'].notna()]"
   ]
  },
  {
   "cell_type": "code",
   "execution_count": 106,
   "metadata": {},
   "outputs": [],
   "source": [
    "video_stops_sites=video_stops_gpd[['ID остановки (Яндекс)','site_id_left']].drop_duplicates()"
   ]
  },
  {
   "cell_type": "code",
   "execution_count": 107,
   "metadata": {},
   "outputs": [],
   "source": [
    "video_stops_sites=video_stops_sites.rename(columns={'site_id_left':'site'})"
   ]
  },
  {
   "cell_type": "code",
   "execution_count": 108,
   "metadata": {},
   "outputs": [],
   "source": [
    "video_data2=video_data.merge(video_stops_sites,on='ID остановки (Яндекс)')"
   ]
  },
  {
   "cell_type": "code",
   "execution_count": 109,
   "metadata": {},
   "outputs": [],
   "source": [
    "#выбрали только те сайты, которые не вошли в матрицу по валидациям\n",
    "#video_data2=video_data2[~video_data2['site'].isin(matrix['site_id'].unique())]\n",
    "#video_data2=video_data2[~video_data2['site'].isin(matrix['site_id_2'].unique())]"
   ]
  },
  {
   "cell_type": "code",
   "execution_count": 110,
   "metadata": {},
   "outputs": [],
   "source": [
    "#cчитали частоту хождения по маршрутам\n",
    "freq=pd.read_csv(path+'videoanal/freq2.csv',encoding='utf-8',sep=';')"
   ]
  },
  {
   "cell_type": "code",
   "execution_count": 111,
   "metadata": {},
   "outputs": [],
   "source": [
    "freq=freq.fillna(0)"
   ]
  },
  {
   "cell_type": "code",
   "execution_count": 112,
   "metadata": {},
   "outputs": [
    {
     "data": {
      "text/html": [
       "<div>\n",
       "<style scoped>\n",
       "    .dataframe tbody tr th:only-of-type {\n",
       "        vertical-align: middle;\n",
       "    }\n",
       "\n",
       "    .dataframe tbody tr th {\n",
       "        vertical-align: top;\n",
       "    }\n",
       "\n",
       "    .dataframe thead th {\n",
       "        text-align: right;\n",
       "    }\n",
       "</style>\n",
       "<table border=\"1\" class=\"dataframe\">\n",
       "  <thead>\n",
       "    <tr style=\"text-align: right;\">\n",
       "      <th></th>\n",
       "      <th>site</th>\n",
       "      <th>freq</th>\n",
       "    </tr>\n",
       "  </thead>\n",
       "  <tbody>\n",
       "    <tr>\n",
       "      <th>0</th>\n",
       "      <td>322</td>\n",
       "      <td>40</td>\n",
       "    </tr>\n",
       "    <tr>\n",
       "      <th>1</th>\n",
       "      <td>321</td>\n",
       "      <td>36</td>\n",
       "    </tr>\n",
       "    <tr>\n",
       "      <th>2</th>\n",
       "      <td>320</td>\n",
       "      <td>36</td>\n",
       "    </tr>\n",
       "  </tbody>\n",
       "</table>\n",
       "</div>"
      ],
      "text/plain": [
       "   site  freq\n",
       "0   322    40\n",
       "1   321    36\n",
       "2   320    36"
      ]
     },
     "execution_count": 112,
     "metadata": {},
     "output_type": "execute_result"
    }
   ],
   "source": [
    "freq[0:3]"
   ]
  },
  {
   "cell_type": "code",
   "execution_count": 113,
   "metadata": {},
   "outputs": [],
   "source": [
    "#перешли к входу среднему на одном рейсе\n",
    "video_data2=pd.DataFrame(video_data2.groupby(['route_id','trip_id','site']).agg({'Вошло':np.mean}).reset_index())"
   ]
  },
  {
   "cell_type": "code",
   "execution_count": 114,
   "metadata": {},
   "outputs": [],
   "source": [
    "#перешли к среднему выходу на одном рейсе автобусов перевозчика 'Рейс'\n",
    "vyxod_reis=pd.DataFrame(video_data.groupby(['route_id','trip_id','ID остановки (Яндекс)']).agg({'Вышло':np.mean}).reset_index())"
   ]
  },
  {
   "cell_type": "code",
   "execution_count": 115,
   "metadata": {},
   "outputs": [],
   "source": [
    "vyxod_reis=vyxod_reis.merge(video_stops_sites,on='ID остановки (Яндекс)', how='left')"
   ]
  },
  {
   "cell_type": "code",
   "execution_count": 116,
   "metadata": {},
   "outputs": [],
   "source": [
    "#выбрали только те остановки,по которым будем размазывать выход (убрали те остановки, на которых у нас вход и там, где выход = 0)\n",
    "#vyxod_reis=vyxod_reis[~vyxod_reis['site'].isin(video_data2['site'].unique())]\n",
    "vyxod_reis=vyxod_reis[vyxod_reis['Вышло']>0]"
   ]
  },
  {
   "cell_type": "code",
   "execution_count": 117,
   "metadata": {},
   "outputs": [],
   "source": [
    "vyxod_reis=pd.DataFrame(vyxod_reis.groupby(['trip_id','site']).agg({'Вышло':np.mean}).reset_index())"
   ]
  },
  {
   "cell_type": "code",
   "execution_count": 118,
   "metadata": {},
   "outputs": [],
   "source": [
    "#считаем суммарный выход на одном направлении на одном маршруте:\n",
    "vyxod_reis_group_trip_id=pd.DataFrame(vyxod_reis.groupby(['trip_id']).agg({'Вышло':np.sum}).reset_index())"
   ]
  },
  {
   "cell_type": "code",
   "execution_count": 119,
   "metadata": {},
   "outputs": [],
   "source": [
    "#размазываем \n",
    "vyxod_reis=vyxod_reis.merge(vyxod_reis_group_trip_id, on ='trip_id',how='outer')\n",
    "vyxod_reis['part']=vyxod_reis['Вышло_x']/vyxod_reis['Вышло_y']\n",
    "vyxod_reis=vyxod_reis[['trip_id','site','part']]"
   ]
  },
  {
   "cell_type": "code",
   "execution_count": 120,
   "metadata": {},
   "outputs": [],
   "source": [
    "video_data2=video_data2[['trip_id','site','Вошло']]"
   ]
  },
  {
   "cell_type": "code",
   "execution_count": 121,
   "metadata": {},
   "outputs": [],
   "source": [
    "matrix_video=video_data2.merge(vyxod_reis, on ='trip_id', how='outer')"
   ]
  },
  {
   "cell_type": "code",
   "execution_count": 122,
   "metadata": {},
   "outputs": [],
   "source": [
    "matrix_video['c']=matrix_video['Вошло']*matrix_video['part']"
   ]
  },
  {
   "cell_type": "code",
   "execution_count": 281,
   "metadata": {},
   "outputs": [
    {
     "data": {
      "text/html": [
       "<div>\n",
       "<style scoped>\n",
       "    .dataframe tbody tr th:only-of-type {\n",
       "        vertical-align: middle;\n",
       "    }\n",
       "\n",
       "    .dataframe tbody tr th {\n",
       "        vertical-align: top;\n",
       "    }\n",
       "\n",
       "    .dataframe thead th {\n",
       "        text-align: right;\n",
       "    }\n",
       "</style>\n",
       "<table border=\"1\" class=\"dataframe\">\n",
       "  <thead>\n",
       "    <tr style=\"text-align: right;\">\n",
       "      <th></th>\n",
       "      <th>site_id</th>\n",
       "      <th>site_id_2</th>\n",
       "      <th>c</th>\n",
       "    </tr>\n",
       "  </thead>\n",
       "  <tbody>\n",
       "    <tr>\n",
       "      <th>0</th>\n",
       "      <td>20</td>\n",
       "      <td>20</td>\n",
       "      <td>0</td>\n",
       "    </tr>\n",
       "  </tbody>\n",
       "</table>\n",
       "</div>"
      ],
      "text/plain": [
       "   site_id  site_id_2  c\n",
       "0       20         20  0"
      ]
     },
     "execution_count": 281,
     "metadata": {},
     "output_type": "execute_result"
    }
   ],
   "source": [
    "matrix_video[0:1]"
   ]
  },
  {
   "cell_type": "code",
   "execution_count": 124,
   "metadata": {},
   "outputs": [],
   "source": [
    "matrix_video=matrix_video.merge(freq,left_on ='site_x',right_on ='site', how='left')"
   ]
  },
  {
   "cell_type": "code",
   "execution_count": 125,
   "metadata": {},
   "outputs": [],
   "source": [
    "matrix_video['c']=matrix_video['c']*matrix_video['freq']"
   ]
  },
  {
   "cell_type": "code",
   "execution_count": 126,
   "metadata": {},
   "outputs": [
    {
     "data": {
      "text/plain": [
       "10997.424247454732"
      ]
     },
     "execution_count": 126,
     "metadata": {},
     "output_type": "execute_result"
    }
   ],
   "source": [
    "matrix_video['c'].sum()"
   ]
  },
  {
   "cell_type": "code",
   "execution_count": 282,
   "metadata": {},
   "outputs": [
    {
     "data": {
      "text/html": [
       "<div>\n",
       "<style scoped>\n",
       "    .dataframe tbody tr th:only-of-type {\n",
       "        vertical-align: middle;\n",
       "    }\n",
       "\n",
       "    .dataframe tbody tr th {\n",
       "        vertical-align: top;\n",
       "    }\n",
       "\n",
       "    .dataframe thead th {\n",
       "        text-align: right;\n",
       "    }\n",
       "</style>\n",
       "<table border=\"1\" class=\"dataframe\">\n",
       "  <thead>\n",
       "    <tr style=\"text-align: right;\">\n",
       "      <th></th>\n",
       "      <th>site_id</th>\n",
       "      <th>site_id_2</th>\n",
       "      <th>c</th>\n",
       "    </tr>\n",
       "  </thead>\n",
       "  <tbody>\n",
       "    <tr>\n",
       "      <th>0</th>\n",
       "      <td>20</td>\n",
       "      <td>20</td>\n",
       "      <td>0</td>\n",
       "    </tr>\n",
       "  </tbody>\n",
       "</table>\n",
       "</div>"
      ],
      "text/plain": [
       "   site_id  site_id_2  c\n",
       "0       20         20  0"
      ]
     },
     "execution_count": 282,
     "metadata": {},
     "output_type": "execute_result"
    }
   ],
   "source": [
    "matrix_video[0:1]"
   ]
  },
  {
   "cell_type": "code",
   "execution_count": 128,
   "metadata": {},
   "outputs": [],
   "source": [
    "matrix_video=pd.DataFrame(matrix_video.groupby(['site_x','site_y']).agg({'c':np.sum}).reset_index())"
   ]
  },
  {
   "cell_type": "code",
   "execution_count": 129,
   "metadata": {},
   "outputs": [],
   "source": [
    "matrix_video=matrix_video.rename(columns={'site_x':'site_id','site_y':'site_id_2'})"
   ]
  },
  {
   "cell_type": "markdown",
   "metadata": {},
   "source": [
    "# Ура, дозаписываем данные видеоаналитики в данные по валидациям"
   ]
  },
  {
   "cell_type": "code",
   "execution_count": 130,
   "metadata": {},
   "outputs": [],
   "source": [
    "matrix=pd.read_csv(path+'matrix_oct_new_sites.csv')\n",
    "matrix=matrix[matrix['c']>0]\n",
    "matrix=matrix[['site_id','site_id_2','c']]"
   ]
  },
  {
   "cell_type": "code",
   "execution_count": 131,
   "metadata": {},
   "outputs": [
    {
     "name": "stdout",
     "output_type": "stream",
     "text": [
      "<class 'pandas.core.frame.DataFrame'>\n",
      "Int64Index: 30107 entries, 0 to 30106\n",
      "Data columns (total 3 columns):\n",
      " #   Column     Non-Null Count  Dtype\n",
      "---  ------     --------------  -----\n",
      " 0   site_id    30107 non-null  int64\n",
      " 1   site_id_2  30107 non-null  int64\n",
      " 2   c          30107 non-null  int64\n",
      "dtypes: int64(3)\n",
      "memory usage: 940.8 KB\n"
     ]
    }
   ],
   "source": [
    "matrix.info()"
   ]
  },
  {
   "cell_type": "code",
   "execution_count": 132,
   "metadata": {},
   "outputs": [],
   "source": [
    "matrix_video['c']=matrix_video['c'].astype('int64')\n",
    "matrix_video['site_id']=matrix_video['site_id'].astype('int64')\n",
    "matrix_video['site_id_2']=matrix_video['site_id_2'].astype('int64')"
   ]
  },
  {
   "cell_type": "code",
   "execution_count": 133,
   "metadata": {},
   "outputs": [],
   "source": [
    "matrix=matrix.append(matrix_video)"
   ]
  },
  {
   "cell_type": "code",
   "execution_count": 134,
   "metadata": {},
   "outputs": [],
   "source": [
    "matrix=pd.DataFrame(matrix.groupby(['site_id','site_id_2']).agg({'c':np.sum}).reset_index())"
   ]
  },
  {
   "cell_type": "code",
   "execution_count": 135,
   "metadata": {},
   "outputs": [
    {
     "name": "stdout",
     "output_type": "stream",
     "text": [
      "<class 'pandas.core.frame.DataFrame'>\n",
      "RangeIndex: 45945 entries, 0 to 45944\n",
      "Data columns (total 3 columns):\n",
      " #   Column     Non-Null Count  Dtype\n",
      "---  ------     --------------  -----\n",
      " 0   site_id    45945 non-null  int64\n",
      " 1   site_id_2  45945 non-null  int64\n",
      " 2   c          45945 non-null  int64\n",
      "dtypes: int64(3)\n",
      "memory usage: 1.1 MB\n"
     ]
    }
   ],
   "source": [
    "matrix.info()"
   ]
  },
  {
   "cell_type": "code",
   "execution_count": 136,
   "metadata": {},
   "outputs": [],
   "source": [
    "matrix['site_id_2']=matrix['site_id_2'].astype('int64')"
   ]
  },
  {
   "cell_type": "code",
   "execution_count": 137,
   "metadata": {},
   "outputs": [],
   "source": [
    "matrix.to_csv(path+'res/matrix_oct_new_sites_with_video.csv', index=False)"
   ]
  },
  {
   "cell_type": "markdown",
   "metadata": {},
   "source": [
    "## Рассчитываем принадлежность сайта тому или иному транспортному району"
   ]
  },
  {
   "cell_type": "code",
   "execution_count": 138,
   "metadata": {},
   "outputs": [],
   "source": [
    "sites_unic=pd.read_csv(path+'sites_coordinate.csv', sep = ';', encoding='utf-8')"
   ]
  },
  {
   "cell_type": "code",
   "execution_count": 139,
   "metadata": {},
   "outputs": [],
   "source": [
    "sites_gpd = gpd.GeoDataFrame(sites_unic, \\\n",
    "                              geometry = [Point(xy) for xy in zip(sites_unic['ss_long'], sites_unic['ss_lat'])])\n",
    "sites_gpd.crs='epsg:4326'"
   ]
  },
  {
   "cell_type": "code",
   "execution_count": 140,
   "metadata": {},
   "outputs": [
    {
     "data": {
      "text/plain": [
       "<matplotlib.axes._subplots.AxesSubplot at 0x1522c466f40>"
      ]
     },
     "execution_count": 140,
     "metadata": {},
     "output_type": "execute_result"
    },
    {
     "data": {
      "image/png": "[encoded data removed]",
      "text/plain": [
       "<Figure size 432x288 with 1 Axes>"
      ]
     },
     "metadata": {
      "needs_background": "light"
     },
     "output_type": "display_data"
    }
   ],
   "source": [
    "sites_gpd.plot()"
   ]
  },
  {
   "cell_type": "code",
   "execution_count": 141,
   "metadata": {},
   "outputs": [],
   "source": [
    "transport_zone=gpd.read_file('557_zone.shp', encoding='utf-8')"
   ]
  },
  {
   "cell_type": "code",
   "execution_count": 142,
   "metadata": {},
   "outputs": [
    {
     "data": {
      "text/plain": [
       "<matplotlib.axes._subplots.AxesSubplot at 0x1521dca9d30>"
      ]
     },
     "execution_count": 142,
     "metadata": {},
     "output_type": "execute_result"
    },
    {
     "data": {
      "image/png": "[encoded data removed]",
      "text/plain": [
       "<Figure size 432x288 with 1 Axes>"
      ]
     },
     "metadata": {
      "needs_background": "light"
     },
     "output_type": "display_data"
    }
   ],
   "source": [
    "transport_zone.plot()"
   ]
  },
  {
   "cell_type": "code",
   "execution_count": 143,
   "metadata": {},
   "outputs": [
    {
     "data": {
      "text/html": [
       "<div>\n",
       "<style scoped>\n",
       "    .dataframe tbody tr th:only-of-type {\n",
       "        vertical-align: middle;\n",
       "    }\n",
       "\n",
       "    .dataframe tbody tr th {\n",
       "        vertical-align: top;\n",
       "    }\n",
       "\n",
       "    .dataframe thead th {\n",
       "        text-align: right;\n",
       "    }\n",
       "</style>\n",
       "<table border=\"1\" class=\"dataframe\">\n",
       "  <thead>\n",
       "    <tr style=\"text-align: right;\">\n",
       "      <th></th>\n",
       "      <th>NO</th>\n",
       "      <th>geometry</th>\n",
       "    </tr>\n",
       "  </thead>\n",
       "  <tbody>\n",
       "    <tr>\n",
       "      <th>0</th>\n",
       "      <td>1</td>\n",
       "      <td>POLYGON ((49.74624 53.47745, 49.74695 53.48435...</td>\n",
       "    </tr>\n",
       "    <tr>\n",
       "      <th>1</th>\n",
       "      <td>2</td>\n",
       "      <td>POLYGON ((50.26787 53.17875, 50.24173 53.20126...</td>\n",
       "    </tr>\n",
       "    <tr>\n",
       "      <th>2</th>\n",
       "      <td>3</td>\n",
       "      <td>POLYGON ((50.34918 53.23681, 50.35777 53.22709...</td>\n",
       "    </tr>\n",
       "    <tr>\n",
       "      <th>3</th>\n",
       "      <td>4</td>\n",
       "      <td>POLYGON ((50.34862 53.32653, 50.33540 53.32700...</td>\n",
       "    </tr>\n",
       "    <tr>\n",
       "      <th>4</th>\n",
       "      <td>5</td>\n",
       "      <td>POLYGON ((49.22210 53.59736, 49.21382 53.55950...</td>\n",
       "    </tr>\n",
       "  </tbody>\n",
       "</table>\n",
       "</div>"
      ],
      "text/plain": [
       "   NO                                           geometry\n",
       "0   1  POLYGON ((49.74624 53.47745, 49.74695 53.48435...\n",
       "1   2  POLYGON ((50.26787 53.17875, 50.24173 53.20126...\n",
       "2   3  POLYGON ((50.34918 53.23681, 50.35777 53.22709...\n",
       "3   4  POLYGON ((50.34862 53.32653, 50.33540 53.32700...\n",
       "4   5  POLYGON ((49.22210 53.59736, 49.21382 53.55950..."
      ]
     },
     "execution_count": 143,
     "metadata": {},
     "output_type": "execute_result"
    }
   ],
   "source": [
    "transport_zone.head()"
   ]
  },
  {
   "cell_type": "code",
   "execution_count": 144,
   "metadata": {},
   "outputs": [],
   "source": [
    "site_taz=gpd.sjoin(sites_gpd, transport_zone, how='left', op='within', lsuffix='left', rsuffix='right')"
   ]
  },
  {
   "cell_type": "code",
   "execution_count": 145,
   "metadata": {},
   "outputs": [],
   "source": [
    "site_taz=site_taz.rename(columns={'NO':'Транспортные районы'})"
   ]
  },
  {
   "cell_type": "code",
   "execution_count": 146,
   "metadata": {},
   "outputs": [
    {
     "data": {
      "text/plain": [
       "array([232., 222., 231., 530., 294., 187., 224., 183., 181., 226., 274.,\n",
       "       275., 225., 479., 193., 192., 227., 502., 223., 526., 295., 505.,\n",
       "       520., 504., 523., 514., 159., 150., 151., 498., 515., 497.,  nan,\n",
       "       522., 229., 160., 519., 189., 513., 517., 511., 516., 518., 476.,\n",
       "       509., 119., 149., 512., 276., 510., 153., 548., 157., 543., 148.,\n",
       "       552., 549., 555., 154., 553.,   2., 554., 156., 551., 158., 546.,\n",
       "         3., 155., 544., 550., 547., 340., 161., 147., 145., 162., 143.,\n",
       "       163., 338., 277., 541., 146., 336., 164., 334., 545., 144., 165.,\n",
       "       542., 278., 535., 166., 296., 337., 540., 537., 335., 539., 482.,\n",
       "       301., 333., 556., 300., 331., 299., 279., 538., 297., 303., 302.,\n",
       "       298., 304., 332., 309., 308., 343., 351., 310., 344.,   1., 349.,\n",
       "       355., 306., 305., 354., 141., 142., 350., 341., 484., 339.])"
      ]
     },
     "execution_count": 146,
     "metadata": {},
     "output_type": "execute_result"
    }
   ],
   "source": [
    "site_taz['Транспортные районы'].unique()"
   ]
  },
  {
   "cell_type": "code",
   "execution_count": 147,
   "metadata": {},
   "outputs": [],
   "source": [
    "Pop=pd.read_csv(path+'Pop2025.csv', encoding='windows-1251', sep=\";\")"
   ]
  },
  {
   "cell_type": "code",
   "execution_count": 148,
   "metadata": {},
   "outputs": [
    {
     "data": {
      "text/html": [
       "<div>\n",
       "<style scoped>\n",
       "    .dataframe tbody tr th:only-of-type {\n",
       "        vertical-align: middle;\n",
       "    }\n",
       "\n",
       "    .dataframe tbody tr th {\n",
       "        vertical-align: top;\n",
       "    }\n",
       "\n",
       "    .dataframe thead th {\n",
       "        text-align: right;\n",
       "    }\n",
       "</style>\n",
       "<table border=\"1\" class=\"dataframe\">\n",
       "  <thead>\n",
       "    <tr style=\"text-align: right;\">\n",
       "      <th></th>\n",
       "      <th>Транспортные районы</th>\n",
       "      <th>Муниципалитет (нижний уровень)</th>\n",
       "      <th>Город/ Муниципалитет</th>\n",
       "      <th>Факт_20_нас</th>\n",
       "      <th>Факт_20_раб</th>\n",
       "      <th>Инерция_25</th>\n",
       "      <th>Базовый_25</th>\n",
       "      <th>Б+_25</th>\n",
       "      <th>Ц+_25</th>\n",
       "      <th>Инерция_35</th>\n",
       "      <th>...</th>\n",
       "      <th>Б+_35</th>\n",
       "      <th>Ц+_35</th>\n",
       "      <th>Инерция_раб_25</th>\n",
       "      <th>Базовый_раб_25</th>\n",
       "      <th>Б+_раб_25</th>\n",
       "      <th>Ц+_раб_25</th>\n",
       "      <th>Инерция_раб_35</th>\n",
       "      <th>Базовый_раб_35</th>\n",
       "      <th>Б+_раб_35</th>\n",
       "      <th>Ц+_раб_35</th>\n",
       "    </tr>\n",
       "  </thead>\n",
       "  <tbody>\n",
       "    <tr>\n",
       "      <th>0</th>\n",
       "      <td>1</td>\n",
       "      <td>Красноглинский район</td>\n",
       "      <td>городской округ Самара</td>\n",
       "      <td>8512</td>\n",
       "      <td>2888.555939</td>\n",
       "      <td>8615</td>\n",
       "      <td>8617</td>\n",
       "      <td>8329</td>\n",
       "      <td>8479</td>\n",
       "      <td>8235</td>\n",
       "      <td>...</td>\n",
       "      <td>6080</td>\n",
       "      <td>6584</td>\n",
       "      <td>2863.556561</td>\n",
       "      <td>2976.612721</td>\n",
       "      <td>2976.612721</td>\n",
       "      <td>3066.718597</td>\n",
       "      <td>2731.662723</td>\n",
       "      <td>3083.388383</td>\n",
       "      <td>3083.388383</td>\n",
       "      <td>3354.098505</td>\n",
       "    </tr>\n",
       "    <tr>\n",
       "      <th>1</th>\n",
       "      <td>2</td>\n",
       "      <td>Советский район</td>\n",
       "      <td>городской округ Самара</td>\n",
       "      <td>3301</td>\n",
       "      <td>25374.960880</td>\n",
       "      <td>3246</td>\n",
       "      <td>3247</td>\n",
       "      <td>3139</td>\n",
       "      <td>3195</td>\n",
       "      <td>3103</td>\n",
       "      <td>...</td>\n",
       "      <td>2291</td>\n",
       "      <td>2480</td>\n",
       "      <td>25155.350020</td>\n",
       "      <td>26148.509130</td>\n",
       "      <td>26148.509130</td>\n",
       "      <td>26940.057960</td>\n",
       "      <td>23996.708460</td>\n",
       "      <td>27086.496240</td>\n",
       "      <td>27086.496240</td>\n",
       "      <td>29464.590660</td>\n",
       "    </tr>\n",
       "    <tr>\n",
       "      <th>2</th>\n",
       "      <td>3</td>\n",
       "      <td>Кировский район</td>\n",
       "      <td>городской округ Самара</td>\n",
       "      <td>21013</td>\n",
       "      <td>11359.139230</td>\n",
       "      <td>20665</td>\n",
       "      <td>20756</td>\n",
       "      <td>20063</td>\n",
       "      <td>20432</td>\n",
       "      <td>19755</td>\n",
       "      <td>...</td>\n",
       "      <td>14772</td>\n",
       "      <td>16019</td>\n",
       "      <td>11260.830100</td>\n",
       "      <td>11705.419260</td>\n",
       "      <td>11705.419260</td>\n",
       "      <td>12059.757280</td>\n",
       "      <td>10742.162470</td>\n",
       "      <td>12125.310590</td>\n",
       "      <td>12125.310590</td>\n",
       "      <td>13189.868120</td>\n",
       "    </tr>\n",
       "    <tr>\n",
       "      <th>3</th>\n",
       "      <td>4</td>\n",
       "      <td>городское поселение Смышляевка</td>\n",
       "      <td>Волжский район</td>\n",
       "      <td>1710</td>\n",
       "      <td>230.549263</td>\n",
       "      <td>1618</td>\n",
       "      <td>1685</td>\n",
       "      <td>1629</td>\n",
       "      <td>1665</td>\n",
       "      <td>1626</td>\n",
       "      <td>...</td>\n",
       "      <td>1260</td>\n",
       "      <td>1380</td>\n",
       "      <td>228.553945</td>\n",
       "      <td>237.577490</td>\n",
       "      <td>237.577490</td>\n",
       "      <td>244.769264</td>\n",
       "      <td>218.026876</td>\n",
       "      <td>246.099758</td>\n",
       "      <td>246.099758</td>\n",
       "      <td>267.706409</td>\n",
       "    </tr>\n",
       "    <tr>\n",
       "      <th>4</th>\n",
       "      <td>5</td>\n",
       "      <td>сельское поселение Подстёпки</td>\n",
       "      <td>Ставропольский район</td>\n",
       "      <td>0</td>\n",
       "      <td>35.000000</td>\n",
       "      <td>0</td>\n",
       "      <td>0</td>\n",
       "      <td>0</td>\n",
       "      <td>0</td>\n",
       "      <td>0</td>\n",
       "      <td>...</td>\n",
       "      <td>0</td>\n",
       "      <td>0</td>\n",
       "      <td>34.697088</td>\n",
       "      <td>36.066965</td>\n",
       "      <td>36.066965</td>\n",
       "      <td>37.158758</td>\n",
       "      <td>33.098959</td>\n",
       "      <td>37.360742</td>\n",
       "      <td>37.360742</td>\n",
       "      <td>40.640877</td>\n",
       "    </tr>\n",
       "    <tr>\n",
       "      <th>...</th>\n",
       "      <td>...</td>\n",
       "      <td>...</td>\n",
       "      <td>...</td>\n",
       "      <td>...</td>\n",
       "      <td>...</td>\n",
       "      <td>...</td>\n",
       "      <td>...</td>\n",
       "      <td>...</td>\n",
       "      <td>...</td>\n",
       "      <td>...</td>\n",
       "      <td>...</td>\n",
       "      <td>...</td>\n",
       "      <td>...</td>\n",
       "      <td>...</td>\n",
       "      <td>...</td>\n",
       "      <td>...</td>\n",
       "      <td>...</td>\n",
       "      <td>...</td>\n",
       "      <td>...</td>\n",
       "      <td>...</td>\n",
       "      <td>...</td>\n",
       "    </tr>\n",
       "    <tr>\n",
       "      <th>552</th>\n",
       "      <td>553</td>\n",
       "      <td>Ленинский район</td>\n",
       "      <td>городской округ Самара</td>\n",
       "      <td>47034</td>\n",
       "      <td>37695.420570</td>\n",
       "      <td>46256</td>\n",
       "      <td>46779</td>\n",
       "      <td>45216</td>\n",
       "      <td>46137</td>\n",
       "      <td>44220</td>\n",
       "      <td>...</td>\n",
       "      <td>33775</td>\n",
       "      <td>36840</td>\n",
       "      <td>37369.180710</td>\n",
       "      <td>38844.554420</td>\n",
       "      <td>38844.554420</td>\n",
       "      <td>40020.428800</td>\n",
       "      <td>35647.976830</td>\n",
       "      <td>40237.968150</td>\n",
       "      <td>40237.968150</td>\n",
       "      <td>43770.713270</td>\n",
       "    </tr>\n",
       "    <tr>\n",
       "      <th>553</th>\n",
       "      <td>554</td>\n",
       "      <td>Ленинский район</td>\n",
       "      <td>городской округ Самара</td>\n",
       "      <td>15308</td>\n",
       "      <td>8765.727037</td>\n",
       "      <td>15054</td>\n",
       "      <td>15367</td>\n",
       "      <td>14854</td>\n",
       "      <td>15337</td>\n",
       "      <td>14389</td>\n",
       "      <td>...</td>\n",
       "      <td>11308</td>\n",
       "      <td>12771</td>\n",
       "      <td>8689.862927</td>\n",
       "      <td>9032.947659</td>\n",
       "      <td>9032.947659</td>\n",
       "      <td>9306.386544</td>\n",
       "      <td>8289.612627</td>\n",
       "      <td>9356.973341</td>\n",
       "      <td>9356.973341</td>\n",
       "      <td>10178.481070</td>\n",
       "    </tr>\n",
       "    <tr>\n",
       "      <th>554</th>\n",
       "      <td>555</td>\n",
       "      <td>Железнодорожный район</td>\n",
       "      <td>городской округ Самара</td>\n",
       "      <td>1159</td>\n",
       "      <td>4145.548908</td>\n",
       "      <td>1140</td>\n",
       "      <td>1140</td>\n",
       "      <td>1102</td>\n",
       "      <td>1121</td>\n",
       "      <td>1089</td>\n",
       "      <td>...</td>\n",
       "      <td>804</td>\n",
       "      <td>871</td>\n",
       "      <td>4109.670723</td>\n",
       "      <td>4271.924753</td>\n",
       "      <td>4271.924753</td>\n",
       "      <td>4401.241382</td>\n",
       "      <td>3920.381553</td>\n",
       "      <td>4425.165243</td>\n",
       "      <td>4425.165243</td>\n",
       "      <td>4813.678422</td>\n",
       "    </tr>\n",
       "    <tr>\n",
       "      <th>555</th>\n",
       "      <td>556</td>\n",
       "      <td>городское поселение Смышляевка</td>\n",
       "      <td>Волжский район</td>\n",
       "      <td>8863</td>\n",
       "      <td>1197.825115</td>\n",
       "      <td>8384</td>\n",
       "      <td>13701</td>\n",
       "      <td>23709</td>\n",
       "      <td>23709</td>\n",
       "      <td>8423</td>\n",
       "      <td>...</td>\n",
       "      <td>111311</td>\n",
       "      <td>111311</td>\n",
       "      <td>1187.458383</td>\n",
       "      <td>1234.340462</td>\n",
       "      <td>1434.340462</td>\n",
       "      <td>1471.705528</td>\n",
       "      <td>1132.764704</td>\n",
       "      <td>1278.618147</td>\n",
       "      <td>1478.618147</td>\n",
       "      <td>1590.876102</td>\n",
       "    </tr>\n",
       "    <tr>\n",
       "      <th>556</th>\n",
       "      <td>557</td>\n",
       "      <td>сельское поселение Комсомольский</td>\n",
       "      <td>Кинельский район</td>\n",
       "      <td>3330</td>\n",
       "      <td>1.000000</td>\n",
       "      <td>3275</td>\n",
       "      <td>3279</td>\n",
       "      <td>3169</td>\n",
       "      <td>3226</td>\n",
       "      <td>3052</td>\n",
       "      <td>...</td>\n",
       "      <td>2255</td>\n",
       "      <td>2442</td>\n",
       "      <td>1.000000</td>\n",
       "      <td>1.000000</td>\n",
       "      <td>1.000000</td>\n",
       "      <td>1.000000</td>\n",
       "      <td>1.000000</td>\n",
       "      <td>1.000000</td>\n",
       "      <td>1.000000</td>\n",
       "      <td>1.000000</td>\n",
       "    </tr>\n",
       "  </tbody>\n",
       "</table>\n",
       "<p>557 rows × 21 columns</p>\n",
       "</div>"
      ],
      "text/plain": [
       "     Транспортные районы    Муниципалитет (нижний уровень)  \\\n",
       "0                      1              Красноглинский район   \n",
       "1                      2                   Советский район   \n",
       "2                      3                   Кировский район   \n",
       "3                      4    городское поселение Смышляевка   \n",
       "4                      5      сельское поселение Подстёпки   \n",
       "..                   ...                               ...   \n",
       "552                  553                   Ленинский район   \n",
       "553                  554                   Ленинский район   \n",
       "554                  555             Железнодорожный район   \n",
       "555                  556    городское поселение Смышляевка   \n",
       "556                  557  сельское поселение Комсомольский   \n",
       "\n",
       "       Город/ Муниципалитет  Факт_20_нас   Факт_20_раб  Инерция_25  \\\n",
       "0    городской округ Самара         8512   2888.555939        8615   \n",
       "1    городской округ Самара         3301  25374.960880        3246   \n",
       "2    городской округ Самара        21013  11359.139230       20665   \n",
       "3            Волжский район         1710    230.549263        1618   \n",
       "4      Ставропольский район            0     35.000000           0   \n",
       "..                      ...          ...           ...         ...   \n",
       "552  городской округ Самара        47034  37695.420570       46256   \n",
       "553  городской округ Самара        15308   8765.727037       15054   \n",
       "554  городской округ Самара         1159   4145.548908        1140   \n",
       "555          Волжский район         8863   1197.825115        8384   \n",
       "556        Кинельский район         3330      1.000000        3275   \n",
       "\n",
       "     Базовый_25  Б+_25  Ц+_25  Инерция_35  ...   Б+_35   Ц+_35  \\\n",
       "0          8617   8329   8479        8235  ...    6080    6584   \n",
       "1          3247   3139   3195        3103  ...    2291    2480   \n",
       "2         20756  20063  20432       19755  ...   14772   16019   \n",
       "3          1685   1629   1665        1626  ...    1260    1380   \n",
       "4             0      0      0           0  ...       0       0   \n",
       "..          ...    ...    ...         ...  ...     ...     ...   \n",
       "552       46779  45216  46137       44220  ...   33775   36840   \n",
       "553       15367  14854  15337       14389  ...   11308   12771   \n",
       "554        1140   1102   1121        1089  ...     804     871   \n",
       "555       13701  23709  23709        8423  ...  111311  111311   \n",
       "556        3279   3169   3226        3052  ...    2255    2442   \n",
       "\n",
       "     Инерция_раб_25  Базовый_раб_25     Б+_раб_25     Ц+_раб_25  \\\n",
       "0       2863.556561     2976.612721   2976.612721   3066.718597   \n",
       "1      25155.350020    26148.509130  26148.509130  26940.057960   \n",
       "2      11260.830100    11705.419260  11705.419260  12059.757280   \n",
       "3        228.553945      237.577490    237.577490    244.769264   \n",
       "4         34.697088       36.066965     36.066965     37.158758   \n",
       "..              ...             ...           ...           ...   \n",
       "552    37369.180710    38844.554420  38844.554420  40020.428800   \n",
       "553     8689.862927     9032.947659   9032.947659   9306.386544   \n",
       "554     4109.670723     4271.924753   4271.924753   4401.241382   \n",
       "555     1187.458383     1234.340462   1434.340462   1471.705528   \n",
       "556        1.000000        1.000000      1.000000      1.000000   \n",
       "\n",
       "     Инерция_раб_35  Базовый_раб_35     Б+_раб_35     Ц+_раб_35  \n",
       "0       2731.662723     3083.388383   3083.388383   3354.098505  \n",
       "1      23996.708460    27086.496240  27086.496240  29464.590660  \n",
       "2      10742.162470    12125.310590  12125.310590  13189.868120  \n",
       "3        218.026876      246.099758    246.099758    267.706409  \n",
       "4         33.098959       37.360742     37.360742     40.640877  \n",
       "..              ...             ...           ...           ...  \n",
       "552    35647.976830    40237.968150  40237.968150  43770.713270  \n",
       "553     8289.612627     9356.973341   9356.973341  10178.481070  \n",
       "554     3920.381553     4425.165243   4425.165243   4813.678422  \n",
       "555     1132.764704     1278.618147   1478.618147   1590.876102  \n",
       "556        1.000000        1.000000      1.000000      1.000000  \n",
       "\n",
       "[557 rows x 21 columns]"
      ]
     },
     "execution_count": 148,
     "metadata": {},
     "output_type": "execute_result"
    }
   ],
   "source": [
    "Pop"
   ]
  },
  {
   "cell_type": "code",
   "execution_count": 149,
   "metadata": {},
   "outputs": [],
   "source": [
    "from math import sqrt"
   ]
  },
  {
   "cell_type": "code",
   "execution_count": 150,
   "metadata": {},
   "outputs": [],
   "source": [
    "Pop['koeff_pop_24']=Pop['Базовый_25']/Pop['Факт_20_нас']\n",
    "Pop['koeff_work_24']=(Pop['Базовый_раб_25']/Pop['Факт_20_раб']).apply(np.sqrt)\n",
    "Pop['koeff_pop_35']=Pop['Базовый_35']/Pop['Факт_20_нас']         \n",
    "Pop['koeff_work_35']=(Pop['Базовый_раб_35']/Pop['Факт_20_раб']).apply(np.sqrt)\n",
    "Pop['koeff_pop_30']=(Pop['Базовый_35']+Pop['Базовый_25'])/(2*Pop['Факт_20_нас'])     \n",
    "Pop['koeff_work_30']=((Pop['Базовый_раб_35']+Pop['Базовый_раб_25'])/2/Pop['Факт_20_раб']).apply(np.sqrt)"
   ]
  },
  {
   "cell_type": "code",
   "execution_count": 151,
   "metadata": {},
   "outputs": [],
   "source": [
    "Pop=Pop[['Транспортные районы','koeff_pop_24','koeff_pop_30','koeff_pop_35','koeff_work_24','koeff_work_30','koeff_work_35']]"
   ]
  },
  {
   "cell_type": "code",
   "execution_count": 152,
   "metadata": {},
   "outputs": [],
   "source": [
    "site_taz=site_taz.merge(Pop,on='Транспортные районы')"
   ]
  },
  {
   "cell_type": "code",
   "execution_count": 153,
   "metadata": {},
   "outputs": [],
   "source": [
    "site_koeff=site_taz[['site_id','Транспортные районы','koeff_pop_24','koeff_pop_30','koeff_pop_35','koeff_work_24','koeff_work_30','koeff_work_35']].drop_duplicates()"
   ]
  },
  {
   "cell_type": "code",
   "execution_count": 154,
   "metadata": {},
   "outputs": [],
   "source": [
    "site_koeff_from=site_koeff.add_suffix('_from').rename(columns={'site_id_from':'site_id'})\n",
    "site_koeff_to=site_koeff.add_suffix('_to').rename(columns={'site_id_to':'site_id_2'})\n",
    "site_koeff_from=site_koeff_from[['site_id','Транспортные районы_from','koeff_pop_24_from','koeff_pop_30_from','koeff_pop_35_from']]\n",
    "site_koeff_to=site_koeff_to[['site_id_2','Транспортные районы_to','koeff_work_24_to','koeff_work_30_to','koeff_work_35_to']]"
   ]
  },
  {
   "cell_type": "code",
   "execution_count": 155,
   "metadata": {},
   "outputs": [],
   "source": [
    "matrix_taz=matrix.merge(site_koeff_from,on ='site_id', how='left')\n",
    "matrix_taz=matrix_taz.merge(site_koeff_to,on ='site_id_2',how='left')"
   ]
  },
  {
   "cell_type": "code",
   "execution_count": 156,
   "metadata": {},
   "outputs": [],
   "source": [
    "matrix_taz=pd.DataFrame(matrix_taz.groupby(['Транспортные районы_from','Транспортные районы_to']).agg({'c':np.sum}).reset_index())"
   ]
  },
  {
   "cell_type": "code",
   "execution_count": 157,
   "metadata": {},
   "outputs": [],
   "source": [
    "matrix_taz=matrix_taz[matrix_taz['c']>0]"
   ]
  },
  {
   "cell_type": "code",
   "execution_count": 158,
   "metadata": {},
   "outputs": [],
   "source": [
    "matrix_taz.to_csv(path+'matrix_taz.csv')"
   ]
  },
  {
   "cell_type": "code",
   "execution_count": 159,
   "metadata": {},
   "outputs": [],
   "source": [
    "matrix['c']=matrix['c'].astype('float')"
   ]
  },
  {
   "cell_type": "code",
   "execution_count": 160,
   "metadata": {},
   "outputs": [],
   "source": [
    "matrix_taz=matrix_taz.sort_values(by='c', ascending=False)"
   ]
  },
  {
   "cell_type": "code",
   "execution_count": 161,
   "metadata": {},
   "outputs": [],
   "source": [
    "matrix_taz=matrix_taz.merge(transport_zone,left_on='Транспортные районы_from',right_on='NO')"
   ]
  },
  {
   "cell_type": "code",
   "execution_count": 162,
   "metadata": {},
   "outputs": [],
   "source": [
    "matrix_taz=matrix_taz.merge(transport_zone,left_on='Транспортные районы_to',right_on='NO')"
   ]
  },
  {
   "cell_type": "code",
   "execution_count": 163,
   "metadata": {},
   "outputs": [],
   "source": [
    "top=matrix_taz"
   ]
  },
  {
   "cell_type": "code",
   "execution_count": 164,
   "metadata": {},
   "outputs": [],
   "source": [
    "top=top[top['c']>0]"
   ]
  },
  {
   "cell_type": "code",
   "execution_count": 165,
   "metadata": {},
   "outputs": [
    {
     "data": {
      "text/html": [
       "<div>\n",
       "<style scoped>\n",
       "    .dataframe tbody tr th:only-of-type {\n",
       "        vertical-align: middle;\n",
       "    }\n",
       "\n",
       "    .dataframe tbody tr th {\n",
       "        vertical-align: top;\n",
       "    }\n",
       "\n",
       "    .dataframe thead th {\n",
       "        text-align: right;\n",
       "    }\n",
       "</style>\n",
       "<table border=\"1\" class=\"dataframe\">\n",
       "  <thead>\n",
       "    <tr style=\"text-align: right;\">\n",
       "      <th></th>\n",
       "      <th>Транспортные районы_from</th>\n",
       "      <th>Транспортные районы_to</th>\n",
       "      <th>c</th>\n",
       "      <th>NO_x</th>\n",
       "      <th>geometry_x</th>\n",
       "      <th>NO_y</th>\n",
       "      <th>geometry_y</th>\n",
       "    </tr>\n",
       "  </thead>\n",
       "  <tbody>\n",
       "    <tr>\n",
       "      <th>0</th>\n",
       "      <td>162.0</td>\n",
       "      <td>162.0</td>\n",
       "      <td>3810</td>\n",
       "      <td>162</td>\n",
       "      <td>POLYGON ((50.21574 53.26130, 50.22296 53.25183...</td>\n",
       "      <td>162</td>\n",
       "      <td>POLYGON ((50.21574 53.26130, 50.22296 53.25183...</td>\n",
       "    </tr>\n",
       "    <tr>\n",
       "      <th>1</th>\n",
       "      <td>145.0</td>\n",
       "      <td>162.0</td>\n",
       "      <td>877</td>\n",
       "      <td>145</td>\n",
       "      <td>POLYGON ((50.26088 53.22110, 50.24020 53.23733...</td>\n",
       "      <td>162</td>\n",
       "      <td>POLYGON ((50.21574 53.26130, 50.22296 53.25183...</td>\n",
       "    </tr>\n",
       "    <tr>\n",
       "      <th>2</th>\n",
       "      <td>156.0</td>\n",
       "      <td>162.0</td>\n",
       "      <td>765</td>\n",
       "      <td>156</td>\n",
       "      <td>POLYGON ((50.18668 53.21674, 50.18854 53.21524...</td>\n",
       "      <td>162</td>\n",
       "      <td>POLYGON ((50.21574 53.26130, 50.22296 53.25183...</td>\n",
       "    </tr>\n",
       "    <tr>\n",
       "      <th>3</th>\n",
       "      <td>547.0</td>\n",
       "      <td>162.0</td>\n",
       "      <td>587</td>\n",
       "      <td>547</td>\n",
       "      <td>POLYGON ((50.23523 53.20685, 50.22430 53.21554...</td>\n",
       "      <td>162</td>\n",
       "      <td>POLYGON ((50.21574 53.26130, 50.22296 53.25183...</td>\n",
       "    </tr>\n",
       "    <tr>\n",
       "      <th>4</th>\n",
       "      <td>154.0</td>\n",
       "      <td>162.0</td>\n",
       "      <td>564</td>\n",
       "      <td>154</td>\n",
       "      <td>POLYGON ((50.19259 53.17963, 50.19143 53.19206...</td>\n",
       "      <td>162</td>\n",
       "      <td>POLYGON ((50.21574 53.26130, 50.22296 53.25183...</td>\n",
       "    </tr>\n",
       "    <tr>\n",
       "      <th>...</th>\n",
       "      <td>...</td>\n",
       "      <td>...</td>\n",
       "      <td>...</td>\n",
       "      <td>...</td>\n",
       "      <td>...</td>\n",
       "      <td>...</td>\n",
       "      <td>...</td>\n",
       "    </tr>\n",
       "    <tr>\n",
       "      <th>2200</th>\n",
       "      <td>517.0</td>\n",
       "      <td>511.0</td>\n",
       "      <td>2</td>\n",
       "      <td>517</td>\n",
       "      <td>POLYGON ((50.16701 53.13520, 50.17396 53.13309...</td>\n",
       "      <td>511</td>\n",
       "      <td>POLYGON ((50.07795 53.15808, 50.07990 53.15794...</td>\n",
       "    </tr>\n",
       "    <tr>\n",
       "      <th>2201</th>\n",
       "      <td>510.0</td>\n",
       "      <td>511.0</td>\n",
       "      <td>2</td>\n",
       "      <td>510</td>\n",
       "      <td>POLYGON ((50.10204 53.16884, 50.09640 53.15850...</td>\n",
       "      <td>511</td>\n",
       "      <td>POLYGON ((50.07795 53.15808, 50.07990 53.15794...</td>\n",
       "    </tr>\n",
       "    <tr>\n",
       "      <th>2202</th>\n",
       "      <td>511.0</td>\n",
       "      <td>511.0</td>\n",
       "      <td>5</td>\n",
       "      <td>511</td>\n",
       "      <td>POLYGON ((50.07795 53.15808, 50.07990 53.15794...</td>\n",
       "      <td>511</td>\n",
       "      <td>POLYGON ((50.07795 53.15808, 50.07990 53.15794...</td>\n",
       "    </tr>\n",
       "    <tr>\n",
       "      <th>2203</th>\n",
       "      <td>516.0</td>\n",
       "      <td>511.0</td>\n",
       "      <td>3</td>\n",
       "      <td>516</td>\n",
       "      <td>POLYGON ((50.14344 53.13399, 50.14244 53.13135...</td>\n",
       "      <td>511</td>\n",
       "      <td>POLYGON ((50.07795 53.15808, 50.07990 53.15794...</td>\n",
       "    </tr>\n",
       "    <tr>\n",
       "      <th>2204</th>\n",
       "      <td>159.0</td>\n",
       "      <td>511.0</td>\n",
       "      <td>2</td>\n",
       "      <td>159</td>\n",
       "      <td>POLYGON ((50.07678 53.10844, 50.07920 53.10640...</td>\n",
       "      <td>511</td>\n",
       "      <td>POLYGON ((50.07795 53.15808, 50.07990 53.15794...</td>\n",
       "    </tr>\n",
       "  </tbody>\n",
       "</table>\n",
       "<p>2205 rows × 7 columns</p>\n",
       "</div>"
      ],
      "text/plain": [
       "      Транспортные районы_from  Транспортные районы_to     c  NO_x  \\\n",
       "0                        162.0                   162.0  3810   162   \n",
       "1                        145.0                   162.0   877   145   \n",
       "2                        156.0                   162.0   765   156   \n",
       "3                        547.0                   162.0   587   547   \n",
       "4                        154.0                   162.0   564   154   \n",
       "...                        ...                     ...   ...   ...   \n",
       "2200                     517.0                   511.0     2   517   \n",
       "2201                     510.0                   511.0     2   510   \n",
       "2202                     511.0                   511.0     5   511   \n",
       "2203                     516.0                   511.0     3   516   \n",
       "2204                     159.0                   511.0     2   159   \n",
       "\n",
       "                                             geometry_x  NO_y  \\\n",
       "0     POLYGON ((50.21574 53.26130, 50.22296 53.25183...   162   \n",
       "1     POLYGON ((50.26088 53.22110, 50.24020 53.23733...   162   \n",
       "2     POLYGON ((50.18668 53.21674, 50.18854 53.21524...   162   \n",
       "3     POLYGON ((50.23523 53.20685, 50.22430 53.21554...   162   \n",
       "4     POLYGON ((50.19259 53.17963, 50.19143 53.19206...   162   \n",
       "...                                                 ...   ...   \n",
       "2200  POLYGON ((50.16701 53.13520, 50.17396 53.13309...   511   \n",
       "2201  POLYGON ((50.10204 53.16884, 50.09640 53.15850...   511   \n",
       "2202  POLYGON ((50.07795 53.15808, 50.07990 53.15794...   511   \n",
       "2203  POLYGON ((50.14344 53.13399, 50.14244 53.13135...   511   \n",
       "2204  POLYGON ((50.07678 53.10844, 50.07920 53.10640...   511   \n",
       "\n",
       "                                             geometry_y  \n",
       "0     POLYGON ((50.21574 53.26130, 50.22296 53.25183...  \n",
       "1     POLYGON ((50.21574 53.26130, 50.22296 53.25183...  \n",
       "2     POLYGON ((50.21574 53.26130, 50.22296 53.25183...  \n",
       "3     POLYGON ((50.21574 53.26130, 50.22296 53.25183...  \n",
       "4     POLYGON ((50.21574 53.26130, 50.22296 53.25183...  \n",
       "...                                                 ...  \n",
       "2200  POLYGON ((50.07795 53.15808, 50.07990 53.15794...  \n",
       "2201  POLYGON ((50.07795 53.15808, 50.07990 53.15794...  \n",
       "2202  POLYGON ((50.07795 53.15808, 50.07990 53.15794...  \n",
       "2203  POLYGON ((50.07795 53.15808, 50.07990 53.15794...  \n",
       "2204  POLYGON ((50.07795 53.15808, 50.07990 53.15794...  \n",
       "\n",
       "[2205 rows x 7 columns]"
      ]
     },
     "execution_count": 165,
     "metadata": {},
     "output_type": "execute_result"
    }
   ],
   "source": [
    "top"
   ]
  },
  {
   "cell_type": "code",
   "execution_count": 166,
   "metadata": {},
   "outputs": [
    {
     "data": {
      "text/plain": [
       "array([162., 145., 156., 547., 154., 146., 153., 161., 544., 147., 158.,\n",
       "       550., 165., 553., 302., 155.,   2., 552.,   3., 554., 551., 549.,\n",
       "       157., 546., 555., 538., 164., 543., 537., 299., 166., 541., 542.,\n",
       "       539., 148., 163., 143., 151., 515., 509., 517., 301., 303., 300.,\n",
       "       548., 310., 522., 149., 519., 510., 540., 309., 545., 229., 160.,\n",
       "       150., 512., 513., 518., 159., 523., 305., 514., 144., 511., 516.,\n",
       "       556., 277., 279., 278.,   1.])"
      ]
     },
     "execution_count": 166,
     "metadata": {},
     "output_type": "execute_result"
    }
   ],
   "source": [
    "top['Транспортные районы_from'].unique()"
   ]
  },
  {
   "cell_type": "code",
   "execution_count": 167,
   "metadata": {},
   "outputs": [
    {
     "data": {
      "text/plain": [
       "array([162., 146., 156., 161., 158., 145., 550.,   2., 147., 551.,   3.,\n",
       "       552., 553., 155., 165., 154., 157., 547., 544., 554., 153., 538.,\n",
       "       302., 555., 164., 546., 166., 537., 549., 299., 539., 542., 301.,\n",
       "       163., 143., 300., 541., 303., 540., 148., 310., 543., 515.,   1.,\n",
       "       522., 229., 305., 309., 509., 151., 512., 510., 160., 149., 517.,\n",
       "       545., 556., 278., 277., 340., 336., 337., 513., 518., 519., 548.,\n",
       "       279., 150., 159., 339., 514., 535., 516., 523., 511.])"
      ]
     },
     "execution_count": 167,
     "metadata": {},
     "output_type": "execute_result"
    }
   ],
   "source": [
    "top['Транспортные районы_to'].unique()"
   ]
  },
  {
   "cell_type": "code",
   "execution_count": 168,
   "metadata": {},
   "outputs": [],
   "source": [
    "top_from=top[['Транспортные районы_from','Транспортные районы_to','geometry_x','geometry_y','c']]"
   ]
  },
  {
   "cell_type": "code",
   "execution_count": 169,
   "metadata": {},
   "outputs": [],
   "source": [
    "top_from=top_from.rename(columns={'Транспортные районы_from':'zid_from','Транспортные районы_to':'zid_to'})"
   ]
  },
  {
   "cell_type": "code",
   "execution_count": 170,
   "metadata": {},
   "outputs": [],
   "source": [
    "top_from.to_csv(path+'validation_taz.csv')"
   ]
  },
  {
   "cell_type": "code",
   "execution_count": null,
   "metadata": {},
   "outputs": [],
   "source": []
  },
  {
   "cell_type": "code",
   "execution_count": null,
   "metadata": {},
   "outputs": [],
   "source": []
  },
  {
   "cell_type": "code",
   "execution_count": 171,
   "metadata": {},
   "outputs": [],
   "source": [
    "top_from=gpd.GeoDataFrame(top_from, geometry = 'geometry_x')"
   ]
  },
  {
   "cell_type": "code",
   "execution_count": 172,
   "metadata": {},
   "outputs": [
    {
     "data": {
      "text/plain": [
       "<matplotlib.axes._subplots.AxesSubplot at 0x1521cdc7af0>"
      ]
     },
     "execution_count": 172,
     "metadata": {},
     "output_type": "execute_result"
    },
    {
     "data": {
      "image/png": "[encoded data removed]",
      "text/plain": [
       "<Figure size 432x288 with 1 Axes>"
      ]
     },
     "metadata": {
      "needs_background": "light"
     },
     "output_type": "display_data"
    }
   ],
   "source": [
    "top_from.plot()"
   ]
  },
  {
   "cell_type": "code",
   "execution_count": 173,
   "metadata": {},
   "outputs": [
    {
     "ename": "TypeError",
     "evalue": "data type not understood",
     "output_type": "error",
     "traceback": [
      "\u001b[1;31m---------------------------------------------------------------------------\u001b[0m",
      "\u001b[1;31mTypeError\u001b[0m                                 Traceback (most recent call last)",
      "\u001b[1;32m<ipython-input-173-db5087c0f36d>\u001b[0m in \u001b[0;36m<module>\u001b[1;34m\u001b[0m\n\u001b[0;32m      1\u001b[0m \u001b[0mtop_from\u001b[0m\u001b[1;33m.\u001b[0m\u001b[0mcrs\u001b[0m\u001b[1;33m=\u001b[0m\u001b[1;34m'epsg:4326'\u001b[0m\u001b[1;33m\u001b[0m\u001b[1;33m\u001b[0m\u001b[0m\n\u001b[1;32m----> 2\u001b[1;33m \u001b[0mtop_from\u001b[0m\u001b[1;33m.\u001b[0m\u001b[0mto_file\u001b[0m\u001b[1;33m(\u001b[0m\u001b[0mpath\u001b[0m\u001b[1;33m+\u001b[0m\u001b[1;34m\"res/top_matrix_from.json\"\u001b[0m\u001b[1;33m,\u001b[0m \u001b[0mdriver\u001b[0m\u001b[1;33m=\u001b[0m\u001b[1;34m\"GeoJSON\"\u001b[0m\u001b[1;33m,\u001b[0m \u001b[0mencoding\u001b[0m\u001b[1;33m=\u001b[0m\u001b[1;34m'utf-8'\u001b[0m\u001b[1;33m)\u001b[0m\u001b[1;33m\u001b[0m\u001b[1;33m\u001b[0m\u001b[0m\n\u001b[0m",
      "\u001b[1;32m~\\anaconda3\\lib\\site-packages\\geopandas\\geodataframe.py\u001b[0m in \u001b[0;36mto_file\u001b[1;34m(self, filename, driver, schema, index, **kwargs)\u001b[0m\n\u001b[0;32m    744\u001b[0m         \u001b[1;32mfrom\u001b[0m \u001b[0mgeopandas\u001b[0m\u001b[1;33m.\u001b[0m\u001b[0mio\u001b[0m\u001b[1;33m.\u001b[0m\u001b[0mfile\u001b[0m \u001b[1;32mimport\u001b[0m \u001b[0m_to_file\u001b[0m\u001b[1;33m\u001b[0m\u001b[1;33m\u001b[0m\u001b[0m\n\u001b[0;32m    745\u001b[0m \u001b[1;33m\u001b[0m\u001b[0m\n\u001b[1;32m--> 746\u001b[1;33m         \u001b[0m_to_file\u001b[0m\u001b[1;33m(\u001b[0m\u001b[0mself\u001b[0m\u001b[1;33m,\u001b[0m \u001b[0mfilename\u001b[0m\u001b[1;33m,\u001b[0m \u001b[0mdriver\u001b[0m\u001b[1;33m,\u001b[0m \u001b[0mschema\u001b[0m\u001b[1;33m,\u001b[0m \u001b[0mindex\u001b[0m\u001b[1;33m,\u001b[0m \u001b[1;33m**\u001b[0m\u001b[0mkwargs\u001b[0m\u001b[1;33m)\u001b[0m\u001b[1;33m\u001b[0m\u001b[1;33m\u001b[0m\u001b[0m\n\u001b[0m\u001b[0;32m    747\u001b[0m \u001b[1;33m\u001b[0m\u001b[0m\n\u001b[0;32m    748\u001b[0m     \u001b[1;32mdef\u001b[0m \u001b[0mset_crs\u001b[0m\u001b[1;33m(\u001b[0m\u001b[0mself\u001b[0m\u001b[1;33m,\u001b[0m \u001b[0mcrs\u001b[0m\u001b[1;33m=\u001b[0m\u001b[1;32mNone\u001b[0m\u001b[1;33m,\u001b[0m \u001b[0mepsg\u001b[0m\u001b[1;33m=\u001b[0m\u001b[1;32mNone\u001b[0m\u001b[1;33m,\u001b[0m \u001b[0minplace\u001b[0m\u001b[1;33m=\u001b[0m\u001b[1;32mFalse\u001b[0m\u001b[1;33m,\u001b[0m \u001b[0mallow_override\u001b[0m\u001b[1;33m=\u001b[0m\u001b[1;32mFalse\u001b[0m\u001b[1;33m)\u001b[0m\u001b[1;33m:\u001b[0m\u001b[1;33m\u001b[0m\u001b[1;33m\u001b[0m\u001b[0m\n",
      "\u001b[1;32m~\\anaconda3\\lib\\site-packages\\geopandas\\io\\file.py\u001b[0m in \u001b[0;36m_to_file\u001b[1;34m(df, filename, driver, schema, index, mode, crs, **kwargs)\u001b[0m\n\u001b[0;32m    237\u001b[0m         \u001b[0mdf\u001b[0m \u001b[1;33m=\u001b[0m \u001b[0mdf\u001b[0m\u001b[1;33m.\u001b[0m\u001b[0mreset_index\u001b[0m\u001b[1;33m(\u001b[0m\u001b[0mdrop\u001b[0m\u001b[1;33m=\u001b[0m\u001b[1;32mFalse\u001b[0m\u001b[1;33m)\u001b[0m\u001b[1;33m\u001b[0m\u001b[1;33m\u001b[0m\u001b[0m\n\u001b[0;32m    238\u001b[0m     \u001b[1;32mif\u001b[0m \u001b[0mschema\u001b[0m \u001b[1;32mis\u001b[0m \u001b[1;32mNone\u001b[0m\u001b[1;33m:\u001b[0m\u001b[1;33m\u001b[0m\u001b[1;33m\u001b[0m\u001b[0m\n\u001b[1;32m--> 239\u001b[1;33m         \u001b[0mschema\u001b[0m \u001b[1;33m=\u001b[0m \u001b[0minfer_schema\u001b[0m\u001b[1;33m(\u001b[0m\u001b[0mdf\u001b[0m\u001b[1;33m)\u001b[0m\u001b[1;33m\u001b[0m\u001b[1;33m\u001b[0m\u001b[0m\n\u001b[0m\u001b[0;32m    240\u001b[0m     \u001b[1;32mif\u001b[0m \u001b[0mcrs\u001b[0m\u001b[1;33m:\u001b[0m\u001b[1;33m\u001b[0m\u001b[1;33m\u001b[0m\u001b[0m\n\u001b[0;32m    241\u001b[0m         \u001b[0mcrs\u001b[0m \u001b[1;33m=\u001b[0m \u001b[0mpyproj\u001b[0m\u001b[1;33m.\u001b[0m\u001b[0mCRS\u001b[0m\u001b[1;33m.\u001b[0m\u001b[0mfrom_user_input\u001b[0m\u001b[1;33m(\u001b[0m\u001b[0mcrs\u001b[0m\u001b[1;33m)\u001b[0m\u001b[1;33m\u001b[0m\u001b[1;33m\u001b[0m\u001b[0m\n",
      "\u001b[1;32m~\\anaconda3\\lib\\site-packages\\geopandas\\io\\file.py\u001b[0m in \u001b[0;36minfer_schema\u001b[1;34m(df)\u001b[0m\n\u001b[0;32m    285\u001b[0m \u001b[1;33m\u001b[0m\u001b[0m\n\u001b[0;32m    286\u001b[0m     properties = OrderedDict(\n\u001b[1;32m--> 287\u001b[1;33m         [\n\u001b[0m\u001b[0;32m    288\u001b[0m             \u001b[1;33m(\u001b[0m\u001b[0mcol\u001b[0m\u001b[1;33m,\u001b[0m \u001b[0mconvert_type\u001b[0m\u001b[1;33m(\u001b[0m\u001b[0mcol\u001b[0m\u001b[1;33m,\u001b[0m \u001b[0m_type\u001b[0m\u001b[1;33m)\u001b[0m\u001b[1;33m)\u001b[0m\u001b[1;33m\u001b[0m\u001b[1;33m\u001b[0m\u001b[0m\n\u001b[0;32m    289\u001b[0m             \u001b[1;32mfor\u001b[0m \u001b[0mcol\u001b[0m\u001b[1;33m,\u001b[0m \u001b[0m_type\u001b[0m \u001b[1;32min\u001b[0m \u001b[0mzip\u001b[0m\u001b[1;33m(\u001b[0m\u001b[0mdf\u001b[0m\u001b[1;33m.\u001b[0m\u001b[0mcolumns\u001b[0m\u001b[1;33m,\u001b[0m \u001b[0mdf\u001b[0m\u001b[1;33m.\u001b[0m\u001b[0mdtypes\u001b[0m\u001b[1;33m)\u001b[0m\u001b[1;33m\u001b[0m\u001b[1;33m\u001b[0m\u001b[0m\n",
      "\u001b[1;32m~\\anaconda3\\lib\\site-packages\\geopandas\\io\\file.py\u001b[0m in \u001b[0;36m<listcomp>\u001b[1;34m(.0)\u001b[0m\n\u001b[0;32m    286\u001b[0m     properties = OrderedDict(\n\u001b[0;32m    287\u001b[0m         [\n\u001b[1;32m--> 288\u001b[1;33m             \u001b[1;33m(\u001b[0m\u001b[0mcol\u001b[0m\u001b[1;33m,\u001b[0m \u001b[0mconvert_type\u001b[0m\u001b[1;33m(\u001b[0m\u001b[0mcol\u001b[0m\u001b[1;33m,\u001b[0m \u001b[0m_type\u001b[0m\u001b[1;33m)\u001b[0m\u001b[1;33m)\u001b[0m\u001b[1;33m\u001b[0m\u001b[1;33m\u001b[0m\u001b[0m\n\u001b[0m\u001b[0;32m    289\u001b[0m             \u001b[1;32mfor\u001b[0m \u001b[0mcol\u001b[0m\u001b[1;33m,\u001b[0m \u001b[0m_type\u001b[0m \u001b[1;32min\u001b[0m \u001b[0mzip\u001b[0m\u001b[1;33m(\u001b[0m\u001b[0mdf\u001b[0m\u001b[1;33m.\u001b[0m\u001b[0mcolumns\u001b[0m\u001b[1;33m,\u001b[0m \u001b[0mdf\u001b[0m\u001b[1;33m.\u001b[0m\u001b[0mdtypes\u001b[0m\u001b[1;33m)\u001b[0m\u001b[1;33m\u001b[0m\u001b[1;33m\u001b[0m\u001b[0m\n\u001b[0;32m    290\u001b[0m             \u001b[1;32mif\u001b[0m \u001b[0mcol\u001b[0m \u001b[1;33m!=\u001b[0m \u001b[0mdf\u001b[0m\u001b[1;33m.\u001b[0m\u001b[0m_geometry_column_name\u001b[0m\u001b[1;33m\u001b[0m\u001b[1;33m\u001b[0m\u001b[0m\n",
      "\u001b[1;32m~\\anaconda3\\lib\\site-packages\\geopandas\\io\\file.py\u001b[0m in \u001b[0;36mconvert_type\u001b[1;34m(column, in_type)\u001b[0m\n\u001b[0;32m    273\u001b[0m             \u001b[0mout_type\u001b[0m \u001b[1;33m=\u001b[0m \u001b[0mtypes\u001b[0m\u001b[1;33m[\u001b[0m\u001b[0mstr\u001b[0m\u001b[1;33m(\u001b[0m\u001b[0min_type\u001b[0m\u001b[1;33m)\u001b[0m\u001b[1;33m]\u001b[0m\u001b[1;33m\u001b[0m\u001b[1;33m\u001b[0m\u001b[0m\n\u001b[0;32m    274\u001b[0m         \u001b[1;32melse\u001b[0m\u001b[1;33m:\u001b[0m\u001b[1;33m\u001b[0m\u001b[1;33m\u001b[0m\u001b[0m\n\u001b[1;32m--> 275\u001b[1;33m             \u001b[0mout_type\u001b[0m \u001b[1;33m=\u001b[0m \u001b[0mtype\u001b[0m\u001b[1;33m(\u001b[0m\u001b[0mnp\u001b[0m\u001b[1;33m.\u001b[0m\u001b[0mzeros\u001b[0m\u001b[1;33m(\u001b[0m\u001b[1;36m1\u001b[0m\u001b[1;33m,\u001b[0m \u001b[0min_type\u001b[0m\u001b[1;33m)\u001b[0m\u001b[1;33m.\u001b[0m\u001b[0mitem\u001b[0m\u001b[1;33m(\u001b[0m\u001b[1;33m)\u001b[0m\u001b[1;33m)\u001b[0m\u001b[1;33m.\u001b[0m\u001b[0m__name__\u001b[0m\u001b[1;33m\u001b[0m\u001b[1;33m\u001b[0m\u001b[0m\n\u001b[0m\u001b[0;32m    276\u001b[0m         \u001b[1;32mif\u001b[0m \u001b[0mout_type\u001b[0m \u001b[1;33m==\u001b[0m \u001b[1;34m\"long\"\u001b[0m\u001b[1;33m:\u001b[0m\u001b[1;33m\u001b[0m\u001b[1;33m\u001b[0m\u001b[0m\n\u001b[0;32m    277\u001b[0m             \u001b[0mout_type\u001b[0m \u001b[1;33m=\u001b[0m \u001b[1;34m\"int\"\u001b[0m\u001b[1;33m\u001b[0m\u001b[1;33m\u001b[0m\u001b[0m\n",
      "\u001b[1;31mTypeError\u001b[0m: data type not understood"
     ]
    }
   ],
   "source": [
    "top_from.crs='epsg:4326'\n",
    "top_from.to_file(path+\"res/top_matrix_from.json\", driver=\"GeoJSON\", encoding='utf-8')"
   ]
  },
  {
   "cell_type": "code",
   "execution_count": null,
   "metadata": {},
   "outputs": [],
   "source": []
  },
  {
   "cell_type": "code",
   "execution_count": null,
   "metadata": {},
   "outputs": [],
   "source": [
    "matrix_forecast=matrix.merge(site_koeff_from,on ='site_id', how='left')\n",
    "matrix_forecast=matrix_forecast.merge(site_koeff_to,on ='site_id_2',how='left')"
   ]
  },
  {
   "cell_type": "code",
   "execution_count": null,
   "metadata": {},
   "outputs": [],
   "source": [
    "matrix_forecast[0:10]"
   ]
  },
  {
   "cell_type": "code",
   "execution_count": null,
   "metadata": {},
   "outputs": [],
   "source": [
    "matrix_forecast['2025']=matrix_forecast['c']*matrix_forecast['koeff_pop_24_from']*matrix_forecast['koeff_work_24_to']"
   ]
  },
  {
   "cell_type": "code",
   "execution_count": null,
   "metadata": {},
   "outputs": [],
   "source": [
    "matrix_forecast['2030']=matrix_forecast['c']*matrix_forecast['koeff_pop_30_from']*matrix_forecast['koeff_work_30_to']"
   ]
  },
  {
   "cell_type": "code",
   "execution_count": null,
   "metadata": {},
   "outputs": [],
   "source": [
    "matrix_forecast['2035']=matrix_forecast['c']*matrix_forecast['koeff_pop_35_from']*matrix_forecast['koeff_work_35_to']"
   ]
  },
  {
   "cell_type": "code",
   "execution_count": null,
   "metadata": {},
   "outputs": [],
   "source": [
    "matrix_forecast=matrix_forecast[['site_id','site_id_2','c','2025','2030','2035']]"
   ]
  },
  {
   "cell_type": "code",
   "execution_count": null,
   "metadata": {},
   "outputs": [],
   "source": [
    "#выделили общественно деловые районы:\n",
    "raby=['2','3','4','13','23','143','157','160','510','516','543','551','552','553','555']"
   ]
  },
  {
   "cell_type": "code",
   "execution_count": null,
   "metadata": {},
   "outputs": [],
   "source": [
    "matrix_forecast['udal']=1.0"
   ]
  },
  {
   "cell_type": "code",
   "execution_count": null,
   "metadata": {},
   "outputs": [],
   "source": [
    "matrix_forecast.loc[matrix_forecast['site_id_2'].isin(raby),'udal']=0.9"
   ]
  },
  {
   "cell_type": "code",
   "execution_count": null,
   "metadata": {},
   "outputs": [],
   "source": [
    "matrix_forecast['2025']=matrix_forecast['2025']*matrix_forecast['udal']\n",
    "matrix_forecast['2030']=matrix_forecast['2030']*matrix_forecast['udal']\n",
    "matrix_forecast['2035']=matrix_forecast['2035']*matrix_forecast['udal']"
   ]
  },
  {
   "cell_type": "code",
   "execution_count": null,
   "metadata": {},
   "outputs": [],
   "source": [
    "matrix_forecast.to_csv(path+'res/matrix_forecast.csv')"
   ]
  },
  {
   "cell_type": "code",
   "execution_count": null,
   "metadata": {},
   "outputs": [],
   "source": [
    "matrix_forecast['2035'].sum()"
   ]
  },
  {
   "cell_type": "code",
   "execution_count": null,
   "metadata": {},
   "outputs": [],
   "source": [
    "matrix_forecast['2030'].sum()"
   ]
  },
  {
   "cell_type": "code",
   "execution_count": null,
   "metadata": {},
   "outputs": [],
   "source": [
    "matrix_forecast['2025'].sum()"
   ]
  },
  {
   "cell_type": "markdown",
   "metadata": {},
   "source": [
    "# ПРИВЯЗЫВАЕМ остановки яндекса к сайтам"
   ]
  },
  {
   "cell_type": "code",
   "execution_count": null,
   "metadata": {},
   "outputs": [],
   "source": [
    "sites_unic=pd.read_csv(path+'sites_coordinate.csv', sep = ';', encoding='utf-8')"
   ]
  },
  {
   "cell_type": "code",
   "execution_count": null,
   "metadata": {},
   "outputs": [],
   "source": [
    "stops_Yandex=pd.read_csv(path+'videoanal/stop_seq_from_Ya.csv',sep=',')"
   ]
  },
  {
   "cell_type": "code",
   "execution_count": null,
   "metadata": {},
   "outputs": [],
   "source": [
    "#сформировали геослой из остановок\n",
    "stops_Yandex=gpd.GeoDataFrame(stops_Yandex, \\\n",
    "                              geometry = [Point(xy) for xy in zip(stops_Yandex['longitude'], stops_Yandex['latitude'])])\n",
    "stops_Yandex.crs='epsg:4326'"
   ]
  },
  {
   "cell_type": "code",
   "execution_count": null,
   "metadata": {},
   "outputs": [],
   "source": [
    "sites_with_buff[0:2]"
   ]
  },
  {
   "cell_type": "code",
   "execution_count": null,
   "metadata": {},
   "outputs": [],
   "source": [
    "stops_Yandex[0:2]"
   ]
  },
  {
   "cell_type": "code",
   "execution_count": null,
   "metadata": {},
   "outputs": [],
   "source": [
    "#привязали остановки к сайтам с буфером 200 метров\n",
    "sites_with_buff = sites_gpd.to_crs('epsg:32640')\n",
    "sites_with_buff.geometry = sites_with_buff.geometry.buffer(200)\n",
    "sites_with_buff = sites_with_buff.to_crs('epsg:4326')"
   ]
  },
  {
   "cell_type": "code",
   "execution_count": null,
   "metadata": {},
   "outputs": [],
   "source": [
    "stops_Yandex2=gpd.sjoin(stops_Yandex, sites_with_buff, how='left', op='within', lsuffix='left', rsuffix='right')"
   ]
  },
  {
   "cell_type": "code",
   "execution_count": null,
   "metadata": {},
   "outputs": [],
   "source": [
    "stops_Yandex2=stops_Yandex2[['route_id','trip_id','stop_id','stop_sequence','latitude','longitude','site_id','geometry']]"
   ]
  },
  {
   "cell_type": "code",
   "execution_count": null,
   "metadata": {},
   "outputs": [],
   "source": [
    "stops_Yandex2=stops_Yandex2.drop_duplicates(subset=['stop_id','route_id','trip_id'])"
   ]
  },
  {
   "cell_type": "code",
   "execution_count": null,
   "metadata": {},
   "outputs": [],
   "source": [
    "#привязали остановки к сайтам с буфером 500 метров\n",
    "sites_with_buff = sites_gpd.to_crs('epsg:32640')\n",
    "sites_with_buff.geometry = sites_with_buff.geometry.buffer(500)\n",
    "sites_with_buff = sites_with_buff.to_crs('epsg:4326')\n",
    "stops_Yandex=gpd.sjoin(stops_Yandex2, sites_with_buff, how='left', op='within', lsuffix='left', rsuffix='right')"
   ]
  },
  {
   "cell_type": "code",
   "execution_count": null,
   "metadata": {},
   "outputs": [],
   "source": [
    "stops_Yandex=stops_Yandex[['route_id','trip_id','stop_id','stop_sequence','latitude','longitude','site_id_left','site_id_right','geometry']]"
   ]
  },
  {
   "cell_type": "code",
   "execution_count": null,
   "metadata": {},
   "outputs": [],
   "source": [
    "stops_Yandex=stops_Yandex.drop_duplicates(subset=['stop_id','route_id','trip_id'])"
   ]
  },
  {
   "cell_type": "code",
   "execution_count": null,
   "metadata": {},
   "outputs": [],
   "source": [
    "stops_Yandex.loc[stops_Yandex['site_id_left'].isna(),'site_id_left']=stops_Yandex.loc[stops_Yandex['site_id_left'].isna(),'site_id_right']"
   ]
  },
  {
   "cell_type": "code",
   "execution_count": null,
   "metadata": {},
   "outputs": [],
   "source": [
    "stops_Yandex[['route_id','trip_id','stop_id','stop_sequence','latitude','longitude','site_id_left']].to_csv(path+'videoanal/Yandex_stop_with_site.csv')"
   ]
  },
  {
   "cell_type": "code",
   "execution_count": null,
   "metadata": {},
   "outputs": [],
   "source": [
    "# Расчёт растояния между координатами\n",
    "from math import radians, cos, sin, asin, sqrt\n",
    "def haversine(lon1, lat1, lon2, lat2):\n",
    "    \"\"\"\n",
    "    Calculate the great circle distance between two points on the earth (specified in decimal degrees)\n",
    "    \"\"\"\n",
    "    # convert decimal degrees to radians\n",
    "    lon1, lat1, lon2, lat2 = map(radians, [lon1, lat1, lon2, lat2])\n",
    "    \n",
    "    # haversine formula \n",
    "    dlon = lon2 - lon1\n",
    "    dlat = lat2 - lat1\n",
    "    a = sin(dlat/2)**2 + cos(lat1) * cos(lat2) * sin(dlon/2)**2\n",
    "    c = 2 * asin(sqrt(a))\n",
    "    r = 6371 * 1000 # Radius of earth in kilometers. Use 3956 for miles\n",
    "    return c * r"
   ]
  },
  {
   "cell_type": "code",
   "execution_count": null,
   "metadata": {},
   "outputs": [],
   "source": [
    "stops_seq=pd.read_csv(path+'stop_seq_v3.csv',sep=';',encoding='windows-1251')"
   ]
  },
  {
   "cell_type": "code",
   "execution_count": null,
   "metadata": {},
   "outputs": [],
   "source": [
    "stops_seq['ss_lat_1']=stops_seq.groupby(['mr_id','rl_id'])['ss_lat'].shift(-1)"
   ]
  },
  {
   "cell_type": "code",
   "execution_count": null,
   "metadata": {},
   "outputs": [],
   "source": [
    "stops_seq['ss_long_1']=stops_seq.groupby(['mr_id','rl_id'])['ss_long'].shift(-1)"
   ]
  },
  {
   "cell_type": "code",
   "execution_count": null,
   "metadata": {},
   "outputs": [],
   "source": [
    "stops_seq['len'] = stops_seq.apply(lambda row: haversine(row.ss_long, row.ss_lat, row.ss_long_1, row.ss_lat_1), axis = 1)"
   ]
  },
  {
   "cell_type": "code",
   "execution_count": null,
   "metadata": {},
   "outputs": [],
   "source": [
    "stops_seq.to_csv(path+'stop_seq_v4.csv')"
   ]
  },
  {
   "cell_type": "code",
   "execution_count": null,
   "metadata": {},
   "outputs": [],
   "source": []
  },
  {
   "cell_type": "markdown",
   "metadata": {},
   "source": [
    "## Визаулизация матрицы"
   ]
  },
  {
   "cell_type": "code",
   "execution_count": null,
   "metadata": {},
   "outputs": [],
   "source": [
    "matrix[0:1]"
   ]
  },
  {
   "cell_type": "code",
   "execution_count": null,
   "metadata": {},
   "outputs": [],
   "source": [
    "site=pd.read_csv('./done_oct/res/sites_coordinate.csv',sep=';')"
   ]
  },
  {
   "cell_type": "code",
   "execution_count": null,
   "metadata": {},
   "outputs": [],
   "source": [
    "site[0:1]"
   ]
  },
  {
   "cell_type": "code",
   "execution_count": null,
   "metadata": {},
   "outputs": [],
   "source": [
    "matrix_all_s=matrix.merge(site,on='site_id',how='left')\n",
    "matrix_all_s=matrix_all_s.merge(site,left_on='site_id_2',right_on='site_id',how='left')\n",
    "matrix_all_s=matrix_all_s[['site_id_x','site_id_2','c','ss_lat_x','ss_long_x','ss_lat_y','ss_long_y']]\n",
    "matrix_all_s.groupby(['site_id_2']).agg({'c':np.sum}).sort_values(by='c', ascending=False)[0:10]"
   ]
  },
  {
   "cell_type": "code",
   "execution_count": null,
   "metadata": {},
   "outputs": [],
   "source": [
    "matrix_all_s= gpd.GeoDataFrame(matrix_all_s,  geometry = [Point(xy) for xy in zip(matrix_all_s['ss_long_y'], matrix_all_s['ss_lat_y'])])\n",
    "matrix_all_s.crs='epsg:4326'\n",
    "matrix_all_s=matrix_all_s[matrix_all_s['site_id_x'].isin(['262','54','201','348'])]\n",
    "matrix_all_s.groupby(['site_id_x']).apply(lambda x: x.to_file(fr\"./done_oct/res/{x.name}_video.json\", index=False, driver=\"GeoJSON\", encoding='utf-8'))\n",
    "matrix_all2=matrix_all_s[matrix_all_s['site_id_2'].isin(['262','54','201','348'])]\n",
    "matrix_all2=matrix_all2[['site_id_2','geometry']].drop_duplicates()\n",
    "matrix_all2.to_file(fr\"./done_oct/res/sites.json\", index=False, driver=\"GeoJSON\", encoding='utf-8')"
   ]
  },
  {
   "cell_type": "code",
   "execution_count": null,
   "metadata": {},
   "outputs": [],
   "source": [
    "matrix_video[matrix_video['site_id_2']==579]['c'].sum()"
   ]
  },
  {
   "cell_type": "code",
   "execution_count": null,
   "metadata": {},
   "outputs": [],
   "source": []
  },
  {
   "cell_type": "code",
   "execution_count": null,
   "metadata": {},
   "outputs": [],
   "source": []
  }
 ],
 "metadata": {
  "kernelspec": {
   "display_name": "Python 3",
   "language": "python",
   "name": "python3"
  },
  "language_info": {
   "codemirror_mode": {
    "name": "ipython",
    "version": 3
   },
   "file_extension": ".py",
   "mimetype": "text/x-python",
   "name": "python",
   "nbconvert_exporter": "python",
   "pygments_lexer": "ipython3",
   "version": "3.8.3"
  }
 },
 "nbformat": 4,
 "nbformat_minor": 4
}
