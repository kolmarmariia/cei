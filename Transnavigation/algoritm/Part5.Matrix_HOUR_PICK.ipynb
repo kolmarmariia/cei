{
 "cells": [
  {
   "cell_type": "code",
   "execution_count": 2,
   "metadata": {},
   "outputs": [],
   "source": [
    "import pandas as pd\n",
    "import geopandas as gpd\n",
    "import numpy as np\n",
    "import matplotlib.pyplot as plt\n",
    "from datetime import datetime\n",
    "import os\n",
    "import math\n",
    "from tqdm import tqdm_notebook as tqdm\n",
    "import warnings\n",
    "warnings.filterwarnings('ignore')\n",
    "from shapely.geometry import *\n",
    "from shapely.ops import *"
   ]
  },
  {
   "cell_type": "code",
   "execution_count": 3,
   "metadata": {},
   "outputs": [],
   "source": [
    "path=('./done_oct/')"
   ]
  },
  {
   "cell_type": "markdown",
   "metadata": {},
   "source": [
    "# 1. На вход подаются данные по валидациям, привязанным к остановкам за 3 дня"
   ]
  },
  {
   "cell_type": "code",
   "execution_count": 9,
   "metadata": {},
   "outputs": [],
   "source": [
    "DATA=pd.read_csv(path+'For_matrix_2019_10_16.csv', sep = ',', encoding='utf-8')\n",
    "DATA2=pd.read_csv(path+'For_matrix_2019_10_17.csv', sep = ',', encoding='utf-8')\n",
    "DATA2['time']=DATA2['time']+24*3600 #прибалвяем 24 часа в секундах\n",
    "DATA3=pd.read_csv(path+'For_matrix_2019_10_18.csv', sep = ',', encoding='utf-8')\n",
    "DATA3['time']=DATA3['time']+24*3600+24*3600 #прибалвяем 24*2  часа (2 дня) в секундах\n",
    "DATA=DATA.append(DATA2).append(DATA3)"
   ]
  },
  {
   "cell_type": "code",
   "execution_count": 10,
   "metadata": {},
   "outputs": [],
   "source": [
    "DATA=DATA[['Дата и время поездки','Номер кристалла','TCAT','Код Маршрута','Код предприятия','mr_id','time','ssId','rl_id','rc_orderby']]"
   ]
  },
  {
   "cell_type": "code",
   "execution_count": 11,
   "metadata": {},
   "outputs": [
    {
     "data": {
      "text/plain": [
       "1248518"
      ]
     },
     "execution_count": 11,
     "metadata": {},
     "output_type": "execute_result"
    }
   ],
   "source": [
    "len(DATA)"
   ]
  },
  {
   "cell_type": "code",
   "execution_count": 12,
   "metadata": {},
   "outputs": [
    {
     "data": {
      "text/plain": [
       "array([  1,  10,  12,  14,  15,  17,  18,  20,  23,  24,  25,  26,  27,\n",
       "        28,  30,  31,  32,  34,  35,  36,  37,  38,  39,  43,  44,  45,\n",
       "        47,  48,  49,  59,  60,  61,  62,  64,  68,  70,  71,  73,  81,\n",
       "        97,  98,  99, 100, 103, 111, 112, 113, 114, 115, 116, 117, 118,\n",
       "       119, 120, 121, 122, 126, 127, 129, 130, 132, 133, 134, 135, 136,\n",
       "       137, 138, 139, 140, 141, 142, 143, 144, 145, 146, 151, 152, 176,\n",
       "       187, 199,  19, 102], dtype=int64)"
      ]
     },
     "execution_count": 12,
     "metadata": {},
     "output_type": "execute_result"
    }
   ],
   "source": [
    "DATA['mr_id'].unique()"
   ]
  },
  {
   "cell_type": "code",
   "execution_count": 13,
   "metadata": {},
   "outputs": [],
   "source": [
    "subway=pd.read_csv(path+'stops_subway.csv', sep = ';', encoding='utf-8')"
   ]
  },
  {
   "cell_type": "code",
   "execution_count": 14,
   "metadata": {},
   "outputs": [
    {
     "data": {
      "text/html": [
       "<div>\n",
       "<style scoped>\n",
       "    .dataframe tbody tr th:only-of-type {\n",
       "        vertical-align: middle;\n",
       "    }\n",
       "\n",
       "    .dataframe tbody tr th {\n",
       "        vertical-align: top;\n",
       "    }\n",
       "\n",
       "    .dataframe thead th {\n",
       "        text-align: right;\n",
       "    }\n",
       "</style>\n",
       "<table border=\"1\" class=\"dataframe\">\n",
       "  <thead>\n",
       "    <tr style=\"text-align: right;\">\n",
       "      <th></th>\n",
       "      <th>ssId</th>\n",
       "      <th>Станция</th>\n",
       "      <th>ss_lat</th>\n",
       "      <th>ss_long</th>\n",
       "    </tr>\n",
       "  </thead>\n",
       "  <tbody>\n",
       "    <tr>\n",
       "      <th>0</th>\n",
       "      <td>2081</td>\n",
       "      <td>Алабинская</td>\n",
       "      <td>53.209188</td>\n",
       "      <td>50.133092</td>\n",
       "    </tr>\n",
       "    <tr>\n",
       "      <th>1</th>\n",
       "      <td>2082</td>\n",
       "      <td>Российская</td>\n",
       "      <td>53.211449</td>\n",
       "      <td>50.149668</td>\n",
       "    </tr>\n",
       "    <tr>\n",
       "      <th>2</th>\n",
       "      <td>2083</td>\n",
       "      <td>Московская</td>\n",
       "      <td>53.203067</td>\n",
       "      <td>50.160567</td>\n",
       "    </tr>\n",
       "    <tr>\n",
       "      <th>3</th>\n",
       "      <td>2084</td>\n",
       "      <td>Гагаринская</td>\n",
       "      <td>53.200304</td>\n",
       "      <td>50.176584</td>\n",
       "    </tr>\n",
       "    <tr>\n",
       "      <th>4</th>\n",
       "      <td>2085</td>\n",
       "      <td>Спортивная</td>\n",
       "      <td>53.200954</td>\n",
       "      <td>50.199017</td>\n",
       "    </tr>\n",
       "  </tbody>\n",
       "</table>\n",
       "</div>"
      ],
      "text/plain": [
       "   ssId      Станция     ss_lat    ss_long\n",
       "0  2081   Алабинская  53.209188  50.133092\n",
       "1  2082   Российская  53.211449  50.149668\n",
       "2  2083   Московская  53.203067  50.160567\n",
       "3  2084  Гагаринская  53.200304  50.176584\n",
       "4  2085   Спортивная  53.200954  50.199017"
      ]
     },
     "execution_count": 14,
     "metadata": {},
     "output_type": "execute_result"
    }
   ],
   "source": [
    "subway.head()"
   ]
  },
  {
   "cell_type": "markdown",
   "metadata": {},
   "source": [
    "# 2. Загружаем данные метрополитена (при наличии)"
   ]
  },
  {
   "cell_type": "code",
   "execution_count": 15,
   "metadata": {},
   "outputs": [],
   "source": [
    "METRO=pd.read_csv(path+'./metro/2019.10.16.csv', sep=',', encoding='windows-1251')\n",
    "METRO=METRO.merge(subway,on='Станция', how ='left')\n",
    "METRO['Код Маршрута']='subway'\n",
    "METRO['mr_id']=0\n",
    "METRO['rl_id']=0\n",
    "METRO['rc_orderby']=0\n",
    "METRO['time']=pd.to_datetime(METRO['Дата и время поездки'])\n",
    "METRO['hour']=METRO['time'].dt.hour\n",
    "METRO['min']=METRO['time'].dt.minute\n",
    "METRO['sec']=METRO['time'].dt.second\n",
    "METRO['time']=(METRO['hour'].astype(int))*3600+(METRO['min'].astype(int))*60+(METRO['sec'].astype(int))\n",
    "METRO=METRO.drop('hour',axis=1).drop('sec',axis=1).drop('min',axis=1).drop('Терминал',axis=1).drop('NUM_TRIP',axis=1)\n",
    "METRO=METRO[['Дата и время поездки','Номер кристалла','TCAT','Код Маршрута','Код предприятия','mr_id','time','ssId','rl_id','rc_orderby']]"
   ]
  },
  {
   "cell_type": "markdown",
   "metadata": {},
   "source": [
    "РАЗМАЗЫВАЕМ 43684 в течение дня"
   ]
  },
  {
   "cell_type": "code",
   "execution_count": 16,
   "metadata": {},
   "outputs": [],
   "source": [
    "METRO['c']=1+(43684/len(METRO))"
   ]
  },
  {
   "cell_type": "code",
   "execution_count": 17,
   "metadata": {},
   "outputs": [],
   "source": [
    "METRO2=pd.read_csv(path+'./metro/2019.10.17.csv', sep=',', encoding='windows-1251')\n",
    "METRO2=METRO2.merge(subway,on='Станция', how ='left')\n",
    "METRO2['Код Маршрута']='subway'\n",
    "METRO2['mr_id']=0\n",
    "METRO2['rl_id']=0\n",
    "METRO2['rc_orderby']=0\n",
    "METRO2['time']=pd.to_datetime(METRO2['Дата и время поездки'])\n",
    "METRO2['hour']=METRO2['time'].dt.hour\n",
    "METRO2['min']=METRO2['time'].dt.minute\n",
    "METRO2['sec']=METRO2['time'].dt.second\n",
    "METRO2['time']=(METRO2['hour'].astype(int))*3600+(METRO2['min'].astype(int))*60+(METRO2['sec'].astype(int))+24*3600\n",
    "METRO2=METRO2.drop('hour',axis=1).drop('sec',axis=1).drop('min',axis=1).drop('Терминал',axis=1).drop('NUM_TRIP',axis=1)\n",
    "METRO2=METRO2[['Дата и время поездки','Номер кристалла','TCAT','Код Маршрута','Код предприятия','mr_id','time','ssId','rl_id','rc_orderby']]\n",
    "METRO2['c']=1+(43684/len(METRO2))"
   ]
  },
  {
   "cell_type": "code",
   "execution_count": 18,
   "metadata": {},
   "outputs": [
    {
     "data": {
      "text/plain": [
       "33682"
      ]
     },
     "execution_count": 18,
     "metadata": {},
     "output_type": "execute_result"
    }
   ],
   "source": [
    "len(METRO2)"
   ]
  },
  {
   "cell_type": "code",
   "execution_count": 19,
   "metadata": {
    "scrolled": true
   },
   "outputs": [],
   "source": [
    "METRO3=pd.read_csv(path+'./metro/2019.10.18.csv', sep=',', encoding='windows-1251')\n",
    "METRO3=METRO3.merge(subway,on='Станция', how ='left')\n",
    "METRO3['Код Маршрута']='subway'\n",
    "METRO3['mr_id']=0\n",
    "METRO3['rl_id']=0\n",
    "METRO3['rc_orderby']=0\n",
    "METRO3['time']=pd.to_datetime(METRO3['Дата и время поездки'])\n",
    "METRO3['hour']=METRO3['time'].dt.hour\n",
    "METRO3['min']=METRO3['time'].dt.minute\n",
    "METRO3['sec']=METRO3['time'].dt.second\n",
    "METRO3['time']=(METRO3['hour'].astype(int))*3600+(METRO3['min'].astype(int))*60+(METRO3['sec'].astype(int))+24*3600+24*3600\n",
    "METRO3=METRO3.drop('hour',axis=1).drop('sec',axis=1).drop('min',axis=1).drop('Терминал',axis=1).drop('NUM_TRIP',axis=1)\n",
    "METRO3=METRO3[['Дата и время поездки','Номер кристалла','TCAT','Код Маршрута','Код предприятия','mr_id','time','ssId','rl_id','rc_orderby']]\n",
    "METRO3['c']=1+(43684/len(METRO3))"
   ]
  },
  {
   "cell_type": "code",
   "execution_count": 20,
   "metadata": {},
   "outputs": [],
   "source": [
    "DATA['c']=1"
   ]
  },
  {
   "cell_type": "code",
   "execution_count": 21,
   "metadata": {},
   "outputs": [],
   "source": [
    "DATA=DATA.append(METRO).append(METRO2).append(METRO3)"
   ]
  },
  {
   "cell_type": "code",
   "execution_count": 22,
   "metadata": {},
   "outputs": [],
   "source": [
    "del METRO\n",
    "del METRO2\n",
    "del METRO3\n",
    "del DATA2\n",
    "del DATA3"
   ]
  },
  {
   "cell_type": "code",
   "execution_count": 23,
   "metadata": {},
   "outputs": [
    {
     "data": {
      "text/plain": [
       "1349420"
      ]
     },
     "execution_count": 23,
     "metadata": {},
     "output_type": "execute_result"
    }
   ],
   "source": [
    "len(DATA)"
   ]
  },
  {
   "cell_type": "markdown",
   "metadata": {},
   "source": [
    "# 3. Привязываем все валидации к сайтам"
   ]
  },
  {
   "cell_type": "code",
   "execution_count": 24,
   "metadata": {},
   "outputs": [
    {
     "data": {
      "text/plain": [
       "141064"
      ]
     },
     "execution_count": 24,
     "metadata": {},
     "output_type": "execute_result"
    }
   ],
   "source": [
    "sites=pd.read_csv(path+'stop_seq.csv', sep = ';', encoding='utf-8')\n",
    "sites=sites[['ssId','site_id']].drop_duplicates()\n",
    "DATA=DATA.merge(sites,on='ssId', how='left')\n",
    "len(DATA[DATA['ssId']==0])"
   ]
  },
  {
   "cell_type": "code",
   "execution_count": 25,
   "metadata": {},
   "outputs": [
    {
     "data": {
      "text/plain": [
       "1349420"
      ]
     },
     "execution_count": 25,
     "metadata": {},
     "output_type": "execute_result"
    }
   ],
   "source": [
    "len(DATA)"
   ]
  },
  {
   "cell_type": "code",
   "execution_count": 26,
   "metadata": {},
   "outputs": [
    {
     "data": {
      "text/html": [
       "<div>\n",
       "<style scoped>\n",
       "    .dataframe tbody tr th:only-of-type {\n",
       "        vertical-align: middle;\n",
       "    }\n",
       "\n",
       "    .dataframe tbody tr th {\n",
       "        vertical-align: top;\n",
       "    }\n",
       "\n",
       "    .dataframe thead th {\n",
       "        text-align: right;\n",
       "    }\n",
       "</style>\n",
       "<table border=\"1\" class=\"dataframe\">\n",
       "  <thead>\n",
       "    <tr style=\"text-align: right;\">\n",
       "      <th></th>\n",
       "      <th>Дата и время поездки</th>\n",
       "      <th>Номер кристалла</th>\n",
       "      <th>TCAT</th>\n",
       "      <th>Код Маршрута</th>\n",
       "      <th>Код предприятия</th>\n",
       "      <th>mr_id</th>\n",
       "      <th>time</th>\n",
       "      <th>ssId</th>\n",
       "      <th>rl_id</th>\n",
       "      <th>rc_orderby</th>\n",
       "      <th>c</th>\n",
       "      <th>site_id</th>\n",
       "    </tr>\n",
       "  </thead>\n",
       "  <tbody>\n",
       "    <tr>\n",
       "      <th>0</th>\n",
       "      <td>2019-10-16 10:35:51</td>\n",
       "      <td>C502D58F</td>\n",
       "      <td>СОЦ</td>\n",
       "      <td>10003456789</td>\n",
       "      <td>5</td>\n",
       "      <td>1</td>\n",
       "      <td>38151</td>\n",
       "      <td>0</td>\n",
       "      <td>0</td>\n",
       "      <td>NaN</td>\n",
       "      <td>1.0</td>\n",
       "      <td>NaN</td>\n",
       "    </tr>\n",
       "    <tr>\n",
       "      <th>1</th>\n",
       "      <td>2019-10-16 10:36:23</td>\n",
       "      <td>NaN</td>\n",
       "      <td>БАНК</td>\n",
       "      <td>10003456789</td>\n",
       "      <td>5</td>\n",
       "      <td>1</td>\n",
       "      <td>38183</td>\n",
       "      <td>0</td>\n",
       "      <td>0</td>\n",
       "      <td>NaN</td>\n",
       "      <td>1.0</td>\n",
       "      <td>NaN</td>\n",
       "    </tr>\n",
       "    <tr>\n",
       "      <th>2</th>\n",
       "      <td>2019-10-16 10:36:57</td>\n",
       "      <td>118F850F</td>\n",
       "      <td>КШ</td>\n",
       "      <td>10003456789</td>\n",
       "      <td>5</td>\n",
       "      <td>1</td>\n",
       "      <td>38217</td>\n",
       "      <td>0</td>\n",
       "      <td>0</td>\n",
       "      <td>NaN</td>\n",
       "      <td>1.0</td>\n",
       "      <td>NaN</td>\n",
       "    </tr>\n",
       "    <tr>\n",
       "      <th>3</th>\n",
       "      <td>2019-10-16 10:37:07</td>\n",
       "      <td>5D09C9AE</td>\n",
       "      <td>СОЦ</td>\n",
       "      <td>10003456789</td>\n",
       "      <td>5</td>\n",
       "      <td>1</td>\n",
       "      <td>38227</td>\n",
       "      <td>0</td>\n",
       "      <td>0</td>\n",
       "      <td>NaN</td>\n",
       "      <td>1.0</td>\n",
       "      <td>NaN</td>\n",
       "    </tr>\n",
       "    <tr>\n",
       "      <th>4</th>\n",
       "      <td>2019-10-16 10:37:12</td>\n",
       "      <td>551B6DF9</td>\n",
       "      <td>СОЦ</td>\n",
       "      <td>10003456789</td>\n",
       "      <td>5</td>\n",
       "      <td>1</td>\n",
       "      <td>38232</td>\n",
       "      <td>0</td>\n",
       "      <td>0</td>\n",
       "      <td>NaN</td>\n",
       "      <td>1.0</td>\n",
       "      <td>NaN</td>\n",
       "    </tr>\n",
       "  </tbody>\n",
       "</table>\n",
       "</div>"
      ],
      "text/plain": [
       "  Дата и время поездки Номер кристалла  TCAT Код Маршрута  Код предприятия  \\\n",
       "0  2019-10-16 10:35:51        C502D58F   СОЦ  10003456789                5   \n",
       "1  2019-10-16 10:36:23             NaN  БАНК  10003456789                5   \n",
       "2  2019-10-16 10:36:57        118F850F    КШ  10003456789                5   \n",
       "3  2019-10-16 10:37:07        5D09C9AE   СОЦ  10003456789                5   \n",
       "4  2019-10-16 10:37:12        551B6DF9   СОЦ  10003456789                5   \n",
       "\n",
       "   mr_id   time  ssId  rl_id  rc_orderby    c  site_id  \n",
       "0      1  38151     0      0         NaN  1.0      NaN  \n",
       "1      1  38183     0      0         NaN  1.0      NaN  \n",
       "2      1  38217     0      0         NaN  1.0      NaN  \n",
       "3      1  38227     0      0         NaN  1.0      NaN  \n",
       "4      1  38232     0      0         NaN  1.0      NaN  "
      ]
     },
     "execution_count": 26,
     "metadata": {},
     "output_type": "execute_result"
    }
   ],
   "source": [
    "DATA.head()"
   ]
  },
  {
   "cell_type": "code",
   "execution_count": 27,
   "metadata": {},
   "outputs": [
    {
     "data": {
      "text/html": [
       "<div>\n",
       "<style scoped>\n",
       "    .dataframe tbody tr th:only-of-type {\n",
       "        vertical-align: middle;\n",
       "    }\n",
       "\n",
       "    .dataframe tbody tr th {\n",
       "        vertical-align: top;\n",
       "    }\n",
       "\n",
       "    .dataframe thead th {\n",
       "        text-align: right;\n",
       "    }\n",
       "</style>\n",
       "<table border=\"1\" class=\"dataframe\">\n",
       "  <thead>\n",
       "    <tr style=\"text-align: right;\">\n",
       "      <th></th>\n",
       "      <th>Дата и время поездки</th>\n",
       "      <th>Номер кристалла</th>\n",
       "      <th>TCAT</th>\n",
       "      <th>Код Маршрута</th>\n",
       "      <th>Код предприятия</th>\n",
       "      <th>mr_id</th>\n",
       "      <th>time</th>\n",
       "      <th>ssId</th>\n",
       "      <th>rl_id</th>\n",
       "      <th>rc_orderby</th>\n",
       "      <th>c</th>\n",
       "      <th>site_id</th>\n",
       "    </tr>\n",
       "  </thead>\n",
       "  <tbody>\n",
       "    <tr>\n",
       "      <th>0</th>\n",
       "      <td>2019-10-16 10:35:51</td>\n",
       "      <td>C502D58F</td>\n",
       "      <td>СОЦ</td>\n",
       "      <td>10003456789</td>\n",
       "      <td>5</td>\n",
       "      <td>1</td>\n",
       "      <td>38151</td>\n",
       "      <td>0</td>\n",
       "      <td>0</td>\n",
       "      <td>NaN</td>\n",
       "      <td>1.000000</td>\n",
       "      <td>NaN</td>\n",
       "    </tr>\n",
       "    <tr>\n",
       "      <th>1</th>\n",
       "      <td>2019-10-16 10:36:23</td>\n",
       "      <td>NaN</td>\n",
       "      <td>БАНК</td>\n",
       "      <td>10003456789</td>\n",
       "      <td>5</td>\n",
       "      <td>1</td>\n",
       "      <td>38183</td>\n",
       "      <td>0</td>\n",
       "      <td>0</td>\n",
       "      <td>NaN</td>\n",
       "      <td>1.000000</td>\n",
       "      <td>NaN</td>\n",
       "    </tr>\n",
       "    <tr>\n",
       "      <th>2</th>\n",
       "      <td>2019-10-16 10:36:57</td>\n",
       "      <td>118F850F</td>\n",
       "      <td>КШ</td>\n",
       "      <td>10003456789</td>\n",
       "      <td>5</td>\n",
       "      <td>1</td>\n",
       "      <td>38217</td>\n",
       "      <td>0</td>\n",
       "      <td>0</td>\n",
       "      <td>NaN</td>\n",
       "      <td>1.000000</td>\n",
       "      <td>NaN</td>\n",
       "    </tr>\n",
       "    <tr>\n",
       "      <th>3</th>\n",
       "      <td>2019-10-16 10:37:07</td>\n",
       "      <td>5D09C9AE</td>\n",
       "      <td>СОЦ</td>\n",
       "      <td>10003456789</td>\n",
       "      <td>5</td>\n",
       "      <td>1</td>\n",
       "      <td>38227</td>\n",
       "      <td>0</td>\n",
       "      <td>0</td>\n",
       "      <td>NaN</td>\n",
       "      <td>1.000000</td>\n",
       "      <td>NaN</td>\n",
       "    </tr>\n",
       "    <tr>\n",
       "      <th>4</th>\n",
       "      <td>2019-10-16 10:37:12</td>\n",
       "      <td>551B6DF9</td>\n",
       "      <td>СОЦ</td>\n",
       "      <td>10003456789</td>\n",
       "      <td>5</td>\n",
       "      <td>1</td>\n",
       "      <td>38232</td>\n",
       "      <td>0</td>\n",
       "      <td>0</td>\n",
       "      <td>NaN</td>\n",
       "      <td>1.000000</td>\n",
       "      <td>NaN</td>\n",
       "    </tr>\n",
       "    <tr>\n",
       "      <th>...</th>\n",
       "      <td>...</td>\n",
       "      <td>...</td>\n",
       "      <td>...</td>\n",
       "      <td>...</td>\n",
       "      <td>...</td>\n",
       "      <td>...</td>\n",
       "      <td>...</td>\n",
       "      <td>...</td>\n",
       "      <td>...</td>\n",
       "      <td>...</td>\n",
       "      <td>...</td>\n",
       "      <td>...</td>\n",
       "    </tr>\n",
       "    <tr>\n",
       "      <th>1282653</th>\n",
       "      <td>2019-10-16 06:13:48</td>\n",
       "      <td>3788C309</td>\n",
       "      <td>ЕТК</td>\n",
       "      <td>subway</td>\n",
       "      <td>2</td>\n",
       "      <td>0</td>\n",
       "      <td>22428</td>\n",
       "      <td>2082</td>\n",
       "      <td>0</td>\n",
       "      <td>0.0</td>\n",
       "      <td>2.279555</td>\n",
       "      <td>995.0</td>\n",
       "    </tr>\n",
       "    <tr>\n",
       "      <th>1282654</th>\n",
       "      <td>2019-10-16 06:12:19</td>\n",
       "      <td>7E81903E</td>\n",
       "      <td>ЕТК</td>\n",
       "      <td>subway</td>\n",
       "      <td>2</td>\n",
       "      <td>0</td>\n",
       "      <td>22339</td>\n",
       "      <td>2082</td>\n",
       "      <td>0</td>\n",
       "      <td>0.0</td>\n",
       "      <td>2.279555</td>\n",
       "      <td>995.0</td>\n",
       "    </tr>\n",
       "    <tr>\n",
       "      <th>1282655</th>\n",
       "      <td>2019-10-16 06:08:05</td>\n",
       "      <td>C17C0124</td>\n",
       "      <td>ЕТК</td>\n",
       "      <td>subway</td>\n",
       "      <td>2</td>\n",
       "      <td>0</td>\n",
       "      <td>22085</td>\n",
       "      <td>2082</td>\n",
       "      <td>0</td>\n",
       "      <td>0.0</td>\n",
       "      <td>2.279555</td>\n",
       "      <td>995.0</td>\n",
       "    </tr>\n",
       "    <tr>\n",
       "      <th>1282656</th>\n",
       "      <td>2019-10-16 06:04:06</td>\n",
       "      <td>2E944A11</td>\n",
       "      <td>ЕТК</td>\n",
       "      <td>subway</td>\n",
       "      <td>2</td>\n",
       "      <td>0</td>\n",
       "      <td>21846</td>\n",
       "      <td>2082</td>\n",
       "      <td>0</td>\n",
       "      <td>0.0</td>\n",
       "      <td>2.279555</td>\n",
       "      <td>995.0</td>\n",
       "    </tr>\n",
       "    <tr>\n",
       "      <th>1282657</th>\n",
       "      <td>2019-10-16 06:02:54</td>\n",
       "      <td>72DB2D90</td>\n",
       "      <td>ЕТК</td>\n",
       "      <td>subway</td>\n",
       "      <td>2</td>\n",
       "      <td>0</td>\n",
       "      <td>21774</td>\n",
       "      <td>2082</td>\n",
       "      <td>0</td>\n",
       "      <td>0.0</td>\n",
       "      <td>2.279555</td>\n",
       "      <td>995.0</td>\n",
       "    </tr>\n",
       "  </tbody>\n",
       "</table>\n",
       "<p>460567 rows × 12 columns</p>\n",
       "</div>"
      ],
      "text/plain": [
       "        Дата и время поездки Номер кристалла  TCAT Код Маршрута  \\\n",
       "0        2019-10-16 10:35:51        C502D58F   СОЦ  10003456789   \n",
       "1        2019-10-16 10:36:23             NaN  БАНК  10003456789   \n",
       "2        2019-10-16 10:36:57        118F850F    КШ  10003456789   \n",
       "3        2019-10-16 10:37:07        5D09C9AE   СОЦ  10003456789   \n",
       "4        2019-10-16 10:37:12        551B6DF9   СОЦ  10003456789   \n",
       "...                      ...             ...   ...          ...   \n",
       "1282653  2019-10-16 06:13:48        3788C309   ЕТК       subway   \n",
       "1282654  2019-10-16 06:12:19        7E81903E   ЕТК       subway   \n",
       "1282655  2019-10-16 06:08:05        C17C0124   ЕТК       subway   \n",
       "1282656  2019-10-16 06:04:06        2E944A11   ЕТК       subway   \n",
       "1282657  2019-10-16 06:02:54        72DB2D90   ЕТК       subway   \n",
       "\n",
       "         Код предприятия  mr_id   time  ssId  rl_id  rc_orderby         c  \\\n",
       "0                      5      1  38151     0      0         NaN  1.000000   \n",
       "1                      5      1  38183     0      0         NaN  1.000000   \n",
       "2                      5      1  38217     0      0         NaN  1.000000   \n",
       "3                      5      1  38227     0      0         NaN  1.000000   \n",
       "4                      5      1  38232     0      0         NaN  1.000000   \n",
       "...                  ...    ...    ...   ...    ...         ...       ...   \n",
       "1282653                2      0  22428  2082      0         0.0  2.279555   \n",
       "1282654                2      0  22339  2082      0         0.0  2.279555   \n",
       "1282655                2      0  22085  2082      0         0.0  2.279555   \n",
       "1282656                2      0  21846  2082      0         0.0  2.279555   \n",
       "1282657                2      0  21774  2082      0         0.0  2.279555   \n",
       "\n",
       "         site_id  \n",
       "0            NaN  \n",
       "1            NaN  \n",
       "2            NaN  \n",
       "3            NaN  \n",
       "4            NaN  \n",
       "...          ...  \n",
       "1282653    995.0  \n",
       "1282654    995.0  \n",
       "1282655    995.0  \n",
       "1282656    995.0  \n",
       "1282657    995.0  \n",
       "\n",
       "[460567 rows x 12 columns]"
      ]
     },
     "execution_count": 27,
     "metadata": {},
     "output_type": "execute_result"
    }
   ],
   "source": [
    "DATA[DATA['Дата и время поездки'].str.contains( '2019-10-16')] "
   ]
  },
  {
   "cell_type": "code",
   "execution_count": null,
   "metadata": {},
   "outputs": [],
   "source": []
  },
  {
   "cell_type": "markdown",
   "metadata": {},
   "source": [
    "# 4. ВЫБРАЛИ ДАННЫЕ ЗА ЧАС ПИК"
   ]
  },
  {
   "cell_type": "code",
   "execution_count": null,
   "metadata": {},
   "outputs": [],
   "source": [
    "#выбрала час пик только из перовго дня\n",
    "DATA_pick=DATA[DATA['Дата и время поездки'].str.contains( '2019-10-16')] \n",
    "DATA_pick=DATA_pick[DATA_pick['Дата и время поездки'].str.contains( ' 07:')]\\\n",
    "    .append(DATA_pick[DATA_pick['Дата и время поездки'].str.contains( ' 08:')])\\\n",
    "    .append(DATA_pick[DATA_pick['Дата и время поездки'].str.contains( ' 09:')])"
   ]
  },
  {
   "cell_type": "code",
   "execution_count": null,
   "metadata": {},
   "outputs": [],
   "source": [
    "#выбрала дневной промежуток только из перовго дня\n",
    "#DATA_pick=DATA[DATA['Дата и время поездки'].str.contains( '2019-10-16')] \n",
    "#DATA_pick=DATA_pick[DATA_pick['Дата и время поездки'].str.contains( '2019-10-16 10:')]\\\n",
    "#    .append(DATA_pick[DATA_pick['Дата и время поездки'].str.contains( '2019-10-16 11:')])\\\n",
    "#    .append(DATA_pick[DATA_pick['Дата и время поездки'].str.contains( '2019-10-16 12:')])\\\n",
    "#    .append(DATA_pick[DATA_pick['Дата и время поездки'].str.contains( '2019-10-16 13:')])\\\n",
    "#        .append(DATA_pick[DATA_pick['Дата и время поездки'].str.contains( '2019-10-16 14:')])"
   ]
  },
  {
   "cell_type": "code",
   "execution_count": 28,
   "metadata": {},
   "outputs": [],
   "source": [
    "#выбрала вечерний промежуток только из перовго дня\n",
    "DATA_pick=DATA[DATA['Дата и время поездки'].str.contains( '2019-10-16')] \n",
    "DATA_pick=DATA_pick[DATA_pick['Дата и время поездки'].str.contains( '2019-10-16 15:')]\\\n",
    "    .append(DATA_pick[DATA_pick['Дата и время поездки'].str.contains( '2019-10-16 16:')])\\\n",
    "    .append(DATA_pick[DATA_pick['Дата и время поездки'].str.contains( '2019-10-16 17:')])"
   ]
  },
  {
   "cell_type": "code",
   "execution_count": 29,
   "metadata": {},
   "outputs": [
    {
     "data": {
      "text/plain": [
       "113378"
      ]
     },
     "execution_count": 29,
     "metadata": {},
     "output_type": "execute_result"
    }
   ],
   "source": [
    "len(DATA_pick)"
   ]
  },
  {
   "cell_type": "markdown",
   "metadata": {},
   "source": [
    "# 5. Убираем и запоминаем из выборки тех, у кого нет номера кристалла (невозможно точно привязать точку выхода)"
   ]
  },
  {
   "cell_type": "code",
   "execution_count": 30,
   "metadata": {},
   "outputs": [],
   "source": [
    "DATA_bank_pick=DATA_pick[DATA_pick['Номер кристалла'].isna()]"
   ]
  },
  {
   "cell_type": "markdown",
   "metadata": {},
   "source": [
    "ОСТАВЛЯЕМ В ЧАСЕ ПИК ТОЛЬКО ТЕХ, у кого есть номер кристалла:"
   ]
  },
  {
   "cell_type": "code",
   "execution_count": null,
   "metadata": {},
   "outputs": [],
   "source": [
    "DATA_pick=DATA_pick[~DATA_pick.index.isin(DATA_bank_pick.index)]"
   ]
  },
  {
   "cell_type": "code",
   "execution_count": null,
   "metadata": {},
   "outputs": [],
   "source": [
    "DATA_pick['time'].min()"
   ]
  },
  {
   "cell_type": "code",
   "execution_count": null,
   "metadata": {},
   "outputs": [],
   "source": [
    "DATA_pick['time'].max()"
   ]
  },
  {
   "cell_type": "markdown",
   "metadata": {},
   "source": [
    "Выбрала из общего массива только те данные, где встречаются валидации из пикового промежутка:"
   ]
  },
  {
   "cell_type": "code",
   "execution_count": null,
   "metadata": {},
   "outputs": [],
   "source": [
    "DATA=DATA[DATA['Номер кристалла'].isin(DATA_pick['Номер кристалла'].unique())]"
   ]
  },
  {
   "cell_type": "code",
   "execution_count": null,
   "metadata": {},
   "outputs": [],
   "source": [
    "len(DATA)"
   ]
  },
  {
   "cell_type": "markdown",
   "metadata": {},
   "source": [
    "Выбрала только те значения, которые встречаются спустя 3 часа после начала часа пик"
   ]
  },
  {
   "cell_type": "code",
   "execution_count": null,
   "metadata": {},
   "outputs": [],
   "source": [
    "DATA=DATA[DATA['time']>DATA_pick['time'].min()+3*3600]"
   ]
  },
  {
   "cell_type": "code",
   "execution_count": null,
   "metadata": {},
   "outputs": [],
   "source": [
    "DATA=DATA.sort_values(['Номер кристалла','time','site_id'])"
   ]
  },
  {
   "cell_type": "code",
   "execution_count": null,
   "metadata": {},
   "outputs": [],
   "source": [
    "DATA_pick=DATA_pick.sort_values(['Номер кристалла','time','site_id'])"
   ]
  },
  {
   "cell_type": "code",
   "execution_count": null,
   "metadata": {},
   "outputs": [],
   "source": [
    "len(DATA_pick)"
   ]
  },
  {
   "cell_type": "code",
   "execution_count": null,
   "metadata": {},
   "outputs": [],
   "source": [
    "len(DATA)"
   ]
  },
  {
   "cell_type": "code",
   "execution_count": null,
   "metadata": {},
   "outputs": [],
   "source": [
    "from tqdm import tqdm\n",
    "k=0\n",
    "res=DATA_pick\n",
    "result = []\n",
    "result2 = []\n",
    "result3 = []\n",
    "result4 = []\n",
    "stops=pd.DataFrame()\n",
    "with tqdm(total=DATA_pick.shape[0]) as pbar: \n",
    "    for index, row in DATA_pick.iterrows():\n",
    "        pbar.update(1)\n",
    "        stops=DATA[(DATA['Номер кристалла']==row['Номер кристалла'])\n",
    "                    &(DATA['time']>(row['time']+3600*3))\n",
    "                    &(DATA['site_id']!=row['site_id'])]\n",
    "        if stops.empty:\n",
    "            result.append(0)\n",
    "            result2.append(0)\n",
    "            result3.append(0)\n",
    "            result4.append(0)\n",
    "        else:\n",
    "            stop_unic=stops['site_id'].values\n",
    "            result.append(stop_unic[0])\n",
    "            time_2=stops['time'].values\n",
    "            result2.append(time_2[0])\n",
    "            rl_id=stops['rl_id'].values\n",
    "            result3.append(rl_id[0])\n",
    "            rc_orderby=stops['rc_orderby'].values\n",
    "            result4.append(rc_orderby[0])\n",
    "res['site_id_2']=result\n",
    "res['time_2']=result2\n",
    "res['rl_id_2']=result3\n",
    "res['rc_orderby_2']=result4"
   ]
  },
  {
   "cell_type": "code",
   "execution_count": null,
   "metadata": {},
   "outputs": [],
   "source": [
    "res.to_csv(path+'res_matrix_PICK_2019_10_16.csv')"
   ]
  },
  {
   "cell_type": "code",
   "execution_count": 4,
   "metadata": {},
   "outputs": [],
   "source": [
    "res2=pd.read_csv(path+'res_matrix_all_day_2019_10_16.csv')"
   ]
  },
  {
   "cell_type": "code",
   "execution_count": 6,
   "metadata": {},
   "outputs": [],
   "source": [
    "res=res2[res2['Дата и время поездки'].str.contains('2019-10-16 15:')]\\\n",
    "    .append(res2[res2['Дата и время поездки'].str.contains('2019-10-16 16:')])\\\n",
    "    .append(res2[res2['Дата и время поездки'].str.contains('2019-10-16 17:')])"
   ]
  },
  {
   "cell_type": "code",
   "execution_count": 7,
   "metadata": {},
   "outputs": [
    {
     "data": {
      "text/plain": [
       "99673"
      ]
     },
     "execution_count": 7,
     "metadata": {},
     "output_type": "execute_result"
    }
   ],
   "source": [
    "len(res)"
   ]
  },
  {
   "cell_type": "code",
   "execution_count": 31,
   "metadata": {},
   "outputs": [
    {
     "data": {
      "text/plain": [
       "76687"
      ]
     },
     "execution_count": 31,
     "metadata": {},
     "output_type": "execute_result"
    }
   ],
   "source": [
    "len(res[(res['site_id_2']>0)&(res['site_id']>0)&(res['site_id_2']!=res['site_id'])])"
   ]
  },
  {
   "cell_type": "code",
   "execution_count": 32,
   "metadata": {},
   "outputs": [
    {
     "data": {
      "text/plain": [
       "0.7693858918664032"
      ]
     },
     "execution_count": 32,
     "metadata": {},
     "output_type": "execute_result"
    }
   ],
   "source": [
    "len(res[(res['site_id_2']>0)&(res['site_id']>0)&(res['site_id_2']!=res['site_id'])])/len(res)"
   ]
  },
  {
   "cell_type": "code",
   "execution_count": 33,
   "metadata": {},
   "outputs": [],
   "source": [
    "res=res.fillna(0)"
   ]
  },
  {
   "cell_type": "code",
   "execution_count": 34,
   "metadata": {},
   "outputs": [
    {
     "data": {
      "text/plain": [
       "110417.42144112478"
      ]
     },
     "execution_count": 34,
     "metadata": {},
     "output_type": "execute_result"
    }
   ],
   "source": [
    "res['c'].sum()"
   ]
  },
  {
   "cell_type": "code",
   "execution_count": 35,
   "metadata": {},
   "outputs": [],
   "source": [
    "res=res.groupby(['site_id','site_id_2','mr_id']).agg({'c':np.nansum}).reset_index() "
   ]
  },
  {
   "cell_type": "code",
   "execution_count": 36,
   "metadata": {},
   "outputs": [
    {
     "data": {
      "text/plain": [
       "110417.42144112481"
      ]
     },
     "execution_count": 36,
     "metadata": {},
     "output_type": "execute_result"
    }
   ],
   "source": [
    "res['c'].sum()"
   ]
  },
  {
   "cell_type": "markdown",
   "metadata": {},
   "source": [
    "Заполняем неприязавшиеся Site_ID наиболее подходящими ID сайтов на маршруте"
   ]
  },
  {
   "cell_type": "code",
   "execution_count": 37,
   "metadata": {},
   "outputs": [],
   "source": [
    "res_not_null=res[(res['site_id_2']>0)&(res['site_id']>0)] #выбрали из матрицы те строки, где все значения есть\n",
    "res_null_last_stops=res[((res['site_id_2']==0)|(res['site_id_2'].isna()))\n",
    "                        &(res['site_id']>0)].drop(['site_id_2'], axis=1) #выбрали только те строки, где есть остановка входа, но нет остановки выхода\n",
    "res_null_first_stops=res[((res['site_id']==0)|(res['site_id'].isna()))\n",
    "                        &(res['site_id_2']>0)].drop(['site_id'], axis=1) #выбрали только те строки, где есть остановка вЫхода, но нет остановки входа"
   ]
  },
  {
   "cell_type": "markdown",
   "metadata": {},
   "source": [
    "Записываем всё, что не записалось и не определилось в массив res_null_null"
   ]
  },
  {
   "cell_type": "code",
   "execution_count": 38,
   "metadata": {},
   "outputs": [],
   "source": [
    "res_null_null=res[~res.index.isin(res_not_null.index)]\n",
    "res_null_null2=res_null_null[~res_null_null.index.isin(res_null_last_stops.index)]\n",
    "del res_null_null\n",
    "res_null_null=res_null_null2[~res_null_null2.index.isin(res_null_first_stops.index)].drop(['site_id'], axis=1).drop(['site_id_2'], axis=1)\n",
    "del res_null_null2\n"
   ]
  },
  {
   "cell_type": "code",
   "execution_count": 39,
   "metadata": {},
   "outputs": [],
   "source": [
    "res_null_null=res_null_null.reset_index()\n",
    "res_null_last_stops=res_null_last_stops.reset_index()\n",
    "res_null_first_stops=res_null_first_stops.reset_index()"
   ]
  },
  {
   "cell_type": "markdown",
   "metadata": {},
   "source": [
    "Проверили, что все, что разделили между массивами входило в изначальный"
   ]
  },
  {
   "cell_type": "code",
   "execution_count": 40,
   "metadata": {},
   "outputs": [
    {
     "data": {
      "text/plain": [
       "0"
      ]
     },
     "execution_count": 40,
     "metadata": {},
     "output_type": "execute_result"
    }
   ],
   "source": [
    "len(res)-(len(res_not_null)+len(res_null_null)+len(res_null_last_stops)+len(res_null_first_stops))"
   ]
  },
  {
   "cell_type": "code",
   "execution_count": 41,
   "metadata": {},
   "outputs": [
    {
     "data": {
      "text/plain": [
       "110417.42144112481"
      ]
     },
     "execution_count": 41,
     "metadata": {},
     "output_type": "execute_result"
    }
   ],
   "source": [
    "res['c'].dropna().sum()"
   ]
  },
  {
   "cell_type": "code",
   "execution_count": 42,
   "metadata": {},
   "outputs": [
    {
     "data": {
      "text/plain": [
       "array([ 2., 18.,  9., 17., 20., 11.,  3., 58.,  5., 24.])"
      ]
     },
     "execution_count": 42,
     "metadata": {},
     "output_type": "execute_result"
    }
   ],
   "source": [
    "res_null_null['c'].unique()"
   ]
  },
  {
   "cell_type": "code",
   "execution_count": null,
   "metadata": {},
   "outputs": [],
   "source": []
  },
  {
   "cell_type": "markdown",
   "metadata": {},
   "source": [
    "Добавляем банк"
   ]
  },
  {
   "cell_type": "code",
   "execution_count": 43,
   "metadata": {},
   "outputs": [],
   "source": [
    "#добавили в выборку, где не привязались посл.остановки баноквские карты, где есть валидация начала\n",
    "DATA_bank_ssid=DATA_bank_pick[DATA_bank_pick['site_id']>0]\n",
    "DATA_bank_ssid['c']=1\n",
    "DATA_bank_ssid=DATA_bank_ssid.fillna(0)\n",
    "DATA_bank_ssid=DATA_bank_ssid[['mr_id','site_id','c']]\n",
    "res_null_last_stops=res_null_last_stops.append(DATA_bank_ssid).reset_index()"
   ]
  },
  {
   "cell_type": "code",
   "execution_count": 44,
   "metadata": {},
   "outputs": [],
   "source": [
    "#добавили в выборку, где ничего не привязалось баноквские карты, где нет валидаций начала\n",
    "DATA_bank_null=DATA_bank_pick[~DATA_bank_pick.index.isin(DATA_bank_ssid.index)]\n",
    "DATA_bank_null['c']=1\n",
    "DATA_bank_null=DATA_bank_null[['mr_id','site_id','c']]\n",
    "DATA_bank_null=DATA_bank_null.fillna(0)\n",
    "res_null_null=res_null_null.append(DATA_bank_null).reset_index()"
   ]
  },
  {
   "cell_type": "code",
   "execution_count": 45,
   "metadata": {},
   "outputs": [
    {
     "data": {
      "text/plain": [
       "0"
      ]
     },
     "execution_count": 45,
     "metadata": {},
     "output_type": "execute_result"
    }
   ],
   "source": [
    "len(res)+len(DATA_bank_pick)-(len(res_not_null)+len(res_null_null)+len(res_null_last_stops)+len(res_null_first_stops))"
   ]
  },
  {
   "cell_type": "markdown",
   "metadata": {},
   "source": [
    "Сгруппировали все выгрузки, чтобы меньше хранить в оперативной памяти:"
   ]
  },
  {
   "cell_type": "code",
   "execution_count": 46,
   "metadata": {},
   "outputs": [],
   "source": [
    "res_null_null=res_null_null.fillna(0)"
   ]
  },
  {
   "cell_type": "code",
   "execution_count": 47,
   "metadata": {},
   "outputs": [],
   "source": [
    "res_null_null=res_null_null.groupby(['mr_id']).agg({'c':np.sum}).reset_index() "
   ]
  },
  {
   "cell_type": "code",
   "execution_count": 48,
   "metadata": {},
   "outputs": [],
   "source": [
    "res_null_last_stops=res_null_last_stops.groupby(['mr_id','site_id']).agg({'c':np.sum}).reset_index() "
   ]
  },
  {
   "cell_type": "code",
   "execution_count": 49,
   "metadata": {},
   "outputs": [],
   "source": [
    "res_null_first_stops=res_null_first_stops.groupby(['mr_id','site_id_2']).agg({'c':np.sum}).reset_index() "
   ]
  },
  {
   "cell_type": "code",
   "execution_count": 50,
   "metadata": {},
   "outputs": [],
   "source": [
    "res_not_null=res_not_null.groupby(['mr_id','site_id','site_id_2']).agg({'c':np.sum}).reset_index() "
   ]
  },
  {
   "cell_type": "code",
   "execution_count": 51,
   "metadata": {},
   "outputs": [],
   "source": [
    "res_not_null=res_not_null.sort_values(by=['c'],ascending=False)"
   ]
  },
  {
   "cell_type": "code",
   "execution_count": 52,
   "metadata": {},
   "outputs": [
    {
     "data": {
      "text/plain": [
       "124122.42144112481"
      ]
     },
     "execution_count": 52,
     "metadata": {},
     "output_type": "execute_result"
    }
   ],
   "source": [
    "res_null_null['c'].sum()+res_null_last_stops['c'].sum()+res_null_first_stops['c'].sum()+res_not_null['c'].sum()"
   ]
  },
  {
   "cell_type": "markdown",
   "metadata": {},
   "source": [
    "Определяем наиболее подходящие остановки для высадки на маршруте:"
   ]
  },
  {
   "cell_type": "code",
   "execution_count": 53,
   "metadata": {},
   "outputs": [],
   "source": [
    "#Размазываем вход-выход для случая, когда мы знаем ВХОД\n",
    "def input_func(res_not_null):\n",
    "    input_=res_not_null.groupby(['site_id','site_id_2']).agg({'c':np.sum}).reset_index() \n",
    "    sum_mr_id=input_.groupby(['site_id']).agg({'c':np.sum}).reset_index() \n",
    "    input_=input_.merge(sum_mr_id, on =['site_id'])\n",
    "    input_['c_x']=input_['c_x']/input_['c_y']\n",
    "    input_=input_.drop(['c_y'], axis=1).rename(columns={'c_x':'c'})\n",
    "    return input_"
   ]
  },
  {
   "cell_type": "code",
   "execution_count": 54,
   "metadata": {},
   "outputs": [],
   "source": [
    "#Размазываем вход-выход для случая, когда мы знаем ВЫХОД\n",
    "def exit_func(res_not_null):\n",
    "    exit=res_not_null.groupby(['site_id','site_id_2']).agg({'c':np.sum}).reset_index() \n",
    "    sum_mr_id=exit.groupby(['site_id_2']).agg({'c':np.sum}).reset_index() \n",
    "    exit=exit.merge(sum_mr_id, on =['site_id_2'])\n",
    "    exit['c_x']=exit['c_x']/exit['c_y']\n",
    "    exit=exit.drop(['c_y'], axis=1).rename(columns={'c_x':'c'})\n",
    "    return exit"
   ]
  },
  {
   "cell_type": "code",
   "execution_count": 55,
   "metadata": {},
   "outputs": [],
   "source": [
    "#Там где не определился конец поездки, выбираем наиболее подходящую site для выхода (пропорционально выходу)\n",
    "input_=input_func(res_not_null)\n",
    "res_null_last_stops2=res_null_last_stops.merge(input_,on=['site_id'],how='left')\n",
    "res_null_last_stops2['c']=res_null_last_stops2['c_x']*res_null_last_stops2['c_y']\n",
    "res_null_last_stops2=res_null_last_stops2.groupby(['mr_id','site_id','site_id_2']).agg({'c':np.sum}).reset_index()"
   ]
  },
  {
   "cell_type": "code",
   "execution_count": 56,
   "metadata": {},
   "outputs": [],
   "source": [
    "#записываем результат\n",
    "res_null_last_stops2=res_null_last_stops2.fillna(0)\n",
    "res_not_null=res_not_null.append(res_null_last_stops2[res_null_last_stops2['site_id_2']>0])"
   ]
  },
  {
   "cell_type": "code",
   "execution_count": 57,
   "metadata": {},
   "outputs": [],
   "source": [
    "#записываем оставшиеся непривязавшиеся остановки\n",
    "res_null_last_stops3=res_null_last_stops2[res_null_last_stops2['site_id_2']==0]\n",
    "res_null_null=res_null_null.append(res_null_last_stops3.drop(['site_id_2'], axis=1).drop(['site_id'], axis=1))\n",
    "del res_null_last_stops2\n",
    "del res_null_last_stops"
   ]
  },
  {
   "cell_type": "code",
   "execution_count": 58,
   "metadata": {},
   "outputs": [],
   "source": [
    "#Там где не определился конец поездки, выбираем наиболее подходящую SsID для выхода (пропорционально входу)\n",
    "exit=exit_func(res_not_null)\n",
    "res_null_first_stops2=res_null_first_stops.merge(exit,on=['site_id_2'],how='left')\n",
    "res_null_first_stops2['c']=res_null_first_stops2['c_x']*res_null_first_stops2['c_y']\n",
    "res_null_first_stops2=res_null_first_stops2.groupby(['mr_id','site_id','site_id_2']).agg({'c':np.sum}).reset_index()\n",
    "res_null_first_stops2=res_null_first_stops2.fillna(0)\n",
    "#записываем результат\n",
    "res_not_null=res_not_null.append(res_null_first_stops2[res_null_first_stops2['site_id_2']>0])"
   ]
  },
  {
   "cell_type": "code",
   "execution_count": 59,
   "metadata": {},
   "outputs": [],
   "source": [
    "#записываем оставшиеся непривязавшиеся остановки\n",
    "res_null_first_stops3=res_null_first_stops2[res_null_first_stops2['site_id_2']==0]\n",
    "res_null_null=res_null_null.append(res_null_first_stops3.drop(['site_id_2'], axis=1).drop(['site_id'], axis=1))\n",
    "del res_null_first_stops2\n",
    "del res_null_first_stops\n",
    "del res_null_first_stops3"
   ]
  },
  {
   "cell_type": "markdown",
   "metadata": {},
   "source": [
    "Снова группируем"
   ]
  },
  {
   "cell_type": "code",
   "execution_count": 60,
   "metadata": {},
   "outputs": [],
   "source": [
    "res_not_null=res_not_null.groupby(['mr_id','site_id','site_id_2']).agg({'c':np.sum}).reset_index() "
   ]
  },
  {
   "cell_type": "code",
   "execution_count": 61,
   "metadata": {},
   "outputs": [
    {
     "data": {
      "text/plain": [
       "123879.42144112478"
      ]
     },
     "execution_count": 61,
     "metadata": {},
     "output_type": "execute_result"
    }
   ],
   "source": [
    "res_not_null['c'].sum()"
   ]
  },
  {
   "cell_type": "code",
   "execution_count": 62,
   "metadata": {},
   "outputs": [],
   "source": [
    "#Размазываем вход-выход для случая, когда мы НИЧЕГО НЕ ЗНАЕМ\n",
    "exit_input=res_not_null.groupby(['mr_id','site_id','site_id_2']).agg({'c':np.sum}).reset_index() \n",
    "sum_mr_id=exit_input.groupby(['mr_id']).agg({'c':np.sum}).reset_index() \n",
    "exit_input=exit_input.merge(sum_mr_id, on ='mr_id')\n",
    "exit_input['c_x']=exit_input['c_x']/exit_input['c_y']\n",
    "exit_input=exit_input.drop(['c_y'], axis=1).rename(columns={'c_x':'c'})"
   ]
  },
  {
   "cell_type": "code",
   "execution_count": 63,
   "metadata": {},
   "outputs": [
    {
     "data": {
      "text/html": [
       "<div>\n",
       "<style scoped>\n",
       "    .dataframe tbody tr th:only-of-type {\n",
       "        vertical-align: middle;\n",
       "    }\n",
       "\n",
       "    .dataframe tbody tr th {\n",
       "        vertical-align: top;\n",
       "    }\n",
       "\n",
       "    .dataframe thead th {\n",
       "        text-align: right;\n",
       "    }\n",
       "</style>\n",
       "<table border=\"1\" class=\"dataframe\">\n",
       "  <thead>\n",
       "    <tr style=\"text-align: right;\">\n",
       "      <th></th>\n",
       "      <th>mr_id</th>\n",
       "      <th>site_id</th>\n",
       "      <th>site_id_2</th>\n",
       "      <th>c</th>\n",
       "    </tr>\n",
       "  </thead>\n",
       "  <tbody>\n",
       "    <tr>\n",
       "      <th>0</th>\n",
       "      <td>0</td>\n",
       "      <td>31.0</td>\n",
       "      <td>1.0</td>\n",
       "      <td>0.000007</td>\n",
       "    </tr>\n",
       "    <tr>\n",
       "      <th>1</th>\n",
       "      <td>0</td>\n",
       "      <td>31.0</td>\n",
       "      <td>4.0</td>\n",
       "      <td>0.000007</td>\n",
       "    </tr>\n",
       "    <tr>\n",
       "      <th>2</th>\n",
       "      <td>0</td>\n",
       "      <td>31.0</td>\n",
       "      <td>6.0</td>\n",
       "      <td>0.000007</td>\n",
       "    </tr>\n",
       "    <tr>\n",
       "      <th>3</th>\n",
       "      <td>0</td>\n",
       "      <td>31.0</td>\n",
       "      <td>7.0</td>\n",
       "      <td>0.000007</td>\n",
       "    </tr>\n",
       "    <tr>\n",
       "      <th>4</th>\n",
       "      <td>0</td>\n",
       "      <td>31.0</td>\n",
       "      <td>10.0</td>\n",
       "      <td>0.000022</td>\n",
       "    </tr>\n",
       "    <tr>\n",
       "      <th>...</th>\n",
       "      <td>...</td>\n",
       "      <td>...</td>\n",
       "      <td>...</td>\n",
       "      <td>...</td>\n",
       "    </tr>\n",
       "    <tr>\n",
       "      <th>233779</th>\n",
       "      <td>199</td>\n",
       "      <td>800.0</td>\n",
       "      <td>796.0</td>\n",
       "      <td>0.000065</td>\n",
       "    </tr>\n",
       "    <tr>\n",
       "      <th>233780</th>\n",
       "      <td>199</td>\n",
       "      <td>800.0</td>\n",
       "      <td>829.0</td>\n",
       "      <td>0.000033</td>\n",
       "    </tr>\n",
       "    <tr>\n",
       "      <th>233781</th>\n",
       "      <td>199</td>\n",
       "      <td>800.0</td>\n",
       "      <td>872.0</td>\n",
       "      <td>0.000033</td>\n",
       "    </tr>\n",
       "    <tr>\n",
       "      <th>233782</th>\n",
       "      <td>199</td>\n",
       "      <td>829.0</td>\n",
       "      <td>477.0</td>\n",
       "      <td>0.001757</td>\n",
       "    </tr>\n",
       "    <tr>\n",
       "      <th>233783</th>\n",
       "      <td>199</td>\n",
       "      <td>829.0</td>\n",
       "      <td>800.0</td>\n",
       "      <td>0.001757</td>\n",
       "    </tr>\n",
       "  </tbody>\n",
       "</table>\n",
       "<p>233784 rows × 4 columns</p>\n",
       "</div>"
      ],
      "text/plain": [
       "        mr_id  site_id  site_id_2         c\n",
       "0           0     31.0        1.0  0.000007\n",
       "1           0     31.0        4.0  0.000007\n",
       "2           0     31.0        6.0  0.000007\n",
       "3           0     31.0        7.0  0.000007\n",
       "4           0     31.0       10.0  0.000022\n",
       "...       ...      ...        ...       ...\n",
       "233779    199    800.0      796.0  0.000065\n",
       "233780    199    800.0      829.0  0.000033\n",
       "233781    199    800.0      872.0  0.000033\n",
       "233782    199    829.0      477.0  0.001757\n",
       "233783    199    829.0      800.0  0.001757\n",
       "\n",
       "[233784 rows x 4 columns]"
      ]
     },
     "execution_count": 63,
     "metadata": {},
     "output_type": "execute_result"
    }
   ],
   "source": [
    "exit_input"
   ]
  },
  {
   "cell_type": "code",
   "execution_count": 64,
   "metadata": {},
   "outputs": [],
   "source": [
    "#Там где ничего не определилось, размазываем валидацию по всем парам вероятным :\n",
    "res_null_null2=res_null_null.merge(exit_input,on=['mr_id'],how='left')\n",
    "res_null_null2['c']=res_null_null2['c_x']*res_null_null2['c_y']\n",
    "res_null_null2=res_null_null2.drop('c_x',axis=1).drop('c_y',axis=1)"
   ]
  },
  {
   "cell_type": "code",
   "execution_count": 65,
   "metadata": {},
   "outputs": [],
   "source": [
    "#добавляем размазанные данные в то, где известно, что это за остановка\n",
    "res_not_null2=res_not_null.append(res_null_null2)"
   ]
  },
  {
   "cell_type": "code",
   "execution_count": 66,
   "metadata": {},
   "outputs": [],
   "source": [
    "res_null_null2=res_null_null2.fillna(0)"
   ]
  },
  {
   "cell_type": "code",
   "execution_count": 67,
   "metadata": {},
   "outputs": [],
   "source": [
    "res_not_null2=res_not_null2.groupby(['site_id','site_id_2']).agg({'c':np.sum}).reset_index()"
   ]
  },
  {
   "cell_type": "code",
   "execution_count": 68,
   "metadata": {},
   "outputs": [],
   "source": [
    "itog=res_not_null2['c'].sum()"
   ]
  },
  {
   "cell_type": "code",
   "execution_count": 69,
   "metadata": {},
   "outputs": [
    {
     "data": {
      "text/plain": [
       "124119.42144112478"
      ]
     },
     "execution_count": 69,
     "metadata": {},
     "output_type": "execute_result"
    }
   ],
   "source": [
    "itog"
   ]
  },
  {
   "cell_type": "code",
   "execution_count": 70,
   "metadata": {},
   "outputs": [],
   "source": [
    "DAY=pd.read_csv(path+'2019.10.16.csv', sep = ',', encoding='windows-1251')"
   ]
  },
  {
   "cell_type": "code",
   "execution_count": 71,
   "metadata": {},
   "outputs": [],
   "source": [
    "DAY=DAY[DAY['Код предприятия'].isin([1,4,5])]"
   ]
  },
  {
   "cell_type": "code",
   "execution_count": 72,
   "metadata": {},
   "outputs": [
    {
     "data": {
      "text/plain": [
       "419751"
      ]
     },
     "execution_count": 72,
     "metadata": {},
     "output_type": "execute_result"
    }
   ],
   "source": [
    "len(DAY)"
   ]
  },
  {
   "cell_type": "markdown",
   "metadata": {},
   "source": [
    "Кол-во валидаций на НГПТ за день составило:"
   ]
  },
  {
   "cell_type": "code",
   "execution_count": 73,
   "metadata": {},
   "outputs": [],
   "source": [
    "day=len(DAY)"
   ]
  },
  {
   "cell_type": "code",
   "execution_count": 74,
   "metadata": {},
   "outputs": [],
   "source": [
    "METRO=pd.read_csv(path+'./metro/2019.10.16.csv', sep=',', encoding='windows-1251')"
   ]
  },
  {
   "cell_type": "code",
   "execution_count": null,
   "metadata": {},
   "outputs": [],
   "source": []
  },
  {
   "cell_type": "markdown",
   "metadata": {},
   "source": [
    "Кол-во валидаций на НГПТ за час пик день составило:"
   ]
  },
  {
   "cell_type": "code",
   "execution_count": 75,
   "metadata": {},
   "outputs": [],
   "source": [
    "#DAY_pick=DAY[DAY['Дата и время поездки'].str.contains( ' 07:')]\\\n",
    "#    .append(DAY[DAY['Дата и время поездки'].str.contains( ' 08:')])\\\n",
    "#    .append(DAY[DAY['Дата и время поездки'].str.contains( ' 09:')])\n",
    "pick=len(DATA_pick)"
   ]
  },
  {
   "cell_type": "code",
   "execution_count": 76,
   "metadata": {},
   "outputs": [
    {
     "data": {
      "text/plain": [
       "95.71568558274092"
      ]
     },
     "execution_count": 76,
     "metadata": {},
     "output_type": "execute_result"
    }
   ],
   "source": [
    "10852053/pick"
   ]
  },
  {
   "cell_type": "code",
   "execution_count": 77,
   "metadata": {},
   "outputs": [
    {
     "data": {
      "text/plain": [
       "113378"
      ]
     },
     "execution_count": 77,
     "metadata": {},
     "output_type": "execute_result"
    }
   ],
   "source": [
    "pick"
   ]
  },
  {
   "cell_type": "markdown",
   "metadata": {},
   "source": [
    "Годовой поток по пригородным маршрутам составил 15369619\n",
    "\n",
    "Переход к месяцу Октябрь от года - 10,73 (делим)\n",
    "\n",
    "Переход к одному дню октября = 396 889 (средний будний день в октябре 2019 года)/10 852 053 (суммарный месячный поток в октябре 2019 за год)\n",
    "\n",
    "Переход к часу - пик - делим кол-во валидаций за день к количеству валидаций за час пик \n",
    "\n",
    "\n",
    "В рабочий день в МЕТРО перемещается 43 684"
   ]
  },
  {
   "cell_type": "code",
   "execution_count": 78,
   "metadata": {},
   "outputs": [
    {
     "data": {
      "text/plain": [
       "15367389"
      ]
     },
     "execution_count": 78,
     "metadata": {},
     "output_type": "execute_result"
    }
   ],
   "source": [
    "15369619-2230"
   ]
  },
  {
   "cell_type": "code",
   "execution_count": 79,
   "metadata": {},
   "outputs": [
    {
     "data": {
      "text/plain": [
       "0.11400341103527808"
      ]
     },
     "execution_count": 79,
     "metadata": {},
     "output_type": "execute_result"
    }
   ],
   "source": [
    "(15369619/10.73)*(396889/10852053)*(pick/day)/itog"
   ]
  },
  {
   "cell_type": "code",
   "execution_count": 80,
   "metadata": {},
   "outputs": [],
   "source": [
    "res_not_null2['c']=res_not_null2['c']+((15369619-2230)/10.73)*(396889/10852053)*(pick/day)/itog"
   ]
  },
  {
   "cell_type": "code",
   "execution_count": 81,
   "metadata": {},
   "outputs": [
    {
     "data": {
      "text/plain": [
       "128017.65841226772"
      ]
     },
     "execution_count": 81,
     "metadata": {},
     "output_type": "execute_result"
    }
   ],
   "source": [
    "res_not_null2['c'].sum()"
   ]
  },
  {
   "cell_type": "code",
   "execution_count": 82,
   "metadata": {},
   "outputs": [],
   "source": [
    "matrix=res_not_null2.groupby(['site_id','site_id_2']).agg({'c':np.sum}).reset_index()"
   ]
  },
  {
   "cell_type": "code",
   "execution_count": 83,
   "metadata": {},
   "outputs": [],
   "source": [
    "matrix=matrix.sort_values(by='c',ascending=False)"
   ]
  },
  {
   "cell_type": "code",
   "execution_count": 84,
   "metadata": {},
   "outputs": [],
   "source": [
    "matrix['site_id']=matrix['site_id'].astype('int64')"
   ]
  },
  {
   "cell_type": "code",
   "execution_count": 85,
   "metadata": {},
   "outputs": [],
   "source": [
    "matrix['c']=round(matrix['c'])"
   ]
  },
  {
   "cell_type": "code",
   "execution_count": 86,
   "metadata": {},
   "outputs": [],
   "source": [
    "matrix['c']=matrix['c'].astype(int)"
   ]
  },
  {
   "cell_type": "code",
   "execution_count": 87,
   "metadata": {},
   "outputs": [],
   "source": [
    "matrix['site_id_2']=matrix['site_id_2'].astype('int64')"
   ]
  },
  {
   "cell_type": "code",
   "execution_count": 88,
   "metadata": {},
   "outputs": [
    {
     "data": {
      "text/plain": [
       "130780"
      ]
     },
     "execution_count": 88,
     "metadata": {},
     "output_type": "execute_result"
    }
   ],
   "source": [
    "matrix['c'].sum()"
   ]
  },
  {
   "cell_type": "code",
   "execution_count": null,
   "metadata": {},
   "outputs": [],
   "source": [
    "#вспомогательный блок для переименования сайтов (когда нашла ошибку, что не объединила часть сайтов)\n",
    "#sites_unic=pd.read_csv(path+'site_ID_NEW.csv', sep = ';', encoding='utf-8')\n",
    "#matrix2=matrix.merge(sites_unic, on ='site_id', how='left')\n",
    "#matrix2.loc[matrix2['site_id_new'].isna(),'site_id_new']=matrix2.loc[matrix2['site_id_new'].isna(),'site_id']\n",
    "#matrix2=matrix2.merge(sites_unic, left_on ='site_id_2', right_on ='site_id', how='left')\n",
    "#matrix2.loc[matrix2['site_id_new_y'].isna(),'site_id_new_y']=matrix2.loc[matrix2['site_id_new_y'].isna(),'site_id_2']\n",
    "#matrix=matrix2[['site_id_new_x','site_id_new_y','c']]\n",
    "#matrix=matrix.rename(columns={'site_id_new_x':'site_id','site_id_new_y':'site_id_2'})"
   ]
  },
  {
   "cell_type": "code",
   "execution_count": 89,
   "metadata": {},
   "outputs": [],
   "source": [
    "matrix.to_csv(path+'matrix_oct_EVN_PICK.csv')"
   ]
  },
  {
   "cell_type": "markdown",
   "metadata": {},
   "source": [
    "## Анализируем сайты, которые не вошли в матрицу, смотрим, не вошли ли они в видеоаналитику"
   ]
  },
  {
   "cell_type": "code",
   "execution_count": 90,
   "metadata": {},
   "outputs": [],
   "source": [
    "sites_unic=pd.read_csv(path+'sites_coordinate.csv', sep = ';', encoding='utf-8')"
   ]
  },
  {
   "cell_type": "code",
   "execution_count": 91,
   "metadata": {},
   "outputs": [],
   "source": [
    "#считали связь сайтов с остановками из Яндекса\n",
    "Yandex_stop=pd.read_csv(path+'videoanal/Yandex_stop_with_site.csv',sep=';')"
   ]
  },
  {
   "cell_type": "code",
   "execution_count": 92,
   "metadata": {},
   "outputs": [],
   "source": [
    "#считали данные видеоаналитики\n",
    "video_data=pd.read_csv(path+'videoanal/videoanal_by_stops.csv',encoding='utf-8', sep=\";\")\n",
    "video_data=video_data[video_data['Широта'].notna()]\n",
    "video_data=video_data[video_data['Перевозчик']=='Рейс'] #выбрали только частника\n",
    "video_data=video_data.fillna(0)\n",
    "video_data['Открытие двери']=video_data['Открытие двери'].astype(str)"
   ]
  },
  {
   "cell_type": "code",
   "execution_count": 93,
   "metadata": {},
   "outputs": [
    {
     "data": {
      "text/plain": [
       "array(['05:11:13', '0', '05:13:46', ..., '09:29:52', '09:36:22',\n",
       "       '09:37:03'], dtype=object)"
      ]
     },
     "execution_count": 93,
     "metadata": {},
     "output_type": "execute_result"
    }
   ],
   "source": [
    "video_data['Открытие двери'].unique()"
   ]
  },
  {
   "cell_type": "code",
   "execution_count": null,
   "metadata": {},
   "outputs": [],
   "source": [
    "#video_data2=video_data[video_data['Открытие двери'].str.startswith('07:')]\\\n",
    "#    .append(video_data[video_data['Открытие двери'].str.startswith('08:')])\\\n",
    "#    .append(video_data[video_data['Открытие двери'].str.startswith('09:')])"
   ]
  },
  {
   "cell_type": "code",
   "execution_count": 94,
   "metadata": {},
   "outputs": [],
   "source": [
    "video_data2=video_data[video_data['Открытие двери'].str.startswith('15:')]\\\n",
    "    .append(video_data[video_data['Открытие двери'].str.startswith('16:')])\\\n",
    "    .append(video_data[video_data['Открытие двери'].str.startswith('17:')])"
   ]
  },
  {
   "cell_type": "code",
   "execution_count": 95,
   "metadata": {},
   "outputs": [],
   "source": [
    "Yandex_stop=Yandex_stop[['stop_id','site_id']]"
   ]
  },
  {
   "cell_type": "code",
   "execution_count": 96,
   "metadata": {},
   "outputs": [],
   "source": [
    "#привзяали остановки к сайтам\n",
    "\n",
    "video_data2=video_data2.merge(Yandex_stop, left_on='ID остановки (Яндекс)', right_on='stop_id')"
   ]
  },
  {
   "cell_type": "code",
   "execution_count": 97,
   "metadata": {},
   "outputs": [],
   "source": [
    "#cчитали частоту хождения по маршрутам\n",
    "freq=pd.read_csv(path+'videoanal/freq2.csv',encoding='utf-8',sep=';')"
   ]
  },
  {
   "cell_type": "code",
   "execution_count": 98,
   "metadata": {},
   "outputs": [],
   "source": [
    "freq=freq.fillna(0)"
   ]
  },
  {
   "cell_type": "code",
   "execution_count": 99,
   "metadata": {},
   "outputs": [
    {
     "data": {
      "text/html": [
       "<div>\n",
       "<style scoped>\n",
       "    .dataframe tbody tr th:only-of-type {\n",
       "        vertical-align: middle;\n",
       "    }\n",
       "\n",
       "    .dataframe tbody tr th {\n",
       "        vertical-align: top;\n",
       "    }\n",
       "\n",
       "    .dataframe thead th {\n",
       "        text-align: right;\n",
       "    }\n",
       "</style>\n",
       "<table border=\"1\" class=\"dataframe\">\n",
       "  <thead>\n",
       "    <tr style=\"text-align: right;\">\n",
       "      <th></th>\n",
       "      <th>Дата</th>\n",
       "      <th>ТС</th>\n",
       "      <th>Модель ТС</th>\n",
       "      <th>Площадь по полу</th>\n",
       "      <th>Количество сидячих мест</th>\n",
       "      <th>Регистратор</th>\n",
       "      <th>Тип</th>\n",
       "      <th>Город</th>\n",
       "      <th>Перевозчик</th>\n",
       "      <th>Маршрут</th>\n",
       "      <th>...</th>\n",
       "      <th>ID сегмента открытых дверей</th>\n",
       "      <th>Открытие двери</th>\n",
       "      <th>Закрытие двери</th>\n",
       "      <th>Номер двери</th>\n",
       "      <th>Вошло</th>\n",
       "      <th>Вышло</th>\n",
       "      <th>В салоне</th>\n",
       "      <th>Видео</th>\n",
       "      <th>stop_id</th>\n",
       "      <th>site_id</th>\n",
       "    </tr>\n",
       "  </thead>\n",
       "  <tbody>\n",
       "    <tr>\n",
       "      <th>0</th>\n",
       "      <td>2020-09-11</td>\n",
       "      <td>АмкСам126(Р585)</td>\n",
       "      <td>Hyundai County (LWB)</td>\n",
       "      <td>1,2</td>\n",
       "      <td>18</td>\n",
       "      <td>130084.0</td>\n",
       "      <td>АМК</td>\n",
       "      <td>Самара</td>\n",
       "      <td>Рейс</td>\n",
       "      <td>126ю</td>\n",
       "      <td>...</td>\n",
       "      <td>973799.0</td>\n",
       "      <td>15:02:28</td>\n",
       "      <td>15:02:34</td>\n",
       "      <td>1.0</td>\n",
       "      <td>1.0</td>\n",
       "      <td>0.0</td>\n",
       "      <td>2</td>\n",
       "      <td>http://transport-video.infraforecast.info/vide...</td>\n",
       "      <td>stop__10001520</td>\n",
       "      <td>100</td>\n",
       "    </tr>\n",
       "  </tbody>\n",
       "</table>\n",
       "<p>1 rows × 33 columns</p>\n",
       "</div>"
      ],
      "text/plain": [
       "         Дата               ТС             Модель ТС Площадь по полу  \\\n",
       "0  2020-09-11  АмкСам126(Р585)  Hyundai County (LWB)             1,2   \n",
       "\n",
       "   Количество сидячих мест  Регистратор  Тип   Город Перевозчик Маршрут  ...  \\\n",
       "0                       18     130084.0  АМК  Самара       Рейс    126ю  ...   \n",
       "\n",
       "  ID сегмента открытых дверей Открытие двери  Закрытие двери  Номер двери  \\\n",
       "0                    973799.0       15:02:28        15:02:34          1.0   \n",
       "\n",
       "   Вошло Вышло В салоне                                              Видео  \\\n",
       "0    1.0   0.0        2  http://transport-video.infraforecast.info/vide...   \n",
       "\n",
       "          stop_id site_id  \n",
       "0  stop__10001520     100  \n",
       "\n",
       "[1 rows x 33 columns]"
      ]
     },
     "execution_count": 99,
     "metadata": {},
     "output_type": "execute_result"
    }
   ],
   "source": [
    "video_data2[0:1]"
   ]
  },
  {
   "cell_type": "code",
   "execution_count": 100,
   "metadata": {},
   "outputs": [
    {
     "data": {
      "text/plain": [
       "20405"
      ]
     },
     "execution_count": 100,
     "metadata": {},
     "output_type": "execute_result"
    }
   ],
   "source": [
    "len(video_data2)"
   ]
  },
  {
   "cell_type": "code",
   "execution_count": 101,
   "metadata": {},
   "outputs": [],
   "source": [
    "#перешли к входу среднему на одном рейсе\n",
    "video_data2=pd.DataFrame(video_data2.groupby(['route_id','trip_id','site_id']).agg({'Вошло':np.mean}).reset_index())"
   ]
  },
  {
   "cell_type": "code",
   "execution_count": 102,
   "metadata": {},
   "outputs": [],
   "source": [
    "#перешли к среднему выходу на одном рейсе автобусов перевозчика 'Рейс'\n",
    "vyxod_reis=pd.DataFrame(video_data.groupby(['route_id','trip_id','ID остановки (Яндекс)']).agg({'Вышло':np.mean}).reset_index())"
   ]
  },
  {
   "cell_type": "code",
   "execution_count": 103,
   "metadata": {},
   "outputs": [],
   "source": [
    "vyxod_reis=vyxod_reis.merge(Yandex_stop, left_on='ID остановки (Яндекс)', right_on='stop_id', how='left')"
   ]
  },
  {
   "cell_type": "code",
   "execution_count": 104,
   "metadata": {},
   "outputs": [],
   "source": [
    "#выбрали только те остановки,по которым будем размазывать выход (убрали те остановки, на которых у нас вход и там, где выход = 0)\n",
    "#vyxod_reis=vyxod_reis[~vyxod_reis['site'].isin(video_data2['site'].unique())]\n",
    "vyxod_reis=vyxod_reis[vyxod_reis['Вышло']>0]"
   ]
  },
  {
   "cell_type": "code",
   "execution_count": 105,
   "metadata": {},
   "outputs": [],
   "source": [
    "vyxod_reis=pd.DataFrame(vyxod_reis.groupby(['trip_id','site_id']).agg({'Вышло':np.mean}).reset_index())"
   ]
  },
  {
   "cell_type": "code",
   "execution_count": 106,
   "metadata": {},
   "outputs": [],
   "source": [
    "#считаем суммарный выход на одном направлении на одном маршруте:\n",
    "vyxod_reis_group_trip_id=pd.DataFrame(vyxod_reis.groupby(['trip_id']).agg({'Вышло':np.sum}).reset_index())"
   ]
  },
  {
   "cell_type": "code",
   "execution_count": 107,
   "metadata": {},
   "outputs": [],
   "source": [
    "#размазываем \n",
    "vyxod_reis=vyxod_reis.merge(vyxod_reis_group_trip_id, on ='trip_id',how='outer')\n",
    "vyxod_reis['part']=vyxod_reis['Вышло_x']/vyxod_reis['Вышло_y']\n",
    "vyxod_reis=vyxod_reis[['trip_id','site_id','part']]"
   ]
  },
  {
   "cell_type": "code",
   "execution_count": 108,
   "metadata": {},
   "outputs": [],
   "source": [
    "video_data2=video_data2[['trip_id','site_id','Вошло']]"
   ]
  },
  {
   "cell_type": "code",
   "execution_count": 109,
   "metadata": {},
   "outputs": [],
   "source": [
    "matrix_video=video_data2.merge(vyxod_reis, on ='trip_id', how='outer')"
   ]
  },
  {
   "cell_type": "code",
   "execution_count": 110,
   "metadata": {},
   "outputs": [],
   "source": [
    "matrix_video['c']=matrix_video['Вошло']*matrix_video['part']"
   ]
  },
  {
   "cell_type": "code",
   "execution_count": 111,
   "metadata": {},
   "outputs": [],
   "source": [
    "matrix_video=matrix_video[matrix_video['site_id_x'].notna()]"
   ]
  },
  {
   "cell_type": "code",
   "execution_count": 112,
   "metadata": {},
   "outputs": [
    {
     "data": {
      "text/html": [
       "<div>\n",
       "<style scoped>\n",
       "    .dataframe tbody tr th:only-of-type {\n",
       "        vertical-align: middle;\n",
       "    }\n",
       "\n",
       "    .dataframe tbody tr th {\n",
       "        vertical-align: top;\n",
       "    }\n",
       "\n",
       "    .dataframe thead th {\n",
       "        text-align: right;\n",
       "    }\n",
       "</style>\n",
       "<table border=\"1\" class=\"dataframe\">\n",
       "  <thead>\n",
       "    <tr style=\"text-align: right;\">\n",
       "      <th></th>\n",
       "      <th>trip_id</th>\n",
       "      <th>site_id_x</th>\n",
       "      <th>Вошло</th>\n",
       "      <th>site_id_y</th>\n",
       "      <th>part</th>\n",
       "      <th>c</th>\n",
       "    </tr>\n",
       "  </thead>\n",
       "  <tbody>\n",
       "    <tr>\n",
       "      <th>0</th>\n",
       "      <td>2193179196</td>\n",
       "      <td>20.0</td>\n",
       "      <td>1.285714</td>\n",
       "      <td>20.0</td>\n",
       "      <td>0.012263</td>\n",
       "      <td>0.015767</td>\n",
       "    </tr>\n",
       "  </tbody>\n",
       "</table>\n",
       "</div>"
      ],
      "text/plain": [
       "      trip_id  site_id_x     Вошло  site_id_y      part         c\n",
       "0  2193179196       20.0  1.285714       20.0  0.012263  0.015767"
      ]
     },
     "execution_count": 112,
     "metadata": {},
     "output_type": "execute_result"
    }
   ],
   "source": [
    "matrix_video[0:1]"
   ]
  },
  {
   "cell_type": "code",
   "execution_count": null,
   "metadata": {},
   "outputs": [],
   "source": []
  },
  {
   "cell_type": "code",
   "execution_count": 113,
   "metadata": {},
   "outputs": [],
   "source": [
    "matrix_video=matrix_video.merge(freq,left_on ='site_id_x',right_on ='site_id', how='left')"
   ]
  },
  {
   "cell_type": "code",
   "execution_count": 114,
   "metadata": {},
   "outputs": [],
   "source": [
    "matrix_video['freq']=matrix_video['freq'].fillna(1)"
   ]
  },
  {
   "cell_type": "code",
   "execution_count": 115,
   "metadata": {},
   "outputs": [],
   "source": [
    "matrix_video['c']=matrix_video['c']*matrix_video['freq']"
   ]
  },
  {
   "cell_type": "code",
   "execution_count": 116,
   "metadata": {},
   "outputs": [
    {
     "data": {
      "text/plain": [
       "1097.5039870303672"
      ]
     },
     "execution_count": 116,
     "metadata": {},
     "output_type": "execute_result"
    }
   ],
   "source": [
    "matrix_video['c'].sum()"
   ]
  },
  {
   "cell_type": "code",
   "execution_count": 117,
   "metadata": {},
   "outputs": [
    {
     "data": {
      "text/html": [
       "<div>\n",
       "<style scoped>\n",
       "    .dataframe tbody tr th:only-of-type {\n",
       "        vertical-align: middle;\n",
       "    }\n",
       "\n",
       "    .dataframe tbody tr th {\n",
       "        vertical-align: top;\n",
       "    }\n",
       "\n",
       "    .dataframe thead th {\n",
       "        text-align: right;\n",
       "    }\n",
       "</style>\n",
       "<table border=\"1\" class=\"dataframe\">\n",
       "  <thead>\n",
       "    <tr style=\"text-align: right;\">\n",
       "      <th></th>\n",
       "      <th>trip_id</th>\n",
       "      <th>site_id_x</th>\n",
       "      <th>Вошло</th>\n",
       "      <th>site_id_y</th>\n",
       "      <th>part</th>\n",
       "      <th>c</th>\n",
       "      <th>site_id</th>\n",
       "      <th>freq</th>\n",
       "    </tr>\n",
       "  </thead>\n",
       "  <tbody>\n",
       "    <tr>\n",
       "      <th>0</th>\n",
       "      <td>2193179196</td>\n",
       "      <td>20.0</td>\n",
       "      <td>1.285714</td>\n",
       "      <td>20.0</td>\n",
       "      <td>0.012263</td>\n",
       "      <td>0.157672</td>\n",
       "      <td>20.0</td>\n",
       "      <td>10.0</td>\n",
       "    </tr>\n",
       "    <tr>\n",
       "      <th>1</th>\n",
       "      <td>2193179196</td>\n",
       "      <td>20.0</td>\n",
       "      <td>1.285714</td>\n",
       "      <td>61.0</td>\n",
       "      <td>0.017847</td>\n",
       "      <td>0.229460</td>\n",
       "      <td>20.0</td>\n",
       "      <td>10.0</td>\n",
       "    </tr>\n",
       "    <tr>\n",
       "      <th>2</th>\n",
       "      <td>2193179196</td>\n",
       "      <td>20.0</td>\n",
       "      <td>1.285714</td>\n",
       "      <td>62.0</td>\n",
       "      <td>0.022286</td>\n",
       "      <td>0.286539</td>\n",
       "      <td>20.0</td>\n",
       "      <td>10.0</td>\n",
       "    </tr>\n",
       "    <tr>\n",
       "      <th>3</th>\n",
       "      <td>2193179196</td>\n",
       "      <td>20.0</td>\n",
       "      <td>1.285714</td>\n",
       "      <td>64.0</td>\n",
       "      <td>0.020318</td>\n",
       "      <td>0.261232</td>\n",
       "      <td>20.0</td>\n",
       "      <td>10.0</td>\n",
       "    </tr>\n",
       "    <tr>\n",
       "      <th>4</th>\n",
       "      <td>2193179196</td>\n",
       "      <td>20.0</td>\n",
       "      <td>1.285714</td>\n",
       "      <td>66.0</td>\n",
       "      <td>0.013385</td>\n",
       "      <td>0.172095</td>\n",
       "      <td>20.0</td>\n",
       "      <td>10.0</td>\n",
       "    </tr>\n",
       "    <tr>\n",
       "      <th>...</th>\n",
       "      <td>...</td>\n",
       "      <td>...</td>\n",
       "      <td>...</td>\n",
       "      <td>...</td>\n",
       "      <td>...</td>\n",
       "      <td>...</td>\n",
       "      <td>...</td>\n",
       "      <td>...</td>\n",
       "    </tr>\n",
       "    <tr>\n",
       "      <th>18338</th>\n",
       "      <td>2193179862</td>\n",
       "      <td>1331.0</td>\n",
       "      <td>0.000000</td>\n",
       "      <td>1327.0</td>\n",
       "      <td>0.041574</td>\n",
       "      <td>0.000000</td>\n",
       "      <td>NaN</td>\n",
       "      <td>1.0</td>\n",
       "    </tr>\n",
       "    <tr>\n",
       "      <th>18339</th>\n",
       "      <td>2193179862</td>\n",
       "      <td>1331.0</td>\n",
       "      <td>0.000000</td>\n",
       "      <td>1328.0</td>\n",
       "      <td>0.008627</td>\n",
       "      <td>0.000000</td>\n",
       "      <td>NaN</td>\n",
       "      <td>1.0</td>\n",
       "    </tr>\n",
       "    <tr>\n",
       "      <th>18340</th>\n",
       "      <td>2193179862</td>\n",
       "      <td>1331.0</td>\n",
       "      <td>0.000000</td>\n",
       "      <td>1329.0</td>\n",
       "      <td>0.014828</td>\n",
       "      <td>0.000000</td>\n",
       "      <td>NaN</td>\n",
       "      <td>1.0</td>\n",
       "    </tr>\n",
       "    <tr>\n",
       "      <th>18341</th>\n",
       "      <td>2193179862</td>\n",
       "      <td>1331.0</td>\n",
       "      <td>0.000000</td>\n",
       "      <td>1330.0</td>\n",
       "      <td>0.014687</td>\n",
       "      <td>0.000000</td>\n",
       "      <td>NaN</td>\n",
       "      <td>1.0</td>\n",
       "    </tr>\n",
       "    <tr>\n",
       "      <th>18342</th>\n",
       "      <td>2193179862</td>\n",
       "      <td>1331.0</td>\n",
       "      <td>0.000000</td>\n",
       "      <td>1331.0</td>\n",
       "      <td>0.001438</td>\n",
       "      <td>0.000000</td>\n",
       "      <td>NaN</td>\n",
       "      <td>1.0</td>\n",
       "    </tr>\n",
       "  </tbody>\n",
       "</table>\n",
       "<p>18343 rows × 8 columns</p>\n",
       "</div>"
      ],
      "text/plain": [
       "          trip_id  site_id_x     Вошло  site_id_y      part         c  \\\n",
       "0      2193179196       20.0  1.285714       20.0  0.012263  0.157672   \n",
       "1      2193179196       20.0  1.285714       61.0  0.017847  0.229460   \n",
       "2      2193179196       20.0  1.285714       62.0  0.022286  0.286539   \n",
       "3      2193179196       20.0  1.285714       64.0  0.020318  0.261232   \n",
       "4      2193179196       20.0  1.285714       66.0  0.013385  0.172095   \n",
       "...           ...        ...       ...        ...       ...       ...   \n",
       "18338  2193179862     1331.0  0.000000     1327.0  0.041574  0.000000   \n",
       "18339  2193179862     1331.0  0.000000     1328.0  0.008627  0.000000   \n",
       "18340  2193179862     1331.0  0.000000     1329.0  0.014828  0.000000   \n",
       "18341  2193179862     1331.0  0.000000     1330.0  0.014687  0.000000   \n",
       "18342  2193179862     1331.0  0.000000     1331.0  0.001438  0.000000   \n",
       "\n",
       "       site_id  freq  \n",
       "0         20.0  10.0  \n",
       "1         20.0  10.0  \n",
       "2         20.0  10.0  \n",
       "3         20.0  10.0  \n",
       "4         20.0  10.0  \n",
       "...        ...   ...  \n",
       "18338      NaN   1.0  \n",
       "18339      NaN   1.0  \n",
       "18340      NaN   1.0  \n",
       "18341      NaN   1.0  \n",
       "18342      NaN   1.0  \n",
       "\n",
       "[18343 rows x 8 columns]"
      ]
     },
     "execution_count": 117,
     "metadata": {},
     "output_type": "execute_result"
    }
   ],
   "source": [
    "matrix_video"
   ]
  },
  {
   "cell_type": "code",
   "execution_count": 118,
   "metadata": {},
   "outputs": [],
   "source": [
    "matrix_video=pd.DataFrame(matrix_video.groupby(['site_id_x','site_id_y']).agg({'c':np.sum}).reset_index())"
   ]
  },
  {
   "cell_type": "code",
   "execution_count": 119,
   "metadata": {},
   "outputs": [],
   "source": [
    "matrix_video=matrix_video.rename(columns={'site_id_x':'site_id','site_id_y':'site_id_2'})"
   ]
  },
  {
   "cell_type": "markdown",
   "metadata": {},
   "source": [
    "# Ура, дозаписываем данные видеоаналитики в данные по валидациям"
   ]
  },
  {
   "cell_type": "code",
   "execution_count": 120,
   "metadata": {},
   "outputs": [
    {
     "data": {
      "text/plain": [
       "130780"
      ]
     },
     "execution_count": 120,
     "metadata": {},
     "output_type": "execute_result"
    }
   ],
   "source": [
    "#matrix=pd.read_csv(path+'matrix_oct_new_sites.csv')\n",
    "matrix['c'].sum()"
   ]
  },
  {
   "cell_type": "code",
   "execution_count": 121,
   "metadata": {},
   "outputs": [],
   "source": [
    "\n",
    "matrix=matrix[matrix['c']>0]\n",
    "matrix=matrix[['site_id','site_id_2','c']]"
   ]
  },
  {
   "cell_type": "code",
   "execution_count": 122,
   "metadata": {},
   "outputs": [],
   "source": [
    "matrix_video['c']=matrix_video['c'].astype('int64')\n",
    "matrix_video['site_id']=matrix_video['site_id'].astype('int64')\n",
    "matrix_video['site_id_2']=matrix_video['site_id_2'].astype('int64')"
   ]
  },
  {
   "cell_type": "code",
   "execution_count": 123,
   "metadata": {},
   "outputs": [],
   "source": [
    "matrix=matrix.append(matrix_video)"
   ]
  },
  {
   "cell_type": "code",
   "execution_count": 124,
   "metadata": {},
   "outputs": [],
   "source": [
    "matrix=pd.DataFrame(matrix.groupby(['site_id','site_id_2']).agg({'c':np.sum}).reset_index())"
   ]
  },
  {
   "cell_type": "code",
   "execution_count": 125,
   "metadata": {},
   "outputs": [],
   "source": [
    "matrix['site_id_2']=matrix['site_id_2'].astype('int64')"
   ]
  },
  {
   "cell_type": "code",
   "execution_count": 126,
   "metadata": {},
   "outputs": [
    {
     "data": {
      "text/plain": [
       "131093"
      ]
     },
     "execution_count": 126,
     "metadata": {},
     "output_type": "execute_result"
    }
   ],
   "source": [
    "matrix['c'].sum()"
   ]
  },
  {
   "cell_type": "code",
   "execution_count": 127,
   "metadata": {},
   "outputs": [],
   "source": [
    "matrix.to_csv(path+'RES_NEW/matrix_oct_EVN_PICK_15_17_59.csv', index=False)"
   ]
  },
  {
   "cell_type": "markdown",
   "metadata": {},
   "source": [
    "## Рассчитываем принадлежность сайта тому или иному транспортному району"
   ]
  },
  {
   "cell_type": "code",
   "execution_count": 128,
   "metadata": {},
   "outputs": [],
   "source": [
    "sites_unic=pd.read_csv(path+'sites_coordinate.csv', sep = ';', encoding='utf-8')"
   ]
  },
  {
   "cell_type": "code",
   "execution_count": 129,
   "metadata": {},
   "outputs": [
    {
     "data": {
      "text/plain": [
       "736"
      ]
     },
     "execution_count": 129,
     "metadata": {},
     "output_type": "execute_result"
    }
   ],
   "source": [
    "len(sites_unic)"
   ]
  },
  {
   "cell_type": "code",
   "execution_count": 130,
   "metadata": {},
   "outputs": [],
   "source": [
    "sites_gpd = gpd.GeoDataFrame(sites_unic, \\\n",
    "                              geometry = [Point(xy) for xy in zip(sites_unic['ss_long'], sites_unic['ss_lat'])])\n",
    "sites_gpd.crs='epsg:4326'"
   ]
  },
  {
   "cell_type": "code",
   "execution_count": 131,
   "metadata": {},
   "outputs": [
    {
     "data": {
      "text/plain": [
       "<matplotlib.axes._subplots.AxesSubplot at 0x109e2001a30>"
      ]
     },
     "execution_count": 131,
     "metadata": {},
     "output_type": "execute_result"
    },
    {
     "data": {
      "image/png": "[encoded data removed]",
      "text/plain": [
       "<Figure size 432x288 with 1 Axes>"
      ]
     },
     "metadata": {
      "needs_background": "light"
     },
     "output_type": "display_data"
    }
   ],
   "source": [
    "sites_gpd.plot()"
   ]
  },
  {
   "cell_type": "code",
   "execution_count": 132,
   "metadata": {},
   "outputs": [],
   "source": [
    "transport_zone=gpd.read_file('557_zone.shp', encoding='utf-8')"
   ]
  },
  {
   "cell_type": "code",
   "execution_count": 133,
   "metadata": {},
   "outputs": [
    {
     "data": {
      "text/plain": [
       "<matplotlib.axes._subplots.AxesSubplot at 0x109ddfe37f0>"
      ]
     },
     "execution_count": 133,
     "metadata": {},
     "output_type": "execute_result"
    },
    {
     "data": {
      "image/png": "[encoded data removed]",
      "text/plain": [
       "<Figure size 432x288 with 1 Axes>"
      ]
     },
     "metadata": {
      "needs_background": "light"
     },
     "output_type": "display_data"
    }
   ],
   "source": [
    "transport_zone.plot()"
   ]
  },
  {
   "cell_type": "code",
   "execution_count": 134,
   "metadata": {},
   "outputs": [
    {
     "data": {
      "text/html": [
       "<div>\n",
       "<style scoped>\n",
       "    .dataframe tbody tr th:only-of-type {\n",
       "        vertical-align: middle;\n",
       "    }\n",
       "\n",
       "    .dataframe tbody tr th {\n",
       "        vertical-align: top;\n",
       "    }\n",
       "\n",
       "    .dataframe thead th {\n",
       "        text-align: right;\n",
       "    }\n",
       "</style>\n",
       "<table border=\"1\" class=\"dataframe\">\n",
       "  <thead>\n",
       "    <tr style=\"text-align: right;\">\n",
       "      <th></th>\n",
       "      <th>NO</th>\n",
       "      <th>geometry</th>\n",
       "    </tr>\n",
       "  </thead>\n",
       "  <tbody>\n",
       "    <tr>\n",
       "      <th>0</th>\n",
       "      <td>1</td>\n",
       "      <td>POLYGON ((49.74624 53.47745, 49.74695 53.48435...</td>\n",
       "    </tr>\n",
       "    <tr>\n",
       "      <th>1</th>\n",
       "      <td>2</td>\n",
       "      <td>POLYGON ((50.26787 53.17875, 50.24173 53.20126...</td>\n",
       "    </tr>\n",
       "    <tr>\n",
       "      <th>2</th>\n",
       "      <td>3</td>\n",
       "      <td>POLYGON ((50.34918 53.23681, 50.35777 53.22709...</td>\n",
       "    </tr>\n",
       "    <tr>\n",
       "      <th>3</th>\n",
       "      <td>4</td>\n",
       "      <td>POLYGON ((50.34862 53.32653, 50.33540 53.32700...</td>\n",
       "    </tr>\n",
       "    <tr>\n",
       "      <th>4</th>\n",
       "      <td>5</td>\n",
       "      <td>POLYGON ((49.22210 53.59736, 49.21382 53.55950...</td>\n",
       "    </tr>\n",
       "  </tbody>\n",
       "</table>\n",
       "</div>"
      ],
      "text/plain": [
       "   NO                                           geometry\n",
       "0   1  POLYGON ((49.74624 53.47745, 49.74695 53.48435...\n",
       "1   2  POLYGON ((50.26787 53.17875, 50.24173 53.20126...\n",
       "2   3  POLYGON ((50.34918 53.23681, 50.35777 53.22709...\n",
       "3   4  POLYGON ((50.34862 53.32653, 50.33540 53.32700...\n",
       "4   5  POLYGON ((49.22210 53.59736, 49.21382 53.55950..."
      ]
     },
     "execution_count": 134,
     "metadata": {},
     "output_type": "execute_result"
    }
   ],
   "source": [
    "transport_zone.head()"
   ]
  },
  {
   "cell_type": "code",
   "execution_count": 135,
   "metadata": {},
   "outputs": [],
   "source": [
    "site_taz=gpd.sjoin(sites_gpd, transport_zone, how='left', op='within', lsuffix='left', rsuffix='right')"
   ]
  },
  {
   "cell_type": "code",
   "execution_count": 136,
   "metadata": {},
   "outputs": [],
   "source": [
    "site_taz=site_taz.rename(columns={'NO':'Транспортные районы'})"
   ]
  },
  {
   "cell_type": "code",
   "execution_count": 137,
   "metadata": {},
   "outputs": [
    {
     "data": {
      "text/plain": [
       "array([302., 300., 303., 539., 299., 537., 542., 166., 165., 162., 161.,\n",
       "       156., 553., 554., 555., 147., 155., 544., 154.,   2.,   3., 146.,\n",
       "       550., 547., 145., 546., 153., 517., 522., 513., 151., 515., 159.,\n",
       "       149., 516., 514., 511., 509., 158., 551., 552., 157., 548., 549.,\n",
       "       163., 541., 543., 150., 160.,  nan, 229., 510., 512., 143., 545.,\n",
       "       538., 144., 301., 164., 540., 309., 310.,   1., 148., 305., 518.,\n",
       "       519., 523., 225., 222., 526., 227., 274., 276., 479., 520., 275.,\n",
       "       223., 226., 119., 277., 336., 343., 351., 296., 535., 334., 482.,\n",
       "       141., 337., 335., 333., 331., 341., 304., 484., 332., 142., 297.,\n",
       "       279., 298., 308., 278., 340., 556., 339.])"
      ]
     },
     "execution_count": 137,
     "metadata": {},
     "output_type": "execute_result"
    }
   ],
   "source": [
    "site_taz['Транспортные районы'].unique()"
   ]
  },
  {
   "cell_type": "code",
   "execution_count": 138,
   "metadata": {},
   "outputs": [],
   "source": [
    "Pop=pd.read_csv(path+'Pop2025.csv', encoding='windows-1251', sep=\";\")"
   ]
  },
  {
   "cell_type": "code",
   "execution_count": 139,
   "metadata": {},
   "outputs": [
    {
     "data": {
      "text/html": [
       "<div>\n",
       "<style scoped>\n",
       "    .dataframe tbody tr th:only-of-type {\n",
       "        vertical-align: middle;\n",
       "    }\n",
       "\n",
       "    .dataframe tbody tr th {\n",
       "        vertical-align: top;\n",
       "    }\n",
       "\n",
       "    .dataframe thead th {\n",
       "        text-align: right;\n",
       "    }\n",
       "</style>\n",
       "<table border=\"1\" class=\"dataframe\">\n",
       "  <thead>\n",
       "    <tr style=\"text-align: right;\">\n",
       "      <th></th>\n",
       "      <th>Транспортные районы</th>\n",
       "      <th>Муниципалитет (нижний уровень)</th>\n",
       "      <th>Город/ Муниципалитет</th>\n",
       "      <th>Факт_20_нас</th>\n",
       "      <th>Факт_20_раб</th>\n",
       "      <th>Инерция_25</th>\n",
       "      <th>Базовый_25</th>\n",
       "      <th>Б+_25</th>\n",
       "      <th>Ц+_25</th>\n",
       "      <th>Инерция_35</th>\n",
       "      <th>...</th>\n",
       "      <th>Б+_35</th>\n",
       "      <th>Ц+_35</th>\n",
       "      <th>Инерция_раб_25</th>\n",
       "      <th>Базовый_раб_25</th>\n",
       "      <th>Б+_раб_25</th>\n",
       "      <th>Ц+_раб_25</th>\n",
       "      <th>Инерция_раб_35</th>\n",
       "      <th>Базовый_раб_35</th>\n",
       "      <th>Б+_раб_35</th>\n",
       "      <th>Ц+_раб_35</th>\n",
       "    </tr>\n",
       "  </thead>\n",
       "  <tbody>\n",
       "    <tr>\n",
       "      <th>0</th>\n",
       "      <td>1</td>\n",
       "      <td>Красноглинский район</td>\n",
       "      <td>городской округ Самара</td>\n",
       "      <td>8512</td>\n",
       "      <td>2888.555939</td>\n",
       "      <td>8615</td>\n",
       "      <td>8617</td>\n",
       "      <td>8329</td>\n",
       "      <td>8479</td>\n",
       "      <td>8235</td>\n",
       "      <td>...</td>\n",
       "      <td>6080</td>\n",
       "      <td>6584</td>\n",
       "      <td>2863.556561</td>\n",
       "      <td>2976.612721</td>\n",
       "      <td>2976.612721</td>\n",
       "      <td>3066.718597</td>\n",
       "      <td>2731.662723</td>\n",
       "      <td>3083.388383</td>\n",
       "      <td>3083.388383</td>\n",
       "      <td>3354.098505</td>\n",
       "    </tr>\n",
       "  </tbody>\n",
       "</table>\n",
       "<p>1 rows × 21 columns</p>\n",
       "</div>"
      ],
      "text/plain": [
       "   Транспортные районы Муниципалитет (нижний уровень)    Город/ Муниципалитет  \\\n",
       "0                    1           Красноглинский район  городской округ Самара   \n",
       "\n",
       "   Факт_20_нас  Факт_20_раб  Инерция_25  Базовый_25  Б+_25  Ц+_25  Инерция_35  \\\n",
       "0         8512  2888.555939        8615        8617   8329   8479        8235   \n",
       "\n",
       "   ...  Б+_35  Ц+_35  Инерция_раб_25  Базовый_раб_25    Б+_раб_25  \\\n",
       "0  ...   6080   6584     2863.556561     2976.612721  2976.612721   \n",
       "\n",
       "     Ц+_раб_25  Инерция_раб_35  Базовый_раб_35    Б+_раб_35    Ц+_раб_35  \n",
       "0  3066.718597     2731.662723     3083.388383  3083.388383  3354.098505  \n",
       "\n",
       "[1 rows x 21 columns]"
      ]
     },
     "execution_count": 139,
     "metadata": {},
     "output_type": "execute_result"
    }
   ],
   "source": [
    "Pop[0:1]"
   ]
  },
  {
   "cell_type": "markdown",
   "metadata": {},
   "source": [
    "## РАСЧЧИТЫВАЕМ ПРОНОЗНУЮ МАТРИЦУ"
   ]
  },
  {
   "cell_type": "code",
   "execution_count": 140,
   "metadata": {},
   "outputs": [],
   "source": [
    "from math import sqrt"
   ]
  },
  {
   "cell_type": "code",
   "execution_count": 141,
   "metadata": {},
   "outputs": [],
   "source": [
    "Pop['koeff_pop_24']=Pop['Базовый_25']/Pop['Факт_20_нас']\n",
    "Pop['koeff_work_24']=(Pop['Базовый_раб_25']/Pop['Факт_20_раб']).apply(np.sqrt)\n",
    "Pop['koeff_pop_35']=Pop['Базовый_35']/Pop['Факт_20_нас']         \n",
    "Pop['koeff_work_35']=(Pop['Базовый_раб_35']/Pop['Факт_20_раб']).apply(np.sqrt)\n",
    "Pop['koeff_pop_30']=(Pop['Базовый_35']+Pop['Базовый_25'])/(2*Pop['Факт_20_нас'])     \n",
    "Pop['koeff_work_30']=((Pop['Базовый_раб_35']+Pop['Базовый_раб_25'])/2/Pop['Факт_20_раб']).apply(np.sqrt)"
   ]
  },
  {
   "cell_type": "code",
   "execution_count": 142,
   "metadata": {},
   "outputs": [],
   "source": [
    "Pop=Pop[['Транспортные районы','koeff_pop_24','koeff_pop_30','koeff_pop_35','koeff_work_24','koeff_work_30','koeff_work_35']]"
   ]
  },
  {
   "cell_type": "code",
   "execution_count": 143,
   "metadata": {},
   "outputs": [],
   "source": [
    "site_taz=site_taz.merge(Pop,on='Транспортные районы')"
   ]
  },
  {
   "cell_type": "code",
   "execution_count": 144,
   "metadata": {},
   "outputs": [],
   "source": [
    "site_koeff=site_taz[['site_id','Транспортные районы','koeff_pop_24','koeff_pop_30','koeff_pop_35','koeff_work_24','koeff_work_30','koeff_work_35']].drop_duplicates()"
   ]
  },
  {
   "cell_type": "code",
   "execution_count": 145,
   "metadata": {},
   "outputs": [],
   "source": [
    "site_koeff_from=site_koeff.add_suffix('_from').rename(columns={'site_id_from':'site_id'})\n",
    "site_koeff_to=site_koeff.add_suffix('_to').rename(columns={'site_id_to':'site_id_2'})\n",
    "site_koeff_from=site_koeff_from[['site_id','Транспортные районы_from','koeff_pop_24_from','koeff_pop_30_from','koeff_pop_35_from']]\n",
    "site_koeff_to=site_koeff_to[['site_id_2','Транспортные районы_to','koeff_work_24_to','koeff_work_30_to','koeff_work_35_to']]"
   ]
  },
  {
   "cell_type": "code",
   "execution_count": 146,
   "metadata": {},
   "outputs": [],
   "source": [
    "matrix_taz=matrix.merge(site_koeff_from,on ='site_id', how='left')\n",
    "matrix_taz=matrix_taz.merge(site_koeff_to,on ='site_id_2',how='left')"
   ]
  },
  {
   "cell_type": "code",
   "execution_count": 147,
   "metadata": {},
   "outputs": [],
   "source": [
    "matrix_taz=pd.DataFrame(matrix_taz.groupby(['Транспортные районы_from','Транспортные районы_to']).agg({'c':np.sum}).reset_index())"
   ]
  },
  {
   "cell_type": "code",
   "execution_count": 148,
   "metadata": {},
   "outputs": [],
   "source": [
    "matrix_taz=matrix_taz[matrix_taz['c']>0]"
   ]
  },
  {
   "cell_type": "code",
   "execution_count": 149,
   "metadata": {},
   "outputs": [],
   "source": [
    "matrix_taz.to_csv(path+'matrix_taz.csv')"
   ]
  },
  {
   "cell_type": "code",
   "execution_count": 150,
   "metadata": {},
   "outputs": [],
   "source": [
    "matrix['c']=matrix['c'].astype('float')"
   ]
  },
  {
   "cell_type": "code",
   "execution_count": 151,
   "metadata": {},
   "outputs": [],
   "source": [
    "matrix_taz=matrix_taz.sort_values(by='c', ascending=False)"
   ]
  },
  {
   "cell_type": "code",
   "execution_count": 152,
   "metadata": {},
   "outputs": [],
   "source": [
    "matrix_taz=matrix_taz.merge(transport_zone,left_on='Транспортные районы_from',right_on='NO')"
   ]
  },
  {
   "cell_type": "code",
   "execution_count": 153,
   "metadata": {},
   "outputs": [],
   "source": [
    "matrix_taz=matrix_taz.merge(transport_zone,left_on='Транспортные районы_to',right_on='NO')"
   ]
  },
  {
   "cell_type": "code",
   "execution_count": 168,
   "metadata": {},
   "outputs": [],
   "source": [
    "matrix_forecast=matrix.merge(site_koeff_from,on ='site_id', how='left')\n",
    "matrix_forecast=matrix_forecast.merge(site_koeff_to,on ='site_id_2',how='left')"
   ]
  },
  {
   "cell_type": "code",
   "execution_count": 169,
   "metadata": {},
   "outputs": [
    {
     "data": {
      "text/html": [
       "<div>\n",
       "<style scoped>\n",
       "    .dataframe tbody tr th:only-of-type {\n",
       "        vertical-align: middle;\n",
       "    }\n",
       "\n",
       "    .dataframe tbody tr th {\n",
       "        vertical-align: top;\n",
       "    }\n",
       "\n",
       "    .dataframe thead th {\n",
       "        text-align: right;\n",
       "    }\n",
       "</style>\n",
       "<table border=\"1\" class=\"dataframe\">\n",
       "  <thead>\n",
       "    <tr style=\"text-align: right;\">\n",
       "      <th></th>\n",
       "      <th>site_id</th>\n",
       "      <th>site_id_2</th>\n",
       "      <th>c</th>\n",
       "      <th>Транспортные районы_from</th>\n",
       "      <th>koeff_pop_24_from</th>\n",
       "      <th>koeff_pop_30_from</th>\n",
       "      <th>koeff_pop_35_from</th>\n",
       "      <th>Транспортные районы_to</th>\n",
       "      <th>koeff_work_24_to</th>\n",
       "      <th>koeff_work_30_to</th>\n",
       "      <th>koeff_work_35_to</th>\n",
       "    </tr>\n",
       "  </thead>\n",
       "  <tbody>\n",
       "    <tr>\n",
       "      <th>0</th>\n",
       "      <td>1</td>\n",
       "      <td>2</td>\n",
       "      <td>4.0</td>\n",
       "      <td>302.0</td>\n",
       "      <td>0.987121</td>\n",
       "      <td>0.968831</td>\n",
       "      <td>0.95054</td>\n",
       "      <td>302.0</td>\n",
       "      <td>1.015128</td>\n",
       "      <td>1.024191</td>\n",
       "      <td>1.033175</td>\n",
       "    </tr>\n",
       "    <tr>\n",
       "      <th>1</th>\n",
       "      <td>1</td>\n",
       "      <td>3</td>\n",
       "      <td>2.0</td>\n",
       "      <td>302.0</td>\n",
       "      <td>0.987121</td>\n",
       "      <td>0.968831</td>\n",
       "      <td>0.95054</td>\n",
       "      <td>302.0</td>\n",
       "      <td>1.015128</td>\n",
       "      <td>1.024191</td>\n",
       "      <td>1.033175</td>\n",
       "    </tr>\n",
       "    <tr>\n",
       "      <th>2</th>\n",
       "      <td>1</td>\n",
       "      <td>4</td>\n",
       "      <td>4.0</td>\n",
       "      <td>302.0</td>\n",
       "      <td>0.987121</td>\n",
       "      <td>0.968831</td>\n",
       "      <td>0.95054</td>\n",
       "      <td>302.0</td>\n",
       "      <td>1.015128</td>\n",
       "      <td>1.024191</td>\n",
       "      <td>1.033175</td>\n",
       "    </tr>\n",
       "    <tr>\n",
       "      <th>3</th>\n",
       "      <td>1</td>\n",
       "      <td>5</td>\n",
       "      <td>4.0</td>\n",
       "      <td>302.0</td>\n",
       "      <td>0.987121</td>\n",
       "      <td>0.968831</td>\n",
       "      <td>0.95054</td>\n",
       "      <td>302.0</td>\n",
       "      <td>1.015128</td>\n",
       "      <td>1.024191</td>\n",
       "      <td>1.033175</td>\n",
       "    </tr>\n",
       "    <tr>\n",
       "      <th>4</th>\n",
       "      <td>1</td>\n",
       "      <td>6</td>\n",
       "      <td>4.0</td>\n",
       "      <td>302.0</td>\n",
       "      <td>0.987121</td>\n",
       "      <td>0.968831</td>\n",
       "      <td>0.95054</td>\n",
       "      <td>302.0</td>\n",
       "      <td>1.015128</td>\n",
       "      <td>1.024191</td>\n",
       "      <td>1.033175</td>\n",
       "    </tr>\n",
       "    <tr>\n",
       "      <th>5</th>\n",
       "      <td>1</td>\n",
       "      <td>7</td>\n",
       "      <td>4.0</td>\n",
       "      <td>302.0</td>\n",
       "      <td>0.987121</td>\n",
       "      <td>0.968831</td>\n",
       "      <td>0.95054</td>\n",
       "      <td>302.0</td>\n",
       "      <td>1.015128</td>\n",
       "      <td>1.024191</td>\n",
       "      <td>1.033175</td>\n",
       "    </tr>\n",
       "    <tr>\n",
       "      <th>6</th>\n",
       "      <td>1</td>\n",
       "      <td>8</td>\n",
       "      <td>4.0</td>\n",
       "      <td>302.0</td>\n",
       "      <td>0.987121</td>\n",
       "      <td>0.968831</td>\n",
       "      <td>0.95054</td>\n",
       "      <td>300.0</td>\n",
       "      <td>1.015128</td>\n",
       "      <td>1.024191</td>\n",
       "      <td>1.033175</td>\n",
       "    </tr>\n",
       "    <tr>\n",
       "      <th>7</th>\n",
       "      <td>1</td>\n",
       "      <td>8</td>\n",
       "      <td>4.0</td>\n",
       "      <td>302.0</td>\n",
       "      <td>0.987121</td>\n",
       "      <td>0.968831</td>\n",
       "      <td>0.95054</td>\n",
       "      <td>303.0</td>\n",
       "      <td>1.015128</td>\n",
       "      <td>1.024191</td>\n",
       "      <td>1.033175</td>\n",
       "    </tr>\n",
       "    <tr>\n",
       "      <th>8</th>\n",
       "      <td>1</td>\n",
       "      <td>12</td>\n",
       "      <td>4.0</td>\n",
       "      <td>302.0</td>\n",
       "      <td>0.987121</td>\n",
       "      <td>0.968831</td>\n",
       "      <td>0.95054</td>\n",
       "      <td>539.0</td>\n",
       "      <td>1.015128</td>\n",
       "      <td>1.024191</td>\n",
       "      <td>1.033175</td>\n",
       "    </tr>\n",
       "    <tr>\n",
       "      <th>9</th>\n",
       "      <td>1</td>\n",
       "      <td>13</td>\n",
       "      <td>2.0</td>\n",
       "      <td>302.0</td>\n",
       "      <td>0.987121</td>\n",
       "      <td>0.968831</td>\n",
       "      <td>0.95054</td>\n",
       "      <td>537.0</td>\n",
       "      <td>1.015128</td>\n",
       "      <td>1.024191</td>\n",
       "      <td>1.033175</td>\n",
       "    </tr>\n",
       "  </tbody>\n",
       "</table>\n",
       "</div>"
      ],
      "text/plain": [
       "   site_id  site_id_2    c  Транспортные районы_from  koeff_pop_24_from  \\\n",
       "0        1          2  4.0                     302.0           0.987121   \n",
       "1        1          3  2.0                     302.0           0.987121   \n",
       "2        1          4  4.0                     302.0           0.987121   \n",
       "3        1          5  4.0                     302.0           0.987121   \n",
       "4        1          6  4.0                     302.0           0.987121   \n",
       "5        1          7  4.0                     302.0           0.987121   \n",
       "6        1          8  4.0                     302.0           0.987121   \n",
       "7        1          8  4.0                     302.0           0.987121   \n",
       "8        1         12  4.0                     302.0           0.987121   \n",
       "9        1         13  2.0                     302.0           0.987121   \n",
       "\n",
       "   koeff_pop_30_from  koeff_pop_35_from  Транспортные районы_to  \\\n",
       "0           0.968831            0.95054                   302.0   \n",
       "1           0.968831            0.95054                   302.0   \n",
       "2           0.968831            0.95054                   302.0   \n",
       "3           0.968831            0.95054                   302.0   \n",
       "4           0.968831            0.95054                   302.0   \n",
       "5           0.968831            0.95054                   302.0   \n",
       "6           0.968831            0.95054                   300.0   \n",
       "7           0.968831            0.95054                   303.0   \n",
       "8           0.968831            0.95054                   539.0   \n",
       "9           0.968831            0.95054                   537.0   \n",
       "\n",
       "   koeff_work_24_to  koeff_work_30_to  koeff_work_35_to  \n",
       "0          1.015128          1.024191          1.033175  \n",
       "1          1.015128          1.024191          1.033175  \n",
       "2          1.015128          1.024191          1.033175  \n",
       "3          1.015128          1.024191          1.033175  \n",
       "4          1.015128          1.024191          1.033175  \n",
       "5          1.015128          1.024191          1.033175  \n",
       "6          1.015128          1.024191          1.033175  \n",
       "7          1.015128          1.024191          1.033175  \n",
       "8          1.015128          1.024191          1.033175  \n",
       "9          1.015128          1.024191          1.033175  "
      ]
     },
     "execution_count": 169,
     "metadata": {},
     "output_type": "execute_result"
    }
   ],
   "source": [
    "matrix_forecast[0:10]"
   ]
  },
  {
   "cell_type": "code",
   "execution_count": 170,
   "metadata": {},
   "outputs": [],
   "source": [
    "matrix_forecast['2025']=matrix_forecast['c']*matrix_forecast['koeff_pop_24_from']*matrix_forecast['koeff_work_24_to']"
   ]
  },
  {
   "cell_type": "code",
   "execution_count": 171,
   "metadata": {},
   "outputs": [],
   "source": [
    "matrix_forecast['2030']=matrix_forecast['c']*matrix_forecast['koeff_pop_30_from']*matrix_forecast['koeff_work_30_to']"
   ]
  },
  {
   "cell_type": "code",
   "execution_count": 172,
   "metadata": {},
   "outputs": [],
   "source": [
    "matrix_forecast['2035']=matrix_forecast['c']*matrix_forecast['koeff_pop_35_from']*matrix_forecast['koeff_work_35_to']"
   ]
  },
  {
   "cell_type": "code",
   "execution_count": 173,
   "metadata": {},
   "outputs": [],
   "source": [
    "matrix_forecast=matrix_forecast[['site_id','site_id_2','c','2025','2030','2035']]"
   ]
  },
  {
   "cell_type": "code",
   "execution_count": 174,
   "metadata": {},
   "outputs": [],
   "source": [
    "#выделили общественно деловые районы:\n",
    "raby=['2','3','4','13','23','143','157','160','510','516','543','551','552','553','555']"
   ]
  },
  {
   "cell_type": "code",
   "execution_count": 175,
   "metadata": {},
   "outputs": [],
   "source": [
    "matrix_forecast['udal']=1.0"
   ]
  },
  {
   "cell_type": "code",
   "execution_count": 176,
   "metadata": {},
   "outputs": [],
   "source": [
    "matrix_forecast.loc[matrix_forecast['site_id_2'].isin(raby),'udal']=0.9"
   ]
  },
  {
   "cell_type": "code",
   "execution_count": 177,
   "metadata": {},
   "outputs": [],
   "source": [
    "matrix_forecast['2025']=matrix_forecast['2025']*matrix_forecast['udal']\n",
    "matrix_forecast['2030']=matrix_forecast['2030']*matrix_forecast['udal']\n",
    "matrix_forecast['2035']=matrix_forecast['2035']*matrix_forecast['udal']"
   ]
  },
  {
   "cell_type": "code",
   "execution_count": 178,
   "metadata": {},
   "outputs": [],
   "source": [
    "matrix_forecast=matrix_forecast[['site_id','site_id_2','c','2025','2030','2035']]"
   ]
  },
  {
   "cell_type": "code",
   "execution_count": 179,
   "metadata": {},
   "outputs": [],
   "source": [
    "matrix_forecast=matrix_forecast[matrix_forecast['c']>0]"
   ]
  },
  {
   "cell_type": "code",
   "execution_count": 180,
   "metadata": {},
   "outputs": [],
   "source": [
    "matrix_forecast=matrix_forecast.rename(columns={'c':'2020'})"
   ]
  },
  {
   "cell_type": "code",
   "execution_count": 181,
   "metadata": {},
   "outputs": [],
   "source": [
    "matrix_forecast.to_csv(path+'RES_NEW/matrix_forecast_EVN_PICK_15_00_17_59.csv',index=False)"
   ]
  },
  {
   "cell_type": "code",
   "execution_count": null,
   "metadata": {},
   "outputs": [],
   "source": [
    "matrix_forecast['2035'].sum()"
   ]
  },
  {
   "cell_type": "code",
   "execution_count": null,
   "metadata": {},
   "outputs": [],
   "source": [
    "matrix_forecast['2030'].sum()"
   ]
  },
  {
   "cell_type": "code",
   "execution_count": null,
   "metadata": {},
   "outputs": [],
   "source": [
    "matrix_forecast['2025'].sum()"
   ]
  },
  {
   "cell_type": "code",
   "execution_count": null,
   "metadata": {},
   "outputs": [],
   "source": [
    "site_taz[0:1]"
   ]
  },
  {
   "cell_type": "code",
   "execution_count": null,
   "metadata": {
    "scrolled": true
   },
   "outputs": [],
   "source": [
    "site_taz=site_taz[['site_id','Транспортные районы','geometry']]"
   ]
  },
  {
   "cell_type": "code",
   "execution_count": null,
   "metadata": {},
   "outputs": [],
   "source": [
    "matrix_forecast=pd.read_csv(path+'res/matrix_forecast.csv')"
   ]
  },
  {
   "cell_type": "code",
   "execution_count": null,
   "metadata": {},
   "outputs": [],
   "source": [
    "matrix_forecast=matrix_forecast[matrix_forecast['c']>0].reset_index()"
   ]
  },
  {
   "cell_type": "code",
   "execution_count": null,
   "metadata": {},
   "outputs": [],
   "source": [
    "matrix_forecast=matrix_forecast.merge(site_taz, on='site_id',how='left')"
   ]
  },
  {
   "cell_type": "code",
   "execution_count": null,
   "metadata": {},
   "outputs": [],
   "source": [
    "matrix_forecast=matrix_forecast.merge(site_taz, left_on='site_id_2',right_on='site_id',how='left')"
   ]
  },
  {
   "cell_type": "code",
   "execution_count": null,
   "metadata": {},
   "outputs": [],
   "source": [
    "matrix_forecast"
   ]
  },
  {
   "cell_type": "code",
   "execution_count": null,
   "metadata": {},
   "outputs": [],
   "source": [
    "matrix_forecast=pd.DataFrame(matrix_forecast.groupby(['Транспортные районы_x','Транспортные районы_y']).agg({'c':np.sum,'2025':np.sum,'2030':np.sum,'2035':np.sum}).reset_index())"
   ]
  },
  {
   "cell_type": "code",
   "execution_count": null,
   "metadata": {},
   "outputs": [],
   "source": [
    "matrix_forecast['delta']=matrix_forecast['2035']-matrix_forecast['c']"
   ]
  },
  {
   "cell_type": "code",
   "execution_count": null,
   "metadata": {},
   "outputs": [],
   "source": [
    "matrix_forecast=matrix_forecast.sort_values(by='delta', ascending=False)"
   ]
  },
  {
   "cell_type": "code",
   "execution_count": null,
   "metadata": {},
   "outputs": [],
   "source": [
    "matrix_forecast[matrix_forecast['Транспортные районы_x']==150]"
   ]
  },
  {
   "cell_type": "code",
   "execution_count": null,
   "metadata": {},
   "outputs": [],
   "source": [
    "transport_zone_from=transport_zone.rename(columns={'NO':'Транспортные районы_x'})\n",
    "transport_zone_to=transport_zone.rename(columns={'NO':'Транспортные районы_y'})"
   ]
  },
  {
   "cell_type": "code",
   "execution_count": null,
   "metadata": {},
   "outputs": [],
   "source": [
    "matrix_forecast_from=matrix_forecast[matrix_forecast['Транспортные районы_y']==517]"
   ]
  },
  {
   "cell_type": "code",
   "execution_count": null,
   "metadata": {},
   "outputs": [],
   "source": [
    "matrix_forecast_from=matrix_forecast_from.merge(transport_zone_from, on='Транспортные районы_x', how='left')"
   ]
  },
  {
   "cell_type": "code",
   "execution_count": null,
   "metadata": {
    "scrolled": true
   },
   "outputs": [],
   "source": [
    "matrix_forecast_from[0:2]"
   ]
  },
  {
   "cell_type": "code",
   "execution_count": null,
   "metadata": {},
   "outputs": [],
   "source": [
    "matrix_forecast_from= gpd.GeoDataFrame(matrix_forecast_from)\n",
    "matrix_forecast_from.crs='epsg:4326'"
   ]
  },
  {
   "cell_type": "code",
   "execution_count": null,
   "metadata": {},
   "outputs": [],
   "source": [
    "matrix_forecast_from.to_file(fr\"C:\\Users\\user\\Documents\\GIT\\city\\user_scripts\\masha_k\\Transnavigation\\for_presentaion\\to517.json\", index=False, driver=\"GeoJSON\", encoding='utf-8')"
   ]
  },
  {
   "cell_type": "code",
   "execution_count": null,
   "metadata": {},
   "outputs": [],
   "source": []
  },
  {
   "cell_type": "code",
   "execution_count": null,
   "metadata": {},
   "outputs": [],
   "source": []
  },
  {
   "cell_type": "code",
   "execution_count": null,
   "metadata": {},
   "outputs": [],
   "source": []
  },
  {
   "cell_type": "code",
   "execution_count": null,
   "metadata": {},
   "outputs": [],
   "source": []
  },
  {
   "cell_type": "code",
   "execution_count": null,
   "metadata": {},
   "outputs": [],
   "source": []
  },
  {
   "cell_type": "code",
   "execution_count": null,
   "metadata": {},
   "outputs": [],
   "source": []
  },
  {
   "cell_type": "code",
   "execution_count": null,
   "metadata": {},
   "outputs": [],
   "source": []
  },
  {
   "cell_type": "code",
   "execution_count": null,
   "metadata": {},
   "outputs": [],
   "source": []
  },
  {
   "cell_type": "code",
   "execution_count": null,
   "metadata": {},
   "outputs": [],
   "source": []
  },
  {
   "cell_type": "code",
   "execution_count": null,
   "metadata": {},
   "outputs": [],
   "source": []
  },
  {
   "cell_type": "code",
   "execution_count": null,
   "metadata": {},
   "outputs": [],
   "source": []
  },
  {
   "cell_type": "code",
   "execution_count": null,
   "metadata": {},
   "outputs": [],
   "source": []
  },
  {
   "cell_type": "markdown",
   "metadata": {},
   "source": [
    "# ПРИВЯЗЫВАЕМ остановки яндекса к сайтам"
   ]
  },
  {
   "cell_type": "code",
   "execution_count": null,
   "metadata": {},
   "outputs": [],
   "source": [
    "sites_unic=pd.read_csv(path+'sites_coordinate.csv', sep = ';', encoding='utf-8')"
   ]
  },
  {
   "cell_type": "code",
   "execution_count": null,
   "metadata": {},
   "outputs": [],
   "source": [
    "stops_Yandex=pd.read_csv(path+'videoanal/stop_seq_from_Ya.csv',sep=',')"
   ]
  },
  {
   "cell_type": "code",
   "execution_count": null,
   "metadata": {},
   "outputs": [],
   "source": [
    "#сформировали геослой из остановок\n",
    "stops_Yandex=gpd.GeoDataFrame(stops_Yandex, \\\n",
    "                              geometry = [Point(xy) for xy in zip(stops_Yandex['longitude'], stops_Yandex['latitude'])])\n",
    "stops_Yandex.crs='epsg:4326'"
   ]
  },
  {
   "cell_type": "code",
   "execution_count": null,
   "metadata": {},
   "outputs": [],
   "source": [
    "sites_with_buff[0:2]"
   ]
  },
  {
   "cell_type": "code",
   "execution_count": null,
   "metadata": {},
   "outputs": [],
   "source": [
    "stops_Yandex[0:2]"
   ]
  },
  {
   "cell_type": "code",
   "execution_count": null,
   "metadata": {},
   "outputs": [],
   "source": [
    "#привязали остановки к сайтам с буфером 200 метров\n",
    "sites_with_buff = sites_gpd.to_crs('epsg:32640')\n",
    "sites_with_buff.geometry = sites_with_buff.geometry.buffer(200)\n",
    "sites_with_buff = sites_with_buff.to_crs('epsg:4326')"
   ]
  },
  {
   "cell_type": "code",
   "execution_count": null,
   "metadata": {},
   "outputs": [],
   "source": [
    "stops_Yandex2=gpd.sjoin(stops_Yandex, sites_with_buff, how='left', op='within', lsuffix='left', rsuffix='right')"
   ]
  },
  {
   "cell_type": "code",
   "execution_count": null,
   "metadata": {},
   "outputs": [],
   "source": [
    "stops_Yandex2=stops_Yandex2[['route_id','trip_id','stop_id','stop_sequence','latitude','longitude','site_id','geometry']]"
   ]
  },
  {
   "cell_type": "code",
   "execution_count": null,
   "metadata": {},
   "outputs": [],
   "source": [
    "stops_Yandex2=stops_Yandex2.drop_duplicates(subset=['stop_id','route_id','trip_id'])"
   ]
  },
  {
   "cell_type": "code",
   "execution_count": null,
   "metadata": {},
   "outputs": [],
   "source": [
    "#привязали остановки к сайтам с буфером 500 метров\n",
    "sites_with_buff = sites_gpd.to_crs('epsg:32640')\n",
    "sites_with_buff.geometry = sites_with_buff.geometry.buffer(500)\n",
    "sites_with_buff = sites_with_buff.to_crs('epsg:4326')\n",
    "stops_Yandex=gpd.sjoin(stops_Yandex2, sites_with_buff, how='left', op='within', lsuffix='left', rsuffix='right')"
   ]
  },
  {
   "cell_type": "code",
   "execution_count": null,
   "metadata": {},
   "outputs": [],
   "source": [
    "stops_Yandex=stops_Yandex[['route_id','trip_id','stop_id','stop_sequence','latitude','longitude','site_id_left','site_id_right','geometry']]"
   ]
  },
  {
   "cell_type": "code",
   "execution_count": null,
   "metadata": {},
   "outputs": [],
   "source": [
    "stops_Yandex=stops_Yandex.drop_duplicates(subset=['stop_id','route_id','trip_id'])"
   ]
  },
  {
   "cell_type": "code",
   "execution_count": null,
   "metadata": {},
   "outputs": [],
   "source": [
    "stops_Yandex.loc[stops_Yandex['site_id_left'].isna(),'site_id_left']=stops_Yandex.loc[stops_Yandex['site_id_left'].isna(),'site_id_right']"
   ]
  },
  {
   "cell_type": "code",
   "execution_count": null,
   "metadata": {},
   "outputs": [],
   "source": [
    "stops_Yandex[['route_id','trip_id','stop_id','stop_sequence','latitude','longitude','site_id_left']].to_csv(path+'videoanal/Yandex_stop_with_site.csv')"
   ]
  },
  {
   "cell_type": "code",
   "execution_count": null,
   "metadata": {},
   "outputs": [],
   "source": [
    "# Расчёт растояния между координатами\n",
    "from math import radians, cos, sin, asin, sqrt\n",
    "def haversine(lon1, lat1, lon2, lat2):\n",
    "    \"\"\"\n",
    "    Calculate the great circle distance between two points on the earth (specified in decimal degrees)\n",
    "    \"\"\"\n",
    "    # convert decimal degrees to radians\n",
    "    lon1, lat1, lon2, lat2 = map(radians, [lon1, lat1, lon2, lat2])\n",
    "    \n",
    "    # haversine formula \n",
    "    dlon = lon2 - lon1\n",
    "    dlat = lat2 - lat1\n",
    "    a = sin(dlat/2)**2 + cos(lat1) * cos(lat2) * sin(dlon/2)**2\n",
    "    c = 2 * asin(sqrt(a))\n",
    "    r = 6371 * 1000 # Radius of earth in kilometers. Use 3956 for miles\n",
    "    return c * r"
   ]
  },
  {
   "cell_type": "code",
   "execution_count": null,
   "metadata": {},
   "outputs": [],
   "source": [
    "stops_seq=pd.read_csv(path+'stop_seq_v3.csv',sep=';',encoding='windows-1251')"
   ]
  },
  {
   "cell_type": "code",
   "execution_count": null,
   "metadata": {},
   "outputs": [],
   "source": [
    "stops_seq['ss_lat_1']=stops_seq.groupby(['mr_id','rl_id'])['ss_lat'].shift(-1)"
   ]
  },
  {
   "cell_type": "code",
   "execution_count": null,
   "metadata": {},
   "outputs": [],
   "source": [
    "stops_seq['ss_long_1']=stops_seq.groupby(['mr_id','rl_id'])['ss_long'].shift(-1)"
   ]
  },
  {
   "cell_type": "code",
   "execution_count": null,
   "metadata": {},
   "outputs": [],
   "source": [
    "stops_seq['len'] = stops_seq.apply(lambda row: haversine(row.ss_long, row.ss_lat, row.ss_long_1, row.ss_lat_1), axis = 1)"
   ]
  },
  {
   "cell_type": "code",
   "execution_count": null,
   "metadata": {},
   "outputs": [],
   "source": [
    "stops_seq.to_csv(path+'stop_seq_v4.csv')"
   ]
  },
  {
   "cell_type": "code",
   "execution_count": null,
   "metadata": {},
   "outputs": [],
   "source": []
  },
  {
   "cell_type": "markdown",
   "metadata": {},
   "source": [
    "## Визаулизация матрицы"
   ]
  },
  {
   "cell_type": "code",
   "execution_count": null,
   "metadata": {},
   "outputs": [],
   "source": [
    "matrix[0:1]"
   ]
  },
  {
   "cell_type": "code",
   "execution_count": null,
   "metadata": {},
   "outputs": [],
   "source": [
    "site=pd.read_csv('./done_oct/res/sites_coordinate.csv',sep=';')"
   ]
  },
  {
   "cell_type": "code",
   "execution_count": null,
   "metadata": {},
   "outputs": [],
   "source": [
    "site[0:1]"
   ]
  },
  {
   "cell_type": "code",
   "execution_count": null,
   "metadata": {},
   "outputs": [],
   "source": [
    "matrix_all_s=matrix.merge(site,on='site_id',how='left')\n",
    "matrix_all_s=matrix_all_s.merge(site,left_on='site_id_2',right_on='site_id',how='left')\n",
    "matrix_all_s=matrix_all_s[['site_id_x','site_id_2','c','ss_lat_x','ss_long_x','ss_lat_y','ss_long_y']]\n",
    "matrix_all_s.groupby(['site_id_2']).agg({'c':np.sum}).sort_values(by='c', ascending=False)[0:10]"
   ]
  },
  {
   "cell_type": "code",
   "execution_count": null,
   "metadata": {},
   "outputs": [],
   "source": [
    "matrix_all_s= gpd.GeoDataFrame(matrix_all_s,  geometry = [Point(xy) for xy in zip(matrix_all_s['ss_long_y'], matrix_all_s['ss_lat_y'])])\n",
    "matrix_all_s.crs='epsg:4326'\n",
    "matrix_all_s=matrix_all_s[matrix_all_s['site_id_x'].isin(['262','54','201','348'])]\n",
    "matrix_all_s.groupby(['site_id_x']).apply(lambda x: x.to_file(fr\"./done_oct/res/{x.name}_video.json\", index=False, driver=\"GeoJSON\", encoding='utf-8'))\n",
    "matrix_all2=matrix_all_s[matrix_all_s['site_id_2'].isin(['262','54','201','348'])]\n",
    "matrix_all2=matrix_all2[['site_id_2','geometry']].drop_duplicates()\n",
    "matrix_all2.to_file(fr\"./done_oct/res/sites.json\", index=False, driver=\"GeoJSON\", encoding='utf-8')"
   ]
  },
  {
   "cell_type": "code",
   "execution_count": null,
   "metadata": {},
   "outputs": [],
   "source": [
    "matrix_video[matrix_video['site_id_2']==579]['c'].sum()"
   ]
  },
  {
   "cell_type": "code",
   "execution_count": null,
   "metadata": {},
   "outputs": [],
   "source": []
  },
  {
   "cell_type": "code",
   "execution_count": null,
   "metadata": {},
   "outputs": [],
   "source": []
  }
 ],
 "metadata": {
  "kernelspec": {
   "display_name": "Python 3",
   "language": "python",
   "name": "python3"
  },
  "language_info": {
   "codemirror_mode": {
    "name": "ipython",
    "version": 3
   },
   "file_extension": ".py",
   "mimetype": "text/x-python",
   "name": "python",
   "nbconvert_exporter": "python",
   "pygments_lexer": "ipython3",
   "version": "3.8.3"
  }
 },
 "nbformat": 4,
 "nbformat_minor": 4
}
