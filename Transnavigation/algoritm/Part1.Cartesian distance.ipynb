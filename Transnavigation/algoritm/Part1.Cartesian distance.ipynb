{
 "cells": [
  {
   "cell_type": "code",
   "execution_count": 6,
   "metadata": {
    "scrolled": true
   },
   "outputs": [],
   "source": [
    "import os\n",
    "import time\n",
    "import geopandas as gpd\n",
    "import pandas as pd\n",
    "import numpy as np\n",
    "#from datetime import datetime\n",
    "from math import radians, cos, sin, asin, sqrt\n",
    "from tqdm import tqdm_notebook as tqdm\n",
    "from threading import Thread\n",
    "from shapely.geometry import LineString\n",
    "from shapely.geometry import Point"
   ]
  },
  {
   "cell_type": "code",
   "execution_count": 1,
   "metadata": {},
   "outputs": [],
   "source": [
    "# Разбивает датафрейм на части\n",
    "def split_dataframe(df, chunk_size = 10000): \n",
    "    chunks = list()\n",
    "    num_chunks = len(df) // chunk_size + 1\n",
    "    for i in range(num_chunks):\n",
    "        chunks.append(df[i*chunk_size:(i+1)*chunk_size])\n",
    "    return chunks"
   ]
  },
  {
   "cell_type": "code",
   "execution_count": 2,
   "metadata": {},
   "outputs": [],
   "source": [
    "# Расчёт растояния между координатами\n",
    "def haversine(lon1, lat1, lon2, lat2):\n",
    "    \"\"\"\n",
    "    Calculate the great circle distance between two points on the earth (specified in decimal degrees)\n",
    "    \"\"\"\n",
    "    # convert decimal degrees to radians\n",
    "    lon1, lat1, lon2, lat2 = map(radians, [lon1, lat1, lon2, lat2])\n",
    "    \n",
    "    # haversine formula \n",
    "    dlon = lon2 - lon1\n",
    "    dlat = lat2 - lat1\n",
    "    a = sin(dlat/2)**2 + cos(lat1) * cos(lat2) * sin(dlon/2)**2\n",
    "    c = 2 * asin(sqrt(a))\n",
    "    r = 6371 * 1000 # Radius of earth in kilometers. Use 3956 for miles\n",
    "    return c * r"
   ]
  },
  {
   "cell_type": "code",
   "execution_count": 3,
   "metadata": {},
   "outputs": [],
   "source": [
    "def calc_distance(track_data, stop_data, mr_id, delta_distance = 100):\n",
    "    time_ = time.time()\n",
    "    time.sleep(36)\n",
    "    # Формируем доп.столбцы в Dataframe, где указываем координаты посл.точки в треке, а затем переводим в объект geopandas со стобцом геометрии 'LineString' (для удобного отображения на карте)\n",
    "    print('calc_distance mr_id {0} : geometry'.format(mr_id))\n",
    "    track_data['rd_long_to'] = track_data['long']\n",
    "    track_data['rd_lat_to'] = track_data['lat']\n",
    "    track_data = gpd.GeoDataFrame(track_data, \n",
    "                     geometry = [LineString(xy) for xy in zip([Point(xy) for xy in zip(track_data['long'], track_data['lat'])], \n",
    "                                                              [Point(xy) for xy in zip(track_data['rd_long_to'], track_data['rd_lat_to'])])])\n",
    "    \n",
    "    # Объединяем таблицу с треками с таблицей последовательности остановок (каждую точку трека с каждой остановкой в рамках одного маршрута)\n",
    "    print('calc_distance mr_id {0} : merge'.format(mr_id))\n",
    "    df_cartesian = stop_data.merge(track_data, on = 'mr_id', how = 'outer')\n",
    "    df_cartesian = df_cartesian[['mr_id','rl_id','rc_orderby','ssId','tr_id','timenav','geometry','lat','long','ss_lat','ss_long','tabelnum']]\n",
    "    df_cartesian['len'] = 0\n",
    "    \n",
    "    # Запускаем расчёт расстояний между всеми точками трека\n",
    "    df_len = pd.DataFrame()\n",
    "    #split_list = split_dataframe(df_cartesian, 100000)\n",
    "    i = 0\n",
    "    # на какое количество частей разбиваем таблицу\n",
    "    cnt = 1000\n",
    "    print('calc_distance mr_id {0} : haversine'.format(mr_id))\n",
    "    for df in np.array_split(df_cartesian, cnt):\n",
    "        print('calc_distance mr_id {0} : current {1}...{2}'.format(mr_id, i, cnt))\n",
    "        df['len'] = df.apply(lambda row: haversine(row.long, row.lat, row.ss_long, row.ss_lat), axis = 1)\n",
    "        df_len = df_len.append(df, ignore_index=True)\n",
    "        i += 1\n",
    "        \n",
    "    df_cartesian = df_len\n",
    "    del df_len\n",
    "    # Сохраняем csv для перехода расчётов в Perl c нужными нам полями:\n",
    "    # mr_id - идентификатор маршрута,\n",
    "    # rl_id - идентификатор направления, на котором сидит остановка Х\n",
    "    # rc_orderby - порядковый номер остановки Х на направлении rl_id маршрута mr_id\n",
    "    # ssId - уникальный идентификатор остановки Х\n",
    "    # tr_id - уникальный идентификатор транспортного средства\n",
    "    # timenav - время записи точки трека\n",
    "    # len - расстояние от точки трека до остановки Х\n",
    "    # geometry - поле Linestring для отрисовки трека\n",
    "    # ss_lat - широта точки трека\n",
    "    # ss_long - долгота точки трека\n",
    "    # tabelnum - табельный номер\n",
    "    # number_circle - посл. номер поездки от одной конечки до другой на конкретном tr_id (сейчас везде =1)\n",
    "    df_cartesian = df_cartesian[['mr_id','rl_id','rc_orderby','ssId','tr_id','timenav','len','geometry','ss_lat','ss_long','tabelnum']]\n",
    "    df_cartesian['number_circle'] = 1\n",
    "    df_cartesian_sort = df_cartesian[df_cartesian['len'] < delta_distance].sort_values(by=['mr_id','tr_id','timenav','len'])\n",
    "    df_cartesian_sort.to_csv('for_perl_mr_id_{0}_2019_10_17.csv'.format(str(mr_id)), sep=\";\", header = True, index = False)\n",
    "    \n",
    "    end_time = time.time()\n",
    "\n",
    "    if end_time - time_ < 1:\n",
    "        time.sleep(2)\n",
    "    return 1"
   ]
  },
  {
   "cell_type": "code",
   "execution_count": 4,
   "metadata": {},
   "outputs": [],
   "source": [
    "def merge___(path):\n",
    "    \"\"\"объединение всех файликов\"\"\"\n",
    "    files = [f for f in os.listdir(path) if 'for_perl_mr_id_' in f]\n",
    "    with open(path + 'for_perl.csv', 'a') as f:\n",
    "        for file in files:\n",
    "            try:\n",
    "                with open(path + file, 'r') as t:\n",
    "                    f.write(t.read())\n",
    "            except:\n",
    "                continue\n",
    "    print('объединение закончено')\n",
    "    return"
   ]
  },
  {
   "cell_type": "code",
   "execution_count": 7,
   "metadata": {},
   "outputs": [
    {
     "name": "stdout",
     "output_type": "stream",
     "text": [
      "2019-10-16_s2_4.csv\n"
     ]
    },
    {
     "name": "stderr",
     "output_type": "stream",
     "text": [
      "C:\\Users\\user\\anaconda3\\lib\\site-packages\\IPython\\core\\interactiveshell.py:3071: DtypeWarning: Columns (2) have mixed types.Specify dtype option on import or set low_memory=False.\n",
      "  has_raised = await self.run_ast_nodes(code_ast.body, cell_name,\n"
     ]
    },
    {
     "name": "stdout",
     "output_type": "stream",
     "text": [
      "2019-10-16_s3_4.csv\n",
      "2019-10-16_s5_4.csv\n",
      "2019-10-16_s6_4.csv\n",
      "2019-10-16_s7_4.csv\n"
     ]
    }
   ],
   "source": [
    "path = './data/oct/16/'\n",
    "# Cчитываем файлы, содержащие треки за какое-то одно число\n",
    "files = [f for f in os.listdir(path) if '_4.csv' in f]\n",
    "\n",
    "df_4 = pd.DataFrame()\n",
    "for file in files:\n",
    "    print(file)\n",
    "    m = pd.read_csv(path + file, sep = '\\t', encoding='windows-1251')\n",
    "    df_4 = df_4.append(m, ignore_index = True)\n",
    "    del m"
   ]
  },
  {
   "cell_type": "code",
   "execution_count": 9,
   "metadata": {},
   "outputs": [],
   "source": [
    "# Считываем файл с последовательным списком остановок на маршрутах ('stop_seq.csv')\n",
    "stop_seq = pd.read_csv(path + 'stop_seq.csv', sep = ';', encoding = 'utf8')\n",
    "stop_seq = stop_seq.sort_values(['mr_id', 'rl_id', 'rc_orderby']).drop_duplicates().reset_index(drop = True)"
   ]
  },
  {
   "cell_type": "code",
   "execution_count": null,
   "metadata": {},
   "outputs": [],
   "source": []
  },
  {
   "cell_type": "code",
   "execution_count": null,
   "metadata": {},
   "outputs": [],
   "source": []
  },
  {
   "cell_type": "code",
   "execution_count": null,
   "metadata": {},
   "outputs": [],
   "source": [
    "\n",
    "# Список маршуртов, для которых есть валидации\n",
    "#Samara_mr_id_marsh_valid_id = pd.read_csv(path + 'Samara_mr_id_marsh_valid_id_ for_research_2.csv', sep = ';', encoding = 'utf8')\n",
    "\n",
    "#marsh = Samara_mr_id_marsh_valid_id['mr_id'].unique()\n",
    "#print(marsh)\n",
    "marsh = stop_seq['mr_id'].unique()\n",
    "\n",
    "# =============================================================================\n",
    "# Вызов с потоками\n",
    "# =============================================================================\n",
    "thread = 0\n",
    "for mr_id in marsh:\n",
    "    print(mr_id)\n",
    "    # расчет порциями по 10 потоков\n",
    "#    if (thread >= 0) and (thread < 10):\n",
    "    if (thread >= 0) and (thread < 100):\n",
    "        if __name__ == '__main__':\n",
    "            time.sleep(3)\n",
    "            df_4_small = df_4[df_4['mr_id'] == mr_id].reset_index(drop=True)\n",
    "            stop_seq_small = stop_seq[stop_seq['mr_id'] == mr_id].reset_index(drop=True)\n",
    "            \n",
    "            process = Thread(target=calc_distance, args=[df_4_small, stop_seq_small, mr_id])\n",
    "            process.start()\n",
    "    thread += 1"
   ]
  }
 ],
 "metadata": {
  "kernelspec": {
   "display_name": "Python 3",
   "language": "python",
   "name": "python3"
  },
  "language_info": {
   "codemirror_mode": {
    "name": "ipython",
    "version": 3
   },
   "file_extension": ".py",
   "mimetype": "text/x-python",
   "name": "python",
   "nbconvert_exporter": "python",
   "pygments_lexer": "ipython3",
   "version": "3.8.3"
  }
 },
 "nbformat": 4,
 "nbformat_minor": 4
}
