{
 "cells": [
  {
   "cell_type": "code",
   "execution_count": 2,
   "metadata": {},
   "outputs": [
    {
     "ename": "ModuleNotFoundError",
     "evalue": "No module named 'descartes'",
     "output_type": "error",
     "traceback": [
      "\u001b[1;31m---------------------------------------------------------------------------\u001b[0m",
      "\u001b[1;31mModuleNotFoundError\u001b[0m                       Traceback (most recent call last)",
      "\u001b[1;32m<ipython-input-2-43500b9eca7c>\u001b[0m in \u001b[0;36m<module>\u001b[1;34m\u001b[0m\n\u001b[0;32m      1\u001b[0m \u001b[1;32mimport\u001b[0m \u001b[0mpandas\u001b[0m \u001b[1;32mas\u001b[0m \u001b[0mpd\u001b[0m\u001b[1;33m\u001b[0m\u001b[1;33m\u001b[0m\u001b[0m\n\u001b[0;32m      2\u001b[0m \u001b[1;32mimport\u001b[0m \u001b[0msys\u001b[0m\u001b[1;33m;\u001b[0m \u001b[0msys\u001b[0m\u001b[1;33m.\u001b[0m\u001b[0mpath\u001b[0m\u001b[1;33m\u001b[0m\u001b[1;33m\u001b[0m\u001b[0m\n\u001b[1;32m----> 3\u001b[1;33m \u001b[1;32mimport\u001b[0m \u001b[0mdescartes\u001b[0m\u001b[1;33m\u001b[0m\u001b[1;33m\u001b[0m\u001b[0m\n\u001b[0m\u001b[0;32m      4\u001b[0m \u001b[1;32mimport\u001b[0m \u001b[0mgeopandas\u001b[0m \u001b[1;32mas\u001b[0m \u001b[0mgpd\u001b[0m\u001b[1;33m\u001b[0m\u001b[1;33m\u001b[0m\u001b[0m\n\u001b[0;32m      5\u001b[0m \u001b[1;32mimport\u001b[0m \u001b[0mmatplotlib\u001b[0m\u001b[1;33m.\u001b[0m\u001b[0mpyplot\u001b[0m \u001b[1;32mas\u001b[0m \u001b[0mplt\u001b[0m\u001b[1;33m\u001b[0m\u001b[1;33m\u001b[0m\u001b[0m\n",
      "\u001b[1;31mModuleNotFoundError\u001b[0m: No module named 'descartes'"
     ]
    }
   ],
   "source": [
    "import pandas as pd\n",
    "import sys; sys.path\n",
    "import descartes\n",
    "import geopandas as gpd\n",
    "import matplotlib.pyplot as plt \n",
    "import numpy as np\n",
    "import datetime as dt\n",
    "import sys\n",
    "from shapely.geometry import Point, Polygon\n",
    "from geopandas import GeoDataFrame\n",
    "from geopandas.tools import sjoin, overlay\n",
    "from datetime import datetime, date, time\n",
    "import os\n",
    "BEGIN = dt.datetime(2020, 8, 23)\n",
    "STOPS_BUFFER=0.0005\n",
    "START_TRIP_DISTANCE_PRODUCT=0.0001\n",
    "#%matplotlib linline"
   ]
  },
  {
   "cell_type": "code",
   "execution_count": 22,
   "metadata": {},
   "outputs": [],
   "source": [
    "###УБЕРАЕМ ИЗ ТАБЛИЦЫ 7 ЛИШНИЕ МАРШРУТЫ (КОТОРЫХ НЕТ В ТРЭКАХ)\n",
    "path = '.\\\\data\\\\'\n",
    "stops = pd.read_csv(path+'stop_seq.csv', sep = ';', encoding='utf-8')"
   ]
  },
  {
   "cell_type": "code",
   "execution_count": 23,
   "metadata": {},
   "outputs": [
    {
     "data": {
      "text/html": [
       "<div>\n",
       "<style scoped>\n",
       "    .dataframe tbody tr th:only-of-type {\n",
       "        vertical-align: middle;\n",
       "    }\n",
       "\n",
       "    .dataframe tbody tr th {\n",
       "        vertical-align: top;\n",
       "    }\n",
       "\n",
       "    .dataframe thead th {\n",
       "        text-align: right;\n",
       "    }\n",
       "</style>\n",
       "<table border=\"1\" class=\"dataframe\">\n",
       "  <thead>\n",
       "    <tr style=\"text-align: right;\">\n",
       "      <th></th>\n",
       "      <th>mr_id</th>\n",
       "      <th>rc_id</th>\n",
       "      <th>rl_id</th>\n",
       "      <th>ssId</th>\n",
       "      <th>rc_orderby</th>\n",
       "      <th>ss_lat</th>\n",
       "      <th>ss_long</th>\n",
       "      <th>is_main</th>\n",
       "      <th>Dir</th>\n",
       "    </tr>\n",
       "  </thead>\n",
       "  <tbody>\n",
       "    <tr>\n",
       "      <th>0</th>\n",
       "      <td>17</td>\n",
       "      <td>7596601</td>\n",
       "      <td>75966</td>\n",
       "      <td>2079</td>\n",
       "      <td>1</td>\n",
       "      <td>53.185644</td>\n",
       "      <td>50.099016</td>\n",
       "      <td>1</td>\n",
       "      <td>0</td>\n",
       "    </tr>\n",
       "    <tr>\n",
       "      <th>1</th>\n",
       "      <td>17</td>\n",
       "      <td>7596602</td>\n",
       "      <td>75966</td>\n",
       "      <td>1159</td>\n",
       "      <td>2</td>\n",
       "      <td>53.186512</td>\n",
       "      <td>50.098602</td>\n",
       "      <td>1</td>\n",
       "      <td>0</td>\n",
       "    </tr>\n",
       "    <tr>\n",
       "      <th>2</th>\n",
       "      <td>17</td>\n",
       "      <td>7596603</td>\n",
       "      <td>75966</td>\n",
       "      <td>349</td>\n",
       "      <td>3</td>\n",
       "      <td>53.189191</td>\n",
       "      <td>50.102945</td>\n",
       "      <td>1</td>\n",
       "      <td>0</td>\n",
       "    </tr>\n",
       "    <tr>\n",
       "      <th>3</th>\n",
       "      <td>17</td>\n",
       "      <td>7596604</td>\n",
       "      <td>75966</td>\n",
       "      <td>350</td>\n",
       "      <td>4</td>\n",
       "      <td>53.191903</td>\n",
       "      <td>50.104823</td>\n",
       "      <td>1</td>\n",
       "      <td>0</td>\n",
       "    </tr>\n",
       "    <tr>\n",
       "      <th>4</th>\n",
       "      <td>17</td>\n",
       "      <td>7596605</td>\n",
       "      <td>75966</td>\n",
       "      <td>351</td>\n",
       "      <td>5</td>\n",
       "      <td>53.197004</td>\n",
       "      <td>50.108299</td>\n",
       "      <td>1</td>\n",
       "      <td>0</td>\n",
       "    </tr>\n",
       "  </tbody>\n",
       "</table>\n",
       "</div>"
      ],
      "text/plain": [
       "   mr_id    rc_id  rl_id  ssId  rc_orderby     ss_lat    ss_long  is_main  Dir\n",
       "0     17  7596601  75966  2079           1  53.185644  50.099016        1    0\n",
       "1     17  7596602  75966  1159           2  53.186512  50.098602        1    0\n",
       "2     17  7596603  75966   349           3  53.189191  50.102945        1    0\n",
       "3     17  7596604  75966   350           4  53.191903  50.104823        1    0\n",
       "4     17  7596605  75966   351           5  53.197004  50.108299        1    0"
      ]
     },
     "execution_count": 23,
     "metadata": {},
     "output_type": "execute_result"
    }
   ],
   "source": [
    "table7.head()"
   ]
  },
  {
   "cell_type": "code",
   "execution_count": 24,
   "metadata": {
    "scrolled": true
   },
   "outputs": [
    {
     "name": "stderr",
     "output_type": "stream",
     "text": [
      "C:\\Users\\makol\\Anaconda3\\lib\\site-packages\\pyproj\\crs\\crs.py:53: FutureWarning: '+init=<authority>:<code>' syntax is deprecated. '<authority>:<code>' is the preferred initialization method. When making the change, be mindful of axis order changes: https://pyproj4.github.io/pyproj/stable/gotchas.html#axis-order-changes-in-proj-6\n",
      "  return _prepare_from_string(\" \".join(pjargs))\n"
     ]
    }
   ],
   "source": [
    "geometry = [Point(xy).buffer(STOPS_BUFFER) for xy in zip(stops['ss_long'], stops['ss_lat'])]         \n",
    "crs = {'init': 'epsg:4326'}\n",
    "stops_gpd = gpd.GeoDataFrame(stops, crs=crs, geometry=geometry).drop(['ss_long', 'ss_lat'], axis=1)\n",
    "#-!!!-Без диссолва тоже работает, но не понятно как быстрее\n",
    "stops_gpd=stops_gpd.dissolve(by='mr_id')"
   ]
  },
  {
   "cell_type": "code",
   "execution_count": 26,
   "metadata": {},
   "outputs": [
    {
     "name": "stderr",
     "output_type": "stream",
     "text": [
      "C:\\Users\\makol\\Anaconda3\\lib\\site-packages\\pyproj\\crs\\crs.py:53: FutureWarning: '+init=<authority>:<code>' syntax is deprecated. '<authority>:<code>' is the preferred initialization method. When making the change, be mindful of axis order changes: https://pyproj4.github.io/pyproj/stable/gotchas.html#axis-order-changes-in-proj-6\n",
      "  return _prepare_from_string(\" \".join(pjargs))\n"
     ]
    },
    {
     "data": {
      "text/plain": [
       "<matplotlib.axes._subplots.AxesSubplot at 0x24f97aeaf48>"
      ]
     },
     "execution_count": 26,
     "metadata": {},
     "output_type": "execute_result"
    },
    {
     "data": {
      "image/png": "[encoded data removed]",
      "text/plain": [
       "<Figure size 432x288 with 1 Axes>"
      ]
     },
     "metadata": {
      "needs_background": "light"
     },
     "output_type": "display_data"
    }
   ],
   "source": [
    "        ### ТУТ ПОБОЛЬШЕ РАДИУС КРУЖКОВ ВОКРУГ ОСТАНОВОК ЧТОБЫ РИСОВАТЬ И БЫЛО ВИДНО\n",
    "        geometry = [Point(xy).buffer(5*STOPS_BUFFER) for xy in zip(stops['ss_long'], stops['ss_lat'])]         \n",
    "        stops_gpd_DLYA_RISOVANIYA = gpd.GeoDataFrame(stops, crs=crs, geometry=geometry).drop(['ss_long', 'ss_lat'], axis=1)         \n",
    "        stops_gpd_DLYA_RISOVANIYA.plot(column='mr_id')"
   ]
  },
  {
   "cell_type": "code",
   "execution_count": 27,
   "metadata": {},
   "outputs": [],
   "source": [
    "files = [f for f in os.listdir(path) if \"_4.csv\" in f]"
   ]
  },
  {
   "cell_type": "code",
   "execution_count": 28,
   "metadata": {},
   "outputs": [
    {
     "data": {
      "text/plain": [
       "['2020-08-03_s2_4.csv',\n",
       " '2020-08-03_s3_4.csv',\n",
       " '2020-08-03_s5_4.csv',\n",
       " '2020-08-03_s6_4.csv',\n",
       " '2020-08-03_s7_4.csv']"
      ]
     },
     "execution_count": 28,
     "metadata": {},
     "output_type": "execute_result"
    }
   ],
   "source": [
    "files"
   ]
  },
  {
   "cell_type": "code",
   "execution_count": 30,
   "metadata": {},
   "outputs": [
    {
     "name": "stderr",
     "output_type": "stream",
     "text": [
      "C:\\Users\\makol\\Anaconda3\\lib\\site-packages\\IPython\\core\\interactiveshell.py:3058: DtypeWarning: Columns (2) have mixed types.Specify dtype option on import or set low_memory=False.\n",
      "  interactivity=interactivity, compiler=compiler, result=result)\n"
     ]
    }
   ],
   "source": [
    "tracks=pd.DataFrame()\n",
    "for file in files:\n",
    "    m = pd.read_csv(path+file, sep = '\\t', encoding='windows-1251')\n",
    "    tracks=tracks.append(m,ignore_index=True)\n",
    "    del m"
   ]
  },
  {
   "cell_type": "code",
   "execution_count": 31,
   "metadata": {},
   "outputs": [
    {
     "data": {
      "text/html": [
       "<div>\n",
       "<style scoped>\n",
       "    .dataframe tbody tr th:only-of-type {\n",
       "        vertical-align: middle;\n",
       "    }\n",
       "\n",
       "    .dataframe tbody tr th {\n",
       "        vertical-align: top;\n",
       "    }\n",
       "\n",
       "    .dataframe thead th {\n",
       "        text-align: right;\n",
       "    }\n",
       "</style>\n",
       "<table border=\"1\" class=\"dataframe\">\n",
       "  <thead>\n",
       "    <tr style=\"text-align: right;\">\n",
       "      <th></th>\n",
       "      <th>tr_id</th>\n",
       "      <th>mr_id</th>\n",
       "      <th>mr_name</th>\n",
       "      <th>graph</th>\n",
       "      <th>tabelnum</th>\n",
       "      <th>condnum</th>\n",
       "      <th>timenav</th>\n",
       "      <th>long</th>\n",
       "      <th>lat</th>\n",
       "      <th>speed</th>\n",
       "      <th>mark</th>\n",
       "    </tr>\n",
       "  </thead>\n",
       "  <tbody>\n",
       "    <tr>\n",
       "      <th>0</th>\n",
       "      <td>200000005</td>\n",
       "      <td>105</td>\n",
       "      <td>48д</td>\n",
       "      <td>16</td>\n",
       "      <td>0</td>\n",
       "      <td>0</td>\n",
       "      <td>2020-08-03 08:08:35</td>\n",
       "      <td>50.105748</td>\n",
       "      <td>53.183607</td>\n",
       "      <td>0</td>\n",
       "      <td>0</td>\n",
       "    </tr>\n",
       "    <tr>\n",
       "      <th>1</th>\n",
       "      <td>200000005</td>\n",
       "      <td>105</td>\n",
       "      <td>48д</td>\n",
       "      <td>16</td>\n",
       "      <td>0</td>\n",
       "      <td>0</td>\n",
       "      <td>2020-08-03 08:09:08</td>\n",
       "      <td>50.107532</td>\n",
       "      <td>53.185437</td>\n",
       "      <td>0</td>\n",
       "      <td>0</td>\n",
       "    </tr>\n",
       "    <tr>\n",
       "      <th>2</th>\n",
       "      <td>200000005</td>\n",
       "      <td>105</td>\n",
       "      <td>48д</td>\n",
       "      <td>16</td>\n",
       "      <td>0</td>\n",
       "      <td>0</td>\n",
       "      <td>2020-08-03 08:09:35</td>\n",
       "      <td>50.109833</td>\n",
       "      <td>53.187788</td>\n",
       "      <td>0</td>\n",
       "      <td>0</td>\n",
       "    </tr>\n",
       "    <tr>\n",
       "      <th>3</th>\n",
       "      <td>200000005</td>\n",
       "      <td>105</td>\n",
       "      <td>48д</td>\n",
       "      <td>16</td>\n",
       "      <td>0</td>\n",
       "      <td>0</td>\n",
       "      <td>2020-08-03 08:10:07</td>\n",
       "      <td>50.111470</td>\n",
       "      <td>53.188135</td>\n",
       "      <td>0</td>\n",
       "      <td>0</td>\n",
       "    </tr>\n",
       "    <tr>\n",
       "      <th>4</th>\n",
       "      <td>200000005</td>\n",
       "      <td>105</td>\n",
       "      <td>48д</td>\n",
       "      <td>16</td>\n",
       "      <td>0</td>\n",
       "      <td>0</td>\n",
       "      <td>2020-08-03 08:10:36</td>\n",
       "      <td>50.114563</td>\n",
       "      <td>53.187878</td>\n",
       "      <td>0</td>\n",
       "      <td>0</td>\n",
       "    </tr>\n",
       "  </tbody>\n",
       "</table>\n",
       "</div>"
      ],
      "text/plain": [
       "       tr_id  mr_id mr_name  graph  tabelnum  condnum              timenav  \\\n",
       "0  200000005    105     48д     16         0        0  2020-08-03 08:08:35   \n",
       "1  200000005    105     48д     16         0        0  2020-08-03 08:09:08   \n",
       "2  200000005    105     48д     16         0        0  2020-08-03 08:09:35   \n",
       "3  200000005    105     48д     16         0        0  2020-08-03 08:10:07   \n",
       "4  200000005    105     48д     16         0        0  2020-08-03 08:10:36   \n",
       "\n",
       "        long        lat  speed  mark  \n",
       "0  50.105748  53.183607      0     0  \n",
       "1  50.107532  53.185437      0     0  \n",
       "2  50.109833  53.187788      0     0  \n",
       "3  50.111470  53.188135      0     0  \n",
       "4  50.114563  53.187878      0     0  "
      ]
     },
     "execution_count": 31,
     "metadata": {},
     "output_type": "execute_result"
    }
   ],
   "source": [
    "tracks.head()"
   ]
  },
  {
   "cell_type": "code",
   "execution_count": null,
   "metadata": {},
   "outputs": [],
   "source": [
    "geometry = [Point(xy) for xy in zip(tracks['long'], tracks['lat'])] \n",
    "crs = {'init': 'epsg:4326'}\n",
    "tracks_gpd = gpd.GeoDataFrame(tracks, crs=crs, geometry=geometry).drop(['long', 'lat'], axis=1)\n",
    "tracks_gpd.plot(markersize=1,column='mr_id')"
   ]
  },
  {
   "cell_type": "code",
   "execution_count": 1,
   "metadata": {},
   "outputs": [
    {
     "ename": "NameError",
     "evalue": "name 'tracks_gpd' is not defined",
     "output_type": "error",
     "traceback": [
      "\u001b[1;31m---------------------------------------------------------------------------\u001b[0m",
      "\u001b[1;31mNameError\u001b[0m                                 Traceback (most recent call last)",
      "\u001b[1;32m<ipython-input-1-2cd82fae48b2>\u001b[0m in \u001b[0;36m<module>\u001b[1;34m\u001b[0m\n\u001b[0;32m      1\u001b[0m \u001b[1;31m#-!!!-C диссолвом\u001b[0m\u001b[1;33m\u001b[0m\u001b[1;33m\u001b[0m\u001b[1;33m\u001b[0m\u001b[0m\n\u001b[1;32m----> 2\u001b[1;33m tracks_gpd=tracks_gpd.groupby('mr_id').apply( lambda track_: \n\u001b[0m\u001b[0;32m      3\u001b[0m     gpd.sjoin(track_, \n\u001b[0;32m      4\u001b[0m         gpd.GeoDataFrame(stops_gpd[stops_gpd.index==track_.name],\n\u001b[0;32m      5\u001b[0m                 \u001b[0mcrs\u001b[0m\u001b[1;33m=\u001b[0m\u001b[0mcrs\u001b[0m\u001b[1;33m,\u001b[0m\u001b[1;33m\u001b[0m\u001b[1;33m\u001b[0m\u001b[0m\n",
      "\u001b[1;31mNameError\u001b[0m: name 'tracks_gpd' is not defined"
     ]
    }
   ],
   "source": [
    "#-!!!-C диссолвом\n",
    "tracks_gpd=tracks_gpd.groupby('mr_id').apply( lambda track_: \n",
    "    gpd.sjoin(track_, \n",
    "        gpd.GeoDataFrame(stops_gpd[stops_gpd.index==track_.name],\n",
    "                crs=crs, \n",
    "                geometry='geometry'), \n",
    "        op='within').rename(columns={\"mr_id_left\":\"mr_id\"}).drop(columns=['index_right'])) \n",
    "tracks_gpd=tracks_gpd[~tracks_gpd.index.duplicated(keep='first')].sort_index()\n",
    "tracks_gpd.plot(markersize=1,column='mr_id')\n",
    "#-!!!-C диссолвом"
   ]
  },
  {
   "cell_type": "code",
   "execution_count": null,
   "metadata": {},
   "outputs": [],
   "source": []
  }
 ],
 "metadata": {
  "kernelspec": {
   "display_name": "Python 3",
   "language": "python",
   "name": "python3"
  },
  "language_info": {
   "codemirror_mode": {
    "name": "ipython",
    "version": 3
   },
   "file_extension": ".py",
   "mimetype": "text/x-python",
   "name": "python",
   "nbconvert_exporter": "python",
   "pygments_lexer": "ipython3",
   "version": "3.8.3"
  }
 },
 "nbformat": 4,
 "nbformat_minor": 2
}
