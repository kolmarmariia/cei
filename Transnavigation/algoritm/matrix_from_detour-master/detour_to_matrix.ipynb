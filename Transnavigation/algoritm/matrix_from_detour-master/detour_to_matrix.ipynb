{
 "cells": [
  {
   "cell_type": "code",
   "execution_count": 15,
   "metadata": {
    "ExecuteTime": {
     "end_time": "2018-03-22T14:28:20.049693",
     "start_time": "2018-03-22T14:28:20.034068"
    },
    "collapsed": true
   },
   "outputs": [],
   "source": [
    "# В блокноте производится предобработка исходных данных асмпп по одному мвн.\n",
    "\n",
    "# Предобработка заключается в следующем:\n",
    "# 1. Выделение в исходных данных отдельных рейсов.\n",
    "# 2. Выделение всех возможных вариантов поостановочной трассы.\n",
    "# 3. Разделение по временным периодам. Выделены следующие категории временных периодов:\n",
    "#    - раб/вых -- разделение в соответсвии со справочником рабочих дней;\n",
    "#    - лето/зима -- лето: с 1 мая по 30 сентября, зима с 1 октября по 30 апреля (можно менять);\n",
    "#    - час суток (\"ЧЧ:ММ-ЧЧ:ММ\") -- привязка рейса к часу суток осуществляется по времени прибытия на первый о.п. трассы\n",
    "#    Временной период задается строкой вида <сезон>-<тип дня>-<час суток>, например, \"лето-раб-08:00-08:59\"\n",
    "# 3. Вычисление числа рейсов по каждому варианту поостановочной трассы в указанный временной период.\n",
    "# 4. Вычисление посадки-высадки среднего рейса.\n",
    "# \n",
    "# В результате создается набор таблиц, содержащих следующие сведения:\n",
    "# 1. Таблица inout -- посадка-высадка:\n",
    "#    - mvn -- название мвн;\n",
    "#    - trace_id -- идентификационный номер варианта поостановочной трассы (см. табл. traces);\n",
    "#    - period_type -- тип временного периодов;\n",
    "#    - stop_sequence -- порядковый номер о.п.;\n",
    "#    - stop_id -- идентификационный номер о.п.;\n",
    "#    - stop_name -- наименование о.п.;\n",
    "#    - pass_in -- посадка;\n",
    "#    - pass_out -- высадка.\n",
    "# 2. Таблица traces -- варианты поостановочных трасс:\n",
    "#    - trace_id -- идентификационный номер варианта поостановочной трассы;\n",
    "#    - n_races -- общее число рейсов в исходных данных асмпп;\n",
    "#    - date_first -- дата начала первого рейса в исходных данных асмпп;\n",
    "#    - date_last -- дата начала последнего рейса в исходных данных асмпп;\n",
    "#    - flag -- флаг использования данных о посаждке-высадке для построения маршрутной матрицы (1 -- используется);\n",
    "#    - trip_id -- перечень через запятую trip_id имеющих указанную поостановочную трассу;\n",
    "#    - trace -- поостановочная трасса составленная из последовательного перечня \"<stop_sequence>-<stop_id>\", разделенного \",\\n\".\n",
    "# 3. Таблица nraces -- число рейсов по типам временных интервалов:\n",
    "#    - первые три поля -- категории типов временных периодов:\n",
    "#      - season -- лето/зима\n",
    "#      - workday -- раб/вых\n",
    "#      - time -- час суток\n",
    "#    - остальные поля таблицы -- варианты поостановочной трассы мвн, в названии поля указан trace_id (см. табл. traces);\n",
    "#    - значения -- число рейсов в исходных данных асмпп.\n",
    "# 4. Таблица pass -- число перевезенных пассажиров в среднем рейсе по типам временных интервалов:\n",
    "#    - первые три поля -- категории типов временных периодов:\n",
    "#      - season -- лето/зима\n",
    "#      - workday -- раб/вых\n",
    "#      - time -- час суток\n",
    "#    - остальные поля таблицы -- варианты поостановочной трассы мвн, в названии поля указан trace_id (см. табл. traces);\n",
    "#    - значения -- число пассажиров в среднем рейсе асмпп в формате \"<среднее число пассажиров> ± <ср. кв. откл.>\".\n",
    "#\n"
   ]
  },
  {
   "cell_type": "code",
   "execution_count": 16,
   "metadata": {
    "ExecuteTime": {
     "end_time": "2018-03-22T14:28:20.065305",
     "start_time": "2018-03-22T14:28:20.049693"
    }
   },
   "outputs": [
    {
     "name": "stdout",
     "output_type": "stream",
     "text": [
      "The iimport extension is already loaded. To reload it, use:\n",
      "  %reload_ext iimport\n"
     ]
    }
   ],
   "source": [
    "import os\n",
    "import sys\n",
    "sys._enablelegacywindowsfsencoding()\n",
    "import numpy as np\n",
    "import pandas as pd\n",
    "%load_ext iimport"
   ]
  },
  {
   "cell_type": "code",
   "execution_count": 17,
   "metadata": {
    "ExecuteTime": {
     "end_time": "2018-03-22T14:28:20.080933",
     "start_time": "2018-03-22T14:28:20.065305"
    },
    "collapsed": true
   },
   "outputs": [],
   "source": [
    "args = {\n",
    "    # директория с исходными данными асмпп\n",
    "    'source' : 'C:/Users/poletaev_im/Correspondence-Lipetsk/result/1-Обратное(37)-вечер.csv',\n",
    "    # справочник выходных и рабочих дней\n",
    "    'workdays' : 'C:/Users/poletaev_im/ASM PP/workdays.csv',\n",
    "    # задаем сезоны ММ.ДД-ММ.ДД\n",
    "    'summer' : '05.01-09.30',\n",
    "    'winter' : '10.01-04.30',\n",
    "    # задаем список границ временных интервалов в формате [\"ЧЧ:ММ\", \"ЧЧ:ММ\",..., \"ЧЧ:ММ\"]\n",
    "    'time' : ['00:00','01:00','02:00','03:00','04:00','05:00','06:00','07:00','08:00','09:00','10:00','11:00',\n",
    "              '12:00','13:00','14:00','15:00','16:00','17:00','18:00','19:00','20:00','21:00','22:00','23:00'],\n",
    "    \n",
    "    # директория с результатами работы\n",
    "    'results' : 'C:/Users/poletaev_im/Correspondence-Lipetsk/result/обработаные/',\n",
    "}"
   ]
  },
  {
   "cell_type": "code",
   "execution_count": 18,
   "metadata": {
    "ExecuteTime": {
     "end_time": "2018-03-22T14:28:20.157710",
     "start_time": "2018-03-22T14:28:20.080933"
    },
    "collapsed": true
   },
   "outputs": [],
   "source": [
    "%def main(args):"
   ]
  },
  {
   "cell_type": "code",
   "execution_count": 19,
   "metadata": {
    "ExecuteTime": {
     "end_time": "2018-03-22T14:28:20.190509",
     "start_time": "2018-03-22T14:28:20.157710"
    },
    "collapsed": true
   },
   "outputs": [],
   "source": [
    "# справочник рабочих дней\n",
    "df_workdays = pd.read_csv(args['workdays'], sep=';', date_parser=True)\n",
    "df_workdays['dt'] = pd.to_datetime(df_workdays.dt, format=\"%d.%m.%Y\")\n",
    "df_workdays['date'] = df_workdays.dt.dt.date\n",
    "df_workdays.replace({'workday':{0:'вых',1:'раб'}}, inplace=True)"
   ]
  },
  {
   "cell_type": "code",
   "execution_count": 20,
   "metadata": {
    "ExecuteTime": {
     "end_time": "2018-03-22T14:28:20.197935",
     "start_time": "2018-03-22T14:28:20.193933"
    },
    "collapsed": true
   },
   "outputs": [],
   "source": [
    "mvn = args['source'].split('/')[-1][:-4]"
   ]
  },
  {
   "cell_type": "code",
   "execution_count": 21,
   "metadata": {
    "ExecuteTime": {
     "end_time": "2018-03-22T14:56:01.615621",
     "start_time": "2018-03-22T14:56:01.584358"
    }
   },
   "outputs": [],
   "source": [
    "# загружаем данные асмпп по одному мвн\n",
    "df_asmpp = pd.read_csv(args['source'], sep=';', encoding='cp1251')\n",
    "# убираем записи имеющие некорректную дату\n",
    "#df_asmpp = df_asmpp.query('fact_trip_date' > '20100101')"
   ]
  },
  {
   "cell_type": "code",
   "execution_count": 22,
   "metadata": {},
   "outputs": [
    {
     "data": {
      "text/html": [
       "<div>\n",
       "<style scoped>\n",
       "    .dataframe tbody tr th:only-of-type {\n",
       "        vertical-align: middle;\n",
       "    }\n",
       "\n",
       "    .dataframe tbody tr th {\n",
       "        vertical-align: top;\n",
       "    }\n",
       "\n",
       "    .dataframe thead th {\n",
       "        text-align: right;\n",
       "    }\n",
       "</style>\n",
       "<table border=\"1\" class=\"dataframe\">\n",
       "  <thead>\n",
       "    <tr style=\"text-align: right;\">\n",
       "      <th></th>\n",
       "      <th>route_id</th>\n",
       "      <th>trip_id</th>\n",
       "      <th>survey_id</th>\n",
       "      <th>survey_start_date</th>\n",
       "      <th>survey_end_date</th>\n",
       "      <th>stop_id</th>\n",
       "      <th>arrival_time</th>\n",
       "      <th>pass_in</th>\n",
       "      <th>pass_out</th>\n",
       "      <th>vehicle_id</th>\n",
       "      <th>grafic</th>\n",
       "      <th>trip_num</th>\n",
       "      <th>stop_sequence</th>\n",
       "      <th>fact_trip_date</th>\n",
       "      <th>stop_name</th>\n",
       "      <th>mvn</th>\n",
       "    </tr>\n",
       "  </thead>\n",
       "  <tbody>\n",
       "    <tr>\n",
       "      <th>0</th>\n",
       "      <td>310001</td>\n",
       "      <td>310001</td>\n",
       "      <td>310001</td>\n",
       "      <td>20180614</td>\n",
       "      <td>20180614</td>\n",
       "      <td>10231</td>\n",
       "      <td>17:01:23</td>\n",
       "      <td>13</td>\n",
       "      <td>0</td>\n",
       "      <td>310001</td>\n",
       "      <td>310001</td>\n",
       "      <td>37</td>\n",
       "      <td>1</td>\n",
       "      <td>20180614</td>\n",
       "      <td>пос. Северный Рудник</td>\n",
       "      <td>1-Обратное(37)-вечер</td>\n",
       "    </tr>\n",
       "    <tr>\n",
       "      <th>1</th>\n",
       "      <td>310001</td>\n",
       "      <td>310001</td>\n",
       "      <td>310001</td>\n",
       "      <td>20180614</td>\n",
       "      <td>20180614</td>\n",
       "      <td>10232</td>\n",
       "      <td>17:03:59</td>\n",
       "      <td>5</td>\n",
       "      <td>1</td>\n",
       "      <td>310001</td>\n",
       "      <td>310001</td>\n",
       "      <td>37</td>\n",
       "      <td>2</td>\n",
       "      <td>20180614</td>\n",
       "      <td>Северный Рудник</td>\n",
       "      <td>1-Обратное(37)-вечер</td>\n",
       "    </tr>\n",
       "    <tr>\n",
       "      <th>2</th>\n",
       "      <td>310001</td>\n",
       "      <td>310001</td>\n",
       "      <td>310001</td>\n",
       "      <td>20180614</td>\n",
       "      <td>20180614</td>\n",
       "      <td>10233</td>\n",
       "      <td>17:06:43</td>\n",
       "      <td>6</td>\n",
       "      <td>0</td>\n",
       "      <td>310001</td>\n",
       "      <td>310001</td>\n",
       "      <td>37</td>\n",
       "      <td>3</td>\n",
       "      <td>20180614</td>\n",
       "      <td>Птицефабрика Липецкая</td>\n",
       "      <td>1-Обратное(37)-вечер</td>\n",
       "    </tr>\n",
       "    <tr>\n",
       "      <th>3</th>\n",
       "      <td>310001</td>\n",
       "      <td>310001</td>\n",
       "      <td>310001</td>\n",
       "      <td>20180614</td>\n",
       "      <td>20180614</td>\n",
       "      <td>10234</td>\n",
       "      <td>17:09:27</td>\n",
       "      <td>0</td>\n",
       "      <td>0</td>\n",
       "      <td>310001</td>\n",
       "      <td>310001</td>\n",
       "      <td>37</td>\n",
       "      <td>4</td>\n",
       "      <td>20180614</td>\n",
       "      <td>Лог Сурки (по требованию)</td>\n",
       "      <td>1-Обратное(37)-вечер</td>\n",
       "    </tr>\n",
       "    <tr>\n",
       "      <th>4</th>\n",
       "      <td>310001</td>\n",
       "      <td>310001</td>\n",
       "      <td>310001</td>\n",
       "      <td>20180614</td>\n",
       "      <td>20180614</td>\n",
       "      <td>10070</td>\n",
       "      <td>17:18:53</td>\n",
       "      <td>1</td>\n",
       "      <td>1</td>\n",
       "      <td>310001</td>\n",
       "      <td>310001</td>\n",
       "      <td>37</td>\n",
       "      <td>5</td>\n",
       "      <td>20180614</td>\n",
       "      <td>Хладокомбинат</td>\n",
       "      <td>1-Обратное(37)-вечер</td>\n",
       "    </tr>\n",
       "    <tr>\n",
       "      <th>5</th>\n",
       "      <td>310001</td>\n",
       "      <td>310001</td>\n",
       "      <td>310001</td>\n",
       "      <td>20180614</td>\n",
       "      <td>20180614</td>\n",
       "      <td>10071</td>\n",
       "      <td>17:22:06</td>\n",
       "      <td>10</td>\n",
       "      <td>3</td>\n",
       "      <td>310001</td>\n",
       "      <td>310001</td>\n",
       "      <td>37</td>\n",
       "      <td>6</td>\n",
       "      <td>20180614</td>\n",
       "      <td>Липецкое станкостроительное предприятие</td>\n",
       "      <td>1-Обратное(37)-вечер</td>\n",
       "    </tr>\n",
       "    <tr>\n",
       "      <th>6</th>\n",
       "      <td>310001</td>\n",
       "      <td>310001</td>\n",
       "      <td>310001</td>\n",
       "      <td>20180614</td>\n",
       "      <td>20180614</td>\n",
       "      <td>10072</td>\n",
       "      <td>17:27:48</td>\n",
       "      <td>1</td>\n",
       "      <td>4</td>\n",
       "      <td>310001</td>\n",
       "      <td>310001</td>\n",
       "      <td>37</td>\n",
       "      <td>7</td>\n",
       "      <td>20180614</td>\n",
       "      <td>Кольцо трубного завода (ул. Гагарина)</td>\n",
       "      <td>1-Обратное(37)-вечер</td>\n",
       "    </tr>\n",
       "    <tr>\n",
       "      <th>7</th>\n",
       "      <td>310001</td>\n",
       "      <td>310001</td>\n",
       "      <td>310001</td>\n",
       "      <td>20180614</td>\n",
       "      <td>20180614</td>\n",
       "      <td>10073</td>\n",
       "      <td>17:29:30</td>\n",
       "      <td>0</td>\n",
       "      <td>0</td>\n",
       "      <td>310001</td>\n",
       "      <td>310001</td>\n",
       "      <td>37</td>\n",
       "      <td>8</td>\n",
       "      <td>20180614</td>\n",
       "      <td>Дом торговли</td>\n",
       "      <td>1-Обратное(37)-вечер</td>\n",
       "    </tr>\n",
       "    <tr>\n",
       "      <th>8</th>\n",
       "      <td>310001</td>\n",
       "      <td>310001</td>\n",
       "      <td>310001</td>\n",
       "      <td>20180614</td>\n",
       "      <td>20180614</td>\n",
       "      <td>10074</td>\n",
       "      <td>17:30:24</td>\n",
       "      <td>0</td>\n",
       "      <td>0</td>\n",
       "      <td>310001</td>\n",
       "      <td>310001</td>\n",
       "      <td>37</td>\n",
       "      <td>9</td>\n",
       "      <td>20180614</td>\n",
       "      <td>Титова</td>\n",
       "      <td>1-Обратное(37)-вечер</td>\n",
       "    </tr>\n",
       "    <tr>\n",
       "      <th>9</th>\n",
       "      <td>310001</td>\n",
       "      <td>310001</td>\n",
       "      <td>310001</td>\n",
       "      <td>20180614</td>\n",
       "      <td>20180614</td>\n",
       "      <td>10172</td>\n",
       "      <td>17:32:03</td>\n",
       "      <td>0</td>\n",
       "      <td>7</td>\n",
       "      <td>310001</td>\n",
       "      <td>310001</td>\n",
       "      <td>37</td>\n",
       "      <td>10</td>\n",
       "      <td>20180614</td>\n",
       "      <td>Ж/д вокзал (ул. Терешковой)</td>\n",
       "      <td>1-Обратное(37)-вечер</td>\n",
       "    </tr>\n",
       "    <tr>\n",
       "      <th>10</th>\n",
       "      <td>310001</td>\n",
       "      <td>310001</td>\n",
       "      <td>310001</td>\n",
       "      <td>20180614</td>\n",
       "      <td>20180614</td>\n",
       "      <td>10173</td>\n",
       "      <td>17:34:40</td>\n",
       "      <td>0</td>\n",
       "      <td>4</td>\n",
       "      <td>310001</td>\n",
       "      <td>310001</td>\n",
       "      <td>37</td>\n",
       "      <td>11</td>\n",
       "      <td>20180614</td>\n",
       "      <td>Терешковой (ул. Терешковой)</td>\n",
       "      <td>1-Обратное(37)-вечер</td>\n",
       "    </tr>\n",
       "    <tr>\n",
       "      <th>11</th>\n",
       "      <td>310001</td>\n",
       "      <td>310001</td>\n",
       "      <td>310001</td>\n",
       "      <td>20180614</td>\n",
       "      <td>20180614</td>\n",
       "      <td>10174</td>\n",
       "      <td>17:36:19</td>\n",
       "      <td>0</td>\n",
       "      <td>2</td>\n",
       "      <td>310001</td>\n",
       "      <td>310001</td>\n",
       "      <td>37</td>\n",
       "      <td>12</td>\n",
       "      <td>20180614</td>\n",
       "      <td>7-й микрорайон</td>\n",
       "      <td>1-Обратное(37)-вечер</td>\n",
       "    </tr>\n",
       "    <tr>\n",
       "      <th>12</th>\n",
       "      <td>310001</td>\n",
       "      <td>310001</td>\n",
       "      <td>310001</td>\n",
       "      <td>20180614</td>\n",
       "      <td>20180614</td>\n",
       "      <td>10175</td>\n",
       "      <td>17:40:06</td>\n",
       "      <td>0</td>\n",
       "      <td>14</td>\n",
       "      <td>310001</td>\n",
       "      <td>310001</td>\n",
       "      <td>37</td>\n",
       "      <td>13</td>\n",
       "      <td>20180614</td>\n",
       "      <td>Центральный рынок</td>\n",
       "      <td>1-Обратное(37)-вечер</td>\n",
       "    </tr>\n",
       "  </tbody>\n",
       "</table>\n",
       "</div>"
      ],
      "text/plain": [
       "    route_id  trip_id  survey_id  survey_start_date  survey_end_date  stop_id  \\\n",
       "0     310001   310001     310001           20180614         20180614    10231   \n",
       "1     310001   310001     310001           20180614         20180614    10232   \n",
       "2     310001   310001     310001           20180614         20180614    10233   \n",
       "3     310001   310001     310001           20180614         20180614    10234   \n",
       "4     310001   310001     310001           20180614         20180614    10070   \n",
       "5     310001   310001     310001           20180614         20180614    10071   \n",
       "6     310001   310001     310001           20180614         20180614    10072   \n",
       "7     310001   310001     310001           20180614         20180614    10073   \n",
       "8     310001   310001     310001           20180614         20180614    10074   \n",
       "9     310001   310001     310001           20180614         20180614    10172   \n",
       "10    310001   310001     310001           20180614         20180614    10173   \n",
       "11    310001   310001     310001           20180614         20180614    10174   \n",
       "12    310001   310001     310001           20180614         20180614    10175   \n",
       "\n",
       "   arrival_time  pass_in  pass_out  vehicle_id  grafic  trip_num  \\\n",
       "0      17:01:23       13         0      310001  310001        37   \n",
       "1      17:03:59        5         1      310001  310001        37   \n",
       "2      17:06:43        6         0      310001  310001        37   \n",
       "3      17:09:27        0         0      310001  310001        37   \n",
       "4      17:18:53        1         1      310001  310001        37   \n",
       "5      17:22:06       10         3      310001  310001        37   \n",
       "6      17:27:48        1         4      310001  310001        37   \n",
       "7      17:29:30        0         0      310001  310001        37   \n",
       "8      17:30:24        0         0      310001  310001        37   \n",
       "9      17:32:03        0         7      310001  310001        37   \n",
       "10     17:34:40        0         4      310001  310001        37   \n",
       "11     17:36:19        0         2      310001  310001        37   \n",
       "12     17:40:06        0        14      310001  310001        37   \n",
       "\n",
       "    stop_sequence  fact_trip_date                                stop_name  \\\n",
       "0               1        20180614                     пос. Северный Рудник   \n",
       "1               2        20180614                          Северный Рудник   \n",
       "2               3        20180614                    Птицефабрика Липецкая   \n",
       "3               4        20180614                Лог Сурки (по требованию)   \n",
       "4               5        20180614                            Хладокомбинат   \n",
       "5               6        20180614  Липецкое станкостроительное предприятие   \n",
       "6               7        20180614    Кольцо трубного завода (ул. Гагарина)   \n",
       "7               8        20180614                             Дом торговли   \n",
       "8               9        20180614                                   Титова   \n",
       "9              10        20180614              Ж/д вокзал (ул. Терешковой)   \n",
       "10             11        20180614              Терешковой (ул. Терешковой)   \n",
       "11             12        20180614                           7-й микрорайон   \n",
       "12             13        20180614                        Центральный рынок   \n",
       "\n",
       "                     mvn  \n",
       "0   1-Обратное(37)-вечер  \n",
       "1   1-Обратное(37)-вечер  \n",
       "2   1-Обратное(37)-вечер  \n",
       "3   1-Обратное(37)-вечер  \n",
       "4   1-Обратное(37)-вечер  \n",
       "5   1-Обратное(37)-вечер  \n",
       "6   1-Обратное(37)-вечер  \n",
       "7   1-Обратное(37)-вечер  \n",
       "8   1-Обратное(37)-вечер  \n",
       "9   1-Обратное(37)-вечер  \n",
       "10  1-Обратное(37)-вечер  \n",
       "11  1-Обратное(37)-вечер  \n",
       "12  1-Обратное(37)-вечер  "
      ]
     },
     "execution_count": 22,
     "metadata": {},
     "output_type": "execute_result"
    }
   ],
   "source": [
    "df_asmpp"
   ]
  },
  {
   "cell_type": "code",
   "execution_count": 23,
   "metadata": {
    "ExecuteTime": {
     "end_time": "2018-03-22T14:56:02.269488",
     "start_time": "2018-03-22T14:56:02.231366"
    },
    "collapsed": true
   },
   "outputs": [],
   "source": [
    "# создаем поле ts, в котором указан timestamp прибытия тс на о.п.\n",
    "df_asmpp['ts'] = list(map(lambda date, time: pd.datetime(date//10000, # year\n",
    "                                                         date//100%100, # month \n",
    "                                                         date%100, # day\n",
    "                                                         int(time.split(':')[0]), # hour\n",
    "                                                         int(time.split(':')[1])), # minutes\n",
    "                          df_asmpp.fact_trip_date,\n",
    "                          df_asmpp.arrival_time))\n",
    "# создаем поле date, в котором указана дата прибытия тс на о.п.\n",
    "df_asmpp['date'] = df_asmpp.ts.dt.date"
   ]
  },
  {
   "cell_type": "code",
   "execution_count": 24,
   "metadata": {
    "ExecuteTime": {
     "end_time": "2018-03-22T14:56:14.786013",
     "start_time": "2018-03-22T14:56:14.616653"
    },
    "collapsed": true
   },
   "outputs": [],
   "source": [
    "# корректируем название о.п.\n",
    "# не исключена ситуация, что одному stop_id соответсвует несколько значений stop_name\n",
    "# выбираем для каждого stop_id одно (последнее по дате) значения stop_name\n",
    "if df_asmpp.stop_id.count() > 0:\n",
    "    df_asmpp.stop_id.fillna(value=0, inplace=True)\n",
    "    df_stops = df_asmpp.groupby(['stop_id','stop_name']).max()[['ts']].reset_index()\n",
    "    df_stops = df_stops.groupby(['stop_id']).max()[['ts']].reset_index()\\\n",
    "        .join(df_stops.set_index(['stop_id','ts']), on=['stop_id','ts'])\\\n",
    "        .drop('ts', axis=1)\n",
    "    # меняем названия о.п. в исходных данных\n",
    "    df_asmpp = df_asmpp.drop('stop_name', axis=1)\\\n",
    "        .join(df_stops.set_index('stop_id'), on='stop_id')\n",
    "else:\n",
    "    #print('Значение поля stop_id не заполнено')\n",
    "    #df_asmpp.stop_id.fillna(value=0, inplace=True)\n",
    "    #df_asmpp['stop_id'] = df_asmpp.stop_name\n",
    "    df_asmpp['stop_id'] = ''"
   ]
  },
  {
   "cell_type": "code",
   "execution_count": 25,
   "metadata": {
    "ExecuteTime": {
     "end_time": "2018-03-22T14:56:48.546737",
     "start_time": "2018-03-22T14:56:48.293498"
    },
    "collapsed": true
   },
   "outputs": [],
   "source": [
    "# в первую очередь необходимо определить принадлежность данных к одному рейсу\n",
    "# в настоящее время рейсы, начавшие движение в конце суток, а закончившие в начале следующих суток, разбиваются на два рейса\n",
    "# для второй половины таких рейсов требуется корректировка значений поля date\n",
    "\n",
    "# как оказалось grafic также может быть запонен с ошибками. при обработке данных за 201709 40 мвн имеют более 2 вариантов трассы\n",
    "# можно попробовать дополнительно к grafic брать последние три цифры из vehicle_id\n",
    "df_asmpp['veh_id'] = df_asmpp.vehicle_id.astype(str).str[-3:]\n",
    "# как оказалось время прибытия тс на о.п. может быть указано с погрешностью 2-3 минуты, т.е. не исключена ситуация, \n",
    "# когда на следующий о.п. тс приезжает после того как была на предыдущем\n",
    "\n",
    "# пока размышляю что с этим делать, есть ощущение, что необходимо ориентироваться на порядок строк в апи\n",
    "# возможно следует вренуться к этой проблеме после обработки все данных из апи\n",
    "\n",
    "# сортируем данные по времени прибытия тс на о.п.\n",
    "df_asmpp.sort_values(['grafic', 'veh_id', 'ts','trip_num','stop_sequence'], inplace=True)\n",
    "#df_asmpp.sort_values(['date','grafic','trip_num','stop_sequence'], inplace=True)\n",
    "# убираем дубли\n",
    "df_asmpp.drop_duplicates(subset=['grafic','veh_id','ts','stop_sequence'], inplace=True)\n",
    "# определяем порядковый номер предыдущего о.п. для тс\n",
    "df_asmpp['stop_seq_prev'] = df_asmpp.groupby('grafic').shift(1).stop_sequence\n",
    "# если порядковый номер предыдущего о.п. больше либо равен чем порядковый номер текущего о.п., то начинаем новый рейс\n",
    "df_asmpp['race_id'] = 0\n",
    "df_asmpp.loc[~(df_asmpp.stop_seq_prev < df_asmpp.stop_sequence), 'race_id'] = 1\n",
    "df_asmpp['race_id'] = df_asmpp.race_id.cumsum()\n",
    "# убираем техническое поле\n",
    "df_asmpp.drop('stop_seq_prev', axis=1, inplace=True)\n",
    "# корректируем значение поля fact_trip_date\n",
    "df_asmpp = df_asmpp.drop('date', axis=1).join(df_asmpp.groupby('race_id').min()['date'], on='race_id')"
   ]
  },
  {
   "cell_type": "code",
   "execution_count": 26,
   "metadata": {
    "ExecuteTime": {
     "end_time": "2018-03-22T14:56:48.812323",
     "start_time": "2018-03-22T14:56:48.546737"
    },
    "collapsed": true
   },
   "outputs": [],
   "source": [
    "# находим всевозможные варианты поостановочной трассы\n",
    "df_asmpp['trace'] = df_asmpp.stop_sequence.astype(str) + '-' + df_asmpp.stop_id.astype(str) + ',\\n'\n",
    "df_asmpp = df_asmpp.drop('trace', axis=1)\\\n",
    "                   .join(df_asmpp.groupby('race_id').apply(lambda x: x.astype(str).sum())[['trace']], on='race_id')\n",
    "df_asmpp['trace'] = df_asmpp.trace.str[:-2]\n",
    "#print('Число различных вариантов поостановочной трассы -- %d.' % len(df_asmpp['trace'].unique()))"
   ]
  },
  {
   "cell_type": "code",
   "execution_count": 35,
   "metadata": {},
   "outputs": [
    {
     "data": {
      "text/plain": [
       "0     1\n",
       "1     1\n",
       "2     1\n",
       "3     1\n",
       "4     1\n",
       "5     1\n",
       "6     1\n",
       "7     1\n",
       "8     1\n",
       "9     1\n",
       "10    1\n",
       "11    1\n",
       "12    1\n",
       "Name: race_id, dtype: int64"
      ]
     },
     "execution_count": 35,
     "metadata": {},
     "output_type": "execute_result"
    }
   ],
   "source": [
    "df_asmpp['race_id']"
   ]
  },
  {
   "cell_type": "code",
   "execution_count": 28,
   "metadata": {
    "ExecuteTime": {
     "end_time": "2018-03-22T14:56:49.202116",
     "start_time": "2018-03-22T14:56:48.814329"
    },
    "collapsed": true
   },
   "outputs": [],
   "source": [
    "# формируем таблицу рейсов в которой содержится информация о дате и времени прибытия каждого рейса на первый о.п.\n",
    "df_races = df_asmpp.groupby('race_id').min()[['trip_id','trace','date','ts']].reset_index()\n",
    "# добавляем число пассажиров\n",
    "df_races = df_races.join(df_asmpp.groupby('race_id').sum()[['pass_in','pass_out']], on=['race_id'])\n",
    "df_races['pass'] = (df_races.pass_in + df_races.pass_out)/2\n",
    "df_races.drop(['pass_in','pass_out'], axis=1, inplace=True)\n",
    "\n",
    "# для каждого рейса определяем тип временного периода\n",
    "\n",
    "# определяем принадлежность рейса к рабочему или выходному дню\n",
    "df_races = df_races.join(df_workdays.set_index('date')['workday'], on='date')\n",
    "\n",
    "#--------------\n",
    "# определяем принадлежность рейса к сезону\n",
    "df_races['season'] = 'неоп'\n",
    "# формируем даты начала и окончания летнего сезона для каждого рейса\n",
    "df_races['start'] = list(map(lambda t: pd.datetime(t.year, \n",
    "                                                   int(args['summer'][:2]),\n",
    "                                                   int(args['summer'][3:5])), df_races.ts))\n",
    "df_races['end']   = list(map(lambda t: pd.datetime(t.year, \n",
    "                                                   int(args['summer'][6:8]),\n",
    "                                                   int(args['summer'][9:11])), df_races.ts))\n",
    "# определяем принадлежность рейса к летнему сезону\n",
    "df_races.loc[(df_races.ts <= df_races.end)&(df_races.ts >= df_races.start), 'season'] = 'лето'\n",
    "# формируем первый вариант даты начала и окончания зимнего сезона для каждого рейса\n",
    "df_races['start'] = list(map(lambda t: pd.datetime(t.year, \n",
    "                                                   int(args['winter'][:2]),\n",
    "                                                   int(args['winter'][3:5])), df_races.ts))\n",
    "df_races['end']   = list(map(lambda t: pd.datetime(t.year + 1, \n",
    "                                                   int(args['winter'][6:8]),\n",
    "                                                   int(args['winter'][9:11])), df_races.ts))\n",
    "# определяем принадлежность рейса к зимнему сезону\n",
    "df_races.loc[(df_races.ts <= df_races.end)&(df_races.ts >= df_races.start), 'season'] = 'зима'\n",
    "# формируем второй вариант даты начала и окончания зимнего сезона для каждого рейса\n",
    "df_races['start'] = list(map(lambda t: pd.datetime(t.year - 1, \n",
    "                                                   int(args['winter'][:2]),\n",
    "                                                   int(args['winter'][3:5])), df_races.ts))\n",
    "df_races['end']   = list(map(lambda t: pd.datetime(t.year, \n",
    "                                                   int(args['winter'][6:8]),\n",
    "                                                   int(args['winter'][9:11])), df_races.ts))\n",
    "# определяем принадлежность рейса к зимнему сезону\n",
    "df_races.loc[(df_races.ts <= df_races.end)&(df_races.ts >= df_races.start), 'season'] = 'зима'\n",
    "# убираем технические поля\n",
    "df_races.drop(['start','end'], axis=1, inplace=True)\n",
    "#---------------\n",
    "\n",
    "# определяем принадлежность рейса к часу суток\n",
    "df_races['time'] = ''\n",
    "for i in range(len(args['time'])):\n",
    "    start = args['time'][i-1]\n",
    "    end   = args['time'][i]\n",
    "    end = (pd.datetime(2000,1,1,int(end[:2]),int(end[-2:])) - pd.Timedelta(value=1, unit='m')).strftime('%H:%M')\n",
    "    time = '%s-%s' % (start, end)\n",
    "    if start < end:\n",
    "        df_races['start'] = list(map(lambda t: pd.datetime(t.year,t.month,t.day,int(start[:2]),int(start[-2:])), df_races.ts))\n",
    "        df_races['end'] =   list(map(lambda t: pd.datetime(t.year,t.month,t.day,int(end[:2]),int(end[-2:])), df_races.ts))\n",
    "        df_races.loc[(df_races.ts <= df_races.end)&(df_races.ts >= df_races.start), 'time'] = time\n",
    "    else:\n",
    "        df_races['start'] = list(map(lambda t: pd.datetime(t.year,t.month,t.day,int(start[:2]),int(start[-2:])), df_races.ts))\n",
    "        df_races['end'] =   list(map(lambda t: pd.datetime(t.year,t.month,t.day,int(end[:2]),int(end[-2:]))\\\n",
    "                                             + pd.Timedelta(value=1, unit='d'), df_races.ts))\n",
    "        df_races.loc[(df_races.ts <= df_races.end)&(df_races.ts >= df_races.start), 'time'] = time\n",
    "        df_races['start'] = list(map(lambda t: pd.datetime(t.year,t.month,t.day,int(start[:2]),int(start[-2:]))\\\n",
    "                                            - pd.Timedelta(value=1, unit='d'), df_races.ts))\n",
    "        df_races['end'] =   list(map(lambda t: pd.datetime(t.year,t.month,t.day,int(end[:2]),int(end[-2:])), df_races.ts))\n",
    "        df_races.loc[(df_races.ts <= df_races.end)&(df_races.ts >= df_races.start), 'time'] = time\n",
    "\n",
    "# задаем тип временного интервала\n",
    "df_races['period_type'] = df_races.season.astype(str) + '-' +  df_races.workday.astype(str) + '-' + df_races.time.astype(str)"
   ]
  },
  {
   "cell_type": "code",
   "execution_count": 29,
   "metadata": {
    "ExecuteTime": {
     "end_time": "2018-03-22T14:56:49.508512",
     "start_time": "2018-03-22T14:56:49.203603"
    },
    "collapsed": true
   },
   "outputs": [],
   "source": [
    "# формируем таблицу вариантов поостановочных трасс\n",
    "\n",
    "# определяем даты, за которые есть данные асмпп по каждому из вариантов трассы и число рейсов\n",
    "df_traces =\\\n",
    "    df_races.groupby(['trace']).min()[['date']]\\\n",
    "    .join(df_races.groupby(['trace']).max()[['date']], lsuffix='_first', rsuffix='_last')\\\n",
    "    .join(df_races.groupby(['trace']).count()[['race_id']])\\\n",
    "    .rename(columns={'race_id':'n_races'})\\\n",
    "    .sort_values(['date_last','n_races'], ascending=False)\\\n",
    "    .reset_index()\n",
    "# создаем идентификатор варианта трассы\n",
    "df_traces['trace_id'] = range(1, len(df_traces) + 1)\n",
    "# добавляем идентификатор трассы в таблицу рейсов\n",
    "df_races = df_races.join(df_traces.set_index('trace')['trace_id'], on='trace').drop('trace', axis=1)\n",
    "# добавляем информацию о том как соотносятся между собой trace_id и trip_id \n",
    "df_tmp = df_races[['trip_id','trace_id']].drop_duplicates().set_index('trace_id').sort_values('trip_id')\n",
    "df_tmp['trip_id'] = df_tmp.trip_id.astype(str) + ','\n",
    "df_traces = df_traces.join(df_tmp.groupby(level='trace_id').apply(lambda x: x.astype(str).sum()), on='trace_id')\n",
    "df_traces['trip_id'] = df_traces.trip_id.str[:-1]\n",
    "# создаем поле, в котором будет отмечено следует ли использовать указанный вариант поостановочной трассы для построения матрицы\n",
    "df_traces['flag'] = 0\n",
    "# Определяем приоритетный вариант трассы по которому будет строиться матрица из следующих соображений:\n",
    "# 1. Фиксируется варинат трассы, по которому имеются наиболее свежие данные асмпп (при наличии нескольких таких вариантов \n",
    "#    трассы, выбирается тот, у которого наибольшее число рейсов). Для зафиксированного варианта определяется дата первого\n",
    "#    обследования.\n",
    "# 2. Выделяются все варианты трассы, по которым дата последнего обследования более поздняя, чем зафикисрованная дата.\n",
    "# 3. Из них выбирается вариант трассы с наибольшим числом обследований, если таких вариантов несколько,\n",
    "#    то выбирается один вариант случайным образом.\n",
    "date_first = df_traces.sort_values(['date_last','n_races'], ascending=False).iloc[0].date_first\n",
    "mask = df_traces.date_last >= date_first\n",
    "n_races = df_traces[mask].n_races.max()\n",
    "df_traces.loc[(mask) & (df_traces.n_races == n_races), 'flag'] = 1"
   ]
  },
  {
   "cell_type": "code",
   "execution_count": 39,
   "metadata": {},
   "outputs": [
    {
     "data": {
      "text/plain": [
       "0    1-10231,\\n2-10232,\\n3-10233,\\n4-10234,\\n5-1007...\n",
       "Name: trace, dtype: object"
      ]
     },
     "execution_count": 39,
     "metadata": {},
     "output_type": "execute_result"
    }
   ],
   "source": [
    "df_traces['trace']"
   ]
  },
  {
   "cell_type": "code",
   "execution_count": 30,
   "metadata": {
    "ExecuteTime": {
     "end_time": "2018-03-22T14:56:49.538164",
     "start_time": "2018-03-22T14:56:49.509998"
    },
    "collapsed": true
   },
   "outputs": [],
   "source": [
    "# определяем число рейсов по каждому из вариантов трассы за каждый тип временного интервала\n",
    "df_nraces = df_races.groupby(['trace_id','season','workday','time']).count()['race_id']\\\n",
    "    .unstack('trace_id')\\\n",
    "    .fillna(value=0)\\\n",
    "    .astype(int)\\\n",
    "    .reset_index()\\\n",
    "    .sort_values(['season','workday','time'], ascending=[True,False,True])"
   ]
  },
  {
   "cell_type": "code",
   "execution_count": 31,
   "metadata": {
    "ExecuteTime": {
     "end_time": "2018-03-22T14:56:49.585823",
     "start_time": "2018-03-22T14:56:49.538164"
    },
    "collapsed": true
   },
   "outputs": [],
   "source": [
    "# определяем число пассажиров, перевезенных средним рейсом по каждому из вариантов трассы за каждый тип временного интервала\n",
    "df_pass =(\\\n",
    "    df_races.groupby(['trace_id','season','workday','time']).mean()['pass']\\\n",
    "        .unstack('trace_id')\\\n",
    "        .fillna(value=0)\\\n",
    "        .round(1)\\\n",
    "        .astype(str)\\\n",
    "    + ' ± ' +\\\n",
    "    df_races.groupby(['trace_id','season','workday','time']).std()['pass']\\\n",
    "        .unstack('trace_id')\\\n",
    "        .fillna(value=0)\\\n",
    "        .round(1)\\\n",
    "        .astype(str)\\\n",
    "    ).reset_index()\\\n",
    "    .sort_values(['season','workday','time'], ascending=[True,False,True])"
   ]
  },
  {
   "cell_type": "code",
   "execution_count": 32,
   "metadata": {
    "ExecuteTime": {
     "end_time": "2018-03-22T14:56:49.620568",
     "start_time": "2018-03-22T14:56:49.604072"
    },
    "collapsed": true
   },
   "outputs": [],
   "source": [
    "# вычисляем посадку и высадку среднего рейса по всем типам временных интервалов и вариантам поостановочной трассы\n",
    "df_inout =\\\n",
    "    df_asmpp[['mvn','race_id','stop_sequence','stop_id','stop_name','pass_in','pass_out']]\\\n",
    "    .join(df_races.set_index('race_id')[['trace_id','period_type']], on='race_id')\\\n",
    "    .groupby(['mvn','trace_id','period_type','stop_sequence','stop_id','stop_name']).mean()[['pass_in','pass_out']]\\\n",
    "    .reset_index()"
   ]
  },
  {
   "cell_type": "code",
   "execution_count": 33,
   "metadata": {
    "ExecuteTime": {
     "end_time": "2018-03-22T14:56:51.852840",
     "start_time": "2018-03-22T14:56:51.397196"
    },
    "collapsed": true,
    "scrolled": true
   },
   "outputs": [],
   "source": [
    "# формируем xlsx файл с результатами предобработки\n",
    "xls_writer = pd.ExcelWriter(args['results'] + '/'+ mvn + '.xlsx')\n",
    "\n",
    "# сохраняем вкладку inout\n",
    "df_inout.to_excel(xls_writer, index=False, sheet_name='inout')\n",
    "xls_sheet = xls_writer.sheets['inout']\n",
    "xls_sheet.set_column('A:A', len(mvn) + 1, None)\n",
    "xls_sheet.set_column('C:C', 21, None)\n",
    "xls_sheet.set_column('F:F', (df_inout.stop_name.str.len()).max() + 1, None)\n",
    "xls_fmt = xls_writer.book.add_format(properties={'num_format': '0.00'})\n",
    "xls_sheet.set_column('G:H', None, xls_fmt)\n",
    "\n",
    "# сохраняем вкладку traces\n",
    "df_traces.set_index('trace_id')[['n_races','date_first','date_last','flag','trip_id','trace']]\\\n",
    "    .to_excel(xls_writer, sheet_name='traces')\n",
    "xls_sheet = xls_writer.sheets['traces']\n",
    "xls_sheet.set_column('C:D', 11, None)\n",
    "\n",
    "# сохраняем вкладку nraces\n",
    "df_nraces.to_excel(xls_writer, index=False, sheet_name='nraces')\n",
    "xls_sheet = xls_writer.sheets['nraces']\n",
    "xls_sheet.set_column('C:C', 11, None)\n",
    "xls_sheet.set_column('D:ZZ', 4, None)\n",
    "\n",
    "# сохраняем вкладку pass\n",
    "df_pass.to_excel(xls_writer, index=False, sheet_name='pass')\n",
    "xls_sheet = xls_writer.sheets['pass']\n",
    "xls_sheet.set_column('C:C', 11, None)\n",
    "xls_sheet.set_column('D:ZZ', 14, None)\n",
    "\n",
    "# сохраняем и закрываем файл\n",
    "xls_writer.save()"
   ]
  },
  {
   "cell_type": "code",
   "execution_count": 34,
   "metadata": {
    "ExecuteTime": {
     "end_time": "2018-03-22T14:56:52.853113",
     "start_time": "2018-03-22T14:56:52.837474"
    }
   },
   "outputs": [
    {
     "data": {
      "text/plain": [
       "1"
      ]
     },
     "execution_count": 34,
     "metadata": {},
     "output_type": "execute_result"
    }
   ],
   "source": [
    "%return len(df_traces)"
   ]
  },
  {
   "cell_type": "code",
   "execution_count": null,
   "metadata": {
    "collapsed": true
   },
   "outputs": [],
   "source": []
  }
 ],
 "metadata": {
  "kernelspec": {
   "display_name": "python3_asmpp",
   "language": "python",
   "name": "python3_asmpp"
  },
  "language_info": {
   "codemirror_mode": {
    "name": "ipython",
    "version": 3
   },
   "file_extension": ".py",
   "mimetype": "text/x-python",
   "name": "python",
   "nbconvert_exporter": "python",
   "pygments_lexer": "ipython3",
   "version": "3.6.6"
  }
 },
 "nbformat": 4,
 "nbformat_minor": 2
}
