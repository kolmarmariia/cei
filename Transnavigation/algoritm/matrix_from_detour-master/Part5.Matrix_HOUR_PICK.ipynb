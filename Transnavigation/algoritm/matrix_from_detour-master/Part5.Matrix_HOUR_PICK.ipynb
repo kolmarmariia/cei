{
 "cells": [
  {
   "cell_type": "code",
   "execution_count": 555,
   "metadata": {},
   "outputs": [],
   "source": [
    "import pandas as pd\n",
    "import geopandas as gpd\n",
    "import numpy as np\n",
    "import matplotlib.pyplot as plt\n",
    "from datetime import datetime\n",
    "import os\n",
    "import math\n",
    "from tqdm import tqdm_notebook as tqdm\n",
    "import warnings\n",
    "warnings.filterwarnings('ignore')"
   ]
  },
  {
   "cell_type": "code",
   "execution_count": 97,
   "metadata": {},
   "outputs": [],
   "source": [
    "DATA=pd.read_csv('For_matrix_2020_09_28.csv', sep = ',', encoding='utf-8')\n",
    "DATA2=pd.read_csv('For_matrix_2020_09_29.csv', sep = ',', encoding='utf-8')\n",
    "DATA2['time']=DATA2['time']+24*3600\n",
    "DATA3=pd.read_csv('For_matrix_2020_09_30.csv', sep = ',', encoding='utf-8')\n",
    "DATA3['time']=DATA3['time']+24*3600+24*3600\n",
    "DATA=DATA.append(DATA2).append(DATA3)"
   ]
  },
  {
   "cell_type": "code",
   "execution_count": 98,
   "metadata": {},
   "outputs": [],
   "source": [
    "DATA=DATA[['Дата и время поездки','Номер кристалла','TCAT','Код Маршрута','Код предприятия','mr_id','time','ssId','rl_id','rc_orderby']]"
   ]
  },
  {
   "cell_type": "code",
   "execution_count": 99,
   "metadata": {},
   "outputs": [],
   "source": [
    "subway=pd.read_csv('stops_subway.csv', sep = ';', encoding='utf-8')"
   ]
  },
  {
   "cell_type": "code",
   "execution_count": 100,
   "metadata": {},
   "outputs": [
    {
     "data": {
      "text/html": [
       "<div>\n",
       "<style scoped>\n",
       "    .dataframe tbody tr th:only-of-type {\n",
       "        vertical-align: middle;\n",
       "    }\n",
       "\n",
       "    .dataframe tbody tr th {\n",
       "        vertical-align: top;\n",
       "    }\n",
       "\n",
       "    .dataframe thead th {\n",
       "        text-align: right;\n",
       "    }\n",
       "</style>\n",
       "<table border=\"1\" class=\"dataframe\">\n",
       "  <thead>\n",
       "    <tr style=\"text-align: right;\">\n",
       "      <th></th>\n",
       "      <th>ssId</th>\n",
       "      <th>Станция</th>\n",
       "      <th>ss_lat</th>\n",
       "      <th>ss_long</th>\n",
       "    </tr>\n",
       "  </thead>\n",
       "  <tbody>\n",
       "    <tr>\n",
       "      <th>0</th>\n",
       "      <td>2081</td>\n",
       "      <td>Алабинская</td>\n",
       "      <td>53.209188</td>\n",
       "      <td>50.133092</td>\n",
       "    </tr>\n",
       "    <tr>\n",
       "      <th>1</th>\n",
       "      <td>2082</td>\n",
       "      <td>Российская</td>\n",
       "      <td>53.211449</td>\n",
       "      <td>50.149668</td>\n",
       "    </tr>\n",
       "    <tr>\n",
       "      <th>2</th>\n",
       "      <td>2083</td>\n",
       "      <td>Московская</td>\n",
       "      <td>53.203067</td>\n",
       "      <td>50.160567</td>\n",
       "    </tr>\n",
       "    <tr>\n",
       "      <th>3</th>\n",
       "      <td>2084</td>\n",
       "      <td>Гагаринская</td>\n",
       "      <td>53.200304</td>\n",
       "      <td>50.176584</td>\n",
       "    </tr>\n",
       "    <tr>\n",
       "      <th>4</th>\n",
       "      <td>2085</td>\n",
       "      <td>Спортивная</td>\n",
       "      <td>53.200954</td>\n",
       "      <td>50.199017</td>\n",
       "    </tr>\n",
       "  </tbody>\n",
       "</table>\n",
       "</div>"
      ],
      "text/plain": [
       "   ssId      Станция     ss_lat    ss_long\n",
       "0  2081   Алабинская  53.209188  50.133092\n",
       "1  2082   Российская  53.211449  50.149668\n",
       "2  2083   Московская  53.203067  50.160567\n",
       "3  2084  Гагаринская  53.200304  50.176584\n",
       "4  2085   Спортивная  53.200954  50.199017"
      ]
     },
     "execution_count": 100,
     "metadata": {},
     "output_type": "execute_result"
    }
   ],
   "source": [
    "subway.head()"
   ]
  },
  {
   "cell_type": "code",
   "execution_count": 101,
   "metadata": {},
   "outputs": [],
   "source": [
    "METRO=pd.read_csv('./METRO/2020.09.28.csv', sep=',', encoding='windows-1251')\n",
    "METRO=METRO.merge(subway,on='Станция')\n",
    "METRO['Код Маршрута']='subway'\n",
    "METRO['mr_id']=0\n",
    "METRO['rl_id']=0\n",
    "METRO['rc_orderby']=0\n",
    "METRO['time']=pd.to_datetime(METRO['Дата и время поездки'])\n",
    "METRO['hour']=METRO['time'].dt.hour\n",
    "METRO['min']=METRO['time'].dt.minute\n",
    "METRO['sec']=METRO['time'].dt.second\n",
    "METRO['time']=(METRO['hour'].astype(int))*3600+(METRO['min'].astype(int))*60+(METRO['sec'].astype(int))\n",
    "METRO=METRO.drop('hour',axis=1).drop('sec',axis=1).drop('min',axis=1).drop('Терминал',axis=1).drop('NUM_TRIP',axis=1)\n",
    "METRO=METRO[['Дата и время поездки','Номер кристалла','TCAT','Код Маршрута','Код предприятия','mr_id','time','ssId','rl_id','rc_orderby']]"
   ]
  },
  {
   "cell_type": "code",
   "execution_count": 102,
   "metadata": {},
   "outputs": [],
   "source": [
    "METRO2=pd.read_csv('./METRO/2020.09.29.csv', sep=',', encoding='windows-1251')\n",
    "METRO2=METRO2.merge(subway,on='Станция')\n",
    "METRO2['Код Маршрута']='subway'\n",
    "METRO2['mr_id']=0\n",
    "METRO2['rl_id']=0\n",
    "METRO2['rc_orderby']=0\n",
    "METRO2['time']=pd.to_datetime(METRO2['Дата и время поездки'])\n",
    "METRO2['hour']=METRO2['time'].dt.hour\n",
    "METRO2['min']=METRO2['time'].dt.minute\n",
    "METRO2['sec']=METRO2['time'].dt.second\n",
    "METRO2['time']=(METRO2['hour'].astype(int))*3600+(METRO2['min'].astype(int))*60+(METRO2['sec'].astype(int))+24*3600\n",
    "METRO2=METRO2.drop('hour',axis=1).drop('sec',axis=1).drop('min',axis=1).drop('Терминал',axis=1).drop('NUM_TRIP',axis=1)\n",
    "METRO2=METRO2[['Дата и время поездки','Номер кристалла','TCAT','Код Маршрута','Код предприятия','mr_id','time','ssId','rl_id','rc_orderby']]"
   ]
  },
  {
   "cell_type": "code",
   "execution_count": 103,
   "metadata": {
    "scrolled": true
   },
   "outputs": [],
   "source": [
    "METRO3=pd.read_csv('./METRO/2020.09.30.csv', sep=',', encoding='windows-1251')\n",
    "METRO3=METRO3.merge(subway,on='Станция')\n",
    "METRO3['Код Маршрута']='subway'\n",
    "METRO3['mr_id']=0\n",
    "METRO3['rl_id']=0\n",
    "METRO3['rc_orderby']=0\n",
    "METRO3['time']=pd.to_datetime(METRO3['Дата и время поездки'])\n",
    "METRO3['hour']=METRO3['time'].dt.hour\n",
    "METRO3['min']=METRO3['time'].dt.minute\n",
    "METRO3['sec']=METRO3['time'].dt.second\n",
    "METRO3['time']=(METRO3['hour'].astype(int))*3600+(METRO3['min'].astype(int))*60+(METRO3['sec'].astype(int))+24*3600+24*3600\n",
    "METRO3=METRO3.drop('hour',axis=1).drop('sec',axis=1).drop('min',axis=1).drop('Терминал',axis=1).drop('NUM_TRIP',axis=1)\n",
    "METRO3=METRO3[['Дата и время поездки','Номер кристалла','TCAT','Код Маршрута','Код предприятия','mr_id','time','ssId','rl_id','rc_orderby']]"
   ]
  },
  {
   "cell_type": "code",
   "execution_count": 104,
   "metadata": {},
   "outputs": [],
   "source": [
    "DATA=DATA.append(METRO).append(METRO2).append(METRO3)"
   ]
  },
  {
   "cell_type": "code",
   "execution_count": 105,
   "metadata": {},
   "outputs": [],
   "source": [
    "del METRO\n",
    "del METRO2\n",
    "del METRO3\n",
    "del DATA2\n",
    "del DATA3"
   ]
  },
  {
   "cell_type": "code",
   "execution_count": 106,
   "metadata": {},
   "outputs": [
    {
     "data": {
      "text/plain": [
       "1659660"
      ]
     },
     "execution_count": 106,
     "metadata": {},
     "output_type": "execute_result"
    }
   ],
   "source": [
    "len(DATA)"
   ]
  },
  {
   "cell_type": "markdown",
   "metadata": {},
   "source": [
    "привязали все валидации к сайтам"
   ]
  },
  {
   "cell_type": "code",
   "execution_count": 107,
   "metadata": {},
   "outputs": [
    {
     "data": {
      "text/plain": [
       "166803"
      ]
     },
     "execution_count": 107,
     "metadata": {},
     "output_type": "execute_result"
    }
   ],
   "source": [
    "sites=pd.read_csv('stop_seq_v2.csv', sep = ';', encoding='utf-8')\n",
    "sites=sites[['ssId','site_id']].drop_duplicates()\n",
    "DATA=DATA.merge(sites,on='ssId', how='left')\n",
    "len(DATA[DATA['ssId']==0])"
   ]
  },
  {
   "cell_type": "code",
   "execution_count": 108,
   "metadata": {},
   "outputs": [
    {
     "data": {
      "text/plain": [
       "1659660"
      ]
     },
     "execution_count": 108,
     "metadata": {},
     "output_type": "execute_result"
    }
   ],
   "source": [
    "len(DATA)"
   ]
  },
  {
   "cell_type": "markdown",
   "metadata": {},
   "source": [
    "ВЫБРАЛИ ДАННЫЕ ЗА ЧАС ПИК"
   ]
  },
  {
   "cell_type": "code",
   "execution_count": 109,
   "metadata": {},
   "outputs": [],
   "source": [
    "#выбрала час пик только из перовго дня\n",
    "DATA_pick=DATA[DATA['Дата и время поездки'].str.contains( '2020-09-28')] \n",
    "DATA_pick=DATA_pick[DATA_pick['Дата и время поездки'].str.contains( ' 07:')]\\\n",
    "    .append(DATA_pick[DATA_pick['Дата и время поездки'].str.contains( ' 08:')])\\\n",
    "    .append(DATA_pick[DATA_pick['Дата и время поездки'].str.contains( ' 09:')])"
   ]
  },
  {
   "cell_type": "markdown",
   "metadata": {},
   "source": [
    "Убираем и запоминаем из выборки тех, у кого нет номера кристалла (невозможно точно привязать точку выхода)"
   ]
  },
  {
   "cell_type": "code",
   "execution_count": 110,
   "metadata": {},
   "outputs": [],
   "source": [
    "DATA_bank_ssid=DATA_pick[DATA_pick['Номер кристалла'].isna()]"
   ]
  },
  {
   "cell_type": "code",
   "execution_count": 111,
   "metadata": {},
   "outputs": [
    {
     "data": {
      "text/plain": [
       "153888"
      ]
     },
     "execution_count": 111,
     "metadata": {},
     "output_type": "execute_result"
    }
   ],
   "source": [
    "len(DATA_pick)"
   ]
  },
  {
   "cell_type": "code",
   "execution_count": 112,
   "metadata": {},
   "outputs": [
    {
     "data": {
      "text/plain": [
       "48818"
      ]
     },
     "execution_count": 112,
     "metadata": {},
     "output_type": "execute_result"
    }
   ],
   "source": [
    "len(DATA_bank_ssid)"
   ]
  },
  {
   "cell_type": "code",
   "execution_count": 85,
   "metadata": {},
   "outputs": [
    {
     "data": {
      "text/plain": [
       "114400"
      ]
     },
     "execution_count": 85,
     "metadata": {},
     "output_type": "execute_result"
    }
   ],
   "source": [
    "153888-39488"
   ]
  },
  {
   "cell_type": "markdown",
   "metadata": {},
   "source": [
    "ОСТАВЛЯЕМ В ЧАСЕ ПИК ТОЛЬКО ТЕХ, у кого есть номер кристалла:"
   ]
  },
  {
   "cell_type": "code",
   "execution_count": 18,
   "metadata": {},
   "outputs": [],
   "source": [
    "DATA_pick=DATA_pick[~DATA_pick.index.isin(DATA_bank_ssid.index)]"
   ]
  },
  {
   "cell_type": "code",
   "execution_count": 86,
   "metadata": {},
   "outputs": [
    {
     "data": {
      "text/plain": [
       "105070"
      ]
     },
     "execution_count": 86,
     "metadata": {},
     "output_type": "execute_result"
    }
   ],
   "source": [
    "len(DATA_pick)"
   ]
  },
  {
   "cell_type": "code",
   "execution_count": 20,
   "metadata": {},
   "outputs": [
    {
     "data": {
      "text/plain": [
       "25200"
      ]
     },
     "execution_count": 20,
     "metadata": {},
     "output_type": "execute_result"
    }
   ],
   "source": [
    "DATA_pick['time'].min()"
   ]
  },
  {
   "cell_type": "code",
   "execution_count": 21,
   "metadata": {},
   "outputs": [
    {
     "data": {
      "text/plain": [
       "35999"
      ]
     },
     "execution_count": 21,
     "metadata": {},
     "output_type": "execute_result"
    }
   ],
   "source": [
    "DATA_pick['time'].max()"
   ]
  },
  {
   "cell_type": "markdown",
   "metadata": {},
   "source": [
    "Выбрала из общего массива только те данные, где встречаются валидации из пикового промежутка:"
   ]
  },
  {
   "cell_type": "code",
   "execution_count": 22,
   "metadata": {},
   "outputs": [],
   "source": [
    "DATA=DATA[DATA['Номер кристалла'].isin(DATA_pick['Номер кристалла'].unique())]"
   ]
  },
  {
   "cell_type": "code",
   "execution_count": 23,
   "metadata": {},
   "outputs": [
    {
     "data": {
      "text/plain": [
       "439983"
      ]
     },
     "execution_count": 23,
     "metadata": {},
     "output_type": "execute_result"
    }
   ],
   "source": [
    "len(DATA)"
   ]
  },
  {
   "cell_type": "markdown",
   "metadata": {},
   "source": [
    "Выбрала только те значения, которые встречаются спустя 3 часа после начала часа пик"
   ]
  },
  {
   "cell_type": "code",
   "execution_count": 24,
   "metadata": {},
   "outputs": [],
   "source": [
    "DATA=DATA[DATA['time']>DATA_pick['time'].min()+3*3600]"
   ]
  },
  {
   "cell_type": "code",
   "execution_count": 25,
   "metadata": {},
   "outputs": [],
   "source": [
    "DATA=DATA.sort_values(['Номер кристалла','time','site_id'])"
   ]
  },
  {
   "cell_type": "code",
   "execution_count": 26,
   "metadata": {},
   "outputs": [],
   "source": [
    "DATA_pick=DATA_pick.sort_values(['Номер кристалла','time','site_id'])"
   ]
  },
  {
   "cell_type": "code",
   "execution_count": 27,
   "metadata": {},
   "outputs": [
    {
     "name": "stderr",
     "output_type": "stream",
     "text": [
      "100%|████████████████████████████████████████████████████████████████████████| 105070/105070 [1:11:22<00:00, 24.54it/s]\n"
     ]
    }
   ],
   "source": [
    "from tqdm import tqdm\n",
    "k=0\n",
    "res=DATA_pick\n",
    "result = []\n",
    "result2 = []\n",
    "result3 = []\n",
    "result4 = []\n",
    "stops=pd.DataFrame()\n",
    "with tqdm(total=DATA_pick.shape[0]) as pbar: \n",
    "    for index, row in DATA_pick.iterrows():\n",
    "        pbar.update(1)\n",
    "        stops=DATA[(DATA['Номер кристалла']==row['Номер кристалла'])\n",
    "                    &(DATA['time']>(row['time']+3600*3))\n",
    "                    &(DATA['site_id']!=row['site_id'])]\n",
    "        if stops.empty:\n",
    "            result.append(0)\n",
    "            result2.append(0)\n",
    "            result3.append(0)\n",
    "            result4.append(0)\n",
    "        else:\n",
    "            stop_unic=stops['site_id'].values\n",
    "            result.append(stop_unic[0])\n",
    "            time_2=stops['time'].values\n",
    "            result2.append(time_2[0])\n",
    "            rl_id=stops['rl_id'].values\n",
    "            result3.append(rl_id[0])\n",
    "            rc_orderby=stops['rc_orderby'].values\n",
    "            result4.append(rc_orderby[0])\n",
    "res['site_id_2']=result\n",
    "res['time_2']=result2\n",
    "res['rl_id_2']=result3\n",
    "res['rc_orderby_2']=result4"
   ]
  },
  {
   "cell_type": "code",
   "execution_count": 30,
   "metadata": {},
   "outputs": [],
   "source": [
    "res.to_csv('res_2020_09_28.csv')"
   ]
  },
  {
   "cell_type": "code",
   "execution_count": 432,
   "metadata": {},
   "outputs": [],
   "source": [
    "del res"
   ]
  },
  {
   "cell_type": "code",
   "execution_count": 444,
   "metadata": {},
   "outputs": [],
   "source": [
    "res=pd.read_csv('res_2020_09_28.csv')"
   ]
  },
  {
   "cell_type": "markdown",
   "metadata": {},
   "source": [
    "320464/581500"
   ]
  },
  {
   "cell_type": "code",
   "execution_count": 445,
   "metadata": {},
   "outputs": [
    {
     "data": {
      "text/plain": [
       "77132"
      ]
     },
     "execution_count": 445,
     "metadata": {},
     "output_type": "execute_result"
    }
   ],
   "source": [
    "len(res[(res['site_id_2']>0)&(res['site_id']>0)&(res['site_id_2']!=res['ssId'])])"
   ]
  },
  {
   "cell_type": "code",
   "execution_count": 446,
   "metadata": {},
   "outputs": [
    {
     "data": {
      "text/plain": [
       "105070"
      ]
     },
     "execution_count": 446,
     "metadata": {},
     "output_type": "execute_result"
    }
   ],
   "source": [
    "len(res)"
   ]
  },
  {
   "cell_type": "code",
   "execution_count": 447,
   "metadata": {},
   "outputs": [
    {
     "data": {
      "text/plain": [
       "0.7341010754734939"
      ]
     },
     "execution_count": 447,
     "metadata": {},
     "output_type": "execute_result"
    }
   ],
   "source": [
    "(77132)/(105070)"
   ]
  },
  {
   "cell_type": "code",
   "execution_count": 454,
   "metadata": {},
   "outputs": [],
   "source": [
    "res=res.fillna(0)"
   ]
  },
  {
   "cell_type": "code",
   "execution_count": 455,
   "metadata": {},
   "outputs": [],
   "source": [
    "res['c']=1"
   ]
  },
  {
   "cell_type": "code",
   "execution_count": null,
   "metadata": {},
   "outputs": [],
   "source": []
  },
  {
   "cell_type": "code",
   "execution_count": 456,
   "metadata": {},
   "outputs": [
    {
     "data": {
      "text/plain": [
       "105070"
      ]
     },
     "execution_count": 456,
     "metadata": {},
     "output_type": "execute_result"
    }
   ],
   "source": [
    "res['c'].sum()"
   ]
  },
  {
   "cell_type": "code",
   "execution_count": 457,
   "metadata": {},
   "outputs": [],
   "source": [
    "res2=res.groupby(['site_id','site_id_2','mr_id']).agg({'c':np.nansum}).reset_index() "
   ]
  },
  {
   "cell_type": "code",
   "execution_count": null,
   "metadata": {},
   "outputs": [],
   "source": []
  },
  {
   "cell_type": "markdown",
   "metadata": {},
   "source": [
    "Заполняем неприязавшиеся SsId наиболее подходящими остановками на маршруте"
   ]
  },
  {
   "cell_type": "code",
   "execution_count": 459,
   "metadata": {},
   "outputs": [],
   "source": [
    "res_not_null=res[(res['site_id_2']>0)&(res['site_id']>0)] #выбрали из матрицы те строки, где все значения есть\n",
    "res_null_last_stops=res[((res['site_id_2']==0)|(res['site_id_2'].isna()))\n",
    "                        &(res['site_id']>0)].drop(['site_id_2'], axis=1) #выбрали только те строки, где есть остановка входа, но нет остановки выхода\n",
    "res_null_first_stops=res[((res['site_id']==0)|(res['site_id'].isna()))\n",
    "                        &(res['site_id_2']>0)].drop(['site_id'], axis=1) #выбрали только те строки, где есть остановка вЫхода, но нет остановки входа"
   ]
  },
  {
   "cell_type": "markdown",
   "metadata": {},
   "source": [
    "Записываем всё, что не записалось и не определилось в массив res_null_null"
   ]
  },
  {
   "cell_type": "code",
   "execution_count": 460,
   "metadata": {},
   "outputs": [],
   "source": [
    "res_null_null=res[~res.index.isin(res_not_null.index)]\n",
    "res_null_null2=res_null_null[~res_null_null.index.isin(res_null_last_stops.index)]\n",
    "del res_null_null\n",
    "res_null_null=res_null_null2[~res_null_null2.index.isin(res_null_first_stops.index)].drop(['site_id'], axis=1).drop(['site_id_2'], axis=1)\n",
    "del res_null_null2"
   ]
  },
  {
   "cell_type": "code",
   "execution_count": 461,
   "metadata": {},
   "outputs": [],
   "source": [
    "res_null_null=res_null_null.reset_index()\n",
    "res_null_last_stops=res_null_last_stops.reset_index()\n",
    "res_null_first_stops=res_null_first_stops.reset_index()"
   ]
  },
  {
   "cell_type": "code",
   "execution_count": 462,
   "metadata": {},
   "outputs": [
    {
     "data": {
      "text/plain": [
       "0"
      ]
     },
     "execution_count": 462,
     "metadata": {},
     "output_type": "execute_result"
    }
   ],
   "source": [
    "len(res)-(len(res_not_null)+len(res_null_null)+len(res_null_last_stops)+len(res_null_first_stops))"
   ]
  },
  {
   "cell_type": "code",
   "execution_count": 463,
   "metadata": {},
   "outputs": [
    {
     "data": {
      "text/plain": [
       "48818"
      ]
     },
     "execution_count": 463,
     "metadata": {},
     "output_type": "execute_result"
    }
   ],
   "source": [
    "len(DATA_bank_pick)"
   ]
  },
  {
   "cell_type": "code",
   "execution_count": 464,
   "metadata": {},
   "outputs": [
    {
     "data": {
      "text/plain": [
       "105070"
      ]
     },
     "execution_count": 464,
     "metadata": {},
     "output_type": "execute_result"
    }
   ],
   "source": [
    "res['c'].dropna().sum()"
   ]
  },
  {
   "cell_type": "code",
   "execution_count": null,
   "metadata": {},
   "outputs": [],
   "source": []
  },
  {
   "cell_type": "code",
   "execution_count": null,
   "metadata": {},
   "outputs": [],
   "source": []
  },
  {
   "cell_type": "code",
   "execution_count": 465,
   "metadata": {},
   "outputs": [
    {
     "data": {
      "text/plain": [
       "array([1], dtype=int64)"
      ]
     },
     "execution_count": 465,
     "metadata": {},
     "output_type": "execute_result"
    }
   ],
   "source": [
    "res_null_null['c'].unique()"
   ]
  },
  {
   "cell_type": "markdown",
   "metadata": {},
   "source": [
    "Добавляем банк"
   ]
  },
  {
   "cell_type": "code",
   "execution_count": 466,
   "metadata": {},
   "outputs": [],
   "source": [
    "#добавили в выборку, где не привязались посл.остановки баноквские карты, где есть валидация начала\n",
    "DATA_bank_ssid=DATA_bank_pick[DATA_bank_pick['site_id']>0]\n",
    "DATA_bank_ssid['c']=1\n",
    "DATA_bank_ssid=DATA_bank_ssid[['mr_id','site_id','c']]\n",
    "res_null_last_stops=res_null_last_stops.append(DATA_bank_ssid).reset_index()"
   ]
  },
  {
   "cell_type": "code",
   "execution_count": 467,
   "metadata": {},
   "outputs": [],
   "source": [
    "#добавили в выборку, где ничего не привязалось баноквские карты, где нет валидаций начала\n",
    "DATA_bank_null=DATA_bank_pick[~DATA_bank_pick.index.isin(DATA_bank_ssid.index)]\n",
    "DATA_bank_null['c']=1\n",
    "DATA_bank_null=DATA_bank_null[['mr_id','site_id','c']]\n",
    "res_null_null=res_null_null.append(DATA_bank_null).reset_index()"
   ]
  },
  {
   "cell_type": "code",
   "execution_count": null,
   "metadata": {},
   "outputs": [],
   "source": []
  },
  {
   "cell_type": "markdown",
   "metadata": {},
   "source": [
    "Сгруппировали все выгрузки, чтобы меньше хранить в оперативной памяти:"
   ]
  },
  {
   "cell_type": "code",
   "execution_count": 468,
   "metadata": {},
   "outputs": [],
   "source": [
    "res_null_null=res_null_null.fillna(0)"
   ]
  },
  {
   "cell_type": "code",
   "execution_count": 469,
   "metadata": {},
   "outputs": [],
   "source": [
    "res_null_null=res_null_null.groupby(['mr_id']).agg({'c':np.sum}).reset_index() "
   ]
  },
  {
   "cell_type": "code",
   "execution_count": 470,
   "metadata": {},
   "outputs": [],
   "source": [
    "res_null_last_stops=res_null_last_stops.groupby(['mr_id','site_id']).agg({'c':np.sum}).reset_index() "
   ]
  },
  {
   "cell_type": "code",
   "execution_count": 471,
   "metadata": {},
   "outputs": [],
   "source": [
    "res_null_first_stops=res_null_first_stops.groupby(['mr_id','site_id_2']).agg({'c':np.sum}).reset_index() "
   ]
  },
  {
   "cell_type": "code",
   "execution_count": 472,
   "metadata": {},
   "outputs": [],
   "source": [
    "res_not_null['c']=1\n",
    "res_not_null=res_not_null.groupby(['mr_id','site_id','site_id_2']).agg({'c':np.sum}).reset_index() "
   ]
  },
  {
   "cell_type": "code",
   "execution_count": 473,
   "metadata": {},
   "outputs": [],
   "source": [
    "res_not_null=res_not_null.sort_values(by=['c'],ascending=False)"
   ]
  },
  {
   "cell_type": "markdown",
   "metadata": {},
   "source": [
    "Определяем наиболее подходящие остановки для высадки на маршруте:"
   ]
  },
  {
   "cell_type": "code",
   "execution_count": 474,
   "metadata": {},
   "outputs": [],
   "source": [
    "#Размазываем вход-выход для случая, когда мы знаем ВХОД\n",
    "def input_func(res_not_null):\n",
    "    input_=res_not_null.groupby(['site_id','site_id_2']).agg({'c':np.sum}).reset_index() \n",
    "    sum_mr_id=input_.groupby(['site_id']).agg({'c':np.sum}).reset_index() \n",
    "    input_=input_.merge(sum_mr_id, on =['site_id'])\n",
    "    input_['c_x']=input_['c_x']/input_['c_y']\n",
    "    input_=input_.drop(['c_y'], axis=1).rename(columns={'c_x':'c'})\n",
    "    return input_"
   ]
  },
  {
   "cell_type": "code",
   "execution_count": 475,
   "metadata": {},
   "outputs": [],
   "source": [
    "#Размазываем вход-выход для случая, когда мы знаем ВЫХОД\n",
    "def exit_func(res_not_null):\n",
    "    exit=res_not_null.groupby(['site_id','site_id_2']).agg({'c':np.sum}).reset_index() \n",
    "    sum_mr_id=exit.groupby(['site_id_2']).agg({'c':np.sum}).reset_index() \n",
    "    exit=exit.merge(sum_mr_id, on =['site_id_2'])\n",
    "    exit['c_x']=exit['c_x']/exit['c_y']\n",
    "    exit=exit.drop(['c_y'], axis=1).rename(columns={'c_x':'c'})\n",
    "    return exit"
   ]
  },
  {
   "cell_type": "code",
   "execution_count": 476,
   "metadata": {},
   "outputs": [],
   "source": [
    "#Там где не определился конец поездки, выбираем наиболее подходящую SsID для выхода (пропорционально выходу)\n",
    "input_=input_func(res_not_null)\n",
    "res_null_last_stops2=res_null_last_stops.merge(input_,on=['site_id'],how='left')\n",
    "res_null_last_stops2['c']=res_null_last_stops2['c_x']*res_null_last_stops2['c_y']\n",
    "res_null_last_stops2=res_null_last_stops2.groupby(['mr_id','site_id','site_id_2']).agg({'c':np.sum}).reset_index()"
   ]
  },
  {
   "cell_type": "code",
   "execution_count": 477,
   "metadata": {},
   "outputs": [],
   "source": [
    "#записываем результат\n",
    "res_null_last_stops2=res_null_last_stops2.fillna(0)\n",
    "res_not_null=res_not_null.append(res_null_last_stops2[res_null_last_stops2['site_id_2']>0])"
   ]
  },
  {
   "cell_type": "code",
   "execution_count": 478,
   "metadata": {},
   "outputs": [],
   "source": [
    "#записываем оставшиеся непривязавшиеся остановки\n",
    "res_null_last_stops3=res_null_last_stops2[res_null_last_stops2['site_id_2']==0]\n",
    "res_null_null=res_null_null.append(res_null_last_stops3.drop(['site_id_2'], axis=1).drop(['site_id'], axis=1))\n",
    "del res_null_last_stops2\n",
    "del res_null_last_stops"
   ]
  },
  {
   "cell_type": "code",
   "execution_count": 479,
   "metadata": {},
   "outputs": [],
   "source": [
    "#Там где не определился конец поездки, выбираем наиболее подходящую SsID для выхода (пропорционально входу)\n",
    "exit=exit_func(res_not_null)\n",
    "res_null_first_stops2=res_null_first_stops.merge(exit,on=['site_id_2'],how='left')\n",
    "res_null_first_stops2['c']=res_null_first_stops2['c_x']*res_null_first_stops2['c_y']\n",
    "res_null_first_stops2=res_null_first_stops2.groupby(['mr_id','site_id','site_id_2']).agg({'c':np.sum}).reset_index()\n",
    "res_null_first_stops2=res_null_firstt_stops2.fillna(0)\n",
    "#записываем результат\n",
    "res_not_null=res_not_null.append(res_null_first_stops2[res_null_first_stops2['site_id_2']>0])"
   ]
  },
  {
   "cell_type": "code",
   "execution_count": 480,
   "metadata": {},
   "outputs": [],
   "source": [
    "#записываем оставшиеся непривязавшиеся остановки\n",
    "res_null_first_stops3=res_null_first_stops2[res_null_first_stops2['site_id_2']==0]\n",
    "res_null_null=res_null_null.append(res_null_first_stops3.drop(['site_id_2'], axis=1).drop(['site_id'], axis=1))\n",
    "del res_null_first_stops2\n",
    "del res_null_first_stops\n",
    "del res_null_first_stops3"
   ]
  },
  {
   "cell_type": "markdown",
   "metadata": {},
   "source": [
    "Снова группируем"
   ]
  },
  {
   "cell_type": "code",
   "execution_count": 481,
   "metadata": {},
   "outputs": [],
   "source": [
    "res_not_null=res_not_null.groupby(['mr_id','site_id','site_id_2']).agg({'c':np.sum}).reset_index() "
   ]
  },
  {
   "cell_type": "code",
   "execution_count": 482,
   "metadata": {},
   "outputs": [
    {
     "data": {
      "text/plain": [
       "126443.0"
      ]
     },
     "execution_count": 482,
     "metadata": {},
     "output_type": "execute_result"
    }
   ],
   "source": [
    "res_not_null['c'].sum()"
   ]
  },
  {
   "cell_type": "code",
   "execution_count": 483,
   "metadata": {},
   "outputs": [],
   "source": [
    "#Размазываем вход-выход для случая, когда мы НИЧЕГО НЕ ЗНАЕМ\n",
    "exit_input=res_not_null.groupby(['mr_id','site_id','site_id_2']).agg({'c':np.sum}).reset_index() \n",
    "sum_mr_id=exit_input.groupby(['mr_id']).agg({'c':np.sum}).reset_index() \n",
    "exit_input=exit_input.merge(sum_mr_id, on ='mr_id')\n",
    "exit_input['c_x']=exit_input['c_x']/exit_input['c_y']\n",
    "exit_input=exit_input.drop(['c_y'], axis=1).rename(columns={'c_x':'c'})"
   ]
  },
  {
   "cell_type": "code",
   "execution_count": 484,
   "metadata": {},
   "outputs": [
    {
     "data": {
      "text/html": [
       "<div>\n",
       "<style scoped>\n",
       "    .dataframe tbody tr th:only-of-type {\n",
       "        vertical-align: middle;\n",
       "    }\n",
       "\n",
       "    .dataframe tbody tr th {\n",
       "        vertical-align: top;\n",
       "    }\n",
       "\n",
       "    .dataframe thead th {\n",
       "        text-align: right;\n",
       "    }\n",
       "</style>\n",
       "<table border=\"1\" class=\"dataframe\">\n",
       "  <thead>\n",
       "    <tr style=\"text-align: right;\">\n",
       "      <th></th>\n",
       "      <th>mr_id</th>\n",
       "      <th>site_id</th>\n",
       "      <th>site_id_2</th>\n",
       "      <th>c</th>\n",
       "    </tr>\n",
       "  </thead>\n",
       "  <tbody>\n",
       "    <tr>\n",
       "      <th>0</th>\n",
       "      <td>0.0</td>\n",
       "      <td>31.0</td>\n",
       "      <td>1.0</td>\n",
       "      <td>0.000160</td>\n",
       "    </tr>\n",
       "    <tr>\n",
       "      <th>1</th>\n",
       "      <td>0.0</td>\n",
       "      <td>31.0</td>\n",
       "      <td>3.0</td>\n",
       "      <td>0.000017</td>\n",
       "    </tr>\n",
       "    <tr>\n",
       "      <th>2</th>\n",
       "      <td>0.0</td>\n",
       "      <td>31.0</td>\n",
       "      <td>4.0</td>\n",
       "      <td>0.000034</td>\n",
       "    </tr>\n",
       "    <tr>\n",
       "      <th>3</th>\n",
       "      <td>0.0</td>\n",
       "      <td>31.0</td>\n",
       "      <td>5.0</td>\n",
       "      <td>0.000034</td>\n",
       "    </tr>\n",
       "    <tr>\n",
       "      <th>4</th>\n",
       "      <td>0.0</td>\n",
       "      <td>31.0</td>\n",
       "      <td>7.0</td>\n",
       "      <td>0.000017</td>\n",
       "    </tr>\n",
       "    <tr>\n",
       "      <th>...</th>\n",
       "      <td>...</td>\n",
       "      <td>...</td>\n",
       "      <td>...</td>\n",
       "      <td>...</td>\n",
       "    </tr>\n",
       "    <tr>\n",
       "      <th>131709</th>\n",
       "      <td>306.0</td>\n",
       "      <td>794.0</td>\n",
       "      <td>376.0</td>\n",
       "      <td>0.011852</td>\n",
       "    </tr>\n",
       "    <tr>\n",
       "      <th>131710</th>\n",
       "      <td>306.0</td>\n",
       "      <td>794.0</td>\n",
       "      <td>377.0</td>\n",
       "      <td>0.011852</td>\n",
       "    </tr>\n",
       "    <tr>\n",
       "      <th>131711</th>\n",
       "      <td>306.0</td>\n",
       "      <td>794.0</td>\n",
       "      <td>507.0</td>\n",
       "      <td>0.002328</td>\n",
       "    </tr>\n",
       "    <tr>\n",
       "      <th>131712</th>\n",
       "      <td>306.0</td>\n",
       "      <td>794.0</td>\n",
       "      <td>577.0</td>\n",
       "      <td>0.002328</td>\n",
       "    </tr>\n",
       "    <tr>\n",
       "      <th>131713</th>\n",
       "      <td>306.0</td>\n",
       "      <td>794.0</td>\n",
       "      <td>798.0</td>\n",
       "      <td>0.011852</td>\n",
       "    </tr>\n",
       "  </tbody>\n",
       "</table>\n",
       "<p>131714 rows × 4 columns</p>\n",
       "</div>"
      ],
      "text/plain": [
       "        mr_id  site_id  site_id_2         c\n",
       "0         0.0     31.0        1.0  0.000160\n",
       "1         0.0     31.0        3.0  0.000017\n",
       "2         0.0     31.0        4.0  0.000034\n",
       "3         0.0     31.0        5.0  0.000034\n",
       "4         0.0     31.0        7.0  0.000017\n",
       "...       ...      ...        ...       ...\n",
       "131709  306.0    794.0      376.0  0.011852\n",
       "131710  306.0    794.0      377.0  0.011852\n",
       "131711  306.0    794.0      507.0  0.002328\n",
       "131712  306.0    794.0      577.0  0.002328\n",
       "131713  306.0    794.0      798.0  0.011852\n",
       "\n",
       "[131714 rows x 4 columns]"
      ]
     },
     "execution_count": 484,
     "metadata": {},
     "output_type": "execute_result"
    }
   ],
   "source": [
    "exit_input"
   ]
  },
  {
   "cell_type": "code",
   "execution_count": 529,
   "metadata": {},
   "outputs": [],
   "source": [
    "#Там где ничего не определилось, размазываем валидацию по всем парам вероятным :\n",
    "res_null_null2=res_null_null.merge(exit_input,on=['mr_id'],how='left')"
   ]
  },
  {
   "cell_type": "code",
   "execution_count": 530,
   "metadata": {},
   "outputs": [],
   "source": [
    "del res_not_null2"
   ]
  },
  {
   "cell_type": "code",
   "execution_count": 531,
   "metadata": {},
   "outputs": [],
   "source": [
    "res_null_null2['c']=res_null_null2['c_x']*res_null_null2['c_y']"
   ]
  },
  {
   "cell_type": "code",
   "execution_count": 532,
   "metadata": {},
   "outputs": [],
   "source": [
    "res_null_null2=res_null_null2.drop('c_x',axis=1).drop('c_y',axis=1)"
   ]
  },
  {
   "cell_type": "code",
   "execution_count": 533,
   "metadata": {},
   "outputs": [],
   "source": [
    "res_not_null2=res_not_null.append(res_null_null2)"
   ]
  },
  {
   "cell_type": "code",
   "execution_count": 534,
   "metadata": {},
   "outputs": [],
   "source": [
    "res_null_null2=res_null_null2.fillna(0)"
   ]
  },
  {
   "cell_type": "code",
   "execution_count": 535,
   "metadata": {},
   "outputs": [],
   "source": [
    "res_not_null2=res_not_null2.groupby(['site_id','site_id_2']).agg({'c':np.sum}).reset_index()"
   ]
  },
  {
   "cell_type": "code",
   "execution_count": 536,
   "metadata": {},
   "outputs": [],
   "source": [
    "itog=res_not_null2['c'].sum()"
   ]
  },
  {
   "cell_type": "code",
   "execution_count": 537,
   "metadata": {},
   "outputs": [
    {
     "data": {
      "text/plain": [
       "137923.00000000003"
      ]
     },
     "execution_count": 537,
     "metadata": {},
     "output_type": "execute_result"
    }
   ],
   "source": [
    "itog"
   ]
  },
  {
   "cell_type": "code",
   "execution_count": 538,
   "metadata": {},
   "outputs": [],
   "source": [
    "DAY=pd.read_csv('For_matrix_2020_09_28.csv', sep = ',', encoding='utf-8')"
   ]
  },
  {
   "cell_type": "markdown",
   "metadata": {},
   "source": [
    "Кол-во валидаций на НГПТ за день составило:"
   ]
  },
  {
   "cell_type": "code",
   "execution_count": 539,
   "metadata": {},
   "outputs": [],
   "source": [
    "day=len(DAY)"
   ]
  },
  {
   "cell_type": "code",
   "execution_count": 540,
   "metadata": {},
   "outputs": [
    {
     "data": {
      "text/plain": [
       "581500"
      ]
     },
     "execution_count": 540,
     "metadata": {},
     "output_type": "execute_result"
    }
   ],
   "source": [
    "day"
   ]
  },
  {
   "cell_type": "markdown",
   "metadata": {},
   "source": [
    "Кол-во валидаций на НГПТ за час пик день составило:"
   ]
  },
  {
   "cell_type": "code",
   "execution_count": 541,
   "metadata": {},
   "outputs": [],
   "source": [
    "DAY_pick=DAY[DAY['Дата и время поездки'].str.contains( ' 07:')]\\\n",
    "    .append(DAY[DAY['Дата и время поездки'].str.contains( ' 08:')])\\\n",
    "    .append(DAY[DAY['Дата и время поездки'].str.contains( ' 09:')])\n",
    "pick=len(DAY_pick)"
   ]
  },
  {
   "cell_type": "code",
   "execution_count": 542,
   "metadata": {},
   "outputs": [
    {
     "data": {
      "text/plain": [
       "138074"
      ]
     },
     "execution_count": 542,
     "metadata": {},
     "output_type": "execute_result"
    }
   ],
   "source": [
    "pick"
   ]
  },
  {
   "attachments": {},
   "cell_type": "markdown",
   "metadata": {},
   "source": [
    "Годовой поток по пригородным маршрутам составил 15369619\n",
    "\n",
    "Переход к месяцу Октябрь от года - 10,73 (делим)\n",
    "\n",
    "Переход к одному дню октября = 396 889 (средний будний день в октябре 2019 года)/10 852 053 (суммарный месячный поток в октябре 2019 за год)\n",
    "\n",
    "Переход к часу - пик - делим кол-во валидаций за день к количеству валидаций за час пик "
   ]
  },
  {
   "cell_type": "code",
   "execution_count": 543,
   "metadata": {},
   "outputs": [
    {
     "data": {
      "text/plain": [
       "12438.921399743787"
      ]
     },
     "execution_count": 543,
     "metadata": {},
     "output_type": "execute_result"
    }
   ],
   "source": [
    "(15369619/10.73)*(396889/10852053)*(pick/day)"
   ]
  },
  {
   "cell_type": "code",
   "execution_count": 544,
   "metadata": {},
   "outputs": [],
   "source": [
    "res_not_null2['c']=res_not_null2['c']+(15369619/10.73)*(396889/10852053)*(pick/day)/itog"
   ]
  },
  {
   "cell_type": "code",
   "execution_count": 545,
   "metadata": {},
   "outputs": [
    {
     "data": {
      "text/plain": [
       "140292.2238797827"
      ]
     },
     "execution_count": 545,
     "metadata": {},
     "output_type": "execute_result"
    }
   ],
   "source": [
    "res_not_null2['c'].sum()"
   ]
  },
  {
   "cell_type": "code",
   "execution_count": 564,
   "metadata": {},
   "outputs": [],
   "source": [
    "matrix=res_not_null2.groupby(['site_id','site_id_2']).agg({'c':np.sum}).reset_index()"
   ]
  },
  {
   "cell_type": "code",
   "execution_count": 565,
   "metadata": {},
   "outputs": [],
   "source": [
    "matrix=matrix.sort_values(by='c',ascending=False)"
   ]
  },
  {
   "cell_type": "code",
   "execution_count": 566,
   "metadata": {},
   "outputs": [],
   "source": [
    "matrix['site_id']=matrix['site_id'].astype('int64')"
   ]
  },
  {
   "cell_type": "code",
   "execution_count": 567,
   "metadata": {},
   "outputs": [],
   "source": [
    "matrix['c']=round(matrix['c'])"
   ]
  },
  {
   "cell_type": "code",
   "execution_count": 570,
   "metadata": {},
   "outputs": [],
   "source": [
    "matrix['c']=matrix['c'].astype(int)"
   ]
  },
  {
   "cell_type": "code",
   "execution_count": 572,
   "metadata": {},
   "outputs": [],
   "source": [
    "matrix['site_id_2']=matrix['site_id_2'].astype('int64')"
   ]
  },
  {
   "cell_type": "code",
   "execution_count": null,
   "metadata": {},
   "outputs": [],
   "source": []
  },
  {
   "cell_type": "code",
   "execution_count": null,
   "metadata": {},
   "outputs": [],
   "source": []
  },
  {
   "cell_type": "code",
   "execution_count": null,
   "metadata": {},
   "outputs": [],
   "source": []
  },
  {
   "cell_type": "code",
   "execution_count": null,
   "metadata": {},
   "outputs": [],
   "source": []
  },
  {
   "cell_type": "code",
   "execution_count": null,
   "metadata": {},
   "outputs": [],
   "source": []
  },
  {
   "cell_type": "code",
   "execution_count": null,
   "metadata": {},
   "outputs": [],
   "source": []
  },
  {
   "cell_type": "code",
   "execution_count": 573,
   "metadata": {},
   "outputs": [
    {
     "data": {
      "text/html": [
       "<div>\n",
       "<style scoped>\n",
       "    .dataframe tbody tr th:only-of-type {\n",
       "        vertical-align: middle;\n",
       "    }\n",
       "\n",
       "    .dataframe tbody tr th {\n",
       "        vertical-align: top;\n",
       "    }\n",
       "\n",
       "    .dataframe thead th {\n",
       "        text-align: right;\n",
       "    }\n",
       "</style>\n",
       "<table border=\"1\" class=\"dataframe\">\n",
       "  <thead>\n",
       "    <tr style=\"text-align: right;\">\n",
       "      <th></th>\n",
       "      <th>site_id</th>\n",
       "      <th>site_id_2</th>\n",
       "      <th>c</th>\n",
       "    </tr>\n",
       "  </thead>\n",
       "  <tbody>\n",
       "    <tr>\n",
       "      <th>15941</th>\n",
       "      <td>262</td>\n",
       "      <td>579</td>\n",
       "      <td>767</td>\n",
       "    </tr>\n",
       "    <tr>\n",
       "      <th>15951</th>\n",
       "      <td>262</td>\n",
       "      <td>995</td>\n",
       "      <td>503</td>\n",
       "    </tr>\n",
       "    <tr>\n",
       "      <th>17983</th>\n",
       "      <td>348</td>\n",
       "      <td>579</td>\n",
       "      <td>403</td>\n",
       "    </tr>\n",
       "    <tr>\n",
       "      <th>11870</th>\n",
       "      <td>201</td>\n",
       "      <td>579</td>\n",
       "      <td>392</td>\n",
       "    </tr>\n",
       "    <tr>\n",
       "      <th>15934</th>\n",
       "      <td>262</td>\n",
       "      <td>546</td>\n",
       "      <td>348</td>\n",
       "    </tr>\n",
       "    <tr>\n",
       "      <th>...</th>\n",
       "      <td>...</td>\n",
       "      <td>...</td>\n",
       "      <td>...</td>\n",
       "    </tr>\n",
       "    <tr>\n",
       "      <th>16228</th>\n",
       "      <td>292</td>\n",
       "      <td>86</td>\n",
       "      <td>1</td>\n",
       "    </tr>\n",
       "    <tr>\n",
       "      <th>16227</th>\n",
       "      <td>292</td>\n",
       "      <td>64</td>\n",
       "      <td>1</td>\n",
       "    </tr>\n",
       "    <tr>\n",
       "      <th>16226</th>\n",
       "      <td>292</td>\n",
       "      <td>33</td>\n",
       "      <td>1</td>\n",
       "    </tr>\n",
       "    <tr>\n",
       "      <th>25352</th>\n",
       "      <td>807</td>\n",
       "      <td>291</td>\n",
       "      <td>1</td>\n",
       "    </tr>\n",
       "    <tr>\n",
       "      <th>16795</th>\n",
       "      <td>303</td>\n",
       "      <td>80</td>\n",
       "      <td>1</td>\n",
       "    </tr>\n",
       "  </tbody>\n",
       "</table>\n",
       "<p>26270 rows × 3 columns</p>\n",
       "</div>"
      ],
      "text/plain": [
       "       site_id  site_id_2    c\n",
       "15941      262        579  767\n",
       "15951      262        995  503\n",
       "17983      348        579  403\n",
       "11870      201        579  392\n",
       "15934      262        546  348\n",
       "...        ...        ...  ...\n",
       "16228      292         86    1\n",
       "16227      292         64    1\n",
       "16226      292         33    1\n",
       "25352      807        291    1\n",
       "16795      303         80    1\n",
       "\n",
       "[26270 rows x 3 columns]"
      ]
     },
     "execution_count": 573,
     "metadata": {},
     "output_type": "execute_result"
    }
   ],
   "source": [
    "matrix"
   ]
  },
  {
   "cell_type": "code",
   "execution_count": null,
   "metadata": {},
   "outputs": [],
   "source": []
  },
  {
   "cell_type": "code",
   "execution_count": null,
   "metadata": {},
   "outputs": [],
   "source": []
  },
  {
   "cell_type": "code",
   "execution_count": 574,
   "metadata": {},
   "outputs": [],
   "source": [
    "matrix.to_csv('primer_matrix.csv')"
   ]
  },
  {
   "cell_type": "markdown",
   "metadata": {},
   "source": [
    "Считаем результаты помаршрутно"
   ]
  },
  {
   "cell_type": "code",
   "execution_count": 509,
   "metadata": {},
   "outputs": [
    {
     "ename": "KeyError",
     "evalue": "'Код Маршрута'",
     "output_type": "error",
     "traceback": [
      "\u001b[1;31m---------------------------------------------------------------------------\u001b[0m",
      "\u001b[1;31mKeyError\u001b[0m                                  Traceback (most recent call last)",
      "\u001b[1;32m<ipython-input-509-053357b0ac44>\u001b[0m in \u001b[0;36m<module>\u001b[1;34m\u001b[0m\n\u001b[1;32m----> 1\u001b[1;33m \u001b[0mres_marsh\u001b[0m\u001b[1;33m=\u001b[0m\u001b[0mres_not_null2\u001b[0m\u001b[1;33m.\u001b[0m\u001b[0mgroupby\u001b[0m\u001b[1;33m(\u001b[0m\u001b[1;33m[\u001b[0m\u001b[1;34m'Код Маршрута'\u001b[0m\u001b[1;33m,\u001b[0m\u001b[1;34m'ssId'\u001b[0m\u001b[1;33m,\u001b[0m\u001b[1;34m'ssId_2'\u001b[0m\u001b[1;33m]\u001b[0m\u001b[1;33m)\u001b[0m\u001b[1;33m.\u001b[0m\u001b[0magg\u001b[0m\u001b[1;33m(\u001b[0m\u001b[1;33m{\u001b[0m\u001b[1;34m'c'\u001b[0m\u001b[1;33m:\u001b[0m \u001b[0mnp\u001b[0m\u001b[1;33m.\u001b[0m\u001b[0msum\u001b[0m\u001b[1;33m}\u001b[0m\u001b[1;33m)\u001b[0m\u001b[1;33m.\u001b[0m\u001b[0mreset_index\u001b[0m\u001b[1;33m(\u001b[0m\u001b[1;33m)\u001b[0m\u001b[1;33m\u001b[0m\u001b[1;33m\u001b[0m\u001b[0m\n\u001b[0m",
      "\u001b[1;32m~\\Anaconda3\\lib\\site-packages\\pandas\\core\\frame.py\u001b[0m in \u001b[0;36mgroupby\u001b[1;34m(self, by, axis, level, as_index, sort, group_keys, squeeze, observed)\u001b[0m\n\u001b[0;32m   5808\u001b[0m             \u001b[0mgroup_keys\u001b[0m\u001b[1;33m=\u001b[0m\u001b[0mgroup_keys\u001b[0m\u001b[1;33m,\u001b[0m\u001b[1;33m\u001b[0m\u001b[1;33m\u001b[0m\u001b[0m\n\u001b[0;32m   5809\u001b[0m             \u001b[0msqueeze\u001b[0m\u001b[1;33m=\u001b[0m\u001b[0msqueeze\u001b[0m\u001b[1;33m,\u001b[0m\u001b[1;33m\u001b[0m\u001b[1;33m\u001b[0m\u001b[0m\n\u001b[1;32m-> 5810\u001b[1;33m             \u001b[0mobserved\u001b[0m\u001b[1;33m=\u001b[0m\u001b[0mobserved\u001b[0m\u001b[1;33m,\u001b[0m\u001b[1;33m\u001b[0m\u001b[1;33m\u001b[0m\u001b[0m\n\u001b[0m\u001b[0;32m   5811\u001b[0m         )\n\u001b[0;32m   5812\u001b[0m \u001b[1;33m\u001b[0m\u001b[0m\n",
      "\u001b[1;32m~\\Anaconda3\\lib\\site-packages\\pandas\\core\\groupby\\groupby.py\u001b[0m in \u001b[0;36m__init__\u001b[1;34m(self, obj, keys, axis, level, grouper, exclusions, selection, as_index, sort, group_keys, squeeze, observed, mutated)\u001b[0m\n\u001b[0;32m    408\u001b[0m                 \u001b[0msort\u001b[0m\u001b[1;33m=\u001b[0m\u001b[0msort\u001b[0m\u001b[1;33m,\u001b[0m\u001b[1;33m\u001b[0m\u001b[1;33m\u001b[0m\u001b[0m\n\u001b[0;32m    409\u001b[0m                 \u001b[0mobserved\u001b[0m\u001b[1;33m=\u001b[0m\u001b[0mobserved\u001b[0m\u001b[1;33m,\u001b[0m\u001b[1;33m\u001b[0m\u001b[1;33m\u001b[0m\u001b[0m\n\u001b[1;32m--> 410\u001b[1;33m                 \u001b[0mmutated\u001b[0m\u001b[1;33m=\u001b[0m\u001b[0mself\u001b[0m\u001b[1;33m.\u001b[0m\u001b[0mmutated\u001b[0m\u001b[1;33m,\u001b[0m\u001b[1;33m\u001b[0m\u001b[1;33m\u001b[0m\u001b[0m\n\u001b[0m\u001b[0;32m    411\u001b[0m             )\n\u001b[0;32m    412\u001b[0m \u001b[1;33m\u001b[0m\u001b[0m\n",
      "\u001b[1;32m~\\Anaconda3\\lib\\site-packages\\pandas\\core\\groupby\\grouper.py\u001b[0m in \u001b[0;36mget_grouper\u001b[1;34m(obj, key, axis, level, sort, observed, mutated, validate)\u001b[0m\n\u001b[0;32m    598\u001b[0m                 \u001b[0min_axis\u001b[0m\u001b[1;33m,\u001b[0m \u001b[0mname\u001b[0m\u001b[1;33m,\u001b[0m \u001b[0mlevel\u001b[0m\u001b[1;33m,\u001b[0m \u001b[0mgpr\u001b[0m \u001b[1;33m=\u001b[0m \u001b[1;32mFalse\u001b[0m\u001b[1;33m,\u001b[0m \u001b[1;32mNone\u001b[0m\u001b[1;33m,\u001b[0m \u001b[0mgpr\u001b[0m\u001b[1;33m,\u001b[0m \u001b[1;32mNone\u001b[0m\u001b[1;33m\u001b[0m\u001b[1;33m\u001b[0m\u001b[0m\n\u001b[0;32m    599\u001b[0m             \u001b[1;32melse\u001b[0m\u001b[1;33m:\u001b[0m\u001b[1;33m\u001b[0m\u001b[1;33m\u001b[0m\u001b[0m\n\u001b[1;32m--> 600\u001b[1;33m                 \u001b[1;32mraise\u001b[0m \u001b[0mKeyError\u001b[0m\u001b[1;33m(\u001b[0m\u001b[0mgpr\u001b[0m\u001b[1;33m)\u001b[0m\u001b[1;33m\u001b[0m\u001b[1;33m\u001b[0m\u001b[0m\n\u001b[0m\u001b[0;32m    601\u001b[0m         \u001b[1;32melif\u001b[0m \u001b[0misinstance\u001b[0m\u001b[1;33m(\u001b[0m\u001b[0mgpr\u001b[0m\u001b[1;33m,\u001b[0m \u001b[0mGrouper\u001b[0m\u001b[1;33m)\u001b[0m \u001b[1;32mand\u001b[0m \u001b[0mgpr\u001b[0m\u001b[1;33m.\u001b[0m\u001b[0mkey\u001b[0m \u001b[1;32mis\u001b[0m \u001b[1;32mnot\u001b[0m \u001b[1;32mNone\u001b[0m\u001b[1;33m:\u001b[0m\u001b[1;33m\u001b[0m\u001b[1;33m\u001b[0m\u001b[0m\n\u001b[0;32m    602\u001b[0m             \u001b[1;31m# Add key to exclusions\u001b[0m\u001b[1;33m\u001b[0m\u001b[1;33m\u001b[0m\u001b[1;33m\u001b[0m\u001b[0m\n",
      "\u001b[1;31mKeyError\u001b[0m: 'Код Маршрута'"
     ]
    }
   ],
   "source": [
    "res_marsh=res_not_null2.groupby(['Код Маршрута','ssId','ssId_2']).agg({'c': np.sum}).reset_index()"
   ]
  },
  {
   "cell_type": "code",
   "execution_count": 510,
   "metadata": {},
   "outputs": [
    {
     "ename": "NameError",
     "evalue": "name 'res_marsh' is not defined",
     "output_type": "error",
     "traceback": [
      "\u001b[1;31m---------------------------------------------------------------------------\u001b[0m",
      "\u001b[1;31mNameError\u001b[0m                                 Traceback (most recent call last)",
      "\u001b[1;32m<ipython-input-510-2b981f9c4774>\u001b[0m in \u001b[0;36m<module>\u001b[1;34m\u001b[0m\n\u001b[1;32m----> 1\u001b[1;33m \u001b[0mres_marsh\u001b[0m\u001b[1;33m=\u001b[0m\u001b[0mres_marsh\u001b[0m\u001b[1;33m.\u001b[0m\u001b[0mmerge\u001b[0m\u001b[1;33m(\u001b[0m\u001b[0mstops\u001b[0m\u001b[1;33m,\u001b[0m \u001b[0mleft_on\u001b[0m \u001b[1;33m=\u001b[0m\u001b[1;34m'ssId'\u001b[0m\u001b[1;33m,\u001b[0m\u001b[0mright_on\u001b[0m \u001b[1;33m=\u001b[0m\u001b[1;34m'ssId'\u001b[0m\u001b[1;33m)\u001b[0m\u001b[0;31m\\\u001b[0m\u001b[1;33m\u001b[0m\u001b[1;33m\u001b[0m\u001b[0m\n\u001b[0m\u001b[0;32m      2\u001b[0m                     \u001b[1;33m.\u001b[0m\u001b[0mmerge\u001b[0m\u001b[1;33m(\u001b[0m\u001b[0mstops\u001b[0m\u001b[1;33m,\u001b[0m \u001b[0mleft_on\u001b[0m \u001b[1;33m=\u001b[0m\u001b[1;34m'ssId_2'\u001b[0m\u001b[1;33m,\u001b[0m\u001b[0mright_on\u001b[0m \u001b[1;33m=\u001b[0m\u001b[1;34m'ssId'\u001b[0m\u001b[1;33m)\u001b[0m\u001b[1;33m\u001b[0m\u001b[1;33m\u001b[0m\u001b[0m\n",
      "\u001b[1;31mNameError\u001b[0m: name 'res_marsh' is not defined"
     ]
    }
   ],
   "source": [
    "res_marsh=res_marsh.merge(stops, left_on ='ssId',right_on ='ssId')\\\n",
    "                    .merge(stops, left_on ='ssId_2',right_on ='ssId')"
   ]
  },
  {
   "cell_type": "code",
   "execution_count": null,
   "metadata": {},
   "outputs": [],
   "source": [
    "len(res_marsh)"
   ]
  },
  {
   "cell_type": "code",
   "execution_count": null,
   "metadata": {},
   "outputs": [],
   "source": [
    "marsh=pd.read_csv('Маршруты.csv', sep='\\t')"
   ]
  },
  {
   "cell_type": "code",
   "execution_count": null,
   "metadata": {},
   "outputs": [],
   "source": [
    "marsh=marsh.rename(columns={'ID маршрута':'Код Маршрута'})"
   ]
  },
  {
   "cell_type": "code",
   "execution_count": null,
   "metadata": {},
   "outputs": [],
   "source": [
    "res_marsh=res_marsh.merge(marsh, on ='Код Маршрута',how='left')"
   ]
  },
  {
   "cell_type": "code",
   "execution_count": null,
   "metadata": {},
   "outputs": [],
   "source": [
    "res_marsh.to_csv('res.csv')"
   ]
  },
  {
   "cell_type": "markdown",
   "metadata": {},
   "source": [
    "ПОДЕЛИТЬ НА 0,68 ВСЕ СТРОКИ!\n",
    "\n",
    "ДОБАВИТЬ МЕТРО!!!!!\n",
    "\n",
    "ПРОСТО ДОБАВИТЬ 15 369 619 в год (пересчитать сколько % это для часа пик)"
   ]
  },
  {
   "cell_type": "markdown",
   "metadata": {},
   "source": [
    "Годовой поток по валидациям - "
   ]
  },
  {
   "cell_type": "code",
   "execution_count": null,
   "metadata": {},
   "outputs": [],
   "source": [
    "(15369619/10,73)*len(res)/len(DATA)"
   ]
  },
  {
   "cell_type": "code",
   "execution_count": null,
   "metadata": {},
   "outputs": [],
   "source": []
  },
  {
   "cell_type": "markdown",
   "metadata": {},
   "source": [
    "привязываем к сайтам"
   ]
  },
  {
   "cell_type": "code",
   "execution_count": null,
   "metadata": {},
   "outputs": [],
   "source": []
  },
  {
   "cell_type": "code",
   "execution_count": null,
   "metadata": {},
   "outputs": [],
   "source": [
    "sites.head()"
   ]
  },
  {
   "cell_type": "code",
   "execution_count": null,
   "metadata": {},
   "outputs": [],
   "source": [
    "res.head()"
   ]
  },
  {
   "cell_type": "code",
   "execution_count": null,
   "metadata": {},
   "outputs": [],
   "source": [
    "res2=res[['ssId','ssId_2']]\n",
    "res2=res2.merge(sites,on='ssId')\n",
    "res2=res2[['ssId','ssId_2','site_id']]\n",
    "res2=res2.merge(sites,left_on='ssId_2', right_on='ssId')\n",
    "res2['c']=1\n",
    "res2=res2[['site_id_x','site_id_y','c']]\n",
    "res2=res2.groupby(['site_id_x','site_id_y']).agg({'c':np.sum}).reset_index()\n",
    "res2.to_csv('matrix_pick_2020_09_28.csv')"
   ]
  },
  {
   "cell_type": "code",
   "execution_count": null,
   "metadata": {},
   "outputs": [],
   "source": []
  },
  {
   "cell_type": "code",
   "execution_count": null,
   "metadata": {},
   "outputs": [],
   "source": []
  },
  {
   "cell_type": "code",
   "execution_count": null,
   "metadata": {},
   "outputs": [],
   "source": []
  },
  {
   "cell_type": "code",
   "execution_count": null,
   "metadata": {},
   "outputs": [],
   "source": []
  },
  {
   "cell_type": "code",
   "execution_count": null,
   "metadata": {},
   "outputs": [],
   "source": [
    "stops=pd.read_csv('stops.csv', sep=',')"
   ]
  },
  {
   "cell_type": "code",
   "execution_count": null,
   "metadata": {},
   "outputs": [],
   "source": [
    "res_marsh2=res_marsh2.merge(stops, left_on ='ssId',right_on ='ssId')\\\n",
    "                    .merge(stops, left_on ='ssId_2',right_on ='ssId')"
   ]
  },
  {
   "cell_type": "code",
   "execution_count": null,
   "metadata": {},
   "outputs": [],
   "source": [
    "res_marsh2.head()"
   ]
  },
  {
   "cell_type": "code",
   "execution_count": null,
   "metadata": {},
   "outputs": [],
   "source": [
    "from shapely.geometry import *\n",
    "from shapely.ops import *\n",
    "res_marsh2 = gpd.GeoDataFrame(res_marsh2, \\\n",
    "                              geometry = [LineString(xy) for xy in \n",
    "                              zip([Point(xy) for xy in zip(res_marsh2['ss_long_x'], res_marsh2['ss_lat_x'])], \n",
    "                              [Point(xy) for xy in zip(res_marsh2['ss_long_x'], res_marsh2['ss_lat_y'])])])"
   ]
  },
  {
   "cell_type": "code",
   "execution_count": null,
   "metadata": {},
   "outputs": [],
   "source": [
    "res_marsh2.crs='epsg:4326'\n",
    "res_marsh2.to_file(\"hour_pick.json\", driver=\"GeoJSON\", encoding='utf-8')"
   ]
  },
  {
   "cell_type": "code",
   "execution_count": null,
   "metadata": {},
   "outputs": [],
   "source": []
  },
  {
   "cell_type": "code",
   "execution_count": null,
   "metadata": {},
   "outputs": [],
   "source": []
  },
  {
   "cell_type": "code",
   "execution_count": null,
   "metadata": {},
   "outputs": [],
   "source": [
    "res_marsh2.to_csv('res.csv')"
   ]
  },
  {
   "cell_type": "code",
   "execution_count": null,
   "metadata": {},
   "outputs": [],
   "source": []
  },
  {
   "cell_type": "code",
   "execution_count": null,
   "metadata": {},
   "outputs": [],
   "source": []
  },
  {
   "cell_type": "code",
   "execution_count": null,
   "metadata": {},
   "outputs": [],
   "source": []
  },
  {
   "cell_type": "code",
   "execution_count": null,
   "metadata": {},
   "outputs": [],
   "source": []
  },
  {
   "cell_type": "code",
   "execution_count": null,
   "metadata": {},
   "outputs": [],
   "source": [
    "\n",
    "for_karta=res2.groupby(['Код Маршрута','Табельный номер','ssId','ss_lat','ss_long','start','finish']).agg({'c': np.sum}).reset_index()"
   ]
  },
  {
   "cell_type": "code",
   "execution_count": null,
   "metadata": {},
   "outputs": [],
   "source": []
  },
  {
   "cell_type": "code",
   "execution_count": null,
   "metadata": {},
   "outputs": [],
   "source": [
    "a_sta2 = gpd.GeoDataFrame(a_sta)\n",
    "a_sta2.crs='epsg:4326'\n",
    "a_sta2.to_file('XXXX.shp', driver='ESRI Shapefile', encoding='utf-8')"
   ]
  },
  {
   "cell_type": "code",
   "execution_count": null,
   "metadata": {},
   "outputs": [],
   "source": []
  },
  {
   "cell_type": "code",
   "execution_count": null,
   "metadata": {},
   "outputs": [],
   "source": []
  },
  {
   "cell_type": "code",
   "execution_count": null,
   "metadata": {},
   "outputs": [],
   "source": []
  },
  {
   "cell_type": "code",
   "execution_count": null,
   "metadata": {},
   "outputs": [],
   "source": []
  }
 ],
 "metadata": {
  "kernelspec": {
   "display_name": "Python 3",
   "language": "python",
   "name": "python3"
  },
  "language_info": {
   "codemirror_mode": {
    "name": "ipython",
    "version": 3
   },
   "file_extension": ".py",
   "mimetype": "text/x-python",
   "name": "python",
   "nbconvert_exporter": "python",
   "pygments_lexer": "ipython3",
   "version": "3.7.4"
  }
 },
 "nbformat": 4,
 "nbformat_minor": 4
}
