{
 "cells": [
  {
   "cell_type": "code",
   "execution_count": 69,
   "metadata": {
    "scrolled": true
   },
   "outputs": [],
   "source": [
    "import pandas as pd\n",
    "import geopandas as gpd\n",
    "import numpy as np\n",
    "import matplotlib.pyplot as plt\n",
    "from datetime import datetime\n",
    "import os\n",
    "from tqdm import tqdm_notebook as tqdm"
   ]
  },
  {
   "cell_type": "code",
   "execution_count": 70,
   "metadata": {},
   "outputs": [],
   "source": [
    "path = '.\\\\done_oct\\\\'"
   ]
  },
  {
   "cell_type": "code",
   "execution_count": 71,
   "metadata": {},
   "outputs": [],
   "source": [
    "path2 = '.\\\\data\\\\oct\\\\16\\\\'"
   ]
  },
  {
   "cell_type": "code",
   "execution_count": 4,
   "metadata": {},
   "outputs": [
    {
     "data": {
      "text/plain": [
       "'C:\\\\Users\\\\user\\\\Documents\\\\GIT\\\\city\\\\user_scripts\\\\masha_k\\\\Transnavigation\\\\algoritm'"
      ]
     },
     "execution_count": 4,
     "metadata": {},
     "output_type": "execute_result"
    }
   ],
   "source": [
    "pwd"
   ]
  },
  {
   "cell_type": "markdown",
   "metadata": {},
   "source": [
    "## ИЗМЕНИТЬ НАЗВАНИЯ ФАЙЛА!!! НЕ ЗАБЫТЬ"
   ]
  },
  {
   "cell_type": "markdown",
   "metadata": {},
   "source": [
    "Считываем данные по трекам с привязанными остановками"
   ]
  },
  {
   "cell_type": "code",
   "execution_count": 5,
   "metadata": {},
   "outputs": [],
   "source": [
    "res_stop = pd.read_csv(path+'res_2019_10_16.csv', sep = ';', encoding='utf-8')"
   ]
  },
  {
   "cell_type": "code",
   "execution_count": 6,
   "metadata": {},
   "outputs": [
    {
     "data": {
      "text/html": [
       "<div>\n",
       "<style scoped>\n",
       "    .dataframe tbody tr th:only-of-type {\n",
       "        vertical-align: middle;\n",
       "    }\n",
       "\n",
       "    .dataframe tbody tr th {\n",
       "        vertical-align: top;\n",
       "    }\n",
       "\n",
       "    .dataframe thead th {\n",
       "        text-align: right;\n",
       "    }\n",
       "</style>\n",
       "<table border=\"1\" class=\"dataframe\">\n",
       "  <thead>\n",
       "    <tr style=\"text-align: right;\">\n",
       "      <th></th>\n",
       "      <th>mr_id</th>\n",
       "      <th>rc_orderby</th>\n",
       "      <th>ssId</th>\n",
       "      <th>tr_id</th>\n",
       "      <th>timenav</th>\n",
       "      <th>len</th>\n",
       "      <th>geometry</th>\n",
       "      <th>ss_lat</th>\n",
       "      <th>ss_long</th>\n",
       "      <th>tabelnum</th>\n",
       "      <th>rl_id</th>\n",
       "    </tr>\n",
       "  </thead>\n",
       "  <tbody>\n",
       "    <tr>\n",
       "      <th>0</th>\n",
       "      <td>100</td>\n",
       "      <td>1</td>\n",
       "      <td>1460</td>\n",
       "      <td>500000338</td>\n",
       "      <td>2019-10-16 06:06:22</td>\n",
       "      <td>13</td>\n",
       "      <td>LINESTRING (50.155472 53.13672, 50.155472 53.1...</td>\n",
       "      <td>53.136825</td>\n",
       "      <td>50.155377</td>\n",
       "      <td>10193.0</td>\n",
       "      <td>59565</td>\n",
       "    </tr>\n",
       "    <tr>\n",
       "      <th>1</th>\n",
       "      <td>100</td>\n",
       "      <td>1</td>\n",
       "      <td>1460</td>\n",
       "      <td>500000338</td>\n",
       "      <td>2019-10-16 06:06:24</td>\n",
       "      <td>11</td>\n",
       "      <td>LINESTRING (50.155488 53.13675, 50.155488 53.1...</td>\n",
       "      <td>53.136825</td>\n",
       "      <td>50.155377</td>\n",
       "      <td>10193.0</td>\n",
       "      <td>59565</td>\n",
       "    </tr>\n",
       "    <tr>\n",
       "      <th>2</th>\n",
       "      <td>100</td>\n",
       "      <td>1</td>\n",
       "      <td>1460</td>\n",
       "      <td>500000338</td>\n",
       "      <td>2019-10-16 06:06:26</td>\n",
       "      <td>9</td>\n",
       "      <td>LINESTRING (50.155498 53.136772, 50.155498 53....</td>\n",
       "      <td>53.136825</td>\n",
       "      <td>50.155377</td>\n",
       "      <td>10193.0</td>\n",
       "      <td>59565</td>\n",
       "    </tr>\n",
       "    <tr>\n",
       "      <th>3</th>\n",
       "      <td>100</td>\n",
       "      <td>1</td>\n",
       "      <td>1460</td>\n",
       "      <td>500000338</td>\n",
       "      <td>2019-10-16 06:06:27</td>\n",
       "      <td>7</td>\n",
       "      <td>LINESTRING (50.155492 53.13681800000001, 50.15...</td>\n",
       "      <td>53.136825</td>\n",
       "      <td>50.155377</td>\n",
       "      <td>10193.0</td>\n",
       "      <td>59565</td>\n",
       "    </tr>\n",
       "    <tr>\n",
       "      <th>4</th>\n",
       "      <td>100</td>\n",
       "      <td>1</td>\n",
       "      <td>1460</td>\n",
       "      <td>500000338</td>\n",
       "      <td>2019-10-16 06:06:33</td>\n",
       "      <td>4</td>\n",
       "      <td>LINESTRING (50.155435 53.136842, 50.155435 53....</td>\n",
       "      <td>53.136825</td>\n",
       "      <td>50.155377</td>\n",
       "      <td>10193.0</td>\n",
       "      <td>59565</td>\n",
       "    </tr>\n",
       "  </tbody>\n",
       "</table>\n",
       "</div>"
      ],
      "text/plain": [
       "   mr_id  rc_orderby  ssId      tr_id              timenav  len  \\\n",
       "0    100           1  1460  500000338  2019-10-16 06:06:22   13   \n",
       "1    100           1  1460  500000338  2019-10-16 06:06:24   11   \n",
       "2    100           1  1460  500000338  2019-10-16 06:06:26    9   \n",
       "3    100           1  1460  500000338  2019-10-16 06:06:27    7   \n",
       "4    100           1  1460  500000338  2019-10-16 06:06:33    4   \n",
       "\n",
       "                                            geometry     ss_lat    ss_long  \\\n",
       "0  LINESTRING (50.155472 53.13672, 50.155472 53.1...  53.136825  50.155377   \n",
       "1  LINESTRING (50.155488 53.13675, 50.155488 53.1...  53.136825  50.155377   \n",
       "2  LINESTRING (50.155498 53.136772, 50.155498 53....  53.136825  50.155377   \n",
       "3  LINESTRING (50.155492 53.13681800000001, 50.15...  53.136825  50.155377   \n",
       "4  LINESTRING (50.155435 53.136842, 50.155435 53....  53.136825  50.155377   \n",
       "\n",
       "   tabelnum  rl_id  \n",
       "0   10193.0  59565  \n",
       "1   10193.0  59565  \n",
       "2   10193.0  59565  \n",
       "3   10193.0  59565  \n",
       "4   10193.0  59565  "
      ]
     },
     "execution_count": 6,
     "metadata": {},
     "output_type": "execute_result"
    }
   ],
   "source": [
    "res_stop.head()"
   ]
  },
  {
   "cell_type": "markdown",
   "metadata": {},
   "source": [
    "Определяем времена начала и конца для каждого табельного номера"
   ]
  },
  {
   "cell_type": "code",
   "execution_count": 7,
   "metadata": {},
   "outputs": [],
   "source": [
    "Samara_mr_id_marsh_valid_id = pd.read_csv(path+'Samara_mr_id_marsh_valid_id.csv', sep = ';', encoding = 'utf-8')"
   ]
  },
  {
   "cell_type": "code",
   "execution_count": 8,
   "metadata": {},
   "outputs": [
    {
     "data": {
      "text/html": [
       "<div>\n",
       "<style scoped>\n",
       "    .dataframe tbody tr th:only-of-type {\n",
       "        vertical-align: middle;\n",
       "    }\n",
       "\n",
       "    .dataframe tbody tr th {\n",
       "        vertical-align: top;\n",
       "    }\n",
       "\n",
       "    .dataframe thead th {\n",
       "        text-align: right;\n",
       "    }\n",
       "</style>\n",
       "<table border=\"1\" class=\"dataframe\">\n",
       "  <thead>\n",
       "    <tr style=\"text-align: right;\">\n",
       "      <th></th>\n",
       "      <th>code_marsh</th>\n",
       "      <th>mr_id</th>\n",
       "    </tr>\n",
       "  </thead>\n",
       "  <tbody>\n",
       "    <tr>\n",
       "      <th>0</th>\n",
       "      <td>10003456789</td>\n",
       "      <td>1</td>\n",
       "    </tr>\n",
       "    <tr>\n",
       "      <th>1</th>\n",
       "      <td>112103456789</td>\n",
       "      <td>1</td>\n",
       "    </tr>\n",
       "    <tr>\n",
       "      <th>2</th>\n",
       "      <td>3803456789</td>\n",
       "      <td>10</td>\n",
       "    </tr>\n",
       "    <tr>\n",
       "      <th>3</th>\n",
       "      <td>113203456789</td>\n",
       "      <td>187</td>\n",
       "    </tr>\n",
       "    <tr>\n",
       "      <th>4</th>\n",
       "      <td>11103456789</td>\n",
       "      <td>187</td>\n",
       "    </tr>\n",
       "  </tbody>\n",
       "</table>\n",
       "</div>"
      ],
      "text/plain": [
       "     code_marsh  mr_id\n",
       "0   10003456789      1\n",
       "1  112103456789      1\n",
       "2    3803456789     10\n",
       "3  113203456789    187\n",
       "4   11103456789    187"
      ]
     },
     "execution_count": 8,
     "metadata": {},
     "output_type": "execute_result"
    }
   ],
   "source": [
    "Samara_mr_id_marsh_valid_id.head()"
   ]
  },
  {
   "cell_type": "code",
   "execution_count": 9,
   "metadata": {},
   "outputs": [
    {
     "data": {
      "text/plain": [
       "161"
      ]
     },
     "execution_count": 9,
     "metadata": {},
     "output_type": "execute_result"
    }
   ],
   "source": [
    "len(Samara_mr_id_marsh_valid_id)"
   ]
  },
  {
   "cell_type": "code",
   "execution_count": 10,
   "metadata": {},
   "outputs": [],
   "source": [
    "Samara_mr_id_marsh_valid_id['Код Маршрута']=Samara_mr_id_marsh_valid_id['code_marsh']"
   ]
  },
  {
   "cell_type": "code",
   "execution_count": 11,
   "metadata": {},
   "outputs": [],
   "source": [
    "Samara_mr_id_marsh_valid_id=Samara_mr_id_marsh_valid_id.drop('code_marsh',axis=1)"
   ]
  },
  {
   "cell_type": "markdown",
   "metadata": {},
   "source": [
    "## ИЗМЕНИИТЬ НАЗВАНИЯ ФАЙЛА!!! НЕ ЗАБЫТЬ"
   ]
  },
  {
   "cell_type": "code",
   "execution_count": 12,
   "metadata": {},
   "outputs": [
    {
     "name": "stderr",
     "output_type": "stream",
     "text": [
      "C:\\Users\\user\\anaconda3\\lib\\site-packages\\IPython\\core\\interactiveshell.py:3071: DtypeWarning: Columns (7) have mixed types.Specify dtype option on import or set low_memory=False.\n",
      "  has_raised = await self.run_ast_nodes(code_ast.body, cell_name,\n"
     ]
    }
   ],
   "source": [
    "validation= pd.read_csv(path+'2019.10.16.csv', sep = ',', encoding = 'cp1251')\n",
    "#validation=validation.merge(Samara_mr_id_marsh_valid_id,left_on='Код Маршрута',right_on ='code_marsh', how='left')\n",
    "#validation=validation.drop('code_marsh',axis=1)\n",
    "validation=validation.merge(Samara_mr_id_marsh_valid_id,on =['Код Маршрута'])\n",
    "validation=validation[validation['mr_id'].isin(res_stop['mr_id'].unique())]\n",
    "validation['time']=pd.to_datetime(validation['Дата и время поездки'])\n",
    "validation['hour']=validation['time'].dt.hour\n",
    "validation.loc[validation.hour ==0, 'hour'] = 24\n",
    "validation.loc[validation.hour ==1, 'hour'] = 25\n",
    "validation.loc[validation.hour ==2, 'hour'] = 26\n",
    "validation.loc[validation.hour ==3, 'hour'] = 27\n",
    "validation['min']=validation['time'].dt.minute\n",
    "validation['sec']=validation['time'].dt.second\n",
    "validation['time']=(validation['hour'].astype(int))*3600+(validation['min'].astype(int))*60+(validation['sec'].astype(int))\n",
    "validation=validation.drop(['hour'], axis=1).drop(['min'], axis=1).drop(['sec'], axis=1)\n",
    "validation_start=pd.DataFrame(validation.groupby(['Код Маршрута','Табельный номер']).agg({'time': np.min})).reset_index().rename(columns={\"time\": \"start\"})\n",
    "validation_finish=pd.DataFrame(validation.groupby(['Код Маршрута','Табельный номер']).agg({'time': np.max})).reset_index().rename(columns={\"time\": \"finish\"})\n",
    "validation_start_finish=validation_start.merge(validation_finish, on=['Код Маршрута','Табельный номер'])\n",
    "validation2=validation.merge(validation_start_finish, on=['Код Маршрута','Табельный номер'])\n",
    "del validation_start\n",
    "del validation_finish\n",
    "del validation"
   ]
  },
  {
   "cell_type": "code",
   "execution_count": 72,
   "metadata": {},
   "outputs": [
    {
     "name": "stderr",
     "output_type": "stream",
     "text": [
      "C:\\Users\\user\\anaconda3\\lib\\site-packages\\IPython\\core\\interactiveshell.py:3071: DtypeWarning: Columns (2) have mixed types.Specify dtype option on import or set low_memory=False.\n",
      "  has_raised = await self.run_ast_nodes(code_ast.body, cell_name,\n"
     ]
    }
   ],
   "source": [
    "files = [f for f in os.listdir(path2) if \"_4.csv\" in f]\n",
    "df_4=pd.DataFrame()\n",
    "for file in files:\n",
    "    m = pd.read_csv(path2+file, sep = '\\t', encoding='windows-1251')\n",
    "    df_4=df_4.append(m,ignore_index=True)\n",
    "    del m\n",
    "df_4['time']=pd.to_datetime(df_4['timenav'])\n",
    "df_4['hour']=df_4['time'].dt.hour\n",
    "df_4['min']=df_4['time'].dt.minute\n",
    "df_4['sec']=df_4['time'].dt.second\n",
    "df_4.loc[df_4.hour ==0, 'hour'] = 24\n",
    "df_4.loc[df_4.hour ==1, 'hour'] = 25\n",
    "df_4.loc[df_4.hour ==2, 'hour'] = 26\n",
    "df_4.loc[df_4.hour ==3, 'hour'] = 27\n",
    "df_4['time']=(df_4['hour'].astype(int))*3600+(df_4['min'].astype(int))*60+(df_4['sec'].astype(int))\n",
    "#df_4=df_4.drop(['hour'], axis=1).drop(['min'], axis=1).drop(['sec'], axis=1)\n",
    "df_4_start=pd.DataFrame(df_4.groupby(['mr_id','tabelnum']).agg({'time': np.min})).reset_index().rename(columns={\"time\": \"start\"})\n",
    "df_4_finish=pd.DataFrame(df_4.groupby(['mr_id','tabelnum']).agg({'time': np.max})).reset_index().rename(columns={\"time\": \"finish\"})\n",
    "df_4_start_finish=df_4_start.merge(df_4_finish, on=['mr_id','tabelnum']).sort_values(by=['mr_id', 'start'])\n",
    "del df_4_start\n",
    "del df_4_finish"
   ]
  },
  {
   "cell_type": "code",
   "execution_count": 75,
   "metadata": {},
   "outputs": [
    {
     "data": {
      "text/html": [
       "<div>\n",
       "<style scoped>\n",
       "    .dataframe tbody tr th:only-of-type {\n",
       "        vertical-align: middle;\n",
       "    }\n",
       "\n",
       "    .dataframe tbody tr th {\n",
       "        vertical-align: top;\n",
       "    }\n",
       "\n",
       "    .dataframe thead th {\n",
       "        text-align: right;\n",
       "    }\n",
       "</style>\n",
       "<table border=\"1\" class=\"dataframe\">\n",
       "  <thead>\n",
       "    <tr style=\"text-align: right;\">\n",
       "      <th></th>\n",
       "      <th>tr_id</th>\n",
       "      <th>mr_id</th>\n",
       "      <th>mr_name</th>\n",
       "      <th>graph</th>\n",
       "      <th>tabelnum</th>\n",
       "      <th>condnum</th>\n",
       "      <th>timenav</th>\n",
       "      <th>long</th>\n",
       "      <th>lat</th>\n",
       "      <th>speed</th>\n",
       "      <th>mark</th>\n",
       "      <th>time</th>\n",
       "      <th>hour</th>\n",
       "      <th>min</th>\n",
       "      <th>sec</th>\n",
       "    </tr>\n",
       "  </thead>\n",
       "  <tbody>\n",
       "    <tr>\n",
       "      <th>1687255</th>\n",
       "      <td>500000287</td>\n",
       "      <td>19</td>\n",
       "      <td>11</td>\n",
       "      <td>1</td>\n",
       "      <td>10074.0</td>\n",
       "      <td>0</td>\n",
       "      <td>2019-10-16 07:10:02</td>\n",
       "      <td>50.123267</td>\n",
       "      <td>53.194577</td>\n",
       "      <td>0</td>\n",
       "      <td>0</td>\n",
       "      <td>25802</td>\n",
       "      <td>7</td>\n",
       "      <td>10</td>\n",
       "      <td>2</td>\n",
       "    </tr>\n",
       "    <tr>\n",
       "      <th>1687256</th>\n",
       "      <td>500000287</td>\n",
       "      <td>19</td>\n",
       "      <td>11</td>\n",
       "      <td>1</td>\n",
       "      <td>10074.0</td>\n",
       "      <td>0</td>\n",
       "      <td>2019-10-16 07:10:11</td>\n",
       "      <td>50.123267</td>\n",
       "      <td>53.194577</td>\n",
       "      <td>0</td>\n",
       "      <td>0</td>\n",
       "      <td>25811</td>\n",
       "      <td>7</td>\n",
       "      <td>10</td>\n",
       "      <td>11</td>\n",
       "    </tr>\n",
       "    <tr>\n",
       "      <th>1687257</th>\n",
       "      <td>500000287</td>\n",
       "      <td>19</td>\n",
       "      <td>11</td>\n",
       "      <td>1</td>\n",
       "      <td>10074.0</td>\n",
       "      <td>0</td>\n",
       "      <td>2019-10-16 07:10:14</td>\n",
       "      <td>50.123267</td>\n",
       "      <td>53.194577</td>\n",
       "      <td>0</td>\n",
       "      <td>0</td>\n",
       "      <td>25814</td>\n",
       "      <td>7</td>\n",
       "      <td>10</td>\n",
       "      <td>14</td>\n",
       "    </tr>\n",
       "    <tr>\n",
       "      <th>1687258</th>\n",
       "      <td>500000287</td>\n",
       "      <td>19</td>\n",
       "      <td>11</td>\n",
       "      <td>1</td>\n",
       "      <td>10074.0</td>\n",
       "      <td>0</td>\n",
       "      <td>2019-10-16 07:10:22</td>\n",
       "      <td>50.132570</td>\n",
       "      <td>53.215573</td>\n",
       "      <td>26</td>\n",
       "      <td>0</td>\n",
       "      <td>25822</td>\n",
       "      <td>7</td>\n",
       "      <td>10</td>\n",
       "      <td>22</td>\n",
       "    </tr>\n",
       "    <tr>\n",
       "      <th>1687259</th>\n",
       "      <td>500000287</td>\n",
       "      <td>19</td>\n",
       "      <td>11</td>\n",
       "      <td>1</td>\n",
       "      <td>10074.0</td>\n",
       "      <td>0</td>\n",
       "      <td>2019-10-16 07:10:30</td>\n",
       "      <td>50.133842</td>\n",
       "      <td>53.216055</td>\n",
       "      <td>41</td>\n",
       "      <td>0</td>\n",
       "      <td>25830</td>\n",
       "      <td>7</td>\n",
       "      <td>10</td>\n",
       "      <td>30</td>\n",
       "    </tr>\n",
       "    <tr>\n",
       "      <th>...</th>\n",
       "      <td>...</td>\n",
       "      <td>...</td>\n",
       "      <td>...</td>\n",
       "      <td>...</td>\n",
       "      <td>...</td>\n",
       "      <td>...</td>\n",
       "      <td>...</td>\n",
       "      <td>...</td>\n",
       "      <td>...</td>\n",
       "      <td>...</td>\n",
       "      <td>...</td>\n",
       "      <td>...</td>\n",
       "      <td>...</td>\n",
       "      <td>...</td>\n",
       "      <td>...</td>\n",
       "    </tr>\n",
       "    <tr>\n",
       "      <th>1693216</th>\n",
       "      <td>500000287</td>\n",
       "      <td>19</td>\n",
       "      <td>11</td>\n",
       "      <td>1</td>\n",
       "      <td>10074.0</td>\n",
       "      <td>0</td>\n",
       "      <td>2019-10-16 19:49:11</td>\n",
       "      <td>50.123430</td>\n",
       "      <td>53.194643</td>\n",
       "      <td>0</td>\n",
       "      <td>0</td>\n",
       "      <td>71351</td>\n",
       "      <td>19</td>\n",
       "      <td>49</td>\n",
       "      <td>11</td>\n",
       "    </tr>\n",
       "    <tr>\n",
       "      <th>1693217</th>\n",
       "      <td>500000287</td>\n",
       "      <td>19</td>\n",
       "      <td>11</td>\n",
       "      <td>1</td>\n",
       "      <td>10074.0</td>\n",
       "      <td>0</td>\n",
       "      <td>2019-10-16 19:49:22</td>\n",
       "      <td>50.123430</td>\n",
       "      <td>53.194643</td>\n",
       "      <td>0</td>\n",
       "      <td>0</td>\n",
       "      <td>71362</td>\n",
       "      <td>19</td>\n",
       "      <td>49</td>\n",
       "      <td>22</td>\n",
       "    </tr>\n",
       "    <tr>\n",
       "      <th>1693218</th>\n",
       "      <td>500000287</td>\n",
       "      <td>19</td>\n",
       "      <td>11</td>\n",
       "      <td>1</td>\n",
       "      <td>10074.0</td>\n",
       "      <td>0</td>\n",
       "      <td>2019-10-16 19:49:32</td>\n",
       "      <td>50.123430</td>\n",
       "      <td>53.194643</td>\n",
       "      <td>0</td>\n",
       "      <td>0</td>\n",
       "      <td>71372</td>\n",
       "      <td>19</td>\n",
       "      <td>49</td>\n",
       "      <td>32</td>\n",
       "    </tr>\n",
       "    <tr>\n",
       "      <th>1693219</th>\n",
       "      <td>500000287</td>\n",
       "      <td>19</td>\n",
       "      <td>11</td>\n",
       "      <td>1</td>\n",
       "      <td>10074.0</td>\n",
       "      <td>0</td>\n",
       "      <td>2019-10-16 19:49:42</td>\n",
       "      <td>50.123430</td>\n",
       "      <td>53.194643</td>\n",
       "      <td>0</td>\n",
       "      <td>0</td>\n",
       "      <td>71382</td>\n",
       "      <td>19</td>\n",
       "      <td>49</td>\n",
       "      <td>42</td>\n",
       "    </tr>\n",
       "    <tr>\n",
       "      <th>1693220</th>\n",
       "      <td>500000287</td>\n",
       "      <td>19</td>\n",
       "      <td>11</td>\n",
       "      <td>1</td>\n",
       "      <td>10074.0</td>\n",
       "      <td>0</td>\n",
       "      <td>2019-10-16 19:49:51</td>\n",
       "      <td>50.123430</td>\n",
       "      <td>53.194643</td>\n",
       "      <td>0</td>\n",
       "      <td>0</td>\n",
       "      <td>71391</td>\n",
       "      <td>19</td>\n",
       "      <td>49</td>\n",
       "      <td>51</td>\n",
       "    </tr>\n",
       "  </tbody>\n",
       "</table>\n",
       "<p>5966 rows × 15 columns</p>\n",
       "</div>"
      ],
      "text/plain": [
       "             tr_id  mr_id mr_name  graph  tabelnum  condnum  \\\n",
       "1687255  500000287     19      11      1   10074.0        0   \n",
       "1687256  500000287     19      11      1   10074.0        0   \n",
       "1687257  500000287     19      11      1   10074.0        0   \n",
       "1687258  500000287     19      11      1   10074.0        0   \n",
       "1687259  500000287     19      11      1   10074.0        0   \n",
       "...            ...    ...     ...    ...       ...      ...   \n",
       "1693216  500000287     19      11      1   10074.0        0   \n",
       "1693217  500000287     19      11      1   10074.0        0   \n",
       "1693218  500000287     19      11      1   10074.0        0   \n",
       "1693219  500000287     19      11      1   10074.0        0   \n",
       "1693220  500000287     19      11      1   10074.0        0   \n",
       "\n",
       "                     timenav       long        lat  speed  mark   time  hour  \\\n",
       "1687255  2019-10-16 07:10:02  50.123267  53.194577      0     0  25802     7   \n",
       "1687256  2019-10-16 07:10:11  50.123267  53.194577      0     0  25811     7   \n",
       "1687257  2019-10-16 07:10:14  50.123267  53.194577      0     0  25814     7   \n",
       "1687258  2019-10-16 07:10:22  50.132570  53.215573     26     0  25822     7   \n",
       "1687259  2019-10-16 07:10:30  50.133842  53.216055     41     0  25830     7   \n",
       "...                      ...        ...        ...    ...   ...    ...   ...   \n",
       "1693216  2019-10-16 19:49:11  50.123430  53.194643      0     0  71351    19   \n",
       "1693217  2019-10-16 19:49:22  50.123430  53.194643      0     0  71362    19   \n",
       "1693218  2019-10-16 19:49:32  50.123430  53.194643      0     0  71372    19   \n",
       "1693219  2019-10-16 19:49:42  50.123430  53.194643      0     0  71382    19   \n",
       "1693220  2019-10-16 19:49:51  50.123430  53.194643      0     0  71391    19   \n",
       "\n",
       "         min  sec  \n",
       "1687255   10    2  \n",
       "1687256   10   11  \n",
       "1687257   10   14  \n",
       "1687258   10   22  \n",
       "1687259   10   30  \n",
       "...      ...  ...  \n",
       "1693216   49   11  \n",
       "1693217   49   22  \n",
       "1693218   49   32  \n",
       "1693219   49   42  \n",
       "1693220   49   51  \n",
       "\n",
       "[5966 rows x 15 columns]"
      ]
     },
     "execution_count": 75,
     "metadata": {},
     "output_type": "execute_result"
    }
   ],
   "source": [
    "df_4[df_4['mr_id']==19]"
   ]
  },
  {
   "cell_type": "code",
   "execution_count": null,
   "metadata": {},
   "outputs": [],
   "source": []
  },
  {
   "cell_type": "code",
   "execution_count": null,
   "metadata": {},
   "outputs": [],
   "source": []
  },
  {
   "cell_type": "code",
   "execution_count": null,
   "metadata": {},
   "outputs": [],
   "source": []
  },
  {
   "cell_type": "code",
   "execution_count": 14,
   "metadata": {},
   "outputs": [],
   "source": [
    "validation_start_finish2=validation_start_finish.merge(Samara_mr_id_marsh_valid_id,on =['Код Маршрута'])\n",
    "mrid=validation_start_finish2['mr_id'].unique()\n",
    "df_4_start_finish=df_4_start_finish[df_4_start_finish['mr_id'].isin(mrid)]\n",
    "validation_start_finish2=validation_start_finish2.sort_values(by=['mr_id', 'start'])\n",
    "df_4_start_finish=df_4_start_finish.sort_values(by=['mr_id', 'start'])"
   ]
  },
  {
   "cell_type": "code",
   "execution_count": 15,
   "metadata": {},
   "outputs": [
    {
     "data": {
      "text/html": [
       "<div>\n",
       "<style scoped>\n",
       "    .dataframe tbody tr th:only-of-type {\n",
       "        vertical-align: middle;\n",
       "    }\n",
       "\n",
       "    .dataframe tbody tr th {\n",
       "        vertical-align: top;\n",
       "    }\n",
       "\n",
       "    .dataframe thead th {\n",
       "        text-align: right;\n",
       "    }\n",
       "</style>\n",
       "<table border=\"1\" class=\"dataframe\">\n",
       "  <thead>\n",
       "    <tr style=\"text-align: right;\">\n",
       "      <th></th>\n",
       "      <th>Код Маршрута</th>\n",
       "      <th>Табельный номер</th>\n",
       "      <th>start</th>\n",
       "      <th>finish</th>\n",
       "      <th>mr_id</th>\n",
       "    </tr>\n",
       "  </thead>\n",
       "  <tbody>\n",
       "    <tr>\n",
       "      <th>341</th>\n",
       "      <td>10003456789</td>\n",
       "      <td>396</td>\n",
       "      <td>18901</td>\n",
       "      <td>61893</td>\n",
       "      <td>1</td>\n",
       "    </tr>\n",
       "    <tr>\n",
       "      <th>353</th>\n",
       "      <td>10003456789</td>\n",
       "      <td>500</td>\n",
       "      <td>18910</td>\n",
       "      <td>71673</td>\n",
       "      <td>1</td>\n",
       "    </tr>\n",
       "    <tr>\n",
       "      <th>344</th>\n",
       "      <td>10003456789</td>\n",
       "      <td>581</td>\n",
       "      <td>19902</td>\n",
       "      <td>72501</td>\n",
       "      <td>1</td>\n",
       "    </tr>\n",
       "    <tr>\n",
       "      <th>343</th>\n",
       "      <td>10003456789</td>\n",
       "      <td>553</td>\n",
       "      <td>20383</td>\n",
       "      <td>64603</td>\n",
       "      <td>1</td>\n",
       "    </tr>\n",
       "    <tr>\n",
       "      <th>357</th>\n",
       "      <td>10003456789</td>\n",
       "      <td>590</td>\n",
       "      <td>20546</td>\n",
       "      <td>74821</td>\n",
       "      <td>1</td>\n",
       "    </tr>\n",
       "  </tbody>\n",
       "</table>\n",
       "</div>"
      ],
      "text/plain": [
       "     Код Маршрута Табельный номер  start  finish  mr_id\n",
       "341   10003456789             396  18901   61893      1\n",
       "353   10003456789             500  18910   71673      1\n",
       "344   10003456789             581  19902   72501      1\n",
       "343   10003456789             553  20383   64603      1\n",
       "357   10003456789             590  20546   74821      1"
      ]
     },
     "execution_count": 15,
     "metadata": {},
     "output_type": "execute_result"
    }
   ],
   "source": [
    "validation_start_finish2.head()"
   ]
  },
  {
   "cell_type": "code",
   "execution_count": 16,
   "metadata": {},
   "outputs": [],
   "source": [
    "df_4_start_finish_mem=df_4_start_finish"
   ]
  },
  {
   "cell_type": "code",
   "execution_count": 17,
   "metadata": {},
   "outputs": [
    {
     "name": "stdout",
     "output_type": "stream",
     "text": [
      "<class 'pandas.core.frame.DataFrame'>\n",
      "Int64Index: 840 entries, 341 to 303\n",
      "Data columns (total 5 columns):\n",
      " #   Column           Non-Null Count  Dtype \n",
      "---  ------           --------------  ----- \n",
      " 0   Код Маршрута     840 non-null    int64 \n",
      " 1   Табельный номер  840 non-null    object\n",
      " 2   start            840 non-null    int32 \n",
      " 3   finish           840 non-null    int32 \n",
      " 4   mr_id            840 non-null    int64 \n",
      "dtypes: int32(2), int64(2), object(1)\n",
      "memory usage: 32.8+ KB\n"
     ]
    }
   ],
   "source": [
    "validation_start_finish2.info()"
   ]
  },
  {
   "cell_type": "code",
   "execution_count": 18,
   "metadata": {},
   "outputs": [
    {
     "name": "stdout",
     "output_type": "stream",
     "text": [
      "<class 'pandas.core.frame.DataFrame'>\n",
      "Int64Index: 864 entries, 12 to 894\n",
      "Data columns (total 4 columns):\n",
      " #   Column    Non-Null Count  Dtype  \n",
      "---  ------    --------------  -----  \n",
      " 0   mr_id     864 non-null    int64  \n",
      " 1   tabelnum  864 non-null    float64\n",
      " 2   start     864 non-null    int32  \n",
      " 3   finish    864 non-null    int32  \n",
      "dtypes: float64(1), int32(2), int64(1)\n",
      "memory usage: 27.0 KB\n"
     ]
    }
   ],
   "source": [
    "df_4_start_finish_mem.info()"
   ]
  },
  {
   "cell_type": "code",
   "execution_count": 19,
   "metadata": {},
   "outputs": [
    {
     "data": {
      "text/html": [
       "<div>\n",
       "<style scoped>\n",
       "    .dataframe tbody tr th:only-of-type {\n",
       "        vertical-align: middle;\n",
       "    }\n",
       "\n",
       "    .dataframe tbody tr th {\n",
       "        vertical-align: top;\n",
       "    }\n",
       "\n",
       "    .dataframe thead th {\n",
       "        text-align: right;\n",
       "    }\n",
       "</style>\n",
       "<table border=\"1\" class=\"dataframe\">\n",
       "  <thead>\n",
       "    <tr style=\"text-align: right;\">\n",
       "      <th></th>\n",
       "      <th>mr_id</th>\n",
       "      <th>tabelnum</th>\n",
       "      <th>start</th>\n",
       "      <th>finish</th>\n",
       "    </tr>\n",
       "  </thead>\n",
       "  <tbody>\n",
       "    <tr>\n",
       "      <th>12</th>\n",
       "      <td>1</td>\n",
       "      <td>1408.0</td>\n",
       "      <td>18002</td>\n",
       "      <td>74220</td>\n",
       "    </tr>\n",
       "    <tr>\n",
       "      <th>13</th>\n",
       "      <td>1</td>\n",
       "      <td>1456.0</td>\n",
       "      <td>18303</td>\n",
       "      <td>65389</td>\n",
       "    </tr>\n",
       "    <tr>\n",
       "      <th>10</th>\n",
       "      <td>1</td>\n",
       "      <td>1329.0</td>\n",
       "      <td>18967</td>\n",
       "      <td>74995</td>\n",
       "    </tr>\n",
       "    <tr>\n",
       "      <th>16</th>\n",
       "      <td>1</td>\n",
       "      <td>1591.0</td>\n",
       "      <td>19145</td>\n",
       "      <td>67379</td>\n",
       "    </tr>\n",
       "    <tr>\n",
       "      <th>11</th>\n",
       "      <td>1</td>\n",
       "      <td>1357.0</td>\n",
       "      <td>19803</td>\n",
       "      <td>75954</td>\n",
       "    </tr>\n",
       "  </tbody>\n",
       "</table>\n",
       "</div>"
      ],
      "text/plain": [
       "    mr_id  tabelnum  start  finish\n",
       "12      1    1408.0  18002   74220\n",
       "13      1    1456.0  18303   65389\n",
       "10      1    1329.0  18967   74995\n",
       "16      1    1591.0  19145   67379\n",
       "11      1    1357.0  19803   75954"
      ]
     },
     "execution_count": 19,
     "metadata": {},
     "output_type": "execute_result"
    }
   ],
   "source": [
    "df_4_start_finish.head()"
   ]
  },
  {
   "cell_type": "code",
   "execution_count": 20,
   "metadata": {},
   "outputs": [],
   "source": [
    "res=validation_start_finish2"
   ]
  },
  {
   "cell_type": "code",
   "execution_count": 21,
   "metadata": {},
   "outputs": [
    {
     "data": {
      "text/html": [
       "<div>\n",
       "<style scoped>\n",
       "    .dataframe tbody tr th:only-of-type {\n",
       "        vertical-align: middle;\n",
       "    }\n",
       "\n",
       "    .dataframe tbody tr th {\n",
       "        vertical-align: top;\n",
       "    }\n",
       "\n",
       "    .dataframe thead th {\n",
       "        text-align: right;\n",
       "    }\n",
       "</style>\n",
       "<table border=\"1\" class=\"dataframe\">\n",
       "  <thead>\n",
       "    <tr style=\"text-align: right;\">\n",
       "      <th></th>\n",
       "      <th>Код Маршрута</th>\n",
       "      <th>Табельный номер</th>\n",
       "      <th>start</th>\n",
       "      <th>finish</th>\n",
       "      <th>mr_id</th>\n",
       "    </tr>\n",
       "  </thead>\n",
       "  <tbody>\n",
       "    <tr>\n",
       "      <th>341</th>\n",
       "      <td>10003456789</td>\n",
       "      <td>396</td>\n",
       "      <td>18901</td>\n",
       "      <td>61893</td>\n",
       "      <td>1</td>\n",
       "    </tr>\n",
       "    <tr>\n",
       "      <th>353</th>\n",
       "      <td>10003456789</td>\n",
       "      <td>500</td>\n",
       "      <td>18910</td>\n",
       "      <td>71673</td>\n",
       "      <td>1</td>\n",
       "    </tr>\n",
       "    <tr>\n",
       "      <th>344</th>\n",
       "      <td>10003456789</td>\n",
       "      <td>581</td>\n",
       "      <td>19902</td>\n",
       "      <td>72501</td>\n",
       "      <td>1</td>\n",
       "    </tr>\n",
       "    <tr>\n",
       "      <th>343</th>\n",
       "      <td>10003456789</td>\n",
       "      <td>553</td>\n",
       "      <td>20383</td>\n",
       "      <td>64603</td>\n",
       "      <td>1</td>\n",
       "    </tr>\n",
       "    <tr>\n",
       "      <th>357</th>\n",
       "      <td>10003456789</td>\n",
       "      <td>590</td>\n",
       "      <td>20546</td>\n",
       "      <td>74821</td>\n",
       "      <td>1</td>\n",
       "    </tr>\n",
       "  </tbody>\n",
       "</table>\n",
       "</div>"
      ],
      "text/plain": [
       "     Код Маршрута Табельный номер  start  finish  mr_id\n",
       "341   10003456789             396  18901   61893      1\n",
       "353   10003456789             500  18910   71673      1\n",
       "344   10003456789             581  19902   72501      1\n",
       "343   10003456789             553  20383   64603      1\n",
       "357   10003456789             590  20546   74821      1"
      ]
     },
     "execution_count": 21,
     "metadata": {},
     "output_type": "execute_result"
    }
   ],
   "source": [
    "validation_start_finish2.head()"
   ]
  },
  {
   "cell_type": "code",
   "execution_count": null,
   "metadata": {},
   "outputs": [],
   "source": []
  },
  {
   "cell_type": "markdown",
   "metadata": {},
   "source": [
    "1. Раскидываем машины по табельным номерам валидаций. Жесткое условие (все валидации внутри трека)"
   ]
  },
  {
   "cell_type": "code",
   "execution_count": 22,
   "metadata": {},
   "outputs": [],
   "source": [
    "k=0\n",
    "df_4_start_finish=df_4_start_finish_mem\n",
    "res=validation_start_finish2\n",
    "tabelnum = []\n",
    "start = []\n",
    "finish = []\n",
    "tracks=pd.DataFrame()\n",
    "for index, row in res.iterrows():\n",
    "    stops=df_4_start_finish[(df_4_start_finish['mr_id']==row['mr_id'])\n",
    "                    &(df_4_start_finish['start']<=row['start'])\n",
    "                    &(df_4_start_finish['finish']>row['finish'])]\n",
    "    df_4_start_finish=df_4_start_finish[~df_4_start_finish.isin(stops[0:1])].dropna(how = 'all')\n",
    "    if stops.empty:\n",
    "        tabelnum.append(0)\n",
    "        start.append(0)\n",
    "        finish.append(0)\n",
    "    else:\n",
    "        tabelnum_unic=stops['tabelnum'].values\n",
    "        tabelnum.append(tabelnum_unic[0])\n",
    "        start_unic=stops['start'].values\n",
    "        start.append(start_unic[0])\n",
    "        finish_unic=stops['finish'].values\n",
    "        finish.append(finish_unic[0])\n",
    "res['tabelnum']=tabelnum\n",
    "res['start_track']=start\n",
    "res['finish_track']=finish"
   ]
  },
  {
   "cell_type": "code",
   "execution_count": 23,
   "metadata": {},
   "outputs": [
    {
     "data": {
      "text/html": [
       "<div>\n",
       "<style scoped>\n",
       "    .dataframe tbody tr th:only-of-type {\n",
       "        vertical-align: middle;\n",
       "    }\n",
       "\n",
       "    .dataframe tbody tr th {\n",
       "        vertical-align: top;\n",
       "    }\n",
       "\n",
       "    .dataframe thead th {\n",
       "        text-align: right;\n",
       "    }\n",
       "</style>\n",
       "<table border=\"1\" class=\"dataframe\">\n",
       "  <thead>\n",
       "    <tr style=\"text-align: right;\">\n",
       "      <th></th>\n",
       "      <th>Код Маршрута</th>\n",
       "      <th>Табельный номер</th>\n",
       "      <th>start</th>\n",
       "      <th>finish</th>\n",
       "      <th>mr_id</th>\n",
       "      <th>tabelnum</th>\n",
       "      <th>start_track</th>\n",
       "      <th>finish_track</th>\n",
       "    </tr>\n",
       "  </thead>\n",
       "  <tbody>\n",
       "    <tr>\n",
       "      <th>341</th>\n",
       "      <td>10003456789</td>\n",
       "      <td>396</td>\n",
       "      <td>18901</td>\n",
       "      <td>61893</td>\n",
       "      <td>1</td>\n",
       "      <td>1408.0</td>\n",
       "      <td>18002.0</td>\n",
       "      <td>74220.0</td>\n",
       "    </tr>\n",
       "    <tr>\n",
       "      <th>353</th>\n",
       "      <td>10003456789</td>\n",
       "      <td>500</td>\n",
       "      <td>18910</td>\n",
       "      <td>71673</td>\n",
       "      <td>1</td>\n",
       "      <td>0.0</td>\n",
       "      <td>0.0</td>\n",
       "      <td>0.0</td>\n",
       "    </tr>\n",
       "    <tr>\n",
       "      <th>344</th>\n",
       "      <td>10003456789</td>\n",
       "      <td>581</td>\n",
       "      <td>19902</td>\n",
       "      <td>72501</td>\n",
       "      <td>1</td>\n",
       "      <td>1329.0</td>\n",
       "      <td>18967.0</td>\n",
       "      <td>74995.0</td>\n",
       "    </tr>\n",
       "    <tr>\n",
       "      <th>343</th>\n",
       "      <td>10003456789</td>\n",
       "      <td>553</td>\n",
       "      <td>20383</td>\n",
       "      <td>64603</td>\n",
       "      <td>1</td>\n",
       "      <td>1456.0</td>\n",
       "      <td>18303.0</td>\n",
       "      <td>65389.0</td>\n",
       "    </tr>\n",
       "    <tr>\n",
       "      <th>357</th>\n",
       "      <td>10003456789</td>\n",
       "      <td>590</td>\n",
       "      <td>20546</td>\n",
       "      <td>74821</td>\n",
       "      <td>1</td>\n",
       "      <td>1357.0</td>\n",
       "      <td>19803.0</td>\n",
       "      <td>75954.0</td>\n",
       "    </tr>\n",
       "  </tbody>\n",
       "</table>\n",
       "</div>"
      ],
      "text/plain": [
       "     Код Маршрута Табельный номер  start  finish  mr_id  tabelnum  \\\n",
       "341   10003456789             396  18901   61893      1    1408.0   \n",
       "353   10003456789             500  18910   71673      1       0.0   \n",
       "344   10003456789             581  19902   72501      1    1329.0   \n",
       "343   10003456789             553  20383   64603      1    1456.0   \n",
       "357   10003456789             590  20546   74821      1    1357.0   \n",
       "\n",
       "     start_track  finish_track  \n",
       "341      18002.0       74220.0  \n",
       "353          0.0           0.0  \n",
       "344      18967.0       74995.0  \n",
       "343      18303.0       65389.0  \n",
       "357      19803.0       75954.0  "
      ]
     },
     "execution_count": 23,
     "metadata": {},
     "output_type": "execute_result"
    }
   ],
   "source": [
    "res.head()"
   ]
  },
  {
   "cell_type": "code",
   "execution_count": 24,
   "metadata": {},
   "outputs": [
    {
     "data": {
      "text/plain": [
       "201"
      ]
     },
     "execution_count": 24,
     "metadata": {},
     "output_type": "execute_result"
    }
   ],
   "source": [
    "len(df_4_start_finish)"
   ]
  },
  {
   "cell_type": "markdown",
   "metadata": {},
   "source": [
    "2. Раскидываем машины по табельным номерам валидаций. Мягкое условие 1 (все валидации после начала трека)"
   ]
  },
  {
   "cell_type": "code",
   "execution_count": 25,
   "metadata": {},
   "outputs": [],
   "source": [
    "k=0\n",
    "tabelnum = []\n",
    "start = []\n",
    "finish = []\n",
    "stops=pd.DataFrame()\n",
    "for index, row in res.iterrows():\n",
    "    if row['tabelnum']==0:\n",
    "        stops=df_4_start_finish[(df_4_start_finish['mr_id']==row['mr_id'])\n",
    "                    &(df_4_start_finish['start']<=row['start'])]\n",
    "        df_4_start_finish=df_4_start_finish[~df_4_start_finish.isin(stops[0:1])].dropna(how = 'all')\n",
    "        if stops.empty:\n",
    "            tabelnum.append(0)\n",
    "            start.append(0)\n",
    "            finish.append(0)\n",
    "        else:\n",
    "            tabelnum_unic=stops['tabelnum'].values\n",
    "            tabelnum.append(tabelnum_unic[0])\n",
    "            start_unic=stops['start'].values\n",
    "            start.append(start_unic[0])\n",
    "            finish_unic=stops['finish'].values\n",
    "            finish.append(finish_unic[0])\n",
    "    else:\n",
    "        tabelnum.append(0)\n",
    "        start.append(0)\n",
    "        finish.append(0)        \n",
    "res['tabelnum_2']=tabelnum\n",
    "res['start_track_2']=start\n",
    "res['finish_track_2']=finish"
   ]
  },
  {
   "cell_type": "markdown",
   "metadata": {},
   "source": [
    "3. Раскидываем машины по табельным номерам валидаций. Мягкое условие 2 (все валидации до конца трека)"
   ]
  },
  {
   "cell_type": "code",
   "execution_count": 26,
   "metadata": {},
   "outputs": [],
   "source": [
    "k=0\n",
    "tabelnum = []\n",
    "start = []\n",
    "finish = []\n",
    "stops=pd.DataFrame()\n",
    "for index, row in res.iterrows():\n",
    "    if row['tabelnum']==0:\n",
    "        stops=df_4_start_finish[(df_4_start_finish['mr_id']==row['mr_id'])\n",
    "                    &(df_4_start_finish['finish']>row['finish'])]\n",
    "        df_4_start_finish=df_4_start_finish[~df_4_start_finish.isin(stops[0:1])].dropna(how = 'all')\n",
    "        if stops.empty:\n",
    "            tabelnum.append(0)\n",
    "            start.append(0)\n",
    "            finish.append(0)\n",
    "        else:\n",
    "            tabelnum_unic=stops['tabelnum'].values\n",
    "            tabelnum.append(tabelnum_unic[0])\n",
    "            start_unic=stops['start'].values\n",
    "            start.append(start_unic[0])\n",
    "            finish_unic=stops['finish'].values\n",
    "            finish.append(finish_unic[0])\n",
    "    else:\n",
    "        tabelnum.append(0)\n",
    "        start.append(0)\n",
    "        finish.append(0)        \n",
    "res['tabelnum_3']=tabelnum\n",
    "res['start_track_3']=start\n",
    "res['finish_track_3']=finish"
   ]
  },
  {
   "cell_type": "code",
   "execution_count": 27,
   "metadata": {},
   "outputs": [
    {
     "data": {
      "text/html": [
       "<div>\n",
       "<style scoped>\n",
       "    .dataframe tbody tr th:only-of-type {\n",
       "        vertical-align: middle;\n",
       "    }\n",
       "\n",
       "    .dataframe tbody tr th {\n",
       "        vertical-align: top;\n",
       "    }\n",
       "\n",
       "    .dataframe thead th {\n",
       "        text-align: right;\n",
       "    }\n",
       "</style>\n",
       "<table border=\"1\" class=\"dataframe\">\n",
       "  <thead>\n",
       "    <tr style=\"text-align: right;\">\n",
       "      <th></th>\n",
       "      <th>Код Маршрута</th>\n",
       "      <th>Табельный номер</th>\n",
       "      <th>start</th>\n",
       "      <th>finish</th>\n",
       "      <th>mr_id</th>\n",
       "      <th>tabelnum</th>\n",
       "      <th>start_track</th>\n",
       "      <th>finish_track</th>\n",
       "      <th>tabelnum_2</th>\n",
       "      <th>start_track_2</th>\n",
       "      <th>finish_track_2</th>\n",
       "      <th>tabelnum_3</th>\n",
       "      <th>start_track_3</th>\n",
       "      <th>finish_track_3</th>\n",
       "    </tr>\n",
       "  </thead>\n",
       "  <tbody>\n",
       "    <tr>\n",
       "      <th>341</th>\n",
       "      <td>10003456789</td>\n",
       "      <td>396</td>\n",
       "      <td>18901</td>\n",
       "      <td>61893</td>\n",
       "      <td>1</td>\n",
       "      <td>1408.0</td>\n",
       "      <td>18002.0</td>\n",
       "      <td>74220.0</td>\n",
       "      <td>0.0</td>\n",
       "      <td>0.0</td>\n",
       "      <td>0.0</td>\n",
       "      <td>0.0</td>\n",
       "      <td>0.0</td>\n",
       "      <td>0.0</td>\n",
       "    </tr>\n",
       "    <tr>\n",
       "      <th>353</th>\n",
       "      <td>10003456789</td>\n",
       "      <td>500</td>\n",
       "      <td>18910</td>\n",
       "      <td>71673</td>\n",
       "      <td>1</td>\n",
       "      <td>0.0</td>\n",
       "      <td>0.0</td>\n",
       "      <td>0.0</td>\n",
       "      <td>0.0</td>\n",
       "      <td>0.0</td>\n",
       "      <td>0.0</td>\n",
       "      <td>0.0</td>\n",
       "      <td>0.0</td>\n",
       "      <td>0.0</td>\n",
       "    </tr>\n",
       "    <tr>\n",
       "      <th>344</th>\n",
       "      <td>10003456789</td>\n",
       "      <td>581</td>\n",
       "      <td>19902</td>\n",
       "      <td>72501</td>\n",
       "      <td>1</td>\n",
       "      <td>1329.0</td>\n",
       "      <td>18967.0</td>\n",
       "      <td>74995.0</td>\n",
       "      <td>0.0</td>\n",
       "      <td>0.0</td>\n",
       "      <td>0.0</td>\n",
       "      <td>0.0</td>\n",
       "      <td>0.0</td>\n",
       "      <td>0.0</td>\n",
       "    </tr>\n",
       "    <tr>\n",
       "      <th>343</th>\n",
       "      <td>10003456789</td>\n",
       "      <td>553</td>\n",
       "      <td>20383</td>\n",
       "      <td>64603</td>\n",
       "      <td>1</td>\n",
       "      <td>1456.0</td>\n",
       "      <td>18303.0</td>\n",
       "      <td>65389.0</td>\n",
       "      <td>0.0</td>\n",
       "      <td>0.0</td>\n",
       "      <td>0.0</td>\n",
       "      <td>0.0</td>\n",
       "      <td>0.0</td>\n",
       "      <td>0.0</td>\n",
       "    </tr>\n",
       "    <tr>\n",
       "      <th>357</th>\n",
       "      <td>10003456789</td>\n",
       "      <td>590</td>\n",
       "      <td>20546</td>\n",
       "      <td>74821</td>\n",
       "      <td>1</td>\n",
       "      <td>1357.0</td>\n",
       "      <td>19803.0</td>\n",
       "      <td>75954.0</td>\n",
       "      <td>0.0</td>\n",
       "      <td>0.0</td>\n",
       "      <td>0.0</td>\n",
       "      <td>0.0</td>\n",
       "      <td>0.0</td>\n",
       "      <td>0.0</td>\n",
       "    </tr>\n",
       "  </tbody>\n",
       "</table>\n",
       "</div>"
      ],
      "text/plain": [
       "     Код Маршрута Табельный номер  start  finish  mr_id  tabelnum  \\\n",
       "341   10003456789             396  18901   61893      1    1408.0   \n",
       "353   10003456789             500  18910   71673      1       0.0   \n",
       "344   10003456789             581  19902   72501      1    1329.0   \n",
       "343   10003456789             553  20383   64603      1    1456.0   \n",
       "357   10003456789             590  20546   74821      1    1357.0   \n",
       "\n",
       "     start_track  finish_track  tabelnum_2  start_track_2  finish_track_2  \\\n",
       "341      18002.0       74220.0         0.0            0.0             0.0   \n",
       "353          0.0           0.0         0.0            0.0             0.0   \n",
       "344      18967.0       74995.0         0.0            0.0             0.0   \n",
       "343      18303.0       65389.0         0.0            0.0             0.0   \n",
       "357      19803.0       75954.0         0.0            0.0             0.0   \n",
       "\n",
       "     tabelnum_3  start_track_3  finish_track_3  \n",
       "341         0.0            0.0             0.0  \n",
       "353         0.0            0.0             0.0  \n",
       "344         0.0            0.0             0.0  \n",
       "343         0.0            0.0             0.0  \n",
       "357         0.0            0.0             0.0  "
      ]
     },
     "execution_count": 27,
     "metadata": {},
     "output_type": "execute_result"
    }
   ],
   "source": [
    "res.head()"
   ]
  },
  {
   "cell_type": "code",
   "execution_count": 28,
   "metadata": {},
   "outputs": [
    {
     "data": {
      "text/plain": [
       "21"
      ]
     },
     "execution_count": 28,
     "metadata": {},
     "output_type": "execute_result"
    }
   ],
   "source": [
    "len(df_4_start_finish)"
   ]
  },
  {
   "cell_type": "code",
   "execution_count": null,
   "metadata": {},
   "outputs": [],
   "source": []
  },
  {
   "cell_type": "markdown",
   "metadata": {},
   "source": [
    "4.Дозаполняем табельные номера тем, что не вошло"
   ]
  },
  {
   "cell_type": "code",
   "execution_count": 29,
   "metadata": {},
   "outputs": [],
   "source": [
    "k=0\n",
    "df_4_start_finish=df_4_start_finish_mem\n",
    "tabelnum = []\n",
    "start = []\n",
    "finish = []\n",
    "stops=pd.DataFrame()\n",
    "for index, row in res.iterrows():\n",
    "    if row['tabelnum']==0:\n",
    "        stops=df_4_start_finish[(df_4_start_finish['mr_id']==row['mr_id'])\n",
    "                    &(df_4_start_finish['finish']>row['finish'])]\n",
    "        if stops.empty:\n",
    "            tabelnum.append(0)\n",
    "            start.append(0)\n",
    "            finish.append(0)\n",
    "        else:\n",
    "            tabelnum_unic=stops['tabelnum'].values\n",
    "            tabelnum.append(tabelnum_unic[0])\n",
    "            start_unic=stops['start'].values\n",
    "            start.append(start_unic[0])\n",
    "            finish_unic=stops['finish'].values\n",
    "            finish.append(finish_unic[0])\n",
    "    else:\n",
    "        tabelnum.append(0)\n",
    "        start.append(0)\n",
    "        finish.append(0)        \n",
    "res['tabelnum_4']=tabelnum\n",
    "res['start_track_4']=start\n",
    "res['finish_track_4']=finish"
   ]
  },
  {
   "cell_type": "code",
   "execution_count": 30,
   "metadata": {},
   "outputs": [],
   "source": [
    "res.to_csv(path+'for_mege_tabelnum_29.csv')\n",
    "#df_4_start_finish.to_csv(path+'for_mege_tabelnum_ost_29.csv')"
   ]
  },
  {
   "cell_type": "code",
   "execution_count": 31,
   "metadata": {},
   "outputs": [
    {
     "data": {
      "text/plain": [
       "77"
      ]
     },
     "execution_count": 31,
     "metadata": {},
     "output_type": "execute_result"
    }
   ],
   "source": [
    "len(res[res['tabelnum_3']>0])"
   ]
  },
  {
   "cell_type": "code",
   "execution_count": 32,
   "metadata": {},
   "outputs": [
    {
     "data": {
      "text/plain": [
       "177"
      ]
     },
     "execution_count": 32,
     "metadata": {},
     "output_type": "execute_result"
    }
   ],
   "source": [
    "len(res[res['tabelnum']==0])"
   ]
  },
  {
   "cell_type": "markdown",
   "metadata": {},
   "source": [
    "Перезаписываем данные в столбцах"
   ]
  },
  {
   "cell_type": "code",
   "execution_count": 33,
   "metadata": {},
   "outputs": [],
   "source": [
    "res.loc[res.tabelnum==0, 'tabelnum'] = res.loc[res.tabelnum==0, 'tabelnum_3']\n",
    "res.loc[res.tabelnum==0, 'tabelnum'] = res.loc[res.tabelnum==0, 'tabelnum_2']\n",
    "res.loc[res.start_track==0, 'start_track'] = res.loc[res.start_track==0, 'start_track_2']\n",
    "res.loc[res.start_track==0, 'start_track'] = res.loc[res.start_track==0, 'start_track_3']\n",
    "res.loc[res.finish_track==0, 'finish_track'] = res.loc[res.finish_track==0, 'finish_track_2']\n",
    "res.loc[res.finish_track==0, 'finish_track'] = res.loc[res.finish_track==0, 'finish_track_3']"
   ]
  },
  {
   "cell_type": "code",
   "execution_count": 34,
   "metadata": {},
   "outputs": [],
   "source": [
    "res.loc[res.tabelnum==0, 'tabelnum'] = res.loc[res.tabelnum==0, 'tabelnum_4']\n",
    "res.loc[res.start_track==0, 'start_track'] = res.loc[res.start_track==0, 'start_track_4']\n",
    "res.loc[res.finish_track==0, 'finish_track'] = res.loc[res.finish_track==0, 'finish_track_4']"
   ]
  },
  {
   "cell_type": "code",
   "execution_count": null,
   "metadata": {},
   "outputs": [],
   "source": []
  },
  {
   "cell_type": "markdown",
   "metadata": {},
   "source": [
    "Пересохранили табельный номер как int, чтобы правильнее можно было merge делать"
   ]
  },
  {
   "cell_type": "code",
   "execution_count": 35,
   "metadata": {},
   "outputs": [],
   "source": [
    "table_num_merge_29=res[['Табельный номер','mr_id','tabelnum']]"
   ]
  },
  {
   "cell_type": "code",
   "execution_count": 36,
   "metadata": {},
   "outputs": [
    {
     "data": {
      "text/plain": [
       "80"
      ]
     },
     "execution_count": 36,
     "metadata": {},
     "output_type": "execute_result"
    }
   ],
   "source": [
    "len(validation2['mr_id'].unique())"
   ]
  },
  {
   "cell_type": "code",
   "execution_count": 37,
   "metadata": {},
   "outputs": [
    {
     "name": "stderr",
     "output_type": "stream",
     "text": [
      "<ipython-input-37-f9f817fefa8d>:1: SettingWithCopyWarning: \n",
      "A value is trying to be set on a copy of a slice from a DataFrame.\n",
      "Try using .loc[row_indexer,col_indexer] = value instead\n",
      "\n",
      "See the caveats in the documentation: https://pandas.pydata.org/pandas-docs/stable/user_guide/indexing.html#returning-a-view-versus-a-copy\n",
      "  table_num_merge_29['Табельный номер']=table_num_merge_29['Табельный номер'].astype(int)\n"
     ]
    }
   ],
   "source": [
    "table_num_merge_29['Табельный номер']=table_num_merge_29['Табельный номер'].astype(int)"
   ]
  },
  {
   "cell_type": "code",
   "execution_count": 38,
   "metadata": {},
   "outputs": [
    {
     "data": {
      "text/html": [
       "<div>\n",
       "<style scoped>\n",
       "    .dataframe tbody tr th:only-of-type {\n",
       "        vertical-align: middle;\n",
       "    }\n",
       "\n",
       "    .dataframe tbody tr th {\n",
       "        vertical-align: top;\n",
       "    }\n",
       "\n",
       "    .dataframe thead th {\n",
       "        text-align: right;\n",
       "    }\n",
       "</style>\n",
       "<table border=\"1\" class=\"dataframe\">\n",
       "  <thead>\n",
       "    <tr style=\"text-align: right;\">\n",
       "      <th></th>\n",
       "      <th>Табельный номер</th>\n",
       "      <th>tabelnum</th>\n",
       "    </tr>\n",
       "  </thead>\n",
       "  <tbody>\n",
       "    <tr>\n",
       "      <th>341</th>\n",
       "      <td>396</td>\n",
       "      <td>1408.0</td>\n",
       "    </tr>\n",
       "    <tr>\n",
       "      <th>353</th>\n",
       "      <td>500</td>\n",
       "      <td>1408.0</td>\n",
       "    </tr>\n",
       "    <tr>\n",
       "      <th>344</th>\n",
       "      <td>581</td>\n",
       "      <td>1329.0</td>\n",
       "    </tr>\n",
       "    <tr>\n",
       "      <th>343</th>\n",
       "      <td>553</td>\n",
       "      <td>1456.0</td>\n",
       "    </tr>\n",
       "    <tr>\n",
       "      <th>357</th>\n",
       "      <td>590</td>\n",
       "      <td>1357.0</td>\n",
       "    </tr>\n",
       "    <tr>\n",
       "      <th>...</th>\n",
       "      <td>...</td>\n",
       "      <td>...</td>\n",
       "    </tr>\n",
       "    <tr>\n",
       "      <th>304</th>\n",
       "      <td>161</td>\n",
       "      <td>10013.0</td>\n",
       "    </tr>\n",
       "    <tr>\n",
       "      <th>302</th>\n",
       "      <td>149</td>\n",
       "      <td>10353.0</td>\n",
       "    </tr>\n",
       "    <tr>\n",
       "      <th>305</th>\n",
       "      <td>602</td>\n",
       "      <td>10349.0</td>\n",
       "    </tr>\n",
       "    <tr>\n",
       "      <th>306</th>\n",
       "      <td>603</td>\n",
       "      <td>10203.0</td>\n",
       "    </tr>\n",
       "    <tr>\n",
       "      <th>303</th>\n",
       "      <td>154</td>\n",
       "      <td>10164.0</td>\n",
       "    </tr>\n",
       "  </tbody>\n",
       "</table>\n",
       "<p>840 rows × 2 columns</p>\n",
       "</div>"
      ],
      "text/plain": [
       "     Табельный номер  tabelnum\n",
       "341              396    1408.0\n",
       "353              500    1408.0\n",
       "344              581    1329.0\n",
       "343              553    1456.0\n",
       "357              590    1357.0\n",
       "..               ...       ...\n",
       "304              161   10013.0\n",
       "302              149   10353.0\n",
       "305              602   10349.0\n",
       "306              603   10203.0\n",
       "303              154   10164.0\n",
       "\n",
       "[840 rows x 2 columns]"
      ]
     },
     "execution_count": 38,
     "metadata": {},
     "output_type": "execute_result"
    }
   ],
   "source": [
    "table_num_merge_29[['Табельный номер','tabelnum']]"
   ]
  },
  {
   "cell_type": "code",
   "execution_count": 39,
   "metadata": {},
   "outputs": [
    {
     "name": "stdout",
     "output_type": "stream",
     "text": [
      "<class 'pandas.core.frame.DataFrame'>\n",
      "Int64Index: 840 entries, 341 to 303\n",
      "Data columns (total 3 columns):\n",
      " #   Column           Non-Null Count  Dtype  \n",
      "---  ------           --------------  -----  \n",
      " 0   Табельный номер  840 non-null    int32  \n",
      " 1   mr_id            840 non-null    int64  \n",
      " 2   tabelnum         840 non-null    float64\n",
      "dtypes: float64(1), int32(1), int64(1)\n",
      "memory usage: 23.0 KB\n"
     ]
    }
   ],
   "source": [
    "table_num_merge_29.info()"
   ]
  },
  {
   "cell_type": "code",
   "execution_count": 40,
   "metadata": {},
   "outputs": [],
   "source": [
    "validation2['Табельный номер']=validation2['Табельный номер'].astype(int)"
   ]
  },
  {
   "cell_type": "code",
   "execution_count": 41,
   "metadata": {},
   "outputs": [
    {
     "name": "stdout",
     "output_type": "stream",
     "text": [
      "<class 'pandas.core.frame.DataFrame'>\n",
      "Int64Index: 416072 entries, 0 to 416071\n",
      "Data columns (total 13 columns):\n",
      " #   Column                Non-Null Count   Dtype \n",
      "---  ------                --------------   ----- \n",
      " 0   Дата и время поездки  416072 non-null  object\n",
      " 1   Терминал              416072 non-null  int64 \n",
      " 2   Номер билета          416072 non-null  int64 \n",
      " 3   Номер кристалла       365409 non-null  object\n",
      " 4   TCAT                  416070 non-null  object\n",
      " 5   NUM_TRIP              416072 non-null  int64 \n",
      " 6   Код Маршрута          416072 non-null  int64 \n",
      " 7   Табельный номер       416072 non-null  int32 \n",
      " 8   Код предприятия       416072 non-null  int64 \n",
      " 9   mr_id                 416072 non-null  int64 \n",
      " 10  time                  416072 non-null  int32 \n",
      " 11  start                 416072 non-null  int32 \n",
      " 12  finish                416072 non-null  int32 \n",
      "dtypes: int32(4), int64(6), object(3)\n",
      "memory usage: 38.1+ MB\n"
     ]
    }
   ],
   "source": [
    "validation2.info()"
   ]
  },
  {
   "cell_type": "code",
   "execution_count": 42,
   "metadata": {},
   "outputs": [],
   "source": [
    "validation4=validation2.merge(table_num_merge_29,on =['mr_id','Табельный номер'],how='left')\n",
    "validation4=validation4.sort_values(by=['mr_id','Табельный номер','time'])"
   ]
  },
  {
   "cell_type": "code",
   "execution_count": 43,
   "metadata": {},
   "outputs": [
    {
     "name": "stdout",
     "output_type": "stream",
     "text": [
      "<class 'pandas.core.frame.DataFrame'>\n",
      "RangeIndex: 607727 entries, 0 to 607726\n",
      "Data columns (total 11 columns):\n",
      " #   Column      Non-Null Count   Dtype  \n",
      "---  ------      --------------   -----  \n",
      " 0   mr_id       607727 non-null  int64  \n",
      " 1   rc_orderby  607727 non-null  int64  \n",
      " 2   ssId        607727 non-null  int64  \n",
      " 3   tr_id       607727 non-null  int64  \n",
      " 4   timenav     607727 non-null  object \n",
      " 5   len         607727 non-null  int64  \n",
      " 6   geometry    607727 non-null  object \n",
      " 7   ss_lat      607727 non-null  float64\n",
      " 8   ss_long     607727 non-null  float64\n",
      " 9   tabelnum    607307 non-null  float64\n",
      " 10  rl_id       607727 non-null  int64  \n",
      "dtypes: float64(3), int64(6), object(2)\n",
      "memory usage: 51.0+ MB\n"
     ]
    }
   ],
   "source": [
    "res_stop.info()"
   ]
  },
  {
   "cell_type": "code",
   "execution_count": 44,
   "metadata": {},
   "outputs": [],
   "source": [
    "validation4['tabelnum']=validation4['tabelnum'].astype(int)"
   ]
  },
  {
   "cell_type": "code",
   "execution_count": 45,
   "metadata": {},
   "outputs": [
    {
     "data": {
      "text/html": [
       "<div>\n",
       "<style scoped>\n",
       "    .dataframe tbody tr th:only-of-type {\n",
       "        vertical-align: middle;\n",
       "    }\n",
       "\n",
       "    .dataframe tbody tr th {\n",
       "        vertical-align: top;\n",
       "    }\n",
       "\n",
       "    .dataframe thead th {\n",
       "        text-align: right;\n",
       "    }\n",
       "</style>\n",
       "<table border=\"1\" class=\"dataframe\">\n",
       "  <thead>\n",
       "    <tr style=\"text-align: right;\">\n",
       "      <th></th>\n",
       "      <th>Дата и время поездки</th>\n",
       "      <th>Терминал</th>\n",
       "      <th>Номер билета</th>\n",
       "      <th>Номер кристалла</th>\n",
       "      <th>TCAT</th>\n",
       "      <th>NUM_TRIP</th>\n",
       "      <th>Код Маршрута</th>\n",
       "      <th>Табельный номер</th>\n",
       "      <th>Код предприятия</th>\n",
       "      <th>mr_id</th>\n",
       "      <th>time</th>\n",
       "      <th>start</th>\n",
       "      <th>finish</th>\n",
       "      <th>tabelnum</th>\n",
       "    </tr>\n",
       "  </thead>\n",
       "  <tbody>\n",
       "    <tr>\n",
       "      <th>80381</th>\n",
       "      <td>2019-10-16 10:35:51</td>\n",
       "      <td>81526452</td>\n",
       "      <td>3</td>\n",
       "      <td>C502D58F</td>\n",
       "      <td>СОЦ</td>\n",
       "      <td>64</td>\n",
       "      <td>10003456789</td>\n",
       "      <td>11</td>\n",
       "      <td>5</td>\n",
       "      <td>1</td>\n",
       "      <td>38151</td>\n",
       "      <td>38151</td>\n",
       "      <td>80104</td>\n",
       "      <td>1503</td>\n",
       "    </tr>\n",
       "    <tr>\n",
       "      <th>80624</th>\n",
       "      <td>2019-10-16 10:36:23</td>\n",
       "      <td>81526452</td>\n",
       "      <td>6</td>\n",
       "      <td>NaN</td>\n",
       "      <td>БАНК</td>\n",
       "      <td>0</td>\n",
       "      <td>10003456789</td>\n",
       "      <td>11</td>\n",
       "      <td>5</td>\n",
       "      <td>1</td>\n",
       "      <td>38183</td>\n",
       "      <td>38151</td>\n",
       "      <td>80104</td>\n",
       "      <td>1503</td>\n",
       "    </tr>\n",
       "    <tr>\n",
       "      <th>80324</th>\n",
       "      <td>2019-10-16 10:36:57</td>\n",
       "      <td>81526452</td>\n",
       "      <td>7</td>\n",
       "      <td>118F850F</td>\n",
       "      <td>КШ</td>\n",
       "      <td>0</td>\n",
       "      <td>10003456789</td>\n",
       "      <td>11</td>\n",
       "      <td>5</td>\n",
       "      <td>1</td>\n",
       "      <td>38217</td>\n",
       "      <td>38151</td>\n",
       "      <td>80104</td>\n",
       "      <td>1503</td>\n",
       "    </tr>\n",
       "    <tr>\n",
       "      <th>80382</th>\n",
       "      <td>2019-10-16 10:37:07</td>\n",
       "      <td>81526452</td>\n",
       "      <td>8</td>\n",
       "      <td>5D09C9AE</td>\n",
       "      <td>СОЦ</td>\n",
       "      <td>81</td>\n",
       "      <td>10003456789</td>\n",
       "      <td>11</td>\n",
       "      <td>5</td>\n",
       "      <td>1</td>\n",
       "      <td>38227</td>\n",
       "      <td>38151</td>\n",
       "      <td>80104</td>\n",
       "      <td>1503</td>\n",
       "    </tr>\n",
       "    <tr>\n",
       "      <th>80383</th>\n",
       "      <td>2019-10-16 10:37:12</td>\n",
       "      <td>81526452</td>\n",
       "      <td>9</td>\n",
       "      <td>551B6DF9</td>\n",
       "      <td>СОЦ</td>\n",
       "      <td>69</td>\n",
       "      <td>10003456789</td>\n",
       "      <td>11</td>\n",
       "      <td>5</td>\n",
       "      <td>1</td>\n",
       "      <td>38232</td>\n",
       "      <td>38151</td>\n",
       "      <td>80104</td>\n",
       "      <td>1503</td>\n",
       "    </tr>\n",
       "  </tbody>\n",
       "</table>\n",
       "</div>"
      ],
      "text/plain": [
       "      Дата и время поездки  Терминал  Номер билета Номер кристалла  TCAT  \\\n",
       "80381  2019-10-16 10:35:51  81526452             3        C502D58F   СОЦ   \n",
       "80624  2019-10-16 10:36:23  81526452             6             NaN  БАНК   \n",
       "80324  2019-10-16 10:36:57  81526452             7        118F850F    КШ   \n",
       "80382  2019-10-16 10:37:07  81526452             8        5D09C9AE   СОЦ   \n",
       "80383  2019-10-16 10:37:12  81526452             9        551B6DF9   СОЦ   \n",
       "\n",
       "       NUM_TRIP  Код Маршрута  Табельный номер  Код предприятия  mr_id   time  \\\n",
       "80381        64   10003456789               11                5      1  38151   \n",
       "80624         0   10003456789               11                5      1  38183   \n",
       "80324         0   10003456789               11                5      1  38217   \n",
       "80382        81   10003456789               11                5      1  38227   \n",
       "80383        69   10003456789               11                5      1  38232   \n",
       "\n",
       "       start  finish  tabelnum  \n",
       "80381  38151   80104      1503  \n",
       "80624  38151   80104      1503  \n",
       "80324  38151   80104      1503  \n",
       "80382  38151   80104      1503  \n",
       "80383  38151   80104      1503  "
      ]
     },
     "execution_count": 45,
     "metadata": {},
     "output_type": "execute_result"
    }
   ],
   "source": [
    "validation4.head()"
   ]
  },
  {
   "cell_type": "code",
   "execution_count": 46,
   "metadata": {},
   "outputs": [],
   "source": [
    "del validation2"
   ]
  },
  {
   "cell_type": "markdown",
   "metadata": {},
   "source": [
    "Переводим столбец с временем в формат INT и прописываем для каждого табельного номера время начала и конца"
   ]
  },
  {
   "cell_type": "code",
   "execution_count": 47,
   "metadata": {},
   "outputs": [],
   "source": [
    "res_stop['time']=pd.to_datetime(res_stop['timenav'])\n",
    "res_stop['hour']=res_stop['time'].dt.hour\n",
    "res_stop.loc[res_stop.hour ==0, 'hour'] = 24\n",
    "res_stop.loc[res_stop.hour ==1, 'hour'] = 25\n",
    "res_stop.loc[res_stop.hour ==2, 'hour'] = 26\n",
    "res_stop.loc[res_stop.hour ==3, 'hour'] = 27\n",
    "res_stop['min']=res_stop['time'].dt.minute\n",
    "res_stop['sec']=res_stop['time'].dt.second\n",
    "res_stop['time']=(res_stop['hour'].astype(int))*3600+(res_stop['min'].astype(int))*60+(res_stop['sec'].astype(int))\n",
    "res_stop2=res_stop[['time','ssId','mr_id','rc_orderby','tabelnum','tr_id','rl_id']]"
   ]
  },
  {
   "cell_type": "code",
   "execution_count": 48,
   "metadata": {},
   "outputs": [
    {
     "data": {
      "text/plain": [
       "array([ 6,  7,  8, 10, 13, 14, 15, 16, 17, 18, 19, 20, 21,  9,  5, 11, 12,\n",
       "       22, 23, 24,  4], dtype=int64)"
      ]
     },
     "execution_count": 48,
     "metadata": {},
     "output_type": "execute_result"
    }
   ],
   "source": [
    "res_stop['hour'].unique()"
   ]
  },
  {
   "cell_type": "code",
   "execution_count": 49,
   "metadata": {},
   "outputs": [
    {
     "data": {
      "text/plain": [
       "array([100, 103,  10, 111, 112, 113, 114, 115, 116, 117, 118, 119, 120,\n",
       "       121, 122, 126, 127, 129,  12, 130, 132, 133, 134, 135, 136, 137,\n",
       "       138, 139, 140, 141, 142, 143, 144, 145, 146,  14, 151, 152,  15,\n",
       "       176,  17, 187,  18, 199,   1,  20,  23,  24,  25,  26,  27,  28,\n",
       "        30,  31,  32,  34,  35,  36,  37,  38,  39,  43,  44,  45,  46,\n",
       "        47,  48,  49,  59,  60,  61,  62,  64,  68,  70,  71,  73,  81,\n",
       "        97,  98,  99], dtype=int64)"
      ]
     },
     "execution_count": 49,
     "metadata": {},
     "output_type": "execute_result"
    }
   ],
   "source": [
    "res_stop2['mr_id'].unique()"
   ]
  },
  {
   "cell_type": "code",
   "execution_count": 50,
   "metadata": {},
   "outputs": [
    {
     "data": {
      "text/html": [
       "<div>\n",
       "<style scoped>\n",
       "    .dataframe tbody tr th:only-of-type {\n",
       "        vertical-align: middle;\n",
       "    }\n",
       "\n",
       "    .dataframe tbody tr th {\n",
       "        vertical-align: top;\n",
       "    }\n",
       "\n",
       "    .dataframe thead th {\n",
       "        text-align: right;\n",
       "    }\n",
       "</style>\n",
       "<table border=\"1\" class=\"dataframe\">\n",
       "  <thead>\n",
       "    <tr style=\"text-align: right;\">\n",
       "      <th></th>\n",
       "      <th>time</th>\n",
       "      <th>ssId</th>\n",
       "      <th>mr_id</th>\n",
       "      <th>rc_orderby</th>\n",
       "      <th>tabelnum</th>\n",
       "      <th>tr_id</th>\n",
       "      <th>rl_id</th>\n",
       "    </tr>\n",
       "  </thead>\n",
       "  <tbody>\n",
       "    <tr>\n",
       "      <th>0</th>\n",
       "      <td>21982</td>\n",
       "      <td>1460</td>\n",
       "      <td>100</td>\n",
       "      <td>1</td>\n",
       "      <td>10193.0</td>\n",
       "      <td>500000338</td>\n",
       "      <td>59565</td>\n",
       "    </tr>\n",
       "    <tr>\n",
       "      <th>1</th>\n",
       "      <td>21984</td>\n",
       "      <td>1460</td>\n",
       "      <td>100</td>\n",
       "      <td>1</td>\n",
       "      <td>10193.0</td>\n",
       "      <td>500000338</td>\n",
       "      <td>59565</td>\n",
       "    </tr>\n",
       "    <tr>\n",
       "      <th>2</th>\n",
       "      <td>21986</td>\n",
       "      <td>1460</td>\n",
       "      <td>100</td>\n",
       "      <td>1</td>\n",
       "      <td>10193.0</td>\n",
       "      <td>500000338</td>\n",
       "      <td>59565</td>\n",
       "    </tr>\n",
       "    <tr>\n",
       "      <th>3</th>\n",
       "      <td>21987</td>\n",
       "      <td>1460</td>\n",
       "      <td>100</td>\n",
       "      <td>1</td>\n",
       "      <td>10193.0</td>\n",
       "      <td>500000338</td>\n",
       "      <td>59565</td>\n",
       "    </tr>\n",
       "    <tr>\n",
       "      <th>4</th>\n",
       "      <td>21993</td>\n",
       "      <td>1460</td>\n",
       "      <td>100</td>\n",
       "      <td>1</td>\n",
       "      <td>10193.0</td>\n",
       "      <td>500000338</td>\n",
       "      <td>59565</td>\n",
       "    </tr>\n",
       "  </tbody>\n",
       "</table>\n",
       "</div>"
      ],
      "text/plain": [
       "    time  ssId  mr_id  rc_orderby  tabelnum      tr_id  rl_id\n",
       "0  21982  1460    100           1   10193.0  500000338  59565\n",
       "1  21984  1460    100           1   10193.0  500000338  59565\n",
       "2  21986  1460    100           1   10193.0  500000338  59565\n",
       "3  21987  1460    100           1   10193.0  500000338  59565\n",
       "4  21993  1460    100           1   10193.0  500000338  59565"
      ]
     },
     "execution_count": 50,
     "metadata": {},
     "output_type": "execute_result"
    }
   ],
   "source": [
    "res_stop2.head()"
   ]
  },
  {
   "cell_type": "code",
   "execution_count": 51,
   "metadata": {},
   "outputs": [
    {
     "name": "stderr",
     "output_type": "stream",
     "text": [
      "<ipython-input-51-ab181c24d7ee>:1: SettingWithCopyWarning: \n",
      "A value is trying to be set on a copy of a slice from a DataFrame.\n",
      "Try using .loc[row_indexer,col_indexer] = value instead\n",
      "\n",
      "See the caveats in the documentation: https://pandas.pydata.org/pandas-docs/stable/user_guide/indexing.html#returning-a-view-versus-a-copy\n",
      "  res_stop2['rc_orderby2'] = res_stop2.groupby(['mr_id','tabelnum','tr_id','rl_id'])['rc_orderby'].shift(-1).astype('Int64')\n"
     ]
    }
   ],
   "source": [
    "res_stop2['rc_orderby2'] = res_stop2.groupby(['mr_id','tabelnum','tr_id','rl_id'])['rc_orderby'].shift(-1).astype('Int64')"
   ]
  },
  {
   "cell_type": "code",
   "execution_count": 52,
   "metadata": {},
   "outputs": [],
   "source": [
    "res_stop2=res_stop2[~(res_stop2['rc_orderby2']==res_stop2['rc_orderby'])]"
   ]
  },
  {
   "cell_type": "code",
   "execution_count": 53,
   "metadata": {},
   "outputs": [],
   "source": [
    "res_stop2['time_start']=res_stop2['time']\n",
    "res_stop2['time_finish'] = res_stop2.groupby(['mr_id','tabelnum','tr_id'])['time'].shift(-1).astype('Int64')"
   ]
  },
  {
   "cell_type": "code",
   "execution_count": 54,
   "metadata": {},
   "outputs": [
    {
     "data": {
      "text/html": [
       "<div>\n",
       "<style scoped>\n",
       "    .dataframe tbody tr th:only-of-type {\n",
       "        vertical-align: middle;\n",
       "    }\n",
       "\n",
       "    .dataframe tbody tr th {\n",
       "        vertical-align: top;\n",
       "    }\n",
       "\n",
       "    .dataframe thead th {\n",
       "        text-align: right;\n",
       "    }\n",
       "</style>\n",
       "<table border=\"1\" class=\"dataframe\">\n",
       "  <thead>\n",
       "    <tr style=\"text-align: right;\">\n",
       "      <th></th>\n",
       "      <th>time</th>\n",
       "      <th>ssId</th>\n",
       "      <th>mr_id</th>\n",
       "      <th>rc_orderby</th>\n",
       "      <th>tabelnum</th>\n",
       "      <th>tr_id</th>\n",
       "      <th>rl_id</th>\n",
       "      <th>time_start</th>\n",
       "      <th>time_finish</th>\n",
       "    </tr>\n",
       "  </thead>\n",
       "  <tbody>\n",
       "    <tr>\n",
       "      <th>73</th>\n",
       "      <td>22680</td>\n",
       "      <td>1460</td>\n",
       "      <td>100</td>\n",
       "      <td>1</td>\n",
       "      <td>10193.0</td>\n",
       "      <td>500000338</td>\n",
       "      <td>59565</td>\n",
       "      <td>22680</td>\n",
       "      <td>22802</td>\n",
       "    </tr>\n",
       "    <tr>\n",
       "      <th>74</th>\n",
       "      <td>22802</td>\n",
       "      <td>284</td>\n",
       "      <td>100</td>\n",
       "      <td>2</td>\n",
       "      <td>10193.0</td>\n",
       "      <td>500000338</td>\n",
       "      <td>59565</td>\n",
       "      <td>22802</td>\n",
       "      <td>22969</td>\n",
       "    </tr>\n",
       "    <tr>\n",
       "      <th>75</th>\n",
       "      <td>22969</td>\n",
       "      <td>277</td>\n",
       "      <td>100</td>\n",
       "      <td>4</td>\n",
       "      <td>10193.0</td>\n",
       "      <td>500000338</td>\n",
       "      <td>59565</td>\n",
       "      <td>22969</td>\n",
       "      <td>23113</td>\n",
       "    </tr>\n",
       "    <tr>\n",
       "      <th>76</th>\n",
       "      <td>23113</td>\n",
       "      <td>283</td>\n",
       "      <td>100</td>\n",
       "      <td>5</td>\n",
       "      <td>10193.0</td>\n",
       "      <td>500000338</td>\n",
       "      <td>59565</td>\n",
       "      <td>23113</td>\n",
       "      <td>23211</td>\n",
       "    </tr>\n",
       "    <tr>\n",
       "      <th>77</th>\n",
       "      <td>23211</td>\n",
       "      <td>278</td>\n",
       "      <td>100</td>\n",
       "      <td>6</td>\n",
       "      <td>10193.0</td>\n",
       "      <td>500000338</td>\n",
       "      <td>59565</td>\n",
       "      <td>23211</td>\n",
       "      <td>23302</td>\n",
       "    </tr>\n",
       "    <tr>\n",
       "      <th>...</th>\n",
       "      <td>...</td>\n",
       "      <td>...</td>\n",
       "      <td>...</td>\n",
       "      <td>...</td>\n",
       "      <td>...</td>\n",
       "      <td>...</td>\n",
       "      <td>...</td>\n",
       "      <td>...</td>\n",
       "      <td>...</td>\n",
       "    </tr>\n",
       "    <tr>\n",
       "      <th>607721</th>\n",
       "      <td>71558</td>\n",
       "      <td>286</td>\n",
       "      <td>99</td>\n",
       "      <td>35</td>\n",
       "      <td>1301.0</td>\n",
       "      <td>500000420</td>\n",
       "      <td>61766</td>\n",
       "      <td>71558</td>\n",
       "      <td>71617</td>\n",
       "    </tr>\n",
       "    <tr>\n",
       "      <th>607722</th>\n",
       "      <td>71617</td>\n",
       "      <td>287</td>\n",
       "      <td>99</td>\n",
       "      <td>36</td>\n",
       "      <td>1301.0</td>\n",
       "      <td>500000420</td>\n",
       "      <td>61766</td>\n",
       "      <td>71617</td>\n",
       "      <td>71717</td>\n",
       "    </tr>\n",
       "    <tr>\n",
       "      <th>607723</th>\n",
       "      <td>71717</td>\n",
       "      <td>263</td>\n",
       "      <td>99</td>\n",
       "      <td>37</td>\n",
       "      <td>1301.0</td>\n",
       "      <td>500000420</td>\n",
       "      <td>61766</td>\n",
       "      <td>71717</td>\n",
       "      <td>72068</td>\n",
       "    </tr>\n",
       "    <tr>\n",
       "      <th>607724</th>\n",
       "      <td>72068</td>\n",
       "      <td>264</td>\n",
       "      <td>99</td>\n",
       "      <td>38</td>\n",
       "      <td>1301.0</td>\n",
       "      <td>500000420</td>\n",
       "      <td>61766</td>\n",
       "      <td>72068</td>\n",
       "      <td>72158</td>\n",
       "    </tr>\n",
       "    <tr>\n",
       "      <th>607725</th>\n",
       "      <td>72158</td>\n",
       "      <td>1485</td>\n",
       "      <td>99</td>\n",
       "      <td>39</td>\n",
       "      <td>1301.0</td>\n",
       "      <td>500000420</td>\n",
       "      <td>61766</td>\n",
       "      <td>72158</td>\n",
       "      <td>&lt;NA&gt;</td>\n",
       "    </tr>\n",
       "  </tbody>\n",
       "</table>\n",
       "<p>251779 rows × 9 columns</p>\n",
       "</div>"
      ],
      "text/plain": [
       "         time  ssId  mr_id  rc_orderby  tabelnum      tr_id  rl_id  \\\n",
       "73      22680  1460    100           1   10193.0  500000338  59565   \n",
       "74      22802   284    100           2   10193.0  500000338  59565   \n",
       "75      22969   277    100           4   10193.0  500000338  59565   \n",
       "76      23113   283    100           5   10193.0  500000338  59565   \n",
       "77      23211   278    100           6   10193.0  500000338  59565   \n",
       "...       ...   ...    ...         ...       ...        ...    ...   \n",
       "607721  71558   286     99          35    1301.0  500000420  61766   \n",
       "607722  71617   287     99          36    1301.0  500000420  61766   \n",
       "607723  71717   263     99          37    1301.0  500000420  61766   \n",
       "607724  72068   264     99          38    1301.0  500000420  61766   \n",
       "607725  72158  1485     99          39    1301.0  500000420  61766   \n",
       "\n",
       "        time_start  time_finish  \n",
       "73           22680        22802  \n",
       "74           22802        22969  \n",
       "75           22969        23113  \n",
       "76           23113        23211  \n",
       "77           23211        23302  \n",
       "...            ...          ...  \n",
       "607721       71558        71617  \n",
       "607722       71617        71717  \n",
       "607723       71717        72068  \n",
       "607724       72068        72158  \n",
       "607725       72158         <NA>  \n",
       "\n",
       "[251779 rows x 9 columns]"
      ]
     },
     "execution_count": 54,
     "metadata": {},
     "output_type": "execute_result"
    }
   ],
   "source": [
    "res_stop2.drop(['rc_orderby2'], axis=1)"
   ]
  },
  {
   "cell_type": "code",
   "execution_count": null,
   "metadata": {},
   "outputs": [],
   "source": []
  },
  {
   "cell_type": "code",
   "execution_count": 55,
   "metadata": {},
   "outputs": [],
   "source": [
    "validation4['tr_id']='';"
   ]
  },
  {
   "cell_type": "code",
   "execution_count": 56,
   "metadata": {},
   "outputs": [],
   "source": [
    "validation4=validation4[validation4['mr_id'].isin(res_stop2['mr_id'].unique())]"
   ]
  },
  {
   "cell_type": "markdown",
   "metadata": {},
   "source": [
    "Смотрим сколько маршрутов у нас есть и в валидациях, и в треках"
   ]
  },
  {
   "cell_type": "code",
   "execution_count": 57,
   "metadata": {},
   "outputs": [
    {
     "data": {
      "text/plain": [
       "80"
      ]
     },
     "execution_count": 57,
     "metadata": {},
     "output_type": "execute_result"
    }
   ],
   "source": [
    "len(validation4['mr_id'].unique())"
   ]
  },
  {
   "cell_type": "code",
   "execution_count": 58,
   "metadata": {},
   "outputs": [
    {
     "data": {
      "text/plain": [
       "array([1503, 1604, 1228,  204,  735, 1408,  895, 1591, 1674, 1456, 1202,\n",
       "       1168, 1515, 1329, 1357, 1277,  404, 1686, 1287,  725])"
      ]
     },
     "execution_count": 58,
     "metadata": {},
     "output_type": "execute_result"
    }
   ],
   "source": [
    "validation4[validation4['mr_id']==1]['tabelnum'].unique()"
   ]
  },
  {
   "cell_type": "code",
   "execution_count": 59,
   "metadata": {},
   "outputs": [
    {
     "data": {
      "text/plain": [
       "array([1503., 1228., 1329.,  404., 1686.,  725., 1591., 1168., 1202.,\n",
       "        735.,  895., 1456., 1287., 1408., 1357., 1277., 1674.,  204.,\n",
       "       1515., 1604.])"
      ]
     },
     "execution_count": 59,
     "metadata": {},
     "output_type": "execute_result"
    }
   ],
   "source": [
    "res_stop2[res_stop2['mr_id']==1]['tabelnum'].unique()"
   ]
  },
  {
   "cell_type": "code",
   "execution_count": 60,
   "metadata": {},
   "outputs": [
    {
     "data": {
      "text/plain": [
       "array([ 1503,  1604,  1228,   204,   735,  1408,   895,  1591,  1674,\n",
       "        1456,  1202,  1168,  1515,  1329,  1357,  1277,   404,  1686,\n",
       "        1287,   725,  2618,  1209,   300,  1139,   380,   106,  3778,\n",
       "        1821,   488,  1785,  2630,  1752,   680,  1363,  4141,  3611,\n",
       "        4156,   637,   840,   531,  1813,  3909,   639,  2813,  3892,\n",
       "        2491,   670,   473,  3753,  4040,  2640,  3715,  1677,  2408,\n",
       "         664,  1210,  1657,  1412,   804,  1161,   405,  1259,  1337,\n",
       "        1175,  1673,  1351,  1350,  1608,  1235,  1203,  1196,  1368,\n",
       "        1385,  1440,  1374,  1399,  1323,  1037,   402,  1671,   594,\n",
       "        1059,  1463,    70,   341,  1014,  1244,  1518,  1397,  1386,\n",
       "        1688,  1703,  1187,  1243,  1178,  1364,  1174,  1371,   128,\n",
       "         868,   550,   630,  1092,  1163,   950,  1476,  1062,   319,\n",
       "         565,   105,  1528,   120,  1239,   122,  1019,  1190, 10058,\n",
       "       10226, 10195, 10176, 10262, 10219, 10253, 10049,   410,   976,\n",
       "         938,  1061,  1236,   418,  1353,  1151,  1341,  1365,  1255,\n",
       "        1251,  1250,   901,  1435,  1273,  1125,  1590,   596,  1286,\n",
       "         886, 10139, 10031,   673,  1701,  1669,  1330,   585,  1730,\n",
       "        1304,  1406,  1689,  1393,  1381,  1169,   925,  1545,  1562,\n",
       "        1150,  1380,  1372,   304,   921,  1212,  1654,  1521,  1346,\n",
       "        1241,  1535,  1223,   459,  1294,  1687,  1299,  1316,  1310,\n",
       "        1326,  1342,  1254,  1002,  1050,  1297,  1278,   212,  1311,\n",
       "        1307, 10077, 10010, 10274, 10239, 10308, 10249, 10177, 10240,\n",
       "       10332, 10147, 10357, 10261, 10294, 10136, 10214, 10322, 10012,\n",
       "       10298, 10288, 10260, 10254, 10312, 10307, 10291, 10299,  1155,\n",
       "        1282,  1162,  1257,  1238,   293,  1459,  1166,  1295, 10338,\n",
       "       10165, 10216,  1119,  1025,  1670,   101,   374,  1349,   968,\n",
       "         453,   696,  1338,   591,   802,   759,  1053,   693,   741,\n",
       "         784,  1410,   788,  1132,   182,   836,   717,   669,  1742,\n",
       "         635,   987,  1362,   682,   782,  1200,  1694,   767,  1167,\n",
       "        1533,  1534,   952,  1592,  1396,  1158,  1224,  1402,  1684,\n",
       "        1713,  1280,  1171,  1578,  1403,  1744,  1661,  1409,  1233,\n",
       "        1165,   261,  1100,  1245,  1589,  1079,   562, 10220, 10045,\n",
       "       10175, 10052,   598,    17,   324,   854,  1208,  1446,  1271,\n",
       "        1261,  1182,  1205,   286,   619,   653,  1656, 10044,  3546,\n",
       "        4199,  4186,   689,  3167,  1690,   873, 10056, 10143, 10184,\n",
       "       10007, 10004, 10352, 10268, 10258, 10343, 10003, 10327, 10323,\n",
       "        3493,  4201,   537, 10330,  1305,   896,  1356,  1301,  1652,\n",
       "        1266, 10193,  3503,   875,   656,  3273,  1141,  3315,  1215,\n",
       "        3312,  3388,  2244,   955,   721,    71,   395,   908,   172,\n",
       "        1041,   979,    53,  1749,   944,  1516,   644,   808,  1731,\n",
       "         978,   383,   478,    20,    97,   516,    61,   917,  1540,\n",
       "        1442,  1156,  1549,   715,  1302,  1126,  1481,   722,  1275,\n",
       "        1359,  1450,  1232,  1722,  1475,  1095,   949,   541,   694,\n",
       "        1647,   822,   602,  1044,  1011,  1114,  1040,   768,   862,\n",
       "        1289,  1006,   587,   559,   577,  1523,  1543,   435,  1512,\n",
       "         523,  1033,   701,  1001,  1426,   781,   796,  1755,   890,\n",
       "         940,  1407,  1088,   969,   977,  1482,   662,  1480,  1642,\n",
       "        3384,  1107,  1538,  3235,  1183,  1134,  3197,  1160,  1121,\n",
       "        3103,  3216,  1181,  3285,  3113,  1333,  3272,  1252,  3509,\n",
       "         470,   450,  2512,   462,  2620,  2314,   540,   518,   548,\n",
       "        3473,  2437,  3580,  3694,  2109,  3248,  3701,   545,  1193,\n",
       "        3245,  1361,  1101,  3351,  3262,  3995,  3321,  3125,  3279,\n",
       "        3218,  2283,  3179,  2135,  3198,  3140,  3165,  3385,  3298,\n",
       "        3291,  3111,  2379,  3313,  2345,  1276,   546,  3195,  3092,\n",
       "         467,   547,  4170,  3225,  3588,  4006,  1666,   517,  4117,\n",
       "        3918,   378,  3679,  1569,   514,  3340,  3266,   536,  2231,\n",
       "        4198,  3610,  3800,  3839,  3692,  3604,  3724,  2885,   555,\n",
       "         502,   605,   564,   482,   334,   455,   373,   631,   416,\n",
       "         427,   492,   583,  1927,  2710,  2762,   271,   174,   139,\n",
       "         173,   208,   228,     3,   214,   246,   299,   213,   233,\n",
       "         295,     7,   350,    18,    90,   133,   114,   236,    30,\n",
       "          39,   252,    27,   481,   407,   686,   683,   668,   451,\n",
       "         499,   511,   436,   685,   369,   464,   471,   342,   508,\n",
       "         428,    51,    62,  1787,    60,    85,   335,   283,   150,\n",
       "         160,  3706,  3622,   240,  1847,  3624,  2832,  1620,  8890,\n",
       "        1899,  3719,   181,   270,  2862,  3616,   327,    35,   201,\n",
       "           5,   130,  3640,  3684,  3615,  1145,   646,   632,   647,\n",
       "        1242,   382,   487,   308,   452,   498,   339,  1877,  2691,\n",
       "        2803,  3602,  3734,  3700,  1667,  3732,  3729,  2915,  3712,\n",
       "        2698,  2865,  3731,  3666,  3668,  1681,   360,    78,    33,\n",
       "          74,   305,     6,  1707,   156,  3924,  3730,    11,   161,\n",
       "          69,  1919,  3768,   234,  3689,  3680,   361,   256,  1702,\n",
       "        3661,    57,   284,  3686,  1944,  1609,  2677,   153,   474,\n",
       "         710,   622,   603,   121,   387,    29,   593,   629,   519,\n",
       "         321,   272,   505,   151,   280,    83,   560,   571,   194,\n",
       "         185,   734,   104,  1664,  1626,  2784,  3713,  1824,  8813,\n",
       "        6205,  3853,  3682,  1797,  2850,  1902,  1621,  8943,  3644,\n",
       "        1829,  8881,   495,   568,   501,   604,   463,   636,   579,\n",
       "         708,   393,   549,   661,   376,   477,   357,   456,    80,\n",
       "          65,   109,   227,   197,  1719,   671,  1555,  1537,  1507,\n",
       "        1706,  1594,  1728,   914,  1576,  1641,  1725,  1614,  1632,\n",
       "         313,  1741,  1539,  1579,  1675,  1716,  1148,  1640,  1098,\n",
       "        1574,  1570,  1060,  1598,  1747,   924,  1717,  1748,  1580,\n",
       "        1712,  1491,  1127,  1760,  2747,  3986,  1298, 10353, 10164,\n",
       "       10013, 10349, 10203, 10142])"
      ]
     },
     "execution_count": 60,
     "metadata": {},
     "output_type": "execute_result"
    }
   ],
   "source": [
    "validation4['tabelnum'].unique()"
   ]
  },
  {
   "cell_type": "code",
   "execution_count": null,
   "metadata": {},
   "outputs": [],
   "source": []
  },
  {
   "cell_type": "code",
   "execution_count": 61,
   "metadata": {},
   "outputs": [],
   "source": [
    "k=0\n",
    "res=validation4\n",
    "result = []\n",
    "result2 = []\n",
    "stops=pd.DataFrame()\n",
    "for index, row in validation4.iterrows():\n",
    "    stops=res_stop2[(res_stop2['mr_id']==row['mr_id'])\n",
    "                    &(res_stop2['tabelnum']==row['tabelnum'])\n",
    "                    &(res_stop2['time_start']<=row['time'])\n",
    "                    &((res_stop2['time_finish']>row['time'])|(res_stop2['time_finish'].isna()))]\n",
    "    if stops.empty:\n",
    "        result.append(0)\n",
    "        result2.append(0)\n",
    "    else:\n",
    "        stop_unic=stops['ssId'].values\n",
    "        result.append(stop_unic[0])\n",
    "        rl_id=stops['rl_id'].values\n",
    "        result2.append(rl_id[0])\n",
    "res['ssId']=result\n",
    "res['rl_id']=result2\n",
    "FOR_MATRIX=res"
   ]
  },
  {
   "cell_type": "code",
   "execution_count": 62,
   "metadata": {},
   "outputs": [
    {
     "data": {
      "text/plain": [
       "49901"
      ]
     },
     "execution_count": 62,
     "metadata": {},
     "output_type": "execute_result"
    }
   ],
   "source": [
    "len(res[res['ssId']==0])"
   ]
  },
  {
   "cell_type": "code",
   "execution_count": null,
   "metadata": {},
   "outputs": [],
   "source": []
  },
  {
   "cell_type": "code",
   "execution_count": 63,
   "metadata": {
    "scrolled": true
   },
   "outputs": [
    {
     "data": {
      "text/html": [
       "<div>\n",
       "<style scoped>\n",
       "    .dataframe tbody tr th:only-of-type {\n",
       "        vertical-align: middle;\n",
       "    }\n",
       "\n",
       "    .dataframe tbody tr th {\n",
       "        vertical-align: top;\n",
       "    }\n",
       "\n",
       "    .dataframe thead th {\n",
       "        text-align: right;\n",
       "    }\n",
       "</style>\n",
       "<table border=\"1\" class=\"dataframe\">\n",
       "  <thead>\n",
       "    <tr style=\"text-align: right;\">\n",
       "      <th></th>\n",
       "      <th>ssId</th>\n",
       "      <th>ss_name</th>\n",
       "      <th>ss_lat</th>\n",
       "      <th>ss_long</th>\n",
       "      <th>geometry</th>\n",
       "    </tr>\n",
       "  </thead>\n",
       "  <tbody>\n",
       "    <tr>\n",
       "      <th>0</th>\n",
       "      <td>2</td>\n",
       "      <td>Завод Электрощит</td>\n",
       "      <td>53.381994</td>\n",
       "      <td>50.166450</td>\n",
       "      <td>0101000020E6100000A835CD3B4E15494055A2EC2DE5B0...</td>\n",
       "    </tr>\n",
       "    <tr>\n",
       "      <th>1</th>\n",
       "      <td>3</td>\n",
       "      <td>пос.Южный</td>\n",
       "      <td>53.372294</td>\n",
       "      <td>50.177035</td>\n",
       "      <td>0101000020E6100000A99F3715A91649409E3F6D54A7AF...</td>\n",
       "    </tr>\n",
       "    <tr>\n",
       "      <th>2</th>\n",
       "      <td>4</td>\n",
       "      <td>Развилка</td>\n",
       "      <td>53.370268</td>\n",
       "      <td>50.188537</td>\n",
       "      <td>0101000020E6100000008BFCFA21184940AF601BF164AF...</td>\n",
       "    </tr>\n",
       "    <tr>\n",
       "      <th>3</th>\n",
       "      <td>5</td>\n",
       "      <td>Дома ЭМО</td>\n",
       "      <td>53.365598</td>\n",
       "      <td>50.197635</td>\n",
       "      <td>0101000020E6100000C1C58A1A4C194940D3BD4EEACBAE...</td>\n",
       "    </tr>\n",
       "    <tr>\n",
       "      <th>4</th>\n",
       "      <td>6</td>\n",
       "      <td>31 км</td>\n",
       "      <td>53.355974</td>\n",
       "      <td>50.209239</td>\n",
       "      <td>0101000020E61000001C06F357C81A4940F81C588E90AD...</td>\n",
       "    </tr>\n",
       "  </tbody>\n",
       "</table>\n",
       "</div>"
      ],
      "text/plain": [
       "   ssId           ss_name     ss_lat    ss_long  \\\n",
       "0     2  Завод Электрощит  53.381994  50.166450   \n",
       "1     3         пос.Южный  53.372294  50.177035   \n",
       "2     4          Развилка  53.370268  50.188537   \n",
       "3     5          Дома ЭМО  53.365598  50.197635   \n",
       "4     6             31 км  53.355974  50.209239   \n",
       "\n",
       "                                            geometry  \n",
       "0  0101000020E6100000A835CD3B4E15494055A2EC2DE5B0...  \n",
       "1  0101000020E6100000A99F3715A91649409E3F6D54A7AF...  \n",
       "2  0101000020E6100000008BFCFA21184940AF601BF164AF...  \n",
       "3  0101000020E6100000C1C58A1A4C194940D3BD4EEACBAE...  \n",
       "4  0101000020E61000001C06F357C81A4940F81C588E90AD...  "
      ]
     },
     "execution_count": 63,
     "metadata": {},
     "output_type": "execute_result"
    }
   ],
   "source": [
    "stops=pd.read_csv(path+'stops.csv', sep = ',', encoding='utf-8')\n",
    "stops.head()"
   ]
  },
  {
   "cell_type": "code",
   "execution_count": 64,
   "metadata": {},
   "outputs": [
    {
     "data": {
      "text/plain": [
       "49901"
      ]
     },
     "execution_count": 64,
     "metadata": {},
     "output_type": "execute_result"
    }
   ],
   "source": [
    "res['ssId']=res['ssId'].astype(int)\n",
    "res2=res.merge(stops, on='ssId', how='left')\n",
    "res2['c']=1\n",
    "res2[res2['ssId']==0]['mr_id'].unique()\n",
    "rl_orderby=res_stop[['ssId','rl_id','mr_id','rc_orderby']].drop_duplicates()\n",
    "res2=res2.merge(rl_orderby, on=['ssId','rl_id','mr_id'], how='left')\n",
    "len(res2[res2['ssId']==0])"
   ]
  },
  {
   "cell_type": "markdown",
   "metadata": {},
   "source": [
    "## ИЗМЕНИИТЬ НАЗВАНИЯ ФАЙЛА!!! НЕ ЗАБЫТЬ"
   ]
  },
  {
   "cell_type": "code",
   "execution_count": 68,
   "metadata": {},
   "outputs": [],
   "source": [
    "res2.to_csv(path+'For_matrix_2019_10_16.csv')"
   ]
  },
  {
   "cell_type": "code",
   "execution_count": 66,
   "metadata": {},
   "outputs": [
    {
     "data": {
      "text/plain": [
       "0.23169560896734095"
      ]
     },
     "execution_count": 66,
     "metadata": {},
     "output_type": "execute_result"
    }
   ],
   "source": [
    "13756/59371"
   ]
  },
  {
   "cell_type": "code",
   "execution_count": 67,
   "metadata": {},
   "outputs": [
    {
     "ename": "FileNotFoundError",
     "evalue": "[Errno 2] No such file or directory: '.\\\\done_oct\\\\Маршруты.csv'",
     "output_type": "error",
     "traceback": [
      "\u001b[1;31m---------------------------------------------------------------------------\u001b[0m",
      "\u001b[1;31mFileNotFoundError\u001b[0m                         Traceback (most recent call last)",
      "\u001b[1;32m<ipython-input-67-1b89dcf2ea6e>\u001b[0m in \u001b[0;36m<module>\u001b[1;34m\u001b[0m\n\u001b[1;32m----> 1\u001b[1;33m \u001b[0mmarsh\u001b[0m\u001b[1;33m=\u001b[0m\u001b[0mpd\u001b[0m\u001b[1;33m.\u001b[0m\u001b[0mread_csv\u001b[0m\u001b[1;33m(\u001b[0m\u001b[0mpath\u001b[0m\u001b[1;33m+\u001b[0m\u001b[1;34m'Маршруты.csv'\u001b[0m\u001b[1;33m,\u001b[0m \u001b[0msep\u001b[0m \u001b[1;33m=\u001b[0m \u001b[1;34m';'\u001b[0m\u001b[1;33m,\u001b[0m \u001b[0mencoding\u001b[0m\u001b[1;33m=\u001b[0m\u001b[1;34m'utf-8'\u001b[0m\u001b[1;33m)\u001b[0m\u001b[1;33m\u001b[0m\u001b[1;33m\u001b[0m\u001b[0m\n\u001b[0m",
      "\u001b[1;32m~\\anaconda3\\lib\\site-packages\\pandas\\io\\parsers.py\u001b[0m in \u001b[0;36mparser_f\u001b[1;34m(filepath_or_buffer, sep, delimiter, header, names, index_col, usecols, squeeze, prefix, mangle_dupe_cols, dtype, engine, converters, true_values, false_values, skipinitialspace, skiprows, skipfooter, nrows, na_values, keep_default_na, na_filter, verbose, skip_blank_lines, parse_dates, infer_datetime_format, keep_date_col, date_parser, dayfirst, cache_dates, iterator, chunksize, compression, thousands, decimal, lineterminator, quotechar, quoting, doublequote, escapechar, comment, encoding, dialect, error_bad_lines, warn_bad_lines, delim_whitespace, low_memory, memory_map, float_precision)\u001b[0m\n\u001b[0;32m    674\u001b[0m         )\n\u001b[0;32m    675\u001b[0m \u001b[1;33m\u001b[0m\u001b[0m\n\u001b[1;32m--> 676\u001b[1;33m         \u001b[1;32mreturn\u001b[0m \u001b[0m_read\u001b[0m\u001b[1;33m(\u001b[0m\u001b[0mfilepath_or_buffer\u001b[0m\u001b[1;33m,\u001b[0m \u001b[0mkwds\u001b[0m\u001b[1;33m)\u001b[0m\u001b[1;33m\u001b[0m\u001b[1;33m\u001b[0m\u001b[0m\n\u001b[0m\u001b[0;32m    677\u001b[0m \u001b[1;33m\u001b[0m\u001b[0m\n\u001b[0;32m    678\u001b[0m     \u001b[0mparser_f\u001b[0m\u001b[1;33m.\u001b[0m\u001b[0m__name__\u001b[0m \u001b[1;33m=\u001b[0m \u001b[0mname\u001b[0m\u001b[1;33m\u001b[0m\u001b[1;33m\u001b[0m\u001b[0m\n",
      "\u001b[1;32m~\\anaconda3\\lib\\site-packages\\pandas\\io\\parsers.py\u001b[0m in \u001b[0;36m_read\u001b[1;34m(filepath_or_buffer, kwds)\u001b[0m\n\u001b[0;32m    446\u001b[0m \u001b[1;33m\u001b[0m\u001b[0m\n\u001b[0;32m    447\u001b[0m     \u001b[1;31m# Create the parser.\u001b[0m\u001b[1;33m\u001b[0m\u001b[1;33m\u001b[0m\u001b[1;33m\u001b[0m\u001b[0m\n\u001b[1;32m--> 448\u001b[1;33m     \u001b[0mparser\u001b[0m \u001b[1;33m=\u001b[0m \u001b[0mTextFileReader\u001b[0m\u001b[1;33m(\u001b[0m\u001b[0mfp_or_buf\u001b[0m\u001b[1;33m,\u001b[0m \u001b[1;33m**\u001b[0m\u001b[0mkwds\u001b[0m\u001b[1;33m)\u001b[0m\u001b[1;33m\u001b[0m\u001b[1;33m\u001b[0m\u001b[0m\n\u001b[0m\u001b[0;32m    449\u001b[0m \u001b[1;33m\u001b[0m\u001b[0m\n\u001b[0;32m    450\u001b[0m     \u001b[1;32mif\u001b[0m \u001b[0mchunksize\u001b[0m \u001b[1;32mor\u001b[0m \u001b[0miterator\u001b[0m\u001b[1;33m:\u001b[0m\u001b[1;33m\u001b[0m\u001b[1;33m\u001b[0m\u001b[0m\n",
      "\u001b[1;32m~\\anaconda3\\lib\\site-packages\\pandas\\io\\parsers.py\u001b[0m in \u001b[0;36m__init__\u001b[1;34m(self, f, engine, **kwds)\u001b[0m\n\u001b[0;32m    878\u001b[0m             \u001b[0mself\u001b[0m\u001b[1;33m.\u001b[0m\u001b[0moptions\u001b[0m\u001b[1;33m[\u001b[0m\u001b[1;34m\"has_index_names\"\u001b[0m\u001b[1;33m]\u001b[0m \u001b[1;33m=\u001b[0m \u001b[0mkwds\u001b[0m\u001b[1;33m[\u001b[0m\u001b[1;34m\"has_index_names\"\u001b[0m\u001b[1;33m]\u001b[0m\u001b[1;33m\u001b[0m\u001b[1;33m\u001b[0m\u001b[0m\n\u001b[0;32m    879\u001b[0m \u001b[1;33m\u001b[0m\u001b[0m\n\u001b[1;32m--> 880\u001b[1;33m         \u001b[0mself\u001b[0m\u001b[1;33m.\u001b[0m\u001b[0m_make_engine\u001b[0m\u001b[1;33m(\u001b[0m\u001b[0mself\u001b[0m\u001b[1;33m.\u001b[0m\u001b[0mengine\u001b[0m\u001b[1;33m)\u001b[0m\u001b[1;33m\u001b[0m\u001b[1;33m\u001b[0m\u001b[0m\n\u001b[0m\u001b[0;32m    881\u001b[0m \u001b[1;33m\u001b[0m\u001b[0m\n\u001b[0;32m    882\u001b[0m     \u001b[1;32mdef\u001b[0m \u001b[0mclose\u001b[0m\u001b[1;33m(\u001b[0m\u001b[0mself\u001b[0m\u001b[1;33m)\u001b[0m\u001b[1;33m:\u001b[0m\u001b[1;33m\u001b[0m\u001b[1;33m\u001b[0m\u001b[0m\n",
      "\u001b[1;32m~\\anaconda3\\lib\\site-packages\\pandas\\io\\parsers.py\u001b[0m in \u001b[0;36m_make_engine\u001b[1;34m(self, engine)\u001b[0m\n\u001b[0;32m   1112\u001b[0m     \u001b[1;32mdef\u001b[0m \u001b[0m_make_engine\u001b[0m\u001b[1;33m(\u001b[0m\u001b[0mself\u001b[0m\u001b[1;33m,\u001b[0m \u001b[0mengine\u001b[0m\u001b[1;33m=\u001b[0m\u001b[1;34m\"c\"\u001b[0m\u001b[1;33m)\u001b[0m\u001b[1;33m:\u001b[0m\u001b[1;33m\u001b[0m\u001b[1;33m\u001b[0m\u001b[0m\n\u001b[0;32m   1113\u001b[0m         \u001b[1;32mif\u001b[0m \u001b[0mengine\u001b[0m \u001b[1;33m==\u001b[0m \u001b[1;34m\"c\"\u001b[0m\u001b[1;33m:\u001b[0m\u001b[1;33m\u001b[0m\u001b[1;33m\u001b[0m\u001b[0m\n\u001b[1;32m-> 1114\u001b[1;33m             \u001b[0mself\u001b[0m\u001b[1;33m.\u001b[0m\u001b[0m_engine\u001b[0m \u001b[1;33m=\u001b[0m \u001b[0mCParserWrapper\u001b[0m\u001b[1;33m(\u001b[0m\u001b[0mself\u001b[0m\u001b[1;33m.\u001b[0m\u001b[0mf\u001b[0m\u001b[1;33m,\u001b[0m \u001b[1;33m**\u001b[0m\u001b[0mself\u001b[0m\u001b[1;33m.\u001b[0m\u001b[0moptions\u001b[0m\u001b[1;33m)\u001b[0m\u001b[1;33m\u001b[0m\u001b[1;33m\u001b[0m\u001b[0m\n\u001b[0m\u001b[0;32m   1115\u001b[0m         \u001b[1;32melse\u001b[0m\u001b[1;33m:\u001b[0m\u001b[1;33m\u001b[0m\u001b[1;33m\u001b[0m\u001b[0m\n\u001b[0;32m   1116\u001b[0m             \u001b[1;32mif\u001b[0m \u001b[0mengine\u001b[0m \u001b[1;33m==\u001b[0m \u001b[1;34m\"python\"\u001b[0m\u001b[1;33m:\u001b[0m\u001b[1;33m\u001b[0m\u001b[1;33m\u001b[0m\u001b[0m\n",
      "\u001b[1;32m~\\anaconda3\\lib\\site-packages\\pandas\\io\\parsers.py\u001b[0m in \u001b[0;36m__init__\u001b[1;34m(self, src, **kwds)\u001b[0m\n\u001b[0;32m   1872\u001b[0m         \u001b[1;32mif\u001b[0m \u001b[0mkwds\u001b[0m\u001b[1;33m.\u001b[0m\u001b[0mget\u001b[0m\u001b[1;33m(\u001b[0m\u001b[1;34m\"compression\"\u001b[0m\u001b[1;33m)\u001b[0m \u001b[1;32mis\u001b[0m \u001b[1;32mNone\u001b[0m \u001b[1;32mand\u001b[0m \u001b[0mencoding\u001b[0m\u001b[1;33m:\u001b[0m\u001b[1;33m\u001b[0m\u001b[1;33m\u001b[0m\u001b[0m\n\u001b[0;32m   1873\u001b[0m             \u001b[1;32mif\u001b[0m \u001b[0misinstance\u001b[0m\u001b[1;33m(\u001b[0m\u001b[0msrc\u001b[0m\u001b[1;33m,\u001b[0m \u001b[0mstr\u001b[0m\u001b[1;33m)\u001b[0m\u001b[1;33m:\u001b[0m\u001b[1;33m\u001b[0m\u001b[1;33m\u001b[0m\u001b[0m\n\u001b[1;32m-> 1874\u001b[1;33m                 \u001b[0msrc\u001b[0m \u001b[1;33m=\u001b[0m \u001b[0mopen\u001b[0m\u001b[1;33m(\u001b[0m\u001b[0msrc\u001b[0m\u001b[1;33m,\u001b[0m \u001b[1;34m\"rb\"\u001b[0m\u001b[1;33m)\u001b[0m\u001b[1;33m\u001b[0m\u001b[1;33m\u001b[0m\u001b[0m\n\u001b[0m\u001b[0;32m   1875\u001b[0m                 \u001b[0mself\u001b[0m\u001b[1;33m.\u001b[0m\u001b[0mhandles\u001b[0m\u001b[1;33m.\u001b[0m\u001b[0mappend\u001b[0m\u001b[1;33m(\u001b[0m\u001b[0msrc\u001b[0m\u001b[1;33m)\u001b[0m\u001b[1;33m\u001b[0m\u001b[1;33m\u001b[0m\u001b[0m\n\u001b[0;32m   1876\u001b[0m \u001b[1;33m\u001b[0m\u001b[0m\n",
      "\u001b[1;31mFileNotFoundError\u001b[0m: [Errno 2] No such file or directory: '.\\\\done_oct\\\\Маршруты.csv'"
     ]
    }
   ],
   "source": [
    "marsh=pd.read_csv(path+'Маршруты.csv', sep = ';', encoding='utf-8')"
   ]
  },
  {
   "cell_type": "code",
   "execution_count": null,
   "metadata": {},
   "outputs": [],
   "source": [
    "marsh.head()"
   ]
  },
  {
   "cell_type": "code",
   "execution_count": null,
   "metadata": {},
   "outputs": [],
   "source": [
    "res2=res2.merge(marsh, on='Код Маршрута', how='left')"
   ]
  },
  {
   "cell_type": "code",
   "execution_count": null,
   "metadata": {},
   "outputs": [],
   "source": [
    "res2.to_csv('stops_2020_08_03.csv')"
   ]
  },
  {
   "cell_type": "code",
   "execution_count": null,
   "metadata": {},
   "outputs": [],
   "source": [
    "for_karta=res2.groupby(['Код Маршрута','Табельный номер','ssId','ss_lat','ss_long','start','finish']).agg({'c': np.sum}).reset_index()"
   ]
  },
  {
   "cell_type": "code",
   "execution_count": null,
   "metadata": {},
   "outputs": [],
   "source": []
  },
  {
   "cell_type": "code",
   "execution_count": null,
   "metadata": {},
   "outputs": [],
   "source": [
    "res2.head()"
   ]
  },
  {
   "cell_type": "code",
   "execution_count": null,
   "metadata": {},
   "outputs": [],
   "source": [
    "gdf = gpd.GeoDataFrame(\n",
    "    for_karta, geometry=gpd.points_from_xy(x=for_karta.ss_long, y=for_karta.ss_lat)\n",
    ")\n",
    "gdf.crs='epsg:4326'"
   ]
  },
  {
   "cell_type": "code",
   "execution_count": null,
   "metadata": {},
   "outputs": [],
   "source": [
    "gdf=gdf.rename(columns={'Код Маршрута':'code_marsh','Табельный номер':'tabelnum'})"
   ]
  },
  {
   "cell_type": "code",
   "execution_count": null,
   "metadata": {},
   "outputs": [],
   "source": [
    "gdf.groupby(['code_marsh','tabelnum']).apply(lambda x: x.to_file(fr\"./res/{x.name}.json\", index=False, driver=\"GeoJSON\"))"
   ]
  },
  {
   "cell_type": "code",
   "execution_count": null,
   "metadata": {},
   "outputs": [],
   "source": [
    "for_karta2=res2.groupby(['Код Маршрута','ssId','ss_lat','ss_long','start','finish']).agg({'c': np.sum}).reset_index()\n",
    "gdf = gpd.GeoDataFrame(\n",
    "    for_karta2, geometry=gpd.points_from_xy(x=for_karta2.ss_long, y=for_karta2.ss_lat)\n",
    ")\n",
    "gdf=gdf.rename(columns={'Код Маршрута':'code_marsh'})\n",
    "gdf.crs='epsg:4326'\n",
    "gdf.groupby(['code_marsh','start','finish']).apply(lambda x: x.to_file(fr\"./res/{x.name}.json\", index=False, driver=\"GeoJSON\"))"
   ]
  },
  {
   "cell_type": "code",
   "execution_count": null,
   "metadata": {},
   "outputs": [],
   "source": [
    "for_karta3=res2.groupby(['ssId','ss_name','ss_lat','ss_long']).agg({'c': np.sum}).reset_index()\n",
    "for_karta3.to_csv('./res/stops_2020_08_03.csv')"
   ]
  },
  {
   "cell_type": "code",
   "execution_count": null,
   "metadata": {},
   "outputs": [],
   "source": [
    "for_karta3=res2.groupby(['ssId','ss_name','ss_lat','ss_long']).agg({'c': np.sum}).reset_index()\n",
    "for_karta3=for_karta3.groupby(['ssId','ss_name','ss_lat','ss_long']).agg({'c': np.sum}).reset_index()\n",
    "gdf = gpd.GeoDataFrame(\n",
    "    for_karta3, geometry=gpd.points_from_xy(x=for_karta3.ss_long, y=for_karta3.ss_lat)\n",
    ")\n",
    "gdf.crs='epsg:4326'\n",
    "gdf.to_file(fr\"./res/stops_2020_08_03.json\", index=False, driver=\"GeoJSON\")"
   ]
  },
  {
   "cell_type": "code",
   "execution_count": null,
   "metadata": {},
   "outputs": [],
   "source": []
  },
  {
   "cell_type": "code",
   "execution_count": null,
   "metadata": {},
   "outputs": [],
   "source": []
  },
  {
   "cell_type": "code",
   "execution_count": null,
   "metadata": {},
   "outputs": [],
   "source": []
  },
  {
   "cell_type": "code",
   "execution_count": null,
   "metadata": {},
   "outputs": [],
   "source": []
  },
  {
   "cell_type": "code",
   "execution_count": null,
   "metadata": {},
   "outputs": [],
   "source": []
  }
 ],
 "metadata": {
  "kernelspec": {
   "display_name": "Python 3",
   "language": "python",
   "name": "python3"
  },
  "language_info": {
   "codemirror_mode": {
    "name": "ipython",
    "version": 3
   },
   "file_extension": ".py",
   "mimetype": "text/x-python",
   "name": "python",
   "nbconvert_exporter": "python",
   "pygments_lexer": "ipython3",
   "version": "3.8.3"
  }
 },
 "nbformat": 4,
 "nbformat_minor": 4
}
