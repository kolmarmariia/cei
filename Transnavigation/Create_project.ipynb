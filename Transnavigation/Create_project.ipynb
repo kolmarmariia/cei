{
 "cells": [
  {
   "cell_type": "code",
   "execution_count": 66,
   "metadata": {},
   "outputs": [],
   "source": [
    "import geopandas as gpd\n",
    "from shapely import wkt\n",
    "import pandas as pd\n",
    "import numpy as np\n",
    "import json  as js\n",
    "import csv\n",
    "import glob \n",
    "import psycopg2\n",
    "import geopandas\n",
    "import json"
   ]
  },
  {
   "cell_type": "code",
   "execution_count": 67,
   "metadata": {},
   "outputs": [],
   "source": [
    "path='C:\\\\Users\\\\makol\\\\Documents\\\\Python_Scripts\\\\Git\\\\user_scripts\\\\masha_k\\\\Transnavigation\\\\2020_08_03\\\\'"
   ]
  },
  {
   "cell_type": "code",
   "execution_count": 68,
   "metadata": {},
   "outputs": [
    {
     "name": "stderr",
     "output_type": "stream",
     "text": [
      "C:\\Users\\makol\\Anaconda3\\lib\\site-packages\\IPython\\core\\interactiveshell.py:3058: DtypeWarning: Columns (2) have mixed types.Specify dtype option on import or set low_memory=False.\n",
      "  interactivity=interactivity, compiler=compiler, result=result)\n"
     ]
    }
   ],
   "source": [
    "df=pd.DataFrame()\n",
    "\n",
    "for i,f in enumerate(glob.iglob(path+'2020-08*.csv')):\n",
    "    df=df.append(pd.read_csv(f,encoding='windows-1251',sep='\\t'))"
   ]
  },
  {
   "cell_type": "code",
   "execution_count": 70,
   "metadata": {},
   "outputs": [
    {
     "data": {
      "text/plain": [
       "3684910"
      ]
     },
     "execution_count": 70,
     "metadata": {},
     "output_type": "execute_result"
    }
   ],
   "source": [
    "len(df)"
   ]
  },
  {
   "cell_type": "code",
   "execution_count": 77,
   "metadata": {},
   "outputs": [],
   "source": [
    "df2=df['speed'].unique()"
   ]
  },
  {
   "cell_type": "code",
   "execution_count": 78,
   "metadata": {},
   "outputs": [],
   "source": [
    "path=\"C:\\\\Users\\\\makol\\\\Documents\\\\Python_Scripts\\\\Git\\\\user_scripts\\\\masha_k\\\\Transnavigation\\data\\\\\""
   ]
  },
  {
   "cell_type": "code",
   "execution_count": 76,
   "metadata": {},
   "outputs": [],
   "source": [
    "id_set=pd.read_csv('Samara_mr_id_marsh_valid_id_ v2_for_03_08.csv',encoding='windows-1251',sep=';')"
   ]
  },
  {
   "cell_type": "code",
   "execution_count": null,
   "metadata": {},
   "outputs": [],
   "source": []
  },
  {
   "cell_type": "code",
   "execution_count": 5,
   "metadata": {},
   "outputs": [
    {
     "data": {
      "text/html": [
       "<div>\n",
       "<style scoped>\n",
       "    .dataframe tbody tr th:only-of-type {\n",
       "        vertical-align: middle;\n",
       "    }\n",
       "\n",
       "    .dataframe tbody tr th {\n",
       "        vertical-align: top;\n",
       "    }\n",
       "\n",
       "    .dataframe thead th {\n",
       "        text-align: right;\n",
       "    }\n",
       "</style>\n",
       "<table border=\"1\" class=\"dataframe\">\n",
       "  <thead>\n",
       "    <tr style=\"text-align: right;\">\n",
       "      <th></th>\n",
       "      <th>mr_id</th>\n",
       "      <th>val_id_marsh1</th>\n",
       "    </tr>\n",
       "  </thead>\n",
       "  <tbody>\n",
       "    <tr>\n",
       "      <th>0</th>\n",
       "      <td>132</td>\n",
       "      <td>2103456789</td>\n",
       "    </tr>\n",
       "    <tr>\n",
       "      <th>1</th>\n",
       "      <td>129</td>\n",
       "      <td>2203456789</td>\n",
       "    </tr>\n",
       "    <tr>\n",
       "      <th>2</th>\n",
       "      <td>135</td>\n",
       "      <td>2303456789</td>\n",
       "    </tr>\n",
       "    <tr>\n",
       "      <th>3</th>\n",
       "      <td>136</td>\n",
       "      <td>2403456789</td>\n",
       "    </tr>\n",
       "    <tr>\n",
       "      <th>4</th>\n",
       "      <td>137</td>\n",
       "      <td>2603456789</td>\n",
       "    </tr>\n",
       "  </tbody>\n",
       "</table>\n",
       "</div>"
      ],
      "text/plain": [
       "   mr_id  val_id_marsh1\n",
       "0    132     2103456789\n",
       "1    129     2203456789\n",
       "2    135     2303456789\n",
       "3    136     2403456789\n",
       "4    137     2603456789"
      ]
     },
     "execution_count": 5,
     "metadata": {},
     "output_type": "execute_result"
    }
   ],
   "source": [
    "id_set.head()"
   ]
  },
  {
   "cell_type": "code",
   "execution_count": 123,
   "metadata": {},
   "outputs": [],
   "source": [
    "mr_name=pd.read_csv('MR_NAME.csv',encoding='windows-1251',sep='\\t')"
   ]
  },
  {
   "cell_type": "code",
   "execution_count": 124,
   "metadata": {},
   "outputs": [],
   "source": [
    "l=\",\".join([str(i) for i in id_set['mr_id'].tolist()])"
   ]
  },
  {
   "cell_type": "code",
   "execution_count": 125,
   "metadata": {},
   "outputs": [
    {
     "name": "stdout",
     "output_type": "stream",
     "text": [
      "132,129,135,136,137,138,139,140,141,151,133,146,10,145,127,142,143,134,176,144,126,17,18,49,62,68,98,44,20,113,23,46,24,100,47,25,36,26,14,114,35,28,30,31,39,112,12,115,120,121,119,118,111,122,103,71,97,130,306,45,27,199,60,61,81,34,38,70,1,102,187,99,48,64,15,152,32,73,59,58\n"
     ]
    }
   ],
   "source": [
    "print(l)"
   ]
  },
  {
   "cell_type": "code",
   "execution_count": 126,
   "metadata": {},
   "outputs": [],
   "source": [
    "df_select=df[df['mr_id'].isin([132,129,135,136,137,138,139,140,141,151,133,146,10,145,127,142,143,134,176,144,126,17,18,49,62,68,98,44,20,113,23,46,24,100,47,25,36,26,14,114,35,28,30,31,39,112,12,115,120,121,119,118,111,122,103,71,97,130,306,45,27,199,60,61,81,34,38,70,1,102,187,99,48,64,15,152,32,73,59,58])]"
   ]
  },
  {
   "cell_type": "code",
   "execution_count": 127,
   "metadata": {},
   "outputs": [
    {
     "data": {
      "text/html": [
       "<div>\n",
       "<style scoped>\n",
       "    .dataframe tbody tr th:only-of-type {\n",
       "        vertical-align: middle;\n",
       "    }\n",
       "\n",
       "    .dataframe tbody tr th {\n",
       "        vertical-align: top;\n",
       "    }\n",
       "\n",
       "    .dataframe thead th {\n",
       "        text-align: right;\n",
       "    }\n",
       "</style>\n",
       "<table border=\"1\" class=\"dataframe\">\n",
       "  <thead>\n",
       "    <tr style=\"text-align: right;\">\n",
       "      <th></th>\n",
       "      <th>tr_id</th>\n",
       "      <th>mr_id</th>\n",
       "      <th>mr_name_x</th>\n",
       "      <th>graph</th>\n",
       "      <th>tabelnum</th>\n",
       "      <th>condnum</th>\n",
       "      <th>timenav</th>\n",
       "      <th>long</th>\n",
       "      <th>lat</th>\n",
       "      <th>speed</th>\n",
       "      <th>mark</th>\n",
       "      <th>mr_name_y</th>\n",
       "      <th>pk_id</th>\n",
       "      <th>tt_id</th>\n",
       "    </tr>\n",
       "  </thead>\n",
       "  <tbody>\n",
       "    <tr>\n",
       "      <th>0</th>\n",
       "      <td>500000054</td>\n",
       "      <td>152</td>\n",
       "      <td>67</td>\n",
       "      <td>8</td>\n",
       "      <td>1759</td>\n",
       "      <td>0</td>\n",
       "      <td>2020-08-03 05:19:07</td>\n",
       "      <td>50.234138</td>\n",
       "      <td>53.253622</td>\n",
       "      <td>0</td>\n",
       "      <td>0</td>\n",
       "      <td>67</td>\n",
       "      <td>13.0</td>\n",
       "      <td>1</td>\n",
       "    </tr>\n",
       "    <tr>\n",
       "      <th>1</th>\n",
       "      <td>500000054</td>\n",
       "      <td>152</td>\n",
       "      <td>67</td>\n",
       "      <td>8</td>\n",
       "      <td>1759</td>\n",
       "      <td>0</td>\n",
       "      <td>2020-08-03 05:19:17</td>\n",
       "      <td>50.234138</td>\n",
       "      <td>53.253622</td>\n",
       "      <td>0</td>\n",
       "      <td>0</td>\n",
       "      <td>67</td>\n",
       "      <td>13.0</td>\n",
       "      <td>1</td>\n",
       "    </tr>\n",
       "    <tr>\n",
       "      <th>2</th>\n",
       "      <td>500000054</td>\n",
       "      <td>152</td>\n",
       "      <td>67</td>\n",
       "      <td>8</td>\n",
       "      <td>1759</td>\n",
       "      <td>0</td>\n",
       "      <td>2020-08-03 05:19:26</td>\n",
       "      <td>50.234138</td>\n",
       "      <td>53.253622</td>\n",
       "      <td>0</td>\n",
       "      <td>0</td>\n",
       "      <td>67</td>\n",
       "      <td>13.0</td>\n",
       "      <td>1</td>\n",
       "    </tr>\n",
       "    <tr>\n",
       "      <th>3</th>\n",
       "      <td>500000054</td>\n",
       "      <td>152</td>\n",
       "      <td>67</td>\n",
       "      <td>8</td>\n",
       "      <td>1759</td>\n",
       "      <td>0</td>\n",
       "      <td>2020-08-03 05:19:37</td>\n",
       "      <td>50.234138</td>\n",
       "      <td>53.253622</td>\n",
       "      <td>0</td>\n",
       "      <td>0</td>\n",
       "      <td>67</td>\n",
       "      <td>13.0</td>\n",
       "      <td>1</td>\n",
       "    </tr>\n",
       "    <tr>\n",
       "      <th>4</th>\n",
       "      <td>500000054</td>\n",
       "      <td>152</td>\n",
       "      <td>67</td>\n",
       "      <td>8</td>\n",
       "      <td>1759</td>\n",
       "      <td>0</td>\n",
       "      <td>2020-08-03 05:19:47</td>\n",
       "      <td>50.234138</td>\n",
       "      <td>53.253622</td>\n",
       "      <td>0</td>\n",
       "      <td>0</td>\n",
       "      <td>67</td>\n",
       "      <td>13.0</td>\n",
       "      <td>1</td>\n",
       "    </tr>\n",
       "    <tr>\n",
       "      <th>...</th>\n",
       "      <td>...</td>\n",
       "      <td>...</td>\n",
       "      <td>...</td>\n",
       "      <td>...</td>\n",
       "      <td>...</td>\n",
       "      <td>...</td>\n",
       "      <td>...</td>\n",
       "      <td>...</td>\n",
       "      <td>...</td>\n",
       "      <td>...</td>\n",
       "      <td>...</td>\n",
       "      <td>...</td>\n",
       "      <td>...</td>\n",
       "      <td>...</td>\n",
       "    </tr>\n",
       "    <tr>\n",
       "      <th>2538385</th>\n",
       "      <td>704952022</td>\n",
       "      <td>118</td>\n",
       "      <td>18</td>\n",
       "      <td>901</td>\n",
       "      <td>2109</td>\n",
       "      <td>0</td>\n",
       "      <td>2020-08-03 18:39:56</td>\n",
       "      <td>50.208135</td>\n",
       "      <td>53.229330</td>\n",
       "      <td>15</td>\n",
       "      <td>0</td>\n",
       "      <td>18</td>\n",
       "      <td>8.0</td>\n",
       "      <td>2</td>\n",
       "    </tr>\n",
       "    <tr>\n",
       "      <th>2538386</th>\n",
       "      <td>704952022</td>\n",
       "      <td>118</td>\n",
       "      <td>18</td>\n",
       "      <td>901</td>\n",
       "      <td>2109</td>\n",
       "      <td>0</td>\n",
       "      <td>2020-08-03 18:40:11</td>\n",
       "      <td>50.206827</td>\n",
       "      <td>53.229277</td>\n",
       "      <td>17</td>\n",
       "      <td>0</td>\n",
       "      <td>18</td>\n",
       "      <td>8.0</td>\n",
       "      <td>2</td>\n",
       "    </tr>\n",
       "    <tr>\n",
       "      <th>2538387</th>\n",
       "      <td>704952022</td>\n",
       "      <td>118</td>\n",
       "      <td>18</td>\n",
       "      <td>901</td>\n",
       "      <td>2109</td>\n",
       "      <td>0</td>\n",
       "      <td>2020-08-03 18:40:26</td>\n",
       "      <td>50.206535</td>\n",
       "      <td>53.229355</td>\n",
       "      <td>5</td>\n",
       "      <td>0</td>\n",
       "      <td>18</td>\n",
       "      <td>8.0</td>\n",
       "      <td>2</td>\n",
       "    </tr>\n",
       "    <tr>\n",
       "      <th>2538388</th>\n",
       "      <td>704952022</td>\n",
       "      <td>118</td>\n",
       "      <td>18</td>\n",
       "      <td>901</td>\n",
       "      <td>2109</td>\n",
       "      <td>0</td>\n",
       "      <td>2020-08-03 18:40:41</td>\n",
       "      <td>50.205727</td>\n",
       "      <td>53.229952</td>\n",
       "      <td>16</td>\n",
       "      <td>0</td>\n",
       "      <td>18</td>\n",
       "      <td>8.0</td>\n",
       "      <td>2</td>\n",
       "    </tr>\n",
       "    <tr>\n",
       "      <th>2538389</th>\n",
       "      <td>704952022</td>\n",
       "      <td>118</td>\n",
       "      <td>18</td>\n",
       "      <td>901</td>\n",
       "      <td>2109</td>\n",
       "      <td>0</td>\n",
       "      <td>2020-08-03 18:40:55</td>\n",
       "      <td>50.204472</td>\n",
       "      <td>53.230953</td>\n",
       "      <td>32</td>\n",
       "      <td>0</td>\n",
       "      <td>18</td>\n",
       "      <td>8.0</td>\n",
       "      <td>2</td>\n",
       "    </tr>\n",
       "  </tbody>\n",
       "</table>\n",
       "<p>2538390 rows × 14 columns</p>\n",
       "</div>"
      ],
      "text/plain": [
       "             tr_id  mr_id mr_name_x  graph  tabelnum  condnum  \\\n",
       "0        500000054    152        67      8      1759        0   \n",
       "1        500000054    152        67      8      1759        0   \n",
       "2        500000054    152        67      8      1759        0   \n",
       "3        500000054    152        67      8      1759        0   \n",
       "4        500000054    152        67      8      1759        0   \n",
       "...            ...    ...       ...    ...       ...      ...   \n",
       "2538385  704952022    118        18    901      2109        0   \n",
       "2538386  704952022    118        18    901      2109        0   \n",
       "2538387  704952022    118        18    901      2109        0   \n",
       "2538388  704952022    118        18    901      2109        0   \n",
       "2538389  704952022    118        18    901      2109        0   \n",
       "\n",
       "                     timenav       long        lat  speed  mark mr_name_y  \\\n",
       "0        2020-08-03 05:19:07  50.234138  53.253622      0     0        67   \n",
       "1        2020-08-03 05:19:17  50.234138  53.253622      0     0        67   \n",
       "2        2020-08-03 05:19:26  50.234138  53.253622      0     0        67   \n",
       "3        2020-08-03 05:19:37  50.234138  53.253622      0     0        67   \n",
       "4        2020-08-03 05:19:47  50.234138  53.253622      0     0        67   \n",
       "...                      ...        ...        ...    ...   ...       ...   \n",
       "2538385  2020-08-03 18:39:56  50.208135  53.229330     15     0        18   \n",
       "2538386  2020-08-03 18:40:11  50.206827  53.229277     17     0        18   \n",
       "2538387  2020-08-03 18:40:26  50.206535  53.229355      5     0        18   \n",
       "2538388  2020-08-03 18:40:41  50.205727  53.229952     16     0        18   \n",
       "2538389  2020-08-03 18:40:55  50.204472  53.230953     32     0        18   \n",
       "\n",
       "         pk_id  tt_id  \n",
       "0         13.0      1  \n",
       "1         13.0      1  \n",
       "2         13.0      1  \n",
       "3         13.0      1  \n",
       "4         13.0      1  \n",
       "...        ...    ...  \n",
       "2538385    8.0      2  \n",
       "2538386    8.0      2  \n",
       "2538387    8.0      2  \n",
       "2538388    8.0      2  \n",
       "2538389    8.0      2  \n",
       "\n",
       "[2538390 rows x 14 columns]"
      ]
     },
     "execution_count": 127,
     "metadata": {},
     "output_type": "execute_result"
    }
   ],
   "source": [
    "df_select.merge(mr_name, on = 'mr_id')"
   ]
  },
  {
   "cell_type": "code",
   "execution_count": 128,
   "metadata": {},
   "outputs": [],
   "source": [
    "gdf = geopandas.GeoDataFrame(df_select, geometry=geopandas.points_from_xy(df_select.long, df_select.lat))\n",
    "gdf.crs='epsg:4326'"
   ]
  },
  {
   "cell_type": "code",
   "execution_count": 129,
   "metadata": {},
   "outputs": [
    {
     "data": {
      "text/html": [
       "<div>\n",
       "<style scoped>\n",
       "    .dataframe tbody tr th:only-of-type {\n",
       "        vertical-align: middle;\n",
       "    }\n",
       "\n",
       "    .dataframe tbody tr th {\n",
       "        vertical-align: top;\n",
       "    }\n",
       "\n",
       "    .dataframe thead th {\n",
       "        text-align: right;\n",
       "    }\n",
       "</style>\n",
       "<table border=\"1\" class=\"dataframe\">\n",
       "  <thead>\n",
       "    <tr style=\"text-align: right;\">\n",
       "      <th></th>\n",
       "    </tr>\n",
       "  </thead>\n",
       "  <tbody>\n",
       "  </tbody>\n",
       "</table>\n",
       "</div>"
      ],
      "text/plain": [
       "Empty DataFrame\n",
       "Columns: []\n",
       "Index: []"
      ]
     },
     "execution_count": 129,
     "metadata": {},
     "output_type": "execute_result"
    }
   ],
   "source": [
    "gdf.groupby(\"mr_id\").apply(lambda x: x.to_file(fr\"C:/Users/makol/Documents/Python_Scripts/Git/user_scripts/masha_k/Transnavigation/for_project/{x.name}.shp\", driver='ESRI Shapefile'))"
   ]
  },
  {
   "cell_type": "code",
   "execution_count": 44,
   "metadata": {},
   "outputs": [],
   "source": [
    "stop_seq=pd.read_csv('stop_seq_v4.csv',encoding='windows-1251',sep=';')"
   ]
  },
  {
   "cell_type": "code",
   "execution_count": 45,
   "metadata": {},
   "outputs": [
    {
     "data": {
      "text/html": [
       "<div>\n",
       "<style scoped>\n",
       "    .dataframe tbody tr th:only-of-type {\n",
       "        vertical-align: middle;\n",
       "    }\n",
       "\n",
       "    .dataframe tbody tr th {\n",
       "        vertical-align: top;\n",
       "    }\n",
       "\n",
       "    .dataframe thead th {\n",
       "        text-align: right;\n",
       "    }\n",
       "</style>\n",
       "<table border=\"1\" class=\"dataframe\">\n",
       "  <thead>\n",
       "    <tr style=\"text-align: right;\">\n",
       "      <th></th>\n",
       "      <th>mr_id</th>\n",
       "      <th>rc_id</th>\n",
       "      <th>rl_id</th>\n",
       "      <th>ssId</th>\n",
       "      <th>rc_orderby</th>\n",
       "      <th>ss_lat</th>\n",
       "      <th>ss_long</th>\n",
       "      <th>is_main</th>\n",
       "      <th>Dir</th>\n",
       "    </tr>\n",
       "  </thead>\n",
       "  <tbody>\n",
       "    <tr>\n",
       "      <th>0</th>\n",
       "      <td>20</td>\n",
       "      <td>136519</td>\n",
       "      <td>1365</td>\n",
       "      <td>552</td>\n",
       "      <td>19</td>\n",
       "      <td>53.187009</td>\n",
       "      <td>50.118634</td>\n",
       "      <td>1</td>\n",
       "      <td>1</td>\n",
       "    </tr>\n",
       "    <tr>\n",
       "      <th>1</th>\n",
       "      <td>20</td>\n",
       "      <td>136518</td>\n",
       "      <td>1365</td>\n",
       "      <td>553</td>\n",
       "      <td>18</td>\n",
       "      <td>53.187367</td>\n",
       "      <td>50.118558</td>\n",
       "      <td>1</td>\n",
       "      <td>1</td>\n",
       "    </tr>\n",
       "    <tr>\n",
       "      <th>2</th>\n",
       "      <td>20</td>\n",
       "      <td>136517</td>\n",
       "      <td>1365</td>\n",
       "      <td>38</td>\n",
       "      <td>17</td>\n",
       "      <td>53.192697</td>\n",
       "      <td>50.122152</td>\n",
       "      <td>1</td>\n",
       "      <td>1</td>\n",
       "    </tr>\n",
       "    <tr>\n",
       "      <th>3</th>\n",
       "      <td>20</td>\n",
       "      <td>136516</td>\n",
       "      <td>1365</td>\n",
       "      <td>37</td>\n",
       "      <td>16</td>\n",
       "      <td>53.194078</td>\n",
       "      <td>50.123089</td>\n",
       "      <td>1</td>\n",
       "      <td>1</td>\n",
       "    </tr>\n",
       "    <tr>\n",
       "      <th>4</th>\n",
       "      <td>20</td>\n",
       "      <td>136515</td>\n",
       "      <td>1365</td>\n",
       "      <td>44</td>\n",
       "      <td>15</td>\n",
       "      <td>53.199276</td>\n",
       "      <td>50.130360</td>\n",
       "      <td>1</td>\n",
       "      <td>1</td>\n",
       "    </tr>\n",
       "  </tbody>\n",
       "</table>\n",
       "</div>"
      ],
      "text/plain": [
       "   mr_id   rc_id  rl_id  ssId  rc_orderby     ss_lat    ss_long  is_main  Dir\n",
       "0     20  136519   1365   552          19  53.187009  50.118634        1    1\n",
       "1     20  136518   1365   553          18  53.187367  50.118558        1    1\n",
       "2     20  136517   1365    38          17  53.192697  50.122152        1    1\n",
       "3     20  136516   1365    37          16  53.194078  50.123089        1    1\n",
       "4     20  136515   1365    44          15  53.199276  50.130360        1    1"
      ]
     },
     "execution_count": 45,
     "metadata": {},
     "output_type": "execute_result"
    }
   ],
   "source": [
    "stop_seq.head()"
   ]
  },
  {
   "cell_type": "code",
   "execution_count": 46,
   "metadata": {},
   "outputs": [],
   "source": [
    "mr_rl=stop_seq[['mr_id','rl_id']].drop_duplicates()"
   ]
  },
  {
   "cell_type": "code",
   "execution_count": 47,
   "metadata": {},
   "outputs": [
    {
     "data": {
      "text/html": [
       "<div>\n",
       "<style scoped>\n",
       "    .dataframe tbody tr th:only-of-type {\n",
       "        vertical-align: middle;\n",
       "    }\n",
       "\n",
       "    .dataframe tbody tr th {\n",
       "        vertical-align: top;\n",
       "    }\n",
       "\n",
       "    .dataframe thead th {\n",
       "        text-align: right;\n",
       "    }\n",
       "</style>\n",
       "<table border=\"1\" class=\"dataframe\">\n",
       "  <thead>\n",
       "    <tr style=\"text-align: right;\">\n",
       "      <th></th>\n",
       "      <th>mr_id</th>\n",
       "      <th>rl_id</th>\n",
       "    </tr>\n",
       "  </thead>\n",
       "  <tbody>\n",
       "    <tr>\n",
       "      <th>0</th>\n",
       "      <td>20</td>\n",
       "      <td>1365</td>\n",
       "    </tr>\n",
       "    <tr>\n",
       "      <th>19</th>\n",
       "      <td>20</td>\n",
       "      <td>1366</td>\n",
       "    </tr>\n",
       "    <tr>\n",
       "      <th>38</th>\n",
       "      <td>24</td>\n",
       "      <td>1565</td>\n",
       "    </tr>\n",
       "    <tr>\n",
       "      <th>60</th>\n",
       "      <td>24</td>\n",
       "      <td>1566</td>\n",
       "    </tr>\n",
       "    <tr>\n",
       "      <th>85</th>\n",
       "      <td>26</td>\n",
       "      <td>1665</td>\n",
       "    </tr>\n",
       "  </tbody>\n",
       "</table>\n",
       "</div>"
      ],
      "text/plain": [
       "    mr_id  rl_id\n",
       "0      20   1365\n",
       "19     20   1366\n",
       "38     24   1565\n",
       "60     24   1566\n",
       "85     26   1665"
      ]
     },
     "execution_count": 47,
     "metadata": {},
     "output_type": "execute_result"
    }
   ],
   "source": [
    "mr_rl.head()"
   ]
  },
  {
   "cell_type": "code",
   "execution_count": 48,
   "metadata": {},
   "outputs": [],
   "source": [
    "stop_seq_select=stop_seq[stop_seq['mr_id'].isin([152])]"
   ]
  },
  {
   "cell_type": "code",
   "execution_count": 31,
   "metadata": {},
   "outputs": [
    {
     "data": {
      "text/html": [
       "<div>\n",
       "<style scoped>\n",
       "    .dataframe tbody tr th:only-of-type {\n",
       "        vertical-align: middle;\n",
       "    }\n",
       "\n",
       "    .dataframe tbody tr th {\n",
       "        vertical-align: top;\n",
       "    }\n",
       "\n",
       "    .dataframe thead th {\n",
       "        text-align: right;\n",
       "    }\n",
       "</style>\n",
       "<table border=\"1\" class=\"dataframe\">\n",
       "  <thead>\n",
       "    <tr style=\"text-align: right;\">\n",
       "      <th></th>\n",
       "      <th>mr_id</th>\n",
       "      <th>rc_id</th>\n",
       "      <th>rl_id</th>\n",
       "      <th>ssId</th>\n",
       "      <th>rc_orderby</th>\n",
       "      <th>ss_lat</th>\n",
       "      <th>ss_long</th>\n",
       "      <th>is_main</th>\n",
       "    </tr>\n",
       "  </thead>\n",
       "  <tbody>\n",
       "    <tr>\n",
       "      <th>7041</th>\n",
       "      <td>152</td>\n",
       "      <td>4466543</td>\n",
       "      <td>44665</td>\n",
       "      <td>552</td>\n",
       "      <td>43</td>\n",
       "      <td>53.187009</td>\n",
       "      <td>50.118634</td>\n",
       "      <td>1.0</td>\n",
       "    </tr>\n",
       "    <tr>\n",
       "      <th>7042</th>\n",
       "      <td>152</td>\n",
       "      <td>4466542</td>\n",
       "      <td>44665</td>\n",
       "      <td>553</td>\n",
       "      <td>42</td>\n",
       "      <td>53.187367</td>\n",
       "      <td>50.118558</td>\n",
       "      <td>1.0</td>\n",
       "    </tr>\n",
       "    <tr>\n",
       "      <th>7043</th>\n",
       "      <td>152</td>\n",
       "      <td>4466541</td>\n",
       "      <td>44665</td>\n",
       "      <td>38</td>\n",
       "      <td>41</td>\n",
       "      <td>53.192697</td>\n",
       "      <td>50.122152</td>\n",
       "      <td>1.0</td>\n",
       "    </tr>\n",
       "    <tr>\n",
       "      <th>7044</th>\n",
       "      <td>152</td>\n",
       "      <td>4466540</td>\n",
       "      <td>44665</td>\n",
       "      <td>37</td>\n",
       "      <td>40</td>\n",
       "      <td>53.194078</td>\n",
       "      <td>50.123089</td>\n",
       "      <td>1.0</td>\n",
       "    </tr>\n",
       "    <tr>\n",
       "      <th>7045</th>\n",
       "      <td>152</td>\n",
       "      <td>4466539</td>\n",
       "      <td>44665</td>\n",
       "      <td>44</td>\n",
       "      <td>39</td>\n",
       "      <td>53.199276</td>\n",
       "      <td>50.130360</td>\n",
       "      <td>1.0</td>\n",
       "    </tr>\n",
       "  </tbody>\n",
       "</table>\n",
       "</div>"
      ],
      "text/plain": [
       "      mr_id    rc_id  rl_id  ssId  rc_orderby     ss_lat    ss_long  is_main\n",
       "7041    152  4466543  44665   552          43  53.187009  50.118634      1.0\n",
       "7042    152  4466542  44665   553          42  53.187367  50.118558      1.0\n",
       "7043    152  4466541  44665    38          41  53.192697  50.122152      1.0\n",
       "7044    152  4466540  44665    37          40  53.194078  50.123089      1.0\n",
       "7045    152  4466539  44665    44          39  53.199276  50.130360      1.0"
      ]
     },
     "execution_count": 31,
     "metadata": {},
     "output_type": "execute_result"
    }
   ],
   "source": [
    "stop_seq_select.head()"
   ]
  },
  {
   "cell_type": "code",
   "execution_count": 32,
   "metadata": {},
   "outputs": [],
   "source": [
    "gss = geopandas.GeoDataFrame(stop_seq_select, geometry=geopandas.points_from_xy(stop_seq_select.ss_long, stop_seq_select.ss_lat))\n",
    "gss.crs='epsg:4326'"
   ]
  },
  {
   "cell_type": "code",
   "execution_count": 33,
   "metadata": {},
   "outputs": [
    {
     "data": {
      "text/html": [
       "<div>\n",
       "<style scoped>\n",
       "    .dataframe tbody tr th:only-of-type {\n",
       "        vertical-align: middle;\n",
       "    }\n",
       "\n",
       "    .dataframe tbody tr th {\n",
       "        vertical-align: top;\n",
       "    }\n",
       "\n",
       "    .dataframe thead th {\n",
       "        text-align: right;\n",
       "    }\n",
       "</style>\n",
       "<table border=\"1\" class=\"dataframe\">\n",
       "  <thead>\n",
       "    <tr style=\"text-align: right;\">\n",
       "      <th></th>\n",
       "    </tr>\n",
       "  </thead>\n",
       "  <tbody>\n",
       "  </tbody>\n",
       "</table>\n",
       "</div>"
      ],
      "text/plain": [
       "Empty DataFrame\n",
       "Columns: []\n",
       "Index: []"
      ]
     },
     "execution_count": 33,
     "metadata": {},
     "output_type": "execute_result"
    }
   ],
   "source": [
    "gss.groupby(\"mr_id\").apply(lambda x: x.to_file(fr\"C:/Users/makol/Documents/Python_Scripts/Git/user_scripts/masha_k/Transnavigation/for_project/stop_seq_{x.name}.shp\", driver='ESRI Shapefile'))"
   ]
  },
  {
   "cell_type": "code",
   "execution_count": 141,
   "metadata": {},
   "outputs": [],
   "source": [
    "gss.to_file(fr\"C:/Users/makol/Documents/Python_Scripts/Git/user_scripts/masha_k/Transnavigation/for_project/stop_seq_152.shp\", driver='ESRI Shapefile')"
   ]
  },
  {
   "cell_type": "code",
   "execution_count": 49,
   "metadata": {},
   "outputs": [],
   "source": [
    "graph_marsh=pd.read_csv('marshes_by_graph.csv',encoding='windows-1251',sep=';')"
   ]
  },
  {
   "cell_type": "code",
   "execution_count": 50,
   "metadata": {},
   "outputs": [
    {
     "data": {
      "text/html": [
       "<div>\n",
       "<style scoped>\n",
       "    .dataframe tbody tr th:only-of-type {\n",
       "        vertical-align: middle;\n",
       "    }\n",
       "\n",
       "    .dataframe tbody tr th {\n",
       "        vertical-align: top;\n",
       "    }\n",
       "\n",
       "    .dataframe thead th {\n",
       "        text-align: right;\n",
       "    }\n",
       "</style>\n",
       "<table border=\"1\" class=\"dataframe\">\n",
       "  <thead>\n",
       "    <tr style=\"text-align: right;\">\n",
       "      <th></th>\n",
       "      <th>mv_id</th>\n",
       "      <th>rl_id</th>\n",
       "      <th>rd_orderby</th>\n",
       "      <th>rd_lat</th>\n",
       "      <th>rd_long</th>\n",
       "      <th>linestring</th>\n",
       "    </tr>\n",
       "  </thead>\n",
       "  <tbody>\n",
       "    <tr>\n",
       "      <th>0</th>\n",
       "      <td>13</td>\n",
       "      <td>1365</td>\n",
       "      <td>1</td>\n",
       "      <td>53.190950</td>\n",
       "      <td>50.190492</td>\n",
       "      <td>NaN</td>\n",
       "    </tr>\n",
       "    <tr>\n",
       "      <th>1</th>\n",
       "      <td>13</td>\n",
       "      <td>1365</td>\n",
       "      <td>2</td>\n",
       "      <td>53.190964</td>\n",
       "      <td>50.190988</td>\n",
       "      <td>LINESTRING(50.190492 53.190950,50.190988 53.19...</td>\n",
       "    </tr>\n",
       "    <tr>\n",
       "      <th>2</th>\n",
       "      <td>13</td>\n",
       "      <td>1365</td>\n",
       "      <td>3</td>\n",
       "      <td>53.190966</td>\n",
       "      <td>50.191096</td>\n",
       "      <td>LINESTRING(50.190988 53.190964,50.191096 53.19...</td>\n",
       "    </tr>\n",
       "    <tr>\n",
       "      <th>3</th>\n",
       "      <td>13</td>\n",
       "      <td>1365</td>\n",
       "      <td>4</td>\n",
       "      <td>53.191667</td>\n",
       "      <td>50.191031</td>\n",
       "      <td>LINESTRING(50.191096 53.190966,50.191031 53.19...</td>\n",
       "    </tr>\n",
       "    <tr>\n",
       "      <th>4</th>\n",
       "      <td>13</td>\n",
       "      <td>1365</td>\n",
       "      <td>5</td>\n",
       "      <td>53.191805</td>\n",
       "      <td>50.190975</td>\n",
       "      <td>LINESTRING(50.191031 53.191667,50.190975 53.19...</td>\n",
       "    </tr>\n",
       "  </tbody>\n",
       "</table>\n",
       "</div>"
      ],
      "text/plain": [
       "   mv_id  rl_id  rd_orderby     rd_lat    rd_long  \\\n",
       "0     13   1365           1  53.190950  50.190492   \n",
       "1     13   1365           2  53.190964  50.190988   \n",
       "2     13   1365           3  53.190966  50.191096   \n",
       "3     13   1365           4  53.191667  50.191031   \n",
       "4     13   1365           5  53.191805  50.190975   \n",
       "\n",
       "                                          linestring  \n",
       "0                                                NaN  \n",
       "1  LINESTRING(50.190492 53.190950,50.190988 53.19...  \n",
       "2  LINESTRING(50.190988 53.190964,50.191096 53.19...  \n",
       "3  LINESTRING(50.191096 53.190966,50.191031 53.19...  \n",
       "4  LINESTRING(50.191031 53.191667,50.190975 53.19...  "
      ]
     },
     "execution_count": 50,
     "metadata": {},
     "output_type": "execute_result"
    }
   ],
   "source": [
    "graph_marsh.head()"
   ]
  },
  {
   "cell_type": "code",
   "execution_count": 51,
   "metadata": {},
   "outputs": [
    {
     "data": {
      "text/plain": [
       "178745"
      ]
     },
     "execution_count": 51,
     "metadata": {},
     "output_type": "execute_result"
    }
   ],
   "source": [
    "len(graph_marsh)"
   ]
  },
  {
   "cell_type": "code",
   "execution_count": 53,
   "metadata": {},
   "outputs": [],
   "source": [
    "graph_marsh2=graph_marsh.merge(mr_rl,on='rl_id')\n"
   ]
  },
  {
   "cell_type": "code",
   "execution_count": 54,
   "metadata": {},
   "outputs": [
    {
     "data": {
      "text/plain": [
       "28622"
      ]
     },
     "execution_count": 54,
     "metadata": {},
     "output_type": "execute_result"
    }
   ],
   "source": [
    "len(graph_marsh2)"
   ]
  },
  {
   "cell_type": "code",
   "execution_count": 57,
   "metadata": {},
   "outputs": [],
   "source": [
    "graph_marsh2.to_csv('graph_marsh.csv') "
   ]
  },
  {
   "cell_type": "code",
   "execution_count": 58,
   "metadata": {},
   "outputs": [
    {
     "data": {
      "text/html": [
       "<div>\n",
       "<style scoped>\n",
       "    .dataframe tbody tr th:only-of-type {\n",
       "        vertical-align: middle;\n",
       "    }\n",
       "\n",
       "    .dataframe tbody tr th {\n",
       "        vertical-align: top;\n",
       "    }\n",
       "\n",
       "    .dataframe thead th {\n",
       "        text-align: right;\n",
       "    }\n",
       "</style>\n",
       "<table border=\"1\" class=\"dataframe\">\n",
       "  <thead>\n",
       "    <tr style=\"text-align: right;\">\n",
       "      <th></th>\n",
       "      <th>mv_id</th>\n",
       "      <th>rl_id</th>\n",
       "      <th>rd_orderby</th>\n",
       "      <th>rd_lat</th>\n",
       "      <th>rd_long</th>\n",
       "      <th>linestring</th>\n",
       "      <th>mr_id</th>\n",
       "    </tr>\n",
       "  </thead>\n",
       "  <tbody>\n",
       "    <tr>\n",
       "      <th>0</th>\n",
       "      <td>13</td>\n",
       "      <td>1365</td>\n",
       "      <td>1</td>\n",
       "      <td>53.190950</td>\n",
       "      <td>50.190492</td>\n",
       "      <td>NaN</td>\n",
       "      <td>20</td>\n",
       "    </tr>\n",
       "    <tr>\n",
       "      <th>1</th>\n",
       "      <td>13</td>\n",
       "      <td>1365</td>\n",
       "      <td>2</td>\n",
       "      <td>53.190964</td>\n",
       "      <td>50.190988</td>\n",
       "      <td>LINESTRING(50.190492 53.190950,50.190988 53.19...</td>\n",
       "      <td>20</td>\n",
       "    </tr>\n",
       "    <tr>\n",
       "      <th>2</th>\n",
       "      <td>13</td>\n",
       "      <td>1365</td>\n",
       "      <td>3</td>\n",
       "      <td>53.190966</td>\n",
       "      <td>50.191096</td>\n",
       "      <td>LINESTRING(50.190988 53.190964,50.191096 53.19...</td>\n",
       "      <td>20</td>\n",
       "    </tr>\n",
       "    <tr>\n",
       "      <th>3</th>\n",
       "      <td>13</td>\n",
       "      <td>1365</td>\n",
       "      <td>4</td>\n",
       "      <td>53.191667</td>\n",
       "      <td>50.191031</td>\n",
       "      <td>LINESTRING(50.191096 53.190966,50.191031 53.19...</td>\n",
       "      <td>20</td>\n",
       "    </tr>\n",
       "    <tr>\n",
       "      <th>4</th>\n",
       "      <td>13</td>\n",
       "      <td>1365</td>\n",
       "      <td>5</td>\n",
       "      <td>53.191805</td>\n",
       "      <td>50.190975</td>\n",
       "      <td>LINESTRING(50.191031 53.191667,50.190975 53.19...</td>\n",
       "      <td>20</td>\n",
       "    </tr>\n",
       "  </tbody>\n",
       "</table>\n",
       "</div>"
      ],
      "text/plain": [
       "   mv_id  rl_id  rd_orderby     rd_lat    rd_long  \\\n",
       "0     13   1365           1  53.190950  50.190492   \n",
       "1     13   1365           2  53.190964  50.190988   \n",
       "2     13   1365           3  53.190966  50.191096   \n",
       "3     13   1365           4  53.191667  50.191031   \n",
       "4     13   1365           5  53.191805  50.190975   \n",
       "\n",
       "                                          linestring  mr_id  \n",
       "0                                                NaN     20  \n",
       "1  LINESTRING(50.190492 53.190950,50.190988 53.19...     20  \n",
       "2  LINESTRING(50.190988 53.190964,50.191096 53.19...     20  \n",
       "3  LINESTRING(50.191096 53.190966,50.191031 53.19...     20  \n",
       "4  LINESTRING(50.191031 53.191667,50.190975 53.19...     20  "
      ]
     },
     "execution_count": 58,
     "metadata": {},
     "output_type": "execute_result"
    }
   ],
   "source": [
    "graph_marsh2.head()"
   ]
  },
  {
   "cell_type": "code",
   "execution_count": 59,
   "metadata": {},
   "outputs": [],
   "source": [
    "graph_marsh2['mr_id'].drop_duplicates().to_csv('res.csv')"
   ]
  },
  {
   "cell_type": "code",
   "execution_count": 42,
   "metadata": {},
   "outputs": [
    {
     "name": "stderr",
     "output_type": "stream",
     "text": [
      "Exception ignored in: <function WKTReader.__del__ at 0x0000015A6AEC4678>\n",
      "Traceback (most recent call last):\n",
      "  File \"C:\\Users\\makol\\Anaconda3\\lib\\site-packages\\shapely\\geos.py\", line 272, in __del__\n",
      "    self._lgeos.GEOSWKTReader_destroy(self._reader)\n",
      "KeyboardInterrupt\n"
     ]
    },
    {
     "ename": "KeyboardInterrupt",
     "evalue": "",
     "output_type": "error",
     "traceback": [
      "\u001b[1;31m---------------------------------------------------------------------------\u001b[0m",
      "\u001b[1;31mKeyboardInterrupt\u001b[0m                         Traceback (most recent call last)",
      "\u001b[1;32m<ipython-input-42-fe5828348fcf>\u001b[0m in \u001b[0;36m<module>\u001b[1;34m\u001b[0m\n\u001b[1;32m----> 1\u001b[1;33m \u001b[0mgraph_marsh2\u001b[0m\u001b[1;33m[\u001b[0m\u001b[1;34m'wkt'\u001b[0m\u001b[1;33m]\u001b[0m\u001b[1;33m=\u001b[0m\u001b[0mgraph_marsh2\u001b[0m\u001b[1;33m[\u001b[0m\u001b[1;34m'linestring'\u001b[0m\u001b[1;33m]\u001b[0m\u001b[1;33m.\u001b[0m\u001b[0mapply\u001b[0m\u001b[1;33m(\u001b[0m\u001b[0mwkt\u001b[0m\u001b[1;33m.\u001b[0m\u001b[0mloads\u001b[0m\u001b[1;33m)\u001b[0m\u001b[1;33m\u001b[0m\u001b[1;33m\u001b[0m\u001b[0m\n\u001b[0m",
      "\u001b[1;32m~\\Anaconda3\\lib\\site-packages\\pandas\\core\\series.py\u001b[0m in \u001b[0;36mapply\u001b[1;34m(self, func, convert_dtype, args, **kwds)\u001b[0m\n\u001b[0;32m   3846\u001b[0m             \u001b[1;32melse\u001b[0m\u001b[1;33m:\u001b[0m\u001b[1;33m\u001b[0m\u001b[1;33m\u001b[0m\u001b[0m\n\u001b[0;32m   3847\u001b[0m                 \u001b[0mvalues\u001b[0m \u001b[1;33m=\u001b[0m \u001b[0mself\u001b[0m\u001b[1;33m.\u001b[0m\u001b[0mastype\u001b[0m\u001b[1;33m(\u001b[0m\u001b[0mobject\u001b[0m\u001b[1;33m)\u001b[0m\u001b[1;33m.\u001b[0m\u001b[0mvalues\u001b[0m\u001b[1;33m\u001b[0m\u001b[1;33m\u001b[0m\u001b[0m\n\u001b[1;32m-> 3848\u001b[1;33m                 \u001b[0mmapped\u001b[0m \u001b[1;33m=\u001b[0m \u001b[0mlib\u001b[0m\u001b[1;33m.\u001b[0m\u001b[0mmap_infer\u001b[0m\u001b[1;33m(\u001b[0m\u001b[0mvalues\u001b[0m\u001b[1;33m,\u001b[0m \u001b[0mf\u001b[0m\u001b[1;33m,\u001b[0m \u001b[0mconvert\u001b[0m\u001b[1;33m=\u001b[0m\u001b[0mconvert_dtype\u001b[0m\u001b[1;33m)\u001b[0m\u001b[1;33m\u001b[0m\u001b[1;33m\u001b[0m\u001b[0m\n\u001b[0m\u001b[0;32m   3849\u001b[0m \u001b[1;33m\u001b[0m\u001b[0m\n\u001b[0;32m   3850\u001b[0m         \u001b[1;32mif\u001b[0m \u001b[0mlen\u001b[0m\u001b[1;33m(\u001b[0m\u001b[0mmapped\u001b[0m\u001b[1;33m)\u001b[0m \u001b[1;32mand\u001b[0m \u001b[0misinstance\u001b[0m\u001b[1;33m(\u001b[0m\u001b[0mmapped\u001b[0m\u001b[1;33m[\u001b[0m\u001b[1;36m0\u001b[0m\u001b[1;33m]\u001b[0m\u001b[1;33m,\u001b[0m \u001b[0mSeries\u001b[0m\u001b[1;33m)\u001b[0m\u001b[1;33m:\u001b[0m\u001b[1;33m\u001b[0m\u001b[1;33m\u001b[0m\u001b[0m\n",
      "\u001b[1;32mpandas\\_libs\\lib.pyx\u001b[0m in \u001b[0;36mpandas._libs.lib.map_infer\u001b[1;34m()\u001b[0m\n",
      "\u001b[1;32m~\\Anaconda3\\lib\\site-packages\\shapely\\wkt.py\u001b[0m in \u001b[0;36mloads\u001b[1;34m(data)\u001b[0m\n\u001b[0;32m      8\u001b[0m \u001b[1;32mdef\u001b[0m \u001b[0mloads\u001b[0m\u001b[1;33m(\u001b[0m\u001b[0mdata\u001b[0m\u001b[1;33m)\u001b[0m\u001b[1;33m:\u001b[0m\u001b[1;33m\u001b[0m\u001b[1;33m\u001b[0m\u001b[0m\n\u001b[0;32m      9\u001b[0m     \u001b[1;34m\"\"\"Load a geometry from a WKT string.\"\"\"\u001b[0m\u001b[1;33m\u001b[0m\u001b[1;33m\u001b[0m\u001b[0m\n\u001b[1;32m---> 10\u001b[1;33m     \u001b[1;32mreturn\u001b[0m \u001b[0mgeos\u001b[0m\u001b[1;33m.\u001b[0m\u001b[0mWKTReader\u001b[0m\u001b[1;33m(\u001b[0m\u001b[0mgeos\u001b[0m\u001b[1;33m.\u001b[0m\u001b[0mlgeos\u001b[0m\u001b[1;33m)\u001b[0m\u001b[1;33m.\u001b[0m\u001b[0mread\u001b[0m\u001b[1;33m(\u001b[0m\u001b[0mdata\u001b[0m\u001b[1;33m)\u001b[0m\u001b[1;33m\u001b[0m\u001b[1;33m\u001b[0m\u001b[0m\n\u001b[0m\u001b[0;32m     11\u001b[0m \u001b[1;33m\u001b[0m\u001b[0m\n\u001b[0;32m     12\u001b[0m \u001b[1;32mdef\u001b[0m \u001b[0mload\u001b[0m\u001b[1;33m(\u001b[0m\u001b[0mfp\u001b[0m\u001b[1;33m)\u001b[0m\u001b[1;33m:\u001b[0m\u001b[1;33m\u001b[0m\u001b[1;33m\u001b[0m\u001b[0m\n",
      "\u001b[1;32m~\\Anaconda3\\lib\\site-packages\\shapely\\geos.py\u001b[0m in \u001b[0;36mread\u001b[1;34m(self, text)\u001b[0m\n\u001b[0;32m    281\u001b[0m             \u001b[0mtext\u001b[0m \u001b[1;33m=\u001b[0m \u001b[0mtext\u001b[0m\u001b[1;33m.\u001b[0m\u001b[0mencode\u001b[0m\u001b[1;33m(\u001b[0m\u001b[1;33m)\u001b[0m\u001b[1;33m\u001b[0m\u001b[1;33m\u001b[0m\u001b[0m\n\u001b[0;32m    282\u001b[0m         \u001b[0mc_string\u001b[0m \u001b[1;33m=\u001b[0m \u001b[0mc_char_p\u001b[0m\u001b[1;33m(\u001b[0m\u001b[0mtext\u001b[0m\u001b[1;33m)\u001b[0m\u001b[1;33m\u001b[0m\u001b[1;33m\u001b[0m\u001b[0m\n\u001b[1;32m--> 283\u001b[1;33m         \u001b[0mgeom\u001b[0m \u001b[1;33m=\u001b[0m \u001b[0mself\u001b[0m\u001b[1;33m.\u001b[0m\u001b[0m_lgeos\u001b[0m\u001b[1;33m.\u001b[0m\u001b[0mGEOSWKTReader_read\u001b[0m\u001b[1;33m(\u001b[0m\u001b[0mself\u001b[0m\u001b[1;33m.\u001b[0m\u001b[0m_reader\u001b[0m\u001b[1;33m,\u001b[0m \u001b[0mc_string\u001b[0m\u001b[1;33m)\u001b[0m\u001b[1;33m\u001b[0m\u001b[1;33m\u001b[0m\u001b[0m\n\u001b[0m\u001b[0;32m    284\u001b[0m         \u001b[1;32mif\u001b[0m \u001b[1;32mnot\u001b[0m \u001b[0mgeom\u001b[0m\u001b[1;33m:\u001b[0m\u001b[1;33m\u001b[0m\u001b[1;33m\u001b[0m\u001b[0m\n\u001b[0;32m    285\u001b[0m             raise WKTReadingError(\n",
      "\u001b[1;31mKeyboardInterrupt\u001b[0m: "
     ]
    }
   ],
   "source": [
    "graph_marsh2['wkt']=graph_marsh2['linestring'].apply(wkt.loads)"
   ]
  },
  {
   "cell_type": "code",
   "execution_count": null,
   "metadata": {},
   "outputs": [],
   "source": [
    "graph_marsh2 = gpd.GeoDataFrame(graph_marsh2, geometry='wkt')\n",
    "graph_marsh2.crs='epsg:4326'"
   ]
  },
  {
   "cell_type": "code",
   "execution_count": 43,
   "metadata": {},
   "outputs": [],
   "source": [
    "a = gpd.read_file('All_Marshes_from_TransNavi.shp')"
   ]
  },
  {
   "cell_type": "code",
   "execution_count": 44,
   "metadata": {},
   "outputs": [
    {
     "data": {
      "text/html": [
       "<div>\n",
       "<style scoped>\n",
       "    .dataframe tbody tr th:only-of-type {\n",
       "        vertical-align: middle;\n",
       "    }\n",
       "\n",
       "    .dataframe tbody tr th {\n",
       "        vertical-align: top;\n",
       "    }\n",
       "\n",
       "    .dataframe thead th {\n",
       "        text-align: right;\n",
       "    }\n",
       "</style>\n",
       "<table border=\"1\" class=\"dataframe\">\n",
       "  <thead>\n",
       "    <tr style=\"text-align: right;\">\n",
       "      <th></th>\n",
       "    </tr>\n",
       "  </thead>\n",
       "  <tbody>\n",
       "  </tbody>\n",
       "</table>\n",
       "</div>"
      ],
      "text/plain": [
       "Empty DataFrame\n",
       "Columns: []\n",
       "Index: []"
      ]
     },
     "execution_count": 44,
     "metadata": {},
     "output_type": "execute_result"
    }
   ],
   "source": [
    "a.groupby(\"mr_id\").apply(lambda x: x.to_file(fr\"C:/Users/makol/Documents/Python_Scripts/Git/user_scripts/masha_k/Transnavigation/for_project/graph_marsh_{x.name}.shp\", driver='ESRI Shapefile'))"
   ]
  },
  {
   "cell_type": "code",
   "execution_count": 62,
   "metadata": {},
   "outputs": [],
   "source": [
    "file=gpd.read_file('gdf_rt_time_price.json',encoding='windows-1251')"
   ]
  },
  {
   "cell_type": "code",
   "execution_count": 64,
   "metadata": {},
   "outputs": [],
   "source": [
    "file.to_csv('STZ.csv')"
   ]
  },
  {
   "cell_type": "code",
   "execution_count": null,
   "metadata": {},
   "outputs": [],
   "source": []
  }
 ],
 "metadata": {
  "kernelspec": {
   "display_name": "Python 3",
   "language": "python",
   "name": "python3"
  },
  "language_info": {
   "codemirror_mode": {
    "name": "ipython",
    "version": 3
   },
   "file_extension": ".py",
   "mimetype": "text/x-python",
   "name": "python",
   "nbconvert_exporter": "python",
   "pygments_lexer": "ipython3",
   "version": "3.7.6"
  }
 },
 "nbformat": 4,
 "nbformat_minor": 2
}
